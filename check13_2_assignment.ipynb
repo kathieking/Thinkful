{
 "cells": [
  {
   "cell_type": "markdown",
   "metadata": {},
   "source": [
    "### A/B Testing"
   ]
  },
  {
   "cell_type": "markdown",
   "metadata": {},
   "source": [
    "- two versions: control & test (intervention)\n",
    "- sample, divided into two groups, as similar (key demographics)& random as possible\n",
    "- hypothesis\n",
    "- outcome - what is expected & how it will be measured\n",
    "    *key metric*\n",
    "- other measured variables"
   ]
  },
  {
   "cell_type": "markdown",
   "metadata": {},
   "source": [
    "##### Question 1: Does a new supplement help people sleep better?"
   ]
  },
  {
   "cell_type": "markdown",
   "metadata": {},
   "source": [
    "###### Versions\n",
    "This test requires a control group and a test group. The control group will receive a placebo supplement and the test group will recieve the acutal supplement being tested. Both the placebo and the actual supplement should look exactly the same. Instructions to both groups would be identical. For best results, the tester(s) should also be \"blind\" to whether the supplement is placebo or actual. A Randomized Blind Controlled study is the gold standard. "
   ]
  },
  {
   "cell_type": "markdown",
   "metadata": {},
   "source": [
    "###### Samples\n",
    "Ideally, the sample population should be reflective of the population at large, especially  when testing the effects of any medication or supplement. This is especially important when measuring not only the effectiveness of the supplement, but also for potential side-effects. Attempt to assemble a diverse sample regarding age, race, gender, living conditions/locations, etc. Equally important is the SIZE of the samples. They must be large enough to carry some stasticial weight. \n",
    "The selection of the samples must also consider people who are more/less likely to: take supplements, volunteer for testing, etc. "
   ]
  },
  {
   "cell_type": "markdown",
   "metadata": {},
   "source": [
    "##### Hypothesis\n",
    "The supplement will help people to sleep better. "
   ]
  },
  {
   "cell_type": "markdown",
   "metadata": {},
   "source": [
    "##### Key Metric\n",
    "We must define what better sleep is! For this experiment, better = longer. The key metric will be sleep lasting >7 hours. This may be self-reported or observed in a lab setting. The self-reporting has the advantage of allowing people to sleep in their own beds. The lab setting has the advantage of more accurate observation of effect. This questions would likely be decided by funding for the study. "
   ]
  },
  {
   "cell_type": "markdown",
   "metadata": {},
   "source": [
    "##### Other Variables\n",
    "There are many other variable to consider. Better sleep to some may mean falling asleep *faster*. Other measures of better sleep may also be considered: number of times awakened overnight, feeling rested in the morning, etc.\n",
    "\n",
    "Also of significant importanct in this type of testing is reporting of side-effects: nausea, headache, drymouth, hangover, etc are common drug/supplement side-effects. A list of potential/common side-effects should be prepared for participants to comment on. \n",
    "\n",
    "Factors like drug-drug interactions must also be considered. "
   ]
  },
  {
   "cell_type": "markdown",
   "metadata": {},
   "source": [
    "#### Question 2: Will new uniforms help a gym's business?"
   ]
  },
  {
   "cell_type": "markdown",
   "metadata": {},
   "source": [
    "##### Versions\n",
    "This test may be more challenging depending on the number of locations of the business. If there is only one location, the decision must be made to either have the employees wear uniforms on certain days/times or to have only some employees wear uniforms. It seems most reasonable to compare the results of the employees now wearing uniforms to a similar time-frame in the past (retrospectively)."
   ]
  },
  {
   "cell_type": "markdown",
   "metadata": {},
   "source": [
    "###### Samples\n",
    "In order for the test to be valid, the characateristics of the retrospective sample must be known. If they are not known, measurements must be made prospectively of the sample of clients interacting with staff both with uniforms and without. Considerations include: time of year, time of day, length of time measured, etc. "
   ]
  },
  {
   "cell_type": "markdown",
   "metadata": {},
   "source": [
    "##### Hypothesis\n",
    "Uniforms will improve a gym's business by increasing new membership."
   ]
  },
  {
   "cell_type": "markdown",
   "metadata": {},
   "source": [
    "##### Key Metric\n",
    "New membership"
   ]
  },
  {
   "cell_type": "markdown",
   "metadata": {},
   "source": [
    "##### Other Variables\n",
    "Member retention, gym visits per x, sales of other items (food/drink, equipment, clothing, training sessions)."
   ]
  },
  {
   "cell_type": "markdown",
   "metadata": {},
   "source": [
    "#### Question 3: Will a new homepage improve my online exotic pet rental business?"
   ]
  },
  {
   "cell_type": "markdown",
   "metadata": {},
   "source": [
    "##### Versions\n",
    "If possible, I would set up two versions of the webpage and have"
   ]
  },
  {
   "cell_type": "markdown",
   "metadata": {},
   "source": [
    "###### Samples"
   ]
  },
  {
   "cell_type": "markdown",
   "metadata": {},
   "source": [
    "##### Hypothesis"
   ]
  },
  {
   "cell_type": "markdown",
   "metadata": {},
   "source": [
    "##### Key Metric"
   ]
  },
  {
   "cell_type": "markdown",
   "metadata": {},
   "source": [
    "##### Other Variables"
   ]
  },
  {
   "cell_type": "markdown",
   "metadata": {},
   "source": [
    "#### Question 4: If I put 'please read' in the email subject will more people read my emails?"
   ]
  },
  {
   "cell_type": "markdown",
   "metadata": {},
   "source": [
    "##### Versions"
   ]
  },
  {
   "cell_type": "markdown",
   "metadata": {},
   "source": [
    "###### Samples"
   ]
  },
  {
   "cell_type": "markdown",
   "metadata": {},
   "source": [
    "##### Hypothesis"
   ]
  },
  {
   "cell_type": "markdown",
   "metadata": {},
   "source": [
    "##### Key Metric"
   ]
  },
  {
   "cell_type": "markdown",
   "metadata": {},
   "source": [
    "##### Other Variables"
   ]
  },
  {
   "cell_type": "code",
   "execution_count": null,
   "metadata": {},
   "outputs": [],
   "source": []
  }
 ],
 "metadata": {
  "kernelspec": {
   "display_name": "Python 3",
   "language": "python",
   "name": "python3"
  },
  "language_info": {
   "codemirror_mode": {
    "name": "ipython",
    "version": 3
   },
   "file_extension": ".py",
   "mimetype": "text/x-python",
   "name": "python",
   "nbconvert_exporter": "python",
   "pygments_lexer": "ipython3",
   "version": "3.7.3"
  }
 },
 "nbformat": 4,
 "nbformat_minor": 2
}
