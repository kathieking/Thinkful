{
 "cells": [
  {
   "cell_type": "markdown",
   "metadata": {},
   "source": [
    "## Data Source and information"
   ]
  },
  {
   "cell_type": "markdown",
   "metadata": {},
   "source": [
    "data source: https://healthdata.gov/dataset/hospital-readmission-reduction/resource/f3830eb1-2d22-496c-b663-46b54e175d9f"
   ]
  },
  {
   "cell_type": "markdown",
   "metadata": {},
   "source": [
    "https://healthdata.gov/dataset/hospital-readmission-reduction\n",
    "\n",
    "In October 2012, CMS began reducing Medicare payments for Inpatient Prospective Payment System hospitals with excess readmissions. Excess readmissions are measured by a ratio, by dividing a hospital’s number of “predicted” 30-day readmissions for heart attack, heart failure, and pneumonia by the number that would be “expected,” based on an average hospital with similar patients. A ratio greater than 1 indicates excess readmissions."
   ]
  },
  {
   "cell_type": "markdown",
   "metadata": {},
   "source": [
    "https://data.medicare.gov/data/hospital-compare\n",
    "Hospital Compare is a consumer-oriented website that provides information on the quality of care hospitals are providing to their patients. This information can help consumers make informed decisions about health care. Hospital Compare allows consumers to select multiple hospitals and directly compare performance measure information related to heart attack, emergency department care, preventive care, stroke care, and other conditions. The Centers for Medicare & Medicaid Services (CMS) created the Hospital Compare website to better inform health care consumers about a hospital’s quality of care. Hospital Compare provides data on over 4,000 Medicare-certified hospitals, including acute care hospitals, critical access hospitals (CAHs), children’s hospitals, Veterans Health Administration (VHA) Medical Centers, and hospital outpatient departments. Hospital Compare is part of an Administration-wide effort to increase the availability and accessibility of information on quality, utilization, and costs for effective, informed decision-making. More information about Hospital Compare can be found by visiting the CMS.gov website and performing a search for Hospital Compare. To access the Hospital Compare website, please visit www.medicare.gov/hospitalcompare. "
   ]
  },
  {
   "cell_type": "markdown",
   "metadata": {},
   "source": [
    "https://www.medicare.gov/hospitalcompare/Data/Data-Updated.html#%20\n",
    "measures & current data period"
   ]
  },
  {
   "cell_type": "markdown",
   "metadata": {},
   "source": [
    "## https://www.medicare.gov/hospitalcompare/Data/Hospital-overall-ratings-calculation.html\n",
    "\n",
    "hospital compare overall hospital rating\n",
    "n = 4,573\n",
    "distribution of stars (N/A, 1-5)\n",
    "\n",
    "The methodology uses a statistical model known as a latent variable model. Seven different latent variable models are used to calculate scores for 7 groups of measures.\n",
    "Mortality\n",
    "Safety of Care\n",
    "Readmission\n",
    "Patient Experience\n",
    "Effectiveness of Care\n",
    "Timeliness of Care\n",
    "Efficient Use of Medical Imaging\n",
    "\n",
    "A hospital summary score is then calculated by taking the weighted average of these group scores. If a hospital is missing a measure category or group, the weights are redistributed amongst the qualifying measure categories or groups.\n",
    "Finally, the overall hospital rating is calculated using the hospital summary score."
   ]
  },
  {
   "cell_type": "markdown",
   "metadata": {},
   "source": [
    "## Load data files"
   ]
  },
  {
   "cell_type": "code",
   "execution_count": 1,
   "metadata": {},
   "outputs": [],
   "source": [
    "import numpy as np\n",
    "import pandas as pd\n",
    "import scipy\n",
    "import matplotlib.pyplot as plt\n",
    "import seaborn as sns\n",
    "%matplotlib inline"
   ]
  },
  {
   "cell_type": "code",
   "execution_count": 3,
   "metadata": {},
   "outputs": [],
   "source": [
    "hcahps_df = pd.read_csv(r'C:\\Users\\katec\\Thinkful\\data_collections\\capstone_3\\hcahps_ratings.csv')"
   ]
  },
  {
   "cell_type": "code",
   "execution_count": null,
   "metadata": {},
   "outputs": [],
   "source": [
    "https://healthdata.gov/dataset/hcahps-hospital"
   ]
  },
  {
   "cell_type": "markdown",
   "metadata": {},
   "source": [
    "## Cleaning data"
   ]
  },
  {
   "cell_type": "markdown",
   "metadata": {},
   "source": [
    "### reduce each file to relevant data only"
   ]
  },
  {
   "cell_type": "code",
   "execution_count": null,
   "metadata": {},
   "outputs": [],
   "source": []
  },
  {
   "cell_type": "code",
   "execution_count": 4,
   "metadata": {},
   "outputs": [
    {
     "data": {
      "text/html": [
       "<div>\n",
       "<style scoped>\n",
       "    .dataframe tbody tr th:only-of-type {\n",
       "        vertical-align: middle;\n",
       "    }\n",
       "\n",
       "    .dataframe tbody tr th {\n",
       "        vertical-align: top;\n",
       "    }\n",
       "\n",
       "    .dataframe thead th {\n",
       "        text-align: right;\n",
       "    }\n",
       "</style>\n",
       "<table border=\"1\" class=\"dataframe\">\n",
       "  <thead>\n",
       "    <tr style=\"text-align: right;\">\n",
       "      <th></th>\n",
       "      <th>Provider ID</th>\n",
       "      <th>Hospital Name</th>\n",
       "      <th>Address</th>\n",
       "      <th>City</th>\n",
       "      <th>State</th>\n",
       "      <th>ZIP Code</th>\n",
       "      <th>County Name</th>\n",
       "      <th>Phone Number</th>\n",
       "      <th>HCAHPS Measure ID</th>\n",
       "      <th>HCAHPS Question</th>\n",
       "      <th>...</th>\n",
       "      <th>Patient Survey Star Rating Footnote</th>\n",
       "      <th>HCAHPS Answer Percent</th>\n",
       "      <th>HCAHPS Answer Percent Footnote</th>\n",
       "      <th>HCAHPS Linear Mean Value</th>\n",
       "      <th>Number of Completed Surveys</th>\n",
       "      <th>Number of Completed Surveys Footnote</th>\n",
       "      <th>Survey Response Rate Percent</th>\n",
       "      <th>Survey Response Rate Percent Footnote</th>\n",
       "      <th>Measure Start Date</th>\n",
       "      <th>Measure End Date</th>\n",
       "    </tr>\n",
       "  </thead>\n",
       "  <tbody>\n",
       "    <tr>\n",
       "      <th>0</th>\n",
       "      <td>10001</td>\n",
       "      <td>SOUTHEAST ALABAMA MEDICAL CENTER</td>\n",
       "      <td>1108 ROSS CLARK CIRCLE</td>\n",
       "      <td>DOTHAN</td>\n",
       "      <td>AL</td>\n",
       "      <td>36301</td>\n",
       "      <td>HOUSTON</td>\n",
       "      <td>3347938701</td>\n",
       "      <td>H_COMP_1_A_P</td>\n",
       "      <td>Patients who reported that their nurses \"Alway...</td>\n",
       "      <td>...</td>\n",
       "      <td>NaN</td>\n",
       "      <td>72</td>\n",
       "      <td>NaN</td>\n",
       "      <td>Not Applicable</td>\n",
       "      <td>526</td>\n",
       "      <td>NaN</td>\n",
       "      <td>21</td>\n",
       "      <td>NaN</td>\n",
       "      <td>10/1/2017</td>\n",
       "      <td>9/30/2018</td>\n",
       "    </tr>\n",
       "    <tr>\n",
       "      <th>1</th>\n",
       "      <td>10001</td>\n",
       "      <td>SOUTHEAST ALABAMA MEDICAL CENTER</td>\n",
       "      <td>1108 ROSS CLARK CIRCLE</td>\n",
       "      <td>DOTHAN</td>\n",
       "      <td>AL</td>\n",
       "      <td>36301</td>\n",
       "      <td>HOUSTON</td>\n",
       "      <td>3347938701</td>\n",
       "      <td>H_COMP_1_SN_P</td>\n",
       "      <td>Patients who reported that their nurses \"Somet...</td>\n",
       "      <td>...</td>\n",
       "      <td>NaN</td>\n",
       "      <td>9</td>\n",
       "      <td>NaN</td>\n",
       "      <td>Not Applicable</td>\n",
       "      <td>526</td>\n",
       "      <td>NaN</td>\n",
       "      <td>21</td>\n",
       "      <td>NaN</td>\n",
       "      <td>10/1/2017</td>\n",
       "      <td>9/30/2018</td>\n",
       "    </tr>\n",
       "    <tr>\n",
       "      <th>2</th>\n",
       "      <td>10001</td>\n",
       "      <td>SOUTHEAST ALABAMA MEDICAL CENTER</td>\n",
       "      <td>1108 ROSS CLARK CIRCLE</td>\n",
       "      <td>DOTHAN</td>\n",
       "      <td>AL</td>\n",
       "      <td>36301</td>\n",
       "      <td>HOUSTON</td>\n",
       "      <td>3347938701</td>\n",
       "      <td>H_COMP_1_U_P</td>\n",
       "      <td>Patients who reported that their nurses \"Usual...</td>\n",
       "      <td>...</td>\n",
       "      <td>NaN</td>\n",
       "      <td>19</td>\n",
       "      <td>NaN</td>\n",
       "      <td>Not Applicable</td>\n",
       "      <td>526</td>\n",
       "      <td>NaN</td>\n",
       "      <td>21</td>\n",
       "      <td>NaN</td>\n",
       "      <td>10/1/2017</td>\n",
       "      <td>9/30/2018</td>\n",
       "    </tr>\n",
       "  </tbody>\n",
       "</table>\n",
       "<p>3 rows × 22 columns</p>\n",
       "</div>"
      ],
      "text/plain": [
       "  Provider ID                     Hospital Name                 Address  \\\n",
       "0       10001  SOUTHEAST ALABAMA MEDICAL CENTER  1108 ROSS CLARK CIRCLE   \n",
       "1       10001  SOUTHEAST ALABAMA MEDICAL CENTER  1108 ROSS CLARK CIRCLE   \n",
       "2       10001  SOUTHEAST ALABAMA MEDICAL CENTER  1108 ROSS CLARK CIRCLE   \n",
       "\n",
       "     City State  ZIP Code County Name  Phone Number HCAHPS Measure ID  \\\n",
       "0  DOTHAN    AL     36301     HOUSTON    3347938701      H_COMP_1_A_P   \n",
       "1  DOTHAN    AL     36301     HOUSTON    3347938701     H_COMP_1_SN_P   \n",
       "2  DOTHAN    AL     36301     HOUSTON    3347938701      H_COMP_1_U_P   \n",
       "\n",
       "                                     HCAHPS Question  ...  \\\n",
       "0  Patients who reported that their nurses \"Alway...  ...   \n",
       "1  Patients who reported that their nurses \"Somet...  ...   \n",
       "2  Patients who reported that their nurses \"Usual...  ...   \n",
       "\n",
       "  Patient Survey Star Rating Footnote HCAHPS Answer Percent  \\\n",
       "0                                 NaN                    72   \n",
       "1                                 NaN                     9   \n",
       "2                                 NaN                    19   \n",
       "\n",
       "  HCAHPS Answer Percent Footnote HCAHPS Linear Mean Value  \\\n",
       "0                            NaN           Not Applicable   \n",
       "1                            NaN           Not Applicable   \n",
       "2                            NaN           Not Applicable   \n",
       "\n",
       "  Number of Completed Surveys Number of Completed Surveys Footnote  \\\n",
       "0                         526                                  NaN   \n",
       "1                         526                                  NaN   \n",
       "2                         526                                  NaN   \n",
       "\n",
       "  Survey Response Rate Percent Survey Response Rate Percent Footnote  \\\n",
       "0                           21                                   NaN   \n",
       "1                           21                                   NaN   \n",
       "2                           21                                   NaN   \n",
       "\n",
       "  Measure Start Date Measure End Date  \n",
       "0          10/1/2017        9/30/2018  \n",
       "1          10/1/2017        9/30/2018  \n",
       "2          10/1/2017        9/30/2018  \n",
       "\n",
       "[3 rows x 22 columns]"
      ]
     },
     "execution_count": 4,
     "metadata": {},
     "output_type": "execute_result"
    }
   ],
   "source": [
    "hcahps_df.head(3)"
   ]
  },
  {
   "cell_type": "code",
   "execution_count": 5,
   "metadata": {},
   "outputs": [
    {
     "name": "stdout",
     "output_type": "stream",
     "text": [
      "<class 'pandas.core.frame.DataFrame'>\n",
      "RangeIndex: 455235 entries, 0 to 455234\n",
      "Data columns (total 22 columns):\n",
      "Provider ID                              455235 non-null object\n",
      "Hospital Name                            455235 non-null object\n",
      "Address                                  455235 non-null object\n",
      "City                                     455235 non-null object\n",
      "State                                    455235 non-null object\n",
      "ZIP Code                                 455235 non-null int64\n",
      "County Name                              455235 non-null object\n",
      "Phone Number                             455235 non-null int64\n",
      "HCAHPS Measure ID                        455235 non-null object\n",
      "HCAHPS Question                          455235 non-null object\n",
      "HCAHPS Answer Description                455235 non-null object\n",
      "Patient Survey Star Rating               455235 non-null object\n",
      "Patient Survey Star Rating Footnote      15103 non-null object\n",
      "HCAHPS Answer Percent                    455235 non-null object\n",
      "HCAHPS Answer Percent Footnote           108936 non-null object\n",
      "HCAHPS Linear Mean Value                 455235 non-null object\n",
      "Number of Completed Surveys              455235 non-null object\n",
      "Number of Completed Surveys Footnote     140709 non-null object\n",
      "Survey Response Rate Percent             455235 non-null object\n",
      "Survey Response Rate Percent Footnote    140709 non-null object\n",
      "Measure Start Date                       455235 non-null object\n",
      "Measure End Date                         455235 non-null object\n",
      "dtypes: int64(2), object(20)\n",
      "memory usage: 76.4+ MB\n"
     ]
    }
   ],
   "source": [
    "hcahps_df.info()"
   ]
  },
  {
   "cell_type": "code",
   "execution_count": 6,
   "metadata": {},
   "outputs": [],
   "source": [
    "hcahps_df = hcahps_df.drop(['Address', 'City', 'ZIP Code', 'County Name', 'Phone Number', 'HCAHPS Answer Percent Footnote',\n",
    "              'Patient Survey Star Rating Footnote', 'Number of Completed Surveys Footnote',\n",
    "              'Survey Response Rate Percent Footnote', 'Measure Start Date', 'Measure End Date'], axis=1)"
   ]
  },
  {
   "cell_type": "code",
   "execution_count": null,
   "metadata": {},
   "outputs": [],
   "source": [
    "#keeping all questions for now; figure out what to do with number of completed surveys - \n",
    "#weight responses based on total surveys?; get_dummies?\n",
    "#also, fill Nan for star values with fake or repeat same star rate for each subcategory?"
   ]
  },
  {
   "cell_type": "code",
   "execution_count": 7,
   "metadata": {},
   "outputs": [
    {
     "data": {
      "text/plain": [
       "array(['H_COMP_1_A_P', 'H_COMP_1_SN_P', 'H_COMP_1_U_P',\n",
       "       'H_COMP_1_LINEAR_SCORE', 'H_COMP_1_STAR_RATING',\n",
       "       'H_NURSE_RESPECT_A_P', 'H_NURSE_RESPECT_SN_P',\n",
       "       'H_NURSE_RESPECT_U_P', 'H_NURSE_LISTEN_A_P', 'H_NURSE_LISTEN_SN_P',\n",
       "       'H_NURSE_LISTEN_U_P', 'H_NURSE_EXPLAIN_A_P',\n",
       "       'H_NURSE_EXPLAIN_SN_P', 'H_NURSE_EXPLAIN_U_P', 'H_COMP_2_A_P',\n",
       "       'H_COMP_2_SN_P', 'H_COMP_2_U_P', 'H_COMP_2_LINEAR_SCORE',\n",
       "       'H_COMP_2_STAR_RATING', 'H_DOCTOR_RESPECT_A_P',\n",
       "       'H_DOCTOR_RESPECT_SN_P', 'H_DOCTOR_RESPECT_U_P',\n",
       "       'H_DOCTOR_LISTEN_A_P', 'H_DOCTOR_LISTEN_SN_P',\n",
       "       'H_DOCTOR_LISTEN_U_P', 'H_DOCTOR_EXPLAIN_A_P',\n",
       "       'H_DOCTOR_EXPLAIN_SN_P', 'H_DOCTOR_EXPLAIN_U_P', 'H_COMP_3_A_P',\n",
       "       'H_COMP_3_SN_P', 'H_COMP_3_U_P', 'H_COMP_3_LINEAR_SCORE',\n",
       "       'H_COMP_3_STAR_RATING', 'H_CALL_BUTTON_A_P', 'H_CALL_BUTTON_SN_P',\n",
       "       'H_CALL_BUTTON_U_P', 'H_BATH_HELP_A_P', 'H_BATH_HELP_SN_P',\n",
       "       'H_BATH_HELP_U_P', 'H_COMP_5_A_P', 'H_COMP_5_SN_P', 'H_COMP_5_U_P',\n",
       "       'H_COMP_5_LINEAR_SCORE', 'H_COMP_5_STAR_RATING', 'H_MED_FOR_A_P',\n",
       "       'H_MED_FOR_SN_P', 'H_MED_FOR_U_P', 'H_SIDE_EFFECTS_A_P',\n",
       "       'H_SIDE_EFFECTS_SN_P', 'H_SIDE_EFFECTS_U_P', 'H_COMP_6_N_P',\n",
       "       'H_COMP_6_Y_P', 'H_COMP_6_LINEAR_SCORE', 'H_COMP_6_STAR_RATING',\n",
       "       'H_DISCH_HELP_N_P', 'H_DISCH_HELP_Y_P', 'H_SYMPTOMS_N_P',\n",
       "       'H_SYMPTOMS_Y_P', 'H_COMP_7_A', 'H_COMP_7_D_SD', 'H_COMP_7_SA',\n",
       "       'H_COMP_7_LINEAR_SCORE', 'H_COMP_7_STAR_RATING', 'H_CT_PREFER_A',\n",
       "       'H_CT_PREFER_D_SD', 'H_CT_PREFER_SA', 'H_CT_UNDER_A',\n",
       "       'H_CT_UNDER_D_SD', 'H_CT_UNDER_SA', 'H_CT_MED_A', 'H_CT_MED_D_SD',\n",
       "       'H_CT_MED_SA', 'H_CLEAN_HSP_A_P', 'H_CLEAN_HSP_SN_P',\n",
       "       'H_CLEAN_HSP_U_P', 'H_CLEAN_LINEAR_SCORE', 'H_CLEAN_STAR_RATING',\n",
       "       'H_QUIET_HSP_A_P', 'H_QUIET_HSP_SN_P', 'H_QUIET_HSP_U_P',\n",
       "       'H_QUIET_LINEAR_SCORE', 'H_QUIET_STAR_RATING', 'H_HSP_RATING_0_6',\n",
       "       'H_HSP_RATING_7_8', 'H_HSP_RATING_9_10',\n",
       "       'H_HSP_RATING_LINEAR_SCORE', 'H_HSP_RATING_STAR_RATING',\n",
       "       'H_RECMND_DN', 'H_RECMND_DY', 'H_RECMND_PY',\n",
       "       'H_RECMND_LINEAR_SCORE', 'H_RECMND_STAR_RATING', 'H_STAR_RATING'],\n",
       "      dtype=object)"
      ]
     },
     "execution_count": 7,
     "metadata": {},
     "output_type": "execute_result"
    }
   ],
   "source": [
    "hcahps_df['HCAHPS Measure ID'].unique()"
   ]
  },
  {
   "cell_type": "markdown",
   "metadata": {},
   "source": [
    "# Slack question:\n",
    "Currently each of these values (above and below) represent ROWS in the dataframe that are QUESTIONS in a survey. All these values are contained under the column 'HCAHPS Measure ID'. \n",
    "\n",
    "Each question/row essentially contains the answer. For example, the question doesn't ask: \"Did your nurse communicate well with you?\" and then given them the choice of answering \"Always,\" \"sometimes,\" or \"usually.\" The question would be: \"Patients who reported that their nurses \"Always\" communicated well\" or \"Patients who reported that their nurses \"Sometimes\" communicated well\", etc, so that every question/answer combo is a separate row with the 'HCAHPS Answer Percent' containing the percentage of all possible answers in one column but different rows. \n",
    "\n",
    "I would like to use the answers (7 possible answers) as features in my model. I THINK I will need to create a column for each answer. I would like to combine the  3 \"questions\" into one row and somehow transfer the \"answer\" to one of the 7 new columns like so: \n",
    "\n",
    "column head: hospital     question    always     sometimes/never    usually   hosp <6   hosp 7-8  hosp 9-10  recommend\n",
    "ABC Hospital        Nurse communicate  42         75                67        0        0         0           0\n",
    "\n",
    "instead of :\n",
    "hospital      question                    answer\n",
    "ABC hosp      nurse always communicate    42\n",
    "ABC hosp      nurse sometimes commumic    75\n",
    "ABC hsop      nurese usually communic     67\n",
    "\n",
    "HOW DO I DO THAT??"
   ]
  },
  {
   "cell_type": "code",
   "execution_count": null,
   "metadata": {},
   "outputs": [],
   "source": [
    "#question 1: nurses communication\n",
    "'H_COMP_1_A_P', 'H_COMP_1_SN_P', 'H_COMP_1_U_P',\n",
    "       'H_COMP_1_LINEAR_SCORE', 'H_COMP_1_STAR_RATING',"
   ]
  },
  {
   "cell_type": "code",
   "execution_count": null,
   "metadata": {},
   "outputs": [],
   "source": [
    "'H_NURSE_RESPECT_A_P', 'H_NURSE_RESPECT_SN_P',\n",
    "       'H_NURSE_RESPECT_U_P', "
   ]
  },
  {
   "cell_type": "code",
   "execution_count": null,
   "metadata": {},
   "outputs": [],
   "source": [
    " 'H_NURSE_LISTEN_A_P', 'H_NURSE_LISTEN_SN_P',\n",
    "       'H_NURSE_LISTEN_U_P',"
   ]
  },
  {
   "cell_type": "code",
   "execution_count": null,
   "metadata": {},
   "outputs": [],
   "source": [
    "'H_NURSE_EXPLAIN_A_P',\n",
    "       'H_NURSE_EXPLAIN_SN_P', 'H_NURSE_EXPLAIN_U_P', "
   ]
  },
  {
   "cell_type": "code",
   "execution_count": null,
   "metadata": {},
   "outputs": [],
   "source": [
    " 'H_COMP_2_A_P',\n",
    "       'H_COMP_2_SN_P', 'H_COMP_2_U_P', 'H_COMP_2_LINEAR_SCORE',\n",
    "       'H_COMP_2_STAR_RATING',"
   ]
  },
  {
   "cell_type": "code",
   "execution_count": null,
   "metadata": {},
   "outputs": [],
   "source": [
    "'H_DOCTOR_RESPECT_A_P',\n",
    "       'H_DOCTOR_RESPECT_SN_P', 'H_DOCTOR_RESPECT_U_P',"
   ]
  },
  {
   "cell_type": "code",
   "execution_count": null,
   "metadata": {},
   "outputs": [],
   "source": [
    "'H_DOCTOR_LISTEN_A_P', 'H_DOCTOR_LISTEN_SN_P',\n",
    "       'H_DOCTOR_LISTEN_U_P', "
   ]
  },
  {
   "cell_type": "code",
   "execution_count": null,
   "metadata": {},
   "outputs": [],
   "source": [
    "'H_DOCTOR_EXPLAIN_A_P',\n",
    "       'H_DOCTOR_EXPLAIN_SN_P', 'H_DOCTOR_EXPLAIN_U_P', "
   ]
  },
  {
   "cell_type": "code",
   "execution_count": null,
   "metadata": {},
   "outputs": [],
   "source": [
    " 'H_COMP_3_A_P',\n",
    "       'H_COMP_3_SN_P', 'H_COMP_3_U_P', 'H_COMP_3_LINEAR_SCORE',\n",
    "       'H_COMP_3_STAR_RATING', "
   ]
  },
  {
   "cell_type": "code",
   "execution_count": null,
   "metadata": {},
   "outputs": [],
   "source": [
    " 'H_CALL_BUTTON_A_P', 'H_CALL_BUTTON_SN_P',\n",
    "       'H_CALL_BUTTON_U_P', "
   ]
  },
  {
   "cell_type": "code",
   "execution_count": null,
   "metadata": {},
   "outputs": [],
   "source": [
    "'H_BATH_HELP_A_P', 'H_BATH_HELP_SN_P',\n",
    "       'H_BATH_HELP_U_P',"
   ]
  },
  {
   "cell_type": "code",
   "execution_count": null,
   "metadata": {},
   "outputs": [],
   "source": [
    "'H_COMP_5_A_P', 'H_COMP_5_SN_P', 'H_COMP_5_U_P',\n",
    "       'H_COMP_5_LINEAR_SCORE', 'H_COMP_5_STAR_RATING', "
   ]
  },
  {
   "cell_type": "code",
   "execution_count": null,
   "metadata": {},
   "outputs": [],
   "source": [
    "'H_MED_FOR_A_P',\n",
    "       'H_MED_FOR_SN_P', 'H_MED_FOR_U_P', "
   ]
  },
  {
   "cell_type": "code",
   "execution_count": null,
   "metadata": {},
   "outputs": [],
   "source": [
    "'H_SIDE_EFFECTS_A_P',\n",
    "       'H_SIDE_EFFECTS_SN_P', 'H_SIDE_EFFECTS_U_P', "
   ]
  },
  {
   "cell_type": "code",
   "execution_count": null,
   "metadata": {},
   "outputs": [],
   "source": [
    "#yes/no, yes = always, no = sometimes/never\n",
    "'H_COMP_6_N_P',\n",
    "       'H_COMP_6_Y_P', 'H_COMP_6_LINEAR_SCORE', 'H_COMP_6_STAR_RATING',"
   ]
  },
  {
   "cell_type": "code",
   "execution_count": null,
   "metadata": {},
   "outputs": [],
   "source": [
    " 'H_DISCH_HELP_N_P', 'H_DISCH_HELP_Y_P',"
   ]
  },
  {
   "cell_type": "code",
   "execution_count": null,
   "metadata": {},
   "outputs": [],
   "source": [
    "'H_SYMPTOMS_N_P',\n",
    "       'H_SYMPTOMS_Y_P',"
   ]
  },
  {
   "cell_type": "code",
   "execution_count": null,
   "metadata": {},
   "outputs": [],
   "source": [
    " 'H_COMP_7_A', 'H_COMP_7_D_SD', 'H_COMP_7_SA',\n",
    "       'H_COMP_7_LINEAR_SCORE', 'H_COMP_7_STAR_RATING',"
   ]
  },
  {
   "cell_type": "code",
   "execution_count": null,
   "metadata": {},
   "outputs": [],
   "source": [
    "'H_CT_PREFER_A',\n",
    "       'H_CT_PREFER_D_SD', 'H_CT_PREFER_SA', "
   ]
  },
  {
   "cell_type": "code",
   "execution_count": null,
   "metadata": {},
   "outputs": [],
   "source": [
    " 'H_CT_UNDER_A',\n",
    "       'H_CT_UNDER_D_SD', 'H_CT_UNDER_SA', "
   ]
  },
  {
   "cell_type": "code",
   "execution_count": null,
   "metadata": {},
   "outputs": [],
   "source": [
    "'H_CT_MED_A', 'H_CT_MED_D_SD',\n",
    "       'H_CT_MED_SA', "
   ]
  },
  {
   "cell_type": "code",
   "execution_count": null,
   "metadata": {},
   "outputs": [],
   "source": [
    "'H_CLEAN_HSP_A_P', 'H_CLEAN_HSP_SN_P',\n",
    "       'H_CLEAN_HSP_U_P', 'H_CLEAN_LINEAR_SCORE', 'H_CLEAN_STAR_RATING',"
   ]
  },
  {
   "cell_type": "code",
   "execution_count": null,
   "metadata": {},
   "outputs": [],
   "source": [
    " 'H_QUIET_HSP_A_P', 'H_QUIET_HSP_SN_P', 'H_QUIET_HSP_U_P',\n",
    "       'H_QUIET_LINEAR_SCORE', 'H_QUIET_STAR_RATING', "
   ]
  },
  {
   "cell_type": "code",
   "execution_count": null,
   "metadata": {},
   "outputs": [],
   "source": [
    "'H_HSP_RATING_0_6',\n",
    "       'H_HSP_RATING_7_8', 'H_HSP_RATING_9_10',\n",
    "       'H_HSP_RATING_LINEAR_SCORE', 'H_HSP_RATING_STAR_RATING',"
   ]
  },
  {
   "cell_type": "code",
   "execution_count": null,
   "metadata": {},
   "outputs": [],
   "source": [
    "'H_RECMND_DN', 'H_RECMND_DY', 'H_RECMND_PY',\n",
    "       'H_RECMND_LINEAR_SCORE', 'H_RECMND_STAR_RATING', 'H_STAR_RATING'"
   ]
  },
  {
   "cell_type": "code",
   "execution_count": null,
   "metadata": {},
   "outputs": [],
   "source": []
  },
  {
   "cell_type": "code",
   "execution_count": null,
   "metadata": {},
   "outputs": [],
   "source": []
  },
  {
   "cell_type": "code",
   "execution_count": null,
   "metadata": {},
   "outputs": [],
   "source": []
  },
  {
   "cell_type": "markdown",
   "metadata": {},
   "source": [
    "### convert objects to floats"
   ]
  },
  {
   "cell_type": "code",
   "execution_count": null,
   "metadata": {},
   "outputs": [],
   "source": [
    "unplan_readm_df, convert cols \n",
    "readm_red_df, convert cols + Provider ID to non-null object\n",
    "mort_meas_df, convert cols \n",
    "hcahps_df, convert cols \n",
    "gen_info_df, + Provider ID to non-null object"
   ]
  },
  {
   "cell_type": "code",
   "execution_count": null,
   "metadata": {},
   "outputs": [],
   "source": []
  },
  {
   "cell_type": "code",
   "execution_count": null,
   "metadata": {},
   "outputs": [],
   "source": []
  },
  {
   "cell_type": "code",
   "execution_count": null,
   "metadata": {},
   "outputs": [],
   "source": [
    "#this converts everything (all columns) to float\n",
    "def num_convert(cols, data, x):\n",
    "    for cols in data:\n",
    "        data[cols] = data[cols].apply(pd.to_numeric, errors = 'coerce', downcast = x)"
   ]
  },
  {
   "cell_type": "code",
   "execution_count": null,
   "metadata": {},
   "outputs": [],
   "source": [
    "cols = ['Compared to National', 'Denominator', 'Score', 'Lower Estimate']\n",
    "data = unplan_readm_df\n",
    "x = 'float'\n",
    "num_convert(cols, data, x)"
   ]
  },
  {
   "cell_type": "code",
   "execution_count": null,
   "metadata": {},
   "outputs": [],
   "source": [
    "cols = ['Provider ID']\n",
    "data = unplan_readm_df\n",
    "x = 'integer'\n",
    "num_convert(cols, data, x)"
   ]
  },
  {
   "cell_type": "code",
   "execution_count": null,
   "metadata": {},
   "outputs": [],
   "source": [
    "unplan_readm_df.info()"
   ]
  },
  {
   "cell_type": "code",
   "execution_count": null,
   "metadata": {},
   "outputs": [],
   "source": [
    "unplan_readm_df['Provider ID'].isnull().sum()"
   ]
  },
  {
   "cell_type": "code",
   "execution_count": null,
   "metadata": {},
   "outputs": [],
   "source": [
    "unplan_readm_df['Provider ID'] = unplan_readm_df['Provider ID'].astype(np.int64)"
   ]
  },
  {
   "cell_type": "code",
   "execution_count": null,
   "metadata": {},
   "outputs": [],
   "source": [
    "#why did it convert all columns to float64\n",
    "unplan_readm_df.info()"
   ]
  },
  {
   "cell_type": "code",
   "execution_count": null,
   "metadata": {},
   "outputs": [],
   "source": []
  },
  {
   "cell_type": "code",
   "execution_count": null,
   "metadata": {},
   "outputs": [],
   "source": []
  },
  {
   "cell_type": "code",
   "execution_count": null,
   "metadata": {},
   "outputs": [],
   "source": [
    "#convert to numeric\n",
    "cols = ['Compared to National', 'Denominator', 'Score', 'Lower Estimate']\n",
    "unplan_readm_df[cols] = unplan_readm_df[cols].apply(pd.to_numeric, errors = 'coerce', downcast = 'float')"
   ]
  },
  {
   "cell_type": "code",
   "execution_count": null,
   "metadata": {},
   "outputs": [],
   "source": [
    "cols = ['Number of Discharges', 'Excess Readmission Ratio', 'Predicted Readmission Rate', 'Expected Readmission Rate', 'Number of Readmissions']\n",
    "readm_red_df[cols] = readm_red_df[cols].apply(pd.to_numeric, errors = 'coerce', downcast = 'float')"
   ]
  },
  {
   "cell_type": "code",
   "execution_count": null,
   "metadata": {},
   "outputs": [],
   "source": [
    "readm_red_df['Provider ID'] = readm_red_df['Provider ID'].astype(str)"
   ]
  },
  {
   "cell_type": "code",
   "execution_count": null,
   "metadata": {},
   "outputs": [],
   "source": [
    "readm_red_df.info()"
   ]
  },
  {
   "cell_type": "code",
   "execution_count": null,
   "metadata": {},
   "outputs": [],
   "source": [
    "cols = ['Denominator', 'Score', 'Lower Estimate', 'Higher Estimate']\n",
    "mort_meas_df[cols] = mort_meas_df[cols].apply(pd.to_numeric, errors = 'coerce', downcast = 'float')"
   ]
  },
  {
   "cell_type": "code",
   "execution_count": null,
   "metadata": {},
   "outputs": [],
   "source": [
    "cols = ['Patient Survey Star Rating', 'HCAHPS Answer Percent', 'HCAHPS Linear Mean Value', 'Number of Completed Surveys', 'Survey Response Rate Percent']\n",
    "hcahps_df[cols] = hcahps_df[cols].apply(pd.to_numeric, errors = 'coerce', downcast = 'float')"
   ]
  },
  {
   "cell_type": "code",
   "execution_count": null,
   "metadata": {},
   "outputs": [],
   "source": [
    "gen_info_df['Provider ID'] = gen_info_df['Provider ID'].astype(str)"
   ]
  },
  {
   "cell_type": "code",
   "execution_count": null,
   "metadata": {},
   "outputs": [],
   "source": []
  },
  {
   "cell_type": "markdown",
   "metadata": {},
   "source": [
    "### merge dataframes"
   ]
  },
  {
   "cell_type": "code",
   "execution_count": null,
   "metadata": {},
   "outputs": [],
   "source": [
    "hosp_readmin_df = pd.merge(unplan_readm_df, readm_red_df, on=['Provider ID', 'Hospital Name', 'State', ], how='outer')"
   ]
  },
  {
   "cell_type": "code",
   "execution_count": null,
   "metadata": {},
   "outputs": [],
   "source": [
    "hosp_readmin_df.head(3)"
   ]
  },
  {
   "cell_type": "code",
   "execution_count": null,
   "metadata": {},
   "outputs": [],
   "source": [
    "hosp_readmin_df.info()"
   ]
  },
  {
   "cell_type": "code",
   "execution_count": null,
   "metadata": {},
   "outputs": [],
   "source": []
  },
  {
   "cell_type": "code",
   "execution_count": null,
   "metadata": {},
   "outputs": [],
   "source": [
    "hosp_readmin_df = pd.merge(hosp_readmin_df, mort_meas_df, on=['Provider ID', 'Hospital Name', 'State'], how='outer')"
   ]
  },
  {
   "cell_type": "code",
   "execution_count": null,
   "metadata": {},
   "outputs": [],
   "source": [
    "hosp_readmin_df.info()"
   ]
  },
  {
   "cell_type": "code",
   "execution_count": null,
   "metadata": {},
   "outputs": [],
   "source": [
    "hosp_readmin_df = pd.merge(hosp_readmin_df, hcahps_df, on=['Provider ID', 'Hospital Name', 'State'], how='outer')"
   ]
  },
  {
   "cell_type": "code",
   "execution_count": null,
   "metadata": {},
   "outputs": [],
   "source": [
    "hosp_readmin_df.info()"
   ]
  },
  {
   "cell_type": "code",
   "execution_count": null,
   "metadata": {},
   "outputs": [],
   "source": [
    "hosp_readmin_df = hosp_readmin_df.drop(['Compared to National_x'], axis=1)"
   ]
  },
  {
   "cell_type": "code",
   "execution_count": null,
   "metadata": {},
   "outputs": [],
   "source": [
    "hosp_readmin_df = pd.merge(hosp_readmin_df, gen_info_df, on=['Provider ID', 'Hospital Name', 'State'], how='outer')"
   ]
  },
  {
   "cell_type": "code",
   "execution_count": null,
   "metadata": {},
   "outputs": [],
   "source": []
  },
  {
   "cell_type": "code",
   "execution_count": null,
   "metadata": {},
   "outputs": [],
   "source": []
  },
  {
   "cell_type": "markdown",
   "metadata": {},
   "source": [
    "### missing values"
   ]
  },
  {
   "cell_type": "code",
   "execution_count": null,
   "metadata": {},
   "outputs": [],
   "source": [
    "hcahps_df: will need to fill NaN with dummy values, do not drop rows"
   ]
  },
  {
   "cell_type": "code",
   "execution_count": null,
   "metadata": {},
   "outputs": [],
   "source": [
    "hosp_readmin_df.info()"
   ]
  },
  {
   "cell_type": "code",
   "execution_count": null,
   "metadata": {},
   "outputs": [],
   "source": [
    "hosp_readmin_df.isnull().sum()"
   ]
  },
  {
   "cell_type": "code",
   "execution_count": null,
   "metadata": {
    "scrolled": true
   },
   "outputs": [],
   "source": [
    "hosp_readmin_df.head()"
   ]
  },
  {
   "cell_type": "code",
   "execution_count": null,
   "metadata": {},
   "outputs": [],
   "source": [
    "hosp_readmin_df = hosp_readmin_df.drop(['Measure Start Date_x', 'Measure Start Date_y', 'Measure End Date_x', 'Start Date', 'End Date', 'Measure Start Date_y', \n",
    "'Measure End Date_y', 'Measure Start Date', 'Measure End Date'], axis=1)"
   ]
  },
  {
   "cell_type": "code",
   "execution_count": null,
   "metadata": {},
   "outputs": [],
   "source": [
    "#cut\n",
    "hosp_readmin_df = hosp_readmin_df.drop(['Measure Start Date_x'], axis=1)"
   ]
  },
  {
   "cell_type": "code",
   "execution_count": null,
   "metadata": {},
   "outputs": [],
   "source": [
    "hosp_readmin_df.head()"
   ]
  },
  {
   "cell_type": "code",
   "execution_count": null,
   "metadata": {},
   "outputs": [],
   "source": [
    "print(hosp_readmin_df[['Measure Name_y', 'Number of Discharges', 'Excess Readmission Ratio', 'Predicted Readmission Rate', 'Expected Readmission Rate', 'Number of Readmissions', 'Measure Name', \n",
    "'Measure ID_y', 'Compared to National_y',  'Denominator_y',  'Score_y',  'Lower Estimate_y',  'Higher Estimate_y', 'HCAHPS Measure ID', \n",
    "'HCAHPS Question', 'HCAHPS Answer Description', 'Patient Survey Star Rating', 'HCAHPS Answer Percent', 'HCAHPS Linear Mean Value', \n",
    "'Number of Completed Surveys', 'Survey Response Rate Percent', 'Hospital Type', 'Hospital Ownership']].head(10))"
   ]
  },
  {
   "cell_type": "code",
   "execution_count": null,
   "metadata": {},
   "outputs": [],
   "source": []
  },
  {
   "cell_type": "code",
   "execution_count": null,
   "metadata": {},
   "outputs": [],
   "source": [
    "hosp_readmin_df.info()"
   ]
  },
  {
   "cell_type": "code",
   "execution_count": null,
   "metadata": {},
   "outputs": [],
   "source": [
    "hosp_readmin_df.isnull()"
   ]
  },
  {
   "cell_type": "code",
   "execution_count": null,
   "metadata": {},
   "outputs": [],
   "source": [
    "hosp_readmin_df.isnull().values.any(axis=1)"
   ]
  },
  {
   "cell_type": "code",
   "execution_count": null,
   "metadata": {},
   "outputs": [],
   "source": []
  },
  {
   "cell_type": "code",
   "execution_count": null,
   "metadata": {},
   "outputs": [],
   "source": []
  },
  {
   "cell_type": "code",
   "execution_count": null,
   "metadata": {},
   "outputs": [],
   "source": []
  },
  {
   "cell_type": "code",
   "execution_count": null,
   "metadata": {},
   "outputs": [],
   "source": []
  },
  {
   "cell_type": "code",
   "execution_count": null,
   "metadata": {},
   "outputs": [],
   "source": []
  },
  {
   "cell_type": "code",
   "execution_count": null,
   "metadata": {},
   "outputs": [],
   "source": []
  },
  {
   "cell_type": "markdown",
   "metadata": {},
   "source": [
    "### creating  additional feature\n",
    "Excess Readmission Ratio: represents Hospital's \"predicted\" number of readmissions compared to CMS \"expected\" number of readmissions. \n",
    "\n",
    "Calculate the **Actual Readmission Rate** = 'actual_rrate' (number of readmissions/discharges)\n",
    "\n",
    "Calculate the **Actual Readmission Ratio** = 'actual_rratio' ('actual_rrate'/'Expected Readmission Rate') in order to compare the Excess Readmission Ratio"
   ]
  },
  {
   "cell_type": "code",
   "execution_count": null,
   "metadata": {},
   "outputs": [],
   "source": [
    "df_readmin['actual_rrate'] = df_readmin['Number of Readmissions']/df_readmin['Number of Discharges'] * 100"
   ]
  },
  {
   "cell_type": "code",
   "execution_count": null,
   "metadata": {},
   "outputs": [],
   "source": [
    "df_readmin['actual_rratio'] = df_readmin['actual_rrate']/df_readmin['Expected Readmission Rate']"
   ]
  },
  {
   "cell_type": "code",
   "execution_count": null,
   "metadata": {},
   "outputs": [],
   "source": []
  },
  {
   "cell_type": "code",
   "execution_count": null,
   "metadata": {},
   "outputs": [],
   "source": []
  },
  {
   "cell_type": "code",
   "execution_count": null,
   "metadata": {},
   "outputs": [],
   "source": []
  }
 ],
 "metadata": {
  "kernelspec": {
   "display_name": "Python 3",
   "language": "python",
   "name": "python3"
  },
  "language_info": {
   "codemirror_mode": {
    "name": "ipython",
    "version": 3
   },
   "file_extension": ".py",
   "mimetype": "text/x-python",
   "name": "python",
   "nbconvert_exporter": "python",
   "pygments_lexer": "ipython3",
   "version": "3.7.3"
  }
 },
 "nbformat": 4,
 "nbformat_minor": 2
}
