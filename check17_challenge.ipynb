{
 "cells": [
  {
   "cell_type": "markdown",
   "metadata": {},
   "source": [
    "#### Challenge: Factors that affect life expectancy"
   ]
  },
  {
   "cell_type": "markdown",
   "metadata": {},
   "source": [
    "data source: https://www.kaggle.com/kumarajarshi/life-expectancy-who/home"
   ]
  },
  {
   "cell_type": "markdown",
   "metadata": {},
   "source": [
    "##### Challenge:\n",
    "Your goal in this challenge is to find the factors that affect the life expectancy. Specifically, you need to find out which factors increase the expected life in the countries and which factors decrease it.\n",
    "\n",
    "1. Detect the problems with the data such as missing values and outliers. Are there any nonsense values that seem to be stemmed from the data collection? For the missing values, discuss which technique would be the most suitable one in filling out these values. Regarding the outliers, discuss their potential effects on your analysis and select an appropriate method to deal with them.\n",
    "\n",
    "2. Explore the data using univariate and multivariate exploration techniques. You should pay special attention to your target variable. In this regard, your focus should be on finding the relevant variables that may affect life expectancy.\n",
    "\n",
    "3. In the feature engineering step, you need to select a suite of variables that you think would be ideal in the modeling phase. More concretely, you may discard some variables that are very correlated with the other ones or the variables that you think irrelevant with the life expectancy.\n",
    "\n",
    "4. Summarize your findings. One of the most important skills of a data scientist is to convey ideas and findings to nontechnical people using understandable language. In this regard, one of the most effective ways to communicate your ideas is to do it using effective visualization."
   ]
  },
  {
   "cell_type": "code",
   "execution_count": 1,
   "metadata": {},
   "outputs": [],
   "source": [
    "import pandas as pd\n",
    "import numpy as np\n",
    "import matplotlib.pyplot as plt\n",
    "import seaborn as sns\n",
    "import math\n",
    "from matplotlib.mlab import PCA as mlabPCA\n",
    "from scipy.stats import zscore\n",
    "from scipy.stats.mstats import winsorize\n",
    "from sklearn.preprocessing import StandardScaler\n",
    "from sklearn.decomposition import PCA\n",
    "from sqlalchemy import create_engine\n",
    "import warnings\n",
    "\n",
    "warnings.filterwarnings('ignore')\n",
    "sns.set_style(\"whitegrid\")\n",
    "\n",
    "postgres_user = 'dsbc_student'\n",
    "postgres_pw = '7*.8G9QH21'\n",
    "postgres_host = '142.93.121.174'\n",
    "postgres_port = '5432'\n",
    "postgres_db = 'lifeexpectancy'\n",
    "table_name = 'lifeexpectancy'\n",
    "\n",
    "engine = create_engine('postgresql://{}:{}@{}:{}/{}'.format(\n",
    "    postgres_user, postgres_pw, postgres_host, postgres_port, postgres_db))\n",
    "\n",
    "lifeexpectancy_df = pd.read_sql_query('select * from lifeexpectancy',con=engine)\n",
    "\n",
    "\n",
    "engine.dispose()"
   ]
  },
  {
   "cell_type": "markdown",
   "metadata": {},
   "source": [
    "##### question 1\n",
    "Detect the problems with the data such as missing values and outliers. Are there any nonsense values that seem to be stemmed from the data collection? For the missing values, discuss which technique would be the most suitable one in filling out these values. Regarding the outliers, discuss their potential effects on your analysis and select an appropriate method to deal with them. "
   ]
  },
  {
   "cell_type": "code",
   "execution_count": 2,
   "metadata": {},
   "outputs": [
    {
     "data": {
      "text/html": [
       "<div>\n",
       "<style scoped>\n",
       "    .dataframe tbody tr th:only-of-type {\n",
       "        vertical-align: middle;\n",
       "    }\n",
       "\n",
       "    .dataframe tbody tr th {\n",
       "        vertical-align: top;\n",
       "    }\n",
       "\n",
       "    .dataframe thead th {\n",
       "        text-align: right;\n",
       "    }\n",
       "</style>\n",
       "<table border=\"1\" class=\"dataframe\">\n",
       "  <thead>\n",
       "    <tr style=\"text-align: right;\">\n",
       "      <th></th>\n",
       "      <th>Country</th>\n",
       "      <th>Year</th>\n",
       "      <th>Status</th>\n",
       "      <th>Life expectancy</th>\n",
       "      <th>Adult Mortality</th>\n",
       "      <th>infant deaths</th>\n",
       "      <th>Alcohol</th>\n",
       "      <th>percentage expenditure</th>\n",
       "      <th>Hepatitis B</th>\n",
       "      <th>Measles</th>\n",
       "      <th>...</th>\n",
       "      <th>Polio</th>\n",
       "      <th>Total expenditure</th>\n",
       "      <th>Diphtheria</th>\n",
       "      <th>HIV/AIDS</th>\n",
       "      <th>GDP</th>\n",
       "      <th>Population</th>\n",
       "      <th>thinness  1-19 years</th>\n",
       "      <th>thinness 5-9 years</th>\n",
       "      <th>Income composition of resources</th>\n",
       "      <th>Schooling</th>\n",
       "    </tr>\n",
       "  </thead>\n",
       "  <tbody>\n",
       "    <tr>\n",
       "      <th>0</th>\n",
       "      <td>Afghanistan</td>\n",
       "      <td>2015</td>\n",
       "      <td>Developing</td>\n",
       "      <td>65.0</td>\n",
       "      <td>263.0</td>\n",
       "      <td>62</td>\n",
       "      <td>0.01</td>\n",
       "      <td>71.279624</td>\n",
       "      <td>65.0</td>\n",
       "      <td>1154</td>\n",
       "      <td>...</td>\n",
       "      <td>6.0</td>\n",
       "      <td>8.16</td>\n",
       "      <td>65.0</td>\n",
       "      <td>0.1</td>\n",
       "      <td>584.259210</td>\n",
       "      <td>33736494.0</td>\n",
       "      <td>17.2</td>\n",
       "      <td>17.3</td>\n",
       "      <td>0.479</td>\n",
       "      <td>10.1</td>\n",
       "    </tr>\n",
       "    <tr>\n",
       "      <th>1</th>\n",
       "      <td>Afghanistan</td>\n",
       "      <td>2014</td>\n",
       "      <td>Developing</td>\n",
       "      <td>59.9</td>\n",
       "      <td>271.0</td>\n",
       "      <td>64</td>\n",
       "      <td>0.01</td>\n",
       "      <td>73.523582</td>\n",
       "      <td>62.0</td>\n",
       "      <td>492</td>\n",
       "      <td>...</td>\n",
       "      <td>58.0</td>\n",
       "      <td>8.18</td>\n",
       "      <td>62.0</td>\n",
       "      <td>0.1</td>\n",
       "      <td>612.696514</td>\n",
       "      <td>327582.0</td>\n",
       "      <td>17.5</td>\n",
       "      <td>17.5</td>\n",
       "      <td>0.476</td>\n",
       "      <td>10.0</td>\n",
       "    </tr>\n",
       "    <tr>\n",
       "      <th>2</th>\n",
       "      <td>Afghanistan</td>\n",
       "      <td>2013</td>\n",
       "      <td>Developing</td>\n",
       "      <td>59.9</td>\n",
       "      <td>268.0</td>\n",
       "      <td>66</td>\n",
       "      <td>0.01</td>\n",
       "      <td>73.219243</td>\n",
       "      <td>64.0</td>\n",
       "      <td>430</td>\n",
       "      <td>...</td>\n",
       "      <td>62.0</td>\n",
       "      <td>8.13</td>\n",
       "      <td>64.0</td>\n",
       "      <td>0.1</td>\n",
       "      <td>631.744976</td>\n",
       "      <td>31731688.0</td>\n",
       "      <td>17.7</td>\n",
       "      <td>17.7</td>\n",
       "      <td>0.470</td>\n",
       "      <td>9.9</td>\n",
       "    </tr>\n",
       "    <tr>\n",
       "      <th>3</th>\n",
       "      <td>Afghanistan</td>\n",
       "      <td>2012</td>\n",
       "      <td>Developing</td>\n",
       "      <td>59.5</td>\n",
       "      <td>272.0</td>\n",
       "      <td>69</td>\n",
       "      <td>0.01</td>\n",
       "      <td>78.184215</td>\n",
       "      <td>67.0</td>\n",
       "      <td>2787</td>\n",
       "      <td>...</td>\n",
       "      <td>67.0</td>\n",
       "      <td>8.52</td>\n",
       "      <td>67.0</td>\n",
       "      <td>0.1</td>\n",
       "      <td>669.959000</td>\n",
       "      <td>3696958.0</td>\n",
       "      <td>17.9</td>\n",
       "      <td>18.0</td>\n",
       "      <td>0.463</td>\n",
       "      <td>9.8</td>\n",
       "    </tr>\n",
       "    <tr>\n",
       "      <th>4</th>\n",
       "      <td>Afghanistan</td>\n",
       "      <td>2011</td>\n",
       "      <td>Developing</td>\n",
       "      <td>59.2</td>\n",
       "      <td>275.0</td>\n",
       "      <td>71</td>\n",
       "      <td>0.01</td>\n",
       "      <td>7.097109</td>\n",
       "      <td>68.0</td>\n",
       "      <td>3013</td>\n",
       "      <td>...</td>\n",
       "      <td>68.0</td>\n",
       "      <td>7.87</td>\n",
       "      <td>68.0</td>\n",
       "      <td>0.1</td>\n",
       "      <td>63.537231</td>\n",
       "      <td>2978599.0</td>\n",
       "      <td>18.2</td>\n",
       "      <td>18.2</td>\n",
       "      <td>0.454</td>\n",
       "      <td>9.5</td>\n",
       "    </tr>\n",
       "  </tbody>\n",
       "</table>\n",
       "<p>5 rows × 22 columns</p>\n",
       "</div>"
      ],
      "text/plain": [
       "       Country  Year      Status  Life expectancy   Adult Mortality  \\\n",
       "0  Afghanistan  2015  Developing              65.0            263.0   \n",
       "1  Afghanistan  2014  Developing              59.9            271.0   \n",
       "2  Afghanistan  2013  Developing              59.9            268.0   \n",
       "3  Afghanistan  2012  Developing              59.5            272.0   \n",
       "4  Afghanistan  2011  Developing              59.2            275.0   \n",
       "\n",
       "   infant deaths  Alcohol  percentage expenditure  Hepatitis B  Measles   ...  \\\n",
       "0             62     0.01               71.279624         65.0      1154  ...   \n",
       "1             64     0.01               73.523582         62.0       492  ...   \n",
       "2             66     0.01               73.219243         64.0       430  ...   \n",
       "3             69     0.01               78.184215         67.0      2787  ...   \n",
       "4             71     0.01                7.097109         68.0      3013  ...   \n",
       "\n",
       "   Polio  Total expenditure  Diphtheria    HIV/AIDS         GDP  Population  \\\n",
       "0    6.0               8.16         65.0        0.1  584.259210  33736494.0   \n",
       "1   58.0               8.18         62.0        0.1  612.696514    327582.0   \n",
       "2   62.0               8.13         64.0        0.1  631.744976  31731688.0   \n",
       "3   67.0               8.52         67.0        0.1  669.959000   3696958.0   \n",
       "4   68.0               7.87         68.0        0.1   63.537231   2978599.0   \n",
       "\n",
       "    thinness  1-19 years   thinness 5-9 years  \\\n",
       "0                   17.2                 17.3   \n",
       "1                   17.5                 17.5   \n",
       "2                   17.7                 17.7   \n",
       "3                   17.9                 18.0   \n",
       "4                   18.2                 18.2   \n",
       "\n",
       "   Income composition of resources  Schooling  \n",
       "0                            0.479       10.1  \n",
       "1                            0.476       10.0  \n",
       "2                            0.470        9.9  \n",
       "3                            0.463        9.8  \n",
       "4                            0.454        9.5  \n",
       "\n",
       "[5 rows x 22 columns]"
      ]
     },
     "execution_count": 2,
     "metadata": {},
     "output_type": "execute_result"
    }
   ],
   "source": [
    "lifeexpectancy_df.head()"
   ]
  },
  {
   "cell_type": "code",
   "execution_count": 3,
   "metadata": {},
   "outputs": [
    {
     "name": "stdout",
     "output_type": "stream",
     "text": [
      "<class 'pandas.core.frame.DataFrame'>\n",
      "RangeIndex: 2938 entries, 0 to 2937\n",
      "Data columns (total 22 columns):\n",
      "Country                            2938 non-null object\n",
      "Year                               2938 non-null int64\n",
      "Status                             2938 non-null object\n",
      "Life expectancy                    2928 non-null float64\n",
      "Adult Mortality                    2928 non-null float64\n",
      "infant deaths                      2938 non-null int64\n",
      "Alcohol                            2744 non-null float64\n",
      "percentage expenditure             2938 non-null float64\n",
      "Hepatitis B                        2385 non-null float64\n",
      "Measles                            2938 non-null int64\n",
      " BMI                               2904 non-null float64\n",
      "under-five deaths                  2938 non-null int64\n",
      "Polio                              2919 non-null float64\n",
      "Total expenditure                  2712 non-null float64\n",
      "Diphtheria                         2919 non-null float64\n",
      " HIV/AIDS                          2938 non-null float64\n",
      "GDP                                2490 non-null float64\n",
      "Population                         2286 non-null float64\n",
      " thinness  1-19 years              2904 non-null float64\n",
      " thinness 5-9 years                2904 non-null float64\n",
      "Income composition of resources    2771 non-null float64\n",
      "Schooling                          2775 non-null float64\n",
      "dtypes: float64(16), int64(4), object(2)\n",
      "memory usage: 505.0+ KB\n"
     ]
    }
   ],
   "source": [
    "lifeexpectancy_df.info()"
   ]
  },
  {
   "cell_type": "code",
   "execution_count": 4,
   "metadata": {},
   "outputs": [
    {
     "data": {
      "text/html": [
       "<div>\n",
       "<style scoped>\n",
       "    .dataframe tbody tr th:only-of-type {\n",
       "        vertical-align: middle;\n",
       "    }\n",
       "\n",
       "    .dataframe tbody tr th {\n",
       "        vertical-align: top;\n",
       "    }\n",
       "\n",
       "    .dataframe thead th {\n",
       "        text-align: right;\n",
       "    }\n",
       "</style>\n",
       "<table border=\"1\" class=\"dataframe\">\n",
       "  <thead>\n",
       "    <tr style=\"text-align: right;\">\n",
       "      <th></th>\n",
       "      <th>Year</th>\n",
       "      <th>Life expectancy</th>\n",
       "      <th>Adult Mortality</th>\n",
       "      <th>infant deaths</th>\n",
       "      <th>Alcohol</th>\n",
       "      <th>percentage expenditure</th>\n",
       "      <th>Hepatitis B</th>\n",
       "      <th>Measles</th>\n",
       "      <th>BMI</th>\n",
       "      <th>under-five deaths</th>\n",
       "      <th>Polio</th>\n",
       "      <th>Total expenditure</th>\n",
       "      <th>Diphtheria</th>\n",
       "      <th>HIV/AIDS</th>\n",
       "      <th>GDP</th>\n",
       "      <th>Population</th>\n",
       "      <th>thinness  1-19 years</th>\n",
       "      <th>thinness 5-9 years</th>\n",
       "      <th>Income composition of resources</th>\n",
       "      <th>Schooling</th>\n",
       "    </tr>\n",
       "  </thead>\n",
       "  <tbody>\n",
       "    <tr>\n",
       "      <th>count</th>\n",
       "      <td>2938.000000</td>\n",
       "      <td>2928.000000</td>\n",
       "      <td>2928.000000</td>\n",
       "      <td>2938.000000</td>\n",
       "      <td>2744.000000</td>\n",
       "      <td>2938.000000</td>\n",
       "      <td>2385.000000</td>\n",
       "      <td>2938.000000</td>\n",
       "      <td>2904.000000</td>\n",
       "      <td>2938.000000</td>\n",
       "      <td>2919.000000</td>\n",
       "      <td>2712.00000</td>\n",
       "      <td>2919.000000</td>\n",
       "      <td>2938.000000</td>\n",
       "      <td>2490.000000</td>\n",
       "      <td>2.286000e+03</td>\n",
       "      <td>2904.000000</td>\n",
       "      <td>2904.000000</td>\n",
       "      <td>2771.000000</td>\n",
       "      <td>2775.000000</td>\n",
       "    </tr>\n",
       "    <tr>\n",
       "      <th>mean</th>\n",
       "      <td>2007.518720</td>\n",
       "      <td>69.224932</td>\n",
       "      <td>164.796448</td>\n",
       "      <td>30.303948</td>\n",
       "      <td>4.602861</td>\n",
       "      <td>738.251295</td>\n",
       "      <td>80.940461</td>\n",
       "      <td>2419.592240</td>\n",
       "      <td>38.321247</td>\n",
       "      <td>42.035739</td>\n",
       "      <td>82.550188</td>\n",
       "      <td>5.93819</td>\n",
       "      <td>82.324084</td>\n",
       "      <td>1.742103</td>\n",
       "      <td>7483.158469</td>\n",
       "      <td>1.275338e+07</td>\n",
       "      <td>4.839704</td>\n",
       "      <td>4.870317</td>\n",
       "      <td>0.627551</td>\n",
       "      <td>11.992793</td>\n",
       "    </tr>\n",
       "    <tr>\n",
       "      <th>std</th>\n",
       "      <td>4.613841</td>\n",
       "      <td>9.523867</td>\n",
       "      <td>124.292079</td>\n",
       "      <td>117.926501</td>\n",
       "      <td>4.052413</td>\n",
       "      <td>1987.914858</td>\n",
       "      <td>25.070016</td>\n",
       "      <td>11467.272489</td>\n",
       "      <td>20.044034</td>\n",
       "      <td>160.445548</td>\n",
       "      <td>23.428046</td>\n",
       "      <td>2.49832</td>\n",
       "      <td>23.716912</td>\n",
       "      <td>5.077785</td>\n",
       "      <td>14270.169342</td>\n",
       "      <td>6.101210e+07</td>\n",
       "      <td>4.420195</td>\n",
       "      <td>4.508882</td>\n",
       "      <td>0.210904</td>\n",
       "      <td>3.358920</td>\n",
       "    </tr>\n",
       "    <tr>\n",
       "      <th>min</th>\n",
       "      <td>2000.000000</td>\n",
       "      <td>36.300000</td>\n",
       "      <td>1.000000</td>\n",
       "      <td>0.000000</td>\n",
       "      <td>0.010000</td>\n",
       "      <td>0.000000</td>\n",
       "      <td>1.000000</td>\n",
       "      <td>0.000000</td>\n",
       "      <td>1.000000</td>\n",
       "      <td>0.000000</td>\n",
       "      <td>3.000000</td>\n",
       "      <td>0.37000</td>\n",
       "      <td>2.000000</td>\n",
       "      <td>0.100000</td>\n",
       "      <td>1.681350</td>\n",
       "      <td>3.400000e+01</td>\n",
       "      <td>0.100000</td>\n",
       "      <td>0.100000</td>\n",
       "      <td>0.000000</td>\n",
       "      <td>0.000000</td>\n",
       "    </tr>\n",
       "    <tr>\n",
       "      <th>25%</th>\n",
       "      <td>2004.000000</td>\n",
       "      <td>63.100000</td>\n",
       "      <td>74.000000</td>\n",
       "      <td>0.000000</td>\n",
       "      <td>0.877500</td>\n",
       "      <td>4.685343</td>\n",
       "      <td>77.000000</td>\n",
       "      <td>0.000000</td>\n",
       "      <td>19.300000</td>\n",
       "      <td>0.000000</td>\n",
       "      <td>78.000000</td>\n",
       "      <td>4.26000</td>\n",
       "      <td>78.000000</td>\n",
       "      <td>0.100000</td>\n",
       "      <td>463.935626</td>\n",
       "      <td>1.957932e+05</td>\n",
       "      <td>1.600000</td>\n",
       "      <td>1.500000</td>\n",
       "      <td>0.493000</td>\n",
       "      <td>10.100000</td>\n",
       "    </tr>\n",
       "    <tr>\n",
       "      <th>50%</th>\n",
       "      <td>2008.000000</td>\n",
       "      <td>72.100000</td>\n",
       "      <td>144.000000</td>\n",
       "      <td>3.000000</td>\n",
       "      <td>3.755000</td>\n",
       "      <td>64.912906</td>\n",
       "      <td>92.000000</td>\n",
       "      <td>17.000000</td>\n",
       "      <td>43.500000</td>\n",
       "      <td>4.000000</td>\n",
       "      <td>93.000000</td>\n",
       "      <td>5.75500</td>\n",
       "      <td>93.000000</td>\n",
       "      <td>0.100000</td>\n",
       "      <td>1766.947595</td>\n",
       "      <td>1.386542e+06</td>\n",
       "      <td>3.300000</td>\n",
       "      <td>3.300000</td>\n",
       "      <td>0.677000</td>\n",
       "      <td>12.300000</td>\n",
       "    </tr>\n",
       "    <tr>\n",
       "      <th>75%</th>\n",
       "      <td>2012.000000</td>\n",
       "      <td>75.700000</td>\n",
       "      <td>228.000000</td>\n",
       "      <td>22.000000</td>\n",
       "      <td>7.702500</td>\n",
       "      <td>441.534144</td>\n",
       "      <td>97.000000</td>\n",
       "      <td>360.250000</td>\n",
       "      <td>56.200000</td>\n",
       "      <td>28.000000</td>\n",
       "      <td>97.000000</td>\n",
       "      <td>7.49250</td>\n",
       "      <td>97.000000</td>\n",
       "      <td>0.800000</td>\n",
       "      <td>5910.806335</td>\n",
       "      <td>7.420359e+06</td>\n",
       "      <td>7.200000</td>\n",
       "      <td>7.200000</td>\n",
       "      <td>0.779000</td>\n",
       "      <td>14.300000</td>\n",
       "    </tr>\n",
       "    <tr>\n",
       "      <th>max</th>\n",
       "      <td>2015.000000</td>\n",
       "      <td>89.000000</td>\n",
       "      <td>723.000000</td>\n",
       "      <td>1800.000000</td>\n",
       "      <td>17.870000</td>\n",
       "      <td>19479.911610</td>\n",
       "      <td>99.000000</td>\n",
       "      <td>212183.000000</td>\n",
       "      <td>87.300000</td>\n",
       "      <td>2500.000000</td>\n",
       "      <td>99.000000</td>\n",
       "      <td>17.60000</td>\n",
       "      <td>99.000000</td>\n",
       "      <td>50.600000</td>\n",
       "      <td>119172.741800</td>\n",
       "      <td>1.293859e+09</td>\n",
       "      <td>27.700000</td>\n",
       "      <td>28.600000</td>\n",
       "      <td>0.948000</td>\n",
       "      <td>20.700000</td>\n",
       "    </tr>\n",
       "  </tbody>\n",
       "</table>\n",
       "</div>"
      ],
      "text/plain": [
       "              Year  Life expectancy   Adult Mortality  infant deaths  \\\n",
       "count  2938.000000       2928.000000      2928.000000    2938.000000   \n",
       "mean   2007.518720         69.224932       164.796448      30.303948   \n",
       "std       4.613841          9.523867       124.292079     117.926501   \n",
       "min    2000.000000         36.300000         1.000000       0.000000   \n",
       "25%    2004.000000         63.100000        74.000000       0.000000   \n",
       "50%    2008.000000         72.100000       144.000000       3.000000   \n",
       "75%    2012.000000         75.700000       228.000000      22.000000   \n",
       "max    2015.000000         89.000000       723.000000    1800.000000   \n",
       "\n",
       "           Alcohol  percentage expenditure  Hepatitis B       Measles   \\\n",
       "count  2744.000000             2938.000000  2385.000000    2938.000000   \n",
       "mean      4.602861              738.251295    80.940461    2419.592240   \n",
       "std       4.052413             1987.914858    25.070016   11467.272489   \n",
       "min       0.010000                0.000000     1.000000       0.000000   \n",
       "25%       0.877500                4.685343    77.000000       0.000000   \n",
       "50%       3.755000               64.912906    92.000000      17.000000   \n",
       "75%       7.702500              441.534144    97.000000     360.250000   \n",
       "max      17.870000            19479.911610    99.000000  212183.000000   \n",
       "\n",
       "              BMI   under-five deaths         Polio  Total expenditure  \\\n",
       "count  2904.000000         2938.000000  2919.000000         2712.00000   \n",
       "mean     38.321247           42.035739    82.550188            5.93819   \n",
       "std      20.044034          160.445548    23.428046            2.49832   \n",
       "min       1.000000            0.000000     3.000000            0.37000   \n",
       "25%      19.300000            0.000000    78.000000            4.26000   \n",
       "50%      43.500000            4.000000    93.000000            5.75500   \n",
       "75%      56.200000           28.000000    97.000000            7.49250   \n",
       "max      87.300000         2500.000000    99.000000           17.60000   \n",
       "\n",
       "       Diphtheria      HIV/AIDS            GDP    Population  \\\n",
       "count  2919.000000  2938.000000    2490.000000  2.286000e+03   \n",
       "mean     82.324084     1.742103    7483.158469  1.275338e+07   \n",
       "std      23.716912     5.077785   14270.169342  6.101210e+07   \n",
       "min       2.000000     0.100000       1.681350  3.400000e+01   \n",
       "25%      78.000000     0.100000     463.935626  1.957932e+05   \n",
       "50%      93.000000     0.100000    1766.947595  1.386542e+06   \n",
       "75%      97.000000     0.800000    5910.806335  7.420359e+06   \n",
       "max      99.000000    50.600000  119172.741800  1.293859e+09   \n",
       "\n",
       "        thinness  1-19 years   thinness 5-9 years  \\\n",
       "count            2904.000000          2904.000000   \n",
       "mean                4.839704             4.870317   \n",
       "std                 4.420195             4.508882   \n",
       "min                 0.100000             0.100000   \n",
       "25%                 1.600000             1.500000   \n",
       "50%                 3.300000             3.300000   \n",
       "75%                 7.200000             7.200000   \n",
       "max                27.700000            28.600000   \n",
       "\n",
       "       Income composition of resources    Schooling  \n",
       "count                      2771.000000  2775.000000  \n",
       "mean                          0.627551    11.992793  \n",
       "std                           0.210904     3.358920  \n",
       "min                           0.000000     0.000000  \n",
       "25%                           0.493000    10.100000  \n",
       "50%                           0.677000    12.300000  \n",
       "75%                           0.779000    14.300000  \n",
       "max                           0.948000    20.700000  "
      ]
     },
     "execution_count": 4,
     "metadata": {},
     "output_type": "execute_result"
    }
   ],
   "source": [
    "lifeexpectancy_df.describe()"
   ]
  },
  {
   "cell_type": "markdown",
   "metadata": {},
   "source": [
    "###### missing values"
   ]
  },
  {
   "cell_type": "code",
   "execution_count": 5,
   "metadata": {},
   "outputs": [
    {
     "data": {
      "text/plain": [
       "Country                              0\n",
       "Year                                 0\n",
       "Status                               0\n",
       "Life expectancy                     10\n",
       "Adult Mortality                     10\n",
       "infant deaths                        0\n",
       "Alcohol                            194\n",
       "percentage expenditure               0\n",
       "Hepatitis B                        553\n",
       "Measles                              0\n",
       " BMI                                34\n",
       "under-five deaths                    0\n",
       "Polio                               19\n",
       "Total expenditure                  226\n",
       "Diphtheria                          19\n",
       " HIV/AIDS                            0\n",
       "GDP                                448\n",
       "Population                         652\n",
       " thinness  1-19 years               34\n",
       " thinness 5-9 years                 34\n",
       "Income composition of resources    167\n",
       "Schooling                          163\n",
       "dtype: int64"
      ]
     },
     "execution_count": 5,
     "metadata": {},
     "output_type": "execute_result"
    }
   ],
   "source": [
    "lifeexpectancy_df.isnull().sum()"
   ]
  },
  {
   "cell_type": "code",
   "execution_count": 6,
   "metadata": {},
   "outputs": [
    {
     "data": {
      "text/plain": [
       "Country                             193\n",
       "Year                                 16\n",
       "Status                                2\n",
       "Life expectancy                     362\n",
       "Adult Mortality                     425\n",
       "infant deaths                       209\n",
       "Alcohol                            1076\n",
       "percentage expenditure             2328\n",
       "Hepatitis B                          87\n",
       "Measles                             958\n",
       " BMI                                608\n",
       "under-five deaths                   252\n",
       "Polio                                73\n",
       "Total expenditure                   818\n",
       "Diphtheria                           81\n",
       " HIV/AIDS                           200\n",
       "GDP                                2490\n",
       "Population                         2278\n",
       " thinness  1-19 years               200\n",
       " thinness 5-9 years                 207\n",
       "Income composition of resources     625\n",
       "Schooling                           173\n",
       "dtype: int64"
      ]
     },
     "execution_count": 6,
     "metadata": {},
     "output_type": "execute_result"
    }
   ],
   "source": [
    "lifeexpectancy_df.nunique()"
   ]
  },
  {
   "cell_type": "code",
   "execution_count": 7,
   "metadata": {},
   "outputs": [
    {
     "data": {
      "text/plain": [
       "Index(['Country', 'Year', 'Status', 'Life expectancy ', 'Adult Mortality',\n",
       "       'infant deaths', 'Alcohol', 'percentage expenditure', 'Hepatitis B',\n",
       "       'Measles ', ' BMI ', 'under-five deaths ', 'Polio', 'Total expenditure',\n",
       "       'Diphtheria ', ' HIV/AIDS', 'GDP', 'Population',\n",
       "       ' thinness  1-19 years', ' thinness 5-9 years',\n",
       "       'Income composition of resources', 'Schooling'],\n",
       "      dtype='object')"
      ]
     },
     "execution_count": 7,
     "metadata": {},
     "output_type": "execute_result"
    }
   ],
   "source": [
    "lifeexpectancy_df.columns.unique()"
   ]
  },
  {
   "cell_type": "code",
   "execution_count": 8,
   "metadata": {},
   "outputs": [],
   "source": [
    "#fix trailing/leading white space\n",
    "lifeexpectancy_df.columns = lifeexpectancy_df.columns.str.strip()"
   ]
  },
  {
   "cell_type": "code",
   "execution_count": 9,
   "metadata": {},
   "outputs": [
    {
     "data": {
      "text/plain": [
       "Index(['Country', 'Year', 'Status', 'Life expectancy', 'Adult Mortality',\n",
       "       'infant deaths', 'Alcohol', 'percentage expenditure', 'Hepatitis B',\n",
       "       'Measles', 'BMI', 'under-five deaths', 'Polio', 'Total expenditure',\n",
       "       'Diphtheria', 'HIV/AIDS', 'GDP', 'Population', 'thinness  1-19 years',\n",
       "       'thinness 5-9 years', 'Income composition of resources', 'Schooling'],\n",
       "      dtype='object')"
      ]
     },
     "execution_count": 9,
     "metadata": {},
     "output_type": "execute_result"
    }
   ],
   "source": [
    "lifeexpectancy_df.columns.unique()"
   ]
  },
  {
   "cell_type": "markdown",
   "metadata": {},
   "source": [
    "###### QUESTION: when using interpolation, value is filled using row above & below; most likely this would be from same country; would it be BETTER to to group by COUNTRY to get more precise value????\n",
    "same question would apply to winsorizing or log-transforming values"
   ]
  },
  {
   "cell_type": "code",
   "execution_count": 10,
   "metadata": {},
   "outputs": [],
   "source": [
    "#fill missing values with interpolation (time series/years)\n",
    "fill_list = ['Life expectancy', 'Adult Mortality', 'Alcohol', 'Hepatitis B', \n",
    "             'BMI', 'Polio', 'Total expenditure', 'Diphtheria', 'GDP', \n",
    "             'Population', 'thinness  1-19 years', 'thinness 5-9 years', \n",
    "             'Income composition of resources', 'Schooling'] \n",
    "\n",
    "for col in fill_list:\n",
    "    lifeexpectancy_df.loc[:, col] = lifeexpectancy_df.loc[:, col].interpolate()"
   ]
  },
  {
   "cell_type": "code",
   "execution_count": 11,
   "metadata": {},
   "outputs": [
    {
     "data": {
      "text/plain": [
       "Country                            0\n",
       "Year                               0\n",
       "Status                             0\n",
       "Life expectancy                    0\n",
       "Adult Mortality                    0\n",
       "infant deaths                      0\n",
       "Alcohol                            0\n",
       "percentage expenditure             0\n",
       "Hepatitis B                        0\n",
       "Measles                            0\n",
       "BMI                                0\n",
       "under-five deaths                  0\n",
       "Polio                              0\n",
       "Total expenditure                  0\n",
       "Diphtheria                         0\n",
       "HIV/AIDS                           0\n",
       "GDP                                0\n",
       "Population                         0\n",
       "thinness  1-19 years               0\n",
       "thinness 5-9 years                 0\n",
       "Income composition of resources    0\n",
       "Schooling                          0\n",
       "dtype: int64"
      ]
     },
     "execution_count": 11,
     "metadata": {},
     "output_type": "execute_result"
    }
   ],
   "source": [
    "lifeexpectancy_df.isnull().sum()"
   ]
  },
  {
   "cell_type": "code",
   "execution_count": 12,
   "metadata": {},
   "outputs": [
    {
     "data": {
      "text/html": [
       "<div>\n",
       "<style scoped>\n",
       "    .dataframe tbody tr th:only-of-type {\n",
       "        vertical-align: middle;\n",
       "    }\n",
       "\n",
       "    .dataframe tbody tr th {\n",
       "        vertical-align: top;\n",
       "    }\n",
       "\n",
       "    .dataframe thead th {\n",
       "        text-align: right;\n",
       "    }\n",
       "</style>\n",
       "<table border=\"1\" class=\"dataframe\">\n",
       "  <thead>\n",
       "    <tr style=\"text-align: right;\">\n",
       "      <th></th>\n",
       "      <th>Year</th>\n",
       "      <th>Life expectancy</th>\n",
       "      <th>Adult Mortality</th>\n",
       "      <th>infant deaths</th>\n",
       "      <th>Alcohol</th>\n",
       "      <th>percentage expenditure</th>\n",
       "      <th>Hepatitis B</th>\n",
       "      <th>Measles</th>\n",
       "      <th>BMI</th>\n",
       "      <th>under-five deaths</th>\n",
       "      <th>Polio</th>\n",
       "      <th>Total expenditure</th>\n",
       "      <th>Diphtheria</th>\n",
       "      <th>HIV/AIDS</th>\n",
       "      <th>GDP</th>\n",
       "      <th>Population</th>\n",
       "      <th>thinness  1-19 years</th>\n",
       "      <th>thinness 5-9 years</th>\n",
       "      <th>Income composition of resources</th>\n",
       "      <th>Schooling</th>\n",
       "    </tr>\n",
       "  </thead>\n",
       "  <tbody>\n",
       "    <tr>\n",
       "      <th>count</th>\n",
       "      <td>2938.000000</td>\n",
       "      <td>2938.000000</td>\n",
       "      <td>2938.000000</td>\n",
       "      <td>2938.000000</td>\n",
       "      <td>2938.000000</td>\n",
       "      <td>2938.000000</td>\n",
       "      <td>2938.000000</td>\n",
       "      <td>2938.000000</td>\n",
       "      <td>2938.00000</td>\n",
       "      <td>2938.000000</td>\n",
       "      <td>2938.000000</td>\n",
       "      <td>2938.000000</td>\n",
       "      <td>2938.000000</td>\n",
       "      <td>2938.000000</td>\n",
       "      <td>2938.000000</td>\n",
       "      <td>2.938000e+03</td>\n",
       "      <td>2938.000000</td>\n",
       "      <td>2938.000000</td>\n",
       "      <td>2938.000000</td>\n",
       "      <td>2938.000000</td>\n",
       "    </tr>\n",
       "    <tr>\n",
       "      <th>mean</th>\n",
       "      <td>2007.518720</td>\n",
       "      <td>69.214874</td>\n",
       "      <td>164.744554</td>\n",
       "      <td>30.303948</td>\n",
       "      <td>4.548919</td>\n",
       "      <td>738.251295</td>\n",
       "      <td>78.536419</td>\n",
       "      <td>2419.592240</td>\n",
       "      <td>38.29869</td>\n",
       "      <td>42.035739</td>\n",
       "      <td>82.474643</td>\n",
       "      <td>5.940955</td>\n",
       "      <td>82.246086</td>\n",
       "      <td>1.742103</td>\n",
       "      <td>7432.027910</td>\n",
       "      <td>1.229209e+07</td>\n",
       "      <td>4.882301</td>\n",
       "      <td>4.920439</td>\n",
       "      <td>0.634458</td>\n",
       "      <td>12.076804</td>\n",
       "    </tr>\n",
       "    <tr>\n",
       "      <th>std</th>\n",
       "      <td>4.613841</td>\n",
       "      <td>9.510819</td>\n",
       "      <td>124.226596</td>\n",
       "      <td>117.926501</td>\n",
       "      <td>3.994854</td>\n",
       "      <td>1987.914858</td>\n",
       "      <td>25.177963</td>\n",
       "      <td>11467.272489</td>\n",
       "      <td>19.99140</td>\n",
       "      <td>160.445548</td>\n",
       "      <td>23.420689</td>\n",
       "      <td>2.445751</td>\n",
       "      <td>23.705664</td>\n",
       "      <td>5.077785</td>\n",
       "      <td>13410.150286</td>\n",
       "      <td>5.471908e+07</td>\n",
       "      <td>4.433359</td>\n",
       "      <td>4.532488</td>\n",
       "      <td>0.209574</td>\n",
       "      <td>3.342316</td>\n",
       "    </tr>\n",
       "    <tr>\n",
       "      <th>min</th>\n",
       "      <td>2000.000000</td>\n",
       "      <td>36.300000</td>\n",
       "      <td>1.000000</td>\n",
       "      <td>0.000000</td>\n",
       "      <td>0.010000</td>\n",
       "      <td>0.000000</td>\n",
       "      <td>1.000000</td>\n",
       "      <td>0.000000</td>\n",
       "      <td>1.00000</td>\n",
       "      <td>0.000000</td>\n",
       "      <td>3.000000</td>\n",
       "      <td>0.370000</td>\n",
       "      <td>2.000000</td>\n",
       "      <td>0.100000</td>\n",
       "      <td>1.681350</td>\n",
       "      <td>3.400000e+01</td>\n",
       "      <td>0.100000</td>\n",
       "      <td>0.100000</td>\n",
       "      <td>0.000000</td>\n",
       "      <td>0.000000</td>\n",
       "    </tr>\n",
       "    <tr>\n",
       "      <th>25%</th>\n",
       "      <td>2004.000000</td>\n",
       "      <td>63.100000</td>\n",
       "      <td>74.000000</td>\n",
       "      <td>0.000000</td>\n",
       "      <td>0.902500</td>\n",
       "      <td>4.685343</td>\n",
       "      <td>71.000000</td>\n",
       "      <td>0.000000</td>\n",
       "      <td>19.32500</td>\n",
       "      <td>0.000000</td>\n",
       "      <td>78.000000</td>\n",
       "      <td>4.312500</td>\n",
       "      <td>78.000000</td>\n",
       "      <td>0.100000</td>\n",
       "      <td>553.618620</td>\n",
       "      <td>2.536025e+05</td>\n",
       "      <td>1.600000</td>\n",
       "      <td>1.600000</td>\n",
       "      <td>0.500000</td>\n",
       "      <td>10.200000</td>\n",
       "    </tr>\n",
       "    <tr>\n",
       "      <th>50%</th>\n",
       "      <td>2008.000000</td>\n",
       "      <td>72.000000</td>\n",
       "      <td>144.000000</td>\n",
       "      <td>3.000000</td>\n",
       "      <td>3.697500</td>\n",
       "      <td>64.912906</td>\n",
       "      <td>89.000000</td>\n",
       "      <td>17.000000</td>\n",
       "      <td>43.25000</td>\n",
       "      <td>4.000000</td>\n",
       "      <td>93.000000</td>\n",
       "      <td>5.760000</td>\n",
       "      <td>93.000000</td>\n",
       "      <td>0.100000</td>\n",
       "      <td>2192.681084</td>\n",
       "      <td>1.576319e+06</td>\n",
       "      <td>3.400000</td>\n",
       "      <td>3.400000</td>\n",
       "      <td>0.684000</td>\n",
       "      <td>12.400000</td>\n",
       "    </tr>\n",
       "    <tr>\n",
       "      <th>75%</th>\n",
       "      <td>2012.000000</td>\n",
       "      <td>75.600000</td>\n",
       "      <td>228.000000</td>\n",
       "      <td>22.000000</td>\n",
       "      <td>7.550000</td>\n",
       "      <td>441.534144</td>\n",
       "      <td>96.000000</td>\n",
       "      <td>360.250000</td>\n",
       "      <td>56.10000</td>\n",
       "      <td>28.000000</td>\n",
       "      <td>97.000000</td>\n",
       "      <td>7.440000</td>\n",
       "      <td>97.000000</td>\n",
       "      <td>0.800000</td>\n",
       "      <td>7183.381694</td>\n",
       "      <td>8.215738e+06</td>\n",
       "      <td>7.200000</td>\n",
       "      <td>7.300000</td>\n",
       "      <td>0.791107</td>\n",
       "      <td>14.300000</td>\n",
       "    </tr>\n",
       "    <tr>\n",
       "      <th>max</th>\n",
       "      <td>2015.000000</td>\n",
       "      <td>89.000000</td>\n",
       "      <td>723.000000</td>\n",
       "      <td>1800.000000</td>\n",
       "      <td>17.870000</td>\n",
       "      <td>19479.911610</td>\n",
       "      <td>99.000000</td>\n",
       "      <td>212183.000000</td>\n",
       "      <td>87.30000</td>\n",
       "      <td>2500.000000</td>\n",
       "      <td>99.000000</td>\n",
       "      <td>17.600000</td>\n",
       "      <td>99.000000</td>\n",
       "      <td>50.600000</td>\n",
       "      <td>119172.741800</td>\n",
       "      <td>1.293859e+09</td>\n",
       "      <td>27.700000</td>\n",
       "      <td>28.600000</td>\n",
       "      <td>0.948000</td>\n",
       "      <td>20.700000</td>\n",
       "    </tr>\n",
       "  </tbody>\n",
       "</table>\n",
       "</div>"
      ],
      "text/plain": [
       "              Year  Life expectancy  Adult Mortality  infant deaths  \\\n",
       "count  2938.000000      2938.000000      2938.000000    2938.000000   \n",
       "mean   2007.518720        69.214874       164.744554      30.303948   \n",
       "std       4.613841         9.510819       124.226596     117.926501   \n",
       "min    2000.000000        36.300000         1.000000       0.000000   \n",
       "25%    2004.000000        63.100000        74.000000       0.000000   \n",
       "50%    2008.000000        72.000000       144.000000       3.000000   \n",
       "75%    2012.000000        75.600000       228.000000      22.000000   \n",
       "max    2015.000000        89.000000       723.000000    1800.000000   \n",
       "\n",
       "           Alcohol  percentage expenditure  Hepatitis B        Measles  \\\n",
       "count  2938.000000             2938.000000  2938.000000    2938.000000   \n",
       "mean      4.548919              738.251295    78.536419    2419.592240   \n",
       "std       3.994854             1987.914858    25.177963   11467.272489   \n",
       "min       0.010000                0.000000     1.000000       0.000000   \n",
       "25%       0.902500                4.685343    71.000000       0.000000   \n",
       "50%       3.697500               64.912906    89.000000      17.000000   \n",
       "75%       7.550000              441.534144    96.000000     360.250000   \n",
       "max      17.870000            19479.911610    99.000000  212183.000000   \n",
       "\n",
       "              BMI  under-five deaths        Polio  Total expenditure  \\\n",
       "count  2938.00000        2938.000000  2938.000000        2938.000000   \n",
       "mean     38.29869          42.035739    82.474643           5.940955   \n",
       "std      19.99140         160.445548    23.420689           2.445751   \n",
       "min       1.00000           0.000000     3.000000           0.370000   \n",
       "25%      19.32500           0.000000    78.000000           4.312500   \n",
       "50%      43.25000           4.000000    93.000000           5.760000   \n",
       "75%      56.10000          28.000000    97.000000           7.440000   \n",
       "max      87.30000        2500.000000    99.000000          17.600000   \n",
       "\n",
       "        Diphtheria     HIV/AIDS            GDP    Population  \\\n",
       "count  2938.000000  2938.000000    2938.000000  2.938000e+03   \n",
       "mean     82.246086     1.742103    7432.027910  1.229209e+07   \n",
       "std      23.705664     5.077785   13410.150286  5.471908e+07   \n",
       "min       2.000000     0.100000       1.681350  3.400000e+01   \n",
       "25%      78.000000     0.100000     553.618620  2.536025e+05   \n",
       "50%      93.000000     0.100000    2192.681084  1.576319e+06   \n",
       "75%      97.000000     0.800000    7183.381694  8.215738e+06   \n",
       "max      99.000000    50.600000  119172.741800  1.293859e+09   \n",
       "\n",
       "       thinness  1-19 years  thinness 5-9 years  \\\n",
       "count           2938.000000         2938.000000   \n",
       "mean               4.882301            4.920439   \n",
       "std                4.433359            4.532488   \n",
       "min                0.100000            0.100000   \n",
       "25%                1.600000            1.600000   \n",
       "50%                3.400000            3.400000   \n",
       "75%                7.200000            7.300000   \n",
       "max               27.700000           28.600000   \n",
       "\n",
       "       Income composition of resources    Schooling  \n",
       "count                      2938.000000  2938.000000  \n",
       "mean                          0.634458    12.076804  \n",
       "std                           0.209574     3.342316  \n",
       "min                           0.000000     0.000000  \n",
       "25%                           0.500000    10.200000  \n",
       "50%                           0.684000    12.400000  \n",
       "75%                           0.791107    14.300000  \n",
       "max                           0.948000    20.700000  "
      ]
     },
     "execution_count": 12,
     "metadata": {},
     "output_type": "execute_result"
    }
   ],
   "source": [
    "lifeexpectancy_df.describe()"
   ]
  },
  {
   "cell_type": "markdown",
   "metadata": {},
   "source": [
    "###### outliers"
   ]
  },
  {
   "cell_type": "markdown",
   "metadata": {},
   "source": [
    "###### no one on slack could help me either correct or come up with a function to iterate through the columns to calculate z-scores or IQR; I did each one individually, which I know is ridiculous. "
   ]
  },
  {
   "cell_type": "code",
   "execution_count": null,
   "metadata": {},
   "outputs": [],
   "source": []
  },
  {
   "cell_type": "code",
   "execution_count": 215,
   "metadata": {},
   "outputs": [
    {
     "name": "stdout",
     "output_type": "stream",
     "text": [
      "['Year', 'Life expectancy', 'Adult Mortality', 'infant deaths', 'Alcohol', 'percentage expenditure', 'Hepatitis B', 'Measles', 'BMI', 'under-five deaths', 'Polio', 'Total expenditure', 'Diphtheria', 'HIV/AIDS', 'GDP', 'Population', 'thinness  1-19 years', 'thinness 5-9 years', 'Income composition of resources', 'Schooling', 'winsorized_adult_mortality', 'winsorized_infant deaths', 'winsorized_Alcohol', 'winsorized_percentage expenditure', 'winsorized_Measles', 'winsorized_under-five deaths', 'winsorized_Polio', 'winsorized_Total expenditure', 'winsorized_Diphtheria', 'winsorized_HIV/AIDS', 'winsorized_GDP', 'winsorized_Population', 'winsorized_thinness  1-19 years', 'winsorized_thinness 5-9 years', 'log_infant deaths', 'log_percentage expenditure', 'log_Measles', 'log_under-five deaths', 'log_Diphtheria', 'log_HIV/AIDS', 'log_GDP', 'log_Population']\n",
      "Year\n",
      "The score threshold is: 3\n",
      "Number of outliers is: 0\n",
      "Year\n",
      "The score threshold is: 4\n",
      "Number of outliers is: 0\n",
      "Life expectancy\n",
      "The score threshold is: 3\n",
      "Number of outliers is: 0\n",
      "Life expectancy\n",
      "The score threshold is: 4\n",
      "Number of outliers is: 0\n",
      "Adult Mortality\n",
      "The score threshold is: 3\n",
      "Number of outliers is: 40\n",
      "Adult Mortality\n",
      "The score threshold is: 4\n",
      "Number of outliers is: 11\n",
      "infant deaths\n",
      "The score threshold is: 3\n",
      "Number of outliers is: 37\n",
      "infant deaths\n",
      "The score threshold is: 4\n",
      "Number of outliers is: 29\n",
      "Alcohol\n",
      "The score threshold is: 3\n",
      "Number of outliers is: 4\n",
      "Alcohol\n",
      "The score threshold is: 4\n",
      "Number of outliers is: 0\n",
      "percentage expenditure\n",
      "The score threshold is: 3\n",
      "Number of outliers is: 84\n",
      "percentage expenditure\n",
      "The score threshold is: 4\n",
      "Number of outliers is: 44\n",
      "Hepatitis B\n",
      "The score threshold is: 3\n",
      "Number of outliers is: 0\n",
      "Hepatitis B\n",
      "The score threshold is: 4\n",
      "Number of outliers is: 0\n",
      "Measles\n",
      "The score threshold is: 3\n",
      "Number of outliers is: 48\n",
      "Measles\n",
      "The score threshold is: 4\n",
      "Number of outliers is: 37\n",
      "BMI\n",
      "The score threshold is: 3\n",
      "Number of outliers is: 0\n",
      "BMI\n",
      "The score threshold is: 4\n",
      "Number of outliers is: 0\n",
      "under-five deaths\n",
      "The score threshold is: 3\n",
      "Number of outliers is: 34\n",
      "under-five deaths\n",
      "The score threshold is: 4\n",
      "Number of outliers is: 32\n",
      "Polio\n",
      "The score threshold is: 3\n",
      "Number of outliers is: 0\n",
      "Polio\n",
      "The score threshold is: 4\n",
      "Number of outliers is: 0\n",
      "Total expenditure\n",
      "The score threshold is: 3\n",
      "Number of outliers is: 26\n",
      "Total expenditure\n",
      "The score threshold is: 4\n",
      "Number of outliers is: 9\n",
      "Diphtheria\n",
      "The score threshold is: 3\n",
      "Number of outliers is: 0\n",
      "Diphtheria\n",
      "The score threshold is: 4\n",
      "Number of outliers is: 0\n",
      "HIV/AIDS\n",
      "The score threshold is: 3\n",
      "Number of outliers is: 69\n",
      "HIV/AIDS\n",
      "The score threshold is: 4\n",
      "Number of outliers is: 52\n",
      "GDP\n",
      "The score threshold is: 3\n",
      "Number of outliers is: 84\n",
      "GDP\n",
      "The score threshold is: 4\n",
      "Number of outliers is: 36\n",
      "Population\n",
      "The score threshold is: 3\n",
      "Number of outliers is: 22\n",
      "Population\n",
      "The score threshold is: 4\n",
      "Number of outliers is: 11\n",
      "thinness  1-19 years\n",
      "The score threshold is: 3\n",
      "Number of outliers is: 53\n",
      "thinness  1-19 years\n",
      "The score threshold is: 4\n",
      "Number of outliers is: 16\n",
      "thinness 5-9 years\n",
      "The score threshold is: 3\n",
      "Number of outliers is: 55\n",
      "thinness 5-9 years\n",
      "The score threshold is: 4\n",
      "Number of outliers is: 16\n",
      "Income composition of resources\n",
      "The score threshold is: 3\n",
      "Number of outliers is: 0\n",
      "Income composition of resources\n",
      "The score threshold is: 4\n",
      "Number of outliers is: 0\n",
      "Schooling\n",
      "The score threshold is: 3\n",
      "Number of outliers is: 0\n",
      "Schooling\n",
      "The score threshold is: 4\n",
      "Number of outliers is: 0\n",
      "winsorized_adult_mortality\n",
      "The score threshold is: 3\n",
      "Number of outliers is: 0\n",
      "winsorized_adult_mortality\n",
      "The score threshold is: 4\n",
      "Number of outliers is: 0\n",
      "winsorized_infant deaths\n",
      "The score threshold is: 3\n",
      "Number of outliers is: 0\n",
      "winsorized_infant deaths\n",
      "The score threshold is: 4\n",
      "Number of outliers is: 0\n",
      "winsorized_Alcohol\n",
      "The score threshold is: 3\n",
      "Number of outliers is: 0\n",
      "winsorized_Alcohol\n",
      "The score threshold is: 4\n",
      "Number of outliers is: 0\n",
      "winsorized_percentage expenditure\n",
      "The score threshold is: 3\n",
      "Number of outliers is: 0\n",
      "winsorized_percentage expenditure\n",
      "The score threshold is: 4\n",
      "Number of outliers is: 0\n",
      "winsorized_Measles\n",
      "The score threshold is: 3\n",
      "Number of outliers is: 0\n",
      "winsorized_Measles\n",
      "The score threshold is: 4\n",
      "Number of outliers is: 0\n",
      "winsorized_under-five deaths\n",
      "The score threshold is: 3\n",
      "Number of outliers is: 0\n",
      "winsorized_under-five deaths\n",
      "The score threshold is: 4\n",
      "Number of outliers is: 0\n",
      "winsorized_Polio\n",
      "The score threshold is: 3\n",
      "Number of outliers is: 0\n",
      "winsorized_Polio\n",
      "The score threshold is: 4\n",
      "Number of outliers is: 0\n",
      "winsorized_Total expenditure\n",
      "The score threshold is: 3\n",
      "Number of outliers is: 0\n",
      "winsorized_Total expenditure\n",
      "The score threshold is: 4\n",
      "Number of outliers is: 0\n",
      "winsorized_Diphtheria\n",
      "The score threshold is: 3\n",
      "Number of outliers is: 0\n",
      "winsorized_Diphtheria\n",
      "The score threshold is: 4\n",
      "Number of outliers is: 0\n",
      "winsorized_HIV/AIDS\n",
      "The score threshold is: 3\n",
      "Number of outliers is: 0\n",
      "winsorized_HIV/AIDS\n",
      "The score threshold is: 4\n",
      "Number of outliers is: 0\n",
      "winsorized_GDP\n",
      "The score threshold is: 3\n",
      "Number of outliers is: 0\n",
      "winsorized_GDP\n",
      "The score threshold is: 4\n",
      "Number of outliers is: 0\n",
      "winsorized_Population\n",
      "The score threshold is: 3\n",
      "Number of outliers is: 0\n",
      "winsorized_Population\n",
      "The score threshold is: 4\n",
      "Number of outliers is: 0\n",
      "winsorized_thinness  1-19 years\n",
      "The score threshold is: 3\n",
      "Number of outliers is: 0\n",
      "winsorized_thinness  1-19 years\n",
      "The score threshold is: 4\n",
      "Number of outliers is: 0\n",
      "winsorized_thinness 5-9 years\n",
      "The score threshold is: 3\n",
      "Number of outliers is: 0\n",
      "winsorized_thinness 5-9 years\n",
      "The score threshold is: 4\n",
      "Number of outliers is: 0\n",
      "log_infant deaths\n",
      "The score threshold is: 3\n",
      "Number of outliers is: 0\n",
      "log_infant deaths\n",
      "The score threshold is: 4\n",
      "Number of outliers is: 0\n",
      "log_percentage expenditure\n",
      "The score threshold is: 3\n",
      "Number of outliers is: 0\n",
      "log_percentage expenditure\n",
      "The score threshold is: 4\n",
      "Number of outliers is: 0\n",
      "log_Measles\n",
      "The score threshold is: 3\n",
      "Number of outliers is: 0\n",
      "log_Measles\n",
      "The score threshold is: 4\n",
      "Number of outliers is: 0\n",
      "log_under-five deaths\n",
      "The score threshold is: 3\n",
      "Number of outliers is: 0\n",
      "log_under-five deaths\n",
      "The score threshold is: 4\n",
      "Number of outliers is: 0\n",
      "log_Diphtheria\n",
      "The score threshold is: 3\n",
      "Number of outliers is: 0\n",
      "log_Diphtheria\n",
      "The score threshold is: 4\n",
      "Number of outliers is: 0\n",
      "log_HIV/AIDS\n",
      "The score threshold is: 3\n",
      "Number of outliers is: 13\n",
      "log_HIV/AIDS\n",
      "The score threshold is: 4\n",
      "Number of outliers is: 0\n",
      "log_GDP\n",
      "The score threshold is: 3\n",
      "Number of outliers is: 0\n",
      "log_GDP\n",
      "The score threshold is: 4\n",
      "Number of outliers is: 0\n",
      "log_Population\n",
      "The score threshold is: 3\n",
      "Number of outliers is: 0\n",
      "log_Population\n",
      "The score threshold is: 4\n",
      "Number of outliers is: 0\n"
     ]
    }
   ],
   "source": [
    "from scipy.stats import zscore\n",
    "\n",
    "outliers = []\n",
    "\n",
    "columns = lifeexpectancy_df.select_dtypes(exclude=['object']).columns.tolist()\n",
    "print(columns)\n",
    "\n",
    "for i in columns:\n",
    "    threshold = 3 \n",
    "    z_scores = zscore(lifeexpectancy_df[i])\n",
    "\n",
    "    for threshold in range(3,5):\n",
    "        print(i)  \n",
    "        print('The score threshold is: {}'.format(threshold))\n",
    "        print('Number of outliers is: {}'.format(len((np.where(z_scores > threshold)[0]))))\n",
    "    \n",
    "    \n"
   ]
  },
  {
   "cell_type": "code",
   "execution_count": 176,
   "metadata": {},
   "outputs": [
    {
     "name": "stdout",
     "output_type": "stream",
     "text": [
      "['Year', 'Life expectancy', 'Adult Mortality', 'infant deaths', 'Alcohol', 'percentage expenditure', 'Hepatitis B', 'Measles', 'BMI', 'under-five deaths', 'Polio', 'Total expenditure', 'Diphtheria', 'HIV/AIDS', 'GDP', 'Population', 'thinness  1-19 years', 'thinness 5-9 years', 'Income composition of resources', 'Schooling', 'winsorized_adult_mortality']\n",
      "Year\n",
      "The score threshold is: 3\n",
      "Number of outliers is: 0\n",
      "Year\n",
      "The score threshold is: 4\n",
      "Number of outliers is: 0\n",
      "Life expectancy\n",
      "The score threshold is: 3\n",
      "Number of outliers is: 0\n",
      "Life expectancy\n",
      "The score threshold is: 4\n",
      "Number of outliers is: 0\n",
      "Adult Mortality\n",
      "The score threshold is: 3\n",
      "Number of outliers is: 5\n",
      "Adult Mortality\n",
      "The score threshold is: 4\n",
      "Number of outliers is: 0\n",
      "infant deaths\n",
      "The score threshold is: 3\n",
      "Number of outliers is: 158\n",
      "infant deaths\n",
      "The score threshold is: 4\n",
      "Number of outliers is: 130\n",
      "Alcohol\n",
      "The score threshold is: 3\n",
      "Number of outliers is: 0\n",
      "Alcohol\n",
      "The score threshold is: 4\n",
      "Number of outliers is: 0\n",
      "percentage expenditure\n",
      "The score threshold is: 3\n",
      "Number of outliers is: 300\n",
      "percentage expenditure\n",
      "The score threshold is: 4\n",
      "Number of outliers is: 258\n",
      "Hepatitis B\n",
      "The score threshold is: 3\n",
      "Number of outliers is: 0\n",
      "Hepatitis B\n",
      "The score threshold is: 4\n",
      "Number of outliers is: 0\n",
      "Measles\n",
      "The score threshold is: 3\n",
      "Number of outliers is: 451\n",
      "Measles\n",
      "The score threshold is: 4\n",
      "Number of outliers is: 409\n",
      "BMI\n",
      "The score threshold is: 3\n",
      "Number of outliers is: 0\n",
      "BMI\n",
      "The score threshold is: 4\n",
      "Number of outliers is: 0\n",
      "under-five deaths\n",
      "The score threshold is: 3\n",
      "Number of outliers is: 195\n",
      "under-five deaths\n",
      "The score threshold is: 4\n",
      "Number of outliers is: 145\n",
      "Polio\n",
      "The score threshold is: 3\n",
      "Number of outliers is: 173\n",
      "Polio\n",
      "The score threshold is: 4\n",
      "Number of outliers is: 0\n",
      "Total expenditure\n",
      "The score threshold is: 3\n",
      "Number of outliers is: 7\n",
      "Total expenditure\n",
      "The score threshold is: 4\n",
      "Number of outliers is: 0\n",
      "Diphtheria\n",
      "The score threshold is: 3\n",
      "Number of outliers is: 172\n",
      "Diphtheria\n",
      "The score threshold is: 4\n",
      "Number of outliers is: 0\n",
      "HIV/AIDS\n",
      "The score threshold is: 3\n",
      "Number of outliers is: 403\n",
      "HIV/AIDS\n",
      "The score threshold is: 4\n",
      "Number of outliers is: 347\n",
      "GDP\n",
      "The score threshold is: 3\n",
      "Number of outliers is: 226\n",
      "GDP\n",
      "The score threshold is: 4\n",
      "Number of outliers is: 180\n",
      "Population\n",
      "The score threshold is: 3\n",
      "Number of outliers is: 248\n",
      "Population\n",
      "The score threshold is: 4\n",
      "Number of outliers is: 186\n",
      "thinness  1-19 years\n",
      "The score threshold is: 3\n",
      "Number of outliers is: 16\n",
      "thinness  1-19 years\n",
      "The score threshold is: 4\n",
      "Number of outliers is: 0\n",
      "thinness 5-9 years\n",
      "The score threshold is: 3\n",
      "Number of outliers is: 16\n",
      "thinness 5-9 years\n",
      "The score threshold is: 4\n",
      "Number of outliers is: 0\n",
      "Income composition of resources\n",
      "The score threshold is: 3\n",
      "Number of outliers is: 0\n",
      "Income composition of resources\n",
      "The score threshold is: 4\n",
      "Number of outliers is: 0\n",
      "Schooling\n",
      "The score threshold is: 3\n",
      "Number of outliers is: 0\n",
      "Schooling\n",
      "The score threshold is: 4\n",
      "Number of outliers is: 0\n",
      "winsorized_adult_mortality\n",
      "The score threshold is: 3\n",
      "Number of outliers is: 0\n",
      "winsorized_adult_mortality\n",
      "The score threshold is: 4\n",
      "Number of outliers is: 0\n"
     ]
    }
   ],
   "source": [
    "\n",
    "columns = lifeexpectancy_df.select_dtypes(exclude=['object']).columns.tolist()\n",
    "print(columns)\n",
    "\n",
    "for i in columns:\n",
    "    threshold = 3 \n",
    "    q75, q25 = np.percentile(lifeexpectancy_df[i], [75 ,25])\n",
    "    iqr = q75 - q25\n",
    "\n",
    "    for threshold in np.arange(3,5,1):\n",
    "        min_val = q25 - (iqr*threshold)\n",
    "        max_val = q75 + (iqr*threshold)\n",
    "        print(i)\n",
    "        print(\"The score threshold is: {}\".format(threshold))\n",
    "        print(\"Number of outliers is: {}\".format(\n",
    "            len((np.where((lifeexpectancy_df[i] > max_val) \n",
    "                      | (lifeexpectancy_df[i] < min_val))[0]))\n",
    "        ))"
   ]
  },
  {
   "cell_type": "code",
   "execution_count": 65,
   "metadata": {},
   "outputs": [
    {
     "name": "stdout",
     "output_type": "stream",
     "text": [
      "The score threshold is: 1\n",
      "Number of outliers is: 405\n",
      "The score threshold is: 2\n",
      "Number of outliers is: 137\n",
      "The score threshold is: 3\n",
      "Number of outliers is: 40\n",
      "The score threshold is: 4\n",
      "Number of outliers is: 11\n"
     ]
    }
   ],
   "source": [
    "from scipy.stats import zscore\n",
    "\n",
    "z_scores = zscore(lifeexpectancy_df['Adult Mortality'])\n",
    "\n",
    "for threshold in range(1,5):\n",
    "    print(\"The score threshold is: {}\".format(threshold))\n",
    "    #print(\"The indices of the outliers:\")\n",
    "    #print(np.where(z_scores > threshold))\n",
    "    print(\"Number of outliers is: {}\".format(len((np.where(z_scores > threshold)[0]))))"
   ]
  },
  {
   "cell_type": "markdown",
   "metadata": {},
   "source": [
    "z_score indicates approx 51 outlier values\n",
    "iqr_score indicates approx 5 values"
   ]
  },
  {
   "cell_type": "code",
   "execution_count": 110,
   "metadata": {},
   "outputs": [
    {
     "name": "stdout",
     "output_type": "stream",
     "text": [
      "The score threshold is: 1\n",
      "Number of outliers is: 176\n",
      "The score threshold is: 2\n",
      "Number of outliers is: 40\n",
      "The score threshold is: 3\n",
      "Number of outliers is: 5\n",
      "The score threshold is: 4\n",
      "Number of outliers is: 0\n"
     ]
    }
   ],
   "source": [
    "q75, q25 = np.percentile(lifeexpectancy_df['Adult Mortality'], [75 ,25])\n",
    "iqr = q75 - q25\n",
    "\n",
    "for threshold in np.arange(1,5,1):\n",
    "    min_val = q25 - (iqr*threshold)\n",
    "    max_val = q75 + (iqr*threshold)\n",
    "    print(\"The score threshold is: {}\".format(threshold))\n",
    "    print(\"Number of outliers is: {}\".format(\n",
    "        len((np.where((lifeexpectancy_df['Adult Mortality'] > max_val) \n",
    "                      | (lifeexpectancy_df['Adult Mortality'] < min_val))[0]))\n",
    "    ))"
   ]
  },
  {
   "cell_type": "code",
   "execution_count": 67,
   "metadata": {},
   "outputs": [
    {
     "name": "stdout",
     "output_type": "stream",
     "text": [
      "The score threshold is: 1\n",
      "Number of outliers is: 400\n",
      "The score threshold is: 2\n",
      "Number of outliers is: 11\n",
      "The score threshold is: 3\n",
      "Number of outliers is: 0\n",
      "The score threshold is: 4\n",
      "Number of outliers is: 0\n"
     ]
    }
   ],
   "source": [
    "z_scores = zscore(lifeexpectancy_df['Life expectancy'])\n",
    "\n",
    "for threshold in range(1,5):\n",
    "    print(\"The score threshold is: {}\".format(threshold))\n",
    "    #print(\"The indices of the outliers:\")\n",
    "    #print(np.where(z_scores > threshold))\n",
    "    print(\"Number of outliers is: {}\".format(len((np.where(z_scores > threshold)[0]))))"
   ]
  },
  {
   "cell_type": "markdown",
   "metadata": {},
   "source": [
    "z_score indicates approx 0 outlier values\n",
    "iqr_score indicates approx 0 values"
   ]
  },
  {
   "cell_type": "code",
   "execution_count": 111,
   "metadata": {},
   "outputs": [
    {
     "name": "stdout",
     "output_type": "stream",
     "text": [
      "The score threshold is: 1\n",
      "Number of outliers is: 138\n",
      "The score threshold is: 2\n",
      "Number of outliers is: 1\n",
      "The score threshold is: 3\n",
      "Number of outliers is: 0\n",
      "The score threshold is: 4\n",
      "Number of outliers is: 0\n"
     ]
    }
   ],
   "source": [
    "q75, q25 = np.percentile(lifeexpectancy_df['Life expectancy'], [75 ,25])\n",
    "iqr = q75 - q25\n",
    "\n",
    "for threshold in np.arange(1,5,1):\n",
    "    min_val = q25 - (iqr*threshold)\n",
    "    max_val = q75 + (iqr*threshold)\n",
    "    print(\"The score threshold is: {}\".format(threshold))\n",
    "    print(\"Number of outliers is: {}\".format(\n",
    "        len((np.where((lifeexpectancy_df['Life expectancy'] > max_val) \n",
    "                      | (lifeexpectancy_df['Life expectancy'] < min_val))[0]))\n",
    "    ))"
   ]
  },
  {
   "cell_type": "code",
   "execution_count": 69,
   "metadata": {},
   "outputs": [
    {
     "name": "stdout",
     "output_type": "stream",
     "text": [
      "The score threshold is: 1\n",
      "Number of outliers is: 110\n",
      "The score threshold is: 2\n",
      "Number of outliers is: 56\n",
      "The score threshold is: 3\n",
      "Number of outliers is: 37\n",
      "The score threshold is: 4\n",
      "Number of outliers is: 29\n"
     ]
    }
   ],
   "source": [
    "z_scores = zscore(lifeexpectancy_df['infant deaths'])\n",
    "\n",
    "for threshold in range(1,5):\n",
    "    print(\"The score threshold is: {}\".format(threshold))\n",
    "    #print(\"The indices of the outliers:\")\n",
    "    #print(np.where(z_scores > threshold))\n",
    "    print(\"Number of outliers is: {}\".format(len((np.where(z_scores > threshold)[0]))))"
   ]
  },
  {
   "cell_type": "markdown",
   "metadata": {},
   "source": [
    "z_score indicates approx 66 outlier values\n",
    "iqr_score indicates approx 288 values"
   ]
  },
  {
   "cell_type": "code",
   "execution_count": 112,
   "metadata": {},
   "outputs": [
    {
     "name": "stdout",
     "output_type": "stream",
     "text": [
      "The score threshold is: 1\n",
      "Number of outliers is: 419\n",
      "The score threshold is: 2\n",
      "Number of outliers is: 226\n",
      "The score threshold is: 3\n",
      "Number of outliers is: 158\n",
      "The score threshold is: 4\n",
      "Number of outliers is: 130\n"
     ]
    }
   ],
   "source": [
    "q75, q25 = np.percentile(lifeexpectancy_df['infant deaths'], [75 ,25])\n",
    "iqr = q75 - q25\n",
    "\n",
    "for threshold in np.arange(1,5,1):\n",
    "    min_val = q25 - (iqr*threshold)\n",
    "    max_val = q75 + (iqr*threshold)\n",
    "    print(\"The score threshold is: {}\".format(threshold))\n",
    "    print(\"Number of outliers is: {}\".format(\n",
    "        len((np.where((lifeexpectancy_df['infant deaths'] > max_val) \n",
    "                      | (lifeexpectancy_df['infant deaths'] < min_val))[0]))\n",
    "    ))"
   ]
  },
  {
   "cell_type": "code",
   "execution_count": 71,
   "metadata": {},
   "outputs": [
    {
     "name": "stdout",
     "output_type": "stream",
     "text": [
      "The score threshold is: 1\n",
      "Number of outliers is: 583\n",
      "The score threshold is: 2\n",
      "Number of outliers is: 82\n",
      "The score threshold is: 3\n",
      "Number of outliers is: 4\n",
      "The score threshold is: 4\n",
      "Number of outliers is: 0\n"
     ]
    }
   ],
   "source": [
    "z_scores = zscore(lifeexpectancy_df['Alcohol'])\n",
    "\n",
    "for threshold in range(1,5):\n",
    "    print(\"The score threshold is: {}\".format(threshold))\n",
    "    #print(\"The indices of the outliers:\")\n",
    "    #print(np.where(z_scores > threshold))\n",
    "    print(\"Number of outliers is: {}\".format(len((np.where(z_scores > threshold)[0]))))"
   ]
  },
  {
   "cell_type": "markdown",
   "metadata": {},
   "source": [
    "z_score indicates approx 4 outlier values\n",
    "iqr_score indicates approx 0 values"
   ]
  },
  {
   "cell_type": "code",
   "execution_count": 113,
   "metadata": {},
   "outputs": [
    {
     "name": "stdout",
     "output_type": "stream",
     "text": [
      "The score threshold is: 1\n",
      "Number of outliers is: 18\n",
      "The score threshold is: 2\n",
      "Number of outliers is: 0\n",
      "The score threshold is: 3\n",
      "Number of outliers is: 0\n",
      "The score threshold is: 4\n",
      "Number of outliers is: 0\n"
     ]
    }
   ],
   "source": [
    "q75, q25 = np.percentile(lifeexpectancy_df['Alcohol'], [75 ,25])\n",
    "iqr = q75 - q25\n",
    "\n",
    "for threshold in np.arange(1,5,1):\n",
    "    min_val = q25 - (iqr*threshold)\n",
    "    max_val = q75 + (iqr*threshold)\n",
    "    print(\"The score threshold is: {}\".format(threshold))\n",
    "    print(\"Number of outliers is: {}\".format(\n",
    "        len((np.where((lifeexpectancy_df['Alcohol'] > max_val) \n",
    "                      | (lifeexpectancy_df['Alcohol'] < min_val))[0]))\n",
    "    ))"
   ]
  },
  {
   "cell_type": "code",
   "execution_count": 73,
   "metadata": {},
   "outputs": [
    {
     "name": "stdout",
     "output_type": "stream",
     "text": [
      "The score threshold is: 1\n",
      "Number of outliers is: 222\n",
      "The score threshold is: 2\n",
      "Number of outliers is: 141\n",
      "The score threshold is: 3\n",
      "Number of outliers is: 84\n",
      "The score threshold is: 4\n",
      "Number of outliers is: 44\n"
     ]
    }
   ],
   "source": [
    "z_scores = zscore(lifeexpectancy_df['percentage expenditure'])\n",
    "\n",
    "for threshold in range(1,5):\n",
    "    print(\"The score threshold is: {}\".format(threshold))\n",
    "    #print(\"The indices of the outliers:\")\n",
    "    #print(np.where(z_scores > threshold))\n",
    "    print(\"Number of outliers is: {}\".format(len((np.where(z_scores > threshold)[0]))))"
   ]
  },
  {
   "cell_type": "markdown",
   "metadata": {},
   "source": [
    "z_score indicates approx 128 outlier values\n",
    "iqr_score indicates approx 558 values"
   ]
  },
  {
   "cell_type": "code",
   "execution_count": 114,
   "metadata": {},
   "outputs": [
    {
     "name": "stdout",
     "output_type": "stream",
     "text": [
      "The score threshold is: 1\n",
      "Number of outliers is: 454\n",
      "The score threshold is: 2\n",
      "Number of outliers is: 349\n",
      "The score threshold is: 3\n",
      "Number of outliers is: 300\n",
      "The score threshold is: 4\n",
      "Number of outliers is: 258\n"
     ]
    }
   ],
   "source": [
    "q75, q25 = np.percentile(lifeexpectancy_df['percentage expenditure'], [75 ,25])\n",
    "iqr = q75 - q25\n",
    "\n",
    "for threshold in np.arange(1,5,1):\n",
    "    min_val = q25 - (iqr*threshold)\n",
    "    max_val = q75 + (iqr*threshold)\n",
    "    print(\"The score threshold is: {}\".format(threshold))\n",
    "    print(\"Number of outliers is: {}\".format(\n",
    "        len((np.where((lifeexpectancy_df['percentage expenditure'] > max_val) \n",
    "                      | (lifeexpectancy_df['percentage expenditure'] < min_val))[0]))\n",
    "    ))"
   ]
  },
  {
   "cell_type": "code",
   "execution_count": 75,
   "metadata": {},
   "outputs": [
    {
     "name": "stdout",
     "output_type": "stream",
     "text": [
      "The score threshold is: 1\n",
      "Number of outliers is: 0\n",
      "The score threshold is: 2\n",
      "Number of outliers is: 0\n",
      "The score threshold is: 3\n",
      "Number of outliers is: 0\n",
      "The score threshold is: 4\n",
      "Number of outliers is: 0\n"
     ]
    }
   ],
   "source": [
    "z_scores = zscore(lifeexpectancy_df['Hepatitis B'])\n",
    "\n",
    "for threshold in range(1,5):\n",
    "    print(\"The score threshold is: {}\".format(threshold))\n",
    "    #print(\"The indices of the outliers:\")\n",
    "    #print(np.where(z_scores > threshold))\n",
    "    print(\"Number of outliers is: {}\".format(len((np.where(z_scores > threshold)[0]))))"
   ]
  },
  {
   "cell_type": "markdown",
   "metadata": {},
   "source": [
    "z_score indicates approx 0 outlier values\n",
    "iqr_score indicates approx 0 values"
   ]
  },
  {
   "cell_type": "code",
   "execution_count": 115,
   "metadata": {},
   "outputs": [
    {
     "name": "stdout",
     "output_type": "stream",
     "text": [
      "The score threshold is: 1\n",
      "Number of outliers is: 372\n",
      "The score threshold is: 2\n",
      "Number of outliers is: 190\n",
      "The score threshold is: 3\n",
      "Number of outliers is: 0\n",
      "The score threshold is: 4\n",
      "Number of outliers is: 0\n"
     ]
    }
   ],
   "source": [
    "q75, q25 = np.percentile(lifeexpectancy_df['Hepatitis B'], [75 ,25])\n",
    "iqr = q75 - q25\n",
    "\n",
    "for threshold in np.arange(1,5,1):\n",
    "    min_val = q25 - (iqr*threshold)\n",
    "    max_val = q75 + (iqr*threshold)\n",
    "    print(\"The score threshold is: {}\".format(threshold))\n",
    "    print(\"Number of outliers is: {}\".format(\n",
    "        len((np.where((lifeexpectancy_df['Hepatitis B'] > max_val) \n",
    "                      | (lifeexpectancy_df['Hepatitis B'] < min_val))[0]))\n",
    "    ))"
   ]
  },
  {
   "cell_type": "code",
   "execution_count": 77,
   "metadata": {},
   "outputs": [
    {
     "name": "stdout",
     "output_type": "stream",
     "text": [
      "The score threshold is: 1\n",
      "Number of outliers is: 112\n",
      "The score threshold is: 2\n",
      "Number of outliers is: 67\n",
      "The score threshold is: 3\n",
      "Number of outliers is: 48\n",
      "The score threshold is: 4\n",
      "Number of outliers is: 37\n"
     ]
    }
   ],
   "source": [
    "z_scores = zscore(lifeexpectancy_df['Measles'])\n",
    "\n",
    "for threshold in range(1,5):\n",
    "    print(\"The score threshold is: {}\".format(threshold))\n",
    "    #print(\"The indices of the outliers:\")\n",
    "    #print(np.where(z_scores > threshold))\n",
    "    print(\"Number of outliers is: {}\".format(len((np.where(z_scores > threshold)[0]))))"
   ]
  },
  {
   "cell_type": "code",
   "execution_count": null,
   "metadata": {},
   "outputs": [],
   "source": [
    "z_score indicates approx 85 outlier values\n",
    "iqr_score indicates approx 860 values"
   ]
  },
  {
   "cell_type": "code",
   "execution_count": 116,
   "metadata": {},
   "outputs": [
    {
     "name": "stdout",
     "output_type": "stream",
     "text": [
      "The score threshold is: 1\n",
      "Number of outliers is: 593\n",
      "The score threshold is: 2\n",
      "Number of outliers is: 513\n",
      "The score threshold is: 3\n",
      "Number of outliers is: 451\n",
      "The score threshold is: 4\n",
      "Number of outliers is: 409\n"
     ]
    }
   ],
   "source": [
    "q75, q25 = np.percentile(lifeexpectancy_df['Measles'], [75 ,25])\n",
    "iqr = q75 - q25\n",
    "\n",
    "for threshold in np.arange(1,5,1):\n",
    "    min_val = q25 - (iqr*threshold)\n",
    "    max_val = q75 + (iqr*threshold)\n",
    "    print(\"The score threshold is: {}\".format(threshold))\n",
    "    print(\"Number of outliers is: {}\".format(\n",
    "        len((np.where((lifeexpectancy_df['Measles'] > max_val) \n",
    "                      | (lifeexpectancy_df['Measles'] < min_val))[0]))\n",
    "    ))"
   ]
  },
  {
   "cell_type": "code",
   "execution_count": 79,
   "metadata": {},
   "outputs": [
    {
     "name": "stdout",
     "output_type": "stream",
     "text": [
      "The score threshold is: 1\n",
      "Number of outliers is: 522\n",
      "The score threshold is: 2\n",
      "Number of outliers is: 5\n",
      "The score threshold is: 3\n",
      "Number of outliers is: 0\n",
      "The score threshold is: 4\n",
      "Number of outliers is: 0\n"
     ]
    }
   ],
   "source": [
    "z_scores = zscore(lifeexpectancy_df['BMI'])\n",
    "\n",
    "for threshold in range(1,5):\n",
    "    print(\"The score threshold is: {}\".format(threshold))\n",
    "    #print(\"The indices of the outliers:\")\n",
    "    #print(np.where(z_scores > threshold))\n",
    "    print(\"Number of outliers is: {}\".format(len((np.where(z_scores > threshold)[0]))))"
   ]
  },
  {
   "cell_type": "markdown",
   "metadata": {},
   "source": [
    "z_score indicates approx 0 outlier values\n",
    "iqr_score indicates approx 0 values"
   ]
  },
  {
   "cell_type": "code",
   "execution_count": 117,
   "metadata": {},
   "outputs": [
    {
     "name": "stdout",
     "output_type": "stream",
     "text": [
      "The score threshold is: 1\n",
      "Number of outliers is: 0\n",
      "The score threshold is: 2\n",
      "Number of outliers is: 0\n",
      "The score threshold is: 3\n",
      "Number of outliers is: 0\n",
      "The score threshold is: 4\n",
      "Number of outliers is: 0\n"
     ]
    }
   ],
   "source": [
    "q75, q25 = np.percentile(lifeexpectancy_df['BMI'], [75 ,25])\n",
    "iqr = q75 - q25\n",
    "\n",
    "for threshold in np.arange(1,5,1):\n",
    "    min_val = q25 - (iqr*threshold)\n",
    "    max_val = q75 + (iqr*threshold)\n",
    "    print(\"The score threshold is: {}\".format(threshold))\n",
    "    print(\"Number of outliers is: {}\".format(\n",
    "        len((np.where((lifeexpectancy_df['BMI'] > max_val) \n",
    "                      | (lifeexpectancy_df['BMI'] < min_val))[0]))\n",
    "    ))"
   ]
  },
  {
   "cell_type": "code",
   "execution_count": 81,
   "metadata": {},
   "outputs": [
    {
     "name": "stdout",
     "output_type": "stream",
     "text": [
      "The score threshold is: 1\n",
      "Number of outliers is: 104\n",
      "The score threshold is: 2\n",
      "Number of outliers is: 57\n",
      "The score threshold is: 3\n",
      "Number of outliers is: 34\n",
      "The score threshold is: 4\n",
      "Number of outliers is: 32\n"
     ]
    }
   ],
   "source": [
    "z_scores = zscore(lifeexpectancy_df['under-five deaths'])\n",
    "\n",
    "for threshold in range(1,5):\n",
    "    print(\"The score threshold is: {}\".format(threshold))\n",
    "    #print(\"The indices of the outliers:\")\n",
    "    #print(np.where(z_scores > threshold))\n",
    "    print(\"Number of outliers is: {}\".format(len((np.where(z_scores > threshold)[0]))))"
   ]
  },
  {
   "cell_type": "markdown",
   "metadata": {},
   "source": [
    "z_score indicates approx 66 outlier values\n",
    "iqr_score indicates approx 340 values"
   ]
  },
  {
   "cell_type": "code",
   "execution_count": 118,
   "metadata": {},
   "outputs": [
    {
     "name": "stdout",
     "output_type": "stream",
     "text": [
      "The score threshold is: 1\n",
      "Number of outliers is: 465\n",
      "The score threshold is: 2\n",
      "Number of outliers is: 308\n",
      "The score threshold is: 3\n",
      "Number of outliers is: 195\n",
      "The score threshold is: 4\n",
      "Number of outliers is: 145\n"
     ]
    }
   ],
   "source": [
    "q75, q25 = np.percentile(lifeexpectancy_df['under-five deaths'], [75 ,25])\n",
    "iqr = q75 - q25\n",
    "\n",
    "for threshold in np.arange(1,5,1):\n",
    "    min_val = q25 - (iqr*threshold)\n",
    "    max_val = q75 + (iqr*threshold)\n",
    "    print(\"The score threshold is: {}\".format(threshold))\n",
    "    print(\"Number of outliers is: {}\".format(\n",
    "        len((np.where((lifeexpectancy_df['under-five deaths'] > max_val) \n",
    "                      | (lifeexpectancy_df['under-five deaths'] < min_val))[0]))\n",
    "    ))"
   ]
  },
  {
   "cell_type": "code",
   "execution_count": 83,
   "metadata": {},
   "outputs": [
    {
     "name": "stdout",
     "output_type": "stream",
     "text": [
      "The score threshold is: 1\n",
      "Number of outliers is: 0\n",
      "The score threshold is: 2\n",
      "Number of outliers is: 0\n",
      "The score threshold is: 3\n",
      "Number of outliers is: 0\n",
      "The score threshold is: 4\n",
      "Number of outliers is: 0\n"
     ]
    }
   ],
   "source": [
    "z_scores = zscore(lifeexpectancy_df['Polio'])\n",
    "\n",
    "for threshold in range(1,5):\n",
    "    print(\"The score threshold is: {}\".format(threshold))\n",
    "    print(\"Number of outliers is: {}\".format(len((np.where(z_scores > threshold)[0]))))"
   ]
  },
  {
   "cell_type": "markdown",
   "metadata": {},
   "source": [
    "z_score indicates approx 0 outlier values\n",
    "iqr_score indicates approx 173 values"
   ]
  },
  {
   "cell_type": "code",
   "execution_count": 119,
   "metadata": {},
   "outputs": [
    {
     "name": "stdout",
     "output_type": "stream",
     "text": [
      "The score threshold is: 1\n",
      "Number of outliers is: 361\n",
      "The score threshold is: 2\n",
      "Number of outliers is: 204\n",
      "The score threshold is: 3\n",
      "Number of outliers is: 173\n",
      "The score threshold is: 4\n",
      "Number of outliers is: 0\n"
     ]
    }
   ],
   "source": [
    "q75, q25 = np.percentile(lifeexpectancy_df['Polio'], [75 ,25])\n",
    "iqr = q75 - q25\n",
    "\n",
    "for threshold in np.arange(1,5,1):\n",
    "    min_val = q25 - (iqr*threshold)\n",
    "    max_val = q75 + (iqr*threshold)\n",
    "    print(\"The score threshold is: {}\".format(threshold))\n",
    "    print(\"Number of outliers is: {}\".format(\n",
    "        len((np.where((lifeexpectancy_df['Polio'] > max_val) \n",
    "                      | (lifeexpectancy_df['Polio'] < min_val))[0]))\n",
    "    ))"
   ]
  },
  {
   "cell_type": "code",
   "execution_count": 85,
   "metadata": {},
   "outputs": [
    {
     "name": "stdout",
     "output_type": "stream",
     "text": [
      "The score threshold is: 1\n",
      "Number of outliers is: 461\n",
      "The score threshold is: 2\n",
      "Number of outliers is: 105\n",
      "The score threshold is: 3\n",
      "Number of outliers is: 26\n",
      "The score threshold is: 4\n",
      "Number of outliers is: 9\n"
     ]
    }
   ],
   "source": [
    "z_scores = zscore(lifeexpectancy_df['Total expenditure'])\n",
    "\n",
    "for threshold in range(1,5):\n",
    "    print(\"The score threshold is: {}\".format(threshold))\n",
    "    #print(\"The indices of the outliers:\")\n",
    "    #print(np.where(z_scores > threshold))\n",
    "    print(\"Number of outliers is: {}\".format(len((np.where(z_scores > threshold)[0]))))"
   ]
  },
  {
   "cell_type": "code",
   "execution_count": null,
   "metadata": {},
   "outputs": [],
   "source": [
    "z_score indicates approx 35 outlier values\n",
    "iqr_score indicates approx 7 values"
   ]
  },
  {
   "cell_type": "code",
   "execution_count": 120,
   "metadata": {},
   "outputs": [
    {
     "name": "stdout",
     "output_type": "stream",
     "text": [
      "The score threshold is: 1\n",
      "Number of outliers is: 122\n",
      "The score threshold is: 2\n",
      "Number of outliers is: 22\n",
      "The score threshold is: 3\n",
      "Number of outliers is: 7\n",
      "The score threshold is: 4\n",
      "Number of outliers is: 0\n"
     ]
    }
   ],
   "source": [
    "q75, q25 = np.percentile(lifeexpectancy_df['Total expenditure'], [75 ,25])\n",
    "iqr = q75 - q25\n",
    "\n",
    "for threshold in np.arange(1,5,1):\n",
    "    min_val = q25 - (iqr*threshold)\n",
    "    max_val = q75 + (iqr*threshold)\n",
    "    print(\"The score threshold is: {}\".format(threshold))\n",
    "    print(\"Number of outliers is: {}\".format(\n",
    "        len((np.where((lifeexpectancy_df['Total expenditure'] > max_val) \n",
    "                      | (lifeexpectancy_df['Total expenditure'] < min_val))[0]))\n",
    "    ))"
   ]
  },
  {
   "cell_type": "code",
   "execution_count": 87,
   "metadata": {},
   "outputs": [
    {
     "name": "stdout",
     "output_type": "stream",
     "text": [
      "The score threshold is: 1\n",
      "Number of outliers is: 0\n",
      "The score threshold is: 2\n",
      "Number of outliers is: 0\n",
      "The score threshold is: 3\n",
      "Number of outliers is: 0\n",
      "The score threshold is: 4\n",
      "Number of outliers is: 0\n"
     ]
    }
   ],
   "source": [
    "z_scores = zscore(lifeexpectancy_df['Diphtheria'])\n",
    "\n",
    "for threshold in range(1,5):\n",
    "    print(\"The score threshold is: {}\".format(threshold))\n",
    "    #print(\"The indices of the outliers:\")\n",
    "    #print(np.where(z_scores > threshold))\n",
    "    print(\"Number of outliers is: {}\".format(len((np.where(z_scores > threshold)[0]))))"
   ]
  },
  {
   "cell_type": "code",
   "execution_count": null,
   "metadata": {},
   "outputs": [],
   "source": [
    "z_score indicates approx 0 outlier values\n",
    "iqr_score indicates approx 172 values"
   ]
  },
  {
   "cell_type": "code",
   "execution_count": 121,
   "metadata": {},
   "outputs": [
    {
     "name": "stdout",
     "output_type": "stream",
     "text": [
      "The score threshold is: 1\n",
      "Number of outliers is: 350\n",
      "The score threshold is: 2\n",
      "Number of outliers is: 232\n",
      "The score threshold is: 3\n",
      "Number of outliers is: 172\n",
      "The score threshold is: 4\n",
      "Number of outliers is: 0\n"
     ]
    }
   ],
   "source": [
    "q75, q25 = np.percentile(lifeexpectancy_df['Diphtheria'], [75 ,25])\n",
    "iqr = q75 - q25\n",
    "\n",
    "for threshold in np.arange(1,5,1):\n",
    "    min_val = q25 - (iqr*threshold)\n",
    "    max_val = q75 + (iqr*threshold)\n",
    "    print(\"The score threshold is: {}\".format(threshold))\n",
    "    print(\"Number of outliers is: {}\".format(\n",
    "        len((np.where((lifeexpectancy_df['Diphtheria'] > max_val) \n",
    "                      | (lifeexpectancy_df['Diphtheria'] < min_val))[0]))\n",
    "    ))"
   ]
  },
  {
   "cell_type": "code",
   "execution_count": 89,
   "metadata": {},
   "outputs": [
    {
     "name": "stdout",
     "output_type": "stream",
     "text": [
      "The score threshold is: 1\n",
      "Number of outliers is: 187\n",
      "The score threshold is: 2\n",
      "Number of outliers is: 105\n",
      "The score threshold is: 3\n",
      "Number of outliers is: 69\n",
      "The score threshold is: 4\n",
      "Number of outliers is: 52\n"
     ]
    }
   ],
   "source": [
    "z_scores = zscore(lifeexpectancy_df['HIV/AIDS'])\n",
    "\n",
    "for threshold in range(1,5):\n",
    "    print(\"The score threshold is: {}\".format(threshold))\n",
    "    #print(\"The indices of the outliers:\")\n",
    "    #print(np.where(z_scores > threshold))\n",
    "    print(\"Number of outliers is: {}\".format(len((np.where(z_scores > threshold)[0]))))"
   ]
  },
  {
   "cell_type": "code",
   "execution_count": null,
   "metadata": {},
   "outputs": [],
   "source": [
    "z_score indicates approx 121 outlier values\n",
    "iqr_score indicates approx 747 values"
   ]
  },
  {
   "cell_type": "code",
   "execution_count": 122,
   "metadata": {},
   "outputs": [
    {
     "name": "stdout",
     "output_type": "stream",
     "text": [
      "The score threshold is: 1\n",
      "Number of outliers is: 584\n",
      "The score threshold is: 2\n",
      "Number of outliers is: 474\n",
      "The score threshold is: 3\n",
      "Number of outliers is: 403\n",
      "The score threshold is: 4\n",
      "Number of outliers is: 347\n"
     ]
    }
   ],
   "source": [
    "q75, q25 = np.percentile(lifeexpectancy_df['HIV/AIDS'], [75 ,25])\n",
    "iqr = q75 - q25\n",
    "\n",
    "for threshold in np.arange(1,5,1):\n",
    "    min_val = q25 - (iqr*threshold)\n",
    "    max_val = q75 + (iqr*threshold)\n",
    "    print(\"The score threshold is: {}\".format(threshold))\n",
    "    print(\"Number of outliers is: {}\".format(\n",
    "        len((np.where((lifeexpectancy_df['HIV/AIDS'] > max_val) \n",
    "                      | (lifeexpectancy_df['HIV/AIDS'] < min_val))[0]))\n",
    "    ))"
   ]
  },
  {
   "cell_type": "code",
   "execution_count": 93,
   "metadata": {},
   "outputs": [
    {
     "name": "stdout",
     "output_type": "stream",
     "text": [
      "The score threshold is: 1\n",
      "Number of outliers is: 304\n",
      "The score threshold is: 2\n",
      "Number of outliers is: 176\n",
      "The score threshold is: 3\n",
      "Number of outliers is: 84\n",
      "The score threshold is: 4\n",
      "Number of outliers is: 36\n"
     ]
    }
   ],
   "source": [
    "z_scores = zscore(lifeexpectancy_df['GDP'])\n",
    "\n",
    "for threshold in range(1,5):\n",
    "    print(\"The score threshold is: {}\".format(threshold))\n",
    "    #print(\"The indices of the outliers:\")\n",
    "    #print(np.where(z_scores > threshold))\n",
    "    print(\"Number of outliers is: {}\".format(len((np.where(z_scores > threshold)[0]))))"
   ]
  },
  {
   "cell_type": "code",
   "execution_count": null,
   "metadata": {},
   "outputs": [],
   "source": [
    "z_score indicates approx 120 outlier values\n",
    "iqr_score indicates approx 406 values"
   ]
  },
  {
   "cell_type": "code",
   "execution_count": 123,
   "metadata": {},
   "outputs": [
    {
     "name": "stdout",
     "output_type": "stream",
     "text": [
      "The score threshold is: 1\n",
      "Number of outliers is: 457\n",
      "The score threshold is: 2\n",
      "Number of outliers is: 304\n",
      "The score threshold is: 3\n",
      "Number of outliers is: 226\n",
      "The score threshold is: 4\n",
      "Number of outliers is: 180\n"
     ]
    }
   ],
   "source": [
    "q75, q25 = np.percentile(lifeexpectancy_df['GDP'], [75 ,25])\n",
    "iqr = q75 - q25\n",
    "\n",
    "for threshold in np.arange(1,5,1):\n",
    "    min_val = q25 - (iqr*threshold)\n",
    "    max_val = q75 + (iqr*threshold)\n",
    "    print(\"The score threshold is: {}\".format(threshold))\n",
    "    print(\"Number of outliers is: {}\".format(\n",
    "        len((np.where((lifeexpectancy_df['GDP'] > max_val) \n",
    "                      | (lifeexpectancy_df['GDP'] < min_val))[0]))\n",
    "    ))"
   ]
  },
  {
   "cell_type": "code",
   "execution_count": 98,
   "metadata": {},
   "outputs": [
    {
     "name": "stdout",
     "output_type": "stream",
     "text": [
      "The score threshold is: 1\n",
      "Number of outliers is: 97\n",
      "The score threshold is: 2\n",
      "Number of outliers is: 53\n",
      "The score threshold is: 3\n",
      "Number of outliers is: 22\n",
      "The score threshold is: 4\n",
      "Number of outliers is: 11\n"
     ]
    }
   ],
   "source": [
    "z_scores = zscore(lifeexpectancy_df['Population'])\n",
    "\n",
    "for threshold in range(1,5):\n",
    "    print(\"The score threshold is: {}\".format(threshold))\n",
    "    #print(\"The indices of the outliers:\")\n",
    "    #print(np.where(z_scores > threshold))\n",
    "    print(\"Number of outliers is: {}\".format(len((np.where(z_scores > threshold)[0]))))"
   ]
  },
  {
   "cell_type": "code",
   "execution_count": null,
   "metadata": {},
   "outputs": [],
   "source": [
    "z_score indicates approx 33 outlier values\n",
    "iqr_score indicates approx 434 values"
   ]
  },
  {
   "cell_type": "code",
   "execution_count": 125,
   "metadata": {},
   "outputs": [
    {
     "name": "stdout",
     "output_type": "stream",
     "text": [
      "The score threshold is: 1\n",
      "Number of outliers is: 452\n",
      "The score threshold is: 2\n",
      "Number of outliers is: 327\n",
      "The score threshold is: 3\n",
      "Number of outliers is: 248\n",
      "The score threshold is: 4\n",
      "Number of outliers is: 186\n"
     ]
    }
   ],
   "source": [
    "q75, q25 = np.percentile(lifeexpectancy_df['Population'], [75 ,25])\n",
    "iqr = q75 - q25\n",
    "\n",
    "for threshold in np.arange(1,5,1):\n",
    "    min_val = q25 - (iqr*threshold)\n",
    "    max_val = q75 + (iqr*threshold)\n",
    "    print(\"The score threshold is: {}\".format(threshold))\n",
    "    print(\"Number of outliers is: {}\".format(\n",
    "        len((np.where((lifeexpectancy_df['Population'] > max_val) \n",
    "                      | (lifeexpectancy_df['Population'] < min_val))[0]))\n",
    "    ))"
   ]
  },
  {
   "cell_type": "code",
   "execution_count": 100,
   "metadata": {},
   "outputs": [
    {
     "name": "stdout",
     "output_type": "stream",
     "text": [
      "The score threshold is: 1\n",
      "Number of outliers is: 356\n",
      "The score threshold is: 2\n",
      "Number of outliers is: 153\n",
      "The score threshold is: 3\n",
      "Number of outliers is: 53\n",
      "The score threshold is: 4\n",
      "Number of outliers is: 16\n"
     ]
    }
   ],
   "source": [
    "z_scores = zscore(lifeexpectancy_df['thinness  1-19 years'])\n",
    "\n",
    "for threshold in range(1,5):\n",
    "    print(\"The score threshold is: {}\".format(threshold))\n",
    "    #print(\"The indices of the outliers:\")\n",
    "    #print(np.where(z_scores > threshold))\n",
    "    print(\"Number of outliers is: {}\".format(len((np.where(z_scores > threshold)[0]))))"
   ]
  },
  {
   "cell_type": "code",
   "execution_count": null,
   "metadata": {},
   "outputs": [],
   "source": [
    "z_score indicates approx 69 outlier values\n",
    "iqr_score indicates approx 16 values"
   ]
  },
  {
   "cell_type": "code",
   "execution_count": 126,
   "metadata": {},
   "outputs": [
    {
     "name": "stdout",
     "output_type": "stream",
     "text": [
      "The score threshold is: 1\n",
      "Number of outliers is: 185\n",
      "The score threshold is: 2\n",
      "Number of outliers is: 47\n",
      "The score threshold is: 3\n",
      "Number of outliers is: 16\n",
      "The score threshold is: 4\n",
      "Number of outliers is: 0\n"
     ]
    }
   ],
   "source": [
    "q75, q25 = np.percentile(lifeexpectancy_df['thinness  1-19 years'], [75 ,25])\n",
    "iqr = q75 - q25\n",
    "\n",
    "for threshold in np.arange(1,5,1):\n",
    "    min_val = q25 - (iqr*threshold)\n",
    "    max_val = q75 + (iqr*threshold)\n",
    "    print(\"The score threshold is: {}\".format(threshold))\n",
    "    print(\"Number of outliers is: {}\".format(\n",
    "        len((np.where((lifeexpectancy_df['thinness  1-19 years'] > max_val) \n",
    "                      | (lifeexpectancy_df['thinness  1-19 years'] < min_val))[0]))\n",
    "    ))"
   ]
  },
  {
   "cell_type": "code",
   "execution_count": 102,
   "metadata": {},
   "outputs": [
    {
     "name": "stdout",
     "output_type": "stream",
     "text": [
      "The score threshold is: 1\n",
      "Number of outliers is: 356\n",
      "The score threshold is: 2\n",
      "Number of outliers is: 147\n",
      "The score threshold is: 3\n",
      "Number of outliers is: 55\n",
      "The score threshold is: 4\n",
      "Number of outliers is: 16\n"
     ]
    }
   ],
   "source": [
    "z_scores = zscore(lifeexpectancy_df['thinness 5-9 years'])\n",
    "\n",
    "for threshold in range(1,5):\n",
    "    print(\"The score threshold is: {}\".format(threshold))\n",
    "    #print(\"The indices of the outliers:\")\n",
    "    #print(np.where(z_scores > threshold))\n",
    "    print(\"Number of outliers is: {}\".format(len((np.where(z_scores > threshold)[0]))))"
   ]
  },
  {
   "cell_type": "code",
   "execution_count": null,
   "metadata": {},
   "outputs": [],
   "source": [
    "z_score indicates approx 71 outlier values\n",
    "iqr_score indicates approx 16 values"
   ]
  },
  {
   "cell_type": "code",
   "execution_count": 127,
   "metadata": {},
   "outputs": [
    {
     "name": "stdout",
     "output_type": "stream",
     "text": [
      "The score threshold is: 1\n",
      "Number of outliers is: 187\n",
      "The score threshold is: 2\n",
      "Number of outliers is: 51\n",
      "The score threshold is: 3\n",
      "Number of outliers is: 16\n",
      "The score threshold is: 4\n",
      "Number of outliers is: 0\n"
     ]
    }
   ],
   "source": [
    "q75, q25 = np.percentile(lifeexpectancy_df['thinness 5-9 years'], [75 ,25])\n",
    "iqr = q75 - q25\n",
    "\n",
    "for threshold in np.arange(1,5,1):\n",
    "    min_val = q25 - (iqr*threshold)\n",
    "    max_val = q75 + (iqr*threshold)\n",
    "    print(\"The score threshold is: {}\".format(threshold))\n",
    "    print(\"Number of outliers is: {}\".format(\n",
    "        len((np.where((lifeexpectancy_df['thinness 5-9 years'] > max_val) \n",
    "                      | (lifeexpectancy_df['thinness 5-9 years'] < min_val))[0]))\n",
    "    ))"
   ]
  },
  {
   "cell_type": "code",
   "execution_count": 104,
   "metadata": {},
   "outputs": [
    {
     "name": "stdout",
     "output_type": "stream",
     "text": [
      "The score threshold is: 1\n",
      "Number of outliers is: 394\n",
      "The score threshold is: 2\n",
      "Number of outliers is: 0\n",
      "The score threshold is: 3\n",
      "Number of outliers is: 0\n",
      "The score threshold is: 4\n",
      "Number of outliers is: 0\n"
     ]
    }
   ],
   "source": [
    "z_scores = zscore(lifeexpectancy_df['Income composition of resources'])\n",
    "\n",
    "for threshold in range(1,5):\n",
    "    print(\"The score threshold is: {}\".format(threshold))\n",
    "    #print(\"The indices of the outliers:\")\n",
    "    #print(np.where(z_scores > threshold))\n",
    "    print(\"Number of outliers is: {}\".format(len((np.where(z_scores > threshold)[0]))))"
   ]
  },
  {
   "cell_type": "code",
   "execution_count": null,
   "metadata": {},
   "outputs": [],
   "source": [
    "z_score indicates approx 0 outlier values\n",
    "iqr_score indicates approx 0 values"
   ]
  },
  {
   "cell_type": "code",
   "execution_count": 128,
   "metadata": {},
   "outputs": [
    {
     "name": "stdout",
     "output_type": "stream",
     "text": [
      "The score threshold is: 1\n",
      "Number of outliers is: 130\n",
      "The score threshold is: 2\n",
      "Number of outliers is: 0\n",
      "The score threshold is: 3\n",
      "Number of outliers is: 0\n",
      "The score threshold is: 4\n",
      "Number of outliers is: 0\n"
     ]
    }
   ],
   "source": [
    "q75, q25 = np.percentile(lifeexpectancy_df['Income composition of resources'], [75 ,25])\n",
    "iqr = q75 - q25\n",
    "\n",
    "for threshold in np.arange(1,5,1):\n",
    "    min_val = q25 - (iqr*threshold)\n",
    "    max_val = q75 + (iqr*threshold)\n",
    "    print(\"The score threshold is: {}\".format(threshold))\n",
    "    print(\"Number of outliers is: {}\".format(\n",
    "        len((np.where((lifeexpectancy_df['Income composition of resources'] > max_val) \n",
    "                      | (lifeexpectancy_df['Income composition of resources'] < min_val))[0]))\n",
    "    ))"
   ]
  },
  {
   "cell_type": "code",
   "execution_count": 106,
   "metadata": {},
   "outputs": [
    {
     "name": "stdout",
     "output_type": "stream",
     "text": [
      "The score threshold is: 1\n",
      "Number of outliers is: 429\n",
      "The score threshold is: 2\n",
      "Number of outliers is: 37\n",
      "The score threshold is: 3\n",
      "Number of outliers is: 0\n",
      "The score threshold is: 4\n",
      "Number of outliers is: 0\n"
     ]
    }
   ],
   "source": [
    "z_scores = zscore(lifeexpectancy_df['Schooling'])\n",
    "\n",
    "for threshold in range(1,5):\n",
    "    print(\"The score threshold is: {}\".format(threshold))\n",
    "    #print(\"The indices of the outliers:\")\n",
    "    #print(np.where(z_scores > threshold))\n",
    "    print(\"Number of outliers is: {}\".format(len((np.where(z_scores > threshold)[0]))))"
   ]
  },
  {
   "cell_type": "code",
   "execution_count": null,
   "metadata": {},
   "outputs": [],
   "source": [
    "z_score indicates approx 0 outlier values\n",
    "iqr_score indicates approx 0 values"
   ]
  },
  {
   "cell_type": "code",
   "execution_count": 129,
   "metadata": {},
   "outputs": [
    {
     "name": "stdout",
     "output_type": "stream",
     "text": [
      "The score threshold is: 1\n",
      "Number of outliers is: 200\n",
      "The score threshold is: 2\n",
      "Number of outliers is: 28\n",
      "The score threshold is: 3\n",
      "Number of outliers is: 0\n",
      "The score threshold is: 4\n",
      "Number of outliers is: 0\n"
     ]
    }
   ],
   "source": [
    "q75, q25 = np.percentile(lifeexpectancy_df['Schooling'], [75 ,25])\n",
    "iqr = q75 - q25\n",
    "\n",
    "for threshold in np.arange(1,5,1):\n",
    "    min_val = q25 - (iqr*threshold)\n",
    "    max_val = q75 + (iqr*threshold)\n",
    "    print(\"The score threshold is: {}\".format(threshold))\n",
    "    print(\"Number of outliers is: {}\".format(\n",
    "        len((np.where((lifeexpectancy_df['Schooling'] > max_val) \n",
    "                      | (lifeexpectancy_df['Schooling'] < min_val))[0]))\n",
    "    ))"
   ]
  },
  {
   "cell_type": "code",
   "execution_count": 130,
   "metadata": {},
   "outputs": [
    {
     "data": {
      "text/plain": [
       "Index(['Country', 'Year', 'Status', 'Life expectancy', 'Adult Mortality',\n",
       "       'infant deaths', 'Alcohol', 'percentage expenditure', 'Hepatitis B',\n",
       "       'Measles', 'BMI', 'under-five deaths', 'Polio', 'Total expenditure',\n",
       "       'Diphtheria', 'HIV/AIDS', 'GDP', 'Population', 'thinness  1-19 years',\n",
       "       'thinness 5-9 years', 'Income composition of resources', 'Schooling'],\n",
       "      dtype='object')"
      ]
     },
     "execution_count": 130,
     "metadata": {},
     "output_type": "execute_result"
    }
   ],
   "source": [
    "lifeexpectancy_df.columns.unique()"
   ]
  },
  {
   "cell_type": "markdown",
   "metadata": {},
   "source": [
    "##### transform outliers"
   ]
  },
  {
   "cell_type": "markdown",
   "metadata": {},
   "source": [
    "###### now I'm going to windorize each outlier individually, again, ridiculous. But I can't seem to figure out how to do it, I'm already 3 weeks behind, and I can't take \"too much\" time to figure out how to do it. "
   ]
  },
  {
   "cell_type": "markdown",
   "metadata": {},
   "source": [
    "outliers = ['Adult Mortality', 'infant deaths', 'Alcohol', \n",
    "            'percentage expenditure', 'Measles', 'under-five deaths', \n",
    "            'Polio', 'Total expenditure', 'Diphtheria', 'HIV/AIDS', \n",
    "            'GDP', 'Population', 'thinness  1-19 years', \n",
    "            'thinness 5-9 years']"
   ]
  },
  {
   "cell_type": "code",
   "execution_count": 213,
   "metadata": {},
   "outputs": [],
   "source": [
    "from scipy.stats.mstats import winsorize\n",
    "lifeexpectancy_df['winsorized_adult_mortality'] = winsorize(lifeexpectancy_df['Adult Mortality'], (0, 0.05))\n",
    "lifeexpectancy_df['winsorized_infant deaths'] = winsorize(lifeexpectancy_df['infant deaths'], (.10, 0.10))\n",
    "lifeexpectancy_df['winsorized_Alcohol'] = winsorize(lifeexpectancy_df['Alcohol'], (0, 0.05))\n",
    "lifeexpectancy_df['winsorized_percentage expenditure'] = winsorize(lifeexpectancy_df['percentage expenditure'], (0.10, 0.10))\n",
    "lifeexpectancy_df['winsorized_Measles'] = winsorize(lifeexpectancy_df['Measles'], (0.10, 0.10))\n",
    "lifeexpectancy_df['winsorized_under-five deaths'] = winsorize(lifeexpectancy_df['under-five deaths'], (0.10, 0.10))\n",
    "lifeexpectancy_df['winsorized_Polio'] = winsorize(lifeexpectancy_df['Polio'], (.10, 0.05))\n",
    "lifeexpectancy_df['winsorized_Total expenditure'] = winsorize(lifeexpectancy_df['Total expenditure'], (0, 0.05))\n",
    "lifeexpectancy_df['winsorized_Diphtheria'] = winsorize(lifeexpectancy_df['Diphtheria'], (.10, 0.10))\n",
    "lifeexpectancy_df['winsorized_HIV/AIDS'] = winsorize(lifeexpectancy_df['HIV/AIDS'], (0.10, 0.10))\n",
    "lifeexpectancy_df['winsorized_GDP'] = winsorize(lifeexpectancy_df['GDP'], (0.10, 0.10))\n",
    "lifeexpectancy_df['winsorized_Population'] = winsorize(lifeexpectancy_df['Population'], (0.10, 0.10))\n",
    "lifeexpectancy_df['winsorized_thinness  1-19 years'] = winsorize(lifeexpectancy_df['thinness  1-19 years'], (0, 0.05))\n",
    "lifeexpectancy_df['winsorized_thinness 5-9 years'] = winsorize(lifeexpectancy_df['thinness 5-9 years'], (0, 0.05))\n"
   ]
  },
  {
   "cell_type": "code",
   "execution_count": 214,
   "metadata": {},
   "outputs": [
    {
     "data": {
      "image/png": "[encoded data removed]",
      "text/plain": [
       "<Figure size 1440x1440 with 14 Axes>"
      ]
     },
     "metadata": {
      "needs_background": "light"
     },
     "output_type": "display_data"
    }
   ],
   "source": [
    "plt.figure(figsize=(20,20))\n",
    "\n",
    "plt.subplot(4,4,1)\n",
    "plt.boxplot(lifeexpectancy_df['winsorized_adult_mortality'])\n",
    "plt.title(\"Box plot of winsorized_adult_mortality (whis=1.5)\")\n",
    "\n",
    "plt.subplot(4,4,2)\n",
    "plt.boxplot(lifeexpectancy_df['winsorized_infant deaths'])\n",
    "plt.title(\"Box plot of winsorized_infant deaths (whis=1.5)\")\n",
    "\n",
    "plt.subplot(4,4,3)\n",
    "plt.boxplot(lifeexpectancy_df['winsorized_Alcohol'])\n",
    "plt.title(\"Box plot of winsorized_Alcohol (whis=1.5)\")\n",
    "\n",
    "plt.subplot(4,4,4)\n",
    "plt.boxplot(lifeexpectancy_df['winsorized_percentage expenditure'])\n",
    "plt.title(\"Box plot of winsorized_percentage expenditure (whis=1.5)\")\n",
    "\n",
    "plt.subplot(4,4,5)\n",
    "plt.boxplot(lifeexpectancy_df['winsorized_Measles'])\n",
    "plt.title(\"Box plot of winsorized_Measles (whis=1.5)\")\n",
    "\n",
    "plt.subplot(4,4,6)\n",
    "plt.boxplot(lifeexpectancy_df['winsorized_under-five deaths'])\n",
    "plt.title(\"Box plot of winsorized_under-five deaths (whis=1.5)\")\n",
    "\n",
    "plt.subplot(4,4,7)\n",
    "plt.boxplot(lifeexpectancy_df['winsorized_Polio'])\n",
    "plt.title(\"Box plot of winsorized_Polio (whis=1.5)\")\n",
    "\n",
    "plt.subplot(4,4,8)\n",
    "plt.boxplot(lifeexpectancy_df['winsorized_Total expenditure'])\n",
    "plt.title(\"Box plot of winsorized_Total expenditure (whis=1.5)\")\n",
    "\n",
    "plt.subplot(4,4,9)\n",
    "plt.boxplot(lifeexpectancy_df['winsorized_Diphtheria'])\n",
    "plt.title(\"Box plot of winsorized_Diphtheria (whis=1.5)\")\n",
    "\n",
    "plt.subplot(4,4,10)\n",
    "plt.boxplot(lifeexpectancy_df['winsorized_HIV/AIDS'])\n",
    "plt.title(\"Box plot of winsorized_HIV/AIDS (whis=1.5)\")\n",
    "\n",
    "plt.subplot(4,4,11)\n",
    "plt.boxplot(lifeexpectancy_df['winsorized_GDP'])\n",
    "plt.title(\"Box plot of winsorized_GDP (whis=1.5)\")\n",
    "\n",
    "plt.subplot(4,4,12)\n",
    "plt.boxplot(lifeexpectancy_df['winsorized_Population'])\n",
    "plt.title(\"Box plot of winsorized_Population (whis=1.5)\")\n",
    "\n",
    "plt.subplot(4,4,13)\n",
    "plt.boxplot(lifeexpectancy_df['winsorized_thinness  1-19 years'])\n",
    "plt.title(\"Box plot of winsorized_thinness  1-19 years (whis=1.5)\")\n",
    "\n",
    "plt.subplot(4,4,14)\n",
    "plt.boxplot(lifeexpectancy_df['winsorized_thinness 5-9 years'])\n",
    "plt.title(\"Box plot of winsorized_thinness 5-9 years (whis=1.5)\")\n",
    "\n",
    "\n",
    "plt.tight_layout()\n",
    "plt.show()"
   ]
  },
  {
   "cell_type": "markdown",
   "metadata": {},
   "source": [
    "After winsorization, several variables remain with outliers. Will log_transform these variables. "
   ]
  },
  {
   "cell_type": "code",
   "execution_count": 210,
   "metadata": {},
   "outputs": [],
   "source": [
    "\n",
    "lifeexpectancy_df['log_infant deaths'] = np.log(lifeexpectancy_df['infant deaths'])\n",
    "\n",
    "lifeexpectancy_df['log_percentage expenditure'] = np.log(lifeexpectancy_df['percentage expenditure'])\n",
    "lifeexpectancy_df['log_Measles'] = np.log(lifeexpectancy_df['Measles'])\n",
    "lifeexpectancy_df['log_under-five deaths'] = np.log(lifeexpectancy_df['under-five deaths'])\n",
    "\n",
    "\n",
    "lifeexpectancy_df['log_Diphtheria'] = np.log(lifeexpectancy_df['Diphtheria'])\n",
    "lifeexpectancy_df['log_HIV/AIDS'] = np.log(lifeexpectancy_df['HIV/AIDS'])\n",
    "lifeexpectancy_df['log_GDP'] = np.log(lifeexpectancy_df['GDP'])\n",
    "lifeexpectancy_df['log_Population'] = np.log(lifeexpectancy_df['Population'])\n"
   ]
  },
  {
   "cell_type": "code",
   "execution_count": 212,
   "metadata": {},
   "outputs": [
    {
     "data": {
      "image/png": "[encoded data removed]",
      "text/plain": [
       "<Figure size 432x288 with 1 Axes>"
      ]
     },
     "metadata": {
      "needs_background": "light"
     },
     "output_type": "display_data"
    }
   ],
   "source": [
    "plt.boxplot(lifeexpectancy_df['log_Diphtheria'])\n",
    "plt.title(\"Box plot of winsorized_adult_mortality (whis=1.5)\")\n",
    "plt.show()"
   ]
  },
  {
   "cell_type": "code",
   "execution_count": null,
   "metadata": {},
   "outputs": [],
   "source": [
    "plt.boxplot(np.log(youtube_df[\"Video views\"]))"
   ]
  },
  {
   "cell_type": "markdown",
   "metadata": {},
   "source": [
    "##### question 2 \n",
    "Explore the data using univariate and multivariate exploration techniques. You should pay special attention to your target variable. In this regard, your focus should be on finding the relevant variables that may affect life expectancy."
   ]
  },
  {
   "cell_type": "code",
   "execution_count": null,
   "metadata": {},
   "outputs": [],
   "source": []
  },
  {
   "cell_type": "code",
   "execution_count": null,
   "metadata": {},
   "outputs": [],
   "source": []
  },
  {
   "cell_type": "code",
   "execution_count": null,
   "metadata": {},
   "outputs": [],
   "source": []
  },
  {
   "cell_type": "code",
   "execution_count": null,
   "metadata": {},
   "outputs": [],
   "source": []
  },
  {
   "cell_type": "markdown",
   "metadata": {},
   "source": [
    "##### question 3\n",
    "In the feature engineering step, you need to select a suite of variables that you think would be ideal in the modeling phase. More concretely, you may discard some variables that are very correlated with the other ones or the variables that you think irrelevant with the life expectancy."
   ]
  },
  {
   "cell_type": "code",
   "execution_count": null,
   "metadata": {},
   "outputs": [],
   "source": []
  },
  {
   "cell_type": "code",
   "execution_count": null,
   "metadata": {},
   "outputs": [],
   "source": []
  },
  {
   "cell_type": "code",
   "execution_count": null,
   "metadata": {},
   "outputs": [],
   "source": []
  },
  {
   "cell_type": "code",
   "execution_count": null,
   "metadata": {},
   "outputs": [],
   "source": []
  },
  {
   "cell_type": "markdown",
   "metadata": {},
   "source": [
    "##### question 4 \n",
    "Summarize your findings. One of the most important skills of a data scientist is to convey ideas and findings to nontechnical people using understandable language. In this regard, one of the most effective ways to communicate your ideas is to do it using effective visualization."
   ]
  },
  {
   "cell_type": "code",
   "execution_count": null,
   "metadata": {},
   "outputs": [],
   "source": []
  },
  {
   "cell_type": "code",
   "execution_count": null,
   "metadata": {},
   "outputs": [],
   "source": []
  },
  {
   "cell_type": "code",
   "execution_count": null,
   "metadata": {},
   "outputs": [],
   "source": []
  },
  {
   "cell_type": "code",
   "execution_count": null,
   "metadata": {},
   "outputs": [],
   "source": []
  },
  {
   "cell_type": "code",
   "execution_count": null,
   "metadata": {},
   "outputs": [],
   "source": []
  },
  {
   "cell_type": "code",
   "execution_count": null,
   "metadata": {},
   "outputs": [],
   "source": []
  },
  {
   "cell_type": "code",
   "execution_count": null,
   "metadata": {},
   "outputs": [],
   "source": []
  },
  {
   "cell_type": "code",
   "execution_count": null,
   "metadata": {},
   "outputs": [],
   "source": []
  },
  {
   "cell_type": "code",
   "execution_count": null,
   "metadata": {},
   "outputs": [],
   "source": []
  }
 ],
 "metadata": {
  "kernelspec": {
   "display_name": "Python 3",
   "language": "python",
   "name": "python3"
  },
  "language_info": {
   "codemirror_mode": {
    "name": "ipython",
    "version": 3
   },
   "file_extension": ".py",
   "mimetype": "text/x-python",
   "name": "python",
   "nbconvert_exporter": "python",
   "pygments_lexer": "ipython3",
   "version": "3.7.3"
  }
 },
 "nbformat": 4,
 "nbformat_minor": 2
}
