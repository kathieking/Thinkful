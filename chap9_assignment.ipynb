{
 "cells": [
  {
   "cell_type": "markdown",
   "metadata": {},
   "source": [
    "Assignment:\n",
    "\n",
    "reproduce the pop1 and pop2 populations and samples using numpy's binomial function. \n",
    "\n",
    "Specifically, create two binomially distributed populations with n equal to 10 and size equal to 10000. \n",
    "\n",
    "The p-value of pop1 should be 0.2 and the p-value of pop2 should be 0.5. Using a sample size of 100, calculate the means and standard deviations of your samples.\n",
    "\n",
    "For each of the following tasks, first write what you expect will happen, then code the changes and observe what does happen. Discuss the results with your mentor."
   ]
  },
  {
   "cell_type": "code",
   "execution_count": 1,
   "metadata": {},
   "outputs": [],
   "source": [
    "import numpy as np\n",
    "import pandas as pd\n",
    "import scipy\n",
    "import matplotlib.pyplot as plt\n",
    "%matplotlib inline"
   ]
  },
  {
   "cell_type": "markdown",
   "metadata": {},
   "source": [
    "##### Original plots"
   ]
  },
  {
   "cell_type": "code",
   "execution_count": 2,
   "metadata": {},
   "outputs": [
    {
     "data": {
      "image/png": "[encoded data removed]",
      "text/plain": [
       "<Figure size 432x288 with 1 Axes>"
      ]
     },
     "metadata": {
      "needs_background": "light"
     },
     "output_type": "display_data"
    }
   ],
   "source": [
    "pop1 = np.random.binomial(10, 0.2, 10000) #prob = 0.2, n=10, data=10000\n",
    "pop2 = np.random.binomial(10,0.5, 10000) #prob=0.5, n=10\n",
    "#true pop difference between tow groups is 0.3\n",
    "\n",
    "plt.hist(pop1, alpha=0.5, label='Population 1') \n",
    "plt.hist(pop2, alpha=0.5, label='Population 2') \n",
    "plt.legend(loc='upper right') \n",
    "plt.show()\n"
   ]
  },
  {
   "cell_type": "code",
   "execution_count": 3,
   "metadata": {},
   "outputs": [
    {
     "data": {
      "image/png": "[encoded data removed]",
      "text/plain": [
       "<Figure size 432x288 with 1 Axes>"
      ]
     },
     "metadata": {
      "needs_background": "light"
     },
     "output_type": "display_data"
    }
   ],
   "source": [
    "sample1 = np.random.choice(pop1, 100, replace=True)\n",
    "sample2 = np.random.choice(pop2, 100, replace=True)\n",
    "\n",
    "plt.hist(sample1, alpha=0.5, label='sample 1') \n",
    "plt.hist(sample2, alpha=0.5, label='sample 2') \n",
    "plt.legend(loc='upper right') \n",
    "plt.show()"
   ]
  },
  {
   "cell_type": "code",
   "execution_count": 7,
   "metadata": {},
   "outputs": [
    {
     "name": "stdout",
     "output_type": "stream",
     "text": [
      "1.72\n",
      "5.13\n",
      "1.105260150371848\n",
      "1.494356048604214\n",
      "3.41\n"
     ]
    }
   ],
   "source": [
    "print(sample1.mean())\n",
    "print(sample2.mean())\n",
    "print(sample1.std())\n",
    "print(sample2.std())\n",
    "\n",
    "# Compute the difference between the two sample means.\n",
    "diff=sample2.mean() -sample1.mean()\n",
    "print(diff)"
   ]
  },
  {
   "cell_type": "markdown",
   "metadata": {},
   "source": [
    "##### Plot 2: \n",
    "Increase the size of your samples from 100 to 1000, then calculate the means and standard deviations for your new samples and create histograms for each. "
   ]
  },
  {
   "cell_type": "markdown",
   "metadata": {},
   "source": [
    "First write what you expect will happen, then code the changes and observe what does happen. Discuss the results with your mentor.\n",
    "\n",
    "Expect: \n",
    "\n",
    "With larger sample, I anticipate the difference between the sample means will become smaller as the graphs become \"tighter.\"\n",
    "\n",
    "Result:\n",
    "Differences between mean samples did become smaller.\n",
    "Also, the mean for sample1 increased, sample2 decreased.\n",
    "The SD for both samples increased."
   ]
  },
  {
   "cell_type": "code",
   "execution_count": 15,
   "metadata": {},
   "outputs": [
    {
     "data": {
      "image/png": "[encoded data removed]",
      "text/plain": [
       "<Figure size 432x288 with 1 Axes>"
      ]
     },
     "metadata": {
      "needs_background": "light"
     },
     "output_type": "display_data"
    }
   ],
   "source": [
    "sample1a = np.random.choice(pop1, 1000, replace=True)\n",
    "sample2a = np.random.choice(pop2, 1000, replace=True)\n",
    "\n",
    "plt.hist(sample1a, alpha=0.5, label='sample 1a') \n",
    "plt.hist(sample2a, alpha=0.5, label='sample 2a') \n",
    "plt.legend(loc='upper right') \n",
    "plt.show()"
   ]
  },
  {
   "cell_type": "code",
   "execution_count": 8,
   "metadata": {},
   "outputs": [
    {
     "name": "stdout",
     "output_type": "stream",
     "text": [
      "1.984\n",
      "4.948\n",
      "1.299132017925815\n",
      "1.5307828062791928\n",
      "2.9640000000000004\n"
     ]
    }
   ],
   "source": [
    "print(sample1a.mean())\n",
    "print(sample2a.mean())\n",
    "print(sample1a.std())\n",
    "print(sample2a.std())\n",
    "\n",
    "# Compute the difference between the two sample means.\n",
    "diff=sample2a.mean() -sample1a.mean()\n",
    "print(diff)"
   ]
  },
  {
   "cell_type": "markdown",
   "metadata": {},
   "source": [
    "##### Plot 3:\n",
    "Repeat this again, decreasing the size of your samples to 20. "
   ]
  },
  {
   "cell_type": "markdown",
   "metadata": {},
   "source": [
    "What values change, and what remain the same?\n",
    "\n",
    "Expect:\n",
    "\n",
    ">>larger difference between mean\n",
    ">>smaller SD for both\n",
    ">>changes in means\n",
    "\n",
    "Result:\n",
    "Differences between mean samples become slightly smaller. \n",
    "The SD for both samples decreased.\n",
    "The means for both samples increased slightly."
   ]
  },
  {
   "cell_type": "code",
   "execution_count": 13,
   "metadata": {},
   "outputs": [
    {
     "data": {
      "image/png": "[encoded data removed]",
      "text/plain": [
       "<Figure size 432x288 with 1 Axes>"
      ]
     },
     "metadata": {
      "needs_background": "light"
     },
     "output_type": "display_data"
    }
   ],
   "source": [
    "sample1b = np.random.choice(pop1, 20, replace=True)\n",
    "sample2b = np.random.choice(pop2, 20, replace=True)\n",
    "\n",
    "plt.hist(sample1b, alpha=0.5, label='sample 1b') \n",
    "plt.hist(sample2b, alpha=0.5, label='sample 2b') \n",
    "plt.legend(loc='upper right') \n",
    "plt.show()"
   ]
  },
  {
   "cell_type": "code",
   "execution_count": 10,
   "metadata": {},
   "outputs": [
    {
     "name": "stdout",
     "output_type": "stream",
     "text": [
      "2.0\n",
      "4.95\n",
      "0.8366600265340756\n",
      "1.3219304066402287\n",
      "2.95\n"
     ]
    }
   ],
   "source": [
    "print(sample1b.mean())\n",
    "print(sample2b.mean())\n",
    "print(sample1b.std())\n",
    "print(sample2b.std())\n",
    "\n",
    "# Compute the difference between the two sample means.\n",
    "diff=sample2b.mean() -sample1b.mean()\n",
    "print(diff)"
   ]
  },
  {
   "cell_type": "markdown",
   "metadata": {},
   "source": [
    "##### Plot 4:\n",
    "Change the probability value (p in the NumPy documentation) for pop1 to 0.3, then take new samples and compute the t-statistic and p-value.  "
   ]
  },
  {
   "cell_type": "markdown",
   "metadata": {},
   "source": [
    "What changes, and why?\n",
    "The mean for pop1c is increased from pop1 in plot 1 (same sample size). \n",
    "\n",
    "There appears to be much more overlap in the plots, which is expected with the probability of pop1c moving closer to the probability of pop2. This is due to a smaller difference between the means of pop1c and pop2.\n",
    "\n",
    "The standard deviation has also increased from plot1, which brings it closer in value to the SD of pop2 (with a higher probability than pop1[c]). \n",
    "\n"
   ]
  },
  {
   "cell_type": "code",
   "execution_count": 16,
   "metadata": {},
   "outputs": [
    {
     "data": {
      "image/png": "[encoded data removed]",
      "text/plain": [
       "<Figure size 432x288 with 1 Axes>"
      ]
     },
     "metadata": {
      "needs_background": "light"
     },
     "output_type": "display_data"
    }
   ],
   "source": [
    "pop1c = np.random.binomial(10, 0.3, 10000) \n",
    "pop2 = np.random.binomial(10,0.5, 10000) \n",
    "\n",
    "\n",
    "plt.hist(pop1c, alpha=0.5, label='Population 1c') \n",
    "plt.hist(pop2, alpha=0.5, label='Population 2') \n",
    "plt.legend(loc='upper right') \n",
    "plt.show()"
   ]
  },
  {
   "cell_type": "code",
   "execution_count": 17,
   "metadata": {},
   "outputs": [
    {
     "data": {
      "image/png": "[encoded data removed]",
      "text/plain": [
       "<Figure size 432x288 with 1 Axes>"
      ]
     },
     "metadata": {
      "needs_background": "light"
     },
     "output_type": "display_data"
    }
   ],
   "source": [
    "sample1c = np.random.choice(pop1c, 100, replace=True)\n",
    "sample2 = np.random.choice(pop2, 100, replace=True)\n",
    "\n",
    "plt.hist(sample1, alpha=0.5, label='sample 1c') \n",
    "plt.hist(sample2, alpha=0.5, label='sample 2') \n",
    "plt.legend(loc='upper right') \n",
    "plt.show()"
   ]
  },
  {
   "cell_type": "code",
   "execution_count": 18,
   "metadata": {},
   "outputs": [
    {
     "name": "stdout",
     "output_type": "stream",
     "text": [
      "3.01\n",
      "5.14\n",
      "1.3527379642783743\n",
      "1.5557634781675522\n",
      "2.13\n"
     ]
    }
   ],
   "source": [
    "print(sample1c.mean())\n",
    "print(sample2.mean())\n",
    "print(sample1c.std())\n",
    "print(sample2.std())\n",
    "\n",
    "# Compute the difference between the two sample means.\n",
    "diff=sample2.mean() -sample1c.mean()\n",
    "print(diff)"
   ]
  },
  {
   "cell_type": "code",
   "execution_count": 25,
   "metadata": {},
   "outputs": [
    {
     "name": "stdout",
     "output_type": "stream",
     "text": [
      "Ttest_indResult(statistic=10.279864926019567, pvalue=4.5378841187324553e-20)\n"
     ]
    }
   ],
   "source": [
    "from scipy.stats import ttest_ind\n",
    "#np.set_printoptions(suppress=True)\n",
    "print(ttest_ind(sample2, sample1c, equal_var=False))"
   ]
  },
  {
   "cell_type": "markdown",
   "metadata": {},
   "source": [
    "##### Plot 5:\n",
    "Then change the probability value p for group 1 to 0.4, and do it again."
   ]
  },
  {
   "cell_type": "markdown",
   "metadata": {},
   "source": [
    "What changes, and why?\n",
    "The mean for pop1d is increased from pop1 in plot 1 (same sample size), and now much closer to mean for pop2. \n",
    "\n",
    "There appears to be much more overlap in the plots, which is expected with the probability of pop1d moving closer to the probability of pop2. This is due to a much smaller difference between the means of pop1d and pop2.\n",
    "\n",
    "The standard deviation has also increased from plot1, which brings it closer in value to the SD of pop2 (with a higher probability than pop1[d]). \n"
   ]
  },
  {
   "cell_type": "code",
   "execution_count": 27,
   "metadata": {},
   "outputs": [
    {
     "data": {
      "image/png": "[encoded data removed]",
      "text/plain": [
       "<Figure size 432x288 with 1 Axes>"
      ]
     },
     "metadata": {
      "needs_background": "light"
     },
     "output_type": "display_data"
    }
   ],
   "source": [
    "pop1d = np.random.binomial(10, 0.4, 10000)\n",
    "pop2 = np.random.binomial(10,0.5, 10000) \n",
    "\n",
    "plt.hist(pop1d, alpha=0.5, label='Population 1d') \n",
    "plt.hist(pop2, alpha=0.5, label='Population 2') \n",
    "plt.legend(loc='upper right') \n",
    "plt.show()"
   ]
  },
  {
   "cell_type": "code",
   "execution_count": 33,
   "metadata": {},
   "outputs": [
    {
     "data": {
      "image/png": "[encoded data removed]",
      "text/plain": [
       "<Figure size 432x288 with 1 Axes>"
      ]
     },
     "metadata": {
      "needs_background": "light"
     },
     "output_type": "display_data"
    }
   ],
   "source": [
    "sample1d = np.random.choice(pop1d, 100, replace=True)\n",
    "sample2 = np.random.choice(pop2, 100, replace=True)\n",
    "\n",
    "plt.hist(sample1d, alpha=0.5, label='sample 1d') \n",
    "plt.hist(sample2, alpha=0.5, label='sample 2') \n",
    "plt.legend(loc='upper right') \n",
    "plt.show()"
   ]
  },
  {
   "cell_type": "code",
   "execution_count": 34,
   "metadata": {},
   "outputs": [
    {
     "name": "stdout",
     "output_type": "stream",
     "text": [
      "3.98\n",
      "4.9\n",
      "1.5230233090796739\n",
      "1.6031219541881399\n",
      "0.9200000000000004\n"
     ]
    }
   ],
   "source": [
    "print(sample1d.mean())\n",
    "print(sample2.mean())\n",
    "print(sample1d.std())\n",
    "print(sample2.std())\n",
    "\n",
    "# Compute the difference between the two sample means.\n",
    "diff=sample2.mean() -sample1d.mean()\n",
    "print(diff)"
   ]
  },
  {
   "cell_type": "code",
   "execution_count": null,
   "metadata": {},
   "outputs": [],
   "source": [
    "from scipy.stats import ttest_ind\n",
    "print(ttest_ind(sample2, sample1d, equal_var=False))"
   ]
  },
  {
   "cell_type": "markdown",
   "metadata": {},
   "source": [
    "##### Plot 6:\n",
    "Change the distribution of your populations from binomial to a distribution of your choice. "
   ]
  },
  {
   "cell_type": "markdown",
   "metadata": {},
   "source": [
    "Do the sample mean values still accurately represent the population values?\n",
    "Yes, they seem to by the plot distribution. "
   ]
  },
  {
   "cell_type": "code",
   "execution_count": 38,
   "metadata": {},
   "outputs": [
    {
     "data": {
      "image/png": "[encoded data removed]",
      "text/plain": [
       "<Figure size 432x288 with 1 Axes>"
      ]
     },
     "metadata": {
      "needs_background": "light"
     },
     "output_type": "display_data"
    }
   ],
   "source": [
    "pop3 = np.random.standard_t(5, 10000) \n",
    "pop4 = np.random.standard_t(10, 10000) \n",
    "\n",
    "\n",
    "plt.hist(pop3, alpha=0.5, label='Population 3') \n",
    "plt.hist(pop4, alpha=0.5, label='Population 4') \n",
    "plt.legend(loc='upper right') \n",
    "plt.show()"
   ]
  },
  {
   "cell_type": "code",
   "execution_count": 39,
   "metadata": {},
   "outputs": [
    {
     "data": {
      "image/png": "[encoded data removed]",
      "text/plain": [
       "<Figure size 432x288 with 1 Axes>"
      ]
     },
     "metadata": {
      "needs_background": "light"
     },
     "output_type": "display_data"
    }
   ],
   "source": [
    "sample3 = np.random.choice(pop3, 100, replace=True)\n",
    "sample4 = np.random.choice(pop4, 100, replace=True)\n",
    "\n",
    "plt.hist(sample3, alpha=0.5, label='sample 3') \n",
    "plt.hist(sample4, alpha=0.5, label='sample 4') \n",
    "plt.legend(loc='upper right') \n",
    "plt.show()"
   ]
  },
  {
   "cell_type": "code",
   "execution_count": 40,
   "metadata": {},
   "outputs": [
    {
     "name": "stdout",
     "output_type": "stream",
     "text": [
      "-0.16441605654831634\n",
      "0.10380938940422196\n",
      "1.347110249595095\n",
      "1.2023952059748761\n",
      "0.2682254459525383\n"
     ]
    }
   ],
   "source": [
    "print(sample3.mean())\n",
    "print(sample4.mean())\n",
    "print(sample3.std())\n",
    "print(sample4.std())\n",
    "\n",
    "# Compute the difference between the two sample means.\n",
    "diff=sample4.mean() -sample3.mean()\n",
    "print(diff)"
   ]
  },
  {
   "cell_type": "code",
   "execution_count": null,
   "metadata": {},
   "outputs": [],
   "source": []
  }
 ],
 "metadata": {
  "kernelspec": {
   "display_name": "Python 3",
   "language": "python",
   "name": "python3"
  },
  "language_info": {
   "codemirror_mode": {
    "name": "ipython",
    "version": 3
   },
   "file_extension": ".py",
   "mimetype": "text/x-python",
   "name": "python",
   "nbconvert_exporter": "python",
   "pygments_lexer": "ipython3",
   "version": "3.7.3"
  }
 },
 "nbformat": 4,
 "nbformat_minor": 2
}
