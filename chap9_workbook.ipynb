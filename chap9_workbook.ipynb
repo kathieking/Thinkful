{
 "cells": [
  {
   "cell_type": "markdown",
   "metadata": {},
   "source": [
    "#### Central Limit Theorem"
   ]
  },
  {
   "cell_type": "markdown",
   "metadata": {},
   "source": [
    "**the central limit theorem, which shows that normal distributions can still be used to analyze samples of data from non-normally distributed populations.\n",
    "\n",
    "when sampling from a population (of any distribution), **as the sample size gets larger the sample means tend to follow a normal probability distribution, clustering around the true population mean. \n",
    "\n",
    "The more non-normal the population the larger the samples need to be, but ultimately this means that statistics can be calculated, and population parameters estimated, even when the distribution of a population is unknown."
   ]
  },
  {
   "cell_type": "markdown",
   "metadata": {},
   "source": [
    "example of the central limit theorem in action, we can compare the means of two samples, drawn from two populations. **To compare two means, we want to calculate the mean and standard deviation of each sample. Then, we subtract one mean from the other, and look at the size of the difference in the context of the combined variance of the two samples. \n",
    "\n",
    "**The LARGER the difference (between two means) is relative to the variance, the less likely the difference is to be due to random chance, and the more likely it is to REFLECT MEANINGFUL DIFFERENCES between the two POPULATIONS.\n",
    "\n",
    "\n",
    "𝑦¯=𝑥¯2−𝑥¯1\n",
    "\n",
    "\n",
    "y = combined variance of x1 & x2\n",
    "\n",
    "To combine the variances, the squared standard deviations are divided by the sample size and summed, then we take the square root of the sum. \n",
    "\n",
    "This is the standard error of the difference, representing the variance in the sample differences around the population difference, and you can see the formula written below.\n",
    "\n",
    "𝑠𝑒= 𝑠21/𝑛1+𝑠22/𝑛2⎯⎯⎯⎯⎯⎯⎯⎯⎯⎯⎯⎯⎯⎯⎯⎯⎯√\n",
    "\n",
    "The difference divided by the standard error is a ratio called the t-value. \n",
    "\n",
    "**T-values put the difference in context by telling us how large the difference is relative to the amount of variance, or noise, in the data. In very NOISY data, SMALL differences are more likely to result from the NOISE rather than from real differences between the population means.\n",
    "\n",
    "𝑡−𝑣𝑎𝑙𝑢𝑒=𝑦¯𝑠𝑒\n"
   ]
  },
  {
   "cell_type": "markdown",
   "metadata": {},
   "source": [
    "The larger the t score, the more difference there is between groups. The smaller the t score, the more similarity there is between groups. A t score of 3 means that the groups are three times as different from each other as they are within each other. \n",
    "\n",
    "**When you run a t test, the bigger the t-value, the more likely it is that the results are repeatable.\n",
    "\n",
    "    A large t-score tells you that the groups are different.\n",
    "    A small t-score tells you that the groups are similar."
   ]
  },
  {
   "cell_type": "markdown",
   "metadata": {},
   "source": [
    "Given a t-value, we can calculate the probability that a t-value at least this extreme would occur by chance, called a p-value. \n",
    "\n",
    "**p-value tells us how likely it is that we would get the sampling data we observe if the two population means were not, in fact, different from one another. \n",
    "\n",
    "The p-value runs between 0 (It is impossible to get a difference of this size or greater in the absence of a real population difference) and 1 (we will always get a difference of this size or greater in the absence of a real population difference). **The LOWER the p-value, the more confidently we can conclude that there is a MEANINGFUL DIFFERENCE BETWEEN THE MEANS OF THE TWO GROUPS in the population."
   ]
  },
  {
   "cell_type": "markdown",
   "metadata": {},
   "source": [
    "Every t-value has a p-value to go with it. A p-value is the probability that the results from your sample data occurred by chance. P-values are from 0% to 100%. They are usually written as a decimal. For example, a p value of 5% is 0.05. Low p-values are good; They indicate your data did not occur by chance. For example, a p-value of .01 means there is only a 1% probability that the results from an experiment happened by chance. In most cases, a p-value of 0.05 (5%) is accepted to mean the data is valid."
   ]
  },
  {
   "cell_type": "code",
   "execution_count": 1,
   "metadata": {},
   "outputs": [],
   "source": [
    "import numpy as np\n",
    "import pandas as pd\n",
    "import scipy\n",
    "import matplotlib.pyplot as plt\n",
    "%matplotlib inline"
   ]
  },
  {
   "cell_type": "code",
   "execution_count": 2,
   "metadata": {},
   "outputs": [
    {
     "data": {
      "image/png": "[encoded data removed]",
      "text/plain": [
       "<Figure size 432x288 with 1 Axes>"
      ]
     },
     "metadata": {
      "needs_background": "light"
     },
     "output_type": "display_data"
    }
   ],
   "source": [
    "pop1 = np.random.binomial(10, 0.2, 10000) #prob = 0.2, n=10, data=10000\n",
    "pop2 = np.random.binomial(10,0.5, 10000) #prob=0.5, n=10\n",
    "#true pop difference between tow groups is 0.3\n",
    "\n",
    "# Let’s make histograms for the two groups. \n",
    "\n",
    "plt.hist(pop1, alpha=0.5, label='Population 1') \n",
    "plt.hist(pop2, alpha=0.5, label='Population 2') \n",
    "plt.legend(loc='upper right') \n",
    "plt.show()"
   ]
  },
  {
   "cell_type": "markdown",
   "metadata": {},
   "source": [
    "above shows populations are not normal. Next, take a sample of 100 from each population & plot"
   ]
  },
  {
   "cell_type": "code",
   "execution_count": 3,
   "metadata": {},
   "outputs": [
    {
     "data": {
      "image/png": "[encoded data removed]",
      "text/plain": [
       "<Figure size 432x288 with 1 Axes>"
      ]
     },
     "metadata": {
      "needs_background": "light"
     },
     "output_type": "display_data"
    }
   ],
   "source": [
    "sample1 = np.random.choice(pop1, 100, replace=True)\n",
    "sample2 = np.random.choice(pop2, 100, replace=True)\n",
    "\n",
    "plt.hist(sample1, alpha=0.5, label='sample 1') \n",
    "plt.hist(sample2, alpha=0.5, label='sample 2') \n",
    "plt.legend(loc='upper right') \n",
    "plt.show()"
   ]
  },
  {
   "cell_type": "markdown",
   "metadata": {},
   "source": [
    "Next, compute the means and standard deviations for each group. Note that the mean represents n * p: the probability of an event occurring (p) multiplied by the number of repetitions (n). To get p for each sample, divide by n, which we set to 10 when generating the populations."
   ]
  },
  {
   "cell_type": "code",
   "execution_count": 4,
   "metadata": {},
   "outputs": [
    {
     "name": "stdout",
     "output_type": "stream",
     "text": [
      "1.95\n",
      "5.27\n",
      "1.2359207094308275\n",
      "1.4342593907658405\n",
      "3.3199999999999994\n"
     ]
    }
   ],
   "source": [
    "print(sample1.mean())\n",
    "print(sample2.mean())\n",
    "print(sample1.std())\n",
    "print(sample2.std())\n",
    "\n",
    "# Compute the difference between the two sample means.\n",
    "diff=sample2.mean( ) -sample1.mean()\n",
    "print(diff)"
   ]
  },
  {
   "cell_type": "markdown",
   "metadata": {},
   "source": [
    "next, calculate the standard error of the sampling distribution of the difference of the means. \n",
    "\n",
    "First, create an array with the size of each variable and another with the standard deviation of each variable. In this case, the sizes are already known since you provided them earlier, but let’s calculate them anyway."
   ]
  },
  {
   "cell_type": "code",
   "execution_count": 5,
   "metadata": {},
   "outputs": [
    {
     "name": "stdout",
     "output_type": "stream",
     "text": [
      "17.535483033173552\n"
     ]
    }
   ],
   "source": [
    "size = np.array([len(sample1), len(sample2)])\n",
    "sd = np.array([sample1.std(), sample2.std()])\n",
    "\n",
    "# The squared standard deviations are divided by the sample size and summed, then we take\n",
    "# the square root of the sum. \n",
    "diff_se = (sum(sd ** 2 / size)) ** 0.5  \n",
    "\n",
    "#The difference between the means divided by the standard error: T-value.  \n",
    "print(diff/diff_se)"
   ]
  },
  {
   "cell_type": "markdown",
   "metadata": {},
   "source": [
    "fially, we import the function ttest_ind from scipy.stats, which calculates the t-value for us (called “statistic”) and also provides the probability calculation (called “pvalue”). The t-value we calculated and the t-value given by the function may differ slightly after the hundredth decimal place. This is due to differences of rounding caused by our multiple-step approach to calculating the t-value. "
   ]
  },
  {
   "cell_type": "code",
   "execution_count": 6,
   "metadata": {},
   "outputs": [
    {
     "name": "stdout",
     "output_type": "stream",
     "text": [
      "Ttest_indResult(statistic=17.44758532160397, pvalue=1.349149380453005e-41)\n"
     ]
    }
   ],
   "source": [
    "from scipy.stats import ttest_ind\n",
    "print(ttest_ind(sample2, sample1, equal_var=False))"
   ]
  },
  {
   "cell_type": "markdown",
   "metadata": {},
   "source": [
    "t-value scales the difference between the two groups by the amount of variance in the two samples. High variability in samples can lead to groups with means that look very different, but when we look at the histogram we see that most of the values in the sample groups overlap. The groups are so variable that the distribution of values is quite broad. \n",
    "\n",
    "For example, Olympic races are split into men’s races and women’s races because men are, on average, faster than women. However, looking at the distribution of running speed in the New York marathon, where women and men run together, it’s clear that running speed has a high degree of variability, and that the distributions for men and women overlap a great deal.\n",
    "\n",
    "**One way to interpret a t-value is as the number of standard errors worth of space separating the group means. A t-value of 2 would indicate that the means are two standard errors apart.\n",
    "\n",
    "The p-value associated with a t-test indicates the likelihood of getting a difference this large or larger in the samples if the populations were not different. \n",
    "\n",
    "**The smaller the p-value, the more likely the difference we see in the samples meaningfully reflects the populations. \n",
    "\n",
    "The p-value in the test you did above is really small, so we can be fairly confident that the difference in means we see is due to a real difference in the population and not due to variability in the samples."
   ]
  },
  {
   "cell_type": "code",
   "execution_count": null,
   "metadata": {},
   "outputs": [],
   "source": [
    "#plot1 sample size 100\n",
    "1.72\n",
    "5.13\n",
    "1.105260150371848\n",
    "1.494356048604214\n",
    "3.41"
   ]
  },
  {
   "cell_type": "code",
   "execution_count": null,
   "metadata": {},
   "outputs": [],
   "source": [
    "#plot2 increased sample size to 1000\n",
    "1.984\n",
    "4.948\n",
    "1.299132017925815\n",
    "1.5307828062791928\n",
    "2.9640000000000004"
   ]
  },
  {
   "cell_type": "code",
   "execution_count": null,
   "metadata": {},
   "outputs": [],
   "source": [
    "#plot3 decreased sample size to 20\n",
    "2.0\n",
    "4.95\n",
    "0.8366600265340756\n",
    "1.3219304066402287\n",
    "2.95"
   ]
  },
  {
   "cell_type": "code",
   "execution_count": null,
   "metadata": {},
   "outputs": [],
   "source": [
    "#plot4 change prob to 0.3 in pop1, sample size 100\n",
    "3.01\n",
    "5.14\n",
    "1.3527379642783743\n",
    "1.5557634781675522\n",
    "2.13"
   ]
  },
  {
   "cell_type": "code",
   "execution_count": null,
   "metadata": {},
   "outputs": [],
   "source": [
    "#plot5 change prob to 0.4 in pop1, sample = 100\n",
    "3.98\n",
    "4.9\n",
    "1.5230233090796739\n",
    "1.6031219541881399\n",
    "0.9200000000000004"
   ]
  },
  {
   "cell_type": "code",
   "execution_count": null,
   "metadata": {},
   "outputs": [],
   "source": [
    "0.10571025745914618\n",
    "-0.12133792290947298\n",
    "1.1421975785621818\n",
    "0.9897122482831965\n",
    "-0.22704818036861918"
   ]
  }
 ],
 "metadata": {
  "kernelspec": {
   "display_name": "Python 3",
   "language": "python",
   "name": "python3"
  },
  "language_info": {
   "codemirror_mode": {
    "name": "ipython",
    "version": 3
   },
   "file_extension": ".py",
   "mimetype": "text/x-python",
   "name": "python",
   "nbconvert_exporter": "python",
   "pygments_lexer": "ipython3",
   "version": "3.7.3"
  }
 },
 "nbformat": 4,
 "nbformat_minor": 2
}
