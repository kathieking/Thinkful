{
 "cells": [
  {
   "cell_type": "markdown",
   "metadata": {},
   "source": [
    "#### Challenge: Factors that affect life expectancy"
   ]
  },
  {
   "cell_type": "markdown",
   "metadata": {},
   "source": [
    "data source: https://www.kaggle.com/kumarajarshi/life-expectancy-who/home"
   ]
  },
  {
   "cell_type": "markdown",
   "metadata": {},
   "source": [
    "##### Challenge:\n",
    "Your goal in this challenge is to find the factors that affect the life expectancy. Specifically, you need to find out which factors increase the expected life in the countries and which factors decrease it.\n",
    "\n",
    "1. Detect the problems with the data such as missing values and outliers. Are there any nonsense values that seem to be stemmed from the data collection? For the missing values, discuss which technique would be the most suitable one in filling out these values. Regarding the outliers, discuss their potential effects on your analysis and select an appropriate method to deal with them.\n",
    "\n",
    "2. Explore the data using univariate and multivariate exploration techniques. You should pay special attention to your target variable. In this regard, your focus should be on finding the relevant variables that may affect life expectancy.\n",
    "\n",
    "3. In the feature engineering step, you need to select a suite of variables that you think would be ideal in the modeling phase. More concretely, you may discard some variables that are very correlated with the other ones or the variables that you think irrelevant with the life expectancy.\n",
    "\n",
    "4. Summarize your findings. One of the most important skills of a data scientist is to convey ideas and findings to nontechnical people using understandable language. In this regard, one of the most effective ways to communicate your ideas is to do it using effective visualization."
   ]
  },
  {
   "cell_type": "code",
   "execution_count": null,
   "metadata": {},
   "outputs": [],
   "source": [
    "import pandas as pd\n",
    "import numpy as np\n",
    "import matplotlib.pyplot as plt\n",
    "import seaborn as sns\n",
    "import math\n",
    "import scipy.stats as stats\n",
    "from matplotlib.mlab import PCA as mlabPCA\n",
    "from scipy.stats import zscore\n",
    "from scipy.stats.mstats import winsorize\n",
    "from scipy.stats import jarque_bera\n",
    "from scipy.stats import normaltest\n",
    "from scipy.stats import boxcox\n",
    "from scipy.stats.stats import ttest_ind\n",
    "from sklearn.preprocessing import normalize\n",
    "from sklearn.preprocessing import StandardScaler\n",
    "from sklearn.decomposition import PCA\n",
    "from sqlalchemy import create_engine\n",
    "import warnings\n",
    "\n",
    "\n",
    "warnings.filterwarnings('ignore')\n",
    "sns.set_style(\"whitegrid\")\n",
    "\n",
    "postgres_user = 'dsbc_student'\n",
    "postgres_pw = '7*.8G9QH21'\n",
    "postgres_host = '142.93.121.174'\n",
    "postgres_port = '5432'\n",
    "postgres_db = 'lifeexpectancy'\n",
    "table_name = 'lifeexpectancy'\n",
    "\n",
    "engine = create_engine('postgresql://{}:{}@{}:{}/{}'.format(\n",
    "    postgres_user, postgres_pw, postgres_host, postgres_port, postgres_db))\n",
    "\n",
    "lifeexpectancy_df = pd.read_sql_query('select * from lifeexpectancy',con=engine)\n",
    "\n",
    "\n",
    "engine.dispose()"
   ]
  },
  {
   "cell_type": "markdown",
   "metadata": {},
   "source": [
    "##### question 1\n",
    "Detect the problems with the data such as missing values and outliers. Are there any nonsense values that seem to be stemmed from the data collection? For the missing values, discuss which technique would be the most suitable one in filling out these values. Regarding the outliers, discuss their potential effects on your analysis and select an appropriate method to deal with them. "
   ]
  },
  {
   "cell_type": "code",
   "execution_count": null,
   "metadata": {},
   "outputs": [],
   "source": [
    "lifeexpectancy_df.head()"
   ]
  },
  {
   "cell_type": "code",
   "execution_count": null,
   "metadata": {},
   "outputs": [],
   "source": [
    "lifeexpectancy_df.info()"
   ]
  },
  {
   "cell_type": "code",
   "execution_count": null,
   "metadata": {},
   "outputs": [],
   "source": [
    "lifeexpectancy_df.describe()"
   ]
  },
  {
   "cell_type": "markdown",
   "metadata": {},
   "source": [
    "###### missing values"
   ]
  },
  {
   "cell_type": "code",
   "execution_count": null,
   "metadata": {},
   "outputs": [],
   "source": [
    "lifeexpectancy_df.isnull().sum()"
   ]
  },
  {
   "cell_type": "code",
   "execution_count": null,
   "metadata": {},
   "outputs": [],
   "source": [
    "lifeexpectancy_df.nunique()"
   ]
  },
  {
   "cell_type": "code",
   "execution_count": null,
   "metadata": {},
   "outputs": [],
   "source": [
    "lifeexpectancy_df.columns.unique()"
   ]
  },
  {
   "cell_type": "code",
   "execution_count": null,
   "metadata": {},
   "outputs": [],
   "source": [
    "#fix trailing/leading white space\n",
    "lifeexpectancy_df.columns = lifeexpectancy_df.columns.str.strip()"
   ]
  },
  {
   "cell_type": "code",
   "execution_count": null,
   "metadata": {},
   "outputs": [],
   "source": [
    "lifeexpectancy_df.columns.unique()"
   ]
  },
  {
   "cell_type": "code",
   "execution_count": null,
   "metadata": {},
   "outputs": [],
   "source": [
    "#fill in missing values: groupby Country to improve accuracy of interpolation\n",
    "fill_list = ['Life expectancy', 'Adult Mortality', 'Alcohol', 'Hepatitis B', \n",
    "             'BMI', 'Polio', 'Total expenditure', 'Diphtheria', 'GDP', \n",
    "             'Population', 'thinness  1-19 years', 'thinness 5-9 years', \n",
    "             'Income composition of resources', 'Schooling'] \n",
    "\n",
    "for country in lifeexpectancy_df['Country'].unique():\n",
    "    for column in fill_list:\n",
    "        lifeexpectancy_df.loc[:, column] = lifeexpectancy_df.loc[:, column].interpolate()"
   ]
  },
  {
   "cell_type": "code",
   "execution_count": null,
   "metadata": {},
   "outputs": [],
   "source": [
    "lifeexpectancy_df.isnull().sum()"
   ]
  },
  {
   "cell_type": "code",
   "execution_count": null,
   "metadata": {},
   "outputs": [],
   "source": [
    "lifeexpectancy_df.describe()"
   ]
  },
  {
   "cell_type": "code",
   "execution_count": null,
   "metadata": {},
   "outputs": [],
   "source": []
  },
  {
   "cell_type": "markdown",
   "metadata": {},
   "source": [
    "###### outliers\n",
    "will run zscore & IQR for comparison"
   ]
  },
  {
   "cell_type": "code",
   "execution_count": null,
   "metadata": {},
   "outputs": [],
   "source": [
    "#zscore\n",
    "outliers = []\n",
    "\n",
    "columns = lifeexpectancy_df.select_dtypes(exclude=['object']).columns.tolist()\n",
    "print(columns)\n",
    "\n",
    "for i in columns:\n",
    "    threshold = 3 \n",
    "    z_scores = zscore(lifeexpectancy_df[i])\n",
    "\n",
    "    for threshold in range(3,5):\n",
    "        print(i)  \n",
    "        print('The score threshold is: {}'.format(threshold))\n",
    "        print('Number of outliers is: {}'.format(len((np.where(z_scores > threshold)[0]))))\n",
    "    "
   ]
  },
  {
   "cell_type": "code",
   "execution_count": null,
   "metadata": {},
   "outputs": [],
   "source": [
    "#iqr\n",
    "columns = lifeexpectancy_df.select_dtypes(exclude=['object']).columns.tolist()\n",
    "print(columns)\n",
    "\n",
    "for i in columns:\n",
    "    threshold = 3 \n",
    "    q75, q25 = np.percentile(lifeexpectancy_df[i], [75 ,25])\n",
    "    iqr = q75 - q25\n",
    "\n",
    "    for threshold in np.arange(3,5,1):\n",
    "        min_val = q25 - (iqr*threshold)\n",
    "        max_val = q75 + (iqr*threshold)\n",
    "        print(i)\n",
    "        print(\"The score threshold is: {}\".format(threshold))\n",
    "        print(\"Number of outliers is: {}\".format(\n",
    "            len((np.where((lifeexpectancy_df[i] > max_val) \n",
    "                      | (lifeexpectancy_df[i] < min_val))[0]))\n",
    "        ))"
   ]
  },
  {
   "cell_type": "code",
   "execution_count": null,
   "metadata": {},
   "outputs": [],
   "source": []
  },
  {
   "cell_type": "markdown",
   "metadata": {},
   "source": [
    "##### transform outliers"
   ]
  },
  {
   "cell_type": "code",
   "execution_count": null,
   "metadata": {},
   "outputs": [],
   "source": [
    "outliers = ['Adult Mortality', 'infant deaths', 'Alcohol', \n",
    "            'percentage expenditure', 'Measles', 'under-five deaths', \n",
    "            'Polio', 'Total expenditure', 'Diphtheria', 'HIV/AIDS', \n",
    "            'GDP', 'Population', 'thinness  1-19 years', \n",
    "            'thinness 5-9 years']"
   ]
  },
  {
   "cell_type": "code",
   "execution_count": null,
   "metadata": {},
   "outputs": [],
   "source": [
    "for outlier in outliers:\n",
    "    lifeexpectancy_df['winsorized_'+ outlier] = winsorize(lifeexpectancy_df[outlier], (0, 0.05))"
   ]
  },
  {
   "cell_type": "code",
   "execution_count": null,
   "metadata": {},
   "outputs": [],
   "source": [
    "plt.figure(figsize=(20,20))\n",
    "\n",
    "plt.subplot(4,4,1)\n",
    "plt.boxplot(lifeexpectancy_df['winsorized_Adult Mortality'], whis=3)\n",
    "plt.title(\"Box plot of winsorized_adult_mortality (whis=3)\")\n",
    "\n",
    "plt.subplot(4,4,2)\n",
    "plt.boxplot(lifeexpectancy_df['winsorized_infant deaths'], whis=3)\n",
    "plt.title(\"Box plot of winsorized_infant deaths (whis=3)\")\n",
    "\n",
    "plt.subplot(4,4,3)\n",
    "plt.boxplot(lifeexpectancy_df['winsorized_Alcohol'], whis=3)\n",
    "plt.title(\"Box plot of winsorized_Alcohol (whis=3)\")\n",
    "\n",
    "plt.subplot(4,4,4)\n",
    "plt.boxplot(lifeexpectancy_df['winsorized_percentage expenditure'], whis=3)\n",
    "plt.title(\"Box plot of winsorized_percentage expenditure (whis=3)\")\n",
    "\n",
    "plt.subplot(4,4,5)\n",
    "plt.boxplot(lifeexpectancy_df['winsorized_Measles'], whis=3)\n",
    "plt.title(\"Box plot of winsorized_Measles (whis=3)\")\n",
    "\n",
    "plt.subplot(4,4,6)\n",
    "plt.boxplot(lifeexpectancy_df['winsorized_under-five deaths'],whis=3 )\n",
    "plt.title(\"Box plot of winsorized_under-five deaths (whis=3)\")\n",
    "\n",
    "plt.subplot(4,4,7)\n",
    "plt.boxplot(lifeexpectancy_df['winsorized_Polio'], whis=3)\n",
    "plt.title(\"Box plot of winsorized_Polio (whis=3)\")\n",
    "\n",
    "plt.subplot(4,4,8)\n",
    "plt.boxplot(lifeexpectancy_df['winsorized_Total expenditure'], whis=3)\n",
    "plt.title(\"Box plot of winsorized_Total expenditure (whis=3)\")\n",
    "\n",
    "plt.subplot(4,4,9)\n",
    "plt.boxplot(lifeexpectancy_df['winsorized_Diphtheria'], whis=3)\n",
    "plt.title(\"Box plot of winsorized_Diphtheria (whis=3)\")\n",
    "\n",
    "plt.subplot(4,4,10)\n",
    "plt.boxplot(lifeexpectancy_df['winsorized_HIV/AIDS'], whis=3)\n",
    "plt.title(\"Box plot of winsorized_HIV/AIDS (whis=3)\")\n",
    "\n",
    "plt.subplot(4,4,11)\n",
    "plt.boxplot(lifeexpectancy_df['winsorized_GDP'], whis=3)\n",
    "plt.title(\"Box plot of winsorized_GDP (whis=3)\")\n",
    "\n",
    "plt.subplot(4,4,12)\n",
    "plt.boxplot(lifeexpectancy_df['winsorized_Population'], whis=3)\n",
    "plt.title(\"Box plot of winsorized_Population (whis=3)\")\n",
    "\n",
    "plt.subplot(4,4,13)\n",
    "plt.boxplot(lifeexpectancy_df['winsorized_thinness  1-19 years'], whis=3)\n",
    "plt.title(\"Box plot of winsorized_thinness  1-19 years (whis=3)\")\n",
    "\n",
    "plt.subplot(4,4,14)\n",
    "plt.boxplot(lifeexpectancy_df['winsorized_thinness 5-9 years'],whis=3 )\n",
    "plt.title(\"Box plot of winsorized_thinness 5-9 years (whis=3)\")\n",
    "\n",
    "\n",
    "plt.tight_layout()\n",
    "plt.show()"
   ]
  },
  {
   "cell_type": "code",
   "execution_count": null,
   "metadata": {},
   "outputs": [],
   "source": [
    "#adjustments for variables with remaining outliers\n",
    "\n",
    "outliers = ['infant deaths', 'percentage expenditure', \n",
    "            'Measles', 'under-five deaths', 'Polio', \n",
    "            'Diphtheria', 'HIV/AIDS', \n",
    "            'GDP', 'Population']\n",
    "\n",
    "for outlier in outliers:\n",
    "    lifeexpectancy_df['winsorized_'+ outlier] = winsorize(lifeexpectancy_df[outlier], (0.10, 0.10))\n",
    "    "
   ]
  },
  {
   "cell_type": "code",
   "execution_count": null,
   "metadata": {},
   "outputs": [],
   "source": [
    "plt.figure(figsize=(20,20))\n",
    "\n",
    "plt.subplot(4,4,1)\n",
    "plt.boxplot(lifeexpectancy_df['winsorized_Adult Mortality'], whis=3)\n",
    "plt.title(\"Box plot of winsorized_adult_mortality (whis=3)\")\n",
    "\n",
    "plt.subplot(4,4,2)\n",
    "plt.boxplot(lifeexpectancy_df['winsorized_infant deaths'], whis=3)\n",
    "plt.title(\"Box plot of winsorized_infant deaths (whis=3)\")\n",
    "\n",
    "plt.subplot(4,4,3)\n",
    "plt.boxplot(lifeexpectancy_df['winsorized_Alcohol'], whis=3)\n",
    "plt.title(\"Box plot of winsorized_Alcohol (whis=3)\")\n",
    "\n",
    "plt.subplot(4,4,4)\n",
    "plt.boxplot(lifeexpectancy_df['winsorized_percentage expenditure'], whis=3)\n",
    "plt.title(\"Box plot of winsorized_percentage expenditure (whis=3)\")\n",
    "\n",
    "plt.subplot(4,4,5)\n",
    "plt.boxplot(lifeexpectancy_df['winsorized_Measles'], whis=3)\n",
    "plt.title(\"Box plot of winsorized_Measles (whis=3)\")\n",
    "\n",
    "plt.subplot(4,4,6)\n",
    "plt.boxplot(lifeexpectancy_df['winsorized_under-five deaths'],whis=3 )\n",
    "plt.title(\"Box plot of winsorized_under-five deaths (whis=3)\")\n",
    "\n",
    "plt.subplot(4,4,7)\n",
    "plt.boxplot(lifeexpectancy_df['winsorized_Polio'], whis=3)\n",
    "plt.title(\"Box plot of winsorized_Polio (whis=3)\")\n",
    "\n",
    "plt.subplot(4,4,8)\n",
    "plt.boxplot(lifeexpectancy_df['winsorized_Total expenditure'], whis=3)\n",
    "plt.title(\"Box plot of winsorized_Total expenditure (whis=3)\")\n",
    "\n",
    "plt.subplot(4,4,9)\n",
    "plt.boxplot(lifeexpectancy_df['winsorized_Diphtheria'], whis=3)\n",
    "plt.title(\"Box plot of winsorized_Diphtheria (whis=3)\")\n",
    "\n",
    "plt.subplot(4,4,10)\n",
    "plt.boxplot(lifeexpectancy_df['winsorized_HIV/AIDS'], whis=3)\n",
    "plt.title(\"Box plot of winsorized_HIV/AIDS (whis=3)\")\n",
    "\n",
    "plt.subplot(4,4,11)\n",
    "plt.boxplot(lifeexpectancy_df['winsorized_GDP'], whis=3)\n",
    "plt.title(\"Box plot of winsorized_GDP (whis=3)\")\n",
    "\n",
    "plt.subplot(4,4,12)\n",
    "plt.boxplot(lifeexpectancy_df['winsorized_Population'], whis=3)\n",
    "plt.title(\"Box plot of winsorized_Population (whis=3)\")\n",
    "\n",
    "plt.subplot(4,4,13)\n",
    "plt.boxplot(lifeexpectancy_df['winsorized_thinness  1-19 years'], whis=3)\n",
    "plt.title(\"Box plot of winsorized_thinness  1-19 years (whis=3)\")\n",
    "\n",
    "plt.subplot(4,4,14)\n",
    "plt.boxplot(lifeexpectancy_df['winsorized_thinness 5-9 years'],whis=3 )\n",
    "plt.title(\"Box plot of winsorized_thinness 5-9 years (whis=3)\")\n",
    "\n",
    "\n",
    "plt.tight_layout()\n",
    "plt.show()"
   ]
  },
  {
   "cell_type": "markdown",
   "metadata": {},
   "source": [
    "recheck zscore & IQR for outliers"
   ]
  },
  {
   "cell_type": "code",
   "execution_count": null,
   "metadata": {},
   "outputs": [],
   "source": [
    "outliers = []\n",
    "\n",
    "columns = lifeexpectancy_df.select_dtypes(exclude=['object']).columns.tolist()\n",
    "print(columns)\n",
    "\n",
    "for i in columns:\n",
    "    threshold = 3 \n",
    "    z_scores = zscore(lifeexpectancy_df[i])\n",
    "\n",
    "    for threshold in range(3,5):\n",
    "        print(i)  \n",
    "        print('The score threshold is: {}'.format(threshold))\n",
    "        print('Number of outliers is: {}'.format(len((np.where(z_scores > threshold)[0]))))"
   ]
  },
  {
   "cell_type": "code",
   "execution_count": null,
   "metadata": {},
   "outputs": [],
   "source": [
    "columns = lifeexpectancy_df.select_dtypes(exclude=['object']).columns.tolist()\n",
    "print(columns)\n",
    "\n",
    "for i in columns:\n",
    "    threshold = 3 \n",
    "    q75, q25 = np.percentile(lifeexpectancy_df[i], [75 ,25])\n",
    "    iqr = q75 - q25\n",
    "\n",
    "    for threshold in np.arange(3,5,1):\n",
    "        min_val = q25 - (iqr*threshold)\n",
    "        max_val = q75 + (iqr*threshold)\n",
    "        print(i)\n",
    "        print(\"The score threshold is: {}\".format(threshold))\n",
    "        print(\"Number of outliers is: {}\".format(\n",
    "            len((np.where((lifeexpectancy_df[i] > max_val) \n",
    "                      | (lifeexpectancy_df[i] < min_val))[0]))\n",
    "        ))"
   ]
  },
  {
   "cell_type": "markdown",
   "metadata": {},
   "source": [
    "After winsorization, 3 variables remain with outliers. Will log_transform these variables. "
   ]
  },
  {
   "cell_type": "code",
   "execution_count": null,
   "metadata": {},
   "outputs": [],
   "source": [
    "\n",
    "lifeexpectancy_df['log_percentage expenditure'] = np.log(lifeexpectancy_df['percentage expenditure'])\n",
    "lifeexpectancy_df['log_Measles'] = np.log(lifeexpectancy_df['Measles'])\n",
    "\n",
    "lifeexpectancy_df['log_HIV/AIDS'] = np.log(lifeexpectancy_df['HIV/AIDS'])\n"
   ]
  },
  {
   "cell_type": "code",
   "execution_count": null,
   "metadata": {},
   "outputs": [],
   "source": [
    "columns = lifeexpectancy_df.select_dtypes(exclude=['object']).columns.tolist()\n",
    "print(columns)\n",
    "\n",
    "for i in columns:\n",
    "    threshold = 3 \n",
    "    q75, q25 = np.percentile(lifeexpectancy_df[i], [75 ,25])\n",
    "    iqr = q75 - q25\n",
    "\n",
    "    for threshold in np.arange(3,5,1):\n",
    "        min_val = q25 - (iqr*threshold)\n",
    "        max_val = q75 + (iqr*threshold)\n",
    "        print(i)\n",
    "        print(\"The score threshold is: {}\".format(threshold))\n",
    "        print(\"Number of outliers is: {}\".format(\n",
    "            len((np.where((lifeexpectancy_df[i] > max_val) \n",
    "                      | (lifeexpectancy_df[i] < min_val))[0]))\n",
    "        ))"
   ]
  },
  {
   "cell_type": "markdown",
   "metadata": {},
   "source": [
    "###### still have 1222 outliers for percentage_expenditure after log transfrom but only 304 after winsor transform; will use winsor transform for this variable.\n",
    "question: is there a way or should another transformation be used to eliminate these outliers beyond winsor?"
   ]
  },
  {
   "cell_type": "code",
   "execution_count": null,
   "metadata": {},
   "outputs": [],
   "source": []
  },
  {
   "cell_type": "markdown",
   "metadata": {},
   "source": [
    "##### question 2 \n",
    "Explore the data using univariate and multivariate exploration techniques. You should pay special attention to your target variable. In this regard, your focus should be on finding the relevant variables that may affect life expectancy."
   ]
  },
  {
   "cell_type": "code",
   "execution_count": null,
   "metadata": {},
   "outputs": [],
   "source": [
    "lifeexpectancy_df.describe()"
   ]
  },
  {
   "cell_type": "markdown",
   "metadata": {},
   "source": [
    "The log versions of percentage_expenditure and Measles appear to be unusable for our purposes. Will use winsorized values for all variable except for possibly HIV/AIDS?"
   ]
  },
  {
   "cell_type": "code",
   "execution_count": null,
   "metadata": {},
   "outputs": [],
   "source": [
    "plt.figure(figsize=(20,20))\n",
    "\n",
    "plt.subplot(5,4,1)\n",
    "plt.hist(lifeexpectancy_df['Life expectancy'])\n",
    "plt.title(\"Histogram of Life expectancy\")\n",
    "\n",
    "plt.subplot(5,4,2)\n",
    "plt.hist(lifeexpectancy_df['winsorized_Adult Mortality'])\n",
    "plt.title(\"Histogram of winsorized_Adult Mortality\")\n",
    "\n",
    "plt.subplot(5,4,3)\n",
    "plt.hist(lifeexpectancy_df['winsorized_infant deaths'])\n",
    "plt.title(\"Histogram of winsorized_infant deaths\")\n",
    "\n",
    "plt.subplot(5,4,4)\n",
    "plt.hist(lifeexpectancy_df['winsorized_Alcohol'])\n",
    "plt.title(\"Histogram of winsorized_Alcohol (whis=3)\")\n",
    "\n",
    "plt.subplot(5,4,5)\n",
    "plt.hist(lifeexpectancy_df['winsorized_percentage expenditure'])\n",
    "plt.title(\"Histogram of winsorized_percentage expenditure\")\n",
    "\n",
    "plt.subplot(5,4,6)\n",
    "plt.hist(lifeexpectancy_df['Hepatitis B'])\n",
    "plt.title(\"Histogram of Hepatitis B\")\n",
    "\n",
    "plt.subplot(5,4,7)\n",
    "plt.hist(lifeexpectancy_df['winsorized_Measles'])\n",
    "plt.title(\"Histogram of winsorized_Measles\")\n",
    "\n",
    "plt.subplot(5,4,8)\n",
    "plt.hist(lifeexpectancy_df['BMI'])\n",
    "plt.title(\"Histogram of BMI\")\n",
    "\n",
    "plt.subplot(5,4,9)\n",
    "plt.hist(lifeexpectancy_df['winsorized_under-five deaths'])\n",
    "plt.title(\"Histogram of winsorized_under-five deaths\")\n",
    "\n",
    "plt.subplot(5,4,10)\n",
    "plt.hist(lifeexpectancy_df['winsorized_Polio'])\n",
    "plt.title(\"Histogram of winsorized_Polio\")\n",
    "\n",
    "plt.subplot(5,4,11)\n",
    "plt.hist(lifeexpectancy_df['winsorized_Total expenditure'])\n",
    "plt.title(\"Histogram of winsorized_Total expenditure\")\n",
    "\n",
    "plt.subplot(5,4,12)\n",
    "plt.hist(lifeexpectancy_df['winsorized_Diphtheria'])\n",
    "plt.title(\"Histogram of winsorized_Diphtheria\")\n",
    "\n",
    "plt.subplot(5,4,13)\n",
    "plt.hist(lifeexpectancy_df['winsorized_HIV/AIDS'])\n",
    "plt.title(\"Histogram of winsorized_HIV/AIDS\")\n",
    "\n",
    "plt.subplot(5,4,14)\n",
    "plt.hist(lifeexpectancy_df['winsorized_GDP'])\n",
    "plt.title(\"Histogram of winsorized_GDP\")\n",
    "\n",
    "plt.subplot(5,4,15)\n",
    "plt.hist(lifeexpectancy_df['winsorized_Population'])\n",
    "plt.title(\"Histogram of winsorized_Population\")\n",
    "\n",
    "plt.subplot(5,4,16)\n",
    "plt.hist(lifeexpectancy_df['winsorized_thinness  1-19 years'])\n",
    "plt.title(\"Histogram of winsorized_thinness  1-19 years\")\n",
    "\n",
    "plt.subplot(5,4,17)\n",
    "plt.hist(lifeexpectancy_df['winsorized_thinness 5-9 years'])\n",
    "plt.title(\"Histogram of winsorized_thinness 5-9 years\")\n",
    "\n",
    "plt.subplot(5,4,18)\n",
    "plt.hist(lifeexpectancy_df['Income composition of resources'])\n",
    "plt.title(\"Histogram of Income composition of resources\")\n",
    "\n",
    "plt.subplot(5,4,19)\n",
    "plt.hist(lifeexpectancy_df['Schooling'])\n",
    "plt.title(\"Histogram of Schooling\")\n",
    "\n",
    "\n",
    "plt.tight_layout()\n",
    "plt.show()"
   ]
  },
  {
   "cell_type": "markdown",
   "metadata": {},
   "source": [
    "NONE of the variables have a normal distribution. Will run log transform on all variables to compare"
   ]
  },
  {
   "cell_type": "code",
   "execution_count": null,
   "metadata": {},
   "outputs": [],
   "source": [
    "outliers = ['Life expectancy', 'Adult Mortality', 'infant deaths', 'Alcohol', \n",
    "            'percentage expenditure', 'Hepatitis B', 'Measles', 'BMI',\n",
    "            'under-five deaths', 'Polio', 'Total expenditure', 'Diphtheria', \n",
    "            'HIV/AIDS', 'GDP', 'Population', 'thinness  1-19 years', \n",
    "            'thinness 5-9 years', 'Income composition of resources', 'Schooling']\n",
    "\n",
    "for outlier in outliers:\n",
    "    lifeexpectancy_df['log_'+ outlier] = np.log(lifeexpectancy_df[outlier])"
   ]
  },
  {
   "cell_type": "code",
   "execution_count": null,
   "metadata": {},
   "outputs": [],
   "source": [
    "lifeexpectancy_df.describe()"
   ]
  },
  {
   "cell_type": "code",
   "execution_count": null,
   "metadata": {},
   "outputs": [],
   "source": [
    "plt.figure(figsize=(20,20))\n",
    "\n",
    "plt.subplot(5,5,1)\n",
    "plt.hist(lifeexpectancy_df['log_Life expectancy'])\n",
    "plt.title(\"Histogram of log_Life expectancy\")\n",
    "\n",
    "plt.subplot(5,5,2)\n",
    "plt.hist(lifeexpectancy_df['log_Adult Mortality'])\n",
    "plt.title(\"Histogram of log_adult_mortality\")\n",
    "\n",
    "plt.subplot(5,5,3)\n",
    "plt.hist(lifeexpectancy_df['winsorized_infant deaths'])\n",
    "plt.title(\"Histogram of winsorized_infant deaths\")\n",
    "\n",
    "plt.subplot(5,5,4)\n",
    "plt.hist(lifeexpectancy_df['log_Alcohol'])\n",
    "plt.title(\"Histogram of log_Alcohol (whis=3)\")\n",
    "\n",
    "plt.subplot(5,5,5)\n",
    "plt.hist(lifeexpectancy_df['winsorized_percentage expenditure'])\n",
    "plt.title(\"Histogram of winsorized_percentage expenditure\")\n",
    "\n",
    "plt.subplot(5,5,6)\n",
    "plt.hist(lifeexpectancy_df['Life expectancy'])\n",
    "plt.title(\"Histogram of Life expectancy\")\n",
    "\n",
    "plt.subplot(5,5,7)\n",
    "plt.hist(lifeexpectancy_df['winsorized_Adult Mortality'])\n",
    "plt.title(\"Histogram of winsorized_adult_mortality\")\n",
    "\n",
    "plt.subplot(5,5,8)\n",
    "plt.hist(lifeexpectancy_df['winsorized_infant deaths'])\n",
    "plt.title(\"Histogram of winsorized_infant deaths\")\n",
    "\n",
    "plt.subplot(5,5,9)\n",
    "plt.hist(lifeexpectancy_df['winsorized_Alcohol'])\n",
    "plt.title(\"Histogram of winsorized_Alcohol\")\n",
    "\n",
    "plt.subplot(5,5,10)\n",
    "plt.hist(lifeexpectancy_df['winsorized_percentage expenditure'])\n",
    "plt.title(\"Histogram of winsorized_percentage expenditure\")\n",
    "\n",
    "plt.subplot(5,5,11)\n",
    "plt.hist(lifeexpectancy_df['log_Hepatitis B'])\n",
    "plt.title(\"Histogram of log_Hepatitis B\")\n",
    "\n",
    "plt.subplot(5,5,12)\n",
    "plt.hist(lifeexpectancy_df['winsorized_Measles'])\n",
    "plt.title(\"Histogram of winsorized_Measles\")\n",
    "\n",
    "\n",
    "plt.subplot(5,5,13)\n",
    "plt.hist(lifeexpectancy_df['log_BMI'])\n",
    "plt.title(\"Histogram of log_BMI\")\n",
    "\n",
    "plt.subplot(5,5,14)\n",
    "plt.hist(lifeexpectancy_df['winsorized_under-five deaths'])\n",
    "plt.title(\"Histogram of wind=soized_under-five deaths\")\n",
    "\n",
    "plt.subplot(5,5,15)\n",
    "plt.hist(lifeexpectancy_df['log_Polio'])\n",
    "plt.title(\"Histogram of log_Polio\")\n",
    "\n",
    "plt.subplot(5,5,16)\n",
    "plt.hist(lifeexpectancy_df['Hepatitis B'])\n",
    "plt.title(\"Histogram of Hepatitis B\")\n",
    "\n",
    "plt.subplot(5,5,17)\n",
    "plt.hist(lifeexpectancy_df['winsorized_Measles'])\n",
    "plt.title(\"Histogram of winsorized_Measles\")\n",
    "\n",
    "plt.subplot(5,5,18)\n",
    "plt.hist(lifeexpectancy_df['BMI'])\n",
    "plt.title(\"Histogram of BMI\")\n",
    "\n",
    "plt.subplot(5,5,19)\n",
    "plt.hist(lifeexpectancy_df['winsorized_under-five deaths'])\n",
    "plt.title(\"Histogram of winsorized_under-five deaths\")\n",
    "\n",
    "plt.subplot(5,5,20)\n",
    "plt.hist(lifeexpectancy_df['winsorized_Polio'])\n",
    "plt.title(\"Histogram of winsorized_Polio\")\n",
    "\n",
    "plt.tight_layout()\n",
    "plt.show()"
   ]
  },
  {
   "cell_type": "code",
   "execution_count": null,
   "metadata": {},
   "outputs": [],
   "source": [
    "plt.figure(figsize=(20,20))\n",
    "\n",
    "plt.subplot(5,5,1)\n",
    "plt.hist(lifeexpectancy_df['log_Total expenditure'])\n",
    "plt.title(\"Histogram of log_Total expenditure\")\n",
    "\n",
    "plt.subplot(5,5,2)\n",
    "plt.hist(lifeexpectancy_df['log_Diphtheria'])\n",
    "plt.title(\"Histogram of log_Diphtheria\")\n",
    "\n",
    "plt.subplot(5,5,3)\n",
    "plt.hist(lifeexpectancy_df['log_HIV/AIDS'])\n",
    "plt.title(\"Histogram of log_HIV/AIDS\")\n",
    "\n",
    "plt.subplot(5,5,4)\n",
    "plt.hist(lifeexpectancy_df['log_GDP'])\n",
    "plt.title(\"Histogram of log_GDP\")\n",
    "\n",
    "plt.subplot(5,5,5)\n",
    "plt.hist(lifeexpectancy_df['log_Population'])\n",
    "plt.title(\"Histogram of log_Population\")\n",
    "\n",
    "plt.subplot(5,5,6)\n",
    "plt.hist(lifeexpectancy_df['winsorized_Total expenditure'])\n",
    "plt.title(\"Histogram of winsorized_Total expenditure\")\n",
    "\n",
    "plt.subplot(5,5,7)\n",
    "plt.hist(lifeexpectancy_df['winsorized_Diphtheria'])\n",
    "plt.title(\"Histogram of winsorized_Diphtheria\")\n",
    "\n",
    "plt.subplot(5,5,8)\n",
    "plt.hist(lifeexpectancy_df['winsorized_HIV/AIDS'])\n",
    "plt.title(\"Histogram of winsorized_HIV/AIDS\")\n",
    "\n",
    "plt.subplot(5,5,9)\n",
    "plt.hist(lifeexpectancy_df['winsorized_GDP'])\n",
    "plt.title(\"Histogram of winsorized_GDP\")\n",
    "\n",
    "plt.subplot(5,5,10)\n",
    "plt.hist(lifeexpectancy_df['winsorized_Population'])\n",
    "plt.title(\"Histogram of winsorized_Population\")\n",
    "\n",
    "plt.subplot(5,5,11)\n",
    "plt.hist(lifeexpectancy_df['log_thinness  1-19 years'])\n",
    "plt.title(\"Histogram of log_thinness  1-19 years\")\n",
    "\n",
    "plt.subplot(5,5,12)\n",
    "plt.hist(lifeexpectancy_df['log_thinness 5-9 years'])\n",
    "plt.title(\"Histogram of log_thinness 5-9 years\")\n",
    "\n",
    "plt.subplot(5,5,13)\n",
    "plt.hist(lifeexpectancy_df['Income composition of resources'])\n",
    "plt.title(\"Histogram of Income composition of resources\")\n",
    "\n",
    "plt.subplot(5,5,14)\n",
    "plt.hist(lifeexpectancy_df['Schooling'])\n",
    "plt.title(\"Histogram of Schooling\")\n",
    "\n",
    "\n",
    "plt.subplot(5,5,15)\n",
    "\n",
    "\n",
    "plt.subplot(5,5,16)\n",
    "plt.hist(lifeexpectancy_df['winsorized_thinness  1-19 years'])\n",
    "plt.title(\"Histogram of winsorized_thinness  1-19 years\")\n",
    "\n",
    "plt.subplot(5,5,17)\n",
    "plt.hist(lifeexpectancy_df['winsorized_thinness 5-9 years'])\n",
    "plt.title(\"Histogram of winsorized_thinness 5-9 years\")\n",
    "\n",
    "plt.subplot(5,5,18)\n",
    "plt.hist(lifeexpectancy_df['Income composition of resources'])\n",
    "plt.title(\"Histogram of Income composition of resources\")\n",
    "\n",
    "plt.subplot(5,5,19)\n",
    "plt.hist(lifeexpectancy_df['Schooling'])\n",
    "plt.title(\"Histogram of Schooling\")\n",
    "\n",
    "plt.tight_layout()\n",
    "plt.show()"
   ]
  },
  {
   "cell_type": "code",
   "execution_count": null,
   "metadata": {},
   "outputs": [],
   "source": [
    "lifeexpectancy_df.corr()"
   ]
  },
  {
   "cell_type": "code",
   "execution_count": null,
   "metadata": {},
   "outputs": [],
   "source": [
    "lifeexpectancy_df.columns.unique()"
   ]
  },
  {
   "cell_type": "markdown",
   "metadata": {},
   "source": [
    "###### checking for relationships between continuous variables"
   ]
  },
  {
   "cell_type": "code",
   "execution_count": null,
   "metadata": {},
   "outputs": [],
   "source": [
    "corrmat1_lifeexpectancy = lifeexpectancy_df[['Life expectancy', 'Adult Mortality', \n",
    "                                            'infant deaths', 'Alcohol', 'percentage expenditure', \n",
    "                                            'Hepatitis B', 'Measles', 'BMI', 'under-five deaths', \n",
    "                                            'Polio', 'Total expenditure', 'Diphtheria', 'HIV/AIDS', \n",
    "                                            'GDP', 'Population', 'thinness  1-19 years', \n",
    "                                            'thinness 5-9 years', 'Income composition of resources', \n",
    "                                            'Schooling']].corr()\n",
    "\n",
    "corrmat2_lifeexpectancy = lifeexpectancy_df[['Life expectancy','winsorized_Adult Mortality', \n",
    "                                             'winsorized_infant deaths', 'winsorized_Alcohol', \n",
    "                                             'winsorized_percentage expenditure', 'winsorized_Measles', \n",
    "                                             'winsorized_under-five deaths', 'winsorized_Polio', \n",
    "                                             'winsorized_Total expenditure', 'winsorized_Diphtheria', \n",
    "                                             'winsorized_HIV/AIDS', 'winsorized_GDP', 'winsorized_Population', \n",
    "                                             'winsorized_thinness  1-19 years','winsorized_thinness 5-9 years']].corr()\n",
    "\n",
    "corrmat3_lifeexpectancy = lifeexpectancy_df[['Life expectancy','log_Life expectancy',\n",
    "                                             'log_Adult Mortality', 'log_infant deaths', 'log_Alcohol',\n",
    "                                             'log_percentage expenditure', 'log_Hepatitis B', 'log_Measles',\n",
    "                                             'log_BMI', 'log_under-five deaths', 'log_Polio', 'log_Total expenditure', \n",
    "                                             'log_Diphtheria', 'log_HIV/AIDS', 'log_GDP', 'log_Population', \n",
    "                                             'log_thinness  1-19 years', 'log_thinness 5-9 years',\n",
    "                                             'log_Income composition of resources', 'log_Schooling']].corr()\n",
    "\n",
    "\n",
    "plt.figure(figsize=(30,30))\n",
    "plt.subplot(3,1,1)\n",
    "# draw the heatmap using seaborn.\n",
    "sns.heatmap(corrmat1_lifeexpectancy, square=True, annot=True, linewidths=.5)\n",
    "plt.title(\"correlation matrix life expectancy\")\n",
    "    \n",
    "plt.subplot(3,1,2)\n",
    "sns.heatmap(corrmat2_lifeexpectancy, square=True, annot=True, linewidths=.5)\n",
    "plt.title(\"correlation matrix life expectancy\")\n",
    "    \n",
    "plt.subplot(3,1,3)\n",
    "sns.heatmap(corrmat3_lifeexpectancy, square=True, annot=True, linewidths=.5)\n",
    "plt.title(\"correlation matrix life expectancy\")\n",
    "\n",
    "\n",
    "plt.tight_layout()\n",
    "plt.show()"
   ]
  },
  {
   "cell_type": "markdown",
   "metadata": {},
   "source": [
    "###### Correlation with life expectancy\n",
    "'log_Income composition of resources': 0.84\n",
    "'log_HIV/AIDS': -0.81\n",
    "'log_Schooling: 0.71"
   ]
  },
  {
   "cell_type": "markdown",
   "metadata": {},
   "source": [
    "###### checking relationships between continuous & categorical variables"
   ]
  },
  {
   "cell_type": "code",
   "execution_count": null,
   "metadata": {},
   "outputs": [],
   "source": [
    "lifeexpectancy_df.groupby('Country').mean()"
   ]
  },
  {
   "cell_type": "code",
   "execution_count": null,
   "metadata": {},
   "outputs": [],
   "source": [
    "avglifeexp_country = lifeexpectancy_df.groupby('Country')['Life expectancy'].mean()\n",
    "print(avglifeexp_country)"
   ]
  },
  {
   "cell_type": "markdown",
   "metadata": {},
   "source": [
    "Too many countries (193), will look at t-test for each country; will groupby 'Status' and look at relationship to life expectancy"
   ]
  },
  {
   "cell_type": "code",
   "execution_count": null,
   "metadata": {},
   "outputs": [],
   "source": [
    "lifeexpectancy_df.groupby('Status').mean()"
   ]
  },
  {
   "cell_type": "code",
   "execution_count": null,
   "metadata": {},
   "outputs": [],
   "source": [
    "status = lifeexpectancy_df['Status'].unique()\n",
    "status_df = lifeexpectancy_df.groupby('Status')\n",
    "for var in ['Life expectancy', 'log_Income composition of resources', 'log_HIV/AIDS', 'log_Schooling']:\n",
    "    print(\"------------------------------------------------\")\n",
    "    print(\"Comparisons for variable: {}\".format(var))\n",
    "    print(\"------------------------------------------------\")\n",
    "    for i in range(0, len(status)):\n",
    "        for j in range(i+1, len(status)):\n",
    "            print(\"t-test between groups {0} and {1}:\".format(status[i], status[j]))\n",
    "            print(stats.ttest_ind(\n",
    "                lifeexpectancy_df[lifeexpectancy_df['Status']==status[i]][var], \n",
    "                lifeexpectancy_df[lifeexpectancy_df['Status']==status[j]][var]\n",
    "            ))"
   ]
  },
  {
   "cell_type": "markdown",
   "metadata": {},
   "source": [
    "life expectancy by year? "
   ]
  },
  {
   "cell_type": "code",
   "execution_count": null,
   "metadata": {},
   "outputs": [],
   "source": [
    "year_avg = lifeexpectancy_df.groupby('Year')['Life expectancy'].mean()\n",
    "print(year_avg)"
   ]
  },
  {
   "cell_type": "code",
   "execution_count": null,
   "metadata": {},
   "outputs": [],
   "source": [
    "log_income = lifeexpectancy_df['log_Income composition of resources'].describe()\n",
    "print(log_income)"
   ]
  },
  {
   "cell_type": "code",
   "execution_count": null,
   "metadata": {},
   "outputs": [],
   "source": [
    "org_income = lifeexpectancy_df['Income composition of resources'].describe()\n",
    "print(org_income)"
   ]
  },
  {
   "cell_type": "code",
   "execution_count": null,
   "metadata": {},
   "outputs": [],
   "source": []
  },
  {
   "cell_type": "code",
   "execution_count": null,
   "metadata": {},
   "outputs": [],
   "source": []
  },
  {
   "cell_type": "code",
   "execution_count": null,
   "metadata": {},
   "outputs": [],
   "source": []
  },
  {
   "cell_type": "markdown",
   "metadata": {},
   "source": [
    "##### question 3\n",
    "In the feature engineering step, you need to select a suite of variables that you think would be ideal in the modeling phase. More concretely, you may discard some variables that are very correlated with the other ones or the variables that you think irrelevant with the life expectancy."
   ]
  },
  {
   "cell_type": "markdown",
   "metadata": {},
   "source": [
    "##### suitable variables for modeling\n",
    "'log_Income composition of resources', 'log_HIV/AIDS', 'log_Schooling', 'Status'"
   ]
  },
  {
   "cell_type": "code",
   "execution_count": null,
   "metadata": {},
   "outputs": [],
   "source": [
    "#veify statistically the distributions of log_transformed variables not normally distributed\n",
    "jb_stats = jarque_bera(np.sqrt(lifeexpectancy_df['log_Income composition of resources']))\n",
    "norm_stats = normaltest(np.sqrt(lifeexpectancy_df['log_Income composition of resources']))\n",
    "\n",
    "print(\"Jarque-Bera test statistics is {0} and p value is {1}\".format(jb_stats[0], jb_stats[1]))\n",
    "print(\"Normality test statistics is {0} and p value is {1}\".format(norm_stats[0], norm_stats[1]))\n",
    "\n",
    "jb_stats = jarque_bera(np.sqrt(lifeexpectancy_df['log_HIV/AIDS']))\n",
    "norm_stats = normaltest(np.sqrt(lifeexpectancy_df['log_HIV/AIDS']))\n",
    "\n",
    "print(\"Jarque-Bera test statistics is {0} and p value is {1}\".format(jb_stats[0], jb_stats[1]))\n",
    "print(\"Normality test statistics is {0} and p value is {1}\".format(norm_stats[0], norm_stats[1]))\n",
    "\n",
    "jb_stats = jarque_bera(np.sqrt(lifeexpectancy_df['log_Schooling']))\n",
    "norm_stats = normaltest(np.sqrt(lifeexpectancy_df['log_Schooling']))\n",
    "\n",
    "print(\"Jarque-Bera test statistics is {0} and p value is {1}\".format(jb_stats[0], jb_stats[1]))\n",
    "print(\"Normality test statistics is {0} and p value is {1}\".format(norm_stats[0], norm_stats[1]))"
   ]
  },
  {
   "cell_type": "code",
   "execution_count": null,
   "metadata": {},
   "outputs": [],
   "source": [
    "\n",
    "log_income_boxcox,_ = boxcox(lifeexpectancy_df['log_Income composition of resources'])\n",
    "#log_hiv_boxcox,_ = boxcox(lifeexpectancy_df['log_HIV/AIDS'])\n",
    "log_school_boxcox,_ = boxcox(lifeexpectancy_df['log_Schooling'])\n",
    "\n",
    "plt.figure(figsize=(18,5))\n",
    "\n",
    "# histograms of the box-cox transformed data\n",
    "plt.subplot(1, 3, 1)\n",
    "plt.hist(log_income_boxcox)\n",
    "plt.title(\"histogram of log_income (box-cox transformed)\")\n",
    "\n",
    "plt.subplot(1, 3, 2)\n",
    "plt.hist(log_hiv_boxcox)\n",
    "plt.title(\"histogram of log_hiv (box-cox transformed)\")\n",
    "\n",
    "plt.subplot(1, 3, 3)\n",
    "plt.hist(log_school_boxcox)\n",
    "plt.title(\"histogram of log_school (box-cox transformed)\")\n",
    "\n",
    "plt.show()"
   ]
  },
  {
   "cell_type": "code",
   "execution_count": null,
   "metadata": {},
   "outputs": [],
   "source": [
    "np.sqrt(lifeexpectancy_df['log_Income composition of resources'])"
   ]
  },
  {
   "cell_type": "code",
   "execution_count": null,
   "metadata": {},
   "outputs": [],
   "source": []
  },
  {
   "cell_type": "code",
   "execution_count": null,
   "metadata": {},
   "outputs": [],
   "source": []
  },
  {
   "cell_type": "code",
   "execution_count": null,
   "metadata": {},
   "outputs": [],
   "source": []
  },
  {
   "cell_type": "code",
   "execution_count": null,
   "metadata": {},
   "outputs": [],
   "source": []
  },
  {
   "cell_type": "code",
   "execution_count": null,
   "metadata": {},
   "outputs": [],
   "source": []
  },
  {
   "cell_type": "code",
   "execution_count": null,
   "metadata": {},
   "outputs": [],
   "source": []
  },
  {
   "cell_type": "markdown",
   "metadata": {},
   "source": [
    "##### question 4 \n",
    "Summarize your findings. One of the most important skills of a data scientist is to convey ideas and findings to nontechnical people using understandable language. In this regard, one of the most effective ways to communicate your ideas is to do it using effective visualization."
   ]
  },
  {
   "cell_type": "code",
   "execution_count": null,
   "metadata": {},
   "outputs": [],
   "source": []
  },
  {
   "cell_type": "code",
   "execution_count": null,
   "metadata": {},
   "outputs": [],
   "source": []
  },
  {
   "cell_type": "code",
   "execution_count": null,
   "metadata": {},
   "outputs": [],
   "source": []
  },
  {
   "cell_type": "code",
   "execution_count": null,
   "metadata": {},
   "outputs": [],
   "source": []
  },
  {
   "cell_type": "code",
   "execution_count": null,
   "metadata": {},
   "outputs": [],
   "source": []
  },
  {
   "cell_type": "code",
   "execution_count": null,
   "metadata": {},
   "outputs": [],
   "source": []
  },
  {
   "cell_type": "code",
   "execution_count": null,
   "metadata": {},
   "outputs": [],
   "source": []
  },
  {
   "cell_type": "code",
   "execution_count": null,
   "metadata": {},
   "outputs": [],
   "source": []
  },
  {
   "cell_type": "code",
   "execution_count": null,
   "metadata": {},
   "outputs": [],
   "source": []
  }
 ],
 "metadata": {
  "kernelspec": {
   "display_name": "Python 3",
   "language": "python",
   "name": "python3"
  },
  "language_info": {
   "codemirror_mode": {
    "name": "ipython",
    "version": 3
   },
   "file_extension": ".py",
   "mimetype": "text/x-python",
   "name": "python",
   "nbconvert_exporter": "python",
   "pygments_lexer": "ipython3",
   "version": "3.7.3"
  }
 },
 "nbformat": 4,
 "nbformat_minor": 2
}
