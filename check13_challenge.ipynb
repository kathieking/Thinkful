{
 "cells": [
  {
   "cell_type": "markdown",
   "metadata": {},
   "source": [
    "#### Challenge\n",
    "Read the following descriptions of an experiment and its analysis, identify the flaws in each, and describe what you would do to correct them."
   ]
  },
  {
   "cell_type": "markdown",
   "metadata": {},
   "source": [
    "-two versions: control & test (intervention)\n",
    "-sample, divided into two groups, as similar (key demographics)& random as possible\n",
    "-hypothesis\n",
    "-outcome - what is expected & how it will be measured key metric\n",
    "-other measured variables\n",
    "\n",
    "Bias can come from a) the sampling procedure, b) the assignment to conditions procedure, c) the context of the study, or d) the people running the study."
   ]
  },
  {
   "cell_type": "markdown",
   "metadata": {},
   "source": [
    "1. The Sith Lords are concerned that their recruiting slogan, \"Give In to Your Anger,\" isn't very effective. Darth Vader develops an alternative slogan, \"Together We Can Rule the Galaxy.\" They compare the slogans on two groups of 50 captured droids each. In one group, Emperor Palpatine delivers the \"Anger\" slogan. In the other, Darth Vader presents the \"Together\" slogan. 20 droids convert to the Dark Side after hearing Palpatine's slogan, while only 5 droids convert after hearing Vader's. The Sith's data scientist concludes that \"Anger\" is a more effective slogan and should continue to be used. "
   ]
  },
  {
   "cell_type": "markdown",
   "metadata": {},
   "source": [
    "**VERSIONS**\n",
    "There appears to be a valid two-version test: slogan Anger (control) and slogan Together (intervention). \n",
    "\n",
    "**SAMPLES**\n",
    "*Flaw:* sampling procedure and/or assignment to conditions procedure\n",
    "Unclear if the two droid groups were chosen randomly and/or are similar to each other. Characteristics to consider include amount of time in captivity, type of droid, age of droid, purpose (occupation) of droid, and previous owner (if any) of droid. All of these factors could influence the droid's decision to join the Dark Side. \n",
    "*Correction:* Attempt to randomize each test group on the above characters so that each test group contains a similar mix of demographics. \n",
    "\n",
    "**HYPOTHESIS**\n",
    "The new slogan \"Together\" will is a more effective recruitment slogan than the current \"Anger\" slogan.\n",
    "\n",
    "**OUTCOME & OTHER MEASURED VARIABLES**\n",
    "Key metric: conversion to the Dark Side. \n",
    "\n",
    "**BIASES** \n",
    "*Flaw:* context of the study\n",
    "No mention is made of the physical setting where the slogan was delivered. \n",
    "*Correction:* make sure both groups receive the slogan in a similar setting including time of day, physical comfort level (if applicable), physical needs met/not met, etc.\n",
    "\n",
    "*Flaw:* people running the study\n",
    "Darth Vadar is scary. Perhaps his delivery of the slogan is not optimal. \n",
    "*Correction:* have the same person deliver the slogan to both groups in the same/similar conditions. "
   ]
  },
  {
   "cell_type": "code",
   "execution_count": null,
   "metadata": {},
   "outputs": [],
   "source": []
  },
  {
   "cell_type": "markdown",
   "metadata": {},
   "source": [
    "2. In the past, the Jedi have had difficulty with public relations. They send two envoys, Jar Jar Binks and Mace Windu, to four friendly and four unfriendly planets respectively, with the goal of promoting favorable feelings toward the Jedi. Upon their return, the envoys learn that Jar Jar was much more effective than Windu: Over 75% of the people surveyed said their attitudes had become more favorable after speaking with Jar Jar, while only 65% said their attitudes had become more favorable after speaking with Windu. This makes Windu angry, because he is sure that he had a better success rate than Jar Jar on every planet. The Jedi choose Jar Jar to be their representative in the future."
   ]
  },
  {
   "cell_type": "markdown",
   "metadata": {},
   "source": [
    "**VERSIONS**\n",
    "*Flaw:* There are several variables in the test making it impossible to determine what the most effective factor is in creating favorable attitude toward the Jedi. \n",
    "*Correction:* If the purpose of the test is to determine who the PR representative will be, each representative should have the same prepared pitch to present to similar audiences (friendly vs unfriendly). \n",
    "\n",
    "**SAMPLES**\n",
    "*Flaw:* sampling procedure and/or assignment to conditions procedure\n",
    "Clearly the representative presenting to the friendly planets has a distinct advantage over the unfriendly planents. In this test, one version consisted of all friendly planents and the other consisted of all unfriendly planents. \n",
    "*Correction:* Attempt to randomize each test group on the above characters so that each test group contains a similar mix of demographics (especially friendliness). \n",
    "\n",
    "**HYPOTHESIS**\n",
    "Jar Jar Binks is a more effective PR representative than Mace Windu.\n",
    "\n",
    "**OUTCOME & OTHER MEASURED VARIABLES**\n",
    "Key metric: favorable feelings toward the Jedi. \n",
    "*Flaw:* there is no standard measure of \"favorable.\" \n",
    "*Correction:* prepare a short questionnaire with multiple choice (measureable) answers. Determine a scale or score which indicates favorable feelings. \n",
    "\n",
    "**BIASES** \n",
    "*Flaw:* sampling and assignment to conditions as above\n",
    "*Flaw:* context of the study\n",
    "No mention is made of the physical setting where the slogan was delivered. \n",
    "*Correction:* make sure each group receiving a PR visit does so in as similar conditions as possible given the difference of each planet, e.g. time of day, physical comfort level, etc.\n",
    "\n",
    "*Flaw:* people running the study\n",
    "*Correction:* Assuming there are major difference between Jar Jar and Windu, it is essential to attempt to make all other conditions and variables as equal as possible. Only with appropriate selection/randomization and objectively measured outcomes will it be possible to measure the difference in effectiveness between Jar Jar and Windu. "
   ]
  },
  {
   "cell_type": "code",
   "execution_count": null,
   "metadata": {},
   "outputs": [],
   "source": []
  },
  {
   "cell_type": "markdown",
   "metadata": {},
   "source": [
    "3. A company with work sites in five different countries has sent you data on employee satisfaction rates for workers in Human Resources and workers in Information Technology. Most HR workers are concentrated in three of the countries, while IT workers are equally distributed across worksites. The company requests a report on satisfaction for each job type. You calculate average job satisfaction for HR and for IT and present the report."
   ]
  },
  {
   "cell_type": "markdown",
   "metadata": {},
   "source": [
    "**BIASES** \n",
    "*Flaw:* sampling and assignment to conditions\n",
    "The main issue with delivering a \"total\" job satisfaction rate for either HR workers or IT workers is the fact that they are distributed across 5 countries. The country of the worker is very likely a lurking variable which will greatly affect the average satisfaction rate of the worker in either profession. Depending on the number of workers in each profession at each location, the total average is susceptible to a Simpson's paradox, making the average job satisfaction misleading at best.\n",
    "*Correction:* the scores for each location should be weighted based on the number of employees at that site. \n",
    "\n",
    "\n"
   ]
  },
  {
   "cell_type": "markdown",
   "metadata": {},
   "source": [
    "4. When people install the Happy Days Fitness Tracker app, they are asked to \"opt in\" to a data collection scheme where their level of physical activity data is automatically sent to the company for product research purposes. During your interview with the company, they tell you that the app is very effective because after installing the app, the data show that people's activity levels rise steadily. "
   ]
  },
  {
   "cell_type": "markdown",
   "metadata": {},
   "source": [
    "**BIASES** \n",
    "*Flaw:* sampling and assignment to conditions\n",
    "There is a selection bias of people who use trackers for any purpose and people who \"opt in\" to anything. Generally someone who takes the steps to download and use an app for fitness/activity is more motivated to increase their fitness levels. These people may have increased their activity level with or without the app, or with a different app. Also, someone who \"opts in\" to allow their data to be used are likely to feel confident enough about their activity level to allow someone else to view it. People who are less motivated to increase activity are more likely to NOT \"opt in\" to having their data viewed by others. \n",
    "*Correction:* depending on the legality, the best solution would be to collect data on ALL (or a random sample) app users and compare it to non-app users or users of a different app. If it is not permitted to collect the app data without permission, it would be preferable to request permission from all app users rather than have them \"opt in.\""
   ]
  },
  {
   "cell_type": "markdown",
   "metadata": {},
   "source": [
    "5. To prevent cheating, a teacher writes three versions of a test. She stacks the three versions together, first all copies of Version A, then all copies of Version B, then all copies of Version C. As students arrive for the exam, each student takes a test. When grading the test, the teacher finds that students who took Version B scored higher than students who took either Version A or Version C. She concludes from this that Version B is easier, and discards it."
   ]
  },
  {
   "cell_type": "markdown",
   "metadata": {},
   "source": [
    "**BIASES** \n",
    "*Flaw:* sampling and assignment to conditions\n",
    "The students who arrive early/first will receive test A. As students continue to arrive, they will receive test B, and the later/last students to arrive will receive test C. There are several factors which would affect a student's arrival time to class and thus which test they received. An arguement can be made that those who arrive last were studying until the last possible second, thus received C. Those who arrived first may have been anxious and wanted to \"get it over with.\" Those who arrive in between may have been the most relaxed/confident test takers and thus performed the best. Another possiblilty is that groups of friends or like-minded classmates arrive together, perhaps from another class that they share. If all the \"smart\" kids are in the same class prior to this one, they may have all arrived at the same time and received the same test.\n",
    "*Correction:* If the students are taking an exam as they arrive, it would best to shuffle the tests in order to produce a random distribution. Another solution would be to hand out the tests in a random order once the students are seated. "
   ]
  }
 ],
 "metadata": {
  "kernelspec": {
   "display_name": "Python 3",
   "language": "python",
   "name": "python3"
  },
  "language_info": {
   "codemirror_mode": {
    "name": "ipython",
    "version": 3
   },
   "file_extension": ".py",
   "mimetype": "text/x-python",
   "name": "python",
   "nbconvert_exporter": "python",
   "pygments_lexer": "ipython3",
   "version": "3.7.3"
  }
 },
 "nbformat": 4,
 "nbformat_minor": 2
}
