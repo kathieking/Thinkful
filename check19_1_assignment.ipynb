{
 "cells": [
  {
   "cell_type": "markdown",
   "metadata": {},
   "source": [
    "#### Assignment\n",
    "\n",
    "To close out this checkpoint, answer the following questions. Once you're done, you can compare your answers to the ones found in this notebook, which you can download.\n",
    "\n",
    "1. Let's assume that you have World Bank data on financial, economic and social indicators for several countries. You want to measure the factors that affect the level of development in these countries. To this end, you decide to use per capita income as a proxy for the development level, which is defined as the national income divided by the population. You want to use some features in your dataset to predict per capita income. Is this task a classification or a regression task? Why?\n",
    "2. Which of the following arguments are false and why?\n",
    "    - OLS is a special type of linear regression models\n",
    "    - Regression models become useless if they don’t meet the assumptions of linear regression.\n",
    "    - Estimation and prediction are the same thing in the context of linear regression models.\n",
    "    - Linear regression is only one kind of regression model. Regression problems can also be solved with other kind of models like Support Vector Machines or Random Forests.\n",
    "3. Assume that your project manager wants you to discover which free services your company offers make your customers buy more of your paid services. Formulate this task as a regression problem and write down the potential outcome and features that you’d like to work on.\n",
    "\n"
   ]
  },
  {
   "cell_type": "markdown",
   "metadata": {},
   "source": [
    "1. Regression task, used with continuous data to PREDICT and not classify."
   ]
  },
  {
   "cell_type": "markdown",
   "metadata": {},
   "source": [
    "2. True or False:\n",
    "    - OLS is a special type of linear regression models\n",
    "False: it is a optimization algorithm used in a linear regression model to choose the best estimator line. \n",
    "\n",
    "    - Regression models become useless if they don’t meet the assumptions of linear regression.\n",
    "False: the model must meet 6 assumptions/condidtions in order to use the linear regression model. If the model does not meet these conditions, you must return to the model and attempt to fix/change it until it does.    \n",
    "    \n",
    "    - Estimation and prediction are the same thing in the context of linear regression models.\n",
    "False: the term estimation refers to the process of optimizing the parameters (using OLS) and choosing the best parameter for prediction.     \n",
    "    \n",
    "    - Linear regression is only one kind of regression model. Regression problems can also be solved with other kind of models like Support Vector Machines or Random Forests.\n",
    "True\n",
    "    "
   ]
  },
  {
   "cell_type": "markdown",
   "metadata": {},
   "source": [
    "3. The first step would be to compile a list of free services and paid services. Then plot the free services on the x-axis with the paid services on the y-axis. Look at the plot for any positive correlations between the two types of services. \n",
    "\n",
    "Once the features with a possible relationship to the paid features (target) are chosen through feature engineering and exploratory analysis, we would continue on to the estimation process. Using the OLS, the feature(s) that best represent a relationship between the features and target are chosen.\n",
    "\n",
    "Next the features must be vetted through the assumptions list of 6 conditions. If conditions are not met, attempt to fix the model so they do. \n",
    "\n",
    "Once we have appropriate features, we would train the model on a portion of the data, and then test on the untrained portion. Performance of the model is assessed using Root Mean Squared Error or similar. This will assist us in determining if the model is performing well enough to use. If not, we would need to go back to the estimation process or even back to feature engineering. "
   ]
  },
  {
   "cell_type": "markdown",
   "metadata": {},
   "source": [
    "answer from sample\n",
    "$$ total \\enspace expenditure = \\alpha + \\beta_1 \\enspace X \\enspace dummy \\enspace of \\enspace using \\enspace freeservice1 + \\beta_2 \\enspace X \\enspace dummy \\enspace of \\enspace using \\enspace freeservice2 $$"
   ]
  },
  {
   "cell_type": "markdown",
   "metadata": {},
   "source": []
  },
  {
   "cell_type": "code",
   "execution_count": null,
   "metadata": {},
   "outputs": [],
   "source": []
  }
 ],
 "metadata": {
  "kernelspec": {
   "display_name": "Python 3",
   "language": "python",
   "name": "python3"
  },
  "language_info": {
   "codemirror_mode": {
    "name": "ipython",
    "version": 3
   },
   "file_extension": ".py",
   "mimetype": "text/x-python",
   "name": "python",
   "nbconvert_exporter": "python",
   "pygments_lexer": "ipython3",
   "version": "3.7.3"
  }
 },
 "nbformat": 4,
 "nbformat_minor": 2
}
