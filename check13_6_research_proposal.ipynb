{
 "cells": [
  {
   "cell_type": "markdown",
   "metadata": {},
   "source": [
    "#### The Research Proposal"
   ]
  },
  {
   "cell_type": "markdown",
   "metadata": {},
   "source": [
    "##### The Problem\n",
    "define the question or problem, justify why the problem should be studied, and review what we already know about the problem\n",
    "\n",
    "Example:\n",
    "How to decrease employee churn? Churn creates inefficiency as new people have to be trained in and knowledge from experienced workers is lost. In exit interviews, employees name \"out-of-date technology\" and \"poor communication\" as major motivations to leave."
   ]
  },
  {
   "cell_type": "markdown",
   "metadata": {},
   "source": [
    "##### The Potential Solution\n",
    "propose a hypothesis (potential explanation) to be tested\n",
    "\n",
    "Example:\n",
    "Adding Slack to employee computers will decrease churn by increasing communication"
   ]
  },
  {
   "cell_type": "markdown",
   "metadata": {},
   "source": [
    "##### Method of Testing\n",
    "Describe the design of the experiment, the _analysis plan_, and _set benchmarks_\n",
    "\n",
    "Example:\n",
    "install Slack on half of the employees' computers and monitor churn for the next two months. The variable of interest is churn in Slack and non-Slack groups. This is an A/B manipulation where Slack is installed or not installed.\n",
    "\n",
    "We will compute the churn rate for two months before the study and compare it to the churn rate in Slack and non-Slack groups for two months during the study.\n",
    "\n",
    "If churn in the next two months decreases by 10% among Slack users (using churn estimates from the past year), conclude that Slack is effective and install on all computers. If churn in the next two months decreases among Slack users, but by less than one standard deviation, observe for two more months before deciding. If churn does not decrease in two months, uninstall Slack."
   ]
  },
  {
   "cell_type": "markdown",
   "metadata": {},
   "source": [
    "it is important to clearly lay out exactly what you plan to do and why. A research proposal helps to avoid many common experimentation pitfalls, such as:\n",
    "\n",
    "    Mismatch between question and study design.\n",
    "        E.g., a study that claims to address churn but actually focuses on employee communication and doesn't measure churn.\n",
    "    \n",
    "    A design that does not generate usable data.\n",
    "        E.g. We want to compare employee satisfaction in two groups, but the groups use different satisfaction measures and there's no way to compare them.\n",
    "    \n",
    "    False positives\n",
    "        E.g. Changing the endpoints mid-way through a study by moving benchmarks or stopping data collection early when things start to look promising increases the risk of getting results that look good but reflect random chance rather than real trends.\n",
    "    \n",
    "    The research proposal also presents and maintains a standard. It should outline the way things should be and hold you to it. In the real world there will be pressure to run things faster, reduce costs, or cut corners here or there. The proposal provides the standard for how the experiment should be run. It also provides an easy response to questions like: \"Why is this taking so long?\""
   ]
  },
  {
   "cell_type": "code",
   "execution_count": null,
   "metadata": {},
   "outputs": [],
   "source": []
  },
  {
   "cell_type": "code",
   "execution_count": null,
   "metadata": {},
   "outputs": [],
   "source": []
  },
  {
   "cell_type": "code",
   "execution_count": null,
   "metadata": {},
   "outputs": [],
   "source": []
  },
  {
   "cell_type": "code",
   "execution_count": null,
   "metadata": {},
   "outputs": [],
   "source": []
  },
  {
   "cell_type": "code",
   "execution_count": null,
   "metadata": {},
   "outputs": [],
   "source": []
  }
 ],
 "metadata": {
  "kernelspec": {
   "display_name": "Python 3",
   "language": "python",
   "name": "python3"
  },
  "language_info": {
   "codemirror_mode": {
    "name": "ipython",
    "version": 3
   },
   "file_extension": ".py",
   "mimetype": "text/x-python",
   "name": "python",
   "nbconvert_exporter": "python",
   "pygments_lexer": "ipython3",
   "version": "3.7.3"
  }
 },
 "nbformat": 4,
 "nbformat_minor": 2
}
