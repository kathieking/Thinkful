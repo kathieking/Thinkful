{
 "cells": [
  {
   "cell_type": "markdown",
   "metadata": {},
   "source": [
    "#### Assignment\n",
    "for each of the following situations, decide if you would model using a regression or classification model. Discuss your reasoning with your mentor next time you meet.\n",
    "\n",
    "1. The amount a person will spend on a given site in the next 24 months.\n",
    "2. What color car someone is going to buy.\n",
    "3. How many children a family will have.\n",
    "4. If someone will sign up for a service.\n",
    "5. The number of times someone will get sick in a year.\n",
    "6. The probability someone will get sick in the next month.\n",
    "7. Which medicine will work best for a given patient.\n",
    "\n",
    "Submit a link to your work below."
   ]
  },
  {
   "cell_type": "markdown",
   "metadata": {},
   "source": [
    "##### question 1\n",
    "The amount a person will spend on a given site in the next 24 months.\n",
    "\n",
    "regression: has a contiuous outcome variable, unbounded"
   ]
  },
  {
   "cell_type": "markdown",
   "metadata": {},
   "source": [
    "##### question 2\n",
    "What color car someone is going to buy.\n",
    "\n",
    "categorical: discrete values, there is a limited number of colors AVAILABLE for purchase"
   ]
  },
  {
   "cell_type": "markdown",
   "metadata": {},
   "source": [
    "##### question 3\n",
    "How many children a family will have.\n",
    "\n",
    "regression: has a contiuous outcome variable, unbounded"
   ]
  },
  {
   "cell_type": "markdown",
   "metadata": {},
   "source": [
    "##### question 4\n",
    "If someone will sign up for a service.\n",
    "\n",
    "categorical: discrete values, yes or no"
   ]
  },
  {
   "cell_type": "markdown",
   "metadata": {},
   "source": [
    "##### question 5\n",
    "The number of times someone will get sick in a year.\n",
    "\n",
    "regression: has a contiuous outcome variable, unbounded"
   ]
  },
  {
   "cell_type": "markdown",
   "metadata": {},
   "source": [
    "##### question 6\n",
    "The probability someone will get sick in the next month.\n",
    "\n",
    "regression: has a contiuous outcome variable, unbounded"
   ]
  },
  {
   "cell_type": "markdown",
   "metadata": {},
   "source": [
    "##### question 7\n",
    "Which medicine will work best for a given patient.\n",
    "\n",
    "categorical: discrete values, there is a limited number of medicines AVAILABLE to use"
   ]
  }
 ],
 "metadata": {
  "kernelspec": {
   "display_name": "Python 3",
   "language": "python",
   "name": "python3"
  },
  "language_info": {
   "codemirror_mode": {
    "name": "ipython",
    "version": 3
   },
   "file_extension": ".py",
   "mimetype": "text/x-python",
   "name": "python",
   "nbconvert_exporter": "python",
   "pygments_lexer": "ipython3",
   "version": "3.7.3"
  }
 },
 "nbformat": 4,
 "nbformat_minor": 2
}
