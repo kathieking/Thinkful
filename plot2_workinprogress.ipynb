{
 "cells": [
  {
   "cell_type": "code",
   "execution_count": 19,
   "metadata": {},
   "outputs": [],
   "source": [
    "import numpy as np\n",
    "import pandas as pd\n",
    "import matplotlib.pyplot as plt\n",
    "%matplotlib inline"
   ]
  },
  {
   "cell_type": "code",
   "execution_count": 20,
   "metadata": {},
   "outputs": [],
   "source": [
    "df = pd.read_csv(r'C:\\Users\\katec\\Thinkful\\chap_4_assignment\\data\\Directory_Of_Homeless_Population_By_Year.csv')"
   ]
  },
  {
   "cell_type": "code",
   "execution_count": 21,
   "metadata": {},
   "outputs": [
    {
     "data": {
      "text/html": [
       "<div>\n",
       "<style scoped>\n",
       "    .dataframe tbody tr th:only-of-type {\n",
       "        vertical-align: middle;\n",
       "    }\n",
       "\n",
       "    .dataframe tbody tr th {\n",
       "        vertical-align: top;\n",
       "    }\n",
       "\n",
       "    .dataframe thead th {\n",
       "        text-align: right;\n",
       "    }\n",
       "</style>\n",
       "<table border=\"1\" class=\"dataframe\">\n",
       "  <thead>\n",
       "    <tr style=\"text-align: right;\">\n",
       "      <th></th>\n",
       "      <th>Year</th>\n",
       "      <th>Area</th>\n",
       "      <th>Homeless Estimates</th>\n",
       "    </tr>\n",
       "  </thead>\n",
       "  <tbody>\n",
       "    <tr>\n",
       "      <th>0</th>\n",
       "      <td>2012</td>\n",
       "      <td>Surface Area - Manhattan</td>\n",
       "      <td>906</td>\n",
       "    </tr>\n",
       "    <tr>\n",
       "      <th>1</th>\n",
       "      <td>2012</td>\n",
       "      <td>Total Unsheltered Individuals</td>\n",
       "      <td>3262</td>\n",
       "    </tr>\n",
       "    <tr>\n",
       "      <th>2</th>\n",
       "      <td>2012</td>\n",
       "      <td>Subways</td>\n",
       "      <td>1634</td>\n",
       "    </tr>\n",
       "    <tr>\n",
       "      <th>3</th>\n",
       "      <td>2012</td>\n",
       "      <td>Surface Total</td>\n",
       "      <td>1628</td>\n",
       "    </tr>\n",
       "    <tr>\n",
       "      <th>4</th>\n",
       "      <td>2012</td>\n",
       "      <td>Surface Area - Staten Island</td>\n",
       "      <td>99</td>\n",
       "    </tr>\n",
       "    <tr>\n",
       "      <th>5</th>\n",
       "      <td>2012</td>\n",
       "      <td>Surface Area - Queens</td>\n",
       "      <td>86</td>\n",
       "    </tr>\n",
       "    <tr>\n",
       "      <th>6</th>\n",
       "      <td>2012</td>\n",
       "      <td>Surface Area - Brooklyn</td>\n",
       "      <td>368</td>\n",
       "    </tr>\n",
       "    <tr>\n",
       "      <th>7</th>\n",
       "      <td>2012</td>\n",
       "      <td>Surface Area - Bronx</td>\n",
       "      <td>169</td>\n",
       "    </tr>\n",
       "    <tr>\n",
       "      <th>8</th>\n",
       "      <td>2011</td>\n",
       "      <td>Surface Area - Manhattan</td>\n",
       "      <td>786</td>\n",
       "    </tr>\n",
       "    <tr>\n",
       "      <th>9</th>\n",
       "      <td>2011</td>\n",
       "      <td>Surface Area - Bronx</td>\n",
       "      <td>115</td>\n",
       "    </tr>\n",
       "  </tbody>\n",
       "</table>\n",
       "</div>"
      ],
      "text/plain": [
       "   Year                            Area  Homeless Estimates\n",
       "0  2012       Surface Area - Manhattan                  906\n",
       "1  2012  Total Unsheltered Individuals                 3262\n",
       "2  2012                        Subways                 1634\n",
       "3  2012                  Surface Total                 1628\n",
       "4  2012   Surface Area - Staten Island                   99\n",
       "5  2012          Surface Area - Queens                   86\n",
       "6  2012        Surface Area - Brooklyn                  368\n",
       "7  2012           Surface Area - Bronx                  169\n",
       "8  2011       Surface Area - Manhattan                  786\n",
       "9  2011           Surface Area - Bronx                  115"
      ]
     },
     "execution_count": 21,
     "metadata": {},
     "output_type": "execute_result"
    }
   ],
   "source": [
    "df.head(10)"
   ]
  },
  {
   "cell_type": "code",
   "execution_count": 22,
   "metadata": {},
   "outputs": [
    {
     "data": {
      "text/plain": [
       "array(['Surface Area - Manhattan ', 'Total Unsheltered Individuals ',\n",
       "       'Subways ', 'Surface Total ', 'Surface Area - Staten Island ',\n",
       "       'Surface Area - Queens ', 'Surface Area - Brooklyn ',\n",
       "       'Surface Area - Bronx '], dtype=object)"
      ]
     },
     "execution_count": 22,
     "metadata": {},
     "output_type": "execute_result"
    }
   ],
   "source": [
    "df.Area.unique()"
   ]
  },
  {
   "cell_type": "code",
   "execution_count": 23,
   "metadata": {},
   "outputs": [],
   "source": [
    "df['order'] = df['Area'].map({'Surface Area - Brooklyn ': 0, 'Surface Area - Bronx ': 1, 'Surface Area - Manhattan ': 2, 'Surface Area - Staten Island ': 3, 'Surface Area - Queens ': 4, 'Surface Total ': 5, 'Subways ': 6, 'Total Unsheltered Individuals ': 7})"
   ]
  },
  {
   "cell_type": "code",
   "execution_count": 24,
   "metadata": {},
   "outputs": [
    {
     "data": {
      "text/html": [
       "<div>\n",
       "<style scoped>\n",
       "    .dataframe tbody tr th:only-of-type {\n",
       "        vertical-align: middle;\n",
       "    }\n",
       "\n",
       "    .dataframe tbody tr th {\n",
       "        vertical-align: top;\n",
       "    }\n",
       "\n",
       "    .dataframe thead th {\n",
       "        text-align: right;\n",
       "    }\n",
       "</style>\n",
       "<table border=\"1\" class=\"dataframe\">\n",
       "  <thead>\n",
       "    <tr style=\"text-align: right;\">\n",
       "      <th></th>\n",
       "      <th>Year</th>\n",
       "      <th>Area</th>\n",
       "      <th>Homeless Estimates</th>\n",
       "      <th>order</th>\n",
       "    </tr>\n",
       "  </thead>\n",
       "  <tbody>\n",
       "    <tr>\n",
       "      <th>0</th>\n",
       "      <td>2012</td>\n",
       "      <td>Surface Area - Manhattan</td>\n",
       "      <td>906</td>\n",
       "      <td>2</td>\n",
       "    </tr>\n",
       "    <tr>\n",
       "      <th>1</th>\n",
       "      <td>2012</td>\n",
       "      <td>Total Unsheltered Individuals</td>\n",
       "      <td>3262</td>\n",
       "      <td>7</td>\n",
       "    </tr>\n",
       "    <tr>\n",
       "      <th>2</th>\n",
       "      <td>2012</td>\n",
       "      <td>Subways</td>\n",
       "      <td>1634</td>\n",
       "      <td>6</td>\n",
       "    </tr>\n",
       "    <tr>\n",
       "      <th>3</th>\n",
       "      <td>2012</td>\n",
       "      <td>Surface Total</td>\n",
       "      <td>1628</td>\n",
       "      <td>5</td>\n",
       "    </tr>\n",
       "    <tr>\n",
       "      <th>4</th>\n",
       "      <td>2012</td>\n",
       "      <td>Surface Area - Staten Island</td>\n",
       "      <td>99</td>\n",
       "      <td>3</td>\n",
       "    </tr>\n",
       "    <tr>\n",
       "      <th>5</th>\n",
       "      <td>2012</td>\n",
       "      <td>Surface Area - Queens</td>\n",
       "      <td>86</td>\n",
       "      <td>4</td>\n",
       "    </tr>\n",
       "    <tr>\n",
       "      <th>6</th>\n",
       "      <td>2012</td>\n",
       "      <td>Surface Area - Brooklyn</td>\n",
       "      <td>368</td>\n",
       "      <td>0</td>\n",
       "    </tr>\n",
       "    <tr>\n",
       "      <th>7</th>\n",
       "      <td>2012</td>\n",
       "      <td>Surface Area - Bronx</td>\n",
       "      <td>169</td>\n",
       "      <td>1</td>\n",
       "    </tr>\n",
       "    <tr>\n",
       "      <th>8</th>\n",
       "      <td>2011</td>\n",
       "      <td>Surface Area - Manhattan</td>\n",
       "      <td>786</td>\n",
       "      <td>2</td>\n",
       "    </tr>\n",
       "    <tr>\n",
       "      <th>9</th>\n",
       "      <td>2011</td>\n",
       "      <td>Surface Area - Bronx</td>\n",
       "      <td>115</td>\n",
       "      <td>1</td>\n",
       "    </tr>\n",
       "    <tr>\n",
       "      <th>10</th>\n",
       "      <td>2011</td>\n",
       "      <td>Surface Area - Brooklyn</td>\n",
       "      <td>242</td>\n",
       "      <td>0</td>\n",
       "    </tr>\n",
       "    <tr>\n",
       "      <th>11</th>\n",
       "      <td>2011</td>\n",
       "      <td>Surface Area - Queens</td>\n",
       "      <td>102</td>\n",
       "      <td>4</td>\n",
       "    </tr>\n",
       "    <tr>\n",
       "      <th>12</th>\n",
       "      <td>2011</td>\n",
       "      <td>Surface Area - Staten Island</td>\n",
       "      <td>128</td>\n",
       "      <td>3</td>\n",
       "    </tr>\n",
       "    <tr>\n",
       "      <th>13</th>\n",
       "      <td>2011</td>\n",
       "      <td>Surface Total</td>\n",
       "      <td>1373</td>\n",
       "      <td>5</td>\n",
       "    </tr>\n",
       "    <tr>\n",
       "      <th>14</th>\n",
       "      <td>2011</td>\n",
       "      <td>Subways</td>\n",
       "      <td>1275</td>\n",
       "      <td>6</td>\n",
       "    </tr>\n",
       "  </tbody>\n",
       "</table>\n",
       "</div>"
      ],
      "text/plain": [
       "    Year                            Area  Homeless Estimates  order\n",
       "0   2012       Surface Area - Manhattan                  906      2\n",
       "1   2012  Total Unsheltered Individuals                 3262      7\n",
       "2   2012                        Subways                 1634      6\n",
       "3   2012                  Surface Total                 1628      5\n",
       "4   2012   Surface Area - Staten Island                   99      3\n",
       "5   2012          Surface Area - Queens                   86      4\n",
       "6   2012        Surface Area - Brooklyn                  368      0\n",
       "7   2012           Surface Area - Bronx                  169      1\n",
       "8   2011       Surface Area - Manhattan                  786      2\n",
       "9   2011           Surface Area - Bronx                  115      1\n",
       "10  2011        Surface Area - Brooklyn                  242      0\n",
       "11  2011          Surface Area - Queens                  102      4\n",
       "12  2011   Surface Area - Staten Island                  128      3\n",
       "13  2011                  Surface Total                 1373      5\n",
       "14  2011                        Subways                 1275      6"
      ]
     },
     "execution_count": 24,
     "metadata": {},
     "output_type": "execute_result"
    }
   ],
   "source": [
    "df.head(15)"
   ]
  },
  {
   "cell_type": "code",
   "execution_count": 41,
   "metadata": {},
   "outputs": [],
   "source": [
    "df_2009 = df[df['Year'] == 2009]\n",
    "df_2010 = df[df['Year'] == 2010]\n",
    "df_2011 = df[df['Year'] == 2011]\n",
    "df_2012 = df[df['Year'] == 2012]"
   ]
  },
  {
   "cell_type": "code",
   "execution_count": 42,
   "metadata": {},
   "outputs": [
    {
     "data": {
      "text/plain": [
       "<bound method NDFrame.head of     Year                            Area  Homeless Estimates  order\n",
       "30  2009        Surface Area - Brooklyn                  200      0\n",
       "31  2009           Surface Area - Bronx                  164      1\n",
       "24  2009       Surface Area - Manhattan                  777      2\n",
       "28  2009   Surface Area - Staten Island                  121      3\n",
       "29  2009          Surface Area - Queens                   98      4\n",
       "27  2009                  Surface Total                 1360      5\n",
       "26  2009                        Subways                  968      6\n",
       "25  2009  Total Unsheltered Individuals                 2328      7>"
      ]
     },
     "execution_count": 42,
     "metadata": {},
     "output_type": "execute_result"
    }
   ],
   "source": [
    "df_2009.head"
   ]
  },
  {
   "cell_type": "code",
   "execution_count": 32,
   "metadata": {},
   "outputs": [
    {
     "data": {
      "text/plain": [
       "pandas.core.frame.DataFrame"
      ]
     },
     "execution_count": 32,
     "metadata": {},
     "output_type": "execute_result"
    }
   ],
   "source": [
    "type(df_2009)"
   ]
  },
  {
   "cell_type": "code",
   "execution_count": 38,
   "metadata": {},
   "outputs": [],
   "source": [
    "df.sort_values('order', ascending = True, inplace= True)"
   ]
  },
  {
   "cell_type": "code",
   "execution_count": 39,
   "metadata": {},
   "outputs": [
    {
     "data": {
      "text/html": [
       "<div>\n",
       "<style scoped>\n",
       "    .dataframe tbody tr th:only-of-type {\n",
       "        vertical-align: middle;\n",
       "    }\n",
       "\n",
       "    .dataframe tbody tr th {\n",
       "        vertical-align: top;\n",
       "    }\n",
       "\n",
       "    .dataframe thead th {\n",
       "        text-align: right;\n",
       "    }\n",
       "</style>\n",
       "<table border=\"1\" class=\"dataframe\">\n",
       "  <thead>\n",
       "    <tr style=\"text-align: right;\">\n",
       "      <th></th>\n",
       "      <th>Year</th>\n",
       "      <th>Area</th>\n",
       "      <th>Homeless Estimates</th>\n",
       "      <th>order</th>\n",
       "    </tr>\n",
       "  </thead>\n",
       "  <tbody>\n",
       "    <tr>\n",
       "      <th>19</th>\n",
       "      <td>2010</td>\n",
       "      <td>Surface Area - Brooklyn</td>\n",
       "      <td>428</td>\n",
       "      <td>0</td>\n",
       "    </tr>\n",
       "    <tr>\n",
       "      <th>30</th>\n",
       "      <td>2009</td>\n",
       "      <td>Surface Area - Brooklyn</td>\n",
       "      <td>200</td>\n",
       "      <td>0</td>\n",
       "    </tr>\n",
       "    <tr>\n",
       "      <th>6</th>\n",
       "      <td>2012</td>\n",
       "      <td>Surface Area - Brooklyn</td>\n",
       "      <td>368</td>\n",
       "      <td>0</td>\n",
       "    </tr>\n",
       "    <tr>\n",
       "      <th>10</th>\n",
       "      <td>2011</td>\n",
       "      <td>Surface Area - Brooklyn</td>\n",
       "      <td>242</td>\n",
       "      <td>0</td>\n",
       "    </tr>\n",
       "    <tr>\n",
       "      <th>31</th>\n",
       "      <td>2009</td>\n",
       "      <td>Surface Area - Bronx</td>\n",
       "      <td>164</td>\n",
       "      <td>1</td>\n",
       "    </tr>\n",
       "    <tr>\n",
       "      <th>18</th>\n",
       "      <td>2010</td>\n",
       "      <td>Surface Area - Bronx</td>\n",
       "      <td>174</td>\n",
       "      <td>1</td>\n",
       "    </tr>\n",
       "    <tr>\n",
       "      <th>7</th>\n",
       "      <td>2012</td>\n",
       "      <td>Surface Area - Bronx</td>\n",
       "      <td>169</td>\n",
       "      <td>1</td>\n",
       "    </tr>\n",
       "    <tr>\n",
       "      <th>9</th>\n",
       "      <td>2011</td>\n",
       "      <td>Surface Area - Bronx</td>\n",
       "      <td>115</td>\n",
       "      <td>1</td>\n",
       "    </tr>\n",
       "    <tr>\n",
       "      <th>24</th>\n",
       "      <td>2009</td>\n",
       "      <td>Surface Area - Manhattan</td>\n",
       "      <td>777</td>\n",
       "      <td>2</td>\n",
       "    </tr>\n",
       "    <tr>\n",
       "      <th>17</th>\n",
       "      <td>2010</td>\n",
       "      <td>Surface Area - Manhattan</td>\n",
       "      <td>1145</td>\n",
       "      <td>2</td>\n",
       "    </tr>\n",
       "    <tr>\n",
       "      <th>0</th>\n",
       "      <td>2012</td>\n",
       "      <td>Surface Area - Manhattan</td>\n",
       "      <td>906</td>\n",
       "      <td>2</td>\n",
       "    </tr>\n",
       "    <tr>\n",
       "      <th>8</th>\n",
       "      <td>2011</td>\n",
       "      <td>Surface Area - Manhattan</td>\n",
       "      <td>786</td>\n",
       "      <td>2</td>\n",
       "    </tr>\n",
       "    <tr>\n",
       "      <th>21</th>\n",
       "      <td>2010</td>\n",
       "      <td>Surface Area - Staten Island</td>\n",
       "      <td>175</td>\n",
       "      <td>3</td>\n",
       "    </tr>\n",
       "    <tr>\n",
       "      <th>12</th>\n",
       "      <td>2011</td>\n",
       "      <td>Surface Area - Staten Island</td>\n",
       "      <td>128</td>\n",
       "      <td>3</td>\n",
       "    </tr>\n",
       "    <tr>\n",
       "      <th>28</th>\n",
       "      <td>2009</td>\n",
       "      <td>Surface Area - Staten Island</td>\n",
       "      <td>121</td>\n",
       "      <td>3</td>\n",
       "    </tr>\n",
       "  </tbody>\n",
       "</table>\n",
       "</div>"
      ],
      "text/plain": [
       "    Year                           Area  Homeless Estimates  order\n",
       "19  2010       Surface Area - Brooklyn                  428      0\n",
       "30  2009       Surface Area - Brooklyn                  200      0\n",
       "6   2012       Surface Area - Brooklyn                  368      0\n",
       "10  2011       Surface Area - Brooklyn                  242      0\n",
       "31  2009          Surface Area - Bronx                  164      1\n",
       "18  2010          Surface Area - Bronx                  174      1\n",
       "7   2012          Surface Area - Bronx                  169      1\n",
       "9   2011          Surface Area - Bronx                  115      1\n",
       "24  2009      Surface Area - Manhattan                  777      2\n",
       "17  2010      Surface Area - Manhattan                 1145      2\n",
       "0   2012      Surface Area - Manhattan                  906      2\n",
       "8   2011      Surface Area - Manhattan                  786      2\n",
       "21  2010  Surface Area - Staten Island                  175      3\n",
       "12  2011  Surface Area - Staten Island                  128      3\n",
       "28  2009  Surface Area - Staten Island                  121      3"
      ]
     },
     "execution_count": 39,
     "metadata": {},
     "output_type": "execute_result"
    }
   ],
   "source": [
    "df.head(15)"
   ]
  },
  {
   "cell_type": "code",
   "execution_count": 52,
   "metadata": {},
   "outputs": [
    {
     "data": {
      "image/png": "[encoded data removed]",
      "text/plain": [
       "<Figure size 432x288 with 4 Axes>"
      ]
     },
     "metadata": {
      "needs_background": "light"
     },
     "output_type": "display_data"
    },
    {
     "data": {
      "image/png": "[encoded data removed]",
      "text/plain": [
       "<Figure size 432x288 with 1 Axes>"
      ]
     },
     "metadata": {
      "needs_background": "light"
     },
     "output_type": "display_data"
    },
    {
     "data": {
      "image/png": "[encoded data removed]",
      "text/plain": [
       "<Figure size 432x288 with 1 Axes>"
      ]
     },
     "metadata": {
      "needs_background": "light"
     },
     "output_type": "display_data"
    },
    {
     "data": {
      "image/png": "[encoded data removed]",
      "text/plain": [
       "<Figure size 432x288 with 1 Axes>"
      ]
     },
     "metadata": {
      "needs_background": "light"
     },
     "output_type": "display_data"
    },
    {
     "data": {
      "image/png": "[encoded data removed]",
      "text/plain": [
       "<Figure size 432x288 with 1 Axes>"
      ]
     },
     "metadata": {
      "needs_background": "light"
     },
     "output_type": "display_data"
    }
   ],
   "source": [
    "fig = plt.figure()\n",
    "df.groupby('Year').plot(kind= 'bar', x = 'Area',y = 'Homeless Estimates', legend = None)\n",
    "plt.ylabel('Total Homeless')\n",
    "plt.title('New York City Homeless Population by Year')\n",
    "ax1 = fig.add_subplot(411)\n",
    "ax2 = fig.add_subplot(412)\n",
    "ax3 = fig.add_subplot(413)\n",
    "ax4 = fig.add_subplot(414)\n",
    "plt.show()"
   ]
  },
  {
   "cell_type": "code",
   "execution_count": 45,
   "metadata": {},
   "outputs": [
    {
     "data": {
      "text/plain": [
       "[('Subways ', 2     1634\n",
       "  23    1077\n",
       "  26     968\n",
       "  14    1275\n",
       "  Name: Homeless Estimates, dtype: int64), ('Surface Area - Bronx ', 31    164\n",
       "  18    174\n",
       "  7     169\n",
       "  9     115\n",
       "  Name: Homeless Estimates, dtype: int64), ('Surface Area - Brooklyn ',\n",
       "  19    428\n",
       "  30    200\n",
       "  6     368\n",
       "  10    242\n",
       "  Name: Homeless Estimates, dtype: int64), ('Surface Area - Manhattan ',\n",
       "  24     777\n",
       "  17    1145\n",
       "  0      906\n",
       "  8      786\n",
       "  Name: Homeless Estimates, dtype: int64), ('Surface Area - Queens ', 29     98\n",
       "  20    112\n",
       "  11    102\n",
       "  5      86\n",
       "  Name: Homeless Estimates, dtype: int64), ('Surface Area - Staten Island ',\n",
       "  21    175\n",
       "  12    128\n",
       "  28    121\n",
       "  4      99\n",
       "  Name: Homeless Estimates, dtype: int64), ('Surface Total ', 27    1360\n",
       "  22    2034\n",
       "  3     1628\n",
       "  13    1373\n",
       "  Name: Homeless Estimates, dtype: int64), ('Total Unsheltered Individuals ',\n",
       "  1     3262\n",
       "  25    2328\n",
       "  16    3111\n",
       "  15    2648\n",
       "  Name: Homeless Estimates, dtype: int64)]"
      ]
     },
     "execution_count": 45,
     "metadata": {},
     "output_type": "execute_result"
    }
   ],
   "source": [
    "groupby_area = df['Homeless Estimates'].groupby(df['Area'])\n",
    "list(groupby_area)"
   ]
  },
  {
   "cell_type": "code",
   "execution_count": 46,
   "metadata": {},
   "outputs": [
    {
     "data": {
      "text/html": [
       "<div>\n",
       "<style scoped>\n",
       "    .dataframe tbody tr th:only-of-type {\n",
       "        vertical-align: middle;\n",
       "    }\n",
       "\n",
       "    .dataframe tbody tr th {\n",
       "        vertical-align: top;\n",
       "    }\n",
       "\n",
       "    .dataframe thead th {\n",
       "        text-align: right;\n",
       "    }\n",
       "</style>\n",
       "<table border=\"1\" class=\"dataframe\">\n",
       "  <thead>\n",
       "    <tr style=\"text-align: right;\">\n",
       "      <th></th>\n",
       "      <th>count</th>\n",
       "      <th>mean</th>\n",
       "      <th>std</th>\n",
       "      <th>min</th>\n",
       "      <th>25%</th>\n",
       "      <th>50%</th>\n",
       "      <th>75%</th>\n",
       "      <th>max</th>\n",
       "    </tr>\n",
       "    <tr>\n",
       "      <th>Area</th>\n",
       "      <th></th>\n",
       "      <th></th>\n",
       "      <th></th>\n",
       "      <th></th>\n",
       "      <th></th>\n",
       "      <th></th>\n",
       "      <th></th>\n",
       "      <th></th>\n",
       "    </tr>\n",
       "  </thead>\n",
       "  <tbody>\n",
       "    <tr>\n",
       "      <th>Subways</th>\n",
       "      <td>4.0</td>\n",
       "      <td>1238.50</td>\n",
       "      <td>292.691533</td>\n",
       "      <td>968.0</td>\n",
       "      <td>1049.75</td>\n",
       "      <td>1176.0</td>\n",
       "      <td>1364.75</td>\n",
       "      <td>1634.0</td>\n",
       "    </tr>\n",
       "    <tr>\n",
       "      <th>Surface Area - Bronx</th>\n",
       "      <td>4.0</td>\n",
       "      <td>155.50</td>\n",
       "      <td>27.306898</td>\n",
       "      <td>115.0</td>\n",
       "      <td>151.75</td>\n",
       "      <td>166.5</td>\n",
       "      <td>170.25</td>\n",
       "      <td>174.0</td>\n",
       "    </tr>\n",
       "    <tr>\n",
       "      <th>Surface Area - Brooklyn</th>\n",
       "      <td>4.0</td>\n",
       "      <td>309.50</td>\n",
       "      <td>106.475349</td>\n",
       "      <td>200.0</td>\n",
       "      <td>231.50</td>\n",
       "      <td>305.0</td>\n",
       "      <td>383.00</td>\n",
       "      <td>428.0</td>\n",
       "    </tr>\n",
       "    <tr>\n",
       "      <th>Surface Area - Manhattan</th>\n",
       "      <td>4.0</td>\n",
       "      <td>903.50</td>\n",
       "      <td>171.403034</td>\n",
       "      <td>777.0</td>\n",
       "      <td>783.75</td>\n",
       "      <td>846.0</td>\n",
       "      <td>965.75</td>\n",
       "      <td>1145.0</td>\n",
       "    </tr>\n",
       "    <tr>\n",
       "      <th>Surface Area - Queens</th>\n",
       "      <td>4.0</td>\n",
       "      <td>99.50</td>\n",
       "      <td>10.754844</td>\n",
       "      <td>86.0</td>\n",
       "      <td>95.00</td>\n",
       "      <td>100.0</td>\n",
       "      <td>104.50</td>\n",
       "      <td>112.0</td>\n",
       "    </tr>\n",
       "    <tr>\n",
       "      <th>Surface Area - Staten Island</th>\n",
       "      <td>4.0</td>\n",
       "      <td>130.75</td>\n",
       "      <td>31.983068</td>\n",
       "      <td>99.0</td>\n",
       "      <td>115.50</td>\n",
       "      <td>124.5</td>\n",
       "      <td>139.75</td>\n",
       "      <td>175.0</td>\n",
       "    </tr>\n",
       "    <tr>\n",
       "      <th>Surface Total</th>\n",
       "      <td>4.0</td>\n",
       "      <td>1598.75</td>\n",
       "      <td>315.310825</td>\n",
       "      <td>1360.0</td>\n",
       "      <td>1369.75</td>\n",
       "      <td>1500.5</td>\n",
       "      <td>1729.50</td>\n",
       "      <td>2034.0</td>\n",
       "    </tr>\n",
       "    <tr>\n",
       "      <th>Total Unsheltered Individuals</th>\n",
       "      <td>4.0</td>\n",
       "      <td>2837.25</td>\n",
       "      <td>428.370070</td>\n",
       "      <td>2328.0</td>\n",
       "      <td>2568.00</td>\n",
       "      <td>2879.5</td>\n",
       "      <td>3148.75</td>\n",
       "      <td>3262.0</td>\n",
       "    </tr>\n",
       "  </tbody>\n",
       "</table>\n",
       "</div>"
      ],
      "text/plain": [
       "                                count     mean         std     min      25%  \\\n",
       "Area                                                                          \n",
       "Subways                           4.0  1238.50  292.691533   968.0  1049.75   \n",
       "Surface Area - Bronx              4.0   155.50   27.306898   115.0   151.75   \n",
       "Surface Area - Brooklyn           4.0   309.50  106.475349   200.0   231.50   \n",
       "Surface Area - Manhattan          4.0   903.50  171.403034   777.0   783.75   \n",
       "Surface Area - Queens             4.0    99.50   10.754844    86.0    95.00   \n",
       "Surface Area - Staten Island      4.0   130.75   31.983068    99.0   115.50   \n",
       "Surface Total                     4.0  1598.75  315.310825  1360.0  1369.75   \n",
       "Total Unsheltered Individuals     4.0  2837.25  428.370070  2328.0  2568.00   \n",
       "\n",
       "                                   50%      75%     max  \n",
       "Area                                                     \n",
       "Subways                         1176.0  1364.75  1634.0  \n",
       "Surface Area - Bronx             166.5   170.25   174.0  \n",
       "Surface Area - Brooklyn          305.0   383.00   428.0  \n",
       "Surface Area - Manhattan         846.0   965.75  1145.0  \n",
       "Surface Area - Queens            100.0   104.50   112.0  \n",
       "Surface Area - Staten Island     124.5   139.75   175.0  \n",
       "Surface Total                   1500.5  1729.50  2034.0  \n",
       "Total Unsheltered Individuals   2879.5  3148.75  3262.0  "
      ]
     },
     "execution_count": 46,
     "metadata": {},
     "output_type": "execute_result"
    }
   ],
   "source": [
    "df['Homeless Estimates'].groupby(df['Area']).describe()"
   ]
  },
  {
   "cell_type": "markdown",
   "metadata": {},
   "source": [
    "# Create a groupby variable that groups preTestScores by regiment\n",
    "groupby_regiment = df['preTestScore'].groupby(df['regiment'])\n",
    "groupby_regiment\n",
    "\n",
    "#describe() gives basic stastical analysis\n",
    "df['preTestScore'].groupby(df['regiment']).describe()"
   ]
  }
 ],
 "metadata": {
  "kernelspec": {
   "display_name": "Python 3",
   "language": "python",
   "name": "python3"
  },
  "language_info": {
   "codemirror_mode": {
    "name": "ipython",
    "version": 3
   },
   "file_extension": ".py",
   "mimetype": "text/x-python",
   "name": "python",
   "nbconvert_exporter": "python",
   "pygments_lexer": "ipython3",
   "version": "3.7.3"
  }
 },
 "nbformat": 4,
 "nbformat_minor": 2
}
