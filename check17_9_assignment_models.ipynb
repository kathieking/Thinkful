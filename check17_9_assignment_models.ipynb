{
 "cells": [
  {
   "cell_type": "markdown",
   "metadata": {},
   "source": [
    "#### Assignment\n",
    "\n",
    "To complete this assignment, submit a link to a Jupyter notebook containing your solutions to the following tasks:\n",
    "\n",
    "1. Try to model the result of a coin toss. In your model, include any features that you think important in explaining the result. Discuss with your mentor about the pros and cons of adding too many features into your model.\n",
    "2. If you ever used Netflix, you should already have realized that it provides some recommendations for you to watch. In data science, this is an example of the so-called recommendations systems. Read this nontechnical blog post of Netflix about how they model their recommendations systems. Then, derive the features they use in their recommendations engines and discuss what else can be incorporated into this model.\n",
    "\n",
    "Submit your work below, and plan on discussing with your mentor. You can also take a look at these example solutions.\n"
   ]
  },
  {
   "cell_type": "markdown",
   "metadata": {},
   "source": [
    "##### question 1\n",
    "Try to model the result of a coin toss. In your model, include any features that you think important in explaining the result. Discuss with your mentor about the pros and cons of adding too many features into your model."
   ]
  },
  {
   "cell_type": "markdown",
   "metadata": {},
   "source": [
    "Coin toss model would include the following features:\n",
    "1. weight of the coin (both sides should be of equal weight, balanced)\n",
    "2. the force of the toss\n",
    "3. air conditions (e.g. humidity, altitude, etc)\n",
    "4. type of material\n",
    "5. the engravings on each side (air friction)\n",
    "6. possible interference from objects in the coin's path\n",
    "7. \"landing\" surface (flat? even?)\n",
    "8. the side of the coin facing up when tossed\n",
    "9. the surface of the \"tosser\" (gloved hand vs skin; hand vs machine).\n",
    "\n",
    "Pros of multiple features: an attempt to account for every & any factor that may influence the coin toss results.\n",
    "Cons: will require multiple testing of each feature to rule out chance vs effect. \n"
   ]
  },
  {
   "cell_type": "markdown",
   "metadata": {},
   "source": [
    "##### question 2\n",
    "If you ever used Netflix, you should already have realized that it provides some recommendations for you to watch. In data science, this is an example of the so-called recommendations systems. Read this nontechnical blog post of Netflix about how they model their recommendations systems. Then, derive the features they use in their recommendations engines and discuss what else can be incorporated into this model."
   ]
  },
  {
   "cell_type": "markdown",
   "metadata": {},
   "source": [
    "1. interactions with the service (such as your viewing history and how you rated other titles),\n",
    "2. other members with similar tastes and preferences on the service,\n",
    "3. information about the titles (such as their genre, categories, actors, release year, etc.),\n",
    "4. the time of day you watch,\n",
    "5. the devices you are watching Netflix on,\n",
    "6. how long you watch, \n",
    "7. titles you've \"liked\" in the past (continually updated each time you watch),\n",
    "8. more recent titles \"liked\" outweigh previously viewed (older) titles\n",
    "9. choice of \"row\" (e.g. Continue Watching, Trending Now, Award-Winning Comedies, etc.),\n",
    "10. choic of titles in row\n",
    "11. rank of titles in row\n",
    "12. searched items\n",
    "\n",
    "13. feedback from every interaction with the service retrains & updates algorithm to predict what you are most likely to watch. \n",
    "\n",
    "According to Netflix, the algorithm does NOT include demographic information (such as age or gender) as part of the decision making process. These things could be added, but it's less likely to produce accurate, personalized information than the features listed above. Past behavior is a better predictor of future behavior than what others of same age/gender/socioeconomic group have done. \n",
    "\n",
    "They don't mention geographic factors, but as a Netflix customer, they do offer titles that are \"trending in Philadelphia.\" "
   ]
  },
  {
   "cell_type": "code",
   "execution_count": null,
   "metadata": {},
   "outputs": [],
   "source": []
  },
  {
   "cell_type": "code",
   "execution_count": null,
   "metadata": {},
   "outputs": [],
   "source": []
  }
 ],
 "metadata": {
  "kernelspec": {
   "display_name": "Python 3",
   "language": "python",
   "name": "python3"
  },
  "language_info": {
   "codemirror_mode": {
    "name": "ipython",
    "version": 3
   },
   "file_extension": ".py",
   "mimetype": "text/x-python",
   "name": "python",
   "nbconvert_exporter": "python",
   "pygments_lexer": "ipython3",
   "version": "3.7.3"
  }
 },
 "nbformat": 4,
 "nbformat_minor": 2
}
