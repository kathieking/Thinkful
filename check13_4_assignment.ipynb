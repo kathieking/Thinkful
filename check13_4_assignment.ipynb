{
 "cells": [
  {
   "cell_type": "markdown",
   "metadata": {},
   "source": [
    "#### Assignment\n",
    "For each of the following scenarios, call out the potential biases in the proposed experiment. Do your best to try to discover not only the bias, but the initial design. There is plenty of room for interpretation here, so make sure to state what assumptions you're making."
   ]
  },
  {
   "cell_type": "markdown",
   "metadata": {},
   "source": [
    "##### Scenario 1\n",
    "You're testing advertising emails for a bathing suit company and you test one version of the email in February and the other in May."
   ]
  },
  {
   "cell_type": "markdown",
   "metadata": {},
   "source": [
    "Assuming the email is being sent to people in the Northern Hemisphere, February is winter. Responses to the email are likely to be from wealthier clients who have the means to travel, have access to indoor pools, or ability to purchase non-essential items off-season. Responders may also be more likely single, older, and/or without children (more disposable income, more time to plan). Responses in May, the (unofficial) beginning of summer, especially in southern climates, has more potential run the gammet of income, age, and/or social status. \n",
    "Bias in assignment to conditions, sampling bias."
   ]
  },
  {
   "cell_type": "markdown",
   "metadata": {},
   "source": [
    "##### Scenario 2\n",
    "You open a clinic to treat anxiety and find that the people who visit show a higher rate of anxiety than the general population."
   ]
  },
  {
   "cell_type": "markdown",
   "metadata": {},
   "source": [
    "Your potential market/population is selected on that very attribute. \n",
    "Sampling bias. "
   ]
  },
  {
   "cell_type": "markdown",
   "metadata": {},
   "source": [
    "##### Scenario 3\n",
    "You launch a new ad billboard based campaign and see an increase in website visits in the first week."
   ]
  },
  {
   "cell_type": "markdown",
   "metadata": {},
   "source": [
    "How much of an increase? Compared to what? \n",
    "Sampling bias (what is the demographic of people who live/work/drive in the area of the billboard?)\n",
    "Bias in assignment of conditions - only people who pass the billboard have a chance to see it. The effectiveness of the billboard is not being tested against another method/no method because you are unable to track/measure the number of people who see & don't respond. \n",
    "\n",
    "Also, what time of year did the billboard go up? Summer vs winter? Weather at the time? Driving conditions on the road? \n",
    "\n",
    "This is not a test of the effectiveness of billboard advertising compared to other forms of advertising. "
   ]
  },
  {
   "cell_type": "markdown",
   "metadata": {},
   "source": [
    "##### Scenario 4\n",
    "You launch a loyalty program but see no change in visits in the first week."
   ]
  },
  {
   "cell_type": "markdown",
   "metadata": {},
   "source": [
    "Difficult to assess without knowing more details. What is the content of the loyality program? Who was it offered to? How do people know about it? Do staff members make the offer? Is one week an appropriate amount of time for any advertising to make a difference? What time of year is it? "
   ]
  }
 ],
 "metadata": {
  "kernelspec": {
   "display_name": "Python 3",
   "language": "python",
   "name": "python3"
  },
  "language_info": {
   "codemirror_mode": {
    "name": "ipython",
    "version": 3
   },
   "file_extension": ".py",
   "mimetype": "text/x-python",
   "name": "python",
   "nbconvert_exporter": "python",
   "pygments_lexer": "ipython3",
   "version": "3.7.3"
  }
 },
 "nbformat": 4,
 "nbformat_minor": 2
}
