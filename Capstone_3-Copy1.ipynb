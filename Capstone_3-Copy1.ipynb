{
 "cells": [
  {
   "cell_type": "markdown",
   "metadata": {},
   "source": [
    "# Capstone: Supervised Learning"
   ]
  },
  {
   "cell_type": "markdown",
   "metadata": {},
   "source": [
    "## Instructions: \n",
    "\n",
    "First: Go out and find a dataset of interest. It could be from one of our recommended resources, some other aggregation, or scraped yourself. Just make sure it has lots of variables in it, including an outcome of interest to you.\n",
    "\n",
    "Second: Explore the data. Get to know the data. Spend a lot of time going over its quirks and peccadilloes. You should understand how it was gathered, what's in it, and what the variables look like.\n",
    "\n",
    "Third: Model your outcome of interest. You should try several different approaches and really work to tune a variety of models before using the model evaluation techniques to choose what you consider to be the best performer. Make sure to think about explanatory versus predictive power and experiment with both.\n",
    "\n",
    "Please execute the three tasks above in a Jupyter notebook that you will submit to the grading team below.\n",
    "\n",
    "Next, in order to prepare for your presentation, create a slide deck and 15 minute presentation that guides viewers through your model. Be sure to cover a few specific things:\n",
    "\n",
    "    A specified research question your model addresses\n",
    "    How you chose your model specification and what alternatives you compared it to\n",
    "    The practical uses of your model for an audience of interest\n",
    "    Any weak points or shortcomings of your model\n",
    "\n",
    "This presentation is not a drill. You'll be presenting this slide deck live to a group as the culmination of all your work so far on supervised learning. As a secondary matter, your slides and the Jupyter notebook should be worthy of inclusion as examples of your work product when applying to jobs."
   ]
  },
  {
   "cell_type": "markdown",
   "metadata": {},
   "source": [
    "Supervised Learning Capstone Presentation Details:\n",
    "\n",
    "Next, in order to prepare for your presentation, create a slide deck and 15 minute presentation that guides viewers through your model. Be sure to cover a few specific things:\n",
    "\n",
    "    A specified research question your model addresses\n",
    "    How you chose your model specification and what alternatives you compared it to\n",
    "    The practical uses of your model for an audience of interest\n",
    "    Any weak points or shortcomings of your model\n",
    "\n",
    "This presentation is not a drill. You'll be presenting this slide deck live to a group as the culmination of all your work so far on supervised learning. As a secondary matter, your slides and the Jupyter notebook should be worthy of inclusion as examples of your work product when applying to jobs.\n",
    "\n",
    "    You should have a slide deck and 15 minute presentation that guides your assessor through the different models you tried and be able to speak to the best performing model and why it’s the best performing model.\n",
    "\n",
    "    The presentation flow should be\n",
    "\n",
    "        A quick intro about the context/topic of the project\n",
    "\n",
    "        Information on the data (where it came from, how it was obtained, missingness, quick stats on the data, etc)\n",
    "\n",
    "        A specified research question your model addresses\n",
    "\n",
    "        How you chose your model specification and what alternatives you compared it to\n",
    "\n",
    "        The practical uses of your model for an audience of interest\n",
    "\n",
    "        Any weak points or shortcomings of your model\n",
    "\n",
    "    After the presentation there will be a 5-10 min Q&A where other students and mentors can ask questions about your project.  So make sure you really understand the data and modelling you used!"
   ]
  },
  {
   "cell_type": "markdown",
   "metadata": {},
   "source": [
    "## Data Source and information"
   ]
  },
  {
   "cell_type": "markdown",
   "metadata": {},
   "source": [
    "data source: https://healthdata.gov/dataset/hospital-readmission-reduction/resource/f3830eb1-2d22-496c-b663-46b54e175d9f"
   ]
  },
  {
   "cell_type": "markdown",
   "metadata": {},
   "source": [
    "https://healthdata.gov/dataset/hospital-readmission-reduction\n",
    "\n",
    "In October 2012, CMS began reducing Medicare payments for Inpatient Prospective Payment System hospitals with excess readmissions. Excess readmissions are measured by a ratio, by dividing a hospital’s number of “predicted” 30-day readmissions for heart attack, heart failure, and pneumonia by the number that would be “expected,” based on an average hospital with similar patients. A ratio greater than 1 indicates excess readmissions."
   ]
  },
  {
   "cell_type": "markdown",
   "metadata": {},
   "source": [
    "https://data.medicare.gov/data/hospital-compare\n",
    "Hospital Compare is a consumer-oriented website that provides information on the quality of care hospitals are providing to their patients. This information can help consumers make informed decisions about health care. Hospital Compare allows consumers to select multiple hospitals and directly compare performance measure information related to heart attack, emergency department care, preventive care, stroke care, and other conditions. The Centers for Medicare & Medicaid Services (CMS) created the Hospital Compare website to better inform health care consumers about a hospital’s quality of care. Hospital Compare provides data on over 4,000 Medicare-certified hospitals, including acute care hospitals, critical access hospitals (CAHs), children’s hospitals, Veterans Health Administration (VHA) Medical Centers, and hospital outpatient departments. Hospital Compare is part of an Administration-wide effort to increase the availability and accessibility of information on quality, utilization, and costs for effective, informed decision-making. More information about Hospital Compare can be found by visiting the CMS.gov website and performing a search for Hospital Compare. To access the Hospital Compare website, please visit www.medicare.gov/hospitalcompare. "
   ]
  },
  {
   "cell_type": "markdown",
   "metadata": {},
   "source": [
    "https://www.medicare.gov/hospitalcompare/Data/Data-Updated.html#%20\n",
    "measures & current data period"
   ]
  },
  {
   "cell_type": "markdown",
   "metadata": {},
   "source": [
    "## https://www.medicare.gov/hospitalcompare/Data/Hospital-overall-ratings-calculation.html\n",
    "\n",
    "hospital compare overall hospital rating\n",
    "n = 4,573\n",
    "distribution of stars (N/A, 1-5)\n",
    "\n",
    "The methodology uses a statistical model known as a latent variable model. Seven different latent variable models are used to calculate scores for 7 groups of measures.\n",
    "Mortality\n",
    "Safety of Care\n",
    "Readmission\n",
    "Patient Experience\n",
    "Effectiveness of Care\n",
    "Timeliness of Care\n",
    "Efficient Use of Medical Imaging\n",
    "\n",
    "A hospital summary score is then calculated by taking the weighted average of these group scores. If a hospital is missing a measure category or group, the weights are redistributed amongst the qualifying measure categories or groups.\n",
    "Finally, the overall hospital rating is calculated using the hospital summary score."
   ]
  },
  {
   "cell_type": "markdown",
   "metadata": {},
   "source": [
    "## Load data files"
   ]
  },
  {
   "cell_type": "code",
   "execution_count": null,
   "metadata": {},
   "outputs": [],
   "source": [
    "C:\\Users\\katec\\Thinkful\\data_collections\\capstone_2\\"
   ]
  },
  {
   "cell_type": "code",
   "execution_count": null,
   "metadata": {},
   "outputs": [],
   "source": [
    "hcahps_ratings.csv, hosp_gen_info.csv, hosp_motality_measures.csv, hosp_readm_reduct_prog.csv, unplan_hosp_readm.csv"
   ]
  },
  {
   "cell_type": "code",
   "execution_count": 1,
   "metadata": {},
   "outputs": [],
   "source": [
    "import numpy as np\n",
    "import pandas as pd\n",
    "import scipy\n",
    "import matplotlib.pyplot as plt\n",
    "import seaborn as sns\n",
    "%matplotlib inline"
   ]
  },
  {
   "cell_type": "code",
   "execution_count": 2,
   "metadata": {},
   "outputs": [],
   "source": [
    "unplan_readm_df = pd.read_csv(r'C:\\Users\\katec\\Thinkful\\data_collections\\capstone_3\\unplan_hosp_readm.csv')"
   ]
  },
  {
   "cell_type": "code",
   "execution_count": 3,
   "metadata": {},
   "outputs": [],
   "source": [
    "readm_red_df = pd.read_csv(r'C:\\Users\\katec\\Thinkful\\data_collections\\capstone_3\\hosp_readm_reduct_prog.csv')"
   ]
  },
  {
   "cell_type": "code",
   "execution_count": 4,
   "metadata": {},
   "outputs": [],
   "source": [
    "mort_meas_df = pd.read_csv(r'C:\\Users\\katec\\Thinkful\\data_collections\\capstone_3\\hosp_mortality_measures.csv')"
   ]
  },
  {
   "cell_type": "code",
   "execution_count": 5,
   "metadata": {},
   "outputs": [],
   "source": [
    "hcahps_df = pd.read_csv(r'C:\\Users\\katec\\Thinkful\\data_collections\\capstone_3\\hcahps_ratings.csv')"
   ]
  },
  {
   "cell_type": "code",
   "execution_count": 6,
   "metadata": {},
   "outputs": [],
   "source": [
    "gen_info_df = pd.read_csv(r'C:\\Users\\katec\\Thinkful\\data_collections\\capstone_3\\hosp_gen_info.csv')"
   ]
  },
  {
   "cell_type": "code",
   "execution_count": null,
   "metadata": {},
   "outputs": [],
   "source": []
  },
  {
   "cell_type": "markdown",
   "metadata": {},
   "source": [
    "## Cleaning data\n",
    "clean data for each file individually prior to merging dataframes into one file for modeling"
   ]
  },
  {
   "cell_type": "markdown",
   "metadata": {},
   "source": [
    "### reduce each file to relevant data only,  address missing values, convert to numeric, dummy categorical values"
   ]
  },
  {
   "cell_type": "code",
   "execution_count": 7,
   "metadata": {},
   "outputs": [
    {
     "data": {
      "text/html": [
       "<div>\n",
       "<style scoped>\n",
       "    .dataframe tbody tr th:only-of-type {\n",
       "        vertical-align: middle;\n",
       "    }\n",
       "\n",
       "    .dataframe tbody tr th {\n",
       "        vertical-align: top;\n",
       "    }\n",
       "\n",
       "    .dataframe thead th {\n",
       "        text-align: right;\n",
       "    }\n",
       "</style>\n",
       "<table border=\"1\" class=\"dataframe\">\n",
       "  <thead>\n",
       "    <tr style=\"text-align: right;\">\n",
       "      <th></th>\n",
       "      <th>Provider ID</th>\n",
       "      <th>Hospital Name</th>\n",
       "      <th>Address</th>\n",
       "      <th>City</th>\n",
       "      <th>State</th>\n",
       "      <th>ZIP Code</th>\n",
       "      <th>County Name</th>\n",
       "      <th>Phone Number</th>\n",
       "      <th>Measure Name</th>\n",
       "      <th>Measure ID</th>\n",
       "      <th>Compared to National</th>\n",
       "      <th>Denominator</th>\n",
       "      <th>Score</th>\n",
       "      <th>Lower Estimate</th>\n",
       "      <th>Higher Estimate</th>\n",
       "      <th>Footnote</th>\n",
       "      <th>Measure Start Date</th>\n",
       "      <th>Measure End Date</th>\n",
       "    </tr>\n",
       "  </thead>\n",
       "  <tbody>\n",
       "    <tr>\n",
       "      <th>0</th>\n",
       "      <td>10001</td>\n",
       "      <td>SOUTHEAST ALABAMA MEDICAL CENTER</td>\n",
       "      <td>1108 ROSS CLARK CIRCLE</td>\n",
       "      <td>DOTHAN</td>\n",
       "      <td>AL</td>\n",
       "      <td>36301</td>\n",
       "      <td>HOUSTON</td>\n",
       "      <td>3347938701</td>\n",
       "      <td>Hospital return days for heart attack patients</td>\n",
       "      <td>EDAC_30_AMI</td>\n",
       "      <td>Average Days per 100 Discharges</td>\n",
       "      <td>742</td>\n",
       "      <td>-0.8</td>\n",
       "      <td>-11.6</td>\n",
       "      <td>10.6</td>\n",
       "      <td>NaN</td>\n",
       "      <td>7/1/2015</td>\n",
       "      <td>6/30/2018</td>\n",
       "    </tr>\n",
       "    <tr>\n",
       "      <th>1</th>\n",
       "      <td>10001</td>\n",
       "      <td>SOUTHEAST ALABAMA MEDICAL CENTER</td>\n",
       "      <td>1108 ROSS CLARK CIRCLE</td>\n",
       "      <td>DOTHAN</td>\n",
       "      <td>AL</td>\n",
       "      <td>36301</td>\n",
       "      <td>HOUSTON</td>\n",
       "      <td>3347938701</td>\n",
       "      <td>Hospital return days for heart failure patients</td>\n",
       "      <td>EDAC_30_HF</td>\n",
       "      <td>More Days Than Average per 100 Discharges</td>\n",
       "      <td>1114</td>\n",
       "      <td>17.8</td>\n",
       "      <td>4.5</td>\n",
       "      <td>31.5</td>\n",
       "      <td>NaN</td>\n",
       "      <td>7/1/2015</td>\n",
       "      <td>6/30/2018</td>\n",
       "    </tr>\n",
       "    <tr>\n",
       "      <th>2</th>\n",
       "      <td>10001</td>\n",
       "      <td>SOUTHEAST ALABAMA MEDICAL CENTER</td>\n",
       "      <td>1108 ROSS CLARK CIRCLE</td>\n",
       "      <td>DOTHAN</td>\n",
       "      <td>AL</td>\n",
       "      <td>36301</td>\n",
       "      <td>HOUSTON</td>\n",
       "      <td>3347938701</td>\n",
       "      <td>Hospital return days for pneumonia patients</td>\n",
       "      <td>EDAC_30_PN</td>\n",
       "      <td>Average Days per 100 Discharges</td>\n",
       "      <td>604</td>\n",
       "      <td>-7.8</td>\n",
       "      <td>-21.3</td>\n",
       "      <td>6</td>\n",
       "      <td>NaN</td>\n",
       "      <td>7/1/2015</td>\n",
       "      <td>6/30/2018</td>\n",
       "    </tr>\n",
       "  </tbody>\n",
       "</table>\n",
       "</div>"
      ],
      "text/plain": [
       "  Provider ID                     Hospital Name                 Address  \\\n",
       "0       10001  SOUTHEAST ALABAMA MEDICAL CENTER  1108 ROSS CLARK CIRCLE   \n",
       "1       10001  SOUTHEAST ALABAMA MEDICAL CENTER  1108 ROSS CLARK CIRCLE   \n",
       "2       10001  SOUTHEAST ALABAMA MEDICAL CENTER  1108 ROSS CLARK CIRCLE   \n",
       "\n",
       "     City State  ZIP Code County Name  Phone Number  \\\n",
       "0  DOTHAN    AL     36301     HOUSTON    3347938701   \n",
       "1  DOTHAN    AL     36301     HOUSTON    3347938701   \n",
       "2  DOTHAN    AL     36301     HOUSTON    3347938701   \n",
       "\n",
       "                                      Measure Name   Measure ID  \\\n",
       "0   Hospital return days for heart attack patients  EDAC_30_AMI   \n",
       "1  Hospital return days for heart failure patients   EDAC_30_HF   \n",
       "2      Hospital return days for pneumonia patients   EDAC_30_PN   \n",
       "\n",
       "                        Compared to National Denominator Score Lower Estimate  \\\n",
       "0            Average Days per 100 Discharges         742  -0.8          -11.6   \n",
       "1  More Days Than Average per 100 Discharges        1114  17.8            4.5   \n",
       "2            Average Days per 100 Discharges         604  -7.8          -21.3   \n",
       "\n",
       "  Higher Estimate Footnote Measure Start Date Measure End Date  \n",
       "0            10.6      NaN           7/1/2015        6/30/2018  \n",
       "1            31.5      NaN           7/1/2015        6/30/2018  \n",
       "2               6      NaN           7/1/2015        6/30/2018  "
      ]
     },
     "execution_count": 7,
     "metadata": {},
     "output_type": "execute_result"
    }
   ],
   "source": [
    "unplan_readm_df.head(3)"
   ]
  },
  {
   "cell_type": "code",
   "execution_count": 8,
   "metadata": {},
   "outputs": [
    {
     "name": "stdout",
     "output_type": "stream",
     "text": [
      "<class 'pandas.core.frame.DataFrame'>\n",
      "RangeIndex: 54093 entries, 0 to 54092\n",
      "Data columns (total 18 columns):\n",
      "Provider ID             54093 non-null object\n",
      "Hospital Name           54093 non-null object\n",
      "Address                 54093 non-null object\n",
      "City                    54093 non-null object\n",
      "State                   54093 non-null object\n",
      "ZIP Code                54093 non-null int64\n",
      "County Name             54093 non-null object\n",
      "Phone Number            54093 non-null int64\n",
      "Measure Name            54093 non-null object\n",
      "Measure ID              54093 non-null object\n",
      "Compared to National    54093 non-null object\n",
      "Denominator             54093 non-null object\n",
      "Score                   54093 non-null object\n",
      "Lower Estimate          54093 non-null object\n",
      "Higher Estimate         54093 non-null object\n",
      "Footnote                19755 non-null object\n",
      "Measure Start Date      54093 non-null object\n",
      "Measure End Date        54093 non-null object\n",
      "dtypes: int64(2), object(16)\n",
      "memory usage: 7.4+ MB\n"
     ]
    }
   ],
   "source": [
    "unplan_readm_df.info()"
   ]
  },
  {
   "cell_type": "code",
   "execution_count": 9,
   "metadata": {},
   "outputs": [],
   "source": [
    "#drop unnecessary columns\n",
    "unplan_readm_df = unplan_readm_df.drop(['Address', 'City', 'County Name', 'Phone Number', 'Measure Name', 'Footnote', 'Measure Start Date', 'Measure End Date'], axis=1)"
   ]
  },
  {
   "cell_type": "code",
   "execution_count": 10,
   "metadata": {},
   "outputs": [
    {
     "data": {
      "text/plain": [
       "array(['EDAC_30_AMI', 'EDAC_30_HF', 'EDAC_30_PN', 'OP_32', 'READM_30_AMI',\n",
       "       'READM_30_CABG', 'READM_30_COPD', 'READM_30_HF',\n",
       "       'READM_30_HIP_KNEE', 'READM_30_HOSP_WIDE', 'READM_30_PN'],\n",
       "      dtype=object)"
      ]
     },
     "execution_count": 10,
     "metadata": {},
     "output_type": "execute_result"
    }
   ],
   "source": [
    "#drop all unnecessary Measure IDs, keep only HF\n",
    "unplan_readm_df['Measure ID'].unique()"
   ]
  },
  {
   "cell_type": "code",
   "execution_count": 11,
   "metadata": {},
   "outputs": [
    {
     "data": {
      "text/html": [
       "<div>\n",
       "<style scoped>\n",
       "    .dataframe tbody tr th:only-of-type {\n",
       "        vertical-align: middle;\n",
       "    }\n",
       "\n",
       "    .dataframe tbody tr th {\n",
       "        vertical-align: top;\n",
       "    }\n",
       "\n",
       "    .dataframe thead th {\n",
       "        text-align: right;\n",
       "    }\n",
       "</style>\n",
       "<table border=\"1\" class=\"dataframe\">\n",
       "  <thead>\n",
       "    <tr style=\"text-align: right;\">\n",
       "      <th></th>\n",
       "      <th>Provider ID</th>\n",
       "      <th>Hospital Name</th>\n",
       "      <th>State</th>\n",
       "      <th>ZIP Code</th>\n",
       "      <th>Measure ID</th>\n",
       "      <th>Compared to National</th>\n",
       "      <th>Denominator</th>\n",
       "      <th>Score</th>\n",
       "      <th>Lower Estimate</th>\n",
       "      <th>Higher Estimate</th>\n",
       "    </tr>\n",
       "  </thead>\n",
       "  <tbody>\n",
       "    <tr>\n",
       "      <th>7</th>\n",
       "      <td>10001</td>\n",
       "      <td>SOUTHEAST ALABAMA MEDICAL CENTER</td>\n",
       "      <td>AL</td>\n",
       "      <td>36301</td>\n",
       "      <td>READM_30_HF</td>\n",
       "      <td>No Different Than the National Rate</td>\n",
       "      <td>1114</td>\n",
       "      <td>22.6</td>\n",
       "      <td>20.5</td>\n",
       "      <td>24.8</td>\n",
       "    </tr>\n",
       "    <tr>\n",
       "      <th>18</th>\n",
       "      <td>10005</td>\n",
       "      <td>MARSHALL MEDICAL CENTER SOUTH</td>\n",
       "      <td>AL</td>\n",
       "      <td>35957</td>\n",
       "      <td>READM_30_HF</td>\n",
       "      <td>No Different Than the National Rate</td>\n",
       "      <td>341</td>\n",
       "      <td>21.3</td>\n",
       "      <td>18.2</td>\n",
       "      <td>24.9</td>\n",
       "    </tr>\n",
       "    <tr>\n",
       "      <th>29</th>\n",
       "      <td>10006</td>\n",
       "      <td>NORTH ALABAMA MEDICAL CENTER</td>\n",
       "      <td>AL</td>\n",
       "      <td>35630</td>\n",
       "      <td>READM_30_HF</td>\n",
       "      <td>No Different Than the National Rate</td>\n",
       "      <td>793</td>\n",
       "      <td>20.4</td>\n",
       "      <td>18.1</td>\n",
       "      <td>22.9</td>\n",
       "    </tr>\n",
       "  </tbody>\n",
       "</table>\n",
       "</div>"
      ],
      "text/plain": [
       "   Provider ID                     Hospital Name State  ZIP Code   Measure ID  \\\n",
       "7        10001  SOUTHEAST ALABAMA MEDICAL CENTER    AL     36301  READM_30_HF   \n",
       "18       10005     MARSHALL MEDICAL CENTER SOUTH    AL     35957  READM_30_HF   \n",
       "29       10006      NORTH ALABAMA MEDICAL CENTER    AL     35630  READM_30_HF   \n",
       "\n",
       "                   Compared to National Denominator Score Lower Estimate  \\\n",
       "7   No Different Than the National Rate        1114  22.6           20.5   \n",
       "18  No Different Than the National Rate         341  21.3           18.2   \n",
       "29  No Different Than the National Rate         793  20.4           18.1   \n",
       "\n",
       "   Higher Estimate  \n",
       "7             24.8  \n",
       "18            24.9  \n",
       "29            22.9  "
      ]
     },
     "execution_count": 11,
     "metadata": {},
     "output_type": "execute_result"
    }
   ],
   "source": [
    "#drop all but HF values\n",
    "unplan_readm_df = unplan_readm_df[unplan_readm_df['Measure ID'].isin(['READM_30_HF'])] \n",
    "unplan_readm_df.head(3)"
   ]
  },
  {
   "cell_type": "code",
   "execution_count": 12,
   "metadata": {},
   "outputs": [],
   "source": [
    "#change name of Measure ID columns to identify the original df and measure\n",
    "unplan_readm_df.rename(columns={'Measure ID':'READM_30_HF'}, inplace=True)"
   ]
  },
  {
   "cell_type": "code",
   "execution_count": 13,
   "metadata": {},
   "outputs": [],
   "source": [
    "#change value of 'READM_30_HF' to numeric\n",
    "unplan_readm_df.loc[unplan_readm_df.READM_30_HF == 'READM_30_HF', 'READM_30_HF'] = 1"
   ]
  },
  {
   "cell_type": "code",
   "execution_count": 14,
   "metadata": {},
   "outputs": [
    {
     "data": {
      "text/html": [
       "<div>\n",
       "<style scoped>\n",
       "    .dataframe tbody tr th:only-of-type {\n",
       "        vertical-align: middle;\n",
       "    }\n",
       "\n",
       "    .dataframe tbody tr th {\n",
       "        vertical-align: top;\n",
       "    }\n",
       "\n",
       "    .dataframe thead th {\n",
       "        text-align: right;\n",
       "    }\n",
       "</style>\n",
       "<table border=\"1\" class=\"dataframe\">\n",
       "  <thead>\n",
       "    <tr style=\"text-align: right;\">\n",
       "      <th></th>\n",
       "      <th>Provider ID</th>\n",
       "      <th>Hospital Name</th>\n",
       "      <th>State</th>\n",
       "      <th>ZIP Code</th>\n",
       "      <th>READM_30_HF</th>\n",
       "      <th>Compared to National</th>\n",
       "      <th>Denominator</th>\n",
       "      <th>Score</th>\n",
       "      <th>Lower Estimate</th>\n",
       "      <th>Higher Estimate</th>\n",
       "    </tr>\n",
       "  </thead>\n",
       "  <tbody>\n",
       "    <tr>\n",
       "      <th>7</th>\n",
       "      <td>10001</td>\n",
       "      <td>SOUTHEAST ALABAMA MEDICAL CENTER</td>\n",
       "      <td>AL</td>\n",
       "      <td>36301</td>\n",
       "      <td>1</td>\n",
       "      <td>No Different Than the National Rate</td>\n",
       "      <td>1114</td>\n",
       "      <td>22.6</td>\n",
       "      <td>20.5</td>\n",
       "      <td>24.8</td>\n",
       "    </tr>\n",
       "    <tr>\n",
       "      <th>18</th>\n",
       "      <td>10005</td>\n",
       "      <td>MARSHALL MEDICAL CENTER SOUTH</td>\n",
       "      <td>AL</td>\n",
       "      <td>35957</td>\n",
       "      <td>1</td>\n",
       "      <td>No Different Than the National Rate</td>\n",
       "      <td>341</td>\n",
       "      <td>21.3</td>\n",
       "      <td>18.2</td>\n",
       "      <td>24.9</td>\n",
       "    </tr>\n",
       "    <tr>\n",
       "      <th>29</th>\n",
       "      <td>10006</td>\n",
       "      <td>NORTH ALABAMA MEDICAL CENTER</td>\n",
       "      <td>AL</td>\n",
       "      <td>35630</td>\n",
       "      <td>1</td>\n",
       "      <td>No Different Than the National Rate</td>\n",
       "      <td>793</td>\n",
       "      <td>20.4</td>\n",
       "      <td>18.1</td>\n",
       "      <td>22.9</td>\n",
       "    </tr>\n",
       "  </tbody>\n",
       "</table>\n",
       "</div>"
      ],
      "text/plain": [
       "   Provider ID                     Hospital Name State  ZIP Code  READM_30_HF  \\\n",
       "7        10001  SOUTHEAST ALABAMA MEDICAL CENTER    AL     36301            1   \n",
       "18       10005     MARSHALL MEDICAL CENTER SOUTH    AL     35957            1   \n",
       "29       10006      NORTH ALABAMA MEDICAL CENTER    AL     35630            1   \n",
       "\n",
       "                   Compared to National Denominator Score Lower Estimate  \\\n",
       "7   No Different Than the National Rate        1114  22.6           20.5   \n",
       "18  No Different Than the National Rate         341  21.3           18.2   \n",
       "29  No Different Than the National Rate         793  20.4           18.1   \n",
       "\n",
       "   Higher Estimate  \n",
       "7             24.8  \n",
       "18            24.9  \n",
       "29            22.9  "
      ]
     },
     "execution_count": 14,
     "metadata": {},
     "output_type": "execute_result"
    }
   ],
   "source": [
    "unplan_readm_df.head(3)"
   ]
  },
  {
   "cell_type": "code",
   "execution_count": 15,
   "metadata": {},
   "outputs": [
    {
     "data": {
      "text/plain": [
       "Provider ID             0\n",
       "Hospital Name           0\n",
       "State                   0\n",
       "ZIP Code                0\n",
       "READM_30_HF             0\n",
       "Compared to National    0\n",
       "Denominator             0\n",
       "Score                   0\n",
       "Lower Estimate          0\n",
       "Higher Estimate         0\n",
       "dtype: int64"
      ]
     },
     "execution_count": 15,
     "metadata": {},
     "output_type": "execute_result"
    }
   ],
   "source": [
    "unplan_readm_df.isnull().sum()"
   ]
  },
  {
   "cell_type": "code",
   "execution_count": 16,
   "metadata": {},
   "outputs": [
    {
     "name": "stdout",
     "output_type": "stream",
     "text": [
      "<class 'pandas.core.frame.DataFrame'>\n",
      "Int64Index: 4930 entries, 7 to 54089\n",
      "Data columns (total 10 columns):\n",
      "Provider ID             4930 non-null object\n",
      "Hospital Name           4930 non-null object\n",
      "State                   4930 non-null object\n",
      "ZIP Code                4930 non-null int64\n",
      "READM_30_HF             4930 non-null int64\n",
      "Compared to National    4930 non-null object\n",
      "Denominator             4930 non-null object\n",
      "Score                   4930 non-null object\n",
      "Lower Estimate          4930 non-null object\n",
      "Higher Estimate         4930 non-null object\n",
      "dtypes: int64(2), object(8)\n",
      "memory usage: 423.7+ KB\n"
     ]
    }
   ],
   "source": [
    "unplan_readm_df.info()"
   ]
  },
  {
   "cell_type": "code",
   "execution_count": 17,
   "metadata": {},
   "outputs": [],
   "source": [
    "#convert to numeric\n",
    "cols = ['Denominator', 'Score', 'Lower Estimate', 'Higher Estimate']\n",
    "unplan_readm_df[cols] = unplan_readm_df[cols].apply(pd.to_numeric, errors = 'coerce', downcast = 'float')"
   ]
  },
  {
   "cell_type": "code",
   "execution_count": 18,
   "metadata": {},
   "outputs": [
    {
     "data": {
      "text/plain": [
       "array(['No Different Than the National Rate', 'Number of Cases Too Small',\n",
       "       'Not Available', 'Worse Than the National Rate',\n",
       "       'Better Than the National Rate'], dtype=object)"
      ]
     },
     "execution_count": 18,
     "metadata": {},
     "output_type": "execute_result"
    }
   ],
   "source": [
    "unplan_readm_df['Compared to National'].unique()"
   ]
  },
  {
   "cell_type": "code",
   "execution_count": 19,
   "metadata": {},
   "outputs": [],
   "source": [
    "unplan_readm_df = pd.concat([unplan_readm_df, pd.get_dummies(unplan_readm_df['Compared to National'], prefix='comp_nat', drop_first=True)], axis =1)\n",
    "\n",
    "dummy_column_names = list(pd.get_dummies(unplan_readm_df['Compared to National'], prefix='comp_nat', drop_first=True).columns)"
   ]
  },
  {
   "cell_type": "code",
   "execution_count": 20,
   "metadata": {},
   "outputs": [],
   "source": [
    "unplan_readm_df = unplan_readm_df.drop(['Compared to National'], axis=1)"
   ]
  },
  {
   "cell_type": "code",
   "execution_count": 21,
   "metadata": {},
   "outputs": [
    {
     "name": "stdout",
     "output_type": "stream",
     "text": [
      "<class 'pandas.core.frame.DataFrame'>\n",
      "Int64Index: 4930 entries, 7 to 54089\n",
      "Data columns (total 13 columns):\n",
      "Provider ID                                     4930 non-null object\n",
      "Hospital Name                                   4930 non-null object\n",
      "State                                           4930 non-null object\n",
      "ZIP Code                                        4930 non-null int64\n",
      "READM_30_HF                                     4930 non-null int64\n",
      "Denominator                                     3692 non-null float32\n",
      "Score                                           3692 non-null float32\n",
      "Lower Estimate                                  3692 non-null float32\n",
      "Higher Estimate                                 3692 non-null float32\n",
      "comp_nat_No Different Than the National Rate    4930 non-null uint8\n",
      "comp_nat_Not Available                          4930 non-null uint8\n",
      "comp_nat_Number of Cases Too Small              4930 non-null uint8\n",
      "comp_nat_Worse Than the National Rate           4930 non-null uint8\n",
      "dtypes: float32(4), int64(2), object(3), uint8(4)\n",
      "memory usage: 327.4+ KB\n"
     ]
    }
   ],
   "source": [
    "unplan_readm_df.info()"
   ]
  },
  {
   "cell_type": "code",
   "execution_count": null,
   "metadata": {},
   "outputs": [],
   "source": []
  },
  {
   "cell_type": "code",
   "execution_count": null,
   "metadata": {},
   "outputs": [],
   "source": []
  },
  {
   "cell_type": "code",
   "execution_count": null,
   "metadata": {},
   "outputs": [],
   "source": []
  },
  {
   "cell_type": "code",
   "execution_count": 22,
   "metadata": {},
   "outputs": [
    {
     "data": {
      "text/html": [
       "<div>\n",
       "<style scoped>\n",
       "    .dataframe tbody tr th:only-of-type {\n",
       "        vertical-align: middle;\n",
       "    }\n",
       "\n",
       "    .dataframe tbody tr th {\n",
       "        vertical-align: top;\n",
       "    }\n",
       "\n",
       "    .dataframe thead th {\n",
       "        text-align: right;\n",
       "    }\n",
       "</style>\n",
       "<table border=\"1\" class=\"dataframe\">\n",
       "  <thead>\n",
       "    <tr style=\"text-align: right;\">\n",
       "      <th></th>\n",
       "      <th>Hospital Name</th>\n",
       "      <th>Provider ID</th>\n",
       "      <th>State</th>\n",
       "      <th>Measure Name</th>\n",
       "      <th>Number of Discharges</th>\n",
       "      <th>Footnote</th>\n",
       "      <th>Excess Readmission Ratio</th>\n",
       "      <th>Predicted Readmission Rate</th>\n",
       "      <th>Expected Readmission Rate</th>\n",
       "      <th>Number of Readmissions</th>\n",
       "      <th>Start Date</th>\n",
       "      <th>End Date</th>\n",
       "    </tr>\n",
       "  </thead>\n",
       "  <tbody>\n",
       "    <tr>\n",
       "      <th>0</th>\n",
       "      <td>BYRD REGIONAL HOSPITAL</td>\n",
       "      <td>190164</td>\n",
       "      <td>LA</td>\n",
       "      <td>READM_30_AMI_HRRP</td>\n",
       "      <td>Not Available</td>\n",
       "      <td>1 - The number of cases/patients is too few to...</td>\n",
       "      <td>Not Available</td>\n",
       "      <td>Not Available</td>\n",
       "      <td>Not Available</td>\n",
       "      <td>Not Available</td>\n",
       "      <td>7/1/2014</td>\n",
       "      <td>6/30/2017</td>\n",
       "    </tr>\n",
       "    <tr>\n",
       "      <th>1</th>\n",
       "      <td>BYRD REGIONAL HOSPITAL</td>\n",
       "      <td>190164</td>\n",
       "      <td>LA</td>\n",
       "      <td>READM_30_CABG_HRRP</td>\n",
       "      <td>Not Available</td>\n",
       "      <td>1 - The number of cases/patients is too few to...</td>\n",
       "      <td>Not Available</td>\n",
       "      <td>Not Available</td>\n",
       "      <td>Not Available</td>\n",
       "      <td>Not Available</td>\n",
       "      <td>7/1/2014</td>\n",
       "      <td>6/30/2017</td>\n",
       "    </tr>\n",
       "    <tr>\n",
       "      <th>2</th>\n",
       "      <td>BYRD REGIONAL HOSPITAL</td>\n",
       "      <td>190164</td>\n",
       "      <td>LA</td>\n",
       "      <td>READM_30_COPD_HRRP</td>\n",
       "      <td>217</td>\n",
       "      <td>NaN</td>\n",
       "      <td>1.0195</td>\n",
       "      <td>20.9722</td>\n",
       "      <td>20.5712</td>\n",
       "      <td>47</td>\n",
       "      <td>7/1/2014</td>\n",
       "      <td>6/30/2017</td>\n",
       "    </tr>\n",
       "  </tbody>\n",
       "</table>\n",
       "</div>"
      ],
      "text/plain": [
       "            Hospital Name  Provider ID State        Measure Name  \\\n",
       "0  BYRD REGIONAL HOSPITAL       190164    LA   READM_30_AMI_HRRP   \n",
       "1  BYRD REGIONAL HOSPITAL       190164    LA  READM_30_CABG_HRRP   \n",
       "2  BYRD REGIONAL HOSPITAL       190164    LA  READM_30_COPD_HRRP   \n",
       "\n",
       "  Number of Discharges                                           Footnote  \\\n",
       "0        Not Available  1 - The number of cases/patients is too few to...   \n",
       "1        Not Available  1 - The number of cases/patients is too few to...   \n",
       "2                  217                                                NaN   \n",
       "\n",
       "  Excess Readmission Ratio Predicted Readmission Rate  \\\n",
       "0            Not Available              Not Available   \n",
       "1            Not Available              Not Available   \n",
       "2                   1.0195                    20.9722   \n",
       "\n",
       "  Expected Readmission Rate Number of Readmissions Start Date   End Date  \n",
       "0             Not Available          Not Available   7/1/2014  6/30/2017  \n",
       "1             Not Available          Not Available   7/1/2014  6/30/2017  \n",
       "2                   20.5712                     47   7/1/2014  6/30/2017  "
      ]
     },
     "execution_count": 22,
     "metadata": {},
     "output_type": "execute_result"
    }
   ],
   "source": [
    "readm_red_df.head(3)"
   ]
  },
  {
   "cell_type": "code",
   "execution_count": 23,
   "metadata": {},
   "outputs": [
    {
     "name": "stdout",
     "output_type": "stream",
     "text": [
      "<class 'pandas.core.frame.DataFrame'>\n",
      "RangeIndex: 19674 entries, 0 to 19673\n",
      "Data columns (total 12 columns):\n",
      "Hospital Name                 19674 non-null object\n",
      "Provider ID                   19674 non-null int64\n",
      "State                         19674 non-null object\n",
      "Measure Name                  19674 non-null object\n",
      "Number of Discharges          19674 non-null object\n",
      "Footnote                      8157 non-null object\n",
      "Excess Readmission Ratio      19674 non-null object\n",
      "Predicted Readmission Rate    19674 non-null object\n",
      "Expected Readmission Rate     19674 non-null object\n",
      "Number of Readmissions        19674 non-null object\n",
      "Start Date                    19674 non-null object\n",
      "End Date                      19674 non-null object\n",
      "dtypes: int64(1), object(11)\n",
      "memory usage: 1.8+ MB\n"
     ]
    }
   ],
   "source": [
    "readm_red_df.info()"
   ]
  },
  {
   "cell_type": "code",
   "execution_count": 24,
   "metadata": {},
   "outputs": [],
   "source": [
    "#drop unnecessary columns\n",
    "readm_red_df = readm_red_df.drop(['Footnote', 'Start Date', 'End Date'], axis=1)"
   ]
  },
  {
   "cell_type": "code",
   "execution_count": 25,
   "metadata": {},
   "outputs": [
    {
     "data": {
      "text/plain": [
       "array(['READM_30_AMI_HRRP', 'READM_30_CABG_HRRP', 'READM_30_COPD_HRRP',\n",
       "       'READM_30_HF_HRRP', 'READM_30_HIP_KNEE_HRRP', 'READM_30_PN_HRRP'],\n",
       "      dtype=object)"
      ]
     },
     "execution_count": 25,
     "metadata": {},
     "output_type": "execute_result"
    }
   ],
   "source": [
    "readm_red_df['Measure Name'].unique()"
   ]
  },
  {
   "cell_type": "code",
   "execution_count": 26,
   "metadata": {},
   "outputs": [
    {
     "data": {
      "text/html": [
       "<div>\n",
       "<style scoped>\n",
       "    .dataframe tbody tr th:only-of-type {\n",
       "        vertical-align: middle;\n",
       "    }\n",
       "\n",
       "    .dataframe tbody tr th {\n",
       "        vertical-align: top;\n",
       "    }\n",
       "\n",
       "    .dataframe thead th {\n",
       "        text-align: right;\n",
       "    }\n",
       "</style>\n",
       "<table border=\"1\" class=\"dataframe\">\n",
       "  <thead>\n",
       "    <tr style=\"text-align: right;\">\n",
       "      <th></th>\n",
       "      <th>Hospital Name</th>\n",
       "      <th>Provider ID</th>\n",
       "      <th>State</th>\n",
       "      <th>Measure Name</th>\n",
       "      <th>Number of Discharges</th>\n",
       "      <th>Excess Readmission Ratio</th>\n",
       "      <th>Predicted Readmission Rate</th>\n",
       "      <th>Expected Readmission Rate</th>\n",
       "      <th>Number of Readmissions</th>\n",
       "    </tr>\n",
       "  </thead>\n",
       "  <tbody>\n",
       "    <tr>\n",
       "      <th>3</th>\n",
       "      <td>BYRD REGIONAL HOSPITAL</td>\n",
       "      <td>190164</td>\n",
       "      <td>LA</td>\n",
       "      <td>READM_30_HF_HRRP</td>\n",
       "      <td>259</td>\n",
       "      <td>1.0773</td>\n",
       "      <td>23.9788</td>\n",
       "      <td>22.2578</td>\n",
       "      <td>67</td>\n",
       "    </tr>\n",
       "    <tr>\n",
       "      <th>9</th>\n",
       "      <td>GRAND ITASCA CLINIC AND HOSPITAL</td>\n",
       "      <td>240064</td>\n",
       "      <td>MN</td>\n",
       "      <td>READM_30_HF_HRRP</td>\n",
       "      <td>75</td>\n",
       "      <td>0.9726</td>\n",
       "      <td>19.6816</td>\n",
       "      <td>20.2355</td>\n",
       "      <td>13</td>\n",
       "    </tr>\n",
       "    <tr>\n",
       "      <th>15</th>\n",
       "      <td>HARMON HOSPITAL</td>\n",
       "      <td>290042</td>\n",
       "      <td>NV</td>\n",
       "      <td>READM_30_HF_HRRP</td>\n",
       "      <td>Not Available</td>\n",
       "      <td>Not Available</td>\n",
       "      <td>Not Available</td>\n",
       "      <td>Not Available</td>\n",
       "      <td>Not Available</td>\n",
       "    </tr>\n",
       "  </tbody>\n",
       "</table>\n",
       "</div>"
      ],
      "text/plain": [
       "                       Hospital Name  Provider ID State      Measure Name  \\\n",
       "3             BYRD REGIONAL HOSPITAL       190164    LA  READM_30_HF_HRRP   \n",
       "9   GRAND ITASCA CLINIC AND HOSPITAL       240064    MN  READM_30_HF_HRRP   \n",
       "15                   HARMON HOSPITAL       290042    NV  READM_30_HF_HRRP   \n",
       "\n",
       "   Number of Discharges Excess Readmission Ratio Predicted Readmission Rate  \\\n",
       "3                   259                   1.0773                    23.9788   \n",
       "9                    75                   0.9726                    19.6816   \n",
       "15        Not Available            Not Available              Not Available   \n",
       "\n",
       "   Expected Readmission Rate Number of Readmissions  \n",
       "3                    22.2578                     67  \n",
       "9                    20.2355                     13  \n",
       "15             Not Available          Not Available  "
      ]
     },
     "execution_count": 26,
     "metadata": {},
     "output_type": "execute_result"
    }
   ],
   "source": [
    "#drop all but HF values\n",
    "readm_red_df = readm_red_df[readm_red_df['Measure Name'].isin(['READM_30_HF_HRRP'])] \n",
    "readm_red_df.head(3)"
   ]
  },
  {
   "cell_type": "code",
   "execution_count": 27,
   "metadata": {},
   "outputs": [],
   "source": [
    "#change name of Measure ID columns to identify the original df and measure\n",
    "readm_red_df.rename(columns={'Measure Name':'READM_30_HF_HRRP'}, inplace=True)"
   ]
  },
  {
   "cell_type": "code",
   "execution_count": 28,
   "metadata": {},
   "outputs": [],
   "source": [
    "#change value of READM_30_HF_HRRP to numeric\n",
    "readm_red_df.loc[readm_red_df.READM_30_HF_HRRP == 'READM_30_HF_HRRP', 'READM_30_HF_HRRP'] = 1"
   ]
  },
  {
   "cell_type": "code",
   "execution_count": 29,
   "metadata": {},
   "outputs": [
    {
     "data": {
      "text/html": [
       "<div>\n",
       "<style scoped>\n",
       "    .dataframe tbody tr th:only-of-type {\n",
       "        vertical-align: middle;\n",
       "    }\n",
       "\n",
       "    .dataframe tbody tr th {\n",
       "        vertical-align: top;\n",
       "    }\n",
       "\n",
       "    .dataframe thead th {\n",
       "        text-align: right;\n",
       "    }\n",
       "</style>\n",
       "<table border=\"1\" class=\"dataframe\">\n",
       "  <thead>\n",
       "    <tr style=\"text-align: right;\">\n",
       "      <th></th>\n",
       "      <th>Hospital Name</th>\n",
       "      <th>Provider ID</th>\n",
       "      <th>State</th>\n",
       "      <th>READM_30_HF_HRRP</th>\n",
       "      <th>Number of Discharges</th>\n",
       "      <th>Excess Readmission Ratio</th>\n",
       "      <th>Predicted Readmission Rate</th>\n",
       "      <th>Expected Readmission Rate</th>\n",
       "      <th>Number of Readmissions</th>\n",
       "    </tr>\n",
       "  </thead>\n",
       "  <tbody>\n",
       "    <tr>\n",
       "      <th>3</th>\n",
       "      <td>BYRD REGIONAL HOSPITAL</td>\n",
       "      <td>190164</td>\n",
       "      <td>LA</td>\n",
       "      <td>1</td>\n",
       "      <td>259</td>\n",
       "      <td>1.0773</td>\n",
       "      <td>23.9788</td>\n",
       "      <td>22.2578</td>\n",
       "      <td>67</td>\n",
       "    </tr>\n",
       "    <tr>\n",
       "      <th>9</th>\n",
       "      <td>GRAND ITASCA CLINIC AND HOSPITAL</td>\n",
       "      <td>240064</td>\n",
       "      <td>MN</td>\n",
       "      <td>1</td>\n",
       "      <td>75</td>\n",
       "      <td>0.9726</td>\n",
       "      <td>19.6816</td>\n",
       "      <td>20.2355</td>\n",
       "      <td>13</td>\n",
       "    </tr>\n",
       "    <tr>\n",
       "      <th>15</th>\n",
       "      <td>HARMON HOSPITAL</td>\n",
       "      <td>290042</td>\n",
       "      <td>NV</td>\n",
       "      <td>1</td>\n",
       "      <td>Not Available</td>\n",
       "      <td>Not Available</td>\n",
       "      <td>Not Available</td>\n",
       "      <td>Not Available</td>\n",
       "      <td>Not Available</td>\n",
       "    </tr>\n",
       "  </tbody>\n",
       "</table>\n",
       "</div>"
      ],
      "text/plain": [
       "                       Hospital Name  Provider ID State  READM_30_HF_HRRP  \\\n",
       "3             BYRD REGIONAL HOSPITAL       190164    LA                 1   \n",
       "9   GRAND ITASCA CLINIC AND HOSPITAL       240064    MN                 1   \n",
       "15                   HARMON HOSPITAL       290042    NV                 1   \n",
       "\n",
       "   Number of Discharges Excess Readmission Ratio Predicted Readmission Rate  \\\n",
       "3                   259                   1.0773                    23.9788   \n",
       "9                    75                   0.9726                    19.6816   \n",
       "15        Not Available            Not Available              Not Available   \n",
       "\n",
       "   Expected Readmission Rate Number of Readmissions  \n",
       "3                    22.2578                     67  \n",
       "9                    20.2355                     13  \n",
       "15             Not Available          Not Available  "
      ]
     },
     "execution_count": 29,
     "metadata": {},
     "output_type": "execute_result"
    }
   ],
   "source": [
    "readm_red_df.head(3)"
   ]
  },
  {
   "cell_type": "code",
   "execution_count": 30,
   "metadata": {},
   "outputs": [
    {
     "data": {
      "text/plain": [
       "Hospital Name                 0\n",
       "Provider ID                   0\n",
       "State                         0\n",
       "READM_30_HF_HRRP              0\n",
       "Number of Discharges          0\n",
       "Excess Readmission Ratio      0\n",
       "Predicted Readmission Rate    0\n",
       "Expected Readmission Rate     0\n",
       "Number of Readmissions        0\n",
       "dtype: int64"
      ]
     },
     "execution_count": 30,
     "metadata": {},
     "output_type": "execute_result"
    }
   ],
   "source": [
    "readm_red_df.isnull().sum()"
   ]
  },
  {
   "cell_type": "code",
   "execution_count": 31,
   "metadata": {},
   "outputs": [],
   "source": [
    "readm_red_df = readm_red_df.applymap(lambda elem: float('NaN') if elem == \"Not Available\" else elem)"
   ]
  },
  {
   "cell_type": "code",
   "execution_count": 32,
   "metadata": {},
   "outputs": [
    {
     "data": {
      "text/plain": [
       "Hospital Name                   0\n",
       "Provider ID                     0\n",
       "State                           0\n",
       "READM_30_HF_HRRP                0\n",
       "Number of Discharges          602\n",
       "Excess Readmission Ratio      397\n",
       "Predicted Readmission Rate    397\n",
       "Expected Readmission Rate     397\n",
       "Number of Readmissions        609\n",
       "dtype: int64"
      ]
     },
     "execution_count": 32,
     "metadata": {},
     "output_type": "execute_result"
    }
   ],
   "source": [
    "readm_red_df.isnull().sum()"
   ]
  },
  {
   "cell_type": "code",
   "execution_count": 33,
   "metadata": {},
   "outputs": [],
   "source": [
    "#will drop Nan; most are missing numer of d/c and readmin; predicted values are not usefull w/o actual readmin rates; \n",
    "#dataset is large enough to support loss of 609 records\n",
    "readm_red_df = readm_red_df.dropna(how='any',axis=0)\n",
    " "
   ]
  },
  {
   "cell_type": "code",
   "execution_count": 34,
   "metadata": {},
   "outputs": [
    {
     "data": {
      "text/plain": [
       "Hospital Name                 0\n",
       "Provider ID                   0\n",
       "State                         0\n",
       "READM_30_HF_HRRP              0\n",
       "Number of Discharges          0\n",
       "Excess Readmission Ratio      0\n",
       "Predicted Readmission Rate    0\n",
       "Expected Readmission Rate     0\n",
       "Number of Readmissions        0\n",
       "dtype: int64"
      ]
     },
     "execution_count": 34,
     "metadata": {},
     "output_type": "execute_result"
    }
   ],
   "source": [
    "readm_red_df.isnull().sum()"
   ]
  },
  {
   "cell_type": "code",
   "execution_count": 35,
   "metadata": {},
   "outputs": [
    {
     "name": "stdout",
     "output_type": "stream",
     "text": [
      "<class 'pandas.core.frame.DataFrame'>\n",
      "Int64Index: 2670 entries, 3 to 19671\n",
      "Data columns (total 9 columns):\n",
      "Hospital Name                 2670 non-null object\n",
      "Provider ID                   2670 non-null int64\n",
      "State                         2670 non-null object\n",
      "READM_30_HF_HRRP              2670 non-null int64\n",
      "Number of Discharges          2670 non-null object\n",
      "Excess Readmission Ratio      2670 non-null object\n",
      "Predicted Readmission Rate    2670 non-null object\n",
      "Expected Readmission Rate     2670 non-null object\n",
      "Number of Readmissions        2670 non-null object\n",
      "dtypes: int64(2), object(7)\n",
      "memory usage: 208.6+ KB\n"
     ]
    }
   ],
   "source": [
    "readm_red_df.info()"
   ]
  },
  {
   "cell_type": "code",
   "execution_count": 36,
   "metadata": {},
   "outputs": [],
   "source": [
    "cols = ['Number of Discharges', 'Excess Readmission Ratio', 'Predicted Readmission Rate', 'Expected Readmission Rate', 'Number of Readmissions']\n",
    "readm_red_df[cols] = readm_red_df[cols].apply(pd.to_numeric, errors = 'coerce', downcast = 'float')"
   ]
  },
  {
   "cell_type": "code",
   "execution_count": 37,
   "metadata": {},
   "outputs": [
    {
     "data": {
      "text/html": [
       "<div>\n",
       "<style scoped>\n",
       "    .dataframe tbody tr th:only-of-type {\n",
       "        vertical-align: middle;\n",
       "    }\n",
       "\n",
       "    .dataframe tbody tr th {\n",
       "        vertical-align: top;\n",
       "    }\n",
       "\n",
       "    .dataframe thead th {\n",
       "        text-align: right;\n",
       "    }\n",
       "</style>\n",
       "<table border=\"1\" class=\"dataframe\">\n",
       "  <thead>\n",
       "    <tr style=\"text-align: right;\">\n",
       "      <th></th>\n",
       "      <th>Hospital Name</th>\n",
       "      <th>Provider ID</th>\n",
       "      <th>State</th>\n",
       "      <th>READM_30_HF_HRRP</th>\n",
       "      <th>Number of Discharges</th>\n",
       "      <th>Excess Readmission Ratio</th>\n",
       "      <th>Predicted Readmission Rate</th>\n",
       "      <th>Expected Readmission Rate</th>\n",
       "      <th>Number of Readmissions</th>\n",
       "    </tr>\n",
       "  </thead>\n",
       "  <tbody>\n",
       "    <tr>\n",
       "      <th>3</th>\n",
       "      <td>BYRD REGIONAL HOSPITAL</td>\n",
       "      <td>190164</td>\n",
       "      <td>LA</td>\n",
       "      <td>1</td>\n",
       "      <td>259.0</td>\n",
       "      <td>1.0773</td>\n",
       "      <td>23.978800</td>\n",
       "      <td>22.257799</td>\n",
       "      <td>67.0</td>\n",
       "    </tr>\n",
       "    <tr>\n",
       "      <th>9</th>\n",
       "      <td>GRAND ITASCA CLINIC AND HOSPITAL</td>\n",
       "      <td>240064</td>\n",
       "      <td>MN</td>\n",
       "      <td>1</td>\n",
       "      <td>75.0</td>\n",
       "      <td>0.9726</td>\n",
       "      <td>19.681601</td>\n",
       "      <td>20.235500</td>\n",
       "      <td>13.0</td>\n",
       "    </tr>\n",
       "    <tr>\n",
       "      <th>21</th>\n",
       "      <td>CHESHIRE MEDICAL CENTER</td>\n",
       "      <td>300019</td>\n",
       "      <td>NH</td>\n",
       "      <td>1</td>\n",
       "      <td>303.0</td>\n",
       "      <td>0.9514</td>\n",
       "      <td>19.854500</td>\n",
       "      <td>20.869600</td>\n",
       "      <td>57.0</td>\n",
       "    </tr>\n",
       "  </tbody>\n",
       "</table>\n",
       "</div>"
      ],
      "text/plain": [
       "                       Hospital Name  Provider ID State  READM_30_HF_HRRP  \\\n",
       "3             BYRD REGIONAL HOSPITAL       190164    LA                 1   \n",
       "9   GRAND ITASCA CLINIC AND HOSPITAL       240064    MN                 1   \n",
       "21           CHESHIRE MEDICAL CENTER       300019    NH                 1   \n",
       "\n",
       "    Number of Discharges  Excess Readmission Ratio  \\\n",
       "3                  259.0                    1.0773   \n",
       "9                   75.0                    0.9726   \n",
       "21                 303.0                    0.9514   \n",
       "\n",
       "    Predicted Readmission Rate  Expected Readmission Rate  \\\n",
       "3                    23.978800                  22.257799   \n",
       "9                    19.681601                  20.235500   \n",
       "21                   19.854500                  20.869600   \n",
       "\n",
       "    Number of Readmissions  \n",
       "3                     67.0  \n",
       "9                     13.0  \n",
       "21                    57.0  "
      ]
     },
     "execution_count": 37,
     "metadata": {},
     "output_type": "execute_result"
    }
   ],
   "source": [
    "readm_red_df.head(3)"
   ]
  },
  {
   "cell_type": "code",
   "execution_count": 38,
   "metadata": {},
   "outputs": [
    {
     "name": "stdout",
     "output_type": "stream",
     "text": [
      "<class 'pandas.core.frame.DataFrame'>\n",
      "Int64Index: 2670 entries, 3 to 19671\n",
      "Data columns (total 9 columns):\n",
      "Hospital Name                 2670 non-null object\n",
      "Provider ID                   2670 non-null int64\n",
      "State                         2670 non-null object\n",
      "READM_30_HF_HRRP              2670 non-null int64\n",
      "Number of Discharges          2670 non-null float32\n",
      "Excess Readmission Ratio      2670 non-null float32\n",
      "Predicted Readmission Rate    2670 non-null float32\n",
      "Expected Readmission Rate     2670 non-null float32\n",
      "Number of Readmissions        2670 non-null float32\n",
      "dtypes: float32(5), int64(2), object(2)\n",
      "memory usage: 156.4+ KB\n"
     ]
    }
   ],
   "source": [
    "readm_red_df.info()"
   ]
  },
  {
   "cell_type": "code",
   "execution_count": null,
   "metadata": {},
   "outputs": [],
   "source": []
  },
  {
   "cell_type": "code",
   "execution_count": null,
   "metadata": {},
   "outputs": [],
   "source": []
  },
  {
   "cell_type": "code",
   "execution_count": null,
   "metadata": {},
   "outputs": [],
   "source": []
  },
  {
   "cell_type": "code",
   "execution_count": 39,
   "metadata": {},
   "outputs": [
    {
     "data": {
      "text/html": [
       "<div>\n",
       "<style scoped>\n",
       "    .dataframe tbody tr th:only-of-type {\n",
       "        vertical-align: middle;\n",
       "    }\n",
       "\n",
       "    .dataframe tbody tr th {\n",
       "        vertical-align: top;\n",
       "    }\n",
       "\n",
       "    .dataframe thead th {\n",
       "        text-align: right;\n",
       "    }\n",
       "</style>\n",
       "<table border=\"1\" class=\"dataframe\">\n",
       "  <thead>\n",
       "    <tr style=\"text-align: right;\">\n",
       "      <th></th>\n",
       "      <th>Provider ID</th>\n",
       "      <th>Hospital Name</th>\n",
       "      <th>Address</th>\n",
       "      <th>City</th>\n",
       "      <th>State</th>\n",
       "      <th>ZIP Code</th>\n",
       "      <th>County Name</th>\n",
       "      <th>Phone Number</th>\n",
       "      <th>Measure Name</th>\n",
       "      <th>Measure ID</th>\n",
       "      <th>Compared to National</th>\n",
       "      <th>Denominator</th>\n",
       "      <th>Score</th>\n",
       "      <th>Lower Estimate</th>\n",
       "      <th>Higher Estimate</th>\n",
       "      <th>Footnote</th>\n",
       "      <th>Measure Start Date</th>\n",
       "      <th>Measure End Date</th>\n",
       "    </tr>\n",
       "  </thead>\n",
       "  <tbody>\n",
       "    <tr>\n",
       "      <th>0</th>\n",
       "      <td>10001</td>\n",
       "      <td>SOUTHEAST ALABAMA MEDICAL CENTER</td>\n",
       "      <td>1108 ROSS CLARK CIRCLE</td>\n",
       "      <td>DOTHAN</td>\n",
       "      <td>AL</td>\n",
       "      <td>36301</td>\n",
       "      <td>HOUSTON</td>\n",
       "      <td>3347938701</td>\n",
       "      <td>Rate of complications for hip/knee replacement...</td>\n",
       "      <td>COMP_HIP_KNEE</td>\n",
       "      <td>No Different Than the National Rate</td>\n",
       "      <td>292</td>\n",
       "      <td>3.2</td>\n",
       "      <td>2.1</td>\n",
       "      <td>4.8</td>\n",
       "      <td>NaN</td>\n",
       "      <td>4/1/2015</td>\n",
       "      <td>3/31/2018</td>\n",
       "    </tr>\n",
       "    <tr>\n",
       "      <th>1</th>\n",
       "      <td>10001</td>\n",
       "      <td>SOUTHEAST ALABAMA MEDICAL CENTER</td>\n",
       "      <td>1108 ROSS CLARK CIRCLE</td>\n",
       "      <td>DOTHAN</td>\n",
       "      <td>AL</td>\n",
       "      <td>36301</td>\n",
       "      <td>HOUSTON</td>\n",
       "      <td>3347938701</td>\n",
       "      <td>Death rate for heart attack patients</td>\n",
       "      <td>MORT_30_AMI</td>\n",
       "      <td>No Different Than the National Rate</td>\n",
       "      <td>688</td>\n",
       "      <td>13</td>\n",
       "      <td>11</td>\n",
       "      <td>15.5</td>\n",
       "      <td>NaN</td>\n",
       "      <td>7/1/2015</td>\n",
       "      <td>6/30/2018</td>\n",
       "    </tr>\n",
       "    <tr>\n",
       "      <th>2</th>\n",
       "      <td>10001</td>\n",
       "      <td>SOUTHEAST ALABAMA MEDICAL CENTER</td>\n",
       "      <td>1108 ROSS CLARK CIRCLE</td>\n",
       "      <td>DOTHAN</td>\n",
       "      <td>AL</td>\n",
       "      <td>36301</td>\n",
       "      <td>HOUSTON</td>\n",
       "      <td>3347938701</td>\n",
       "      <td>Death rate for CABG surgery patients</td>\n",
       "      <td>MORT_30_CABG</td>\n",
       "      <td>No Different Than the National Rate</td>\n",
       "      <td>291</td>\n",
       "      <td>4.3</td>\n",
       "      <td>2.6</td>\n",
       "      <td>6.8</td>\n",
       "      <td>NaN</td>\n",
       "      <td>7/1/2015</td>\n",
       "      <td>6/30/2018</td>\n",
       "    </tr>\n",
       "  </tbody>\n",
       "</table>\n",
       "</div>"
      ],
      "text/plain": [
       "  Provider ID                     Hospital Name                 Address  \\\n",
       "0       10001  SOUTHEAST ALABAMA MEDICAL CENTER  1108 ROSS CLARK CIRCLE   \n",
       "1       10001  SOUTHEAST ALABAMA MEDICAL CENTER  1108 ROSS CLARK CIRCLE   \n",
       "2       10001  SOUTHEAST ALABAMA MEDICAL CENTER  1108 ROSS CLARK CIRCLE   \n",
       "\n",
       "     City State  ZIP Code County Name  Phone Number  \\\n",
       "0  DOTHAN    AL     36301     HOUSTON    3347938701   \n",
       "1  DOTHAN    AL     36301     HOUSTON    3347938701   \n",
       "2  DOTHAN    AL     36301     HOUSTON    3347938701   \n",
       "\n",
       "                                        Measure Name     Measure ID  \\\n",
       "0  Rate of complications for hip/knee replacement...  COMP_HIP_KNEE   \n",
       "1               Death rate for heart attack patients    MORT_30_AMI   \n",
       "2               Death rate for CABG surgery patients   MORT_30_CABG   \n",
       "\n",
       "                  Compared to National Denominator Score Lower Estimate  \\\n",
       "0  No Different Than the National Rate         292   3.2            2.1   \n",
       "1  No Different Than the National Rate         688    13             11   \n",
       "2  No Different Than the National Rate         291   4.3            2.6   \n",
       "\n",
       "  Higher Estimate Footnote Measure Start Date Measure End Date  \n",
       "0             4.8      NaN           4/1/2015        3/31/2018  \n",
       "1            15.5      NaN           7/1/2015        6/30/2018  \n",
       "2             6.8      NaN           7/1/2015        6/30/2018  "
      ]
     },
     "execution_count": 39,
     "metadata": {},
     "output_type": "execute_result"
    }
   ],
   "source": [
    "mort_meas_df.head(3)"
   ]
  },
  {
   "cell_type": "code",
   "execution_count": 40,
   "metadata": {},
   "outputs": [
    {
     "name": "stdout",
     "output_type": "stream",
     "text": [
      "<class 'pandas.core.frame.DataFrame'>\n",
      "RangeIndex: 91889 entries, 0 to 91888\n",
      "Data columns (total 18 columns):\n",
      "Provider ID             91889 non-null object\n",
      "Hospital Name           91889 non-null object\n",
      "Address                 91889 non-null object\n",
      "City                    91889 non-null object\n",
      "State                   91889 non-null object\n",
      "ZIP Code                91889 non-null int64\n",
      "County Name             91889 non-null object\n",
      "Phone Number            91889 non-null int64\n",
      "Measure Name            91889 non-null object\n",
      "Measure ID              91889 non-null object\n",
      "Compared to National    91889 non-null object\n",
      "Denominator             91889 non-null object\n",
      "Score                   91889 non-null object\n",
      "Lower Estimate          91889 non-null object\n",
      "Higher Estimate         91889 non-null object\n",
      "Footnote                37628 non-null object\n",
      "Measure Start Date      91889 non-null object\n",
      "Measure End Date        91889 non-null object\n",
      "dtypes: int64(2), object(16)\n",
      "memory usage: 12.6+ MB\n"
     ]
    }
   ],
   "source": [
    "mort_meas_df.info()"
   ]
  },
  {
   "cell_type": "code",
   "execution_count": 41,
   "metadata": {},
   "outputs": [],
   "source": [
    "mort_meas_df = mort_meas_df.drop(['Address', 'City', 'County Name', 'Phone Number', 'Measure Name', 'Footnote', 'Measure Start Date', 'Measure End Date'], axis=1)"
   ]
  },
  {
   "cell_type": "code",
   "execution_count": 42,
   "metadata": {},
   "outputs": [
    {
     "data": {
      "text/plain": [
       "array(['COMP_HIP_KNEE', 'MORT_30_AMI', 'MORT_30_CABG', 'MORT_30_COPD',\n",
       "       'MORT_30_HF', 'MORT_30_PN', 'MORT_30_STK', 'PSI_10_POST_KIDNEY',\n",
       "       'PSI_11_POST_RESP', 'PSI_12_POSTOP_PULMEMB_DVT',\n",
       "       'PSI_13_POST_SEPSIS', 'PSI_14_POSTOP_DEHIS', 'PSI_15_ACC_LAC',\n",
       "       'PSI_3_ULCER', 'PSI_4_SURG_COMP', 'PSI_6_IAT_PTX',\n",
       "       'PSI_8_POST_HIP', 'PSI_90_SAFETY', 'PSI_9_POST_HEM'], dtype=object)"
      ]
     },
     "execution_count": 42,
     "metadata": {},
     "output_type": "execute_result"
    }
   ],
   "source": [
    "mort_meas_df['Measure ID'].unique()"
   ]
  },
  {
   "cell_type": "code",
   "execution_count": 43,
   "metadata": {},
   "outputs": [
    {
     "data": {
      "text/html": [
       "<div>\n",
       "<style scoped>\n",
       "    .dataframe tbody tr th:only-of-type {\n",
       "        vertical-align: middle;\n",
       "    }\n",
       "\n",
       "    .dataframe tbody tr th {\n",
       "        vertical-align: top;\n",
       "    }\n",
       "\n",
       "    .dataframe thead th {\n",
       "        text-align: right;\n",
       "    }\n",
       "</style>\n",
       "<table border=\"1\" class=\"dataframe\">\n",
       "  <thead>\n",
       "    <tr style=\"text-align: right;\">\n",
       "      <th></th>\n",
       "      <th>Provider ID</th>\n",
       "      <th>Hospital Name</th>\n",
       "      <th>State</th>\n",
       "      <th>ZIP Code</th>\n",
       "      <th>Measure ID</th>\n",
       "      <th>Compared to National</th>\n",
       "      <th>Denominator</th>\n",
       "      <th>Score</th>\n",
       "      <th>Lower Estimate</th>\n",
       "      <th>Higher Estimate</th>\n",
       "    </tr>\n",
       "  </thead>\n",
       "  <tbody>\n",
       "    <tr>\n",
       "      <th>4</th>\n",
       "      <td>10001</td>\n",
       "      <td>SOUTHEAST ALABAMA MEDICAL CENTER</td>\n",
       "      <td>AL</td>\n",
       "      <td>36301</td>\n",
       "      <td>MORT_30_HF</td>\n",
       "      <td>No Different Than the National Rate</td>\n",
       "      <td>869</td>\n",
       "      <td>12.7</td>\n",
       "      <td>10.7</td>\n",
       "      <td>15</td>\n",
       "    </tr>\n",
       "    <tr>\n",
       "      <th>23</th>\n",
       "      <td>10005</td>\n",
       "      <td>MARSHALL MEDICAL CENTER SOUTH</td>\n",
       "      <td>AL</td>\n",
       "      <td>35957</td>\n",
       "      <td>MORT_30_HF</td>\n",
       "      <td>No Different Than the National Rate</td>\n",
       "      <td>318</td>\n",
       "      <td>14.4</td>\n",
       "      <td>11.4</td>\n",
       "      <td>17.9</td>\n",
       "    </tr>\n",
       "    <tr>\n",
       "      <th>42</th>\n",
       "      <td>10006</td>\n",
       "      <td>NORTH ALABAMA MEDICAL CENTER</td>\n",
       "      <td>AL</td>\n",
       "      <td>35630</td>\n",
       "      <td>MORT_30_HF</td>\n",
       "      <td>No Different Than the National Rate</td>\n",
       "      <td>671</td>\n",
       "      <td>12.9</td>\n",
       "      <td>10.6</td>\n",
       "      <td>15.4</td>\n",
       "    </tr>\n",
       "  </tbody>\n",
       "</table>\n",
       "</div>"
      ],
      "text/plain": [
       "   Provider ID                     Hospital Name State  ZIP Code  Measure ID  \\\n",
       "4        10001  SOUTHEAST ALABAMA MEDICAL CENTER    AL     36301  MORT_30_HF   \n",
       "23       10005     MARSHALL MEDICAL CENTER SOUTH    AL     35957  MORT_30_HF   \n",
       "42       10006      NORTH ALABAMA MEDICAL CENTER    AL     35630  MORT_30_HF   \n",
       "\n",
       "                   Compared to National Denominator Score Lower Estimate  \\\n",
       "4   No Different Than the National Rate         869  12.7           10.7   \n",
       "23  No Different Than the National Rate         318  14.4           11.4   \n",
       "42  No Different Than the National Rate         671  12.9           10.6   \n",
       "\n",
       "   Higher Estimate  \n",
       "4               15  \n",
       "23            17.9  \n",
       "42            15.4  "
      ]
     },
     "execution_count": 43,
     "metadata": {},
     "output_type": "execute_result"
    }
   ],
   "source": [
    "#drop all but HF values\n",
    "mort_meas_df = mort_meas_df[mort_meas_df['Measure ID'].isin(['MORT_30_HF'])] \n",
    "mort_meas_df.head(3)"
   ]
  },
  {
   "cell_type": "code",
   "execution_count": 44,
   "metadata": {},
   "outputs": [],
   "source": [
    "#change name of Measure ID columns to identify the original df and measure\n",
    "mort_meas_df.rename(columns={'Measure ID':'MORT_30_HF'}, inplace=True)"
   ]
  },
  {
   "cell_type": "code",
   "execution_count": 45,
   "metadata": {},
   "outputs": [],
   "source": [
    "#change value of MORT_30_HF to numeric\n",
    "mort_meas_df.loc[mort_meas_df.MORT_30_HF == 'MORT_30_HF', 'MORT_30_HF'] = 1"
   ]
  },
  {
   "cell_type": "code",
   "execution_count": 46,
   "metadata": {},
   "outputs": [
    {
     "data": {
      "text/plain": [
       "Provider ID             0\n",
       "Hospital Name           0\n",
       "State                   0\n",
       "ZIP Code                0\n",
       "MORT_30_HF              0\n",
       "Compared to National    0\n",
       "Denominator             0\n",
       "Score                   0\n",
       "Lower Estimate          0\n",
       "Higher Estimate         0\n",
       "dtype: int64"
      ]
     },
     "execution_count": 46,
     "metadata": {},
     "output_type": "execute_result"
    }
   ],
   "source": [
    "mort_meas_df.isnull().sum()"
   ]
  },
  {
   "cell_type": "code",
   "execution_count": 47,
   "metadata": {},
   "outputs": [
    {
     "data": {
      "text/plain": [
       "5"
      ]
     },
     "execution_count": 47,
     "metadata": {},
     "output_type": "execute_result"
    }
   ],
   "source": [
    "mort_meas_df['Compared to National'].nunique()"
   ]
  },
  {
   "cell_type": "code",
   "execution_count": 48,
   "metadata": {},
   "outputs": [],
   "source": [
    "mort_meas_df = pd.concat([mort_meas_df, pd.get_dummies(mort_meas_df['Compared to National'], prefix='nat_comp', drop_first=True)], axis =1)"
   ]
  },
  {
   "cell_type": "code",
   "execution_count": 49,
   "metadata": {},
   "outputs": [
    {
     "data": {
      "text/html": [
       "<div>\n",
       "<style scoped>\n",
       "    .dataframe tbody tr th:only-of-type {\n",
       "        vertical-align: middle;\n",
       "    }\n",
       "\n",
       "    .dataframe tbody tr th {\n",
       "        vertical-align: top;\n",
       "    }\n",
       "\n",
       "    .dataframe thead th {\n",
       "        text-align: right;\n",
       "    }\n",
       "</style>\n",
       "<table border=\"1\" class=\"dataframe\">\n",
       "  <thead>\n",
       "    <tr style=\"text-align: right;\">\n",
       "      <th></th>\n",
       "      <th>Provider ID</th>\n",
       "      <th>Hospital Name</th>\n",
       "      <th>State</th>\n",
       "      <th>ZIP Code</th>\n",
       "      <th>MORT_30_HF</th>\n",
       "      <th>Compared to National</th>\n",
       "      <th>Denominator</th>\n",
       "      <th>Score</th>\n",
       "      <th>Lower Estimate</th>\n",
       "      <th>Higher Estimate</th>\n",
       "      <th>nat_comp_No Different Than the National Rate</th>\n",
       "      <th>nat_comp_Not Available</th>\n",
       "      <th>nat_comp_Number of Cases Too Small</th>\n",
       "      <th>nat_comp_Worse Than the National Rate</th>\n",
       "    </tr>\n",
       "  </thead>\n",
       "  <tbody>\n",
       "    <tr>\n",
       "      <th>4</th>\n",
       "      <td>10001</td>\n",
       "      <td>SOUTHEAST ALABAMA MEDICAL CENTER</td>\n",
       "      <td>AL</td>\n",
       "      <td>36301</td>\n",
       "      <td>1</td>\n",
       "      <td>No Different Than the National Rate</td>\n",
       "      <td>869</td>\n",
       "      <td>12.7</td>\n",
       "      <td>10.7</td>\n",
       "      <td>15</td>\n",
       "      <td>1</td>\n",
       "      <td>0</td>\n",
       "      <td>0</td>\n",
       "      <td>0</td>\n",
       "    </tr>\n",
       "    <tr>\n",
       "      <th>23</th>\n",
       "      <td>10005</td>\n",
       "      <td>MARSHALL MEDICAL CENTER SOUTH</td>\n",
       "      <td>AL</td>\n",
       "      <td>35957</td>\n",
       "      <td>1</td>\n",
       "      <td>No Different Than the National Rate</td>\n",
       "      <td>318</td>\n",
       "      <td>14.4</td>\n",
       "      <td>11.4</td>\n",
       "      <td>17.9</td>\n",
       "      <td>1</td>\n",
       "      <td>0</td>\n",
       "      <td>0</td>\n",
       "      <td>0</td>\n",
       "    </tr>\n",
       "    <tr>\n",
       "      <th>42</th>\n",
       "      <td>10006</td>\n",
       "      <td>NORTH ALABAMA MEDICAL CENTER</td>\n",
       "      <td>AL</td>\n",
       "      <td>35630</td>\n",
       "      <td>1</td>\n",
       "      <td>No Different Than the National Rate</td>\n",
       "      <td>671</td>\n",
       "      <td>12.9</td>\n",
       "      <td>10.6</td>\n",
       "      <td>15.4</td>\n",
       "      <td>1</td>\n",
       "      <td>0</td>\n",
       "      <td>0</td>\n",
       "      <td>0</td>\n",
       "    </tr>\n",
       "  </tbody>\n",
       "</table>\n",
       "</div>"
      ],
      "text/plain": [
       "   Provider ID                     Hospital Name State  ZIP Code  MORT_30_HF  \\\n",
       "4        10001  SOUTHEAST ALABAMA MEDICAL CENTER    AL     36301           1   \n",
       "23       10005     MARSHALL MEDICAL CENTER SOUTH    AL     35957           1   \n",
       "42       10006      NORTH ALABAMA MEDICAL CENTER    AL     35630           1   \n",
       "\n",
       "                   Compared to National Denominator Score Lower Estimate  \\\n",
       "4   No Different Than the National Rate         869  12.7           10.7   \n",
       "23  No Different Than the National Rate         318  14.4           11.4   \n",
       "42  No Different Than the National Rate         671  12.9           10.6   \n",
       "\n",
       "   Higher Estimate  nat_comp_No Different Than the National Rate  \\\n",
       "4               15                                             1   \n",
       "23            17.9                                             1   \n",
       "42            15.4                                             1   \n",
       "\n",
       "    nat_comp_Not Available  nat_comp_Number of Cases Too Small  \\\n",
       "4                        0                                   0   \n",
       "23                       0                                   0   \n",
       "42                       0                                   0   \n",
       "\n",
       "    nat_comp_Worse Than the National Rate  \n",
       "4                                       0  \n",
       "23                                      0  \n",
       "42                                      0  "
      ]
     },
     "execution_count": 49,
     "metadata": {},
     "output_type": "execute_result"
    }
   ],
   "source": [
    "mort_meas_df.head(3)"
   ]
  },
  {
   "cell_type": "code",
   "execution_count": 50,
   "metadata": {},
   "outputs": [],
   "source": [
    "cols = ['Denominator', 'Score', 'Lower Estimate', 'Higher Estimate']\n",
    "mort_meas_df[cols] = mort_meas_df[cols].apply(pd.to_numeric, errors = 'coerce', downcast = 'float')"
   ]
  },
  {
   "cell_type": "code",
   "execution_count": 51,
   "metadata": {},
   "outputs": [],
   "source": [
    "mort_meas_df = mort_meas_df.drop(['Compared to National'], axis=1)"
   ]
  },
  {
   "cell_type": "code",
   "execution_count": 52,
   "metadata": {},
   "outputs": [
    {
     "name": "stdout",
     "output_type": "stream",
     "text": [
      "<class 'pandas.core.frame.DataFrame'>\n",
      "Int64Index: 4930 entries, 4 to 91874\n",
      "Data columns (total 13 columns):\n",
      "Provider ID                                     4930 non-null object\n",
      "Hospital Name                                   4930 non-null object\n",
      "State                                           4930 non-null object\n",
      "ZIP Code                                        4930 non-null int64\n",
      "MORT_30_HF                                      4930 non-null int64\n",
      "Denominator                                     3617 non-null float32\n",
      "Score                                           3617 non-null float32\n",
      "Lower Estimate                                  3617 non-null float32\n",
      "Higher Estimate                                 3617 non-null float32\n",
      "nat_comp_No Different Than the National Rate    4930 non-null uint8\n",
      "nat_comp_Not Available                          4930 non-null uint8\n",
      "nat_comp_Number of Cases Too Small              4930 non-null uint8\n",
      "nat_comp_Worse Than the National Rate           4930 non-null uint8\n",
      "dtypes: float32(4), int64(2), object(3), uint8(4)\n",
      "memory usage: 327.4+ KB\n"
     ]
    }
   ],
   "source": [
    "mort_meas_df.info()"
   ]
  },
  {
   "cell_type": "code",
   "execution_count": null,
   "metadata": {},
   "outputs": [],
   "source": []
  },
  {
   "cell_type": "code",
   "execution_count": null,
   "metadata": {},
   "outputs": [],
   "source": []
  },
  {
   "cell_type": "code",
   "execution_count": null,
   "metadata": {},
   "outputs": [],
   "source": []
  },
  {
   "cell_type": "code",
   "execution_count": 53,
   "metadata": {},
   "outputs": [
    {
     "data": {
      "text/html": [
       "<div>\n",
       "<style scoped>\n",
       "    .dataframe tbody tr th:only-of-type {\n",
       "        vertical-align: middle;\n",
       "    }\n",
       "\n",
       "    .dataframe tbody tr th {\n",
       "        vertical-align: top;\n",
       "    }\n",
       "\n",
       "    .dataframe thead th {\n",
       "        text-align: right;\n",
       "    }\n",
       "</style>\n",
       "<table border=\"1\" class=\"dataframe\">\n",
       "  <thead>\n",
       "    <tr style=\"text-align: right;\">\n",
       "      <th></th>\n",
       "      <th>Provider ID</th>\n",
       "      <th>Hospital Name</th>\n",
       "      <th>Address</th>\n",
       "      <th>City</th>\n",
       "      <th>State</th>\n",
       "      <th>ZIP Code</th>\n",
       "      <th>County Name</th>\n",
       "      <th>Phone Number</th>\n",
       "      <th>HCAHPS Measure ID</th>\n",
       "      <th>HCAHPS Question</th>\n",
       "      <th>...</th>\n",
       "      <th>Patient Survey Star Rating Footnote</th>\n",
       "      <th>HCAHPS Answer Percent</th>\n",
       "      <th>HCAHPS Answer Percent Footnote</th>\n",
       "      <th>HCAHPS Linear Mean Value</th>\n",
       "      <th>Number of Completed Surveys</th>\n",
       "      <th>Number of Completed Surveys Footnote</th>\n",
       "      <th>Survey Response Rate Percent</th>\n",
       "      <th>Survey Response Rate Percent Footnote</th>\n",
       "      <th>Measure Start Date</th>\n",
       "      <th>Measure End Date</th>\n",
       "    </tr>\n",
       "  </thead>\n",
       "  <tbody>\n",
       "    <tr>\n",
       "      <th>0</th>\n",
       "      <td>10001</td>\n",
       "      <td>SOUTHEAST ALABAMA MEDICAL CENTER</td>\n",
       "      <td>1108 ROSS CLARK CIRCLE</td>\n",
       "      <td>DOTHAN</td>\n",
       "      <td>AL</td>\n",
       "      <td>36301</td>\n",
       "      <td>HOUSTON</td>\n",
       "      <td>3347938701</td>\n",
       "      <td>H_COMP_1_A_P</td>\n",
       "      <td>Patients who reported that their nurses \"Alway...</td>\n",
       "      <td>...</td>\n",
       "      <td>NaN</td>\n",
       "      <td>72</td>\n",
       "      <td>NaN</td>\n",
       "      <td>Not Applicable</td>\n",
       "      <td>526</td>\n",
       "      <td>NaN</td>\n",
       "      <td>21</td>\n",
       "      <td>NaN</td>\n",
       "      <td>10/1/2017</td>\n",
       "      <td>9/30/2018</td>\n",
       "    </tr>\n",
       "    <tr>\n",
       "      <th>1</th>\n",
       "      <td>10001</td>\n",
       "      <td>SOUTHEAST ALABAMA MEDICAL CENTER</td>\n",
       "      <td>1108 ROSS CLARK CIRCLE</td>\n",
       "      <td>DOTHAN</td>\n",
       "      <td>AL</td>\n",
       "      <td>36301</td>\n",
       "      <td>HOUSTON</td>\n",
       "      <td>3347938701</td>\n",
       "      <td>H_COMP_1_SN_P</td>\n",
       "      <td>Patients who reported that their nurses \"Somet...</td>\n",
       "      <td>...</td>\n",
       "      <td>NaN</td>\n",
       "      <td>9</td>\n",
       "      <td>NaN</td>\n",
       "      <td>Not Applicable</td>\n",
       "      <td>526</td>\n",
       "      <td>NaN</td>\n",
       "      <td>21</td>\n",
       "      <td>NaN</td>\n",
       "      <td>10/1/2017</td>\n",
       "      <td>9/30/2018</td>\n",
       "    </tr>\n",
       "    <tr>\n",
       "      <th>2</th>\n",
       "      <td>10001</td>\n",
       "      <td>SOUTHEAST ALABAMA MEDICAL CENTER</td>\n",
       "      <td>1108 ROSS CLARK CIRCLE</td>\n",
       "      <td>DOTHAN</td>\n",
       "      <td>AL</td>\n",
       "      <td>36301</td>\n",
       "      <td>HOUSTON</td>\n",
       "      <td>3347938701</td>\n",
       "      <td>H_COMP_1_U_P</td>\n",
       "      <td>Patients who reported that their nurses \"Usual...</td>\n",
       "      <td>...</td>\n",
       "      <td>NaN</td>\n",
       "      <td>19</td>\n",
       "      <td>NaN</td>\n",
       "      <td>Not Applicable</td>\n",
       "      <td>526</td>\n",
       "      <td>NaN</td>\n",
       "      <td>21</td>\n",
       "      <td>NaN</td>\n",
       "      <td>10/1/2017</td>\n",
       "      <td>9/30/2018</td>\n",
       "    </tr>\n",
       "    <tr>\n",
       "      <th>3</th>\n",
       "      <td>10001</td>\n",
       "      <td>SOUTHEAST ALABAMA MEDICAL CENTER</td>\n",
       "      <td>1108 ROSS CLARK CIRCLE</td>\n",
       "      <td>DOTHAN</td>\n",
       "      <td>AL</td>\n",
       "      <td>36301</td>\n",
       "      <td>HOUSTON</td>\n",
       "      <td>3347938701</td>\n",
       "      <td>H_COMP_1_LINEAR_SCORE</td>\n",
       "      <td>Nurse communication - linear mean score</td>\n",
       "      <td>...</td>\n",
       "      <td>NaN</td>\n",
       "      <td>Not Applicable</td>\n",
       "      <td>NaN</td>\n",
       "      <td>87</td>\n",
       "      <td>526</td>\n",
       "      <td>NaN</td>\n",
       "      <td>21</td>\n",
       "      <td>NaN</td>\n",
       "      <td>10/1/2017</td>\n",
       "      <td>9/30/2018</td>\n",
       "    </tr>\n",
       "    <tr>\n",
       "      <th>4</th>\n",
       "      <td>10001</td>\n",
       "      <td>SOUTHEAST ALABAMA MEDICAL CENTER</td>\n",
       "      <td>1108 ROSS CLARK CIRCLE</td>\n",
       "      <td>DOTHAN</td>\n",
       "      <td>AL</td>\n",
       "      <td>36301</td>\n",
       "      <td>HOUSTON</td>\n",
       "      <td>3347938701</td>\n",
       "      <td>H_COMP_1_STAR_RATING</td>\n",
       "      <td>Nurse communication - star rating</td>\n",
       "      <td>...</td>\n",
       "      <td>NaN</td>\n",
       "      <td>Not Applicable</td>\n",
       "      <td>NaN</td>\n",
       "      <td>Not Applicable</td>\n",
       "      <td>526</td>\n",
       "      <td>NaN</td>\n",
       "      <td>21</td>\n",
       "      <td>NaN</td>\n",
       "      <td>10/1/2017</td>\n",
       "      <td>9/30/2018</td>\n",
       "    </tr>\n",
       "  </tbody>\n",
       "</table>\n",
       "<p>5 rows × 22 columns</p>\n",
       "</div>"
      ],
      "text/plain": [
       "  Provider ID                     Hospital Name                 Address  \\\n",
       "0       10001  SOUTHEAST ALABAMA MEDICAL CENTER  1108 ROSS CLARK CIRCLE   \n",
       "1       10001  SOUTHEAST ALABAMA MEDICAL CENTER  1108 ROSS CLARK CIRCLE   \n",
       "2       10001  SOUTHEAST ALABAMA MEDICAL CENTER  1108 ROSS CLARK CIRCLE   \n",
       "3       10001  SOUTHEAST ALABAMA MEDICAL CENTER  1108 ROSS CLARK CIRCLE   \n",
       "4       10001  SOUTHEAST ALABAMA MEDICAL CENTER  1108 ROSS CLARK CIRCLE   \n",
       "\n",
       "     City State  ZIP Code County Name  Phone Number      HCAHPS Measure ID  \\\n",
       "0  DOTHAN    AL     36301     HOUSTON    3347938701           H_COMP_1_A_P   \n",
       "1  DOTHAN    AL     36301     HOUSTON    3347938701          H_COMP_1_SN_P   \n",
       "2  DOTHAN    AL     36301     HOUSTON    3347938701           H_COMP_1_U_P   \n",
       "3  DOTHAN    AL     36301     HOUSTON    3347938701  H_COMP_1_LINEAR_SCORE   \n",
       "4  DOTHAN    AL     36301     HOUSTON    3347938701   H_COMP_1_STAR_RATING   \n",
       "\n",
       "                                     HCAHPS Question  ...  \\\n",
       "0  Patients who reported that their nurses \"Alway...  ...   \n",
       "1  Patients who reported that their nurses \"Somet...  ...   \n",
       "2  Patients who reported that their nurses \"Usual...  ...   \n",
       "3            Nurse communication - linear mean score  ...   \n",
       "4                  Nurse communication - star rating  ...   \n",
       "\n",
       "  Patient Survey Star Rating Footnote HCAHPS Answer Percent  \\\n",
       "0                                 NaN                    72   \n",
       "1                                 NaN                     9   \n",
       "2                                 NaN                    19   \n",
       "3                                 NaN        Not Applicable   \n",
       "4                                 NaN        Not Applicable   \n",
       "\n",
       "  HCAHPS Answer Percent Footnote HCAHPS Linear Mean Value  \\\n",
       "0                            NaN           Not Applicable   \n",
       "1                            NaN           Not Applicable   \n",
       "2                            NaN           Not Applicable   \n",
       "3                            NaN                       87   \n",
       "4                            NaN           Not Applicable   \n",
       "\n",
       "  Number of Completed Surveys Number of Completed Surveys Footnote  \\\n",
       "0                         526                                  NaN   \n",
       "1                         526                                  NaN   \n",
       "2                         526                                  NaN   \n",
       "3                         526                                  NaN   \n",
       "4                         526                                  NaN   \n",
       "\n",
       "  Survey Response Rate Percent Survey Response Rate Percent Footnote  \\\n",
       "0                           21                                   NaN   \n",
       "1                           21                                   NaN   \n",
       "2                           21                                   NaN   \n",
       "3                           21                                   NaN   \n",
       "4                           21                                   NaN   \n",
       "\n",
       "  Measure Start Date Measure End Date  \n",
       "0          10/1/2017        9/30/2018  \n",
       "1          10/1/2017        9/30/2018  \n",
       "2          10/1/2017        9/30/2018  \n",
       "3          10/1/2017        9/30/2018  \n",
       "4          10/1/2017        9/30/2018  \n",
       "\n",
       "[5 rows x 22 columns]"
      ]
     },
     "execution_count": 53,
     "metadata": {},
     "output_type": "execute_result"
    }
   ],
   "source": [
    "hcahps_df.head(5)"
   ]
  },
  {
   "cell_type": "code",
   "execution_count": 54,
   "metadata": {},
   "outputs": [
    {
     "name": "stdout",
     "output_type": "stream",
     "text": [
      "<class 'pandas.core.frame.DataFrame'>\n",
      "RangeIndex: 455235 entries, 0 to 455234\n",
      "Data columns (total 22 columns):\n",
      "Provider ID                              455235 non-null object\n",
      "Hospital Name                            455235 non-null object\n",
      "Address                                  455235 non-null object\n",
      "City                                     455235 non-null object\n",
      "State                                    455235 non-null object\n",
      "ZIP Code                                 455235 non-null int64\n",
      "County Name                              455235 non-null object\n",
      "Phone Number                             455235 non-null int64\n",
      "HCAHPS Measure ID                        455235 non-null object\n",
      "HCAHPS Question                          455235 non-null object\n",
      "HCAHPS Answer Description                455235 non-null object\n",
      "Patient Survey Star Rating               455235 non-null object\n",
      "Patient Survey Star Rating Footnote      15103 non-null object\n",
      "HCAHPS Answer Percent                    455235 non-null object\n",
      "HCAHPS Answer Percent Footnote           108936 non-null object\n",
      "HCAHPS Linear Mean Value                 455235 non-null object\n",
      "Number of Completed Surveys              455235 non-null object\n",
      "Number of Completed Surveys Footnote     140709 non-null object\n",
      "Survey Response Rate Percent             455235 non-null object\n",
      "Survey Response Rate Percent Footnote    140709 non-null object\n",
      "Measure Start Date                       455235 non-null object\n",
      "Measure End Date                         455235 non-null object\n",
      "dtypes: int64(2), object(20)\n",
      "memory usage: 76.4+ MB\n"
     ]
    }
   ],
   "source": [
    "hcahps_df.info()"
   ]
  },
  {
   "cell_type": "code",
   "execution_count": 55,
   "metadata": {},
   "outputs": [],
   "source": [
    "hcahps_df = hcahps_df.drop(['Address', 'City', 'County Name', 'Phone Number', 'HCAHPS Answer Percent Footnote',\n",
    "              'Patient Survey Star Rating Footnote', 'Number of Completed Surveys Footnote',\n",
    "              'Survey Response Rate Percent Footnote', 'Measure Start Date', 'Measure End Date'], axis=1)"
   ]
  },
  {
   "cell_type": "markdown",
   "metadata": {},
   "source": [
    "#### unable to use dataset without significant wrangling due to current structure; \n",
    "will use only patient star rating and HCAHPS linear mean value as features at this time"
   ]
  },
  {
   "cell_type": "code",
   "execution_count": 56,
   "metadata": {},
   "outputs": [],
   "source": [
    "cols = ['Patient Survey Star Rating', 'HCAHPS Linear Mean Value']\n",
    "hcahps_df[cols] = hcahps_df[cols].apply(pd.to_numeric, errors = 'coerce', downcast = 'float')"
   ]
  },
  {
   "cell_type": "code",
   "execution_count": 57,
   "metadata": {},
   "outputs": [],
   "source": [
    "hcahps_df = hcahps_df.loc[(hcahps_df['Patient Survey Star Rating'] >0) | \n",
    "                          (hcahps_df['HCAHPS Linear Mean Value'] >0)] "
   ]
  },
  {
   "cell_type": "code",
   "execution_count": 58,
   "metadata": {},
   "outputs": [
    {
     "data": {
      "text/html": [
       "<div>\n",
       "<style scoped>\n",
       "    .dataframe tbody tr th:only-of-type {\n",
       "        vertical-align: middle;\n",
       "    }\n",
       "\n",
       "    .dataframe tbody tr th {\n",
       "        vertical-align: top;\n",
       "    }\n",
       "\n",
       "    .dataframe thead th {\n",
       "        text-align: right;\n",
       "    }\n",
       "</style>\n",
       "<table border=\"1\" class=\"dataframe\">\n",
       "  <thead>\n",
       "    <tr style=\"text-align: right;\">\n",
       "      <th></th>\n",
       "      <th>Provider ID</th>\n",
       "      <th>Hospital Name</th>\n",
       "      <th>State</th>\n",
       "      <th>ZIP Code</th>\n",
       "      <th>HCAHPS Measure ID</th>\n",
       "      <th>HCAHPS Question</th>\n",
       "      <th>HCAHPS Answer Description</th>\n",
       "      <th>Patient Survey Star Rating</th>\n",
       "      <th>HCAHPS Answer Percent</th>\n",
       "      <th>HCAHPS Linear Mean Value</th>\n",
       "      <th>Number of Completed Surveys</th>\n",
       "      <th>Survey Response Rate Percent</th>\n",
       "    </tr>\n",
       "  </thead>\n",
       "  <tbody>\n",
       "    <tr>\n",
       "      <th>3</th>\n",
       "      <td>10001</td>\n",
       "      <td>SOUTHEAST ALABAMA MEDICAL CENTER</td>\n",
       "      <td>AL</td>\n",
       "      <td>36301</td>\n",
       "      <td>H_COMP_1_LINEAR_SCORE</td>\n",
       "      <td>Nurse communication - linear mean score</td>\n",
       "      <td>Nurse communication - linear mean score</td>\n",
       "      <td>NaN</td>\n",
       "      <td>Not Applicable</td>\n",
       "      <td>87.0</td>\n",
       "      <td>526</td>\n",
       "      <td>21</td>\n",
       "    </tr>\n",
       "    <tr>\n",
       "      <th>4</th>\n",
       "      <td>10001</td>\n",
       "      <td>SOUTHEAST ALABAMA MEDICAL CENTER</td>\n",
       "      <td>AL</td>\n",
       "      <td>36301</td>\n",
       "      <td>H_COMP_1_STAR_RATING</td>\n",
       "      <td>Nurse communication - star rating</td>\n",
       "      <td>Nurse communication - star rating</td>\n",
       "      <td>2.0</td>\n",
       "      <td>Not Applicable</td>\n",
       "      <td>NaN</td>\n",
       "      <td>526</td>\n",
       "      <td>21</td>\n",
       "    </tr>\n",
       "    <tr>\n",
       "      <th>17</th>\n",
       "      <td>10001</td>\n",
       "      <td>SOUTHEAST ALABAMA MEDICAL CENTER</td>\n",
       "      <td>AL</td>\n",
       "      <td>36301</td>\n",
       "      <td>H_COMP_2_LINEAR_SCORE</td>\n",
       "      <td>Doctor communication - linear mean score</td>\n",
       "      <td>Doctor communication - linear mean score</td>\n",
       "      <td>NaN</td>\n",
       "      <td>Not Applicable</td>\n",
       "      <td>90.0</td>\n",
       "      <td>526</td>\n",
       "      <td>21</td>\n",
       "    </tr>\n",
       "    <tr>\n",
       "      <th>18</th>\n",
       "      <td>10001</td>\n",
       "      <td>SOUTHEAST ALABAMA MEDICAL CENTER</td>\n",
       "      <td>AL</td>\n",
       "      <td>36301</td>\n",
       "      <td>H_COMP_2_STAR_RATING</td>\n",
       "      <td>Doctor communication - star rating</td>\n",
       "      <td>Doctor communication - star rating</td>\n",
       "      <td>3.0</td>\n",
       "      <td>Not Applicable</td>\n",
       "      <td>NaN</td>\n",
       "      <td>526</td>\n",
       "      <td>21</td>\n",
       "    </tr>\n",
       "    <tr>\n",
       "      <th>31</th>\n",
       "      <td>10001</td>\n",
       "      <td>SOUTHEAST ALABAMA MEDICAL CENTER</td>\n",
       "      <td>AL</td>\n",
       "      <td>36301</td>\n",
       "      <td>H_COMP_3_LINEAR_SCORE</td>\n",
       "      <td>Staff responsiveness - linear mean score</td>\n",
       "      <td>Staff responsiveness - linear mean score</td>\n",
       "      <td>NaN</td>\n",
       "      <td>Not Applicable</td>\n",
       "      <td>76.0</td>\n",
       "      <td>526</td>\n",
       "      <td>21</td>\n",
       "    </tr>\n",
       "  </tbody>\n",
       "</table>\n",
       "</div>"
      ],
      "text/plain": [
       "   Provider ID                     Hospital Name State  ZIP Code  \\\n",
       "3        10001  SOUTHEAST ALABAMA MEDICAL CENTER    AL     36301   \n",
       "4        10001  SOUTHEAST ALABAMA MEDICAL CENTER    AL     36301   \n",
       "17       10001  SOUTHEAST ALABAMA MEDICAL CENTER    AL     36301   \n",
       "18       10001  SOUTHEAST ALABAMA MEDICAL CENTER    AL     36301   \n",
       "31       10001  SOUTHEAST ALABAMA MEDICAL CENTER    AL     36301   \n",
       "\n",
       "        HCAHPS Measure ID                           HCAHPS Question  \\\n",
       "3   H_COMP_1_LINEAR_SCORE   Nurse communication - linear mean score   \n",
       "4    H_COMP_1_STAR_RATING         Nurse communication - star rating   \n",
       "17  H_COMP_2_LINEAR_SCORE  Doctor communication - linear mean score   \n",
       "18   H_COMP_2_STAR_RATING        Doctor communication - star rating   \n",
       "31  H_COMP_3_LINEAR_SCORE  Staff responsiveness - linear mean score   \n",
       "\n",
       "                   HCAHPS Answer Description  Patient Survey Star Rating  \\\n",
       "3    Nurse communication - linear mean score                         NaN   \n",
       "4          Nurse communication - star rating                         2.0   \n",
       "17  Doctor communication - linear mean score                         NaN   \n",
       "18        Doctor communication - star rating                         3.0   \n",
       "31  Staff responsiveness - linear mean score                         NaN   \n",
       "\n",
       "   HCAHPS Answer Percent  HCAHPS Linear Mean Value  \\\n",
       "3         Not Applicable                      87.0   \n",
       "4         Not Applicable                       NaN   \n",
       "17        Not Applicable                      90.0   \n",
       "18        Not Applicable                       NaN   \n",
       "31        Not Applicable                      76.0   \n",
       "\n",
       "   Number of Completed Surveys Survey Response Rate Percent  \n",
       "3                          526                           21  \n",
       "4                          526                           21  \n",
       "17                         526                           21  \n",
       "18                         526                           21  \n",
       "31                         526                           21  "
      ]
     },
     "execution_count": 58,
     "metadata": {},
     "output_type": "execute_result"
    }
   ],
   "source": [
    "hcahps_df.head()"
   ]
  },
  {
   "cell_type": "code",
   "execution_count": 59,
   "metadata": {},
   "outputs": [
    {
     "name": "stdout",
     "output_type": "stream",
     "text": [
      "<class 'pandas.core.frame.DataFrame'>\n",
      "Int64Index: 73962 entries, 3 to 454955\n",
      "Data columns (total 12 columns):\n",
      "Provider ID                     73962 non-null object\n",
      "Hospital Name                   73962 non-null object\n",
      "State                           73962 non-null object\n",
      "ZIP Code                        73962 non-null int64\n",
      "HCAHPS Measure ID               73962 non-null object\n",
      "HCAHPS Question                 73962 non-null object\n",
      "HCAHPS Answer Description       73962 non-null object\n",
      "Patient Survey Star Rating      38742 non-null float32\n",
      "HCAHPS Answer Percent           73962 non-null object\n",
      "HCAHPS Linear Mean Value        35220 non-null float32\n",
      "Number of Completed Surveys     73962 non-null object\n",
      "Survey Response Rate Percent    73962 non-null object\n",
      "dtypes: float32(2), int64(1), object(9)\n",
      "memory usage: 6.8+ MB\n"
     ]
    }
   ],
   "source": [
    "hcahps_df.info()"
   ]
  },
  {
   "cell_type": "code",
   "execution_count": 60,
   "metadata": {},
   "outputs": [
    {
     "data": {
      "text/plain": [
       "array(['H_COMP_1_LINEAR_SCORE', 'H_COMP_1_STAR_RATING',\n",
       "       'H_COMP_2_LINEAR_SCORE', 'H_COMP_2_STAR_RATING',\n",
       "       'H_COMP_3_LINEAR_SCORE', 'H_COMP_3_STAR_RATING',\n",
       "       'H_COMP_5_LINEAR_SCORE', 'H_COMP_5_STAR_RATING',\n",
       "       'H_COMP_6_LINEAR_SCORE', 'H_COMP_6_STAR_RATING',\n",
       "       'H_COMP_7_LINEAR_SCORE', 'H_COMP_7_STAR_RATING',\n",
       "       'H_CLEAN_LINEAR_SCORE', 'H_CLEAN_STAR_RATING',\n",
       "       'H_QUIET_LINEAR_SCORE', 'H_QUIET_STAR_RATING',\n",
       "       'H_HSP_RATING_LINEAR_SCORE', 'H_HSP_RATING_STAR_RATING',\n",
       "       'H_RECMND_LINEAR_SCORE', 'H_RECMND_STAR_RATING', 'H_STAR_RATING'],\n",
       "      dtype=object)"
      ]
     },
     "execution_count": 60,
     "metadata": {},
     "output_type": "execute_result"
    }
   ],
   "source": [
    "hcahps_df['HCAHPS Measure ID'].unique()"
   ]
  },
  {
   "cell_type": "code",
   "execution_count": null,
   "metadata": {},
   "outputs": [],
   "source": [
    "hcahps_df = hcahps_df.drop(['HCAHPS Question', 'HCAHPS Answer Percent', 'Survey Response Rate Percent'], axis=1)"
   ]
  },
  {
   "cell_type": "markdown",
   "metadata": {},
   "source": [
    "#### original dataframe info:\n",
    "\n",
    "**unplan_readm_df:** 54093 entries reduced to 4930, measure column name = READM_30_HF, value = 1, no null; 'Compared to National' with 5 possible values - dummy; \n",
    "**readm_red_df:** 19674 entries reduced to 2670, no ZIP code column, measure column name = READM_30_HF_HRRP, value = 1, nulls removed; \n",
    "**mort_meas_df:** 91889 entries reduced to 4930, measure column name =  MORT_30_HF, value = 1; no null; 'Compared to National' with 5 possible values - dummy \n",
    "**hcahps_df:** 455235 entries reduced to \n",
    "**gen_info_df:** "
   ]
  },
  {
   "cell_type": "code",
   "execution_count": null,
   "metadata": {},
   "outputs": [],
   "source": []
  },
  {
   "cell_type": "code",
   "execution_count": null,
   "metadata": {},
   "outputs": [],
   "source": []
  },
  {
   "cell_type": "code",
   "execution_count": null,
   "metadata": {},
   "outputs": [],
   "source": []
  },
  {
   "cell_type": "code",
   "execution_count": null,
   "metadata": {},
   "outputs": [],
   "source": [
    "gen_info_df.head(3)"
   ]
  },
  {
   "cell_type": "code",
   "execution_count": null,
   "metadata": {},
   "outputs": [],
   "source": [
    "gen_info_df.info()"
   ]
  },
  {
   "cell_type": "code",
   "execution_count": null,
   "metadata": {},
   "outputs": [],
   "source": [
    "gen_info_df = gen_info_df.drop(['Address', 'City', 'County Name', 'Phone Number', 'Hospital overall rating footnote',\n",
    "                'Mortality national comparison footnote', 'Safety of care national comparison footnote',\n",
    "                'Readmission national comparison footnote', 'Patient experience national comparison footnote',\n",
    "                'Effectiveness of care national comparison footnote', 'Timeliness of care national comparison footnote',\n",
    "                'Efficient use of medical imaging national comparison footnote'], axis=1)"
   ]
  },
  {
   "cell_type": "code",
   "execution_count": null,
   "metadata": {},
   "outputs": [],
   "source": [
    "#convert to dummies\n",
    "dummy_list = ['Hospital Type', 'Hospital Ownership', 'Emergency Services', 'Meets criteria for meaningful use of EHRs', \n",
    "'Hospital overall rating', 'Mortality national comparison', 'Safety of care national comparison', 'Readmission national comparison', \n",
    "'Patient experience national comparison', 'Effectiveness of care national comparison', 'Timeliness of care national comparison', \n",
    "'Efficient use of medical imaging national comparison']"
   ]
  },
  {
   "cell_type": "code",
   "execution_count": null,
   "metadata": {},
   "outputs": [],
   "source": [
    "for column in dummy_list:\n",
    "    gen_info_df = pd.concat([gen_info_df,pd.get_dummies(gen_info_df[column], prefix=[column], drop_first=True)], axis=1)\n"
   ]
  },
  {
   "cell_type": "code",
   "execution_count": null,
   "metadata": {},
   "outputs": [],
   "source": [
    "gen_info_df.head(3)"
   ]
  },
  {
   "cell_type": "code",
   "execution_count": null,
   "metadata": {},
   "outputs": [],
   "source": [
    "gen_info_df.info()"
   ]
  },
  {
   "cell_type": "code",
   "execution_count": null,
   "metadata": {},
   "outputs": [],
   "source": [
    "gen_info_df = gen_info_df.drop(['Hospital Type', 'Hospital Ownership', 'Emergency Services', 'Meets criteria for meaningful use of EHRs', \n",
    "'Hospital overall rating', 'Mortality national comparison', 'Safety of care national comparison', 'Readmission national comparison', \n",
    "'Patient experience national comparison', 'Effectiveness of care national comparison', 'Timeliness of care national comparison', \n",
    "'Efficient use of medical imaging national comparison'], axis=1)"
   ]
  },
  {
   "cell_type": "code",
   "execution_count": null,
   "metadata": {},
   "outputs": [],
   "source": [
    "gen_info_df.info()"
   ]
  },
  {
   "cell_type": "code",
   "execution_count": null,
   "metadata": {},
   "outputs": [],
   "source": []
  },
  {
   "cell_type": "code",
   "execution_count": null,
   "metadata": {},
   "outputs": [],
   "source": []
  },
  {
   "cell_type": "markdown",
   "metadata": {},
   "source": [
    "### convert objects to floats"
   ]
  },
  {
   "cell_type": "code",
   "execution_count": null,
   "metadata": {},
   "outputs": [],
   "source": [
    "unplan_readm_df, convert cols \n",
    "readm_red_df, convert cols + Provider ID to non-null object\n",
    "mort_meas_df, convert cols \n",
    "hcahps_df, convert cols \n",
    "gen_info_df, + Provider ID to non-null object"
   ]
  },
  {
   "cell_type": "code",
   "execution_count": null,
   "metadata": {},
   "outputs": [],
   "source": []
  },
  {
   "cell_type": "code",
   "execution_count": null,
   "metadata": {},
   "outputs": [],
   "source": []
  },
  {
   "cell_type": "code",
   "execution_count": null,
   "metadata": {},
   "outputs": [],
   "source": [
    "#this converts everything (all columns) to float\n",
    "def num_convert(cols, data, x):\n",
    "    for cols in data:\n",
    "        data[cols] = data[cols].apply(pd.to_numeric, errors = 'coerce', downcast = x)"
   ]
  },
  {
   "cell_type": "code",
   "execution_count": null,
   "metadata": {},
   "outputs": [],
   "source": [
    "cols = ['Compared to National', 'Denominator', 'Score', 'Lower Estimate']\n",
    "data = unplan_readm_df\n",
    "x = 'float'\n",
    "num_convert(cols, data, x)"
   ]
  },
  {
   "cell_type": "code",
   "execution_count": null,
   "metadata": {},
   "outputs": [],
   "source": [
    "cols = ['Provider ID']\n",
    "data = unplan_readm_df\n",
    "x = 'integer'\n",
    "num_convert(cols, data, x)"
   ]
  },
  {
   "cell_type": "code",
   "execution_count": null,
   "metadata": {},
   "outputs": [],
   "source": [
    "unplan_readm_df.info()"
   ]
  },
  {
   "cell_type": "code",
   "execution_count": null,
   "metadata": {},
   "outputs": [],
   "source": [
    "unplan_readm_df['Provider ID'].isnull().sum()"
   ]
  },
  {
   "cell_type": "code",
   "execution_count": null,
   "metadata": {},
   "outputs": [],
   "source": [
    "unplan_readm_df['Provider ID'] = unplan_readm_df['Provider ID'].astype(np.int64)"
   ]
  },
  {
   "cell_type": "code",
   "execution_count": null,
   "metadata": {},
   "outputs": [],
   "source": [
    "#why did it convert all columns to float64\n",
    "unplan_readm_df.info()"
   ]
  },
  {
   "cell_type": "code",
   "execution_count": null,
   "metadata": {},
   "outputs": [],
   "source": []
  },
  {
   "cell_type": "code",
   "execution_count": null,
   "metadata": {},
   "outputs": [],
   "source": []
  },
  {
   "cell_type": "code",
   "execution_count": null,
   "metadata": {},
   "outputs": [],
   "source": []
  },
  {
   "cell_type": "markdown",
   "metadata": {},
   "source": [
    "### merge dataframes"
   ]
  },
  {
   "cell_type": "code",
   "execution_count": null,
   "metadata": {},
   "outputs": [],
   "source": [
    "hosp_readmin_df = pd.merge(unplan_readm_df, readm_red_df, on=['Provider ID', 'Hospital Name', 'State', ], how='outer')"
   ]
  },
  {
   "cell_type": "code",
   "execution_count": null,
   "metadata": {},
   "outputs": [],
   "source": [
    "hosp_readmin_df.head(3)"
   ]
  },
  {
   "cell_type": "code",
   "execution_count": null,
   "metadata": {},
   "outputs": [],
   "source": [
    "hosp_readmin_df.info()"
   ]
  },
  {
   "cell_type": "code",
   "execution_count": null,
   "metadata": {},
   "outputs": [],
   "source": []
  },
  {
   "cell_type": "code",
   "execution_count": null,
   "metadata": {},
   "outputs": [],
   "source": [
    "hosp_readmin_df = pd.merge(hosp_readmin_df, mort_meas_df, on=['Provider ID', 'Hospital Name', 'State'], how='outer')"
   ]
  },
  {
   "cell_type": "code",
   "execution_count": null,
   "metadata": {},
   "outputs": [],
   "source": [
    "hosp_readmin_df.info()"
   ]
  },
  {
   "cell_type": "code",
   "execution_count": null,
   "metadata": {},
   "outputs": [],
   "source": [
    "hosp_readmin_df = pd.merge(hosp_readmin_df, hcahps_df, on=['Provider ID', 'Hospital Name', 'State'], how='outer')"
   ]
  },
  {
   "cell_type": "code",
   "execution_count": null,
   "metadata": {},
   "outputs": [],
   "source": [
    "hosp_readmin_df.info()"
   ]
  },
  {
   "cell_type": "code",
   "execution_count": null,
   "metadata": {},
   "outputs": [],
   "source": [
    "hosp_readmin_df = hosp_readmin_df.drop(['Compared to National_x'], axis=1)"
   ]
  },
  {
   "cell_type": "code",
   "execution_count": null,
   "metadata": {},
   "outputs": [],
   "source": [
    "hosp_readmin_df = pd.merge(hosp_readmin_df, gen_info_df, on=['Provider ID', 'Hospital Name', 'State'], how='outer')"
   ]
  },
  {
   "cell_type": "code",
   "execution_count": null,
   "metadata": {},
   "outputs": [],
   "source": []
  },
  {
   "cell_type": "code",
   "execution_count": null,
   "metadata": {},
   "outputs": [],
   "source": []
  },
  {
   "cell_type": "markdown",
   "metadata": {},
   "source": [
    "### missing values"
   ]
  },
  {
   "cell_type": "code",
   "execution_count": null,
   "metadata": {},
   "outputs": [],
   "source": [
    "hcahps_df: will need to fill NaN with dummy values, do not drop rows"
   ]
  },
  {
   "cell_type": "code",
   "execution_count": null,
   "metadata": {},
   "outputs": [],
   "source": [
    "hosp_readmin_df.info()"
   ]
  },
  {
   "cell_type": "code",
   "execution_count": null,
   "metadata": {},
   "outputs": [],
   "source": [
    "hosp_readmin_df.isnull().sum()"
   ]
  },
  {
   "cell_type": "code",
   "execution_count": null,
   "metadata": {
    "scrolled": true
   },
   "outputs": [],
   "source": [
    "hosp_readmin_df.head()"
   ]
  },
  {
   "cell_type": "code",
   "execution_count": null,
   "metadata": {},
   "outputs": [],
   "source": [
    "hosp_readmin_df = hosp_readmin_df.drop(['Measure Start Date_x', 'Measure Start Date_y', 'Measure End Date_x', 'Start Date', 'End Date', 'Measure Start Date_y', \n",
    "'Measure End Date_y', 'Measure Start Date', 'Measure End Date'], axis=1)"
   ]
  },
  {
   "cell_type": "code",
   "execution_count": null,
   "metadata": {},
   "outputs": [],
   "source": [
    "#cut\n",
    "hosp_readmin_df = hosp_readmin_df.drop(['Measure Start Date_x'], axis=1)"
   ]
  },
  {
   "cell_type": "code",
   "execution_count": null,
   "metadata": {},
   "outputs": [],
   "source": [
    "hosp_readmin_df.head()"
   ]
  },
  {
   "cell_type": "code",
   "execution_count": null,
   "metadata": {},
   "outputs": [],
   "source": [
    "print(hosp_readmin_df[['Measure Name_y', 'Number of Discharges', 'Excess Readmission Ratio', 'Predicted Readmission Rate', 'Expected Readmission Rate', 'Number of Readmissions', 'Measure Name', \n",
    "'Measure ID_y', 'Compared to National_y',  'Denominator_y',  'Score_y',  'Lower Estimate_y',  'Higher Estimate_y', 'HCAHPS Measure ID', \n",
    "'HCAHPS Question', 'HCAHPS Answer Description', 'Patient Survey Star Rating', 'HCAHPS Answer Percent', 'HCAHPS Linear Mean Value', \n",
    "'Number of Completed Surveys', 'Survey Response Rate Percent', 'Hospital Type', 'Hospital Ownership']].head(10))"
   ]
  },
  {
   "cell_type": "code",
   "execution_count": null,
   "metadata": {},
   "outputs": [],
   "source": []
  },
  {
   "cell_type": "code",
   "execution_count": null,
   "metadata": {},
   "outputs": [],
   "source": [
    "hosp_readmin_df.info()"
   ]
  },
  {
   "cell_type": "code",
   "execution_count": null,
   "metadata": {},
   "outputs": [],
   "source": [
    "hosp_readmin_df.isnull()"
   ]
  },
  {
   "cell_type": "code",
   "execution_count": null,
   "metadata": {},
   "outputs": [],
   "source": [
    "hosp_readmin_df.isnull().values.any(axis=1)"
   ]
  },
  {
   "cell_type": "code",
   "execution_count": null,
   "metadata": {},
   "outputs": [],
   "source": []
  },
  {
   "cell_type": "code",
   "execution_count": null,
   "metadata": {},
   "outputs": [],
   "source": []
  },
  {
   "cell_type": "code",
   "execution_count": null,
   "metadata": {},
   "outputs": [],
   "source": []
  },
  {
   "cell_type": "code",
   "execution_count": null,
   "metadata": {},
   "outputs": [],
   "source": []
  },
  {
   "cell_type": "code",
   "execution_count": null,
   "metadata": {},
   "outputs": [],
   "source": []
  },
  {
   "cell_type": "code",
   "execution_count": null,
   "metadata": {},
   "outputs": [],
   "source": []
  },
  {
   "cell_type": "markdown",
   "metadata": {},
   "source": [
    "### creating  additional feature\n",
    "Excess Readmission Ratio: represents Hospital's \"predicted\" number of readmissions compared to CMS \"expected\" number of readmissions. \n",
    "\n",
    "Calculate the **Actual Readmission Rate** = 'actual_rrate' (number of readmissions/discharges)\n",
    "\n",
    "Calculate the **Actual Readmission Ratio** = 'actual_rratio' ('actual_rrate'/'Expected Readmission Rate') in order to compare the Excess Readmission Ratio"
   ]
  },
  {
   "cell_type": "code",
   "execution_count": null,
   "metadata": {},
   "outputs": [],
   "source": [
    "df_readmin['actual_rrate'] = df_readmin['Number of Readmissions']/df_readmin['Number of Discharges'] * 100"
   ]
  },
  {
   "cell_type": "code",
   "execution_count": null,
   "metadata": {},
   "outputs": [],
   "source": [
    "df_readmin['actual_rratio'] = df_readmin['actual_rrate']/df_readmin['Expected Readmission Rate']"
   ]
  },
  {
   "cell_type": "code",
   "execution_count": null,
   "metadata": {},
   "outputs": [],
   "source": []
  },
  {
   "cell_type": "code",
   "execution_count": null,
   "metadata": {},
   "outputs": [],
   "source": []
  },
  {
   "cell_type": "code",
   "execution_count": null,
   "metadata": {},
   "outputs": [],
   "source": []
  }
 ],
 "metadata": {
  "kernelspec": {
   "display_name": "Python 3",
   "language": "python",
   "name": "python3"
  },
  "language_info": {
   "codemirror_mode": {
    "name": "ipython",
    "version": 3
   },
   "file_extension": ".py",
   "mimetype": "text/x-python",
   "name": "python",
   "nbconvert_exporter": "python",
   "pygments_lexer": "ipython3",
   "version": "3.7.3"
  }
 },
 "nbformat": 4,
 "nbformat_minor": 2
}
