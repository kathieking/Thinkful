{
 "cells": [
  {
   "cell_type": "markdown",
   "metadata": {},
   "source": [
    "# DRILL: When to use surveys\n",
    "\n",
    "State whether a survey would be the best option for answering each of the following questions.\n",
    "\n",
    "Popularity of various Uber drivers. A grocery store wants to know how much people like strawberry, chocolate, and vanilla ice cream. Trojan wants to know whether their condoms are more popular among straight people or gay people. Recently, rental rates for HappyCars have increased by 30%, which is quite unusual. You want to find out why this is happening and how to keep the increase going. Assessing the success rate of a new advertising campaign. Measuring the effect of nurse/patient ratio on patient recovery rates in hospital wards."
   ]
  },
  {
   "cell_type": "markdown",
   "metadata": {},
   "source": [
    "Popularity of various Uber drivers.\n",
    "\n",
    "Yes, can ask one or two short questions regarding satisfation of driver on the app. "
   ]
  },
  {
   "cell_type": "markdown",
   "metadata": {},
   "source": [
    "A grocery store wants to know how much people like strawberry, chocolate, and vanilla ice cream.\n",
    "\n",
    "No, would use sales as measure. "
   ]
  },
  {
   "cell_type": "markdown",
   "metadata": {},
   "source": [
    "Trojan wants to know whether their condoms are more popular among straight people or gay people.\n",
    "\n",
    "Survey may be the best option since dealing with sensitive information that otherwise may not be available. "
   ]
  },
  {
   "cell_type": "markdown",
   "metadata": {},
   "source": [
    "Recently, rental rates for HappyCars have increased by 30%, which is quite unusual. You want to find out why this is happening and how to keep the increase going.\n",
    "\n",
    "No, survey would not be first option. Would need to review any changes in advertising, travel to location (conventions, etc), weather, promos, etc to determine if any significant difference from previous time periods. "
   ]
  },
  {
   "cell_type": "markdown",
   "metadata": {},
   "source": [
    "Assessing the success rate of a new advertising campaign.\n",
    "\n",
    "No, would use proxy measure such as sales, hits, views, etc to measure success. Also, depending on type of campaign, can build in codes/coupons with campaign information to determine if campaign brings in new customers, sales, etc. "
   ]
  },
  {
   "cell_type": "markdown",
   "metadata": {},
   "source": [
    "Measuring the effect of nurse/patient ratio on patient recovery rates in hospital wards.\n",
    "\n",
    "No. Would measure proxy measure such as length of stay, infection rate, etc of various nurse/patient ratios to determine effect. "
   ]
  }
 ],
 "metadata": {
  "kernelspec": {
   "display_name": "Python 3",
   "language": "python",
   "name": "python3"
  },
  "language_info": {
   "codemirror_mode": {
    "name": "ipython",
    "version": 3
   },
   "file_extension": ".py",
   "mimetype": "text/x-python",
   "name": "python",
   "nbconvert_exporter": "python",
   "pygments_lexer": "ipython3",
   "version": "3.7.3"
  }
 },
 "nbformat": 4,
 "nbformat_minor": 2
}
