{
 "cells": [
  {
   "cell_type": "markdown",
   "metadata": {},
   "source": [
    "### Assignment\n",
    "\n",
    "In this exercise, you'll predict house prices using your model. To complete this assignment, submit a link to a Jupyter notebook containing your solutions to the following tasks:\n",
    "\n",
    "    Load the houseprices data from Thinkful's database.\n",
    "    Split your data into train and test sets.\n",
    "    Estimate your model from the previous checkpoint in the train set. Assess the goodness of fit of your model.\n",
    "    Predict the house prices in the test set, and evaluate the performance of your model using the metrics we mentioned in this checkpoint.\n",
    "    Is the performance of your model satisfactory? Why?\n",
    "    Try to improve your model in terms of predictive performance by adding or removing some variables.\n",
    "\n",
    "Please submit a link your work notebook. This is not a graded checkpoint, but you should discuss your solutions with your mentor. Also, when you're done, compare your work to this example solution.\n",
    "\n",
    "\n"
   ]
  },
  {
   "cell_type": "markdown",
   "metadata": {},
   "source": [
    "#### Load the houseprices data from Thinkful's database"
   ]
  },
  {
   "cell_type": "code",
   "execution_count": 1,
   "metadata": {},
   "outputs": [
    {
     "data": {
      "text/html": [
       "<div>\n",
       "<style scoped>\n",
       "    .dataframe tbody tr th:only-of-type {\n",
       "        vertical-align: middle;\n",
       "    }\n",
       "\n",
       "    .dataframe tbody tr th {\n",
       "        vertical-align: top;\n",
       "    }\n",
       "\n",
       "    .dataframe thead th {\n",
       "        text-align: right;\n",
       "    }\n",
       "</style>\n",
       "<table border=\"1\" class=\"dataframe\">\n",
       "  <thead>\n",
       "    <tr style=\"text-align: right;\">\n",
       "      <th></th>\n",
       "      <th>id</th>\n",
       "      <th>mssubclass</th>\n",
       "      <th>mszoning</th>\n",
       "      <th>lotfrontage</th>\n",
       "      <th>lotarea</th>\n",
       "      <th>street</th>\n",
       "      <th>alley</th>\n",
       "      <th>lotshape</th>\n",
       "      <th>landcontour</th>\n",
       "      <th>utilities</th>\n",
       "      <th>...</th>\n",
       "      <th>poolarea</th>\n",
       "      <th>poolqc</th>\n",
       "      <th>fence</th>\n",
       "      <th>miscfeature</th>\n",
       "      <th>miscval</th>\n",
       "      <th>mosold</th>\n",
       "      <th>yrsold</th>\n",
       "      <th>saletype</th>\n",
       "      <th>salecondition</th>\n",
       "      <th>saleprice</th>\n",
       "    </tr>\n",
       "  </thead>\n",
       "  <tbody>\n",
       "    <tr>\n",
       "      <th>0</th>\n",
       "      <td>1</td>\n",
       "      <td>60</td>\n",
       "      <td>RL</td>\n",
       "      <td>65.000</td>\n",
       "      <td>8450</td>\n",
       "      <td>Pave</td>\n",
       "      <td>None</td>\n",
       "      <td>Reg</td>\n",
       "      <td>Lvl</td>\n",
       "      <td>AllPub</td>\n",
       "      <td>...</td>\n",
       "      <td>0</td>\n",
       "      <td>None</td>\n",
       "      <td>None</td>\n",
       "      <td>None</td>\n",
       "      <td>0</td>\n",
       "      <td>2</td>\n",
       "      <td>2008</td>\n",
       "      <td>WD</td>\n",
       "      <td>Normal</td>\n",
       "      <td>208500</td>\n",
       "    </tr>\n",
       "    <tr>\n",
       "      <th>1</th>\n",
       "      <td>2</td>\n",
       "      <td>20</td>\n",
       "      <td>RL</td>\n",
       "      <td>80.000</td>\n",
       "      <td>9600</td>\n",
       "      <td>Pave</td>\n",
       "      <td>None</td>\n",
       "      <td>Reg</td>\n",
       "      <td>Lvl</td>\n",
       "      <td>AllPub</td>\n",
       "      <td>...</td>\n",
       "      <td>0</td>\n",
       "      <td>None</td>\n",
       "      <td>None</td>\n",
       "      <td>None</td>\n",
       "      <td>0</td>\n",
       "      <td>5</td>\n",
       "      <td>2007</td>\n",
       "      <td>WD</td>\n",
       "      <td>Normal</td>\n",
       "      <td>181500</td>\n",
       "    </tr>\n",
       "    <tr>\n",
       "      <th>2</th>\n",
       "      <td>3</td>\n",
       "      <td>60</td>\n",
       "      <td>RL</td>\n",
       "      <td>68.000</td>\n",
       "      <td>11250</td>\n",
       "      <td>Pave</td>\n",
       "      <td>None</td>\n",
       "      <td>IR1</td>\n",
       "      <td>Lvl</td>\n",
       "      <td>AllPub</td>\n",
       "      <td>...</td>\n",
       "      <td>0</td>\n",
       "      <td>None</td>\n",
       "      <td>None</td>\n",
       "      <td>None</td>\n",
       "      <td>0</td>\n",
       "      <td>9</td>\n",
       "      <td>2008</td>\n",
       "      <td>WD</td>\n",
       "      <td>Normal</td>\n",
       "      <td>223500</td>\n",
       "    </tr>\n",
       "    <tr>\n",
       "      <th>3</th>\n",
       "      <td>4</td>\n",
       "      <td>70</td>\n",
       "      <td>RL</td>\n",
       "      <td>60.000</td>\n",
       "      <td>9550</td>\n",
       "      <td>Pave</td>\n",
       "      <td>None</td>\n",
       "      <td>IR1</td>\n",
       "      <td>Lvl</td>\n",
       "      <td>AllPub</td>\n",
       "      <td>...</td>\n",
       "      <td>0</td>\n",
       "      <td>None</td>\n",
       "      <td>None</td>\n",
       "      <td>None</td>\n",
       "      <td>0</td>\n",
       "      <td>2</td>\n",
       "      <td>2006</td>\n",
       "      <td>WD</td>\n",
       "      <td>Abnorml</td>\n",
       "      <td>140000</td>\n",
       "    </tr>\n",
       "    <tr>\n",
       "      <th>4</th>\n",
       "      <td>5</td>\n",
       "      <td>60</td>\n",
       "      <td>RL</td>\n",
       "      <td>84.000</td>\n",
       "      <td>14260</td>\n",
       "      <td>Pave</td>\n",
       "      <td>None</td>\n",
       "      <td>IR1</td>\n",
       "      <td>Lvl</td>\n",
       "      <td>AllPub</td>\n",
       "      <td>...</td>\n",
       "      <td>0</td>\n",
       "      <td>None</td>\n",
       "      <td>None</td>\n",
       "      <td>None</td>\n",
       "      <td>0</td>\n",
       "      <td>12</td>\n",
       "      <td>2008</td>\n",
       "      <td>WD</td>\n",
       "      <td>Normal</td>\n",
       "      <td>250000</td>\n",
       "    </tr>\n",
       "  </tbody>\n",
       "</table>\n",
       "<p>5 rows × 81 columns</p>\n",
       "</div>"
      ],
      "text/plain": [
       "   id  mssubclass mszoning  lotfrontage  lotarea street alley lotshape  \\\n",
       "0   1          60       RL       65.000     8450   Pave  None      Reg   \n",
       "1   2          20       RL       80.000     9600   Pave  None      Reg   \n",
       "2   3          60       RL       68.000    11250   Pave  None      IR1   \n",
       "3   4          70       RL       60.000     9550   Pave  None      IR1   \n",
       "4   5          60       RL       84.000    14260   Pave  None      IR1   \n",
       "\n",
       "  landcontour utilities  ... poolarea poolqc fence miscfeature miscval mosold  \\\n",
       "0         Lvl    AllPub  ...        0   None  None        None       0      2   \n",
       "1         Lvl    AllPub  ...        0   None  None        None       0      5   \n",
       "2         Lvl    AllPub  ...        0   None  None        None       0      9   \n",
       "3         Lvl    AllPub  ...        0   None  None        None       0      2   \n",
       "4         Lvl    AllPub  ...        0   None  None        None       0     12   \n",
       "\n",
       "  yrsold  saletype  salecondition  saleprice  \n",
       "0   2008        WD         Normal     208500  \n",
       "1   2007        WD         Normal     181500  \n",
       "2   2008        WD         Normal     223500  \n",
       "3   2006        WD        Abnorml     140000  \n",
       "4   2008        WD         Normal     250000  \n",
       "\n",
       "[5 rows x 81 columns]"
      ]
     },
     "execution_count": 1,
     "metadata": {},
     "output_type": "execute_result"
    }
   ],
   "source": [
    "import matplotlib.pyplot as plt\n",
    "import numpy as np\n",
    "import pandas as pd\n",
    "from sklearn.linear_model import LinearRegression\n",
    "from sklearn.model_selection import train_test_split\n",
    "from sklearn.metrics import mean_absolute_error\n",
    "import statsmodels.api as sm\n",
    "from statsmodels.tools.eval_measures import mse, rmse\n",
    "from sqlalchemy import create_engine\n",
    "\n",
    "# Display preferences.\n",
    "%matplotlib inline\n",
    "pd.options.display.float_format = '{:.3f}'.format\n",
    "\n",
    "import warnings\n",
    "warnings.filterwarnings(action=\"ignore\")\n",
    "\n",
    "postgres_user = 'dsbc_student'\n",
    "postgres_pw = '7*.8G9QH21'\n",
    "postgres_host = '142.93.121.174'\n",
    "postgres_port = '5432'\n",
    "postgres_db = 'houseprices'\n",
    "\n",
    "engine = create_engine('postgresql://{}:{}@{}:{}/{}'.format(\n",
    "    postgres_user, postgres_pw, postgres_host, postgres_port, postgres_db))\n",
    "houseprices_df = pd.read_sql_query('select * from houseprices',con=engine)\n",
    "\n",
    "# no need for an open connection, as we're only doing a single query\n",
    "engine.dispose()\n",
    "\n",
    "houseprices_df.head()"
   ]
  },
  {
   "cell_type": "code",
   "execution_count": 2,
   "metadata": {},
   "outputs": [],
   "source": [
    "kitchenqual_ohc_df = pd.get_dummies(houseprices_df.kitchenqual, prefix = 'kitchenqual',drop_first=True)\n",
    "houseprices_df = pd.concat([houseprices_df, kitchenqual_ohc_df], axis=1)\n",
    "\n",
    "fullbath_ohc_df = pd.get_dummies(houseprices_df.fullbath, prefix = 'fullbath', drop_first=True)\n",
    "houseprices_df = pd.concat([houseprices_df, fullbath_ohc_df], axis=1)"
   ]
  },
  {
   "cell_type": "markdown",
   "metadata": {},
   "source": [
    "#### Split your data into train and test sets"
   ]
  },
  {
   "cell_type": "code",
   "execution_count": 3,
   "metadata": {},
   "outputs": [],
   "source": [
    "#M1\n",
    "Y = houseprices_df['saleprice']\n",
    "\n",
    "X = houseprices_df[['overallqual', 'grlivarea', 'garagecars',\n",
    "            'garagearea', 'totalbsmtsf', 'firstflrsf', \n",
    "            'fullbath', 'totrmsabvgrd', 'yearbuilt',\n",
    "            'fullbath_1', 'kitchenqual_TA', 'yearremodadd']]\n"
   ]
  },
  {
   "cell_type": "code",
   "execution_count": 4,
   "metadata": {},
   "outputs": [
    {
     "name": "stdout",
     "output_type": "stream",
     "text": [
      "The number of observations in training set is 1168\n",
      "The number of observations in test set is 292\n"
     ]
    }
   ],
   "source": [
    "X_train, X_test, y_train, y_test = train_test_split(X, Y, test_size = 0.2, random_state = 465)\n",
    "\n",
    "print('The number of observations in training set is {}'.format(X_train.shape[0]))\n",
    "print('The number of observations in test set is {}'.format(X_test.shape[0]))"
   ]
  },
  {
   "cell_type": "code",
   "execution_count": 5,
   "metadata": {},
   "outputs": [
    {
     "name": "stdout",
     "output_type": "stream",
     "text": [
      "                            OLS Regression Results                            \n",
      "==============================================================================\n",
      "Dep. Variable:              saleprice   R-squared:                       0.780\n",
      "Model:                            OLS   Adj. R-squared:                  0.777\n",
      "Method:                 Least Squares   F-statistic:                     340.5\n",
      "Date:                Wed, 23 Oct 2019   Prob (F-statistic):               0.00\n",
      "Time:                        14:43:05   Log-Likelihood:                -13942.\n",
      "No. Observations:                1168   AIC:                         2.791e+04\n",
      "Df Residuals:                    1155   BIC:                         2.798e+04\n",
      "Df Model:                          12                                         \n",
      "Covariance Type:            nonrobust                                         \n",
      "==================================================================================\n",
      "                     coef    std err          t      P>|t|      [0.025      0.975]\n",
      "----------------------------------------------------------------------------------\n",
      "const          -1.083e+06   1.55e+05     -6.987      0.000   -1.39e+06   -7.79e+05\n",
      "overallqual     1.994e+04   1359.156     14.668      0.000    1.73e+04    2.26e+04\n",
      "grlivarea         39.9703      4.740      8.432      0.000      30.670      49.271\n",
      "garagecars      1.339e+04   3418.650      3.916      0.000    6679.105    2.01e+04\n",
      "garagearea        11.0270     11.361      0.971      0.332     -11.264      33.317\n",
      "totalbsmtsf       15.2353      4.564      3.338      0.001       6.280      24.191\n",
      "firstflrsf        15.5589      5.287      2.943      0.003       5.186      25.932\n",
      "fullbath        2.285e+04   5543.126      4.123      0.000     1.2e+04    3.37e+04\n",
      "totrmsabvgrd    2877.5126   1259.507      2.285      0.023     406.335    5348.690\n",
      "yearbuilt        300.6350     56.294      5.340      0.000     190.184     411.086\n",
      "fullbath_1      3.702e+04   5970.837      6.201      0.000    2.53e+04    4.87e+04\n",
      "kitchenqual_TA -1.015e+04   2870.696     -3.536      0.000   -1.58e+04   -4518.869\n",
      "yearremodadd     181.1966     74.242      2.441      0.015      35.532     326.861\n",
      "==============================================================================\n",
      "Omnibus:                      449.905   Durbin-Watson:                   1.898\n",
      "Prob(Omnibus):                  0.000   Jarque-Bera (JB):            36997.803\n",
      "Skew:                          -0.849   Prob(JB):                         0.00\n",
      "Kurtosis:                      30.520   Cond. No.                     5.14e+05\n",
      "==============================================================================\n",
      "\n",
      "Warnings:\n",
      "[1] Standard Errors assume that the covariance matrix of the errors is correctly specified.\n",
      "[2] The condition number is large, 5.14e+05. This might indicate that there are\n",
      "strong multicollinearity or other numerical problems.\n"
     ]
    }
   ],
   "source": [
    "# We add constant to the model as it's a best practice\n",
    "# to do so ever ytime!\n",
    "X_train = sm.add_constant(X_train)\n",
    "\n",
    "# We fit an OLS model using statsmodels\n",
    "results = sm.OLS(y_train, X_train).fit()\n",
    "\n",
    "# We print the summary results\n",
    "print(results.summary())"
   ]
  },
  {
   "cell_type": "markdown",
   "metadata": {},
   "source": [
    "#### Estimate your model from the previous checkpoint in the train set. Assess the goodness of fit of your model."
   ]
  },
  {
   "cell_type": "markdown",
   "metadata": {},
   "source": [
    "**M1_train set:**\n",
    "\n",
    "**F-statistic: 340.5,  Prob (F-statistic): 0.00.**\n",
    "The p-value of the F-statistic is 0.00, which indicates that the features of the model are providing useful information as compared to a reduced model. \n",
    "\n",
    "**R-squared: 0.780,  Adj. R-squared: 0.777.**\n",
    "The Adj R-sq value is 77.7% which indicates that the model explains 77.7% of the variance in house prices. This appears to be a satisfactory value. \n",
    "\n",
    "**AIC: 2.791e+04,  BIC: 2.798e+04**\n",
    "Both values appear relatively high. The AIC is lower than the BIC, which may be an indication of overfitting. The higher BIC may be due to a relatively high number of features. \n"
   ]
  },
  {
   "cell_type": "code",
   "execution_count": null,
   "metadata": {},
   "outputs": [],
   "source": []
  },
  {
   "cell_type": "markdown",
   "metadata": {},
   "source": [
    "#### Predict the house prices in the test set\n",
    "and evaluate the performance of your model using the metrics we mentioned in this checkpoint."
   ]
  },
  {
   "cell_type": "code",
   "execution_count": 6,
   "metadata": {},
   "outputs": [
    {
     "name": "stdout",
     "output_type": "stream",
     "text": [
      "Mean absolute error of the prediction is: 25651.368104416364\n",
      "Mean squared error of the prediction is: 1550241563.5339398\n",
      "Root mean squared error of the prediction is: 39373.107110487734\n",
      "Mean absolute percentage error of the prediction is: 15.526186480532326\n"
     ]
    },
    {
     "data": {
      "image/png": "[encoded data removed]",
      "text/plain": [
       "<Figure size 432x288 with 1 Axes>"
      ]
     },
     "metadata": {
      "needs_background": "light"
     },
     "output_type": "display_data"
    }
   ],
   "source": [
    "#M1_test\n",
    "X_test = sm.add_constant(X_test)\n",
    "\n",
    "# We are making predictions here\n",
    "y_preds = results.predict(X_test)\n",
    "\n",
    "plt.scatter(y_test, y_preds)\n",
    "plt.plot(y_test, y_test, color='red')\n",
    "plt.xlabel('true values')\n",
    "plt.ylabel('predicted values')\n",
    "plt.title('House prices: true and predicted values')\n",
    "\n",
    "print('Mean absolute error of the prediction is: {}'.format(mean_absolute_error(y_test, y_preds)))\n",
    "print('Mean squared error of the prediction is: {}'.format(mse(y_test, y_preds)))\n",
    "print('Root mean squared error of the prediction is: {}'.format(rmse(y_test, y_preds)))\n",
    "print('Mean absolute percentage error of the prediction is: {}'.format(np.mean(np.abs((y_test - y_preds) / y_test)) * 100))"
   ]
  },
  {
   "cell_type": "markdown",
   "metadata": {},
   "source": [
    "##### evaluate the performance of your model using the metrics\n",
    "\n",
    "MAE of the prediction is: 25651.368104416364\n",
    "MSE of the prediction is: 1550241563.5339398\n",
    "RMSE of the prediction is: 39373.107110487734\n",
    "MAPE of the prediction is: 15.526186480532326"
   ]
  },
  {
   "cell_type": "markdown",
   "metadata": {},
   "source": [
    "#### Is the performance of your model satisfactory? Why?"
   ]
  },
  {
   "cell_type": "markdown",
   "metadata": {},
   "source": [
    "The numbers in the above metrics (MAE, MSE, RMSE) are relatively high, but it is difficult to assess the meaning without something to compare them to. \n",
    "The MAPE, which is unitless, is lower than the MAPE in the example given in the checkpoint, which does seem to indicate a better performance than the example model.\n",
    "\n",
    "Regarding the graph depiction of the model's performance, it appears that the model is fairly good at making predictions in the low-mid ranges of the target, but loses some of its predictibility power above $300,000. "
   ]
  },
  {
   "cell_type": "markdown",
   "metadata": {},
   "source": [
    "#### Try to improve your model in terms of predictive performance by adding or removing some variables."
   ]
  },
  {
   "cell_type": "code",
   "execution_count": 7,
   "metadata": {},
   "outputs": [],
   "source": [
    "#M4\n",
    "Y = houseprices_df['saleprice']\n",
    "\n",
    "X = houseprices_df[['overallqual', 'grlivarea', 'garagecars',\n",
    "                    'totalbsmtsf', 'yearbuilt', 'fullbath_1',\n",
    "                    'kitchenqual_TA', 'yearremodadd', \n",
    "                    'fullbath_2', 'kitchenqual_Gd', 'kitchenqual_Fa']]\n"
   ]
  },
  {
   "cell_type": "code",
   "execution_count": 8,
   "metadata": {},
   "outputs": [
    {
     "name": "stdout",
     "output_type": "stream",
     "text": [
      "The number of observations in training set is 1168\n",
      "The number of observations in test set is 292\n"
     ]
    }
   ],
   "source": [
    "X_train, X_test, y_train, y_test = train_test_split(X, Y, test_size = 0.2, random_state = 465)\n",
    "\n",
    "print('The number of observations in training set is {}'.format(X_train.shape[0]))\n",
    "print('The number of observations in test set is {}'.format(X_test.shape[0]))"
   ]
  },
  {
   "cell_type": "code",
   "execution_count": 9,
   "metadata": {},
   "outputs": [
    {
     "name": "stdout",
     "output_type": "stream",
     "text": [
      "                            OLS Regression Results                            \n",
      "==============================================================================\n",
      "Dep. Variable:              saleprice   R-squared:                       0.795\n",
      "Model:                            OLS   Adj. R-squared:                  0.793\n",
      "Method:                 Least Squares   F-statistic:                     408.2\n",
      "Date:                Wed, 23 Oct 2019   Prob (F-statistic):               0.00\n",
      "Time:                        15:00:16   Log-Likelihood:                -13899.\n",
      "No. Observations:                1168   AIC:                         2.782e+04\n",
      "Df Residuals:                    1156   BIC:                         2.788e+04\n",
      "Df Model:                          11                                         \n",
      "Covariance Type:            nonrobust                                         \n",
      "==================================================================================\n",
      "                     coef    std err          t      P>|t|      [0.025      0.975]\n",
      "----------------------------------------------------------------------------------\n",
      "const          -8.936e+05   1.56e+05     -5.745      0.000    -1.2e+06   -5.88e+05\n",
      "overallqual     1.723e+04   1336.997     12.885      0.000    1.46e+04    1.99e+04\n",
      "grlivarea         48.2220      3.137     15.373      0.000      42.068      54.376\n",
      "garagecars      1.612e+04   1949.562      8.266      0.000    1.23e+04    1.99e+04\n",
      "totalbsmtsf       20.2067      2.941      6.871      0.000      14.437      25.976\n",
      "yearbuilt        284.9620     54.074      5.270      0.000     178.867     391.057\n",
      "fullbath_1     -2.746e+04   7365.000     -3.729      0.000   -4.19e+04    -1.3e+04\n",
      "kitchenqual_TA -5.093e+04   5429.180     -9.381      0.000   -6.16e+04   -4.03e+04\n",
      "yearremodadd     181.8575     73.128      2.487      0.013      38.379     325.336\n",
      "fullbath_2     -3.864e+04   6679.338     -5.785      0.000   -5.17e+04   -2.55e+04\n",
      "kitchenqual_Gd  -4.27e+04   4703.212     -9.078      0.000   -5.19e+04   -3.35e+04\n",
      "kitchenqual_Fa -4.351e+04   9016.537     -4.826      0.000   -6.12e+04   -2.58e+04\n",
      "==============================================================================\n",
      "Omnibus:                      647.519   Durbin-Watson:                   1.895\n",
      "Prob(Omnibus):                  0.000   Jarque-Bera (JB):            56534.593\n",
      "Skew:                          -1.659   Prob(JB):                         0.00\n",
      "Kurtosis:                      36.921   Cond. No.                     5.01e+05\n",
      "==============================================================================\n",
      "\n",
      "Warnings:\n",
      "[1] Standard Errors assume that the covariance matrix of the errors is correctly specified.\n",
      "[2] The condition number is large, 5.01e+05. This might indicate that there are\n",
      "strong multicollinearity or other numerical problems.\n"
     ]
    }
   ],
   "source": [
    "#M4_train\n",
    "# We add constant to the model as it's a best practice\n",
    "# to do so ever ytime!\n",
    "X_train = sm.add_constant(X_train)\n",
    "\n",
    "# We fit an OLS model using statsmodels\n",
    "results = sm.OLS(y_train, X_train).fit()\n",
    "\n",
    "# We print the summary results\n",
    "print(results.summary())"
   ]
  },
  {
   "cell_type": "markdown",
   "metadata": {},
   "source": [
    "**M4_train set:**\n",
    "\n",
    "**M1_train: F-statistic: 340.5,  Prob (F-statistic): 0.00,\n",
    "M4_train: F-statistic: 408.2,  Prob (F-statistic): 0.00.**\n",
    "The p-value of the F-statistic remains 0.00 from M1 to M4 training models, which indicates that the features of the model are providing useful information as compared to a reduced model. \n",
    "\n",
    "**M1_train: R-squared: 0.780,  Adj. R-squared: 0.777,\n",
    "M4_train: R-squared: 0.795,  Adj. R-squared: 0.793.**\n",
    "Both the R-sq and Adj R-sq values are higher in the M4 model. The Adj R-sq is 79.3% which indicates improvement in the second training model. \n",
    "\n",
    "**M1_train: AIC: 2.791e+04,  BIC: 2.798e+04,\n",
    "M1_train: AIC: 2.782e+04,  BIC: 2.788e+04**\n",
    "Both values are decreased from the previous model, which would indicate improvement. \n"
   ]
  },
  {
   "cell_type": "code",
   "execution_count": null,
   "metadata": {},
   "outputs": [],
   "source": []
  },
  {
   "cell_type": "code",
   "execution_count": 10,
   "metadata": {},
   "outputs": [
    {
     "name": "stdout",
     "output_type": "stream",
     "text": [
      "Mean absolute error of the prediction is: 22952.20819121185\n",
      "Mean squared error of the prediction is: 1203426572.9448853\n",
      "Root mean squared error of the prediction is: 34690.43921522017\n",
      "Mean absolute percentage error of the prediction is: 13.64161077430568\n"
     ]
    },
    {
     "data": {
      "image/png": "[encoded data removed]",
      "text/plain": [
       "<Figure size 432x288 with 1 Axes>"
      ]
     },
     "metadata": {
      "needs_background": "light"
     },
     "output_type": "display_data"
    }
   ],
   "source": [
    "#M4_test\n",
    "X_test = sm.add_constant(X_test)\n",
    "\n",
    "# We are making predictions here\n",
    "y_preds = results.predict(X_test)\n",
    "\n",
    "plt.scatter(y_test, y_preds)\n",
    "plt.plot(y_test, y_test, color='red')\n",
    "plt.xlabel('true values')\n",
    "plt.ylabel('predicted values')\n",
    "plt.title('House prices: true and predicted values')\n",
    "\n",
    "print('Mean absolute error of the prediction is: {}'.format(mean_absolute_error(y_test, y_preds)))\n",
    "print('Mean squared error of the prediction is: {}'.format(mse(y_test, y_preds)))\n",
    "print('Root mean squared error of the prediction is: {}'.format(rmse(y_test, y_preds)))\n",
    "print('Mean absolute percentage error of the prediction is: {}'.format(np.mean(np.abs((y_test - y_preds) / y_test)) * 100))"
   ]
  },
  {
   "cell_type": "markdown",
   "metadata": {},
   "source": [
    "M1_MAE of the prediction is: 25651.368104416364\n",
    "M1_MSE of the prediction is: 1550241563.5339398\n",
    "M1_RMSE of the prediction is: 39373.107110487734\n",
    "M1_MAPE of the prediction is: 15.526186480532326\n",
    "\n",
    "M4_MAE of the prediction is: 22952.20819121185\n",
    "M4_MSE of the prediction is: 1203426572.9448853\n",
    "M4_RMSE of the prediction is: 34690.43921522017\n",
    "M4_MAPE of the prediction is: 13.64161077430568\n",
    "\n",
    "All four metrics have decreased from the M1 model. As a lower number is desired, all four metric indicate improvement in the prediction of the second model over the first. "
   ]
  },
  {
   "cell_type": "code",
   "execution_count": null,
   "metadata": {},
   "outputs": [],
   "source": []
  },
  {
   "cell_type": "code",
   "execution_count": null,
   "metadata": {},
   "outputs": [],
   "source": []
  },
  {
   "cell_type": "code",
   "execution_count": null,
   "metadata": {},
   "outputs": [],
   "source": []
  },
  {
   "cell_type": "code",
   "execution_count": null,
   "metadata": {},
   "outputs": [],
   "source": []
  },
  {
   "cell_type": "code",
   "execution_count": null,
   "metadata": {},
   "outputs": [],
   "source": []
  },
  {
   "cell_type": "markdown",
   "metadata": {},
   "source": [
    "##### Run your house prices model again (M1)\n",
    "and assess the goodness of fit of your model using F-test, R-squared, adjusted R-squared, AIC and BIC."
   ]
  },
  {
   "cell_type": "code",
   "execution_count": null,
   "metadata": {},
   "outputs": [],
   "source": [
    "import statsmodels.api as sm\n",
    "\n",
    "Y = houseprices_df['saleprice']\n",
    "\n",
    "X = houseprices_df[['overallqual', 'grlivarea', 'garagecars',\n",
    "            'garagearea', 'totalbsmtsf', 'firstflrsf', \n",
    "            'fullbath', 'totrmsabvgrd', 'yearbuilt',\n",
    "            'fullbath_1', 'kitchenqual_TA', 'yearremodadd']]\n",
    "\n",
    "results = sm.OLS(Y, X).fit()\n",
    "\n",
    "results.summary()"
   ]
  },
  {
   "cell_type": "code",
   "execution_count": null,
   "metadata": {},
   "outputs": [],
   "source": []
  },
  {
   "cell_type": "markdown",
   "metadata": {},
   "source": [
    "#### Do you think your model is satisfactory? If so, why?"
   ]
  },
  {
   "cell_type": "markdown",
   "metadata": {},
   "source": [
    "The model appears satisfactory in the sense that that the Adj R-sq value is high and the p-value of the F-statistic is 0. However, there are features which are not significantly stastic and there are indications of possible overfitting. "
   ]
  },
  {
   "cell_type": "code",
   "execution_count": null,
   "metadata": {},
   "outputs": [],
   "source": []
  },
  {
   "cell_type": "markdown",
   "metadata": {},
   "source": [
    "#### In order to improve the goodness of fit of your model, try different model specifications by adding or removing some variables."
   ]
  },
  {
   "cell_type": "markdown",
   "metadata": {},
   "source": [
    "**Which features are statistically significant, and which are not?**\n",
    "\n",
    "Significant: 'overallqual', 'grlivarea', 'garagecars',\n",
    "            'totalbsmtsf', 'firstflrsf', \n",
    "            'fullbath', 'yearbuilt',\n",
    "            'fullbath_1', 'kitchenqual_TA', 'yearremodadd'\n",
    "            \n",
    "Not significant: 'garagearea', 'totrmsabvgrd', "
   ]
  },
  {
   "cell_type": "markdown",
   "metadata": {},
   "source": [
    "##### Model 2 (M2)"
   ]
  },
  {
   "cell_type": "code",
   "execution_count": null,
   "metadata": {
    "scrolled": true
   },
   "outputs": [],
   "source": [
    "Y = houseprices_df['saleprice']\n",
    "\n",
    "X = houseprices_df[['overallqual', 'grlivarea', 'garagecars',\n",
    "            'totalbsmtsf', 'firstflrsf', 'fullbath', 'yearbuilt',\n",
    "            'fullbath_1', 'kitchenqual_TA', 'yearremodadd']]\n",
    "\n",
    "results = sm.OLS(Y, X).fit()\n",
    "\n",
    "results.summary()"
   ]
  },
  {
   "cell_type": "markdown",
   "metadata": {},
   "source": [
    "#### For each model you try, get the goodness of fit metrics and compare your models with each other. Which model is the best and why?\n"
   ]
  },
  {
   "cell_type": "markdown",
   "metadata": {},
   "source": [
    "**Assess the goodness of fit of each model using F-test, R-squared, adjusted R-squared, AIC and BIC. Which model is the best and why?**\n",
    "\n",
    "**M1: F-statistic: 3121,  Prob (F-statistic): 0.00.\n",
    "M2: F-statistic:  3747,   Prob (F-statistic): 0.00.**\n",
    "\n",
    "The p-value of the F-statistic is 0.00 in each model, which indicates that the features of the model are providing useful information as compared to a reduced model. \n",
    "\n",
    "**M1:  R-squared: 0.963,  Adj. R-squared: 0.962.\n",
    "M2:  R-squared: 0.963,  Adj. R-squared: 0.962**\n",
    "\n",
    "The R-sq and Adj R-sq value remained the same from M1 to M2. The Adj R-sq value of 96.2% appears to indicatea successful model, however this high may be an indication of overfitting. \n",
    "\n",
    "**M1: AIC: 3.497e+04,  BIC: 3.503e+04, \n",
    "M2: AIC: 3.497e+04,  BIC: 3.502e+04.**\n",
    "\n",
    "There was little movement in these values. The BIC decreased slighltly, which may be an indication of an improved model.  \n",
    "\n",
    "**Features**\n",
    "All features remain significantly significant. I am mostly curious about the effect of 'fullbath', which decreased slightly this model, and 'fullbath1', which increased slightly. I will remove 'fullbath' and perhaps add the more specific number of full baths. \n",
    "\n",
    "I am also curious regarding the effect of 'kitchenqual' on the model. As it is a negative feature on the price of the house, I wonder if including the other levels of quality with improve the model. "
   ]
  },
  {
   "cell_type": "code",
   "execution_count": null,
   "metadata": {},
   "outputs": [],
   "source": []
  },
  {
   "cell_type": "markdown",
   "metadata": {},
   "source": [
    "##### Model 3 (M3)"
   ]
  },
  {
   "cell_type": "code",
   "execution_count": null,
   "metadata": {},
   "outputs": [],
   "source": [
    "Y = houseprices_df['saleprice']\n",
    "\n",
    "X = houseprices_df[['overallqual', 'grlivarea', 'garagecars',\n",
    "                    'totalbsmtsf', 'firstflrsf', 'fullbath', \n",
    "                    'yearbuilt', 'fullbath_1', 'kitchenqual_TA',\n",
    "                    'yearremodadd', 'fullbath_2', 'fullbath_3',\n",
    "                    'kitchenqual_Gd', 'kitchenqual_Fa']]\n",
    "\n",
    "results = sm.OLS(Y, X).fit()\n",
    "\n",
    "results.summary()"
   ]
  },
  {
   "cell_type": "markdown",
   "metadata": {},
   "source": [
    "**Assess the goodness of fit of each model using F-test, R-squared, adjusted R-squared, AIC and BIC. Which model is the best and why?**\n",
    "\n",
    "**M1: F-statistic: 3121,  Prob (F-statistic): 0.00,\n",
    "M2: F-statistic:  3747,   Prob (F-statistic): 0.00,\n",
    "M3: F-statistic:  3269,   Prob (F-statistic): 0.00.**\n",
    "\n",
    "The p-value of the F-statistic is 0.00 in each model, which indicates that the features of the model are providing useful information as compared to a reduced model. \n",
    "\n",
    "**M1:  R-squared: 0.963,  Adj. R-squared: 0.962,\n",
    "M2:  R-squared: 0.963,  Adj. R-squared: 0.962,\n",
    "M3:  R-squared: 0.0.967,  Adj. R-squared: 0.0.967**\n",
    "\n",
    "The R-sq and Adj R-sq values show an improvement from the values of M1 to M2. The Adj R-sq value of 96.7% appears to indicate a successful model, however this high may be an indication of overfitting. \n",
    "\n",
    "**M1: AIC: 3.497e+04,  BIC: 3.503e+04, \n",
    "M2: AIC: 3.497e+04,  BIC: 3.502e+04,\n",
    "M3: AIC: 3.479e+04,  BIC: 3.486e+04.**\n",
    "\n",
    "Both the AIC and BIC have decreased, which may be an indication of an improved model.  \n",
    "\n",
    "**Features**\n",
    "All added kitchen and bathroom features are stastically significant. All other features are significantly EXCEPT 'fullbath', which will be removed. \n",
    "\n",
    "Although 'firstflsf' remains significant, it is less so in this model. Due to its reduction in significance and the fact that it is likely overlapping with 'totalbsmtsf', I will remove it as well. "
   ]
  },
  {
   "cell_type": "code",
   "execution_count": null,
   "metadata": {},
   "outputs": [],
   "source": []
  },
  {
   "cell_type": "markdown",
   "metadata": {},
   "source": [
    "##### Model 4 (M4)"
   ]
  },
  {
   "cell_type": "code",
   "execution_count": null,
   "metadata": {},
   "outputs": [],
   "source": [
    "#will remove 'fullbath' and 'firstflsf'\n",
    "Y = houseprices_df['saleprice']\n",
    "\n",
    "X = houseprices_df[['overallqual', 'grlivarea', 'garagecars',\n",
    "                    'totalbsmtsf', 'yearbuilt', 'fullbath_1',\n",
    "                    'kitchenqual_TA', 'yearremodadd', \n",
    "                    'fullbath_2', 'fullbath_3',\n",
    "                    'kitchenqual_Gd', 'kitchenqual_Fa']]\n",
    "\n",
    "results = sm.OLS(Y, X).fit()\n",
    "\n",
    "results.summary()"
   ]
  },
  {
   "cell_type": "code",
   "execution_count": null,
   "metadata": {},
   "outputs": [],
   "source": [
    "#will remove 'fullbath_3' as it is not significant"
   ]
  },
  {
   "cell_type": "code",
   "execution_count": null,
   "metadata": {},
   "outputs": [],
   "source": [
    "#will remove 'fullbath_3'\n",
    "Y = houseprices_df['saleprice']\n",
    "\n",
    "X = houseprices_df[['overallqual', 'grlivarea', 'garagecars',\n",
    "                    'totalbsmtsf', 'yearbuilt', 'fullbath_1',\n",
    "                    'kitchenqual_TA', 'yearremodadd', \n",
    "                    'fullbath_2', 'kitchenqual_Gd', 'kitchenqual_Fa']]\n",
    "\n",
    "results = sm.OLS(Y, X).fit()\n",
    "\n",
    "results.summary()"
   ]
  },
  {
   "cell_type": "code",
   "execution_count": null,
   "metadata": {},
   "outputs": [],
   "source": []
  },
  {
   "cell_type": "markdown",
   "metadata": {},
   "source": [
    "**Aassess the goodness of fit of each model using F-test, R-squared, adjusted R-squared, AIC and BIC. Which model is the best and why?**\n",
    "\n",
    "**M1: F-statistic: 3121,  Prob (F-statistic): 0.00,\n",
    "M2: F-statistic:  3747,   Prob (F-statistic): 0.00,\n",
    "M3: F-statistic:  3269,   Prob (F-statistic): 0.00,\n",
    "M4: F-statistic:  3851.,   Prob (F-statistic): 0.00**\n",
    "\n",
    "The p-value of the F-statistic is 0.00 in each model, which indicates that the features of the model are providing useful information as compared to a reduced model. \n",
    "\n",
    "**M1:  R-squared: 0.963,  Adj. R-squared: 0.962,\n",
    "M2:  R-squared: 0.963,  Adj. R-squared: 0.962,\n",
    "M3:  R-squared: 0.0.967,  Adj. R-squared: 0.0.967,\n",
    "M4:  R-squared: 0.0.967,  Adj. R-squared: 0.0.967.**\n",
    "\n",
    "The R-sq and Adj R-sq values show an improvement from the values of M1 to M2 and remain the same from M3 to M4. The Adj R-sq value of 96.7% appears to indicate a successful model, however this high may be an indication of overfitting. \n",
    "\n",
    "**M1: AIC: 3.497e+04,  BIC: 3.503e+04, \n",
    "M2: AIC: 3.497e+04,  BIC: 3.502e+04,\n",
    "M3: AIC: 3.479e+04,  BIC: 3.486e+04,\n",
    "M4: AIC: 3.479e+04,  BIC: 3.485e+04.**\n",
    "\n",
    "The BIC has decreased, which may be an indication of an improved model.  \n",
    "\n",
    "**Features**\n",
    "All features remain stastically significant.\n",
    "\n",
    "Features which have increased in impact: \n",
    "'garagecars', 'totalbsmtsf', 'yearbuilt', 'fullbath_1' (although now a negative impact).\n",
    "\n",
    "The impact on the full bath features are interesting in that in the original model, the 'fullbath' feature ADDED 1.389e+04 and the 'fullbath_1' feature also added \n",
    "1.986e+04. With the inclusion of all the full bath features, the result is now 'fullbath_1' has a larger, but negative impact of -4.072e+04. An additional full bath 'fullbath_2' appears to reduce the value even further, -4.499e+04. I do not understand this. \n",
    "\n",
    "The addition of all the kitchen quality features has increased the impact of each of the features, but shows that the impact is dependent on the quality of the kitchen. A good quality kitchen reduces the value less than the typical and fair quality kitchens. \n",
    "\n",
    "M1 'kitchenqual_TA' = -1.736e+04,\n",
    "M4 'kitchenqual_TA' = -6.457e+04, and \n",
    "M4 'kitchenqual_Fa' = -6.299e+04\n",
    "M4 'kitchenqual_Gd' = -4.831e+04.\n"
   ]
  },
  {
   "cell_type": "code",
   "execution_count": null,
   "metadata": {},
   "outputs": [],
   "source": []
  }
 ],
 "metadata": {
  "kernelspec": {
   "display_name": "Python 3",
   "language": "python",
   "name": "python3"
  },
  "language_info": {
   "codemirror_mode": {
    "name": "ipython",
    "version": 3
   },
   "file_extension": ".py",
   "mimetype": "text/x-python",
   "name": "python",
   "nbconvert_exporter": "python",
   "pygments_lexer": "ipython3",
   "version": "3.7.3"
  }
 },
 "nbformat": 4,
 "nbformat_minor": 2
}
