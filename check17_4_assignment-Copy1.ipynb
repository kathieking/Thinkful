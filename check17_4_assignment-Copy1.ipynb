{
 "cells": [
  {
   "cell_type": "markdown",
   "metadata": {},
   "source": [
    "### Data cleaning 3: outliers Assignment"
   ]
  },
  {
   "cell_type": "markdown",
   "metadata": {},
   "source": [
    "#### Assignment\n",
    "\n",
    "In this assignment, you'll continue working with the U.S. Education Dataset from Kaggle. The data gives detailed state level information on several facets of education on an annual basis. To learn more about the data and the column descriptions, you can view the Kaggle link above.\n",
    "\n",
    "Access this data using the Thinkful database using these credentials:\n",
    "\n",
    "postgres_user = 'dsbc_student'\n",
    "postgres_pw = '7*.8G9QH21'\n",
    "postgres_host = '142.93.121.174'\n",
    "postgres_port = '5432'\n",
    "postgres_db = 'useducation'\n",
    "\n",
    "Don't forget to apply the most suitable missing value filling techniques from the previous checkpoint to the data. Provide the answers to the following only after you've addressed missing values!\n",
    "\n",
    "To complete this assignment, submit a link to a Jupyter notebook containing your solutions to the following tasks:\n",
    "\n",
    "1. Consider the two variables: TOTAL_REVENUE and TOTAL_EXPENDITURE. Do these variables have outlier values?\n",
    "2. If you detect outliers in the TOTAL_REVENUE and TOTAL_EXPENDITURE variables, apply the techniques you learned in this checkpoint to eliminate them and validate that there's no outlier values after you handled them.\n",
    "3. Create another variable by subtracting the original TOTAL_EXPENDITURE from TOTAL_REVENUE (before you eliminated the outliers). You can think of it as a kind of budget deficit in education. Do you find any outlier values in this new variable? If so, eliminate them using the technique you think most suitable.\n",
    "4. Now create another variable by subtracting the TOTAL_EXPENDITURE from TOTAL_REVENUE. This time, use the outlier eliminated versions of TOTAL_EXPENDITURE from TOTAL_REVENUE. In this newly created variable, can you find any outliers? If so, eliminate them.\n",
    "5. Compare some basic descriptive statistics of the budget variables you end up with in the 3rd and the 4th questions. Do you see any differences?"
   ]
  },
  {
   "cell_type": "markdown",
   "metadata": {},
   "source": [
    "Data source: \n",
    "https://www.kaggle.com/noriuk/us-education-datasets-unification-project/home"
   ]
  },
  {
   "cell_type": "code",
   "execution_count": 1,
   "metadata": {},
   "outputs": [],
   "source": [
    "import pandas as pd\n",
    "import numpy as np\n",
    "from sqlalchemy import create_engine\n",
    "import warnings\n",
    "import matplotlib.pyplot as plt\n",
    "\n",
    "warnings.filterwarnings('ignore')"
   ]
  },
  {
   "cell_type": "code",
   "execution_count": 2,
   "metadata": {},
   "outputs": [],
   "source": [
    "df = pd.read_csv(r'C:\\Users\\katec\\Thinkful\\data_collections\\states_all_extended.csv')"
   ]
  },
  {
   "cell_type": "code",
   "execution_count": 3,
   "metadata": {},
   "outputs": [],
   "source": [
    "postgres_user = 'dsbc_student'\n",
    "postgres_pw = '7*.8G9QH21'\n",
    "postgres_host = '142.93.121.174'\n",
    "postgres_port = '5432'\n",
    "postgres_db = 'useducation'\n",
    "\n",
    "engine = create_engine('postgresql://{}:{}@{}:{}/{}'.format(\n",
    "    postgres_user, postgres_pw, postgres_host, postgres_port, postgres_db))\n",
    "\n",
    "education_df = pd.read_sql_query('select * from useducation',con=engine)\n",
    "\n",
    "#will need to use engine.dispose() when finished with queries\n",
    "#engine.dispose()"
   ]
  },
  {
   "cell_type": "markdown",
   "metadata": {},
   "source": [
    "education_df = original df with duplicate state names combined \n",
    "education1_df = cleaned & filled df (no missing values)\n",
    "education2_df = winsored df (outliers)\n",
    "education3_df = log transformed df (outliers)\n",
    "education4_df = education1_df + BUDGET_DEFICIT column, winsor\n",
    "education5_df = education1_df + BUDGET_DEFICIT column, log transformation\n",
    "education6_df = copy education2_df (winsor) + BUDGET_DEFICIT column\n",
    "education7_df = copy education3_df (log transf) + BUDGET_DEFICIT column"
   ]
  },
  {
   "cell_type": "code",
   "execution_count": null,
   "metadata": {},
   "outputs": [],
   "source": [
    "education_df.head(10)"
   ]
  },
  {
   "cell_type": "code",
   "execution_count": null,
   "metadata": {},
   "outputs": [],
   "source": [
    "education_df.info()"
   ]
  },
  {
   "cell_type": "code",
   "execution_count": 4,
   "metadata": {},
   "outputs": [
    {
     "data": {
      "text/plain": [
       "PRIMARY_KEY                       0\n",
       "STATE                             0\n",
       "YEAR                              0\n",
       "ENROLL                          263\n",
       "TOTAL_REVENUE                   212\n",
       "FEDERAL_REVENUE                 212\n",
       "STATE_REVENUE                   212\n",
       "LOCAL_REVENUE                   212\n",
       "TOTAL_EXPENDITURE               212\n",
       "INSTRUCTION_EXPENDITURE         212\n",
       "SUPPORT_SERVICES_EXPENDITURE    212\n",
       "OTHER_EXPENDITURE               263\n",
       "CAPITAL_OUTLAY_EXPENDITURE      212\n",
       "GRADES_PK_G                     173\n",
       "GRADES_KG_G                     132\n",
       "GRADES_4_G                      131\n",
       "GRADES_8_G                      131\n",
       "GRADES_12_G                     131\n",
       "GRADES_1_8_G                    131\n",
       "GRADES_9_12_G                   131\n",
       "GRADES_ALL_G                    173\n",
       "AVG_MATH_4_SCORE                956\n",
       "AVG_MATH_8_SCORE                960\n",
       "AVG_READING_4_SCORE             959\n",
       "AVG_READING_8_SCORE             994\n",
       "dtype: int64"
      ]
     },
     "execution_count": 4,
     "metadata": {},
     "output_type": "execute_result"
    }
   ],
   "source": [
    "education_df.isnull().sum()"
   ]
  },
  {
   "cell_type": "code",
   "execution_count": 5,
   "metadata": {},
   "outputs": [
    {
     "name": "stdout",
     "output_type": "stream",
     "text": [
      "Your selected dataframe has 25 columns and 1492 Rows.\n",
      "There are 22 columns that have missing values.\n"
     ]
    },
    {
     "data": {
      "text/html": [
       "<div>\n",
       "<style scoped>\n",
       "    .dataframe tbody tr th:only-of-type {\n",
       "        vertical-align: middle;\n",
       "    }\n",
       "\n",
       "    .dataframe tbody tr th {\n",
       "        vertical-align: top;\n",
       "    }\n",
       "\n",
       "    .dataframe thead th {\n",
       "        text-align: right;\n",
       "    }\n",
       "</style>\n",
       "<table border=\"1\" class=\"dataframe\">\n",
       "  <thead>\n",
       "    <tr style=\"text-align: right;\">\n",
       "      <th></th>\n",
       "      <th>Zero Values</th>\n",
       "      <th>Missing Values</th>\n",
       "      <th>% of Total Values</th>\n",
       "      <th>Total Zero Missing Values</th>\n",
       "      <th>% Total Zero Missing Values</th>\n",
       "      <th>Data Type</th>\n",
       "    </tr>\n",
       "  </thead>\n",
       "  <tbody>\n",
       "    <tr>\n",
       "      <th>AVG_READING_8_SCORE</th>\n",
       "      <td>0</td>\n",
       "      <td>994</td>\n",
       "      <td>66.6</td>\n",
       "      <td>994</td>\n",
       "      <td>66.6</td>\n",
       "      <td>float64</td>\n",
       "    </tr>\n",
       "    <tr>\n",
       "      <th>AVG_MATH_8_SCORE</th>\n",
       "      <td>0</td>\n",
       "      <td>960</td>\n",
       "      <td>64.3</td>\n",
       "      <td>960</td>\n",
       "      <td>64.3</td>\n",
       "      <td>float64</td>\n",
       "    </tr>\n",
       "    <tr>\n",
       "      <th>AVG_READING_4_SCORE</th>\n",
       "      <td>0</td>\n",
       "      <td>959</td>\n",
       "      <td>64.3</td>\n",
       "      <td>959</td>\n",
       "      <td>64.3</td>\n",
       "      <td>float64</td>\n",
       "    </tr>\n",
       "    <tr>\n",
       "      <th>AVG_MATH_4_SCORE</th>\n",
       "      <td>0</td>\n",
       "      <td>956</td>\n",
       "      <td>64.1</td>\n",
       "      <td>956</td>\n",
       "      <td>64.1</td>\n",
       "      <td>float64</td>\n",
       "    </tr>\n",
       "    <tr>\n",
       "      <th>OTHER_EXPENDITURE</th>\n",
       "      <td>0</td>\n",
       "      <td>263</td>\n",
       "      <td>17.6</td>\n",
       "      <td>263</td>\n",
       "      <td>17.6</td>\n",
       "      <td>float64</td>\n",
       "    </tr>\n",
       "    <tr>\n",
       "      <th>ENROLL</th>\n",
       "      <td>0</td>\n",
       "      <td>263</td>\n",
       "      <td>17.6</td>\n",
       "      <td>263</td>\n",
       "      <td>17.6</td>\n",
       "      <td>float64</td>\n",
       "    </tr>\n",
       "    <tr>\n",
       "      <th>INSTRUCTION_EXPENDITURE</th>\n",
       "      <td>0</td>\n",
       "      <td>212</td>\n",
       "      <td>14.2</td>\n",
       "      <td>212</td>\n",
       "      <td>14.2</td>\n",
       "      <td>float64</td>\n",
       "    </tr>\n",
       "    <tr>\n",
       "      <th>SUPPORT_SERVICES_EXPENDITURE</th>\n",
       "      <td>0</td>\n",
       "      <td>212</td>\n",
       "      <td>14.2</td>\n",
       "      <td>212</td>\n",
       "      <td>14.2</td>\n",
       "      <td>float64</td>\n",
       "    </tr>\n",
       "    <tr>\n",
       "      <th>TOTAL_EXPENDITURE</th>\n",
       "      <td>0</td>\n",
       "      <td>212</td>\n",
       "      <td>14.2</td>\n",
       "      <td>212</td>\n",
       "      <td>14.2</td>\n",
       "      <td>float64</td>\n",
       "    </tr>\n",
       "    <tr>\n",
       "      <th>CAPITAL_OUTLAY_EXPENDITURE</th>\n",
       "      <td>0</td>\n",
       "      <td>212</td>\n",
       "      <td>14.2</td>\n",
       "      <td>212</td>\n",
       "      <td>14.2</td>\n",
       "      <td>float64</td>\n",
       "    </tr>\n",
       "    <tr>\n",
       "      <th>TOTAL_REVENUE</th>\n",
       "      <td>0</td>\n",
       "      <td>212</td>\n",
       "      <td>14.2</td>\n",
       "      <td>212</td>\n",
       "      <td>14.2</td>\n",
       "      <td>float64</td>\n",
       "    </tr>\n",
       "    <tr>\n",
       "      <th>LOCAL_REVENUE</th>\n",
       "      <td>0</td>\n",
       "      <td>212</td>\n",
       "      <td>14.2</td>\n",
       "      <td>212</td>\n",
       "      <td>14.2</td>\n",
       "      <td>float64</td>\n",
       "    </tr>\n",
       "    <tr>\n",
       "      <th>STATE_REVENUE</th>\n",
       "      <td>28</td>\n",
       "      <td>212</td>\n",
       "      <td>14.2</td>\n",
       "      <td>240</td>\n",
       "      <td>16.1</td>\n",
       "      <td>float64</td>\n",
       "    </tr>\n",
       "    <tr>\n",
       "      <th>FEDERAL_REVENUE</th>\n",
       "      <td>0</td>\n",
       "      <td>212</td>\n",
       "      <td>14.2</td>\n",
       "      <td>212</td>\n",
       "      <td>14.2</td>\n",
       "      <td>float64</td>\n",
       "    </tr>\n",
       "    <tr>\n",
       "      <th>GRADES_PK_G</th>\n",
       "      <td>2</td>\n",
       "      <td>173</td>\n",
       "      <td>11.6</td>\n",
       "      <td>175</td>\n",
       "      <td>11.7</td>\n",
       "      <td>float64</td>\n",
       "    </tr>\n",
       "    <tr>\n",
       "      <th>GRADES_ALL_G</th>\n",
       "      <td>0</td>\n",
       "      <td>173</td>\n",
       "      <td>11.6</td>\n",
       "      <td>173</td>\n",
       "      <td>11.6</td>\n",
       "      <td>float64</td>\n",
       "    </tr>\n",
       "    <tr>\n",
       "      <th>GRADES_KG_G</th>\n",
       "      <td>0</td>\n",
       "      <td>132</td>\n",
       "      <td>8.8</td>\n",
       "      <td>132</td>\n",
       "      <td>8.8</td>\n",
       "      <td>float64</td>\n",
       "    </tr>\n",
       "    <tr>\n",
       "      <th>GRADES_4_G</th>\n",
       "      <td>0</td>\n",
       "      <td>131</td>\n",
       "      <td>8.8</td>\n",
       "      <td>131</td>\n",
       "      <td>8.8</td>\n",
       "      <td>float64</td>\n",
       "    </tr>\n",
       "    <tr>\n",
       "      <th>GRADES_8_G</th>\n",
       "      <td>0</td>\n",
       "      <td>131</td>\n",
       "      <td>8.8</td>\n",
       "      <td>131</td>\n",
       "      <td>8.8</td>\n",
       "      <td>float64</td>\n",
       "    </tr>\n",
       "    <tr>\n",
       "      <th>GRADES_12_G</th>\n",
       "      <td>0</td>\n",
       "      <td>131</td>\n",
       "      <td>8.8</td>\n",
       "      <td>131</td>\n",
       "      <td>8.8</td>\n",
       "      <td>float64</td>\n",
       "    </tr>\n",
       "    <tr>\n",
       "      <th>GRADES_1_8_G</th>\n",
       "      <td>0</td>\n",
       "      <td>131</td>\n",
       "      <td>8.8</td>\n",
       "      <td>131</td>\n",
       "      <td>8.8</td>\n",
       "      <td>float64</td>\n",
       "    </tr>\n",
       "    <tr>\n",
       "      <th>GRADES_9_12_G</th>\n",
       "      <td>0</td>\n",
       "      <td>131</td>\n",
       "      <td>8.8</td>\n",
       "      <td>131</td>\n",
       "      <td>8.8</td>\n",
       "      <td>float64</td>\n",
       "    </tr>\n",
       "  </tbody>\n",
       "</table>\n",
       "</div>"
      ],
      "text/plain": [
       "                              Zero Values  Missing Values  % of Total Values  \\\n",
       "AVG_READING_8_SCORE                     0             994               66.6   \n",
       "AVG_MATH_8_SCORE                        0             960               64.3   \n",
       "AVG_READING_4_SCORE                     0             959               64.3   \n",
       "AVG_MATH_4_SCORE                        0             956               64.1   \n",
       "OTHER_EXPENDITURE                       0             263               17.6   \n",
       "ENROLL                                  0             263               17.6   \n",
       "INSTRUCTION_EXPENDITURE                 0             212               14.2   \n",
       "SUPPORT_SERVICES_EXPENDITURE            0             212               14.2   \n",
       "TOTAL_EXPENDITURE                       0             212               14.2   \n",
       "CAPITAL_OUTLAY_EXPENDITURE              0             212               14.2   \n",
       "TOTAL_REVENUE                           0             212               14.2   \n",
       "LOCAL_REVENUE                           0             212               14.2   \n",
       "STATE_REVENUE                          28             212               14.2   \n",
       "FEDERAL_REVENUE                         0             212               14.2   \n",
       "GRADES_PK_G                             2             173               11.6   \n",
       "GRADES_ALL_G                            0             173               11.6   \n",
       "GRADES_KG_G                             0             132                8.8   \n",
       "GRADES_4_G                              0             131                8.8   \n",
       "GRADES_8_G                              0             131                8.8   \n",
       "GRADES_12_G                             0             131                8.8   \n",
       "GRADES_1_8_G                            0             131                8.8   \n",
       "GRADES_9_12_G                           0             131                8.8   \n",
       "\n",
       "                              Total Zero Missing Values  \\\n",
       "AVG_READING_8_SCORE                                 994   \n",
       "AVG_MATH_8_SCORE                                    960   \n",
       "AVG_READING_4_SCORE                                 959   \n",
       "AVG_MATH_4_SCORE                                    956   \n",
       "OTHER_EXPENDITURE                                   263   \n",
       "ENROLL                                              263   \n",
       "INSTRUCTION_EXPENDITURE                             212   \n",
       "SUPPORT_SERVICES_EXPENDITURE                        212   \n",
       "TOTAL_EXPENDITURE                                   212   \n",
       "CAPITAL_OUTLAY_EXPENDITURE                          212   \n",
       "TOTAL_REVENUE                                       212   \n",
       "LOCAL_REVENUE                                       212   \n",
       "STATE_REVENUE                                       240   \n",
       "FEDERAL_REVENUE                                     212   \n",
       "GRADES_PK_G                                         175   \n",
       "GRADES_ALL_G                                        173   \n",
       "GRADES_KG_G                                         132   \n",
       "GRADES_4_G                                          131   \n",
       "GRADES_8_G                                          131   \n",
       "GRADES_12_G                                         131   \n",
       "GRADES_1_8_G                                        131   \n",
       "GRADES_9_12_G                                       131   \n",
       "\n",
       "                              % Total Zero Missing Values Data Type  \n",
       "AVG_READING_8_SCORE                                  66.6   float64  \n",
       "AVG_MATH_8_SCORE                                     64.3   float64  \n",
       "AVG_READING_4_SCORE                                  64.3   float64  \n",
       "AVG_MATH_4_SCORE                                     64.1   float64  \n",
       "OTHER_EXPENDITURE                                    17.6   float64  \n",
       "ENROLL                                               17.6   float64  \n",
       "INSTRUCTION_EXPENDITURE                              14.2   float64  \n",
       "SUPPORT_SERVICES_EXPENDITURE                         14.2   float64  \n",
       "TOTAL_EXPENDITURE                                    14.2   float64  \n",
       "CAPITAL_OUTLAY_EXPENDITURE                           14.2   float64  \n",
       "TOTAL_REVENUE                                        14.2   float64  \n",
       "LOCAL_REVENUE                                        14.2   float64  \n",
       "STATE_REVENUE                                        16.1   float64  \n",
       "FEDERAL_REVENUE                                      14.2   float64  \n",
       "GRADES_PK_G                                          11.7   float64  \n",
       "GRADES_ALL_G                                         11.6   float64  \n",
       "GRADES_KG_G                                           8.8   float64  \n",
       "GRADES_4_G                                            8.8   float64  \n",
       "GRADES_8_G                                            8.8   float64  \n",
       "GRADES_12_G                                           8.8   float64  \n",
       "GRADES_1_8_G                                          8.8   float64  \n",
       "GRADES_9_12_G                                         8.8   float64  "
      ]
     },
     "execution_count": 5,
     "metadata": {},
     "output_type": "execute_result"
    }
   ],
   "source": [
    "#from stackoverflow\n",
    "#find missing and zero values (as seen in row 8)\n",
    "def missing_zero_values_table(education_df):\n",
    "        zero_val = (education_df == 0.00).astype(int).sum(axis=0)\n",
    "        mis_val = education_df.isnull().sum()\n",
    "        mis_val_percent = 100 * education_df.isnull().sum() / len(education_df)\n",
    "        mz_table = pd.concat([zero_val, mis_val, mis_val_percent], axis=1)\n",
    "        mz_table = mz_table.rename(\n",
    "        columns = {0 : 'Zero Values', 1 : 'Missing Values', 2 : '% of Total Values'})\n",
    "        mz_table['Total Zero Missing Values'] = mz_table['Zero Values'] + mz_table['Missing Values']\n",
    "        mz_table['% Total Zero Missing Values'] = 100 * mz_table['Total Zero Missing Values'] / len(df)\n",
    "        mz_table['Data Type'] = education_df.dtypes\n",
    "        mz_table = mz_table[\n",
    "            mz_table.iloc[:,1] != 0].sort_values(\n",
    "        '% of Total Values', ascending=False).round(1)\n",
    "        print (\"Your selected dataframe has \" + str(education_df.shape[1]) + \" columns and \" + str(education_df.shape[0]) + \" Rows.\\n\"      \n",
    "            \"There are \" + str(mz_table.shape[0]) +\n",
    "              \" columns that have missing values.\")\n",
    "\n",
    "        return mz_table\n",
    "\n",
    "missing_zero_values_table(education_df)"
   ]
  },
  {
   "cell_type": "code",
   "execution_count": 6,
   "metadata": {},
   "outputs": [
    {
     "data": {
      "text/html": [
       "<div>\n",
       "<style scoped>\n",
       "    .dataframe tbody tr th:only-of-type {\n",
       "        vertical-align: middle;\n",
       "    }\n",
       "\n",
       "    .dataframe tbody tr th {\n",
       "        vertical-align: top;\n",
       "    }\n",
       "\n",
       "    .dataframe thead th {\n",
       "        text-align: right;\n",
       "    }\n",
       "</style>\n",
       "<table border=\"1\" class=\"dataframe\">\n",
       "  <thead>\n",
       "    <tr style=\"text-align: right;\">\n",
       "      <th></th>\n",
       "      <th>YEAR</th>\n",
       "      <th>ENROLL</th>\n",
       "      <th>TOTAL_REVENUE</th>\n",
       "      <th>FEDERAL_REVENUE</th>\n",
       "      <th>STATE_REVENUE</th>\n",
       "      <th>LOCAL_REVENUE</th>\n",
       "      <th>TOTAL_EXPENDITURE</th>\n",
       "      <th>INSTRUCTION_EXPENDITURE</th>\n",
       "      <th>SUPPORT_SERVICES_EXPENDITURE</th>\n",
       "      <th>OTHER_EXPENDITURE</th>\n",
       "      <th>...</th>\n",
       "      <th>GRADES_4_G</th>\n",
       "      <th>GRADES_8_G</th>\n",
       "      <th>GRADES_12_G</th>\n",
       "      <th>GRADES_1_8_G</th>\n",
       "      <th>GRADES_9_12_G</th>\n",
       "      <th>GRADES_ALL_G</th>\n",
       "      <th>AVG_MATH_4_SCORE</th>\n",
       "      <th>AVG_MATH_8_SCORE</th>\n",
       "      <th>AVG_READING_4_SCORE</th>\n",
       "      <th>AVG_READING_8_SCORE</th>\n",
       "    </tr>\n",
       "  </thead>\n",
       "  <tbody>\n",
       "    <tr>\n",
       "      <th>count</th>\n",
       "      <td>1492.000000</td>\n",
       "      <td>1.229000e+03</td>\n",
       "      <td>1.280000e+03</td>\n",
       "      <td>1.280000e+03</td>\n",
       "      <td>1.280000e+03</td>\n",
       "      <td>1.280000e+03</td>\n",
       "      <td>1.280000e+03</td>\n",
       "      <td>1.280000e+03</td>\n",
       "      <td>1.280000e+03</td>\n",
       "      <td>1.229000e+03</td>\n",
       "      <td>...</td>\n",
       "      <td>1361.000000</td>\n",
       "      <td>1361.000000</td>\n",
       "      <td>1361.00000</td>\n",
       "      <td>1.361000e+03</td>\n",
       "      <td>1.361000e+03</td>\n",
       "      <td>1.319000e+03</td>\n",
       "      <td>536.000000</td>\n",
       "      <td>532.000000</td>\n",
       "      <td>533.000000</td>\n",
       "      <td>498.000000</td>\n",
       "    </tr>\n",
       "    <tr>\n",
       "      <th>mean</th>\n",
       "      <td>2004.433646</td>\n",
       "      <td>9.159308e+05</td>\n",
       "      <td>9.092082e+06</td>\n",
       "      <td>7.663723e+05</td>\n",
       "      <td>4.216553e+06</td>\n",
       "      <td>4.109157e+06</td>\n",
       "      <td>9.196681e+06</td>\n",
       "      <td>4.762966e+06</td>\n",
       "      <td>2.680331e+06</td>\n",
       "      <td>4.292046e+05</td>\n",
       "      <td>...</td>\n",
       "      <td>64538.927259</td>\n",
       "      <td>64271.057311</td>\n",
       "      <td>54268.92432</td>\n",
       "      <td>5.192140e+05</td>\n",
       "      <td>2.470714e+05</td>\n",
       "      <td>8.024415e+05</td>\n",
       "      <td>234.768293</td>\n",
       "      <td>278.414711</td>\n",
       "      <td>218.866154</td>\n",
       "      <td>263.661132</td>\n",
       "    </tr>\n",
       "    <tr>\n",
       "      <th>std</th>\n",
       "      <td>7.393983</td>\n",
       "      <td>1.065280e+06</td>\n",
       "      <td>1.174519e+07</td>\n",
       "      <td>1.145242e+06</td>\n",
       "      <td>5.543072e+06</td>\n",
       "      <td>5.482971e+06</td>\n",
       "      <td>1.197813e+07</td>\n",
       "      <td>6.293004e+06</td>\n",
       "      <td>3.353349e+06</td>\n",
       "      <td>5.340693e+05</td>\n",
       "      <td>...</td>\n",
       "      <td>80293.387625</td>\n",
       "      <td>78910.545776</td>\n",
       "      <td>67889.27623</td>\n",
       "      <td>6.436384e+05</td>\n",
       "      <td>3.077056e+05</td>\n",
       "      <td>9.707031e+05</td>\n",
       "      <td>10.221511</td>\n",
       "      <td>10.159722</td>\n",
       "      <td>7.769616</td>\n",
       "      <td>6.803725</td>\n",
       "    </tr>\n",
       "    <tr>\n",
       "      <th>min</th>\n",
       "      <td>1992.000000</td>\n",
       "      <td>4.386600e+04</td>\n",
       "      <td>4.656500e+05</td>\n",
       "      <td>3.102000e+04</td>\n",
       "      <td>0.000000e+00</td>\n",
       "      <td>2.209300e+04</td>\n",
       "      <td>4.816650e+05</td>\n",
       "      <td>2.655490e+05</td>\n",
       "      <td>1.399630e+05</td>\n",
       "      <td>1.154100e+04</td>\n",
       "      <td>...</td>\n",
       "      <td>633.000000</td>\n",
       "      <td>437.000000</td>\n",
       "      <td>311.00000</td>\n",
       "      <td>4.878000e+03</td>\n",
       "      <td>1.808000e+03</td>\n",
       "      <td>7.254000e+03</td>\n",
       "      <td>187.134670</td>\n",
       "      <td>232.831510</td>\n",
       "      <td>178.557612</td>\n",
       "      <td>236.379102</td>\n",
       "    </tr>\n",
       "    <tr>\n",
       "      <th>25%</th>\n",
       "      <td>1998.000000</td>\n",
       "      <td>2.583140e+05</td>\n",
       "      <td>2.186305e+06</td>\n",
       "      <td>1.893540e+05</td>\n",
       "      <td>1.153097e+06</td>\n",
       "      <td>7.158345e+05</td>\n",
       "      <td>2.165404e+06</td>\n",
       "      <td>1.168032e+06</td>\n",
       "      <td>6.357900e+05</td>\n",
       "      <td>1.028310e+05</td>\n",
       "      <td>...</td>\n",
       "      <td>13739.000000</td>\n",
       "      <td>13342.000000</td>\n",
       "      <td>10919.00000</td>\n",
       "      <td>1.106260e+05</td>\n",
       "      <td>5.147100e+04</td>\n",
       "      <td>1.810650e+05</td>\n",
       "      <td>229.694352</td>\n",
       "      <td>272.761598</td>\n",
       "      <td>214.663401</td>\n",
       "      <td>259.533171</td>\n",
       "    </tr>\n",
       "    <tr>\n",
       "      <th>50%</th>\n",
       "      <td>2004.000000</td>\n",
       "      <td>6.483130e+05</td>\n",
       "      <td>5.079546e+06</td>\n",
       "      <td>4.033765e+05</td>\n",
       "      <td>2.537074e+06</td>\n",
       "      <td>2.055780e+06</td>\n",
       "      <td>5.234506e+06</td>\n",
       "      <td>2.657452e+06</td>\n",
       "      <td>1.525406e+06</td>\n",
       "      <td>2.715960e+05</td>\n",
       "      <td>...</td>\n",
       "      <td>43272.000000</td>\n",
       "      <td>43339.000000</td>\n",
       "      <td>36735.00000</td>\n",
       "      <td>3.457750e+05</td>\n",
       "      <td>1.642600e+05</td>\n",
       "      <td>5.503420e+05</td>\n",
       "      <td>237.238552</td>\n",
       "      <td>280.618803</td>\n",
       "      <td>220.416034</td>\n",
       "      <td>265.010912</td>\n",
       "    </tr>\n",
       "    <tr>\n",
       "      <th>75%</th>\n",
       "      <td>2011.000000</td>\n",
       "      <td>1.014528e+06</td>\n",
       "      <td>1.085985e+07</td>\n",
       "      <td>8.289660e+05</td>\n",
       "      <td>5.080939e+06</td>\n",
       "      <td>4.768680e+06</td>\n",
       "      <td>1.074519e+07</td>\n",
       "      <td>5.568028e+06</td>\n",
       "      <td>3.229651e+06</td>\n",
       "      <td>5.186000e+05</td>\n",
       "      <td>...</td>\n",
       "      <td>75481.000000</td>\n",
       "      <td>76566.000000</td>\n",
       "      <td>67460.00000</td>\n",
       "      <td>6.119050e+05</td>\n",
       "      <td>2.905020e+05</td>\n",
       "      <td>9.282755e+05</td>\n",
       "      <td>241.995486</td>\n",
       "      <td>285.347428</td>\n",
       "      <td>223.999337</td>\n",
       "      <td>268.190121</td>\n",
       "    </tr>\n",
       "    <tr>\n",
       "      <th>max</th>\n",
       "      <td>2017.000000</td>\n",
       "      <td>6.307022e+06</td>\n",
       "      <td>8.921726e+07</td>\n",
       "      <td>9.990221e+06</td>\n",
       "      <td>5.090457e+07</td>\n",
       "      <td>3.610526e+07</td>\n",
       "      <td>8.532013e+07</td>\n",
       "      <td>4.396452e+07</td>\n",
       "      <td>2.605802e+07</td>\n",
       "      <td>3.995951e+06</td>\n",
       "      <td>...</td>\n",
       "      <td>493415.000000</td>\n",
       "      <td>500143.000000</td>\n",
       "      <td>498403.00000</td>\n",
       "      <td>3.929869e+06</td>\n",
       "      <td>2.013687e+06</td>\n",
       "      <td>5.944746e+06</td>\n",
       "      <td>253.420961</td>\n",
       "      <td>300.568235</td>\n",
       "      <td>236.773867</td>\n",
       "      <td>280.499130</td>\n",
       "    </tr>\n",
       "  </tbody>\n",
       "</table>\n",
       "<p>8 rows × 23 columns</p>\n",
       "</div>"
      ],
      "text/plain": [
       "              YEAR        ENROLL  TOTAL_REVENUE  FEDERAL_REVENUE  \\\n",
       "count  1492.000000  1.229000e+03   1.280000e+03     1.280000e+03   \n",
       "mean   2004.433646  9.159308e+05   9.092082e+06     7.663723e+05   \n",
       "std       7.393983  1.065280e+06   1.174519e+07     1.145242e+06   \n",
       "min    1992.000000  4.386600e+04   4.656500e+05     3.102000e+04   \n",
       "25%    1998.000000  2.583140e+05   2.186305e+06     1.893540e+05   \n",
       "50%    2004.000000  6.483130e+05   5.079546e+06     4.033765e+05   \n",
       "75%    2011.000000  1.014528e+06   1.085985e+07     8.289660e+05   \n",
       "max    2017.000000  6.307022e+06   8.921726e+07     9.990221e+06   \n",
       "\n",
       "       STATE_REVENUE  LOCAL_REVENUE  TOTAL_EXPENDITURE  \\\n",
       "count   1.280000e+03   1.280000e+03       1.280000e+03   \n",
       "mean    4.216553e+06   4.109157e+06       9.196681e+06   \n",
       "std     5.543072e+06   5.482971e+06       1.197813e+07   \n",
       "min     0.000000e+00   2.209300e+04       4.816650e+05   \n",
       "25%     1.153097e+06   7.158345e+05       2.165404e+06   \n",
       "50%     2.537074e+06   2.055780e+06       5.234506e+06   \n",
       "75%     5.080939e+06   4.768680e+06       1.074519e+07   \n",
       "max     5.090457e+07   3.610526e+07       8.532013e+07   \n",
       "\n",
       "       INSTRUCTION_EXPENDITURE  SUPPORT_SERVICES_EXPENDITURE  \\\n",
       "count             1.280000e+03                  1.280000e+03   \n",
       "mean              4.762966e+06                  2.680331e+06   \n",
       "std               6.293004e+06                  3.353349e+06   \n",
       "min               2.655490e+05                  1.399630e+05   \n",
       "25%               1.168032e+06                  6.357900e+05   \n",
       "50%               2.657452e+06                  1.525406e+06   \n",
       "75%               5.568028e+06                  3.229651e+06   \n",
       "max               4.396452e+07                  2.605802e+07   \n",
       "\n",
       "       OTHER_EXPENDITURE  ...     GRADES_4_G     GRADES_8_G   GRADES_12_G  \\\n",
       "count       1.229000e+03  ...    1361.000000    1361.000000    1361.00000   \n",
       "mean        4.292046e+05  ...   64538.927259   64271.057311   54268.92432   \n",
       "std         5.340693e+05  ...   80293.387625   78910.545776   67889.27623   \n",
       "min         1.154100e+04  ...     633.000000     437.000000     311.00000   \n",
       "25%         1.028310e+05  ...   13739.000000   13342.000000   10919.00000   \n",
       "50%         2.715960e+05  ...   43272.000000   43339.000000   36735.00000   \n",
       "75%         5.186000e+05  ...   75481.000000   76566.000000   67460.00000   \n",
       "max         3.995951e+06  ...  493415.000000  500143.000000  498403.00000   \n",
       "\n",
       "       GRADES_1_8_G  GRADES_9_12_G  GRADES_ALL_G  AVG_MATH_4_SCORE  \\\n",
       "count  1.361000e+03   1.361000e+03  1.319000e+03        536.000000   \n",
       "mean   5.192140e+05   2.470714e+05  8.024415e+05        234.768293   \n",
       "std    6.436384e+05   3.077056e+05  9.707031e+05         10.221511   \n",
       "min    4.878000e+03   1.808000e+03  7.254000e+03        187.134670   \n",
       "25%    1.106260e+05   5.147100e+04  1.810650e+05        229.694352   \n",
       "50%    3.457750e+05   1.642600e+05  5.503420e+05        237.238552   \n",
       "75%    6.119050e+05   2.905020e+05  9.282755e+05        241.995486   \n",
       "max    3.929869e+06   2.013687e+06  5.944746e+06        253.420961   \n",
       "\n",
       "       AVG_MATH_8_SCORE  AVG_READING_4_SCORE  AVG_READING_8_SCORE  \n",
       "count        532.000000           533.000000           498.000000  \n",
       "mean         278.414711           218.866154           263.661132  \n",
       "std           10.159722             7.769616             6.803725  \n",
       "min          232.831510           178.557612           236.379102  \n",
       "25%          272.761598           214.663401           259.533171  \n",
       "50%          280.618803           220.416034           265.010912  \n",
       "75%          285.347428           223.999337           268.190121  \n",
       "max          300.568235           236.773867           280.499130  \n",
       "\n",
       "[8 rows x 23 columns]"
      ]
     },
     "execution_count": 6,
     "metadata": {},
     "output_type": "execute_result"
    }
   ],
   "source": [
    "education_df.describe()"
   ]
  },
  {
   "cell_type": "code",
   "execution_count": null,
   "metadata": {},
   "outputs": [],
   "source": []
  },
  {
   "cell_type": "markdown",
   "metadata": {},
   "source": [
    "Don't forget to apply the most suitable missing value filling techniques from the previous checkpoint to the data. Provide the answers to the following only after you've addressed missing values!"
   ]
  },
  {
   "cell_type": "code",
   "execution_count": 7,
   "metadata": {},
   "outputs": [
    {
     "data": {
      "text/plain": [
       "array(['ALABAMA', 'ALASKA', 'ARIZONA', 'ARKANSAS', 'CALIFORNIA',\n",
       "       'COLORADO', 'CONNECTICUT', 'DELAWARE', 'DISTRICT_OF_COLUMBIA',\n",
       "       'FLORIDA', 'GEORGIA', 'HAWAII', 'IDAHO', 'ILLINOIS', 'INDIANA',\n",
       "       'IOWA', 'KANSAS', 'KENTUCKY', 'LOUISIANA', 'MAINE', 'MARYLAND',\n",
       "       'MASSACHUSETTS', 'MICHIGAN', 'MINNESOTA', 'MISSISSIPPI',\n",
       "       'MISSOURI', 'MONTANA', 'NEBRASKA', 'NEVADA', 'NEW_HAMPSHIRE',\n",
       "       'NEW_JERSEY', 'NEW_MEXICO', 'NEW_YORK', 'NORTH_CAROLINA',\n",
       "       'NORTH_DAKOTA', 'OHIO', 'WYOMING', 'OKLAHOMA', 'OREGON',\n",
       "       'PENNSYLVANIA', 'RHODE_ISLAND', 'SOUTH_CAROLINA', 'SOUTH_DAKOTA',\n",
       "       'TENNESSEE', 'TEXAS', 'UTAH', 'VERMONT', 'VIRGINIA', 'WASHINGTON',\n",
       "       'WEST_VIRGINIA', 'WISCONSIN', 'BUREAU_OF_INDIAN_AFFAIRS',\n",
       "       'DOD_OVERSEAS', 'DOD_DOMESTIC', 'AMERICAN_SAMOA', 'GUAM',\n",
       "       'NORTHERN_MARIANAS', 'PUERTO_RICO', 'VIRGIN_ISLANDS', 'BI', 'DD',\n",
       "       'NORTHERN_MARIANA_ISLANDS', 'DEPARTMENT_OF_DEFENSE',\n",
       "       'BUREAU_OF_INDIAN_EDUCATION',\n",
       "       'DEPARTMENT_OF_DEFENSE_EDUCATION_ACTIVITY', 'U.S._VIRGIN_ISLANDS',\n",
       "       'DOD_(OVERSEAS_AND_DOMESTIC_COMBINED)', 'BIE', 'DOD_-_FOREIGN',\n",
       "       'COMMONWEALTH_OF_MARIANAS', 'AS', 'GU', 'MP', 'PR', 'VI',\n",
       "       'MARIANAS', 'BUREAU_OF_INDIAN_EDUCATIO', 'DOD_-_OVERSEAS',\n",
       "       'DOD_-_DOMESTIC', 'DOD'], dtype=object)"
      ]
     },
     "execution_count": 7,
     "metadata": {},
     "output_type": "execute_result"
    }
   ],
   "source": [
    "education_df['STATE'].unique()"
   ]
  },
  {
   "cell_type": "code",
   "execution_count": 8,
   "metadata": {},
   "outputs": [],
   "source": [
    "education_df.replace(['BI', 'BIE', 'BUREAU_OF_INDIAN_EDUCATIO', 'BUREAU_OF_INDIAN_EDUCATION'], \n",
    "                            'BUREAU_OF_INDIAN_AFFAIRS', inplace = True) "
   ]
  },
  {
   "cell_type": "code",
   "execution_count": 9,
   "metadata": {},
   "outputs": [],
   "source": [
    "education_df.replace(['DOD_OVERSEAS', 'DOD_DOMESTIC', 'DD', 'DEPARTMENT_OF_DEFENSE_EDUCATION_ACTIVITY', 'DEPARTMENT_OF_DEFENSE_EDUCATION_ACTIVITY', 'DOD_(OVERSEAS_AND_DOMESTIC_COMBINED)', 'DOD_-_FOREIGN', 'DOD_-_OVERSEAS', 'DOD_-_DOMESTIC', 'DOD'], \n",
    "                            'DEPARTMENT_OF_DEFENSE', inplace = True) "
   ]
  },
  {
   "cell_type": "code",
   "execution_count": 10,
   "metadata": {},
   "outputs": [],
   "source": [
    "education_df.replace('GU', 'GUAM', inplace = True)"
   ]
  },
  {
   "cell_type": "code",
   "execution_count": 11,
   "metadata": {},
   "outputs": [],
   "source": [
    "education_df.replace(['NORTHERN_MARIANAS','NORTHERN_MARIANA_ISLANDS', 'MP','COMMONWEALTH_OF_MARIANAS'], \n",
    "                            'MARIANAS', inplace = True) "
   ]
  },
  {
   "cell_type": "code",
   "execution_count": 12,
   "metadata": {},
   "outputs": [],
   "source": [
    "education_df.replace('AS','AMERICAN_SAMOA', inplace = True) "
   ]
  },
  {
   "cell_type": "code",
   "execution_count": 13,
   "metadata": {},
   "outputs": [],
   "source": [
    "education_df.replace('VI', 'U.S._VIRGIN_ISLANDS', inplace = True) "
   ]
  },
  {
   "cell_type": "code",
   "execution_count": 14,
   "metadata": {},
   "outputs": [],
   "source": [
    "education_df.replace('PR', 'PUERTO_RICO', inplace = True) "
   ]
  },
  {
   "cell_type": "code",
   "execution_count": 15,
   "metadata": {},
   "outputs": [
    {
     "name": "stdout",
     "output_type": "stream",
     "text": [
      "['ALABAMA' 'ALASKA' 'ARIZONA' 'ARKANSAS' 'CALIFORNIA' 'COLORADO'\n",
      " 'CONNECTICUT' 'DELAWARE' 'DISTRICT_OF_COLUMBIA' 'FLORIDA' 'GEORGIA'\n",
      " 'HAWAII' 'IDAHO' 'ILLINOIS' 'INDIANA' 'IOWA' 'KANSAS' 'KENTUCKY'\n",
      " 'LOUISIANA' 'MAINE' 'MARYLAND' 'MASSACHUSETTS' 'MICHIGAN' 'MINNESOTA'\n",
      " 'MISSISSIPPI' 'MISSOURI' 'MONTANA' 'NEBRASKA' 'NEVADA' 'NEW_HAMPSHIRE'\n",
      " 'NEW_JERSEY' 'NEW_MEXICO' 'NEW_YORK' 'NORTH_CAROLINA' 'NORTH_DAKOTA'\n",
      " 'OHIO' 'WYOMING' 'OKLAHOMA' 'OREGON' 'PENNSYLVANIA' 'RHODE_ISLAND'\n",
      " 'SOUTH_CAROLINA' 'SOUTH_DAKOTA' 'TENNESSEE' 'TEXAS' 'UTAH' 'VERMONT'\n",
      " 'VIRGINIA' 'WASHINGTON' 'WEST_VIRGINIA' 'WISCONSIN'\n",
      " 'BUREAU_OF_INDIAN_AFFAIRS' 'DEPARTMENT_OF_DEFENSE' 'AMERICAN_SAMOA'\n",
      " 'GUAM' 'MARIANAS' 'PUERTO_RICO' 'VIRGIN_ISLANDS' 'U.S._VIRGIN_ISLANDS']\n"
     ]
    }
   ],
   "source": [
    "print(education_df['STATE'].unique())"
   ]
  },
  {
   "cell_type": "code",
   "execution_count": 16,
   "metadata": {},
   "outputs": [],
   "source": [
    "education1_df = education_df.copy()"
   ]
  },
  {
   "cell_type": "code",
   "execution_count": 17,
   "metadata": {},
   "outputs": [],
   "source": [
    "fill_list = ['ENROLL', 'TOTAL_REVENUE', 'FEDERAL_REVENUE', 'STATE_REVENUE', 'LOCAL_REVENUE', 'TOTAL_EXPENDITURE', 'INSTRUCTION_EXPENDITURE','SUPPORT_SERVICES_EXPENDITURE', 'OTHER_EXPENDITURE', 'CAPITAL_OUTLAY_EXPENDITURE', 'GRADES_PK_G', 'GRADES_KG_G', 'GRADES_4_G', 'GRADES_8_G', 'GRADES_12_G', 'GRADES_1_8_G', 'GRADES_9_12_G', 'GRADES_ALL_G', 'AVG_MATH_4_SCORE', 'AVG_MATH_8_SCORE', 'AVG_READING_4_SCORE','AVG_READING_8_SCORE'] "
   ]
  },
  {
   "cell_type": "code",
   "execution_count": 18,
   "metadata": {},
   "outputs": [
    {
     "name": "stdout",
     "output_type": "stream",
     "text": [
      "ALABAMA\n",
      "YEAR                            2.004500e+03\n",
      "ENROLL                          7.365843e+05\n",
      "TOTAL_REVENUE                   5.545855e+06\n",
      "FEDERAL_REVENUE                 6.037489e+05\n",
      "STATE_REVENUE                   3.188192e+06\n",
      "LOCAL_REVENUE                   1.753914e+06\n",
      "TOTAL_EXPENDITURE               5.690279e+06\n",
      "INSTRUCTION_EXPENDITURE         2.937209e+06\n",
      "SUPPORT_SERVICES_EXPENDITURE    1.673646e+06\n",
      "OTHER_EXPENDITURE               4.613081e+05\n",
      "CAPITAL_OUTLAY_EXPENDITURE      5.177796e+05\n",
      "GRADES_PK_G                     8.127250e+03\n",
      "GRADES_KG_G                     5.730562e+04\n",
      "GRADES_4_G                      5.748917e+04\n",
      "GRADES_8_G                      5.816517e+04\n",
      "GRADES_12_G                     4.497908e+04\n",
      "GRADES_1_8_G                    4.663099e+05\n",
      "GRADES_9_12_G                   2.104376e+05\n",
      "GRADES_ALL_G                    6.848748e+05\n",
      "AVG_MATH_4_SCORE                2.245554e+02\n",
      "AVG_MATH_8_SCORE                2.638885e+02\n",
      "AVG_READING_4_SCORE             2.132346e+02\n",
      "AVG_READING_8_SCORE             2.640814e+02\n",
      "dtype: float64\n",
      "ALASKA\n",
      "YEAR                            2.004500e+03\n",
      "ENROLL                          1.908528e+05\n",
      "TOTAL_REVENUE                   2.003580e+06\n",
      "FEDERAL_REVENUE                 2.713858e+05\n",
      "STATE_REVENUE                   1.190751e+06\n",
      "LOCAL_REVENUE                   5.414434e+05\n",
      "TOTAL_EXPENDITURE               2.101475e+06\n",
      "INSTRUCTION_EXPENDITURE         1.041126e+06\n",
      "SUPPORT_SERVICES_EXPENDITURE    7.089017e+05\n",
      "OTHER_EXPENDITURE               8.823597e+04\n",
      "CAPITAL_OUTLAY_EXPENDITURE      2.279287e+05\n",
      "GRADES_PK_G                     3.421970e+03\n",
      "GRADES_KG_G                     1.422314e+04\n",
      "GRADES_4_G                      1.423330e+04\n",
      "GRADES_8_G                      1.415466e+04\n",
      "GRADES_12_G                     1.225292e+04\n",
      "GRADES_1_8_G                    1.143672e+05\n",
      "GRADES_9_12_G                   5.444007e+04\n",
      "GRADES_ALL_G                    1.736565e+05\n",
      "AVG_MATH_4_SCORE                2.345057e+02\n",
      "AVG_MATH_8_SCORE                2.791009e+02\n",
      "AVG_READING_4_SCORE             2.163425e+02\n",
      "AVG_READING_8_SCORE             2.635240e+02\n",
      "dtype: float64\n",
      "ARIZONA\n",
      "YEAR                            2.004500e+03\n",
      "ENROLL                          8.775228e+05\n",
      "TOTAL_REVENUE                   6.674159e+06\n",
      "FEDERAL_REVENUE                 7.857430e+05\n",
      "STATE_REVENUE                   2.826880e+06\n",
      "LOCAL_REVENUE                   3.061536e+06\n",
      "TOTAL_EXPENDITURE               6.651516e+06\n",
      "INSTRUCTION_EXPENDITURE         3.091345e+06\n",
      "SUPPORT_SERVICES_EXPENDITURE    2.096469e+06\n",
      "OTHER_EXPENDITURE               3.417018e+05\n",
      "CAPITAL_OUTLAY_EXPENDITURE      8.458704e+05\n",
      "GRADES_PK_G                     8.449393e+03\n",
      "GRADES_KG_G                     7.379917e+04\n",
      "GRADES_4_G                      7.375169e+04\n",
      "GRADES_8_G                      7.139974e+04\n",
      "GRADES_12_G                     6.255407e+04\n",
      "GRADES_1_8_G                    5.904972e+05\n",
      "GRADES_9_12_G                   2.723970e+05\n",
      "GRADES_ALL_G                    8.727709e+05\n",
      "AVG_MATH_4_SCORE                2.323566e+02\n",
      "AVG_MATH_8_SCORE                2.770178e+02\n",
      "AVG_READING_4_SCORE             2.151121e+02\n",
      "AVG_READING_8_SCORE             2.637416e+02\n",
      "dtype: float64\n",
      "ARKANSAS\n",
      "YEAR                            2.004500e+03\n",
      "ENROLL                          4.875964e+05\n",
      "TOTAL_REVENUE                   3.822199e+06\n",
      "FEDERAL_REVENUE                 4.212180e+05\n",
      "STATE_REVENUE                   2.665663e+06\n",
      "LOCAL_REVENUE                   7.353179e+05\n",
      "TOTAL_EXPENDITURE               3.918840e+06\n",
      "INSTRUCTION_EXPENDITURE         1.998271e+06\n",
      "SUPPORT_SERVICES_EXPENDITURE    1.181510e+06\n",
      "OTHER_EXPENDITURE               2.672180e+05\n",
      "CAPITAL_OUTLAY_EXPENDITURE      3.621743e+05\n",
      "GRADES_PK_G                     8.163932e+03\n",
      "GRADES_KG_G                     3.875421e+04\n",
      "GRADES_4_G                      3.748757e+04\n",
      "GRADES_8_G                      3.843743e+04\n",
      "GRADES_12_G                     3.137865e+04\n",
      "GRADES_1_8_G                    3.042364e+05\n",
      "GRADES_9_12_G                   1.430415e+05\n",
      "GRADES_ALL_G                    4.568692e+05\n",
      "AVG_MATH_4_SCORE                2.327372e+02\n",
      "AVG_MATH_8_SCORE                2.749494e+02\n",
      "AVG_READING_4_SCORE             2.171706e+02\n",
      "AVG_READING_8_SCORE             2.637236e+02\n",
      "dtype: float64\n",
      "CALIFORNIA\n",
      "YEAR                            2.004500e+03\n",
      "ENROLL                          5.558465e+06\n",
      "TOTAL_REVENUE                   5.400277e+07\n",
      "FEDERAL_REVENUE                 5.595424e+06\n",
      "STATE_REVENUE                   2.994033e+07\n",
      "LOCAL_REVENUE                   1.846701e+07\n",
      "TOTAL_EXPENDITURE               5.443819e+07\n",
      "INSTRUCTION_EXPENDITURE         2.699374e+07\n",
      "SUPPORT_SERVICES_EXPENDITURE    1.571578e+07\n",
      "OTHER_EXPENDITURE               2.716850e+06\n",
      "CAPITAL_OUTLAY_EXPENDITURE      5.956297e+06\n",
      "GRADES_PK_G                     7.643334e+04\n",
      "GRADES_KG_G                     4.368162e+05\n",
      "GRADES_4_G                      4.338160e+05\n",
      "GRADES_8_G                      4.214014e+05\n",
      "GRADES_12_G                     3.731822e+05\n",
      "GRADES_1_8_G                    3.457625e+06\n",
      "GRADES_9_12_G                   1.666630e+06\n",
      "GRADES_ALL_G                    5.013476e+06\n",
      "AVG_MATH_4_SCORE                2.309146e+02\n",
      "AVG_MATH_8_SCORE                2.745819e+02\n",
      "AVG_READING_4_SCORE             2.142315e+02\n",
      "AVG_READING_8_SCORE             2.629848e+02\n",
      "dtype: float64\n",
      "COLORADO\n",
      "YEAR                            2.004500e+03\n",
      "ENROLL                          7.642111e+05\n",
      "TOTAL_REVENUE                   6.559426e+06\n",
      "FEDERAL_REVENUE                 4.557817e+05\n",
      "STATE_REVENUE                   2.809037e+06\n",
      "LOCAL_REVENUE                   3.294607e+06\n",
      "TOTAL_EXPENDITURE               6.760234e+06\n",
      "INSTRUCTION_EXPENDITURE         3.258453e+06\n",
      "SUPPORT_SERVICES_EXPENDITURE    2.133834e+06\n",
      "OTHER_EXPENDITURE               2.675125e+05\n",
      "CAPITAL_OUTLAY_EXPENDITURE      7.710166e+05\n",
      "GRADES_PK_G                     2.065712e+04\n",
      "GRADES_KG_G                     5.778387e+04\n",
      "GRADES_4_G                      5.886265e+04\n",
      "GRADES_8_G                      5.755227e+04\n",
      "GRADES_12_G                     4.974257e+04\n",
      "GRADES_1_8_G                    4.706838e+05\n",
      "GRADES_9_12_G                   2.193702e+05\n",
      "GRADES_ALL_G                    7.121385e+05\n",
      "AVG_MATH_4_SCORE                2.359446e+02\n",
      "AVG_MATH_8_SCORE                2.805247e+02\n",
      "AVG_READING_4_SCORE             2.204827e+02\n",
      "AVG_READING_8_SCORE             2.632441e+02\n",
      "dtype: float64\n",
      "CONNECTICUT\n",
      "YEAR                            2.004500e+03\n",
      "ENROLL                          5.533461e+05\n",
      "TOTAL_REVENUE                   7.544291e+06\n",
      "FEDERAL_REVENUE                 3.621229e+05\n",
      "STATE_REVENUE                   2.809853e+06\n",
      "LOCAL_REVENUE                   4.372316e+06\n",
      "TOTAL_EXPENDITURE               7.274736e+06\n",
      "INSTRUCTION_EXPENDITURE         4.078489e+06\n",
      "SUPPORT_SERVICES_EXPENDITURE    2.156387e+06\n",
      "OTHER_EXPENDITURE               2.731513e+05\n",
      "CAPITAL_OUTLAY_EXPENDITURE      4.677803e+05\n",
      "GRADES_PK_G                     1.276932e+04\n",
      "GRADES_KG_G                     4.272929e+04\n",
      "GRADES_4_G                      4.364184e+04\n",
      "GRADES_8_G                      4.304327e+04\n",
      "GRADES_12_G                     3.716449e+04\n",
      "GRADES_1_8_G                    3.494549e+05\n",
      "GRADES_9_12_G                   1.656308e+05\n",
      "GRADES_ALL_G                    5.292823e+05\n",
      "AVG_MATH_4_SCORE                2.365405e+02\n",
      "AVG_MATH_8_SCORE                2.802953e+02\n",
      "AVG_READING_4_SCORE             2.227296e+02\n",
      "AVG_READING_8_SCORE             2.633669e+02\n",
      "dtype: float64\n",
      "DELAWARE\n",
      "YEAR                            2.004500e+03\n",
      "ENROLL                          1.753531e+05\n",
      "TOTAL_REVENUE                   1.654471e+06\n",
      "FEDERAL_REVENUE                 1.253993e+05\n",
      "STATE_REVENUE                   9.603965e+05\n",
      "LOCAL_REVENUE                   5.686755e+05\n",
      "TOTAL_EXPENDITURE               1.675712e+06\n",
      "INSTRUCTION_EXPENDITURE         8.808043e+05\n",
      "SUPPORT_SERVICES_EXPENDITURE    4.846491e+05\n",
      "OTHER_EXPENDITURE               9.363336e+04\n",
      "CAPITAL_OUTLAY_EXPENDITURE      1.638208e+05\n",
      "GRADES_PK_G                     2.134547e+03\n",
      "GRADES_KG_G                     1.291456e+04\n",
      "GRADES_4_G                      1.339773e+04\n",
      "GRADES_8_G                      1.369254e+04\n",
      "GRADES_12_G                     1.098557e+04\n",
      "GRADES_1_8_G                    1.087708e+05\n",
      "GRADES_9_12_G                   5.149772e+04\n",
      "GRADES_ALL_G                    1.638303e+05\n",
      "AVG_MATH_4_SCORE                2.347828e+02\n",
      "AVG_MATH_8_SCORE                2.781582e+02\n",
      "AVG_READING_4_SCORE             2.200816e+02\n",
      "AVG_READING_8_SCORE             2.628465e+02\n",
      "dtype: float64\n",
      "DISTRICT_OF_COLUMBIA\n",
      "YEAR                            2.004966e+03\n",
      "ENROLL                          1.195243e+05\n",
      "TOTAL_REVENUE                   1.304589e+06\n",
      "FEDERAL_REVENUE                 1.363641e+05\n",
      "STATE_REVENUE                   1.453984e+05\n",
      "LOCAL_REVENUE                   1.022827e+06\n",
      "TOTAL_EXPENDITURE               1.308485e+06\n",
      "INSTRUCTION_EXPENDITURE         5.889565e+05\n",
      "SUPPORT_SERVICES_EXPENDITURE    4.543226e+05\n",
      "OTHER_EXPENDITURE               6.618804e+04\n",
      "CAPITAL_OUTLAY_EXPENDITURE      1.955636e+05\n",
      "GRADES_PK_G                     7.582960e+03\n",
      "GRADES_KG_G                     1.007360e+04\n",
      "GRADES_4_G                      9.224443e+03\n",
      "GRADES_8_G                      8.515004e+03\n",
      "GRADES_12_G                     6.607650e+03\n",
      "GRADES_1_8_G                    7.391783e+04\n",
      "GRADES_9_12_G                   3.216489e+04\n",
      "GRADES_ALL_G                    1.407246e+05\n",
      "AVG_MATH_4_SCORE                2.257018e+02\n",
      "AVG_MATH_8_SCORE                2.666712e+02\n",
      "AVG_READING_4_SCORE             2.097784e+02\n",
      "AVG_READING_8_SCORE             2.618819e+02\n",
      "dtype: float64\n",
      "FLORIDA\n",
      "YEAR                            2.004500e+03\n",
      "ENROLL                          2.365632e+06\n",
      "TOTAL_REVENUE                   2.041232e+07\n",
      "FEDERAL_REVENUE                 2.090043e+06\n",
      "STATE_REVENUE                   8.582678e+06\n",
      "LOCAL_REVENUE                   9.739600e+06\n",
      "TOTAL_EXPENDITURE               2.082257e+07\n",
      "INSTRUCTION_EXPENDITURE         1.020828e+07\n",
      "SUPPORT_SERVICES_EXPENDITURE    6.116308e+06\n",
      "OTHER_EXPENDITURE               1.280990e+06\n",
      "CAPITAL_OUTLAY_EXPENDITURE      2.680623e+06\n",
      "GRADES_PK_G                     4.828316e+04\n",
      "GRADES_KG_G                     1.787736e+05\n",
      "GRADES_4_G                      1.808471e+05\n",
      "GRADES_8_G                      1.799328e+05\n",
      "GRADES_12_G                     1.372342e+05\n",
      "GRADES_1_8_G                    1.461872e+06\n",
      "GRADES_9_12_G                   6.770265e+05\n",
      "GRADES_ALL_G                    2.188609e+06\n",
      "AVG_MATH_4_SCORE                2.351117e+02\n",
      "AVG_MATH_8_SCORE                2.766715e+02\n",
      "AVG_READING_4_SCORE             2.193738e+02\n",
      "AVG_READING_8_SCORE             2.628675e+02\n",
      "dtype: float64\n"
     ]
    },
    {
     "name": "stdout",
     "output_type": "stream",
     "text": [
      "GEORGIA\n",
      "YEAR                            2.004500e+03\n",
      "ENROLL                          1.458484e+06\n",
      "TOTAL_REVENUE                   1.326915e+07\n",
      "FEDERAL_REVENUE                 1.180494e+06\n",
      "STATE_REVENUE                   6.049179e+06\n",
      "LOCAL_REVENUE                   6.039477e+06\n",
      "TOTAL_EXPENDITURE               1.317295e+07\n",
      "INSTRUCTION_EXPENDITURE         7.133910e+06\n",
      "SUPPORT_SERVICES_EXPENDITURE    3.660388e+06\n",
      "OTHER_EXPENDITURE               6.661824e+05\n",
      "CAPITAL_OUTLAY_EXPENDITURE      1.515091e+06\n",
      "GRADES_PK_G                     3.243559e+04\n",
      "GRADES_KG_G                     1.164002e+05\n",
      "GRADES_4_G                      1.140924e+05\n",
      "GRADES_8_G                      1.120350e+05\n",
      "GRADES_12_G                     8.153549e+04\n",
      "GRADES_1_8_G                    9.146540e+05\n",
      "GRADES_9_12_G                   4.075078e+05\n",
      "GRADES_ALL_G                    1.356025e+06\n",
      "AVG_MATH_4_SCORE                2.330197e+02\n",
      "AVG_MATH_8_SCORE                2.759999e+02\n",
      "AVG_READING_4_SCORE             2.178301e+02\n",
      "AVG_READING_8_SCORE             2.631902e+02\n",
      "dtype: float64\n",
      "HAWAII\n",
      "YEAR                            2.004500e+03\n",
      "ENROLL                          2.397646e+05\n",
      "TOTAL_REVENUE                   2.278159e+06\n",
      "FEDERAL_REVENUE                 2.282174e+05\n",
      "STATE_REVENUE                   1.847092e+06\n",
      "LOCAL_REVENUE                   2.028501e+05\n",
      "TOTAL_EXPENDITURE               2.061172e+06\n",
      "INSTRUCTION_EXPENDITURE         1.129379e+06\n",
      "SUPPORT_SERVICES_EXPENDITURE    6.374073e+05\n",
      "OTHER_EXPENDITURE               1.473169e+05\n",
      "CAPITAL_OUTLAY_EXPENDITURE      1.440449e+05\n",
      "GRADES_PK_G                     2.391470e+03\n",
      "GRADES_KG_G                     1.878256e+04\n",
      "GRADES_4_G                      1.841203e+04\n",
      "GRADES_8_G                      1.724481e+04\n",
      "GRADES_12_G                     1.397019e+04\n",
      "GRADES_1_8_G                    1.457505e+05\n",
      "GRADES_9_12_G                   6.697326e+04\n",
      "GRADES_ALL_G                    2.165425e+05\n",
      "AVG_MATH_4_SCORE                2.327399e+02\n",
      "AVG_MATH_8_SCORE                2.749365e+02\n",
      "AVG_READING_4_SCORE             2.151176e+02\n",
      "AVG_READING_8_SCORE             2.629268e+02\n",
      "dtype: float64\n",
      "IDAHO\n",
      "YEAR                            2.004500e+03\n",
      "ENROLL                          3.063054e+05\n",
      "TOTAL_REVENUE                   1.953702e+06\n",
      "FEDERAL_REVENUE                 1.958887e+05\n",
      "STATE_REVENUE                   1.155275e+06\n",
      "LOCAL_REVENUE                   6.025378e+05\n",
      "TOTAL_EXPENDITURE               1.934488e+06\n",
      "INSTRUCTION_EXPENDITURE         1.050953e+06\n",
      "SUPPORT_SERVICES_EXPENDITURE    5.800521e+05\n",
      "OTHER_EXPENDITURE               1.044960e+05\n",
      "CAPITAL_OUTLAY_EXPENDITURE      1.587381e+05\n",
      "GRADES_PK_G                     3.473855e+03\n",
      "GRADES_KG_G                     2.279829e+04\n",
      "GRADES_4_G                      2.338280e+04\n",
      "GRADES_8_G                      2.369374e+04\n",
      "GRADES_12_G                     2.071061e+04\n",
      "GRADES_1_8_G                    1.882790e+05\n",
      "GRADES_9_12_G                   9.103972e+04\n",
      "GRADES_ALL_G                    2.842199e+05\n",
      "AVG_MATH_4_SCORE                2.355041e+02\n",
      "AVG_MATH_8_SCORE                2.800218e+02\n",
      "AVG_READING_4_SCORE             2.196193e+02\n",
      "AVG_READING_8_SCORE             2.624933e+02\n",
      "dtype: float64\n",
      "ILLINOIS\n",
      "YEAR                            2.004500e+03\n",
      "ENROLL                          1.940613e+06\n",
      "TOTAL_REVENUE                   2.080450e+07\n",
      "FEDERAL_REVENUE                 1.681281e+06\n",
      "STATE_REVENUE                   7.077942e+06\n",
      "LOCAL_REVENUE                   1.204527e+07\n",
      "TOTAL_EXPENDITURE               2.097301e+07\n",
      "INSTRUCTION_EXPENDITURE         1.062470e+07\n",
      "SUPPORT_SERVICES_EXPENDITURE    6.557868e+06\n",
      "OTHER_EXPENDITURE               7.321920e+05\n",
      "CAPITAL_OUTLAY_EXPENDITURE      1.904666e+06\n",
      "GRADES_PK_G                     6.294689e+04\n",
      "GRADES_KG_G                     1.403427e+05\n",
      "GRADES_4_G                      1.447339e+05\n",
      "GRADES_8_G                      1.441537e+05\n",
      "GRADES_12_G                     1.271596e+05\n",
      "GRADES_1_8_G                    1.167198e+06\n",
      "GRADES_9_12_G                   5.647967e+05\n",
      "GRADES_ALL_G                    1.796369e+06\n",
      "AVG_MATH_4_SCORE                2.350289e+02\n",
      "AVG_MATH_8_SCORE                2.792090e+02\n",
      "AVG_READING_4_SCORE             2.188932e+02\n",
      "AVG_READING_8_SCORE             2.629113e+02\n",
      "dtype: float64\n",
      "INDIANA\n",
      "YEAR                            2.004500e+03\n",
      "ENROLL                          9.935930e+05\n",
      "TOTAL_REVENUE                   9.796608e+06\n",
      "FEDERAL_REVENUE                 6.794774e+05\n",
      "STATE_REVENUE                   5.135707e+06\n",
      "LOCAL_REVENUE                   3.981423e+06\n",
      "TOTAL_EXPENDITURE               9.398589e+06\n",
      "INSTRUCTION_EXPENDITURE         4.636316e+06\n",
      "SUPPORT_SERVICES_EXPENDITURE    2.824939e+06\n",
      "OTHER_EXPENDITURE               4.182314e+05\n",
      "CAPITAL_OUTLAY_EXPENDITURE      8.209821e+05\n",
      "GRADES_PK_G                     9.188393e+03\n",
      "GRADES_KG_G                     7.370402e+04\n",
      "GRADES_4_G                      7.614969e+04\n",
      "GRADES_8_G                      7.780097e+04\n",
      "GRADES_12_G                     6.674449e+04\n",
      "GRADES_1_8_G                    6.184771e+05\n",
      "GRADES_9_12_G                   2.969818e+05\n",
      "GRADES_ALL_G                    9.260746e+05\n",
      "AVG_MATH_4_SCORE                2.368760e+02\n",
      "AVG_MATH_8_SCORE                2.802809e+02\n",
      "AVG_READING_4_SCORE             2.202336e+02\n",
      "AVG_READING_8_SCORE             2.633363e+02\n",
      "dtype: float64\n",
      "IOWA\n",
      "YEAR                            2.004500e+03\n",
      "ENROLL                          5.262182e+05\n",
      "TOTAL_REVENUE                   4.845630e+06\n",
      "FEDERAL_REVENUE                 3.460637e+05\n",
      "STATE_REVENUE                   2.234088e+06\n",
      "LOCAL_REVENUE                   2.265478e+06\n",
      "TOTAL_EXPENDITURE               4.905729e+06\n",
      "INSTRUCTION_EXPENDITURE         2.448726e+06\n",
      "SUPPORT_SERVICES_EXPENDITURE    1.375054e+06\n",
      "OTHER_EXPENDITURE               2.317645e+05\n",
      "CAPITAL_OUTLAY_EXPENDITURE      5.443888e+05\n",
      "GRADES_PK_G                     1.315474e+04\n",
      "GRADES_KG_G                     3.942917e+04\n",
      "GRADES_4_G                      3.776211e+04\n",
      "GRADES_8_G                      3.915966e+04\n",
      "GRADES_12_G                     3.786930e+04\n",
      "GRADES_1_8_G                    3.051603e+05\n",
      "GRADES_9_12_G                   1.582247e+05\n",
      "GRADES_ALL_G                    4.779670e+05\n",
      "AVG_MATH_4_SCORE                2.366173e+02\n",
      "AVG_MATH_8_SCORE                2.808381e+02\n",
      "AVG_READING_4_SCORE             2.204815e+02\n",
      "AVG_READING_8_SCORE             2.635733e+02\n",
      "dtype: float64\n",
      "KANSAS\n",
      "YEAR                            2.004500e+03\n",
      "ENROLL                          5.068388e+05\n",
      "TOTAL_REVENUE                   4.473739e+06\n",
      "FEDERAL_REVENUE                 3.304809e+05\n",
      "STATE_REVENUE                   2.530855e+06\n",
      "LOCAL_REVENUE                   1.612403e+06\n",
      "TOTAL_EXPENDITURE               4.435935e+06\n",
      "INSTRUCTION_EXPENDITURE         2.273626e+06\n",
      "SUPPORT_SERVICES_EXPENDITURE    1.312164e+06\n",
      "OTHER_EXPENDITURE               2.185600e+05\n",
      "CAPITAL_OUTLAY_EXPENDITURE      4.702177e+05\n",
      "GRADES_PK_G                     9.098355e+03\n",
      "GRADES_KG_G                     3.669787e+04\n",
      "GRADES_4_G                      3.751134e+04\n",
      "GRADES_8_G                      3.797208e+04\n",
      "GRADES_12_G                     3.362830e+04\n",
      "GRADES_1_8_G                    3.021860e+05\n",
      "GRADES_9_12_G                   1.472233e+05\n",
      "GRADES_ALL_G                    4.599348e+05\n",
      "AVG_MATH_4_SCORE                2.376345e+02\n",
      "AVG_MATH_8_SCORE                2.812258e+02\n",
      "AVG_READING_4_SCORE             2.202510e+02\n",
      "AVG_READING_8_SCORE             2.625434e+02\n",
      "dtype: float64\n",
      "KENTUCKY\n",
      "YEAR                            2.004500e+03\n",
      "ENROLL                          6.695451e+05\n",
      "TOTAL_REVENUE                   5.428459e+06\n",
      "FEDERAL_REVENUE                 6.054188e+05\n",
      "STATE_REVENUE                   3.087218e+06\n",
      "LOCAL_REVENUE                   1.735823e+06\n",
      "TOTAL_EXPENDITURE               5.498279e+06\n",
      "INSTRUCTION_EXPENDITURE         2.841251e+06\n",
      "SUPPORT_SERVICES_EXPENDITURE    1.675456e+06\n",
      "OTHER_EXPENDITURE               3.372695e+05\n",
      "CAPITAL_OUTLAY_EXPENDITURE      5.035286e+05\n",
      "GRADES_PK_G                     2.414516e+04\n",
      "GRADES_KG_G                     4.983371e+04\n",
      "GRADES_4_G                      5.031723e+04\n",
      "GRADES_8_G                      5.094381e+04\n",
      "GRADES_12_G                     4.174169e+04\n",
      "GRADES_1_8_G                    4.089398e+05\n",
      "GRADES_9_12_G                   1.945378e+05\n",
      "GRADES_ALL_G                    6.290500e+05\n",
      "AVG_MATH_4_SCORE                2.336501e+02\n",
      "AVG_MATH_8_SCORE                2.769531e+02\n",
      "AVG_READING_4_SCORE             2.199937e+02\n",
      "AVG_READING_8_SCORE             2.625700e+02\n",
      "dtype: float64\n",
      "LOUISIANA\n",
      "YEAR                            2.004500e+03\n",
      "ENROLL                          7.319715e+05\n",
      "TOTAL_REVENUE                   6.151847e+06\n",
      "FEDERAL_REVENUE                 8.822665e+05\n",
      "STATE_REVENUE                   2.796430e+06\n",
      "LOCAL_REVENUE                   2.473150e+06\n",
      "TOTAL_EXPENDITURE               6.090645e+06\n",
      "INSTRUCTION_EXPENDITURE         3.180794e+06\n",
      "SUPPORT_SERVICES_EXPENDITURE    1.890485e+06\n",
      "OTHER_EXPENDITURE               3.593962e+05\n",
      "CAPITAL_OUTLAY_EXPENDITURE      5.004898e+05\n",
      "GRADES_PK_G                     2.213170e+04\n",
      "GRADES_KG_G                     5.726090e+04\n",
      "GRADES_4_G                      5.891784e+04\n",
      "GRADES_8_G                      5.621920e+04\n",
      "GRADES_12_G                     4.129669e+04\n",
      "GRADES_1_8_G                    4.571644e+05\n",
      "GRADES_9_12_G                   1.978684e+05\n",
      "GRADES_ALL_G                    6.785917e+05\n",
      "AVG_MATH_4_SCORE                2.305386e+02\n",
      "AVG_MATH_8_SCORE                2.729600e+02\n",
      "AVG_READING_4_SCORE             2.141567e+02\n",
      "AVG_READING_8_SCORE             2.634634e+02\n",
      "dtype: float64\n",
      "MAINE\n",
      "YEAR                            2.004500e+03\n",
      "ENROLL                          2.535732e+05\n",
      "TOTAL_REVENUE                   2.396673e+06\n",
      "FEDERAL_REVENUE                 1.825234e+05\n",
      "STATE_REVENUE                   1.002277e+06\n",
      "LOCAL_REVENUE                   1.211872e+06\n",
      "TOTAL_EXPENDITURE               2.383048e+06\n",
      "INSTRUCTION_EXPENDITURE         1.317128e+06\n",
      "SUPPORT_SERVICES_EXPENDITURE    7.056173e+05\n",
      "OTHER_EXPENDITURE               1.201501e+05\n",
      "CAPITAL_OUTLAY_EXPENDITURE      1.370251e+05\n",
      "GRADES_PK_G                     3.612701e+03\n",
      "GRADES_KG_G                     1.825156e+04\n",
      "GRADES_4_G                      1.894411e+04\n",
      "GRADES_8_G                      1.962227e+04\n",
      "GRADES_12_G                     1.713015e+04\n",
      "GRADES_1_8_G                    1.528005e+05\n",
      "GRADES_9_12_G                   7.421557e+04\n",
      "GRADES_ALL_G                    2.320560e+05\n",
      "AVG_MATH_4_SCORE                2.366662e+02\n",
      "AVG_MATH_8_SCORE                2.809498e+02\n",
      "AVG_READING_4_SCORE             2.211940e+02\n",
      "AVG_READING_8_SCORE             2.626919e+02\n",
      "dtype: float64\n",
      "MARYLAND\n",
      "YEAR                            2.004500e+03\n",
      "ENROLL                          8.476483e+05\n",
      "TOTAL_REVENUE                   9.683742e+06\n",
      "FEDERAL_REVENUE                 5.920342e+05\n",
      "STATE_REVENUE                   3.963192e+06\n",
      "LOCAL_REVENUE                   5.128516e+06\n",
      "TOTAL_EXPENDITURE               9.559636e+06\n",
      "INSTRUCTION_EXPENDITURE         5.156241e+06\n",
      "SUPPORT_SERVICES_EXPENDITURE    2.934365e+06\n",
      "OTHER_EXPENDITURE               3.734495e+05\n",
      "CAPITAL_OUTLAY_EXPENDITURE      8.192184e+05\n",
      "GRADES_PK_G                     2.320009e+04\n",
      "GRADES_KG_G                     6.064798e+04\n",
      "GRADES_4_G                      6.383988e+04\n",
      "GRADES_8_G                      6.280624e+04\n",
      "GRADES_12_G                     5.379599e+04\n",
      "GRADES_1_8_G                    5.096865e+05\n",
      "GRADES_9_12_G                   2.445371e+05\n",
      "GRADES_ALL_G                    7.788509e+05\n",
      "AVG_MATH_4_SCORE                2.349942e+02\n",
      "AVG_MATH_8_SCORE                2.790447e+02\n",
      "AVG_READING_4_SCORE             2.201978e+02\n",
      "AVG_READING_8_SCORE             2.632907e+02\n",
      "dtype: float64\n",
      "MASSACHUSETTS\n",
      "YEAR                            2.004500e+03\n",
      "ENROLL                          9.306315e+05\n",
      "TOTAL_REVENUE                   1.172751e+07\n",
      "FEDERAL_REVENUE                 6.543389e+05\n",
      "STATE_REVENUE                   4.686398e+06\n",
      "LOCAL_REVENUE                   6.386768e+06\n",
      "TOTAL_EXPENDITURE               1.164225e+07\n",
      "INSTRUCTION_EXPENDITURE         6.637558e+06\n",
      "SUPPORT_SERVICES_EXPENDITURE    3.391580e+06\n",
      "OTHER_EXPENDITURE               3.696744e+05\n",
      "CAPITAL_OUTLAY_EXPENDITURE      6.913923e+05\n",
      "GRADES_PK_G                     2.190089e+04\n",
      "GRADES_KG_G                     7.016033e+04\n",
      "GRADES_4_G                      7.193773e+04\n",
      "GRADES_8_G                      7.106597e+04\n",
      "GRADES_12_G                     6.104896e+04\n",
      "GRADES_1_8_G                    5.761819e+05\n",
      "GRADES_9_12_G                   2.720095e+05\n",
      "GRADES_ALL_G                    8.715195e+05\n",
      "AVG_MATH_4_SCORE                2.389167e+02\n",
      "AVG_MATH_8_SCORE                2.837514e+02\n",
      "AVG_READING_4_SCORE             2.243738e+02\n",
      "AVG_READING_8_SCORE             2.637795e+02\n"
     ]
    },
    {
     "name": "stdout",
     "output_type": "stream",
     "text": [
      "dtype: float64\n",
      "MICHIGAN\n",
      "YEAR                            2.004500e+03\n",
      "ENROLL                          1.542294e+06\n",
      "TOTAL_REVENUE                   1.657767e+07\n",
      "FEDERAL_REVENUE                 1.308704e+06\n",
      "STATE_REVENUE                   9.122026e+06\n",
      "LOCAL_REVENUE                   6.146938e+06\n",
      "TOTAL_EXPENDITURE               1.672511e+07\n",
      "INSTRUCTION_EXPENDITURE         7.969054e+06\n",
      "SUPPORT_SERVICES_EXPENDITURE    5.327129e+06\n",
      "OTHER_EXPENDITURE               7.852736e+05\n",
      "CAPITAL_OUTLAY_EXPENDITURE      1.411059e+06\n",
      "GRADES_PK_G                     2.428347e+04\n",
      "GRADES_KG_G                     1.207086e+05\n",
      "GRADES_4_G                      1.172254e+05\n",
      "GRADES_8_G                      1.191054e+05\n",
      "GRADES_12_G                     1.036488e+05\n",
      "GRADES_1_8_G                    9.473062e+05\n",
      "GRADES_9_12_G                   4.688093e+05\n",
      "GRADES_ALL_G                    1.441826e+06\n",
      "AVG_MATH_4_SCORE                2.342436e+02\n",
      "AVG_MATH_8_SCORE                2.779140e+02\n",
      "AVG_READING_4_SCORE             2.185640e+02\n",
      "AVG_READING_8_SCORE             2.646759e+02\n",
      "dtype: float64\n",
      "MINNESOTA\n",
      "YEAR                            2.004500e+03\n",
      "ENROLL                          8.234337e+05\n",
      "TOTAL_REVENUE                   8.546784e+06\n",
      "FEDERAL_REVENUE                 4.985272e+05\n",
      "STATE_REVENUE                   5.186455e+06\n",
      "LOCAL_REVENUE                   2.861801e+06\n",
      "TOTAL_EXPENDITURE               8.874520e+06\n",
      "INSTRUCTION_EXPENDITURE         4.524468e+06\n",
      "SUPPORT_SERVICES_EXPENDITURE    2.173916e+06\n",
      "OTHER_EXPENDITURE               6.553769e+05\n",
      "CAPITAL_OUTLAY_EXPENDITURE      9.756419e+05\n",
      "GRADES_PK_G                     1.172128e+04\n",
      "GRADES_KG_G                     6.189498e+04\n",
      "GRADES_4_G                      6.240053e+04\n",
      "GRADES_8_G                      6.444927e+04\n",
      "GRADES_12_G                     6.657338e+04\n",
      "GRADES_1_8_G                    5.036796e+05\n",
      "GRADES_9_12_G                   2.645258e+05\n",
      "GRADES_ALL_G                    7.813540e+05\n",
      "AVG_MATH_4_SCORE                2.385608e+02\n",
      "AVG_MATH_8_SCORE                2.836543e+02\n",
      "AVG_READING_4_SCORE             2.208347e+02\n",
      "AVG_READING_8_SCORE             2.646307e+02\n",
      "dtype: float64\n",
      "MISSISSIPPI\n",
      "YEAR                            2.004500e+03\n",
      "ENROLL                          5.214006e+05\n",
      "TOTAL_REVENUE                   3.595368e+06\n",
      "FEDERAL_REVENUE                 5.488261e+05\n",
      "STATE_REVENUE                   1.849904e+06\n",
      "LOCAL_REVENUE                   1.196639e+06\n",
      "TOTAL_EXPENDITURE               3.608658e+06\n",
      "INSTRUCTION_EXPENDITURE         1.883907e+06\n",
      "SUPPORT_SERVICES_EXPENDITURE    1.092414e+06\n",
      "OTHER_EXPENDITURE               2.376905e+05\n",
      "CAPITAL_OUTLAY_EXPENDITURE      3.366851e+05\n",
      "GRADES_PK_G                     3.684201e+03\n",
      "GRADES_KG_G                     4.094283e+04\n",
      "GRADES_4_G                      4.025607e+04\n",
      "GRADES_8_G                      3.984204e+04\n",
      "GRADES_12_G                     2.934426e+04\n",
      "GRADES_1_8_G                    3.265614e+05\n",
      "GRADES_9_12_G                   1.411765e+05\n",
      "GRADES_ALL_G                    4.728493e+05\n",
      "AVG_MATH_4_SCORE                2.298897e+02\n",
      "AVG_MATH_8_SCORE                2.716185e+02\n",
      "AVG_READING_4_SCORE             2.141081e+02\n",
      "AVG_READING_8_SCORE             2.645439e+02\n",
      "dtype: float64\n",
      "MISSOURI\n",
      "YEAR                            2.004500e+03\n",
      "ENROLL                          8.972030e+05\n",
      "TOTAL_REVENUE                   7.797681e+06\n",
      "FEDERAL_REVENUE                 6.561209e+05\n",
      "STATE_REVENUE                   3.379942e+06\n",
      "LOCAL_REVENUE                   3.761619e+06\n",
      "TOTAL_EXPENDITURE               7.883508e+06\n",
      "INSTRUCTION_EXPENDITURE         4.061119e+06\n",
      "SUPPORT_SERVICES_EXPENDITURE    2.349412e+06\n",
      "OTHER_EXPENDITURE               4.409924e+05\n",
      "CAPITAL_OUTLAY_EXPENDITURE      7.540573e+05\n",
      "GRADES_PK_G                     2.057924e+04\n",
      "GRADES_KG_G                     6.720590e+04\n",
      "GRADES_4_G                      6.789946e+04\n",
      "GRADES_8_G                      6.857850e+04\n",
      "GRADES_12_G                     5.958307e+04\n",
      "GRADES_1_8_G                    5.459078e+05\n",
      "GRADES_9_12_G                   2.653947e+05\n",
      "GRADES_ALL_G                    8.333090e+05\n",
      "AVG_MATH_4_SCORE                2.348271e+02\n",
      "AVG_MATH_8_SCORE                2.785465e+02\n",
      "AVG_READING_4_SCORE             2.197069e+02\n",
      "AVG_READING_8_SCORE             2.644365e+02\n",
      "dtype: float64\n",
      "MONTANA\n",
      "YEAR                            2.004500e+03\n",
      "ENROLL                          2.098065e+05\n",
      "TOTAL_REVENUE                   1.601497e+06\n",
      "FEDERAL_REVENUE                 1.843778e+05\n",
      "STATE_REVENUE                   7.466420e+05\n",
      "LOCAL_REVENUE                   6.704768e+05\n",
      "TOTAL_EXPENDITURE               1.602219e+06\n",
      "INSTRUCTION_EXPENDITURE         8.704325e+05\n",
      "SUPPORT_SERVICES_EXPENDITURE    5.002272e+05\n",
      "OTHER_EXPENDITURE               8.524032e+04\n",
      "CAPITAL_OUTLAY_EXPENDITURE      1.219299e+05\n",
      "GRADES_PK_G                     2.101816e+03\n",
      "GRADES_KG_G                     1.512310e+04\n",
      "GRADES_4_G                      1.550784e+04\n",
      "GRADES_8_G                      1.596254e+04\n",
      "GRADES_12_G                     1.409842e+04\n",
      "GRADES_1_8_G                    1.253172e+05\n",
      "GRADES_9_12_G                   6.188518e+04\n",
      "GRADES_ALL_G                    1.907314e+05\n",
      "AVG_MATH_4_SCORE                2.364413e+02\n",
      "AVG_MATH_8_SCORE                2.819386e+02\n",
      "AVG_READING_4_SCORE             2.211321e+02\n",
      "AVG_READING_8_SCORE             2.641577e+02\n",
      "dtype: float64\n",
      "NEBRASKA\n",
      "YEAR                            2.004500e+03\n",
      "ENROLL                          3.400850e+05\n",
      "TOTAL_REVENUE                   3.095931e+06\n",
      "FEDERAL_REVENUE                 2.664434e+05\n",
      "STATE_REVENUE                   1.043054e+06\n",
      "LOCAL_REVENUE                   1.786435e+06\n",
      "TOTAL_EXPENDITURE               3.072463e+06\n",
      "INSTRUCTION_EXPENDITURE         1.702338e+06\n",
      "SUPPORT_SERVICES_EXPENDITURE    8.133828e+05\n",
      "OTHER_EXPENDITURE               1.451172e+05\n",
      "CAPITAL_OUTLAY_EXPENDITURE      3.336822e+05\n",
      "GRADES_PK_G                     8.705432e+03\n",
      "GRADES_KG_G                     2.523798e+04\n",
      "GRADES_4_G                      2.490911e+04\n",
      "GRADES_8_G                      2.528820e+04\n",
      "GRADES_12_G                     2.398907e+04\n",
      "GRADES_1_8_G                    2.005153e+05\n",
      "GRADES_9_12_G                   1.011077e+05\n",
      "GRADES_ALL_G                    3.117557e+05\n",
      "AVG_MATH_4_SCORE                2.355197e+02\n",
      "AVG_MATH_8_SCORE                2.805574e+02\n",
      "AVG_READING_4_SCORE             2.203142e+02\n",
      "AVG_READING_8_SCORE             2.637914e+02\n",
      "dtype: float64\n",
      "NEVADA\n",
      "YEAR                            2.004500e+03\n",
      "ENROLL                          4.075415e+05\n",
      "TOTAL_REVENUE                   3.222344e+06\n",
      "FEDERAL_REVENUE                 2.448527e+05\n",
      "STATE_REVENUE                   1.881918e+06\n",
      "LOCAL_REVENUE                   1.095573e+06\n",
      "TOTAL_EXPENDITURE               3.352445e+06\n",
      "INSTRUCTION_EXPENDITURE         1.624607e+06\n",
      "SUPPORT_SERVICES_EXPENDITURE    9.999410e+05\n",
      "OTHER_EXPENDITURE               1.333896e+05\n",
      "CAPITAL_OUTLAY_EXPENDITURE      4.390211e+05\n",
      "GRADES_PK_G                     4.059393e+03\n",
      "GRADES_KG_G                     3.092571e+04\n",
      "GRADES_4_G                      3.202938e+04\n",
      "GRADES_8_G                      3.126454e+04\n",
      "GRADES_12_G                     2.397565e+04\n",
      "GRADES_1_8_G                    2.565456e+05\n",
      "GRADES_9_12_G                   1.142391e+05\n",
      "GRADES_ALL_G                    3.762714e+05\n",
      "AVG_MATH_4_SCORE                2.329737e+02\n",
      "AVG_MATH_8_SCORE                2.765796e+02\n",
      "AVG_READING_4_SCORE             2.157804e+02\n",
      "AVG_READING_8_SCORE             2.640459e+02\n",
      "dtype: float64\n",
      "NEW_HAMPSHIRE\n",
      "YEAR                            2.004500e+03\n",
      "ENROLL                          2.494081e+05\n",
      "TOTAL_REVENUE                   2.407438e+06\n",
      "FEDERAL_REVENUE                 1.319520e+05\n",
      "STATE_REVENUE                   8.287044e+05\n",
      "LOCAL_REVENUE                   1.446781e+06\n",
      "TOTAL_EXPENDITURE               2.417025e+06\n",
      "INSTRUCTION_EXPENDITURE         1.321181e+06\n",
      "SUPPORT_SERVICES_EXPENDITURE    6.935504e+05\n",
      "OTHER_EXPENDITURE               8.940832e+04\n",
      "CAPITAL_OUTLAY_EXPENDITURE      1.629367e+05\n",
      "GRADES_PK_G                     3.485047e+03\n",
      "GRADES_KG_G                     1.419425e+04\n",
      "GRADES_4_G                      1.920107e+04\n",
      "GRADES_8_G                      1.955427e+04\n",
      "GRADES_12_G                     1.666819e+04\n",
      "GRADES_1_8_G                    1.547853e+05\n",
      "GRADES_9_12_G                   7.440807e+04\n",
      "GRADES_ALL_G                    2.341057e+05\n",
      "AVG_MATH_4_SCORE                2.387826e+02\n",
      "AVG_MATH_8_SCORE                2.822336e+02\n",
      "AVG_READING_4_SCORE             2.226027e+02\n",
      "AVG_READING_8_SCORE             2.644569e+02\n",
      "dtype: float64\n",
      "NEW_JERSEY\n",
      "YEAR                            2.004500e+03\n",
      "ENROLL                          1.235591e+06\n",
      "TOTAL_REVENUE                   1.970521e+07\n",
      "FEDERAL_REVENUE                 8.553237e+05\n",
      "STATE_REVENUE                   7.709261e+06\n",
      "LOCAL_REVENUE                   1.114063e+07\n",
      "TOTAL_EXPENDITURE               1.963410e+07\n",
      "INSTRUCTION_EXPENDITURE         1.037562e+07\n",
      "SUPPORT_SERVICES_EXPENDITURE    6.399907e+06\n",
      "OTHER_EXPENDITURE               7.455471e+05\n",
      "CAPITAL_OUTLAY_EXPENDITURE      1.205721e+06\n",
      "GRADES_PK_G                     2.499935e+04\n",
      "GRADES_KG_G                     8.980590e+04\n",
      "GRADES_4_G                      9.398507e+04\n",
      "GRADES_8_G                      9.209289e+04\n",
      "GRADES_12_G                     8.094426e+04\n",
      "GRADES_1_8_G                    7.543401e+05\n",
      "GRADES_9_12_G                   3.528849e+05\n",
      "GRADES_ALL_G                    1.133652e+06\n",
      "AVG_MATH_4_SCORE                2.375654e+02\n",
      "AVG_MATH_8_SCORE                2.817986e+02\n",
      "AVG_READING_4_SCORE             2.219583e+02\n",
      "AVG_READING_8_SCORE             2.645067e+02\n",
      "dtype: float64\n",
      "NEW_MEXICO\n",
      "YEAR                            2.004500e+03\n",
      "ENROLL                          3.686551e+05\n",
      "TOTAL_REVENUE                   2.950757e+06\n",
      "FEDERAL_REVENUE                 4.044627e+05\n",
      "STATE_REVENUE                   1.988900e+06\n",
      "LOCAL_REVENUE                   5.573944e+05\n",
      "TOTAL_EXPENDITURE               2.974596e+06\n",
      "INSTRUCTION_EXPENDITURE         1.430065e+06\n",
      "SUPPORT_SERVICES_EXPENDITURE    9.355538e+05\n",
      "OTHER_EXPENDITURE               1.442091e+05\n",
      "CAPITAL_OUTLAY_EXPENDITURE      4.202315e+05\n",
      "GRADES_PK_G                     6.111470e+03\n",
      "GRADES_KG_G                     2.776875e+04\n",
      "GRADES_4_G                      2.804676e+04\n",
      "GRADES_8_G                      2.811943e+04\n",
      "GRADES_12_G                     2.177999e+04\n",
      "GRADES_1_8_G                    2.259550e+05\n",
      "GRADES_9_12_G                   1.071601e+05\n",
      "GRADES_ALL_G                    3.406538e+05\n",
      "AVG_MATH_4_SCORE                2.305257e+02\n",
      "AVG_MATH_8_SCORE                2.734200e+02\n",
      "AVG_READING_4_SCORE             2.138057e+02\n",
      "AVG_READING_8_SCORE             2.647501e+02\n",
      "dtype: float64\n",
      "NEW_YORK\n",
      "YEAR                            2.004500e+03\n",
      "ENROLL                          2.607239e+06\n",
      "TOTAL_REVENUE                   4.110510e+07\n",
      "FEDERAL_REVENUE                 2.523293e+06\n",
      "STATE_REVENUE                   1.734593e+07\n",
      "LOCAL_REVENUE                   2.123589e+07\n",
      "TOTAL_EXPENDITURE               4.285484e+07\n",
      "INSTRUCTION_EXPENDITURE         2.620595e+07\n",
      "SUPPORT_SERVICES_EXPENDITURE    1.056051e+07\n",
      "OTHER_EXPENDITURE               1.164813e+06\n",
      "CAPITAL_OUTLAY_EXPENDITURE      3.578777e+06\n",
      "GRADES_PK_G                     4.025605e+04\n",
      "GRADES_KG_G                     1.872273e+05\n",
      "GRADES_4_G                      1.917274e+05\n",
      "GRADES_8_G                      1.919377e+05\n",
      "GRADES_12_G                     1.586277e+05\n",
      "GRADES_1_8_G                    1.550719e+06\n",
      "GRADES_9_12_G                   7.634292e+05\n",
      "GRADES_ALL_G                    2.355831e+06\n",
      "AVG_MATH_4_SCORE                2.344872e+02\n",
      "AVG_MATH_8_SCORE                2.782830e+02\n",
      "AVG_READING_4_SCORE             2.198769e+02\n",
      "AVG_READING_8_SCORE             2.639427e+02\n"
     ]
    },
    {
     "name": "stdout",
     "output_type": "stream",
     "text": [
      "dtype: float64\n",
      "NORTH_CAROLINA\n",
      "YEAR                            2.004500e+03\n",
      "ENROLL                          1.298654e+06\n",
      "TOTAL_REVENUE                   1.043796e+07\n",
      "FEDERAL_REVENUE                 1.023729e+06\n",
      "STATE_REVENUE                   6.103613e+06\n",
      "LOCAL_REVENUE                   3.310620e+06\n",
      "TOTAL_EXPENDITURE               1.046151e+07\n",
      "INSTRUCTION_EXPENDITURE         5.699017e+06\n",
      "SUPPORT_SERVICES_EXPENDITURE    2.885422e+06\n",
      "OTHER_EXPENDITURE               5.669038e+05\n",
      "CAPITAL_OUTLAY_EXPENDITURE      9.607730e+05\n",
      "GRADES_PK_G                     1.601501e+04\n",
      "GRADES_KG_G                     1.053917e+05\n",
      "GRADES_4_G                      1.023189e+05\n",
      "GRADES_8_G                      1.011452e+05\n",
      "GRADES_12_G                     7.602430e+04\n",
      "GRADES_1_8_G                    8.260652e+05\n",
      "GRADES_9_12_G                   3.726543e+05\n",
      "GRADES_ALL_G                    1.216162e+06\n",
      "AVG_MATH_4_SCORE                2.359186e+02\n",
      "AVG_MATH_8_SCORE                2.788091e+02\n",
      "AVG_READING_4_SCORE             2.194128e+02\n",
      "AVG_READING_8_SCORE             2.640046e+02\n",
      "dtype: float64\n",
      "NORTH_DAKOTA\n",
      "YEAR                            2.004500e+03\n",
      "ENROLL                          1.685648e+05\n",
      "TOTAL_REVENUE                   1.317444e+06\n",
      "FEDERAL_REVENUE                 1.500921e+05\n",
      "STATE_REVENUE                   5.792123e+05\n",
      "LOCAL_REVENUE                   5.881399e+05\n",
      "TOTAL_EXPENDITURE               1.338884e+06\n",
      "INSTRUCTION_EXPENDITURE         6.721385e+05\n",
      "SUPPORT_SERVICES_EXPENDITURE    3.630853e+05\n",
      "OTHER_EXPENDITURE               9.802686e+04\n",
      "CAPITAL_OUTLAY_EXPENDITURE      1.438610e+05\n",
      "GRADES_PK_G                     2.355086e+03\n",
      "GRADES_KG_G                     1.211940e+04\n",
      "GRADES_4_G                      1.221557e+04\n",
      "GRADES_8_G                      1.266835e+04\n",
      "GRADES_12_G                     1.167311e+04\n",
      "GRADES_1_8_G                    9.904700e+04\n",
      "GRADES_9_12_G                   5.010076e+04\n",
      "GRADES_ALL_G                    1.529301e+05\n",
      "AVG_MATH_4_SCORE                2.370555e+02\n",
      "AVG_MATH_8_SCORE                2.824681e+02\n",
      "AVG_READING_4_SCORE             2.209734e+02\n",
      "AVG_READING_8_SCORE             2.636336e+02\n",
      "dtype: float64\n",
      "OHIO\n",
      "YEAR                            2.004500e+03\n",
      "ENROLL                          1.687083e+06\n",
      "TOTAL_REVENUE                   1.779262e+07\n",
      "FEDERAL_REVENUE                 1.235564e+06\n",
      "STATE_REVENUE                   7.421453e+06\n",
      "LOCAL_REVENUE                   9.135606e+06\n",
      "TOTAL_EXPENDITURE               1.744549e+07\n",
      "INSTRUCTION_EXPENDITURE         8.703150e+06\n",
      "SUPPORT_SERVICES_EXPENDITURE    5.716067e+06\n",
      "OTHER_EXPENDITURE               7.524485e+05\n",
      "CAPITAL_OUTLAY_EXPENDITURE      1.690708e+06\n",
      "GRADES_PK_G                     2.502489e+04\n",
      "GRADES_KG_G                     1.277680e+05\n",
      "GRADES_4_G                      1.296618e+05\n",
      "GRADES_8_G                      1.336715e+05\n",
      "GRADES_12_G                     1.159502e+05\n",
      "GRADES_1_8_G                    1.053688e+06\n",
      "GRADES_9_12_G                   5.203878e+05\n",
      "GRADES_ALL_G                    1.600527e+06\n",
      "AVG_MATH_4_SCORE                2.364539e+02\n",
      "AVG_MATH_8_SCORE                2.804474e+02\n",
      "AVG_READING_4_SCORE             2.206026e+02\n",
      "AVG_READING_8_SCORE             2.638943e+02\n",
      "dtype: float64\n",
      "WYOMING\n",
      "YEAR                            2.004500e+03\n",
      "ENROLL                          1.550695e+05\n",
      "TOTAL_REVENUE                   1.478496e+06\n",
      "FEDERAL_REVENUE                 1.127076e+05\n",
      "STATE_REVENUE                   7.501166e+05\n",
      "LOCAL_REVENUE                   6.156719e+05\n",
      "TOTAL_EXPENDITURE               1.462057e+06\n",
      "INSTRUCTION_EXPENDITURE         7.332424e+05\n",
      "SUPPORT_SERVICES_EXPENDITURE    4.443863e+05\n",
      "OTHER_EXPENDITURE               6.571205e+04\n",
      "CAPITAL_OUTLAY_EXPENDITURE      2.040605e+05\n",
      "GRADES_PK_G                     7.143467e+03\n",
      "GRADES_KG_G                     1.132379e+04\n",
      "GRADES_4_G                      1.136015e+04\n",
      "GRADES_8_G                      1.167350e+04\n",
      "GRADES_12_G                     1.016730e+04\n",
      "GRADES_1_8_G                    9.188277e+04\n",
      "GRADES_9_12_G                   4.512745e+04\n",
      "GRADES_ALL_G                    3.593185e+05\n",
      "AVG_MATH_4_SCORE                2.367017e+02\n",
      "AVG_MATH_8_SCORE                2.804916e+02\n",
      "AVG_READING_4_SCORE             2.208654e+02\n",
      "AVG_READING_8_SCORE             2.637101e+02\n",
      "dtype: float64\n",
      "OKLAHOMA\n",
      "YEAR                            2.004500e+03\n",
      "ENROLL                          6.358923e+05\n",
      "TOTAL_REVENUE                   4.693161e+06\n",
      "FEDERAL_REVENUE                 5.314552e+05\n",
      "STATE_REVENUE                   2.404746e+06\n",
      "LOCAL_REVENUE                   1.756960e+06\n",
      "TOTAL_EXPENDITURE               4.680068e+06\n",
      "INSTRUCTION_EXPENDITURE         2.309921e+06\n",
      "SUPPORT_SERVICES_EXPENDITURE    1.491661e+06\n",
      "OTHER_EXPENDITURE               4.038359e+05\n",
      "CAPITAL_OUTLAY_EXPENDITURE      4.151467e+05\n",
      "GRADES_PK_G                     2.587112e+04\n",
      "GRADES_KG_G                     5.010852e+04\n",
      "GRADES_4_G                      4.858926e+04\n",
      "GRADES_8_G                      4.835970e+04\n",
      "GRADES_12_G                     3.958449e+04\n",
      "GRADES_1_8_G                    3.954359e+05\n",
      "GRADES_9_12_G                   1.809728e+05\n",
      "GRADES_ALL_G                    6.037070e+05\n",
      "AVG_MATH_4_SCORE                2.342972e+02\n",
      "AVG_MATH_8_SCORE                2.766110e+02\n",
      "AVG_READING_4_SCORE             2.179681e+02\n",
      "AVG_READING_8_SCORE             2.642545e+02\n",
      "dtype: float64\n",
      "OREGON\n",
      "YEAR                            2.004500e+03\n",
      "ENROLL                          5.775452e+05\n",
      "TOTAL_REVENUE                   5.140683e+06\n",
      "FEDERAL_REVENUE                 4.390571e+05\n",
      "STATE_REVENUE                   2.574081e+06\n",
      "LOCAL_REVENUE                   2.127546e+06\n",
      "TOTAL_EXPENDITURE               5.290001e+06\n",
      "INSTRUCTION_EXPENDITURE         2.722200e+06\n",
      "SUPPORT_SERVICES_EXPENDITURE    1.695705e+06\n",
      "OTHER_EXPENDITURE               1.995395e+05\n",
      "CAPITAL_OUTLAY_EXPENDITURE      4.344006e+05\n",
      "GRADES_PK_G                     7.518802e+03\n",
      "GRADES_KG_G                     4.146529e+04\n",
      "GRADES_4_G                      4.404669e+04\n",
      "GRADES_8_G                      4.451200e+04\n",
      "GRADES_12_G                     4.158638e+04\n",
      "GRADES_1_8_G                    3.533518e+05\n",
      "GRADES_9_12_G                   1.751075e+05\n",
      "GRADES_ALL_G                    5.470229e+05\n",
      "AVG_MATH_4_SCORE                2.347305e+02\n",
      "AVG_MATH_8_SCORE                2.797939e+02\n",
      "AVG_READING_4_SCORE             2.183553e+02\n",
      "AVG_READING_8_SCORE             2.633318e+02\n",
      "dtype: float64\n",
      "PENNSYLVANIA\n",
      "YEAR                            2.004500e+03\n",
      "ENROLL                          1.655202e+06\n",
      "TOTAL_REVENUE                   2.092436e+07\n",
      "FEDERAL_REVENUE                 1.478109e+06\n",
      "STATE_REVENUE                   7.429878e+06\n",
      "LOCAL_REVENUE                   1.201637e+07\n",
      "TOTAL_EXPENDITURE               2.132852e+07\n",
      "INSTRUCTION_EXPENDITURE         1.070529e+07\n",
      "SUPPORT_SERVICES_EXPENDITURE    5.927816e+06\n",
      "OTHER_EXPENDITURE               8.558432e+05\n",
      "CAPITAL_OUTLAY_EXPENDITURE      1.718732e+06\n",
      "GRADES_PK_G                     7.880663e+03\n",
      "GRADES_KG_G                     1.215177e+05\n",
      "GRADES_4_G                      1.289032e+05\n",
      "GRADES_8_G                      1.336326e+05\n",
      "GRADES_12_G                     1.220051e+05\n",
      "GRADES_1_8_G                    1.044118e+06\n",
      "GRADES_9_12_G                   5.330536e+05\n",
      "GRADES_ALL_G                    1.586480e+06\n",
      "AVG_MATH_4_SCORE                2.363681e+02\n",
      "AVG_MATH_8_SCORE                2.801515e+02\n",
      "AVG_READING_4_SCORE             2.205577e+02\n",
      "AVG_READING_8_SCORE             2.633709e+02\n",
      "dtype: float64\n",
      "RHODE_ISLAND\n",
      "YEAR                            2.004500e+03\n",
      "ENROLL                          2.055667e+05\n",
      "TOTAL_REVENUE                   2.020870e+06\n",
      "FEDERAL_REVENUE                 1.535283e+05\n",
      "STATE_REVENUE                   8.050588e+05\n",
      "LOCAL_REVENUE                   1.062283e+06\n",
      "TOTAL_EXPENDITURE               1.985798e+06\n",
      "INSTRUCTION_EXPENDITURE         1.142769e+06\n",
      "SUPPORT_SERVICES_EXPENDITURE    6.396087e+05\n",
      "OTHER_EXPENDITURE               9.414409e+04\n",
      "CAPITAL_OUTLAY_EXPENDITURE      6.198982e+04\n",
      "GRADES_PK_G                     2.669086e+03\n",
      "GRADES_KG_G                     1.456344e+04\n",
      "GRADES_4_G                      1.555034e+04\n",
      "GRADES_8_G                      1.549985e+04\n",
      "GRADES_12_G                     1.317234e+04\n",
      "GRADES_1_8_G                    1.250653e+05\n",
      "GRADES_9_12_G                   5.987537e+04\n",
      "GRADES_ALL_G                    1.890370e+05\n",
      "AVG_MATH_4_SCORE                2.338078e+02\n",
      "AVG_MATH_8_SCORE                2.772184e+02\n",
      "AVG_READING_4_SCORE             2.195810e+02\n",
      "AVG_READING_8_SCORE             2.637867e+02\n",
      "dtype: float64\n",
      "SOUTH_CAROLINA\n",
      "YEAR                            2.004500e+03\n",
      "ENROLL                          7.048103e+05\n",
      "TOTAL_REVENUE                   6.098068e+06\n",
      "FEDERAL_REVENUE                 5.860797e+05\n",
      "STATE_REVENUE                   2.883160e+06\n",
      "LOCAL_REVENUE                   2.628829e+06\n",
      "TOTAL_EXPENDITURE               6.273602e+06\n",
      "INSTRUCTION_EXPENDITURE         3.009196e+06\n",
      "SUPPORT_SERVICES_EXPENDITURE    1.869796e+06\n",
      "OTHER_EXPENDITURE               3.444513e+05\n",
      "CAPITAL_OUTLAY_EXPENDITURE      8.066083e+05\n",
      "GRADES_PK_G                     1.785847e+04\n",
      "GRADES_KG_G                     5.166956e+04\n",
      "GRADES_4_G                      5.391353e+04\n",
      "GRADES_8_G                      5.429335e+04\n",
      "GRADES_12_G                     4.065380e+04\n",
      "GRADES_1_8_G                    4.365167e+05\n",
      "GRADES_9_12_G                   2.011096e+05\n",
      "GRADES_ALL_G                    6.569120e+05\n",
      "AVG_MATH_4_SCORE                2.330603e+02\n",
      "AVG_MATH_8_SCORE                2.767642e+02\n",
      "AVG_READING_4_SCORE             2.164673e+02\n",
      "AVG_READING_8_SCORE             2.638079e+02\n",
      "dtype: float64\n",
      "SOUTH_DAKOTA\n",
      "YEAR                            2.004500e+03\n",
      "ENROLL                          1.876592e+05\n",
      "TOTAL_REVENUE                   1.314863e+06\n",
      "FEDERAL_REVENUE                 1.677197e+05\n",
      "STATE_REVENUE                   4.700035e+05\n",
      "LOCAL_REVENUE                   6.771397e+05\n",
      "TOTAL_EXPENDITURE               1.329242e+06\n",
      "INSTRUCTION_EXPENDITURE         6.819367e+05\n",
      "SUPPORT_SERVICES_EXPENDITURE    3.890847e+05\n",
      "OTHER_EXPENDITURE               7.693755e+04\n",
      "CAPITAL_OUTLAY_EXPENDITURE      1.536106e+05\n",
      "GRADES_PK_G                     2.903663e+03\n",
      "GRADES_KG_G                     1.445417e+04\n",
      "GRADES_4_G                      1.401642e+04\n",
      "GRADES_8_G                      1.428666e+04\n",
      "GRADES_12_G                     1.255961e+04\n",
      "GRADES_1_8_G                    1.130957e+05\n",
      "GRADES_9_12_G                   5.544814e+04\n",
      "GRADES_ALL_G                    1.728747e+05\n",
      "AVG_MATH_4_SCORE                2.365874e+02\n",
      "AVG_MATH_8_SCORE                2.812168e+02\n",
      "AVG_READING_4_SCORE             2.196074e+02\n",
      "AVG_READING_8_SCORE             2.638694e+02\n",
      "dtype: float64\n",
      "TENNESSEE\n",
      "YEAR                            2.004500e+03\n",
      "ENROLL                          9.310175e+05\n",
      "TOTAL_REVENUE                   6.591576e+06\n",
      "FEDERAL_REVENUE                 7.160254e+05\n",
      "STATE_REVENUE                   3.004068e+06\n",
      "LOCAL_REVENUE                   2.871483e+06\n",
      "TOTAL_EXPENDITURE               6.864949e+06\n",
      "INSTRUCTION_EXPENDITURE         3.837942e+06\n",
      "SUPPORT_SERVICES_EXPENDITURE    1.906972e+06\n",
      "OTHER_EXPENDITURE               3.838612e+05\n",
      "CAPITAL_OUTLAY_EXPENDITURE      5.752418e+05\n",
      "GRADES_PK_G                     1.658085e+04\n",
      "GRADES_KG_G                     7.320602e+04\n",
      "GRADES_4_G                      7.101503e+04\n",
      "GRADES_8_G                      6.946427e+04\n",
      "GRADES_12_G                     5.702649e+04\n",
      "GRADES_1_8_G                    5.709438e+05\n",
      "GRADES_9_12_G                   2.632160e+05\n",
      "GRADES_ALL_G                    8.521679e+05\n",
      "AVG_MATH_4_SCORE                2.325209e+02\n",
      "AVG_MATH_8_SCORE                2.752994e+02\n",
      "AVG_READING_4_SCORE             2.173930e+02\n",
      "AVG_READING_8_SCORE             2.643524e+02\n",
      "dtype: float64\n"
     ]
    },
    {
     "name": "stdout",
     "output_type": "stream",
     "text": [
      "TEXAS\n",
      "YEAR                            2.004500e+03\n",
      "ENROLL                          4.053921e+06\n",
      "TOTAL_REVENUE                   3.581071e+07\n",
      "FEDERAL_REVENUE                 3.702552e+06\n",
      "STATE_REVENUE                   1.411665e+07\n",
      "LOCAL_REVENUE                   1.799150e+07\n",
      "TOTAL_EXPENDITURE               3.722592e+07\n",
      "INSTRUCTION_EXPENDITURE         1.774354e+07\n",
      "SUPPORT_SERVICES_EXPENDITURE    1.011587e+07\n",
      "OTHER_EXPENDITURE               1.745364e+06\n",
      "CAPITAL_OUTLAY_EXPENDITURE      4.993188e+06\n",
      "GRADES_PK_G                     1.753283e+05\n",
      "GRADES_KG_G                     3.089641e+05\n",
      "GRADES_4_G                      3.123813e+05\n",
      "GRADES_8_G                      3.050990e+05\n",
      "GRADES_12_G                     2.331205e+05\n",
      "GRADES_1_8_G                    2.512807e+06\n",
      "GRADES_9_12_G                   1.128030e+06\n",
      "GRADES_ALL_G                    3.817593e+06\n",
      "AVG_MATH_4_SCORE                2.358038e+02\n",
      "AVG_MATH_8_SCORE                2.792781e+02\n",
      "AVG_READING_4_SCORE             2.180476e+02\n",
      "AVG_READING_8_SCORE             2.641755e+02\n",
      "dtype: float64\n",
      "UTAH\n",
      "YEAR                            2.004500e+03\n",
      "ENROLL                          5.407402e+05\n",
      "TOTAL_REVENUE                   3.408918e+06\n",
      "FEDERAL_REVENUE                 3.115198e+05\n",
      "STATE_REVENUE                   1.833278e+06\n",
      "LOCAL_REVENUE                   1.264120e+06\n",
      "TOTAL_EXPENDITURE               3.450915e+06\n",
      "INSTRUCTION_EXPENDITURE         1.781119e+06\n",
      "SUPPORT_SERVICES_EXPENDITURE    8.427183e+05\n",
      "OTHER_EXPENDITURE               2.482020e+05\n",
      "CAPITAL_OUTLAY_EXPENDITURE      4.971184e+05\n",
      "GRADES_PK_G                     8.107124e+03\n",
      "GRADES_KG_G                     4.291367e+04\n",
      "GRADES_4_G                      4.217488e+04\n",
      "GRADES_8_G                      4.132177e+04\n",
      "GRADES_12_G                     3.807434e+04\n",
      "GRADES_1_8_G                    3.377349e+05\n",
      "GRADES_9_12_G                   1.604901e+05\n",
      "GRADES_ALL_G                    5.077594e+05\n",
      "AVG_MATH_4_SCORE                2.355031e+02\n",
      "AVG_MATH_8_SCORE                2.795502e+02\n",
      "AVG_READING_4_SCORE             2.197223e+02\n",
      "AVG_READING_8_SCORE             2.637117e+02\n",
      "dtype: float64\n",
      "VERMONT\n",
      "YEAR                            2.004500e+03\n",
      "ENROLL                          1.567331e+05\n",
      "TOTAL_REVENUE                   1.747830e+06\n",
      "FEDERAL_REVENUE                 1.066392e+05\n",
      "STATE_REVENUE                   1.018271e+06\n",
      "LOCAL_REVENUE                   6.229193e+05\n",
      "TOTAL_EXPENDITURE               1.742229e+06\n",
      "INSTRUCTION_EXPENDITURE         8.444321e+05\n",
      "SUPPORT_SERVICES_EXPENDITURE    4.633010e+05\n",
      "OTHER_EXPENDITURE               6.865943e+04\n",
      "CAPITAL_OUTLAY_EXPENDITURE      8.847420e+04\n",
      "GRADES_PK_G                     4.897163e+03\n",
      "GRADES_KG_G                     1.102521e+04\n",
      "GRADES_4_G                      1.154969e+04\n",
      "GRADES_8_G                      1.178358e+04\n",
      "GRADES_12_G                     1.059630e+04\n",
      "GRADES_1_8_G                    9.286673e+04\n",
      "GRADES_9_12_G                   4.634153e+04\n",
      "GRADES_ALL_G                    1.455327e+05\n",
      "AVG_MATH_4_SCORE                2.373476e+02\n",
      "AVG_MATH_8_SCORE                2.823656e+02\n",
      "AVG_READING_4_SCORE             2.218839e+02\n",
      "AVG_READING_8_SCORE             2.636309e+02\n",
      "dtype: float64\n",
      "VIRGINIA\n",
      "YEAR                            2.004750e+03\n",
      "ENROLL                          1.164455e+06\n",
      "TOTAL_REVENUE                   1.141287e+07\n",
      "FEDERAL_REVENUE                 7.693845e+05\n",
      "STATE_REVENUE                   4.521117e+06\n",
      "LOCAL_REVENUE                   6.122368e+06\n",
      "TOTAL_EXPENDITURE               1.164565e+07\n",
      "INSTRUCTION_EXPENDITURE         6.164003e+06\n",
      "SUPPORT_SERVICES_EXPENDITURE    3.534066e+06\n",
      "OTHER_EXPENDITURE               4.835264e+05\n",
      "CAPITAL_OUTLAY_EXPENDITURE      1.049796e+06\n",
      "GRADES_PK_G                     1.659079e+04\n",
      "GRADES_KG_G                     8.045734e+04\n",
      "GRADES_4_G                      8.165946e+04\n",
      "GRADES_8_G                      8.142733e+04\n",
      "GRADES_12_G                     6.979874e+04\n",
      "GRADES_1_8_G                    6.563102e+05\n",
      "GRADES_9_12_G                   3.133206e+05\n",
      "GRADES_ALL_G                    9.875470e+05\n",
      "AVG_MATH_4_SCORE                2.363329e+02\n",
      "AVG_MATH_8_SCORE                2.800813e+02\n",
      "AVG_READING_4_SCORE             2.211381e+02\n",
      "AVG_READING_8_SCORE             2.642090e+02\n",
      "dtype: float64\n",
      "WASHINGTON\n",
      "YEAR                            2.004500e+03\n",
      "ENROLL                          1.003398e+06\n",
      "TOTAL_REVENUE                   9.288078e+06\n",
      "FEDERAL_REVENUE                 7.530042e+05\n",
      "STATE_REVENUE                   5.705191e+06\n",
      "LOCAL_REVENUE                   2.829883e+06\n",
      "TOTAL_EXPENDITURE               9.470895e+06\n",
      "INSTRUCTION_EXPENDITURE         4.629573e+06\n",
      "SUPPORT_SERVICES_EXPENDITURE    2.804600e+06\n",
      "OTHER_EXPENDITURE               4.164838e+05\n",
      "CAPITAL_OUTLAY_EXPENDITURE      1.267522e+06\n",
      "GRADES_PK_G                     9.962586e+03\n",
      "GRADES_KG_G                     7.260987e+04\n",
      "GRADES_4_G                      7.601488e+04\n",
      "GRADES_8_G                      7.663370e+04\n",
      "GRADES_12_G                     7.176407e+04\n",
      "GRADES_1_8_G                    6.098032e+05\n",
      "GRADES_9_12_G                   3.061674e+05\n",
      "GRADES_ALL_G                    9.273604e+05\n",
      "AVG_MATH_4_SCORE                2.368094e+02\n",
      "AVG_MATH_8_SCORE                2.808717e+02\n",
      "AVG_READING_4_SCORE             2.200268e+02\n",
      "AVG_READING_8_SCORE             2.642875e+02\n",
      "dtype: float64\n",
      "WEST_VIRGINIA\n",
      "YEAR                            2.004500e+03\n",
      "ENROLL                          3.373439e+05\n",
      "TOTAL_REVENUE                   2.911637e+06\n",
      "FEDERAL_REVENUE                 3.057555e+05\n",
      "STATE_REVENUE                   1.666034e+06\n",
      "LOCAL_REVENUE                   9.398469e+05\n",
      "TOTAL_EXPENDITURE               2.921442e+06\n",
      "INSTRUCTION_EXPENDITURE         1.596836e+06\n",
      "SUPPORT_SERVICES_EXPENDITURE    8.967922e+05\n",
      "OTHER_EXPENDITURE               1.954896e+05\n",
      "CAPITAL_OUTLAY_EXPENDITURE      2.132494e+05\n",
      "GRADES_PK_G                     9.722893e+03\n",
      "GRADES_KG_G                     2.469633e+04\n",
      "GRADES_4_G                      2.443765e+04\n",
      "GRADES_8_G                      2.545893e+04\n",
      "GRADES_12_G                     2.222292e+04\n",
      "GRADES_1_8_G                    1.989490e+05\n",
      "GRADES_9_12_G                   9.854210e+04\n",
      "GRADES_ALL_G                    3.086413e+05\n",
      "AVG_MATH_4_SCORE                2.330493e+02\n",
      "AVG_MATH_8_SCORE                2.747647e+02\n",
      "AVG_READING_4_SCORE             2.175991e+02\n",
      "AVG_READING_8_SCORE             2.642389e+02\n",
      "dtype: float64\n",
      "WISCONSIN\n",
      "YEAR                            2.004500e+03\n",
      "ENROLL                          8.708631e+05\n",
      "TOTAL_REVENUE                   8.950510e+06\n",
      "FEDERAL_REVENUE                 5.796744e+05\n",
      "STATE_REVENUE                   4.397468e+06\n",
      "LOCAL_REVENUE                   3.973368e+06\n",
      "TOTAL_EXPENDITURE               9.003227e+06\n",
      "INSTRUCTION_EXPENDITURE         4.762588e+06\n",
      "SUPPORT_SERVICES_EXPENDITURE    2.749234e+06\n",
      "OTHER_EXPENDITURE               3.676539e+05\n",
      "CAPITAL_OUTLAY_EXPENDITURE      6.838591e+05\n",
      "GRADES_PK_G                     3.213193e+04\n",
      "GRADES_KG_G                     6.046610e+04\n",
      "GRADES_4_G                      6.239957e+04\n",
      "GRADES_8_G                      6.478258e+04\n",
      "GRADES_12_G                     6.473096e+04\n",
      "GRADES_1_8_G                    5.037051e+05\n",
      "GRADES_9_12_G                   2.729559e+05\n",
      "GRADES_ALL_G                    8.102202e+05\n",
      "AVG_MATH_4_SCORE                2.367148e+02\n",
      "AVG_MATH_8_SCORE                2.812389e+02\n",
      "AVG_READING_4_SCORE             2.200330e+02\n",
      "AVG_READING_8_SCORE             2.638990e+02\n",
      "dtype: float64\n",
      "BUREAU_OF_INDIAN_AFFAIRS\n",
      "YEAR                            2.006000e+03\n",
      "ENROLL                          9.159308e+05\n",
      "TOTAL_REVENUE                   9.092082e+06\n",
      "FEDERAL_REVENUE                 7.663723e+05\n",
      "STATE_REVENUE                   4.216553e+06\n",
      "LOCAL_REVENUE                   4.109157e+06\n",
      "TOTAL_EXPENDITURE               9.196681e+06\n",
      "INSTRUCTION_EXPENDITURE         4.762966e+06\n",
      "SUPPORT_SERVICES_EXPENDITURE    2.680331e+06\n",
      "OTHER_EXPENDITURE               4.292046e+05\n",
      "CAPITAL_OUTLAY_EXPENDITURE      9.027693e+05\n",
      "GRADES_PK_G                     1.760161e+04\n",
      "GRADES_KG_G                     3.606814e+04\n",
      "GRADES_4_G                      3.219510e+04\n",
      "GRADES_8_G                      3.201729e+04\n",
      "GRADES_12_G                     2.648843e+04\n",
      "GRADES_1_8_G                    2.589136e+05\n",
      "GRADES_9_12_G                   1.217582e+05\n",
      "GRADES_ALL_G                    8.024415e+05\n",
      "AVG_MATH_4_SCORE                2.347683e+02\n",
      "AVG_MATH_8_SCORE                2.784147e+02\n",
      "AVG_READING_4_SCORE             2.188662e+02\n",
      "AVG_READING_8_SCORE             2.636611e+02\n",
      "dtype: float64\n",
      "DEPARTMENT_OF_DEFENSE\n",
      "YEAR                            2.004759e+03\n",
      "ENROLL                          9.159308e+05\n",
      "TOTAL_REVENUE                   9.092082e+06\n",
      "FEDERAL_REVENUE                 7.663723e+05\n",
      "STATE_REVENUE                   4.216553e+06\n",
      "LOCAL_REVENUE                   4.109157e+06\n",
      "TOTAL_EXPENDITURE               9.196681e+06\n",
      "INSTRUCTION_EXPENDITURE         4.762966e+06\n",
      "SUPPORT_SERVICES_EXPENDITURE    2.680331e+06\n",
      "OTHER_EXPENDITURE               4.292046e+05\n",
      "CAPITAL_OUTLAY_EXPENDITURE      9.027693e+05\n",
      "GRADES_PK_G                     6.676307e+03\n",
      "GRADES_KG_G                     2.171604e+04\n",
      "GRADES_4_G                      2.148364e+04\n",
      "GRADES_8_G                      2.035895e+04\n",
      "GRADES_12_G                     1.638674e+04\n",
      "GRADES_1_8_G                    1.712931e+05\n",
      "GRADES_9_12_G                   7.551844e+04\n",
      "GRADES_ALL_G                    2.586063e+05\n",
      "AVG_MATH_4_SCORE                2.347683e+02\n",
      "AVG_MATH_8_SCORE                2.784147e+02\n",
      "AVG_READING_4_SCORE             2.188662e+02\n",
      "AVG_READING_8_SCORE             2.636611e+02\n",
      "dtype: float64\n",
      "AMERICAN_SAMOA\n",
      "YEAR                            2.003043e+03\n",
      "ENROLL                          9.159308e+05\n",
      "TOTAL_REVENUE                   9.092082e+06\n",
      "FEDERAL_REVENUE                 7.663723e+05\n",
      "STATE_REVENUE                   4.216553e+06\n",
      "LOCAL_REVENUE                   4.109157e+06\n",
      "TOTAL_EXPENDITURE               9.196681e+06\n",
      "INSTRUCTION_EXPENDITURE         4.762966e+06\n",
      "SUPPORT_SERVICES_EXPENDITURE    2.680331e+06\n",
      "OTHER_EXPENDITURE               4.292046e+05\n",
      "CAPITAL_OUTLAY_EXPENDITURE      9.027693e+05\n",
      "GRADES_PK_G                     7.097301e+03\n",
      "GRADES_KG_G                     2.288140e+04\n",
      "GRADES_4_G                      2.319593e+04\n",
      "GRADES_8_G                      2.303211e+04\n",
      "GRADES_12_G                     1.941141e+04\n",
      "GRADES_1_8_G                    1.864539e+05\n",
      "GRADES_9_12_G                   8.839460e+04\n",
      "GRADES_ALL_G                    2.883995e+05\n",
      "AVG_MATH_4_SCORE                2.347683e+02\n",
      "AVG_MATH_8_SCORE                2.784147e+02\n",
      "AVG_READING_4_SCORE             2.188662e+02\n",
      "AVG_READING_8_SCORE             2.636611e+02\n",
      "dtype: float64\n",
      "GUAM\n",
      "YEAR                            2.003500e+03\n",
      "ENROLL                          9.159308e+05\n",
      "TOTAL_REVENUE                   9.092082e+06\n",
      "FEDERAL_REVENUE                 7.663723e+05\n",
      "STATE_REVENUE                   4.216553e+06\n",
      "LOCAL_REVENUE                   4.109157e+06\n",
      "TOTAL_EXPENDITURE               9.196681e+06\n",
      "INSTRUCTION_EXPENDITURE         4.762966e+06\n",
      "SUPPORT_SERVICES_EXPENDITURE    2.680331e+06\n",
      "OTHER_EXPENDITURE               4.292046e+05\n",
      "CAPITAL_OUTLAY_EXPENDITURE      9.027693e+05\n",
      "GRADES_PK_G                     4.039128e+03\n",
      "GRADES_KG_G                     1.526987e+04\n",
      "GRADES_4_G                      1.542644e+04\n",
      "GRADES_8_G                      1.524385e+04\n",
      "GRADES_12_G                     1.246403e+04\n",
      "GRADES_1_8_G                    1.238905e+05\n",
      "GRADES_9_12_G                   5.856382e+04\n",
      "GRADES_ALL_G                    1.903590e+05\n",
      "AVG_MATH_4_SCORE                2.347683e+02\n",
      "AVG_MATH_8_SCORE                2.784147e+02\n",
      "AVG_READING_4_SCORE             2.188662e+02\n",
      "AVG_READING_8_SCORE             2.636611e+02\n"
     ]
    },
    {
     "name": "stdout",
     "output_type": "stream",
     "text": [
      "dtype: float64\n",
      "MARIANAS\n",
      "YEAR                            2.002500e+03\n",
      "ENROLL                          9.159308e+05\n",
      "TOTAL_REVENUE                   9.092082e+06\n",
      "FEDERAL_REVENUE                 7.663723e+05\n",
      "STATE_REVENUE                   4.216553e+06\n",
      "LOCAL_REVENUE                   4.109157e+06\n",
      "TOTAL_EXPENDITURE               9.196681e+06\n",
      "INSTRUCTION_EXPENDITURE         4.762966e+06\n",
      "SUPPORT_SERVICES_EXPENDITURE    2.680331e+06\n",
      "OTHER_EXPENDITURE               4.292046e+05\n",
      "CAPITAL_OUTLAY_EXPENDITURE      9.027693e+05\n",
      "GRADES_PK_G                     5.196818e+02\n",
      "GRADES_KG_G                     6.337273e+02\n",
      "GRADES_4_G                      8.070000e+02\n",
      "GRADES_8_G                      7.334091e+02\n",
      "GRADES_12_G                     5.187273e+02\n",
      "GRADES_1_8_G                    6.374955e+03\n",
      "GRADES_9_12_G                   2.673364e+03\n",
      "GRADES_ALL_G                    9.568000e+03\n",
      "AVG_MATH_4_SCORE                2.347683e+02\n",
      "AVG_MATH_8_SCORE                2.784147e+02\n",
      "AVG_READING_4_SCORE             2.188662e+02\n",
      "AVG_READING_8_SCORE             2.636611e+02\n",
      "dtype: float64\n",
      "PUERTO_RICO\n",
      "YEAR                            2.003500e+03\n",
      "ENROLL                          9.159308e+05\n",
      "TOTAL_REVENUE                   9.092082e+06\n",
      "FEDERAL_REVENUE                 7.663723e+05\n",
      "STATE_REVENUE                   4.216553e+06\n",
      "LOCAL_REVENUE                   4.109157e+06\n",
      "TOTAL_EXPENDITURE               9.196681e+06\n",
      "INSTRUCTION_EXPENDITURE         4.762966e+06\n",
      "SUPPORT_SERVICES_EXPENDITURE    2.680331e+06\n",
      "OTHER_EXPENDITURE               4.292046e+05\n",
      "CAPITAL_OUTLAY_EXPENDITURE      9.027693e+05\n",
      "GRADES_PK_G                     6.877083e+02\n",
      "GRADES_KG_G                     3.636304e+04\n",
      "GRADES_4_G                      4.309262e+04\n",
      "GRADES_8_G                      4.294012e+04\n",
      "GRADES_12_G                     3.143058e+04\n",
      "GRADES_1_8_G                    3.460772e+05\n",
      "GRADES_9_12_G                   1.493409e+05\n",
      "GRADES_ALL_G                    4.961058e+05\n",
      "AVG_MATH_4_SCORE                2.347683e+02\n",
      "AVG_MATH_8_SCORE                2.784147e+02\n",
      "AVG_READING_4_SCORE             2.188662e+02\n",
      "AVG_READING_8_SCORE             2.636611e+02\n",
      "dtype: float64\n",
      "VIRGIN_ISLANDS\n",
      "YEAR                            2.003227e+03\n",
      "ENROLL                          9.159308e+05\n",
      "TOTAL_REVENUE                   9.092082e+06\n",
      "FEDERAL_REVENUE                 7.663723e+05\n",
      "STATE_REVENUE                   4.216553e+06\n",
      "LOCAL_REVENUE                   4.109157e+06\n",
      "TOTAL_EXPENDITURE               9.196681e+06\n",
      "INSTRUCTION_EXPENDITURE         4.762966e+06\n",
      "SUPPORT_SERVICES_EXPENDITURE    2.680331e+06\n",
      "OTHER_EXPENDITURE               4.292046e+05\n",
      "CAPITAL_OUTLAY_EXPENDITURE      9.027693e+05\n",
      "GRADES_PK_G                     1.760161e+04\n",
      "GRADES_KG_G                     4.062853e+03\n",
      "GRADES_4_G                      4.304315e+03\n",
      "GRADES_8_G                      4.198366e+03\n",
      "GRADES_12_G                     3.471133e+03\n",
      "GRADES_1_8_G                    3.444577e+04\n",
      "GRADES_9_12_G                   1.626033e+04\n",
      "GRADES_ALL_G                    8.024415e+05\n",
      "AVG_MATH_4_SCORE                2.347683e+02\n",
      "AVG_MATH_8_SCORE                2.784147e+02\n",
      "AVG_READING_4_SCORE             2.188662e+02\n",
      "AVG_READING_8_SCORE             2.636611e+02\n",
      "dtype: float64\n",
      "U.S._VIRGIN_ISLANDS\n",
      "YEAR                            2.006500e+03\n",
      "ENROLL                          9.159308e+05\n",
      "TOTAL_REVENUE                   9.092082e+06\n",
      "FEDERAL_REVENUE                 7.663723e+05\n",
      "STATE_REVENUE                   4.216553e+06\n",
      "LOCAL_REVENUE                   4.109157e+06\n",
      "TOTAL_EXPENDITURE               9.196681e+06\n",
      "INSTRUCTION_EXPENDITURE         4.762966e+06\n",
      "SUPPORT_SERVICES_EXPENDITURE    2.680331e+06\n",
      "OTHER_EXPENDITURE               4.292046e+05\n",
      "CAPITAL_OUTLAY_EXPENDITURE      9.027693e+05\n",
      "GRADES_PK_G                     1.760161e+04\n",
      "GRADES_KG_G                     1.194500e+03\n",
      "GRADES_4_G                      1.375500e+03\n",
      "GRADES_8_G                      1.277500e+03\n",
      "GRADES_12_G                     9.565000e+02\n",
      "GRADES_1_8_G                    1.110750e+04\n",
      "GRADES_9_12_G                   5.002500e+03\n",
      "GRADES_ALL_G                    8.024415e+05\n",
      "AVG_MATH_4_SCORE                2.347683e+02\n",
      "AVG_MATH_8_SCORE                2.784147e+02\n",
      "AVG_READING_4_SCORE             2.188662e+02\n",
      "AVG_READING_8_SCORE             2.636611e+02\n",
      "dtype: float64\n"
     ]
    }
   ],
   "source": [
    "for state in education1_df['STATE'].unique():\n",
    "    print(state)\n",
    "    mean = education1_df[education1_df['STATE']== state].mean()\n",
    "    print(mean)\n",
    "\n",
    "    for column in fill_list:\n",
    "        education1_df.loc[:, column] = education1_df.loc[:, column].fillna(education1_df.loc[:, column].mean())\n",
    "    \n",
    "    print"
   ]
  },
  {
   "cell_type": "code",
   "execution_count": 19,
   "metadata": {},
   "outputs": [
    {
     "data": {
      "text/plain": [
       "PRIMARY_KEY                     0\n",
       "STATE                           0\n",
       "YEAR                            0\n",
       "ENROLL                          0\n",
       "TOTAL_REVENUE                   0\n",
       "FEDERAL_REVENUE                 0\n",
       "STATE_REVENUE                   0\n",
       "LOCAL_REVENUE                   0\n",
       "TOTAL_EXPENDITURE               0\n",
       "INSTRUCTION_EXPENDITURE         0\n",
       "SUPPORT_SERVICES_EXPENDITURE    0\n",
       "OTHER_EXPENDITURE               0\n",
       "CAPITAL_OUTLAY_EXPENDITURE      0\n",
       "GRADES_PK_G                     0\n",
       "GRADES_KG_G                     0\n",
       "GRADES_4_G                      0\n",
       "GRADES_8_G                      0\n",
       "GRADES_12_G                     0\n",
       "GRADES_1_8_G                    0\n",
       "GRADES_9_12_G                   0\n",
       "GRADES_ALL_G                    0\n",
       "AVG_MATH_4_SCORE                0\n",
       "AVG_MATH_8_SCORE                0\n",
       "AVG_READING_4_SCORE             0\n",
       "AVG_READING_8_SCORE             0\n",
       "dtype: int64"
      ]
     },
     "execution_count": 19,
     "metadata": {},
     "output_type": "execute_result"
    }
   ],
   "source": [
    "education1_df.isnull().sum()"
   ]
  },
  {
   "cell_type": "code",
   "execution_count": 20,
   "metadata": {},
   "outputs": [
    {
     "data": {
      "text/html": [
       "<div>\n",
       "<style scoped>\n",
       "    .dataframe tbody tr th:only-of-type {\n",
       "        vertical-align: middle;\n",
       "    }\n",
       "\n",
       "    .dataframe tbody tr th {\n",
       "        vertical-align: top;\n",
       "    }\n",
       "\n",
       "    .dataframe thead th {\n",
       "        text-align: right;\n",
       "    }\n",
       "</style>\n",
       "<table border=\"1\" class=\"dataframe\">\n",
       "  <thead>\n",
       "    <tr style=\"text-align: right;\">\n",
       "      <th></th>\n",
       "      <th>YEAR</th>\n",
       "      <th>ENROLL</th>\n",
       "      <th>TOTAL_REVENUE</th>\n",
       "      <th>FEDERAL_REVENUE</th>\n",
       "      <th>STATE_REVENUE</th>\n",
       "      <th>LOCAL_REVENUE</th>\n",
       "      <th>TOTAL_EXPENDITURE</th>\n",
       "      <th>INSTRUCTION_EXPENDITURE</th>\n",
       "      <th>SUPPORT_SERVICES_EXPENDITURE</th>\n",
       "      <th>OTHER_EXPENDITURE</th>\n",
       "      <th>...</th>\n",
       "      <th>GRADES_4_G</th>\n",
       "      <th>GRADES_8_G</th>\n",
       "      <th>GRADES_12_G</th>\n",
       "      <th>GRADES_1_8_G</th>\n",
       "      <th>GRADES_9_12_G</th>\n",
       "      <th>GRADES_ALL_G</th>\n",
       "      <th>AVG_MATH_4_SCORE</th>\n",
       "      <th>AVG_MATH_8_SCORE</th>\n",
       "      <th>AVG_READING_4_SCORE</th>\n",
       "      <th>AVG_READING_8_SCORE</th>\n",
       "    </tr>\n",
       "  </thead>\n",
       "  <tbody>\n",
       "    <tr>\n",
       "      <th>count</th>\n",
       "      <td>1492.000000</td>\n",
       "      <td>1.492000e+03</td>\n",
       "      <td>1.492000e+03</td>\n",
       "      <td>1.492000e+03</td>\n",
       "      <td>1.492000e+03</td>\n",
       "      <td>1.492000e+03</td>\n",
       "      <td>1.492000e+03</td>\n",
       "      <td>1.492000e+03</td>\n",
       "      <td>1.492000e+03</td>\n",
       "      <td>1.492000e+03</td>\n",
       "      <td>...</td>\n",
       "      <td>1492.000000</td>\n",
       "      <td>1492.000000</td>\n",
       "      <td>1492.000000</td>\n",
       "      <td>1.492000e+03</td>\n",
       "      <td>1.492000e+03</td>\n",
       "      <td>1.492000e+03</td>\n",
       "      <td>1492.000000</td>\n",
       "      <td>1492.000000</td>\n",
       "      <td>1492.000000</td>\n",
       "      <td>1492.000000</td>\n",
       "    </tr>\n",
       "    <tr>\n",
       "      <th>mean</th>\n",
       "      <td>2004.433646</td>\n",
       "      <td>9.159308e+05</td>\n",
       "      <td>9.092082e+06</td>\n",
       "      <td>7.663723e+05</td>\n",
       "      <td>4.216553e+06</td>\n",
       "      <td>4.109157e+06</td>\n",
       "      <td>9.196681e+06</td>\n",
       "      <td>4.762966e+06</td>\n",
       "      <td>2.680331e+06</td>\n",
       "      <td>4.292046e+05</td>\n",
       "      <td>...</td>\n",
       "      <td>64538.927259</td>\n",
       "      <td>64271.057311</td>\n",
       "      <td>54268.924320</td>\n",
       "      <td>5.192140e+05</td>\n",
       "      <td>2.470714e+05</td>\n",
       "      <td>8.024415e+05</td>\n",
       "      <td>234.768293</td>\n",
       "      <td>278.414711</td>\n",
       "      <td>218.866154</td>\n",
       "      <td>263.661132</td>\n",
       "    </tr>\n",
       "    <tr>\n",
       "      <th>std</th>\n",
       "      <td>7.393983</td>\n",
       "      <td>9.667725e+05</td>\n",
       "      <td>1.087818e+07</td>\n",
       "      <td>1.060702e+06</td>\n",
       "      <td>5.133895e+06</td>\n",
       "      <td>5.078230e+06</td>\n",
       "      <td>1.109393e+07</td>\n",
       "      <td>5.828468e+06</td>\n",
       "      <td>3.105812e+06</td>\n",
       "      <td>4.846832e+05</td>\n",
       "      <td>...</td>\n",
       "      <td>76684.998585</td>\n",
       "      <td>75364.301721</td>\n",
       "      <td>64838.328605</td>\n",
       "      <td>6.147133e+05</td>\n",
       "      <td>2.938773e+05</td>\n",
       "      <td>9.126522e+05</td>\n",
       "      <td>6.122843</td>\n",
       "      <td>6.063038</td>\n",
       "      <td>4.641053</td>\n",
       "      <td>3.928132</td>\n",
       "    </tr>\n",
       "    <tr>\n",
       "      <th>min</th>\n",
       "      <td>1992.000000</td>\n",
       "      <td>4.386600e+04</td>\n",
       "      <td>4.656500e+05</td>\n",
       "      <td>3.102000e+04</td>\n",
       "      <td>0.000000e+00</td>\n",
       "      <td>2.209300e+04</td>\n",
       "      <td>4.816650e+05</td>\n",
       "      <td>2.655490e+05</td>\n",
       "      <td>1.399630e+05</td>\n",
       "      <td>1.154100e+04</td>\n",
       "      <td>...</td>\n",
       "      <td>633.000000</td>\n",
       "      <td>437.000000</td>\n",
       "      <td>311.000000</td>\n",
       "      <td>4.878000e+03</td>\n",
       "      <td>1.808000e+03</td>\n",
       "      <td>7.254000e+03</td>\n",
       "      <td>187.134670</td>\n",
       "      <td>232.831510</td>\n",
       "      <td>178.557612</td>\n",
       "      <td>236.379102</td>\n",
       "    </tr>\n",
       "    <tr>\n",
       "      <th>25%</th>\n",
       "      <td>1998.000000</td>\n",
       "      <td>3.150940e+05</td>\n",
       "      <td>2.546261e+06</td>\n",
       "      <td>2.170200e+05</td>\n",
       "      <td>1.356434e+06</td>\n",
       "      <td>9.447962e+05</td>\n",
       "      <td>2.523968e+06</td>\n",
       "      <td>1.343611e+06</td>\n",
       "      <td>7.673688e+05</td>\n",
       "      <td>1.354282e+05</td>\n",
       "      <td>...</td>\n",
       "      <td>15195.500000</td>\n",
       "      <td>15682.750000</td>\n",
       "      <td>13437.000000</td>\n",
       "      <td>1.211522e+05</td>\n",
       "      <td>5.919750e+04</td>\n",
       "      <td>2.293578e+05</td>\n",
       "      <td>234.768293</td>\n",
       "      <td>278.414711</td>\n",
       "      <td>218.866154</td>\n",
       "      <td>263.661132</td>\n",
       "    </tr>\n",
       "    <tr>\n",
       "      <th>50%</th>\n",
       "      <td>2004.000000</td>\n",
       "      <td>8.204140e+05</td>\n",
       "      <td>6.359310e+06</td>\n",
       "      <td>5.167410e+05</td>\n",
       "      <td>3.127639e+06</td>\n",
       "      <td>2.697257e+06</td>\n",
       "      <td>6.520224e+06</td>\n",
       "      <td>3.358142e+06</td>\n",
       "      <td>1.913844e+06</td>\n",
       "      <td>3.672335e+05</td>\n",
       "      <td>...</td>\n",
       "      <td>49884.500000</td>\n",
       "      <td>49571.000000</td>\n",
       "      <td>39566.000000</td>\n",
       "      <td>4.015865e+05</td>\n",
       "      <td>1.817010e+05</td>\n",
       "      <td>6.473260e+05</td>\n",
       "      <td>234.768293</td>\n",
       "      <td>278.414711</td>\n",
       "      <td>218.866154</td>\n",
       "      <td>263.661132</td>\n",
       "    </tr>\n",
       "    <tr>\n",
       "      <th>75%</th>\n",
       "      <td>2011.000000</td>\n",
       "      <td>9.211780e+05</td>\n",
       "      <td>9.276958e+06</td>\n",
       "      <td>7.663723e+05</td>\n",
       "      <td>4.269811e+06</td>\n",
       "      <td>4.109157e+06</td>\n",
       "      <td>9.434922e+06</td>\n",
       "      <td>4.938820e+06</td>\n",
       "      <td>2.795888e+06</td>\n",
       "      <td>4.568915e+05</td>\n",
       "      <td>...</td>\n",
       "      <td>71814.250000</td>\n",
       "      <td>72131.000000</td>\n",
       "      <td>64616.250000</td>\n",
       "      <td>5.749118e+05</td>\n",
       "      <td>2.825390e+05</td>\n",
       "      <td>8.724220e+05</td>\n",
       "      <td>234.768293</td>\n",
       "      <td>278.414711</td>\n",
       "      <td>218.866154</td>\n",
       "      <td>263.661132</td>\n",
       "    </tr>\n",
       "    <tr>\n",
       "      <th>max</th>\n",
       "      <td>2017.000000</td>\n",
       "      <td>6.307022e+06</td>\n",
       "      <td>8.921726e+07</td>\n",
       "      <td>9.990221e+06</td>\n",
       "      <td>5.090457e+07</td>\n",
       "      <td>3.610526e+07</td>\n",
       "      <td>8.532013e+07</td>\n",
       "      <td>4.396452e+07</td>\n",
       "      <td>2.605802e+07</td>\n",
       "      <td>3.995951e+06</td>\n",
       "      <td>...</td>\n",
       "      <td>493415.000000</td>\n",
       "      <td>500143.000000</td>\n",
       "      <td>498403.000000</td>\n",
       "      <td>3.929869e+06</td>\n",
       "      <td>2.013687e+06</td>\n",
       "      <td>5.944746e+06</td>\n",
       "      <td>253.420961</td>\n",
       "      <td>300.568235</td>\n",
       "      <td>236.773867</td>\n",
       "      <td>280.499130</td>\n",
       "    </tr>\n",
       "  </tbody>\n",
       "</table>\n",
       "<p>8 rows × 23 columns</p>\n",
       "</div>"
      ],
      "text/plain": [
       "              YEAR        ENROLL  TOTAL_REVENUE  FEDERAL_REVENUE  \\\n",
       "count  1492.000000  1.492000e+03   1.492000e+03     1.492000e+03   \n",
       "mean   2004.433646  9.159308e+05   9.092082e+06     7.663723e+05   \n",
       "std       7.393983  9.667725e+05   1.087818e+07     1.060702e+06   \n",
       "min    1992.000000  4.386600e+04   4.656500e+05     3.102000e+04   \n",
       "25%    1998.000000  3.150940e+05   2.546261e+06     2.170200e+05   \n",
       "50%    2004.000000  8.204140e+05   6.359310e+06     5.167410e+05   \n",
       "75%    2011.000000  9.211780e+05   9.276958e+06     7.663723e+05   \n",
       "max    2017.000000  6.307022e+06   8.921726e+07     9.990221e+06   \n",
       "\n",
       "       STATE_REVENUE  LOCAL_REVENUE  TOTAL_EXPENDITURE  \\\n",
       "count   1.492000e+03   1.492000e+03       1.492000e+03   \n",
       "mean    4.216553e+06   4.109157e+06       9.196681e+06   \n",
       "std     5.133895e+06   5.078230e+06       1.109393e+07   \n",
       "min     0.000000e+00   2.209300e+04       4.816650e+05   \n",
       "25%     1.356434e+06   9.447962e+05       2.523968e+06   \n",
       "50%     3.127639e+06   2.697257e+06       6.520224e+06   \n",
       "75%     4.269811e+06   4.109157e+06       9.434922e+06   \n",
       "max     5.090457e+07   3.610526e+07       8.532013e+07   \n",
       "\n",
       "       INSTRUCTION_EXPENDITURE  SUPPORT_SERVICES_EXPENDITURE  \\\n",
       "count             1.492000e+03                  1.492000e+03   \n",
       "mean              4.762966e+06                  2.680331e+06   \n",
       "std               5.828468e+06                  3.105812e+06   \n",
       "min               2.655490e+05                  1.399630e+05   \n",
       "25%               1.343611e+06                  7.673688e+05   \n",
       "50%               3.358142e+06                  1.913844e+06   \n",
       "75%               4.938820e+06                  2.795888e+06   \n",
       "max               4.396452e+07                  2.605802e+07   \n",
       "\n",
       "       OTHER_EXPENDITURE  ...     GRADES_4_G     GRADES_8_G    GRADES_12_G  \\\n",
       "count       1.492000e+03  ...    1492.000000    1492.000000    1492.000000   \n",
       "mean        4.292046e+05  ...   64538.927259   64271.057311   54268.924320   \n",
       "std         4.846832e+05  ...   76684.998585   75364.301721   64838.328605   \n",
       "min         1.154100e+04  ...     633.000000     437.000000     311.000000   \n",
       "25%         1.354282e+05  ...   15195.500000   15682.750000   13437.000000   \n",
       "50%         3.672335e+05  ...   49884.500000   49571.000000   39566.000000   \n",
       "75%         4.568915e+05  ...   71814.250000   72131.000000   64616.250000   \n",
       "max         3.995951e+06  ...  493415.000000  500143.000000  498403.000000   \n",
       "\n",
       "       GRADES_1_8_G  GRADES_9_12_G  GRADES_ALL_G  AVG_MATH_4_SCORE  \\\n",
       "count  1.492000e+03   1.492000e+03  1.492000e+03       1492.000000   \n",
       "mean   5.192140e+05   2.470714e+05  8.024415e+05        234.768293   \n",
       "std    6.147133e+05   2.938773e+05  9.126522e+05          6.122843   \n",
       "min    4.878000e+03   1.808000e+03  7.254000e+03        187.134670   \n",
       "25%    1.211522e+05   5.919750e+04  2.293578e+05        234.768293   \n",
       "50%    4.015865e+05   1.817010e+05  6.473260e+05        234.768293   \n",
       "75%    5.749118e+05   2.825390e+05  8.724220e+05        234.768293   \n",
       "max    3.929869e+06   2.013687e+06  5.944746e+06        253.420961   \n",
       "\n",
       "       AVG_MATH_8_SCORE  AVG_READING_4_SCORE  AVG_READING_8_SCORE  \n",
       "count       1492.000000          1492.000000          1492.000000  \n",
       "mean         278.414711           218.866154           263.661132  \n",
       "std            6.063038             4.641053             3.928132  \n",
       "min          232.831510           178.557612           236.379102  \n",
       "25%          278.414711           218.866154           263.661132  \n",
       "50%          278.414711           218.866154           263.661132  \n",
       "75%          278.414711           218.866154           263.661132  \n",
       "max          300.568235           236.773867           280.499130  \n",
       "\n",
       "[8 rows x 23 columns]"
      ]
     },
     "execution_count": 20,
     "metadata": {},
     "output_type": "execute_result"
    }
   ],
   "source": [
    "education1_df.describe()"
   ]
  },
  {
   "cell_type": "markdown",
   "metadata": {},
   "source": [
    "##### Question 1\n",
    "Consider the two variables: TOTAL_REVENUE and TOTAL_EXPENDITURE. Do these variables have outlier values?"
   ]
  },
  {
   "cell_type": "code",
   "execution_count": 21,
   "metadata": {},
   "outputs": [
    {
     "data": {
      "image/png": "[encoded data removed]",
      "text/plain": [
       "<Figure size 432x288 with 1 Axes>"
      ]
     },
     "metadata": {
      "needs_background": "light"
     },
     "output_type": "display_data"
    }
   ],
   "source": [
    "plt.boxplot(education1_df['TOTAL_REVENUE'])\n",
    "plt.title('Box plot of Total Revenue (whis=1.5)')\n",
    "plt.show()"
   ]
  },
  {
   "cell_type": "markdown",
   "metadata": {},
   "source": [
    "above plot is too compressed; using the histogram,it is easier to see how far out the outliers span; will change whis to 8 (below)"
   ]
  },
  {
   "cell_type": "code",
   "execution_count": 22,
   "metadata": {},
   "outputs": [
    {
     "data": {
      "image/png": "[encoded data removed]",
      "text/plain": [
       "<Figure size 432x288 with 1 Axes>"
      ]
     },
     "metadata": {
      "needs_background": "light"
     },
     "output_type": "display_data"
    }
   ],
   "source": [
    "plt.boxplot(education1_df['TOTAL_REVENUE'], whis=8)\n",
    "plt.title('Box plot of Total Revenue (whis=8)')\n",
    "plt.show()"
   ]
  },
  {
   "cell_type": "code",
   "execution_count": 23,
   "metadata": {},
   "outputs": [
    {
     "data": {
      "image/png": "[encoded data removed]",
      "text/plain": [
       "<Figure size 432x288 with 1 Axes>"
      ]
     },
     "metadata": {
      "needs_background": "light"
     },
     "output_type": "display_data"
    }
   ],
   "source": [
    "plt.hist(education1_df['TOTAL_REVENUE'])\n",
    "plt.title('Histogram of Total Revenue')\n",
    "plt.show()"
   ]
  },
  {
   "cell_type": "code",
   "execution_count": 25,
   "metadata": {},
   "outputs": [
    {
     "data": {
      "image/png": "[encoded data removed]",
      "text/plain": [
       "<Figure size 432x288 with 1 Axes>"
      ]
     },
     "metadata": {
      "needs_background": "light"
     },
     "output_type": "display_data"
    }
   ],
   "source": [
    "plt.hist(education1_df['TOTAL_EXPENDITURE'])\n",
    "plt.title('Histogram of Total Expenditure')\n",
    "plt.show()"
   ]
  },
  {
   "cell_type": "code",
   "execution_count": 26,
   "metadata": {},
   "outputs": [
    {
     "data": {
      "image/png": "[encoded data removed]",
      "text/plain": [
       "<Figure size 432x288 with 1 Axes>"
      ]
     },
     "metadata": {
      "needs_background": "light"
     },
     "output_type": "display_data"
    }
   ],
   "source": [
    "plt.boxplot(education1_df['TOTAL_EXPENDITURE'], whis=9)\n",
    "plt.title('Box plot of Total Expenditure (whis=9)')\n",
    "plt.show()"
   ]
  },
  {
   "cell_type": "code",
   "execution_count": 27,
   "metadata": {},
   "outputs": [
    {
     "name": "stdout",
     "output_type": "stream",
     "text": [
      "The score threshold is: 1\n",
      "The indices of the outliers:\n",
      "(array([   4,   32,   56,   85,   96,  108,  137,  150,  161,  190,  201,\n",
      "        213,  241,  252,  264,  292,  304,  316,  344,  355,  367,  396,\n",
      "        407,  420,  449,  460,  472,  481,  501,  512,  524,  552,  564,\n",
      "        576,  605,  616,  628,  633,  637,  654,  656,  662,  668,  680,\n",
      "        685,  689,  706,  708,  714,  719,  731,  737,  741,  758,  760,\n",
      "        763,  766,  771,  784,  789,  793,  802,  811,  813,  816,  819,\n",
      "        824,  836,  842,  846,  855,  863,  865,  868,  871,  876,  891,\n",
      "        897,  901,  919,  921,  924,  927,  932,  944,  950,  954,  971,\n",
      "        973,  976,  979,  984,  997, 1002, 1006, 1023, 1025, 1028, 1031,\n",
      "       1036, 1048, 1053, 1057, 1075, 1077, 1080, 1083, 1088, 1101, 1106,\n",
      "       1110, 1127, 1129, 1132, 1135, 1140, 1152, 1157, 1161, 1178, 1180,\n",
      "       1183, 1186, 1191, 1203, 1208, 1212, 1229, 1231, 1234, 1237, 1242,\n",
      "       1254, 1259, 1263, 1280, 1282, 1285], dtype=int64),)\n",
      "Number of outliers is: 138\n",
      "The score threshold is: 2\n",
      "The indices of the outliers:\n",
      "(array([ 150,  213,  264,  316,  367,  420,  449,  472,  481,  501,  512,\n",
      "        524,  552,  564,  576,  605,  616,  628,  656,  668,  680,  708,\n",
      "        719,  731,  760,  771,  784,  813,  824,  836,  865,  876,  891,\n",
      "        921,  932,  944,  973,  984,  997, 1025, 1036, 1048, 1077, 1088,\n",
      "       1101, 1129, 1140, 1152, 1161, 1180, 1191, 1203, 1212, 1231, 1242,\n",
      "       1254, 1263, 1282], dtype=int64),)\n",
      "Number of outliers is: 58\n",
      "The score threshold is: 3\n",
      "The indices of the outliers:\n",
      "(array([ 420,  472,  481,  524,  576,  628,  680,  708,  731,  760,  784,\n",
      "        813,  824,  836,  865,  876,  891,  921,  932,  944,  973,  984,\n",
      "        997, 1025, 1036, 1048, 1077, 1088, 1101, 1129, 1140, 1152, 1180,\n",
      "       1191, 1203, 1231, 1242, 1254, 1282], dtype=int64),)\n",
      "Number of outliers is: 39\n",
      "The score threshold is: 4\n",
      "The indices of the outliers:\n",
      "(array([ 472,  481,  524,  576,  628,  680,  731,  784,  836,  865,  891,\n",
      "        921,  944,  973,  997, 1025, 1048, 1077, 1101, 1129, 1152, 1180,\n",
      "       1191, 1203, 1231, 1242, 1254, 1282], dtype=int64),)\n",
      "Number of outliers is: 28\n"
     ]
    }
   ],
   "source": [
    "from scipy.stats import zscore\n",
    "\n",
    "z_scores = zscore(education1_df['TOTAL_REVENUE'])\n",
    "for threshold in range(1,5):\n",
    "    print(\"The score threshold is: {}\".format(threshold))\n",
    "    print(\"The indices of the outliers:\")\n",
    "    print(np.where(z_scores > threshold))\n",
    "    print(\"Number of outliers is: {}\".format(len((np.where(z_scores > threshold)[0]))))"
   ]
  },
  {
   "cell_type": "code",
   "execution_count": 28,
   "metadata": {},
   "outputs": [
    {
     "name": "stdout",
     "output_type": "stream",
     "text": [
      "The score threshold is: 1\n",
      "The indices of the outliers:\n",
      "(array([   4,   32,   56,   85,  108,  137,  150,  161,  190,  213,  241,\n",
      "        252,  264,  292,  304,  316,  344,  355,  367,  396,  407,  420,\n",
      "        449,  460,  472,  481,  501,  512,  524,  533,  552,  564,  576,\n",
      "        585,  605,  611,  616,  628,  633,  637,  654,  656,  662,  668,\n",
      "        680,  685,  689,  698,  706,  708,  714,  719,  731,  737,  741,\n",
      "        750,  758,  760,  763,  766,  771,  784,  789,  793,  811,  813,\n",
      "        816,  819,  824,  836,  842,  846,  855,  863,  865,  868,  871,\n",
      "        876,  891,  897,  901,  919,  921,  924,  927,  932,  944,  950,\n",
      "        954,  971,  973,  976,  979,  984,  997, 1002, 1006, 1023, 1025,\n",
      "       1028, 1031, 1036, 1048, 1053, 1057, 1075, 1077, 1080, 1083, 1088,\n",
      "       1101, 1106, 1110, 1127, 1129, 1132, 1135, 1140, 1152, 1157, 1161,\n",
      "       1178, 1180, 1183, 1186, 1191, 1203, 1208, 1212, 1229, 1231, 1234,\n",
      "       1237, 1242, 1254, 1259, 1263, 1280, 1282, 1285], dtype=int64),)\n",
      "Number of outliers is: 140\n",
      "The score threshold is: 2\n",
      "The indices of the outliers:\n",
      "(array([ 213,  264,  316,  367,  396,  420,  449,  472,  481,  501,  512,\n",
      "        524,  552,  564,  576,  605,  616,  628,  656,  668,  680,  708,\n",
      "        719,  731,  760,  771,  784,  813,  824,  836,  865,  876,  891,\n",
      "        921,  932,  944,  973,  984,  997, 1025, 1036, 1048, 1077, 1088,\n",
      "       1101, 1129, 1140, 1152, 1180, 1191, 1203, 1212, 1231, 1242, 1254,\n",
      "       1263, 1282], dtype=int64),)\n",
      "Number of outliers is: 57\n",
      "The score threshold is: 3\n",
      "The indices of the outliers:\n",
      "(array([ 420,  472,  481,  524,  576,  628,  656,  680,  708,  731,  760,\n",
      "        771,  784,  813,  824,  836,  865,  876,  891,  921,  932,  944,\n",
      "        973,  984,  997, 1025, 1036, 1048, 1077, 1088, 1101, 1129, 1140,\n",
      "       1152, 1180, 1191, 1203, 1231, 1242, 1254, 1282], dtype=int64),)\n",
      "Number of outliers is: 41\n",
      "The score threshold is: 4\n",
      "The indices of the outliers:\n",
      "(array([ 481,  524,  576,  628,  680,  731,  784,  836,  865,  891,  921,\n",
      "        932,  944,  973,  984,  997, 1025, 1048, 1077, 1101, 1129, 1152,\n",
      "       1180, 1203, 1231, 1242, 1254, 1282], dtype=int64),)\n",
      "Number of outliers is: 28\n"
     ]
    }
   ],
   "source": [
    "from scipy.stats import zscore\n",
    "\n",
    "z_scores = zscore(education1_df['TOTAL_EXPENDITURE'])\n",
    "for threshold in range(1,5):\n",
    "    print(\"The score threshold is: {}\".format(threshold))\n",
    "    print(\"The indices of the outliers:\")\n",
    "    print(np.where(z_scores > threshold))\n",
    "    print(\"Number of outliers is: {}\".format(len((np.where(z_scores > threshold)[0]))))"
   ]
  },
  {
   "cell_type": "code",
   "execution_count": 29,
   "metadata": {},
   "outputs": [
    {
     "name": "stdout",
     "output_type": "stream",
     "text": [
      "The score threshold is: 1.0\n",
      "Number of outliers is: 194\n",
      "The score threshold is: 1.5\n",
      "Number of outliers is: 150\n",
      "The score threshold is: 2.0\n",
      "Number of outliers is: 121\n",
      "The score threshold is: 2.5\n",
      "Number of outliers is: 93\n",
      "The score threshold is: 3.0\n",
      "Number of outliers is: 66\n",
      "The score threshold is: 3.5\n",
      "Number of outliers is: 51\n",
      "The score threshold is: 4.0\n",
      "Number of outliers is: 45\n",
      "The score threshold is: 4.5\n",
      "Number of outliers is: 42\n"
     ]
    }
   ],
   "source": [
    "# NumPy's percentile() method returns the \n",
    "# values of the given percentiles. In our case,\n",
    "# we give 75 and 25 as parameters which corresponds \n",
    "# to the third and the first quartile.\n",
    "q75, q25 = np.percentile(education1_df['TOTAL_REVENUE'], [75 ,25])\n",
    "iqr = q75 - q25\n",
    "\n",
    "for threshold in np.arange(1,5,0.5):\n",
    "    min_val = q25 - (iqr*threshold)\n",
    "    max_val = q75 + (iqr*threshold)\n",
    "    print(\"The score threshold is: {}\".format(threshold))\n",
    "    print(\"Number of outliers is: {}\".format(\n",
    "        len((np.where((education1_df['TOTAL_REVENUE'] > max_val) \n",
    "                      | (education1_df['TOTAL_REVENUE'] < min_val))[0]))\n",
    "    ))"
   ]
  },
  {
   "cell_type": "code",
   "execution_count": 30,
   "metadata": {},
   "outputs": [
    {
     "name": "stdout",
     "output_type": "stream",
     "text": [
      "The score threshold is: 1.0\n",
      "Number of outliers is: 195\n",
      "The score threshold is: 1.5\n",
      "Number of outliers is: 151\n",
      "The score threshold is: 2.0\n",
      "Number of outliers is: 118\n",
      "The score threshold is: 2.5\n",
      "Number of outliers is: 98\n",
      "The score threshold is: 3.0\n",
      "Number of outliers is: 67\n",
      "The score threshold is: 3.5\n",
      "Number of outliers is: 54\n",
      "The score threshold is: 4.0\n",
      "Number of outliers is: 49\n",
      "The score threshold is: 4.5\n",
      "Number of outliers is: 45\n"
     ]
    }
   ],
   "source": [
    "for threshold in np.arange(1,5,0.5):\n",
    "    min_val = q25 - (iqr*threshold)\n",
    "    max_val = q75 + (iqr*threshold)\n",
    "    print(\"The score threshold is: {}\".format(threshold))\n",
    "    print(\"Number of outliers is: {}\".format(\n",
    "        len((np.where((education1_df['TOTAL_EXPENDITURE'] > max_val) \n",
    "                      | (education1_df['TOTAL_EXPENDITURE'] < min_val))[0]))\n",
    "    ))"
   ]
  },
  {
   "cell_type": "code",
   "execution_count": 31,
   "metadata": {},
   "outputs": [
    {
     "data": {
      "text/plain": [
       "count    1.492000e+03\n",
       "mean     9.092082e+06\n",
       "std      1.087818e+07\n",
       "min      4.656500e+05\n",
       "25%      2.546261e+06\n",
       "50%      6.359310e+06\n",
       "75%      9.276958e+06\n",
       "max      8.921726e+07\n",
       "Name: TOTAL_REVENUE, dtype: float64"
      ]
     },
     "execution_count": 31,
     "metadata": {},
     "output_type": "execute_result"
    }
   ],
   "source": [
    "education1_df['TOTAL_REVENUE'].describe()"
   ]
  },
  {
   "cell_type": "code",
   "execution_count": 32,
   "metadata": {},
   "outputs": [
    {
     "data": {
      "text/plain": [
       "count    1.492000e+03\n",
       "mean     9.196681e+06\n",
       "std      1.109393e+07\n",
       "min      4.816650e+05\n",
       "25%      2.523968e+06\n",
       "50%      6.520224e+06\n",
       "75%      9.434922e+06\n",
       "max      8.532013e+07\n",
       "Name: TOTAL_EXPENDITURE, dtype: float64"
      ]
     },
     "execution_count": 32,
     "metadata": {},
     "output_type": "execute_result"
    }
   ],
   "source": [
    "education1_df['TOTAL_EXPENDITURE'].describe()"
   ]
  },
  {
   "cell_type": "code",
   "execution_count": null,
   "metadata": {},
   "outputs": [],
   "source": []
  },
  {
   "cell_type": "markdown",
   "metadata": {},
   "source": [
    "##### Question 2\n",
    "If you detect outliers in the TOTAL_REVENUE and TOTAL_EXPENDITURE variables, apply the techniques you learned in this checkpoint to eliminate them and validate that there's no outlier values after you handled them."
   ]
  },
  {
   "cell_type": "markdown",
   "metadata": {},
   "source": [
    "used education2_df and education3_df"
   ]
  },
  {
   "cell_type": "code",
   "execution_count": 33,
   "metadata": {},
   "outputs": [],
   "source": [
    "education2_df = education1_df.copy()"
   ]
  },
  {
   "cell_type": "code",
   "execution_count": 34,
   "metadata": {},
   "outputs": [
    {
     "data": {
      "text/plain": [
       "masked_array(data=[2678885.        , 1049591.        , 3258079.        ,\n",
       "                   ..., 9092081.85859375, 9092081.85859375,\n",
       "                   9092081.85859375],\n",
       "             mask=False,\n",
       "       fill_value=1e+20)"
      ]
     },
     "execution_count": 34,
     "metadata": {},
     "output_type": "execute_result"
    }
   ],
   "source": [
    "from scipy.stats.mstats import winsorize\n",
    "\n",
    "# We apply ONE-WAY winsorization to the highest end\n",
    "# of the value distribution. As we have a lot of extreme\n",
    "# values, we set the values of the outliers to the \n",
    "# value of the 90th percentile. \n",
    "winsorized_views = winsorize(education2_df['TOTAL_REVENUE'], (0, 0.10))\n",
    "\n",
    "winsorized_views"
   ]
  },
  {
   "cell_type": "code",
   "execution_count": 35,
   "metadata": {},
   "outputs": [
    {
     "data": {
      "image/png": "[encoded data removed]",
      "text/plain": [
       "<Figure size 432x288 with 1 Axes>"
      ]
     },
     "metadata": {
      "needs_background": "light"
     },
     "output_type": "display_data"
    }
   ],
   "source": [
    "#We can visualize the winsorized data using a box plot:\n",
    "plt.boxplot(winsorized_views)\n",
    "plt.title('Box plot of Total Revenue (whis=1.5)')\n",
    "plt.show()"
   ]
  },
  {
   "cell_type": "code",
   "execution_count": 36,
   "metadata": {},
   "outputs": [],
   "source": [
    "#need to apply winsorization to df\n",
    "education2_df['TOTAL_REVENUE'] = winsorize(education2_df['TOTAL_REVENUE'], (0, 0.10))"
   ]
  },
  {
   "cell_type": "code",
   "execution_count": 37,
   "metadata": {},
   "outputs": [
    {
     "data": {
      "text/plain": [
       "masked_array(data=[2653798.     ,  972488.     , 3401580.     , ...,\n",
       "                   9196680.86875, 9196680.86875, 9196680.86875],\n",
       "             mask=False,\n",
       "       fill_value=1e+20)"
      ]
     },
     "execution_count": 37,
     "metadata": {},
     "output_type": "execute_result"
    }
   ],
   "source": [
    "winsorized_views = winsorize(education2_df['TOTAL_EXPENDITURE'], (0, 0.10))\n",
    "\n",
    "winsorized_views"
   ]
  },
  {
   "cell_type": "code",
   "execution_count": 38,
   "metadata": {},
   "outputs": [
    {
     "data": {
      "image/png": "[encoded data removed]",
      "text/plain": [
       "<Figure size 432x288 with 1 Axes>"
      ]
     },
     "metadata": {
      "needs_background": "light"
     },
     "output_type": "display_data"
    }
   ],
   "source": [
    "plt.boxplot(winsorized_views)\n",
    "plt.title('Box plot of Total Expenditure (whis=1.5)')\n",
    "plt.show()"
   ]
  },
  {
   "cell_type": "code",
   "execution_count": 39,
   "metadata": {},
   "outputs": [],
   "source": [
    "#need to apply winsorization to df\n",
    "education2_df['TOTAL_EXPENDITURE'] = winsorize(education2_df['TOTAL_EXPENDITURE'], (0, 0.10))"
   ]
  },
  {
   "cell_type": "code",
   "execution_count": 40,
   "metadata": {},
   "outputs": [
    {
     "data": {
      "text/plain": [
       "count    1.492000e+03\n",
       "mean     7.518248e+06\n",
       "std      5.723655e+06\n",
       "min      4.656500e+05\n",
       "25%      2.546261e+06\n",
       "50%      6.359310e+06\n",
       "75%      9.276958e+06\n",
       "max      1.937403e+07\n",
       "Name: TOTAL_REVENUE, dtype: float64"
      ]
     },
     "execution_count": 40,
     "metadata": {},
     "output_type": "execute_result"
    }
   ],
   "source": [
    "#no significant change in mean or STD\n",
    "education2_df['TOTAL_REVENUE'].describe()"
   ]
  },
  {
   "cell_type": "code",
   "execution_count": 41,
   "metadata": {},
   "outputs": [
    {
     "data": {
      "text/plain": [
       "count    1.492000e+03\n",
       "mean     7.582929e+06\n",
       "std      5.785973e+06\n",
       "min      4.816650e+05\n",
       "25%      2.523968e+06\n",
       "50%      6.520224e+06\n",
       "75%      9.434922e+06\n",
       "max      1.968037e+07\n",
       "Name: TOTAL_EXPENDITURE, dtype: float64"
      ]
     },
     "execution_count": 41,
     "metadata": {},
     "output_type": "execute_result"
    }
   ],
   "source": [
    "#no significant change in mean or STD\n",
    "education2_df['TOTAL_EXPENDITURE'].describe()"
   ]
  },
  {
   "cell_type": "markdown",
   "metadata": {},
   "source": [
    "significant change in mean & STD (winsor)"
   ]
  },
  {
   "cell_type": "code",
   "execution_count": 42,
   "metadata": {},
   "outputs": [],
   "source": [
    "education3_df = education1_df.copy()"
   ]
  },
  {
   "cell_type": "code",
   "execution_count": 43,
   "metadata": {},
   "outputs": [
    {
     "data": {
      "image/png": "[encoded data removed]",
      "text/plain": [
       "<Figure size 1080x360 with 2 Axes>"
      ]
     },
     "metadata": {
      "needs_background": "light"
     },
     "output_type": "display_data"
    }
   ],
   "source": [
    "plt.figure(figsize = (15,5))\n",
    "\n",
    "plt.subplot(1,2,1)\n",
    "plt.hist(education3_df['TOTAL_REVENUE'])\n",
    "plt.title('Histogram of Total Revenue')\n",
    "\n",
    "plt.subplot(1,2,2)\n",
    "plt.hist(np.log(education3_df['TOTAL_REVENUE']))\n",
    "plt.title('Histogram of log transformed Total Revenue')\n",
    "plt.show()"
   ]
  },
  {
   "cell_type": "code",
   "execution_count": 44,
   "metadata": {},
   "outputs": [
    {
     "data": {
      "image/png": "[encoded data removed]",
      "text/plain": [
       "<Figure size 1080x360 with 2 Axes>"
      ]
     },
     "metadata": {
      "needs_background": "light"
     },
     "output_type": "display_data"
    }
   ],
   "source": [
    "plt.figure(figsize = (15,5))\n",
    "\n",
    "plt.subplot(1,2,1)\n",
    "plt.boxplot(education3_df['TOTAL_EXPENDITURE'])\n",
    "plt.title('Box plot of Total Expenditure')\n",
    "\n",
    "plt.subplot(1,2,2)\n",
    "plt.boxplot(np.log(education3_df['TOTAL_EXPENDITURE']))\n",
    "plt.title('Box plot of log transformed Total Expenditure')\n",
    "plt.show()"
   ]
  },
  {
   "cell_type": "code",
   "execution_count": 45,
   "metadata": {},
   "outputs": [
    {
     "name": "stdout",
     "output_type": "stream",
     "text": [
      "The score threshold is: 1.0\n",
      "Number of outliers is: 69\n",
      "The score threshold is: 1.5\n",
      "Number of outliers is: 12\n",
      "The score threshold is: 2.0\n",
      "Number of outliers is: 0\n",
      "The score threshold is: 2.5\n",
      "Number of outliers is: 0\n",
      "The score threshold is: 3.0\n",
      "Number of outliers is: 0\n",
      "The score threshold is: 3.5\n",
      "Number of outliers is: 0\n",
      "The score threshold is: 4.0\n",
      "Number of outliers is: 0\n",
      "The score threshold is: 4.5\n",
      "Number of outliers is: 0\n"
     ]
    }
   ],
   "source": [
    "# now we take the log of the columns and calculate\n",
    "# the quartiles accordingly.\n",
    "q75, q25 = np.percentile((np.log(education3_df['TOTAL_REVENUE'])), [75 ,25])\n",
    "iqr = q75 - q25\n",
    "\n",
    "for threshold in np.arange(1,5,0.5):\n",
    "    min_val = q25 - (iqr*threshold)\n",
    "    max_val = q75 + (iqr*threshold)\n",
    "    print(\"The score threshold is: {}\".format(threshold))\n",
    "    print(\"Number of outliers is: {}\".format(\n",
    "        len((np.where((np.log(education3_df['TOTAL_REVENUE']) > max_val) \n",
    "                      | (np.log(education3_df['TOTAL_REVENUE']) < min_val))[0]))\n",
    "    ))"
   ]
  },
  {
   "cell_type": "code",
   "execution_count": 46,
   "metadata": {},
   "outputs": [
    {
     "name": "stdout",
     "output_type": "stream",
     "text": [
      "The score threshold is: 1.0\n",
      "Number of outliers is: 63\n",
      "The score threshold is: 1.5\n",
      "Number of outliers is: 12\n",
      "The score threshold is: 2.0\n",
      "Number of outliers is: 0\n",
      "The score threshold is: 2.5\n",
      "Number of outliers is: 0\n",
      "The score threshold is: 3.0\n",
      "Number of outliers is: 0\n",
      "The score threshold is: 3.5\n",
      "Number of outliers is: 0\n",
      "The score threshold is: 4.0\n",
      "Number of outliers is: 0\n",
      "The score threshold is: 4.5\n",
      "Number of outliers is: 0\n"
     ]
    }
   ],
   "source": [
    "q75, q25 = np.percentile(np.log(education3_df['TOTAL_EXPENDITURE']), [75 ,25])\n",
    "iqr = q75 - q25\n",
    "\n",
    "for threshold in np.arange(1,5,0.5):\n",
    "    min_val = q25 - (iqr*threshold)\n",
    "    max_val = q75 + (iqr*threshold)\n",
    "    print(\"The score threshold is: {}\".format(threshold))\n",
    "    print(\"Number of outliers is: {}\".format(\n",
    "        len((np.where((np.log(education3_df['TOTAL_EXPENDITURE']) > max_val) \n",
    "                      | (np.log(education3_df['TOTAL_EXPENDITURE']) < min_val))[0]))\n",
    "    ))"
   ]
  },
  {
   "cell_type": "code",
   "execution_count": 47,
   "metadata": {},
   "outputs": [],
   "source": [
    "education3_df['TOTAL_REVENUE'] = np.log(education3_df['TOTAL_REVENUE'])"
   ]
  },
  {
   "cell_type": "code",
   "execution_count": 48,
   "metadata": {},
   "outputs": [],
   "source": [
    "education3_df['TOTAL_EXPENDITURE'] = np.log(education3_df['TOTAL_EXPENDITURE'])"
   ]
  },
  {
   "cell_type": "code",
   "execution_count": 49,
   "metadata": {},
   "outputs": [
    {
     "data": {
      "text/plain": [
       "count    1492.000000\n",
       "mean       15.522416\n",
       "std         1.019356\n",
       "min        13.051190\n",
       "25%        14.750136\n",
       "50%        15.665430\n",
       "75%        16.043044\n",
       "max        18.306585\n",
       "Name: TOTAL_REVENUE, dtype: float64"
      ]
     },
     "execution_count": 49,
     "metadata": {},
     "output_type": "execute_result"
    }
   ],
   "source": [
    "education3_df['TOTAL_REVENUE'].describe()"
   ]
  },
  {
   "cell_type": "code",
   "execution_count": 50,
   "metadata": {},
   "outputs": [
    {
     "data": {
      "text/plain": [
       "count    1492.000000\n",
       "mean       15.529101\n",
       "std         1.023784\n",
       "min        13.085004\n",
       "25%        14.741343\n",
       "50%        15.690419\n",
       "75%        16.059928\n",
       "max        18.261921\n",
       "Name: TOTAL_EXPENDITURE, dtype: float64"
      ]
     },
     "execution_count": 50,
     "metadata": {},
     "output_type": "execute_result"
    }
   ],
   "source": [
    "education3_df['TOTAL_EXPENDITURE'].describe()"
   ]
  },
  {
   "cell_type": "code",
   "execution_count": null,
   "metadata": {},
   "outputs": [],
   "source": []
  },
  {
   "cell_type": "markdown",
   "metadata": {},
   "source": [
    "##### Question 3\n",
    "Create another variable by subtracting the original TOTAL_EXPENDITURE from TOTAL_REVENUE (before you eliminated the outliers). You can think of it as a kind of budget deficit in education. Do you find any outlier values in this new variable? If so, eliminate them using the technique you think most suitable."
   ]
  },
  {
   "cell_type": "markdown",
   "metadata": {},
   "source": [
    "used education4_df (winsor) and education5_df (log)"
   ]
  },
  {
   "cell_type": "markdown",
   "metadata": {},
   "source": [
    "Both methods seem to eliminate too many outliers??"
   ]
  },
  {
   "cell_type": "code",
   "execution_count": 51,
   "metadata": {},
   "outputs": [],
   "source": [
    "education4_df = education1_df.copy()"
   ]
  },
  {
   "cell_type": "code",
   "execution_count": 52,
   "metadata": {},
   "outputs": [],
   "source": [
    "education4_df['BUDGET_DEFICIT'] = education4_df['TOTAL_REVENUE'] - education4_df['TOTAL_EXPENDITURE']"
   ]
  },
  {
   "cell_type": "code",
   "execution_count": null,
   "metadata": {},
   "outputs": [],
   "source": [
    "education4_df.info()"
   ]
  },
  {
   "cell_type": "code",
   "execution_count": null,
   "metadata": {},
   "outputs": [],
   "source": [
    "education4_df.head()"
   ]
  },
  {
   "cell_type": "code",
   "execution_count": 53,
   "metadata": {},
   "outputs": [
    {
     "data": {
      "image/png": "[encoded data removed]",
      "text/plain": [
       "<Figure size 432x288 with 1 Axes>"
      ]
     },
     "metadata": {
      "needs_background": "light"
     },
     "output_type": "display_data"
    }
   ],
   "source": [
    "#check for outliers\n",
    "plt.boxplot(education4_df['BUDGET_DEFICIT'])\n",
    "plt.title('Box plot of Budget Deficit (whis=1.5)')\n",
    "plt.show()"
   ]
  },
  {
   "cell_type": "code",
   "execution_count": 54,
   "metadata": {},
   "outputs": [
    {
     "data": {
      "image/png": "[encoded data removed]",
      "text/plain": [
       "<Figure size 432x288 with 1 Axes>"
      ]
     },
     "metadata": {
      "needs_background": "light"
     },
     "output_type": "display_data"
    }
   ],
   "source": [
    "plt.boxplot(education4_df['BUDGET_DEFICIT'])\n",
    "plt.title('Box plot of Budget Deficit (whis=20')\n",
    "plt.show()"
   ]
  },
  {
   "cell_type": "code",
   "execution_count": 55,
   "metadata": {},
   "outputs": [
    {
     "data": {
      "text/plain": [
       "count    1.492000e+03\n",
       "mean    -1.045990e+05\n",
       "std      5.310770e+05\n",
       "min     -5.487742e+06\n",
       "25%     -1.360070e+05\n",
       "50%     -4.849350e+04\n",
       "75%      2.965425e+04\n",
       "max      3.897129e+06\n",
       "Name: BUDGET_DEFICIT, dtype: float64"
      ]
     },
     "execution_count": 55,
     "metadata": {},
     "output_type": "execute_result"
    }
   ],
   "source": [
    "#prior to winsorization\n",
    "education4_df['BUDGET_DEFICIT'].describe()"
   ]
  },
  {
   "cell_type": "code",
   "execution_count": 56,
   "metadata": {},
   "outputs": [
    {
     "name": "stdout",
     "output_type": "stream",
     "text": [
      "The score threshold is: 1\n",
      "The indices of the outliers:\n",
      "(array([  73,   88,   96,  108,  118,  148,  178,  264,  274,  316,  321,\n",
      "        347,  367,  373,  399,  420,  472,  531,  583,  682,  687,  690,\n",
      "        733,  739,  746,  749,  791,  793,  802,  816,  847,  868,  902,\n",
      "        922,  955,  974,  976,  997, 1003, 1006, 1007, 1015, 1023, 1026,\n",
      "       1028, 1057, 1058, 1065, 1067, 1075, 1093, 1099, 1103, 1110, 1111,\n",
      "       1117, 1119, 1132, 1154, 1162, 1170, 1178, 1183, 1186, 1205, 1213,\n",
      "       1219, 1221, 1229, 1234, 1252, 1254, 1256, 1264, 1271, 1272],\n",
      "      dtype=int64),)\n",
      "Number of outliers is: 76\n",
      "The score threshold is: 2\n",
      "The indices of the outliers:\n",
      "(array([  96,  264,  316,  472,  902,  955,  974,  997, 1006, 1007, 1058,\n",
      "       1075, 1111, 1162, 1170, 1183, 1213, 1221, 1234, 1254, 1264, 1272],\n",
      "      dtype=int64),)\n",
      "Number of outliers is: 22\n",
      "The score threshold is: 3\n",
      "The indices of the outliers:\n",
      "(array([  96,  264,  902,  955,  974, 1234, 1254], dtype=int64),)\n",
      "Number of outliers is: 7\n",
      "The score threshold is: 4\n",
      "The indices of the outliers:\n",
      "(array([ 955,  974, 1254], dtype=int64),)\n",
      "Number of outliers is: 3\n"
     ]
    }
   ],
   "source": [
    "z_scores = zscore(education4_df['BUDGET_DEFICIT'])\n",
    "for threshold in range(1,5):\n",
    "    print(\"The score threshold is: {}\".format(threshold))\n",
    "    print(\"The indices of the outliers:\")\n",
    "    print(np.where(z_scores > threshold))\n",
    "    print(\"Number of outliers is: {}\".format(len((np.where(z_scores > threshold)[0]))))"
   ]
  },
  {
   "cell_type": "code",
   "execution_count": 57,
   "metadata": {},
   "outputs": [
    {
     "name": "stdout",
     "output_type": "stream",
     "text": [
      "The score threshold is: 1.0\n",
      "Number of outliers is: 358\n",
      "The score threshold is: 1.5\n",
      "Number of outliers is: 275\n",
      "The score threshold is: 2.0\n",
      "Number of outliers is: 231\n",
      "The score threshold is: 2.5\n",
      "Number of outliers is: 182\n",
      "The score threshold is: 3.0\n",
      "Number of outliers is: 147\n",
      "The score threshold is: 3.5\n",
      "Number of outliers is: 124\n",
      "The score threshold is: 4.0\n",
      "Number of outliers is: 111\n",
      "The score threshold is: 4.5\n",
      "Number of outliers is: 97\n"
     ]
    }
   ],
   "source": [
    "q75, q25 = np.percentile(education4_df['BUDGET_DEFICIT'], [75 ,25])\n",
    "iqr = q75 - q25\n",
    "\n",
    "for threshold in np.arange(1,5,0.5):\n",
    "    min_val = q25 - (iqr*threshold)\n",
    "    max_val = q75 + (iqr*threshold)\n",
    "    print(\"The score threshold is: {}\".format(threshold))\n",
    "    print(\"Number of outliers is: {}\".format(\n",
    "        len((np.where((education4_df['BUDGET_DEFICIT'] > max_val) \n",
    "                      | (education4_df['BUDGET_DEFICIT'] < min_val))[0]))\n",
    "    ))"
   ]
  },
  {
   "cell_type": "code",
   "execution_count": 69,
   "metadata": {
    "scrolled": true
   },
   "outputs": [
    {
     "data": {
      "text/plain": [
       "masked_array(data=[  25087.        ,   77103.        , -143501.        ,\n",
       "                   ..., -104599.01015625, -104599.01015625,\n",
       "                   -104599.01015625],\n",
       "             mask=False,\n",
       "       fill_value=1e+20)"
      ]
     },
     "execution_count": 69,
     "metadata": {},
     "output_type": "execute_result"
    }
   ],
   "source": [
    "winsorized_views = winsorize(education4_df['BUDGET_DEFICIT'], (0.10, 0.10))\n",
    "\n",
    "winsorized_views"
   ]
  },
  {
   "cell_type": "code",
   "execution_count": 70,
   "metadata": {},
   "outputs": [
    {
     "data": {
      "image/png": "[encoded data removed]",
      "text/plain": [
       "<Figure size 432x288 with 1 Axes>"
      ]
     },
     "metadata": {
      "needs_background": "light"
     },
     "output_type": "display_data"
    }
   ],
   "source": [
    "plt.boxplot(winsorized_views)\n",
    "plt.title('Box plot of Budget Deficit (whis=2)')\n",
    "plt.show()"
   ]
  },
  {
   "cell_type": "markdown",
   "metadata": {},
   "source": [
    "Still some outliers after applying 90th percentile winsor. Do not feel comfortable going lower than 90th percentile. "
   ]
  },
  {
   "cell_type": "code",
   "execution_count": 73,
   "metadata": {},
   "outputs": [],
   "source": [
    "#apply to df\n",
    "education4_df['BUDGET_DEFICIT'] = winsorize(education4_df['BUDGET_DEFICIT'], (0.10, 0.10))"
   ]
  },
  {
   "cell_type": "code",
   "execution_count": 74,
   "metadata": {},
   "outputs": [
    {
     "data": {
      "text/plain": [
       "count      1492.000000\n",
       "mean     -66300.347958\n",
       "std      172254.236587\n",
       "min     -395270.000000\n",
       "25%     -136007.000000\n",
       "50%      -48493.500000\n",
       "75%       29654.250000\n",
       "max      208528.000000\n",
       "Name: BUDGET_DEFICIT, dtype: float64"
      ]
     },
     "execution_count": 74,
     "metadata": {},
     "output_type": "execute_result"
    }
   ],
   "source": [
    "education4_df['BUDGET_DEFICIT'].describe()"
   ]
  },
  {
   "cell_type": "code",
   "execution_count": 75,
   "metadata": {},
   "outputs": [],
   "source": [
    "education5_df = education1_df.copy()"
   ]
  },
  {
   "cell_type": "code",
   "execution_count": 76,
   "metadata": {},
   "outputs": [],
   "source": [
    "education5_df['BUDGET_DEFICIT'] = education5_df['TOTAL_REVENUE'] - education5_df['TOTAL_EXPENDITURE']"
   ]
  },
  {
   "cell_type": "code",
   "execution_count": 77,
   "metadata": {},
   "outputs": [
    {
     "data": {
      "image/png": "[encoded data removed]",
      "text/plain": [
       "<Figure size 432x288 with 1 Axes>"
      ]
     },
     "metadata": {
      "needs_background": "light"
     },
     "output_type": "display_data"
    }
   ],
   "source": [
    "plt.boxplot(education5_df['BUDGET_DEFICIT'])\n",
    "plt.title('Box plot of Budget Deficit (whis=20')\n",
    "plt.show()"
   ]
  },
  {
   "cell_type": "code",
   "execution_count": 78,
   "metadata": {},
   "outputs": [
    {
     "name": "stdout",
     "output_type": "stream",
     "text": [
      "The score threshold is: 1\n",
      "The indices of the outliers:\n",
      "(array([  73,   88,   96,  108,  118,  148,  178,  264,  274,  316,  321,\n",
      "        347,  367,  373,  399,  420,  472,  531,  583,  682,  687,  690,\n",
      "        733,  739,  746,  749,  791,  793,  802,  816,  847,  868,  902,\n",
      "        922,  955,  974,  976,  997, 1003, 1006, 1007, 1015, 1023, 1026,\n",
      "       1028, 1057, 1058, 1065, 1067, 1075, 1093, 1099, 1103, 1110, 1111,\n",
      "       1117, 1119, 1132, 1154, 1162, 1170, 1178, 1183, 1186, 1205, 1213,\n",
      "       1219, 1221, 1229, 1234, 1252, 1254, 1256, 1264, 1271, 1272],\n",
      "      dtype=int64),)\n",
      "Number of outliers is: 76\n",
      "The score threshold is: 2\n",
      "The indices of the outliers:\n",
      "(array([  96,  264,  316,  472,  902,  955,  974,  997, 1006, 1007, 1058,\n",
      "       1075, 1111, 1162, 1170, 1183, 1213, 1221, 1234, 1254, 1264, 1272],\n",
      "      dtype=int64),)\n",
      "Number of outliers is: 22\n",
      "The score threshold is: 3\n",
      "The indices of the outliers:\n",
      "(array([  96,  264,  902,  955,  974, 1234, 1254], dtype=int64),)\n",
      "Number of outliers is: 7\n",
      "The score threshold is: 4\n",
      "The indices of the outliers:\n",
      "(array([ 955,  974, 1254], dtype=int64),)\n",
      "Number of outliers is: 3\n"
     ]
    }
   ],
   "source": [
    "z_scores = zscore(education5_df['BUDGET_DEFICIT'])\n",
    "for threshold in range(1,5):\n",
    "    print(\"The score threshold is: {}\".format(threshold))\n",
    "    print(\"The indices of the outliers:\")\n",
    "    print(np.where(z_scores > threshold))\n",
    "    print(\"Number of outliers is: {}\".format(len((np.where(z_scores > threshold)[0]))))"
   ]
  },
  {
   "cell_type": "code",
   "execution_count": 79,
   "metadata": {},
   "outputs": [
    {
     "data": {
      "image/png": "[encoded data removed]",
      "text/plain": [
       "<Figure size 1080x360 with 2 Axes>"
      ]
     },
     "metadata": {
      "needs_background": "light"
     },
     "output_type": "display_data"
    }
   ],
   "source": [
    "plt.figure(figsize = (15,5))\n",
    "\n",
    "plt.subplot(1,2,1)\n",
    "plt.hist(education5_df['BUDGET_DEFICIT'])\n",
    "plt.title('Histogram of Budget Deficit')\n",
    "\n",
    "plt.subplot(1,2,2)\n",
    "plt.hist(np.log(education5_df['BUDGET_DEFICIT']))\n",
    "plt.title('Histogram of log transformed Budget Deficit')\n",
    "plt.show()"
   ]
  },
  {
   "cell_type": "code",
   "execution_count": 80,
   "metadata": {},
   "outputs": [
    {
     "data": {
      "image/png": "[encoded data removed]",
      "text/plain": [
       "<Figure size 1080x360 with 2 Axes>"
      ]
     },
     "metadata": {
      "needs_background": "light"
     },
     "output_type": "display_data"
    }
   ],
   "source": [
    "plt.figure(figsize = (15,5))\n",
    "\n",
    "plt.subplot(1,2,1)\n",
    "plt.boxplot(education5_df['BUDGET_DEFICIT'])\n",
    "plt.title('Box plot of Budget Deficit')\n",
    "\n",
    "plt.subplot(1,2,2)\n",
    "plt.boxplot(np.log(education5_df['BUDGET_DEFICIT']))\n",
    "plt.title('Box plot of log transformed Budget Deficit')\n",
    "plt.show()"
   ]
  },
  {
   "cell_type": "code",
   "execution_count": 81,
   "metadata": {},
   "outputs": [],
   "source": [
    "education5_df['BUDGET_DEFICIT'] = np.log(education5_df['BUDGET_DEFICIT'])"
   ]
  },
  {
   "cell_type": "code",
   "execution_count": 82,
   "metadata": {},
   "outputs": [
    {
     "data": {
      "text/plain": [
       "count    531.000000\n",
       "mean      11.209468\n",
       "std        1.628871\n",
       "min        4.890349\n",
       "25%       10.031516\n",
       "50%       11.333356\n",
       "75%       12.388852\n",
       "max       15.175751\n",
       "Name: BUDGET_DEFICIT, dtype: float64"
      ]
     },
     "execution_count": 82,
     "metadata": {},
     "output_type": "execute_result"
    }
   ],
   "source": [
    "education5_df['BUDGET_DEFICIT'].describe()"
   ]
  },
  {
   "cell_type": "code",
   "execution_count": null,
   "metadata": {},
   "outputs": [],
   "source": []
  },
  {
   "cell_type": "markdown",
   "metadata": {},
   "source": [
    "##### Question 4\n",
    "Now create another variable by subtracting the TOTAL_EXPENDITURE from TOTAL_REVENUE. This time, use the outlier eliminated versions of TOTAL_EXPENDITURE from TOTAL_REVENUE. In this newly created variable, can you find any outliers? If so, eliminate them."
   ]
  },
  {
   "cell_type": "markdown",
   "metadata": {},
   "source": [
    "using df where outliers from REVENUE & EXPENDITURE have been changed:\n",
    "education6_df (copied from education2_df/winsorized) and\n",
    "education7_df (copied from education3_df/log transf) "
   ]
  },
  {
   "cell_type": "code",
   "execution_count": 83,
   "metadata": {},
   "outputs": [],
   "source": [
    "#from previously winsorized df\n",
    "education6_df = education2_df.copy()"
   ]
  },
  {
   "cell_type": "code",
   "execution_count": 84,
   "metadata": {},
   "outputs": [],
   "source": [
    "education6_df['BUDGET_DEFICIT'] = education6_df['TOTAL_REVENUE'] - education6_df['TOTAL_EXPENDITURE']"
   ]
  },
  {
   "cell_type": "code",
   "execution_count": 85,
   "metadata": {},
   "outputs": [
    {
     "data": {
      "image/png": "[encoded data removed]",
      "text/plain": [
       "<Figure size 432x288 with 1 Axes>"
      ]
     },
     "metadata": {
      "needs_background": "light"
     },
     "output_type": "display_data"
    }
   ],
   "source": [
    "#check for outliers\n",
    "plt.boxplot(education6_df['BUDGET_DEFICIT'])\n",
    "plt.title('Box plot of Budget Deficit (whis=20)')\n",
    "plt.show()"
   ]
  },
  {
   "cell_type": "code",
   "execution_count": 86,
   "metadata": {},
   "outputs": [
    {
     "name": "stdout",
     "output_type": "stream",
     "text": [
      "The score threshold is: 1\n",
      "The indices of the outliers:\n",
      "(array([  21,   30,   73,   88,   96,  115,  118,  170,  178,  222,  244,\n",
      "        274,  295,  318,  321,  322,  347,  373,  374,  399,  422,  425,\n",
      "        426,  452,  474,  478,  479,  504,  530,  531,  574,  578,  583,\n",
      "        588,  594,  626,  634,  635,  640,  657,  660,  678,  682,  686,\n",
      "        687,  690,  697,  733,  738,  739,  742,  744,  746,  749,  752,\n",
      "        755,  786,  790,  791,  796,  798,  814,  838,  844,  847,  849,\n",
      "        853,  893,  899,  902,  908,  922,  952,  955,  974,  999, 1003,\n",
      "       1004, 1007, 1014, 1015, 1016, 1026, 1042, 1050, 1058, 1065, 1067,\n",
      "       1081, 1093, 1094, 1099, 1103, 1111, 1117, 1119, 1146, 1150, 1154,\n",
      "       1162, 1166, 1168, 1170, 1195, 1201, 1205, 1213, 1219, 1221, 1252,\n",
      "       1255, 1256, 1260, 1261, 1264, 1270, 1271, 1272], dtype=int64),)\n",
      "Number of outliers is: 118\n",
      "The score threshold is: 2\n",
      "The indices of the outliers:\n",
      "(array([  96,  118,  178,  274,  347,  373,  399,  583,  687,  690,  739,\n",
      "        746,  749,  791,  847,  902,  922,  955,  974, 1003, 1007, 1015,\n",
      "       1026, 1058, 1065, 1067, 1099, 1103, 1111, 1117, 1119, 1154, 1162,\n",
      "       1170, 1205, 1213, 1219, 1221, 1252, 1256, 1264, 1272], dtype=int64),)\n",
      "Number of outliers is: 42\n",
      "The score threshold is: 3\n",
      "The indices of the outliers:\n",
      "(array([  96,  373,  739,  746,  791,  902,  955,  974, 1003, 1007, 1015,\n",
      "       1058, 1111, 1119, 1162, 1170, 1213, 1221, 1264, 1272], dtype=int64),)\n",
      "Number of outliers is: 20\n",
      "The score threshold is: 4\n",
      "The indices of the outliers:\n",
      "(array([ 902,  955,  974, 1007, 1058, 1111, 1162, 1170, 1213, 1221, 1264,\n",
      "       1272], dtype=int64),)\n",
      "Number of outliers is: 12\n"
     ]
    }
   ],
   "source": [
    "z_scores = zscore(education6_df['BUDGET_DEFICIT'])\n",
    "for threshold in range(1,5):\n",
    "    print(\"The score threshold is: {}\".format(threshold))\n",
    "    print(\"The indices of the outliers:\")\n",
    "    print(np.where(z_scores > threshold))\n",
    "    print(\"Number of outliers is: {}\".format(len((np.where(z_scores > threshold)[0]))))"
   ]
  },
  {
   "cell_type": "code",
   "execution_count": 87,
   "metadata": {},
   "outputs": [
    {
     "name": "stdout",
     "output_type": "stream",
     "text": [
      "The score threshold is: 1.0\n",
      "Number of outliers is: 188\n",
      "The score threshold is: 1.5\n",
      "Number of outliers is: 131\n",
      "The score threshold is: 2.0\n",
      "Number of outliers is: 82\n",
      "The score threshold is: 2.5\n",
      "Number of outliers is: 60\n",
      "The score threshold is: 3.0\n",
      "Number of outliers is: 37\n",
      "The score threshold is: 3.5\n",
      "Number of outliers is: 28\n",
      "The score threshold is: 4.0\n",
      "Number of outliers is: 21\n",
      "The score threshold is: 4.5\n",
      "Number of outliers is: 16\n"
     ]
    }
   ],
   "source": [
    "q75, q25 = np.percentile(education6_df['BUDGET_DEFICIT'], [75 ,25])\n",
    "iqr = q75 - q25\n",
    "\n",
    "for threshold in np.arange(1,5,0.5):\n",
    "    min_val = q25 - (iqr*threshold)\n",
    "    max_val = q75 + (iqr*threshold)\n",
    "    print(\"The score threshold is: {}\".format(threshold))\n",
    "    print(\"Number of outliers is: {}\".format(\n",
    "        len((np.where((education6_df['BUDGET_DEFICIT'] > max_val) \n",
    "                      | (education6_df['BUDGET_DEFICIT'] < min_val))[0]))\n",
    "    ))"
   ]
  },
  {
   "cell_type": "code",
   "execution_count": 88,
   "metadata": {},
   "outputs": [
    {
     "data": {
      "text/plain": [
       "count    1.492000e+03\n",
       "mean    -6.468178e+04\n",
       "std      2.682253e+05\n",
       "min     -1.531644e+06\n",
       "25%     -1.811838e+05\n",
       "50%     -6.565100e+04\n",
       "75%      2.047350e+04\n",
       "max      2.520706e+06\n",
       "Name: BUDGET_DEFICIT, dtype: float64"
      ]
     },
     "execution_count": 88,
     "metadata": {},
     "output_type": "execute_result"
    }
   ],
   "source": [
    "#prior to changes in outliers for BUDGET_DEFICIT\n",
    "education6_df['BUDGET_DEFICIT'].describe()"
   ]
  },
  {
   "cell_type": "code",
   "execution_count": 93,
   "metadata": {},
   "outputs": [
    {
     "data": {
      "text/plain": [
       "masked_array(data=[  25087.        ,   77103.        , -143501.        ,\n",
       "                   ..., -104599.01015625, -104599.01015625,\n",
       "                   -104599.01015625],\n",
       "             mask=False,\n",
       "       fill_value=1e+20)"
      ]
     },
     "execution_count": 93,
     "metadata": {},
     "output_type": "execute_result"
    }
   ],
   "source": [
    "winsorized_views = winsorize(education6_df['BUDGET_DEFICIT'], (0.10, 0.10))\n",
    "\n",
    "winsorized_views"
   ]
  },
  {
   "cell_type": "code",
   "execution_count": 94,
   "metadata": {},
   "outputs": [
    {
     "data": {
      "image/png": "[encoded data removed]",
      "text/plain": [
       "<Figure size 432x288 with 1 Axes>"
      ]
     },
     "metadata": {
      "needs_background": "light"
     },
     "output_type": "display_data"
    }
   ],
   "source": [
    "plt.boxplot(winsorized_views)\n",
    "plt.title('Box plot of Budget Deficit (whis=2)')\n",
    "plt.show()"
   ]
  },
  {
   "cell_type": "code",
   "execution_count": 91,
   "metadata": {},
   "outputs": [
    {
     "data": {
      "image/png": "[encoded data removed]",
      "text/plain": [
       "<Figure size 1080x360 with 2 Axes>"
      ]
     },
     "metadata": {
      "needs_background": "light"
     },
     "output_type": "display_data"
    }
   ],
   "source": [
    "#look at log transformation\n",
    "plt.figure(figsize = (15,5))\n",
    "\n",
    "plt.subplot(1,2,1)\n",
    "plt.hist(education6_df['BUDGET_DEFICIT'])\n",
    "plt.title('Histogram of Budget Deficit')\n",
    "\n",
    "plt.subplot(1,2,2)\n",
    "plt.hist(np.log(education6_df['BUDGET_DEFICIT']))\n",
    "plt.title('Histogram of log transformed Budget Deficit')\n",
    "plt.show()"
   ]
  },
  {
   "cell_type": "code",
   "execution_count": 92,
   "metadata": {},
   "outputs": [
    {
     "data": {
      "image/png": "[encoded data removed]",
      "text/plain": [
       "<Figure size 1080x360 with 2 Axes>"
      ]
     },
     "metadata": {
      "needs_background": "light"
     },
     "output_type": "display_data"
    }
   ],
   "source": [
    "plt.figure(figsize = (15,5))\n",
    "\n",
    "plt.subplot(1,2,1)\n",
    "plt.boxplot(education6_df['BUDGET_DEFICIT'])\n",
    "plt.title('Box plot of Budget Deficit')\n",
    "\n",
    "plt.subplot(1,2,2)\n",
    "plt.boxplot(np.log(education6_df['BUDGET_DEFICIT']))\n",
    "plt.title('Box plot of log transformed Budget Deficit')\n",
    "plt.show()"
   ]
  },
  {
   "cell_type": "code",
   "execution_count": 95,
   "metadata": {},
   "outputs": [],
   "source": [
    "#apply winsor to df\n",
    "education6_df['BUDGET_DEFICIT'] = winsorize(education6_df['BUDGET_DEFICIT'], (0.10, 0.10))"
   ]
  },
  {
   "cell_type": "code",
   "execution_count": 96,
   "metadata": {},
   "outputs": [
    {
     "data": {
      "image/png": "[encoded data removed]",
      "text/plain": [
       "<Figure size 432x288 with 1 Axes>"
      ]
     },
     "metadata": {
      "needs_background": "light"
     },
     "output_type": "display_data"
    }
   ],
   "source": [
    "plt.boxplot(education6_df['BUDGET_DEFICIT'])\n",
    "plt.title('Box plot of Budget Deficit (whis=1.5)')\n",
    "plt.show()"
   ]
  },
  {
   "cell_type": "code",
   "execution_count": 97,
   "metadata": {},
   "outputs": [
    {
     "data": {
      "text/plain": [
       "count      1492.000000\n",
       "mean     -74987.851979\n",
       "std      149006.815983\n",
       "min     -306344.000000\n",
       "25%     -181183.750000\n",
       "50%      -65651.000000\n",
       "75%       20473.500000\n",
       "max      165510.000000\n",
       "Name: BUDGET_DEFICIT, dtype: float64"
      ]
     },
     "execution_count": 97,
     "metadata": {},
     "output_type": "execute_result"
    }
   ],
   "source": [
    "education6_df['BUDGET_DEFICIT'].describe()"
   ]
  },
  {
   "cell_type": "code",
   "execution_count": null,
   "metadata": {},
   "outputs": [],
   "source": []
  },
  {
   "cell_type": "code",
   "execution_count": 99,
   "metadata": {},
   "outputs": [],
   "source": [
    "#from previously log transformed\n",
    "education7_df = education3_df.copy()"
   ]
  },
  {
   "cell_type": "code",
   "execution_count": 100,
   "metadata": {},
   "outputs": [],
   "source": [
    "education7_df['BUDGET_DEFICIT'] = education7_df['TOTAL_REVENUE'] - education7_df['TOTAL_EXPENDITURE']"
   ]
  },
  {
   "cell_type": "code",
   "execution_count": 101,
   "metadata": {},
   "outputs": [
    {
     "data": {
      "image/png": "[encoded data removed]",
      "text/plain": [
       "<Figure size 432x288 with 1 Axes>"
      ]
     },
     "metadata": {
      "needs_background": "light"
     },
     "output_type": "display_data"
    }
   ],
   "source": [
    "#check for outliers\n",
    "plt.boxplot(education7_df['BUDGET_DEFICIT'])\n",
    "plt.title('Box plot of Budget Deficit (whis=20)')\n",
    "plt.show()"
   ]
  },
  {
   "cell_type": "code",
   "execution_count": 102,
   "metadata": {},
   "outputs": [
    {
     "name": "stdout",
     "output_type": "stream",
     "text": [
      "The score threshold is: 1\n",
      "The indices of the outliers:\n",
      "(array([   1,   17,   21,   26,   53,   69,   71,   73,   88,   96,  118,\n",
      "        122,  136,  156,  163,  164,  170,  178,  189,  203,  216,  240,\n",
      "        248,  264,  268,  274,  302,  318,  328,  339,  347,  360,  369,\n",
      "        370,  373,  380,  391,  399,  403,  415,  419,  422,  423,  432,\n",
      "        442,  443,  456,  474,  478,  479,  485,  486,  508,  531,  536,\n",
      "        571,  574,  583,  588,  589,  612,  623,  626,  635,  640,  660,\n",
      "        663,  678,  682,  687,  690,  692,  703,  715,  726,  733,  739,\n",
      "        744,  746,  749,  752,  755,  791,  796,  798,  802,  807,  816,\n",
      "        822,  831,  844,  845,  847,  849,  868,  886,  893,  899,  900,\n",
      "        902,  922,  952,  953,  955,  974,  999, 1003, 1004, 1005, 1007,\n",
      "       1015, 1017, 1020, 1026, 1052, 1055, 1056, 1058, 1065, 1075, 1081,\n",
      "       1093, 1094, 1099, 1103, 1111, 1116, 1117, 1119, 1154, 1159, 1160,\n",
      "       1162, 1167, 1170, 1176, 1183, 1201, 1205, 1210, 1211, 1213, 1218,\n",
      "       1219, 1221, 1227, 1234, 1243, 1252, 1254, 1256, 1261, 1262, 1264,\n",
      "       1269, 1272], dtype=int64),)\n",
      "Number of outliers is: 156\n",
      "The score threshold is: 2\n",
      "The indices of the outliers:\n",
      "(array([   1,   73,   96,  136,  156,  178,  479,  531,  583,  635,  640,\n",
      "        687,  726,  739,  746,  755,  791,  844,  899,  902,  952,  955,\n",
      "        974, 1004, 1007, 1052, 1055, 1058, 1093, 1111, 1162, 1213, 1234,\n",
      "       1261, 1262, 1264, 1272], dtype=int64),)\n",
      "Number of outliers is: 37\n",
      "The score threshold is: 3\n",
      "The indices of the outliers:\n",
      "(array([479, 531, 583, 635, 687, 739, 746, 791, 844, 899, 902, 952, 955,\n",
      "       974], dtype=int64),)\n",
      "Number of outliers is: 14\n",
      "The score threshold is: 4\n",
      "The indices of the outliers:\n",
      "(array([479, 531, 583, 635, 687, 739, 791, 955, 974], dtype=int64),)\n",
      "Number of outliers is: 9\n"
     ]
    }
   ],
   "source": [
    "z_scores = zscore(education7_df['BUDGET_DEFICIT'])\n",
    "for threshold in range(1,5):\n",
    "    print(\"The score threshold is: {}\".format(threshold))\n",
    "    print(\"The indices of the outliers:\")\n",
    "    print(np.where(z_scores > threshold))\n",
    "    print(\"Number of outliers is: {}\".format(len((np.where(z_scores > threshold)[0]))))"
   ]
  },
  {
   "cell_type": "code",
   "execution_count": 103,
   "metadata": {},
   "outputs": [
    {
     "name": "stdout",
     "output_type": "stream",
     "text": [
      "The score threshold is: 1.0\n",
      "Number of outliers is: 209\n",
      "The score threshold is: 1.5\n",
      "Number of outliers is: 107\n",
      "The score threshold is: 2.0\n",
      "Number of outliers is: 51\n",
      "The score threshold is: 2.5\n",
      "Number of outliers is: 26\n",
      "The score threshold is: 3.0\n",
      "Number of outliers is: 16\n",
      "The score threshold is: 3.5\n",
      "Number of outliers is: 13\n",
      "The score threshold is: 4.0\n",
      "Number of outliers is: 10\n",
      "The score threshold is: 4.5\n",
      "Number of outliers is: 8\n"
     ]
    }
   ],
   "source": [
    "q75, q25 = np.percentile(education7_df['BUDGET_DEFICIT'], [75 ,25])\n",
    "iqr = q75 - q25\n",
    "\n",
    "for threshold in np.arange(1,5,0.5):\n",
    "    min_val = q25 - (iqr*threshold)\n",
    "    max_val = q75 + (iqr*threshold)\n",
    "    print(\"The score threshold is: {}\".format(threshold))\n",
    "    print(\"Number of outliers is: {}\".format(\n",
    "        len((np.where((education7_df['BUDGET_DEFICIT'] > max_val) \n",
    "                      | (education7_df['BUDGET_DEFICIT'] < min_val))[0]))\n",
    "    ))"
   ]
  },
  {
   "cell_type": "code",
   "execution_count": 104,
   "metadata": {},
   "outputs": [
    {
     "data": {
      "text/plain": [
       "count    1492.000000\n",
       "mean       -0.006685\n",
       "std         0.040840\n",
       "min        -0.170369\n",
       "25%        -0.024762\n",
       "50%        -0.011439\n",
       "75%         0.010570\n",
       "max         0.332627\n",
       "Name: BUDGET_DEFICIT, dtype: float64"
      ]
     },
     "execution_count": 104,
     "metadata": {},
     "output_type": "execute_result"
    }
   ],
   "source": [
    "#prior to changes in outliers for BUDGET_DEFICIT\n",
    "education7_df['BUDGET_DEFICIT'].describe()"
   ]
  },
  {
   "cell_type": "code",
   "execution_count": 105,
   "metadata": {},
   "outputs": [
    {
     "data": {
      "text/plain": [
       "masked_array(data=[ 0.00940884,  0.03554909, -0.04310227, ...,\n",
       "                   -0.01143873, -0.01143873, -0.01143873],\n",
       "             mask=False,\n",
       "       fill_value=1e+20)"
      ]
     },
     "execution_count": 105,
     "metadata": {},
     "output_type": "execute_result"
    }
   ],
   "source": [
    "winsorized_views = winsorize(education7_df['BUDGET_DEFICIT'], (0.10, 0.10))\n",
    "\n",
    "winsorized_views"
   ]
  },
  {
   "cell_type": "code",
   "execution_count": 106,
   "metadata": {},
   "outputs": [
    {
     "data": {
      "image/png": "[encoded data removed]",
      "text/plain": [
       "<Figure size 432x288 with 1 Axes>"
      ]
     },
     "metadata": {
      "needs_background": "light"
     },
     "output_type": "display_data"
    }
   ],
   "source": [
    "plt.boxplot(winsorized_views)\n",
    "plt.title('Box plot of Budget Deficit (whis=2)')\n",
    "plt.show()"
   ]
  },
  {
   "cell_type": "code",
   "execution_count": 107,
   "metadata": {},
   "outputs": [
    {
     "data": {
      "image/png": "[encoded data removed]",
      "text/plain": [
       "<Figure size 1080x360 with 2 Axes>"
      ]
     },
     "metadata": {
      "needs_background": "light"
     },
     "output_type": "display_data"
    }
   ],
   "source": [
    "#look at log transformation\n",
    "plt.figure(figsize = (15,5))\n",
    "\n",
    "plt.subplot(1,2,1)\n",
    "plt.hist(education7_df['BUDGET_DEFICIT'])\n",
    "plt.title('Histogram of Budget Deficit')\n",
    "\n",
    "plt.subplot(1,2,2)\n",
    "plt.hist(np.log(education7_df['BUDGET_DEFICIT']))\n",
    "plt.title('Histogram of log transformed Budget Deficit')\n",
    "plt.show()"
   ]
  },
  {
   "cell_type": "code",
   "execution_count": 108,
   "metadata": {},
   "outputs": [
    {
     "data": {
      "image/png": "[encoded data removed]",
      "text/plain": [
       "<Figure size 1080x360 with 2 Axes>"
      ]
     },
     "metadata": {
      "needs_background": "light"
     },
     "output_type": "display_data"
    }
   ],
   "source": [
    "plt.figure(figsize = (15,5))\n",
    "\n",
    "plt.subplot(1,2,1)\n",
    "plt.boxplot(education7_df['BUDGET_DEFICIT'])\n",
    "plt.title('Box plot of Budget Deficit')\n",
    "\n",
    "plt.subplot(1,2,2)\n",
    "plt.boxplot(np.log(education7_df['BUDGET_DEFICIT']))\n",
    "plt.title('Box plot of log transformed Budget Deficit')\n",
    "plt.show()"
   ]
  },
  {
   "cell_type": "code",
   "execution_count": 109,
   "metadata": {},
   "outputs": [],
   "source": [
    "#apply log transformation to df\n",
    "education7_df['BUDGET_DEFICIT'] = np.log(education7_df['BUDGET_DEFICIT'])"
   ]
  },
  {
   "cell_type": "code",
   "execution_count": 110,
   "metadata": {},
   "outputs": [
    {
     "data": {
      "image/png": "[encoded data removed]",
      "text/plain": [
       "<Figure size 432x288 with 1 Axes>"
      ]
     },
     "metadata": {
      "needs_background": "light"
     },
     "output_type": "display_data"
    }
   ],
   "source": [
    "plt.boxplot(education7_df['BUDGET_DEFICIT'])\n",
    "plt.title('Box plot of Budget Deficit (whis=1.5)')\n",
    "plt.show()"
   ]
  },
  {
   "cell_type": "code",
   "execution_count": 111,
   "metadata": {},
   "outputs": [
    {
     "data": {
      "text/plain": [
       "count    531.000000\n",
       "mean      -4.098942\n",
       "std        1.288610\n",
       "min      -10.671270\n",
       "25%       -4.701471\n",
       "50%       -3.899573\n",
       "75%       -3.268945\n",
       "max       -1.100733\n",
       "Name: BUDGET_DEFICIT, dtype: float64"
      ]
     },
     "execution_count": 111,
     "metadata": {},
     "output_type": "execute_result"
    }
   ],
   "source": [
    "education7_df['BUDGET_DEFICIT'].describe()"
   ]
  },
  {
   "cell_type": "code",
   "execution_count": null,
   "metadata": {},
   "outputs": [],
   "source": []
  },
  {
   "cell_type": "markdown",
   "metadata": {},
   "source": [
    "5. Compare some basic descriptive statistics of the budget variables you end up with in the 3rd and the 4th questions. Do you see any differences?"
   ]
  },
  {
   "cell_type": "code",
   "execution_count": 113,
   "metadata": {},
   "outputs": [
    {
     "data": {
      "text/plain": [
       "count      1492.000000\n",
       "mean     -66300.347958\n",
       "std      172254.236587\n",
       "min     -395270.000000\n",
       "25%     -136007.000000\n",
       "50%      -48493.500000\n",
       "75%       29654.250000\n",
       "max      208528.000000\n",
       "Name: BUDGET_DEFICIT, dtype: float64"
      ]
     },
     "execution_count": 113,
     "metadata": {},
     "output_type": "execute_result"
    }
   ],
   "source": [
    "#winsor BUDGET_DEFICIT column only\n",
    "education4_df['BUDGET_DEFICIT'].describe()"
   ]
  },
  {
   "cell_type": "code",
   "execution_count": 114,
   "metadata": {},
   "outputs": [
    {
     "data": {
      "text/plain": [
       "count    531.000000\n",
       "mean      11.209468\n",
       "std        1.628871\n",
       "min        4.890349\n",
       "25%       10.031516\n",
       "50%       11.333356\n",
       "75%       12.388852\n",
       "max       15.175751\n",
       "Name: BUDGET_DEFICIT, dtype: float64"
      ]
     },
     "execution_count": 114,
     "metadata": {},
     "output_type": "execute_result"
    }
   ],
   "source": [
    "#log transform BUDGET_DEFICIT column only\n",
    "education5_df['BUDGET_DEFICIT'].describe()"
   ]
  },
  {
   "cell_type": "code",
   "execution_count": 115,
   "metadata": {},
   "outputs": [
    {
     "data": {
      "text/plain": [
       "count      1492.000000\n",
       "mean     -74987.851979\n",
       "std      149006.815983\n",
       "min     -306344.000000\n",
       "25%     -181183.750000\n",
       "50%      -65651.000000\n",
       "75%       20473.500000\n",
       "max      165510.000000\n",
       "Name: BUDGET_DEFICIT, dtype: float64"
      ]
     },
     "execution_count": 115,
     "metadata": {},
     "output_type": "execute_result"
    }
   ],
   "source": [
    "#winsor TOTAL_REVENUE, TOTAL_EXPENDITURE, and BUDGET_DEFICIT columns\n",
    "education6_df['BUDGET_DEFICIT'].describe()"
   ]
  },
  {
   "cell_type": "code",
   "execution_count": 116,
   "metadata": {},
   "outputs": [
    {
     "data": {
      "text/plain": [
       "count    531.000000\n",
       "mean      -4.098942\n",
       "std        1.288610\n",
       "min      -10.671270\n",
       "25%       -4.701471\n",
       "50%       -3.899573\n",
       "75%       -3.268945\n",
       "max       -1.100733\n",
       "Name: BUDGET_DEFICIT, dtype: float64"
      ]
     },
     "execution_count": 116,
     "metadata": {},
     "output_type": "execute_result"
    }
   ],
   "source": [
    "#log transform TOTAL_REVENUE, TOTAL_EXPENDITURE, and BUDGET_DEFICIT columns\n",
    "education7_df['BUDGET_DEFICIT'].describe()"
   ]
  },
  {
   "cell_type": "markdown",
   "metadata": {},
   "source": [
    "Not sure what happened with the log transformation dataframes, but the count is much lower in these dataframes. \n",
    "\n",
    "The education4_df & education5_df had outliers changed on only the BUDGET_DEFICIT column. The education6_df & education7_df had outliers transformed on both the TOTAL_REVENUE and TOTAL_EXPENDITURE columns as well as the BUDGET_DEFICIT column.\n",
    "The log transformed columns do not seem to make sense based on the original data. \n",
    "\n",
    "The winsor method appears to be more appropriate for this dataset."
   ]
  },
  {
   "cell_type": "code",
   "execution_count": null,
   "metadata": {},
   "outputs": [],
   "source": []
  },
  {
   "cell_type": "code",
   "execution_count": null,
   "metadata": {},
   "outputs": [],
   "source": []
  },
  {
   "cell_type": "code",
   "execution_count": null,
   "metadata": {},
   "outputs": [],
   "source": []
  },
  {
   "cell_type": "code",
   "execution_count": null,
   "metadata": {},
   "outputs": [],
   "source": []
  },
  {
   "cell_type": "code",
   "execution_count": null,
   "metadata": {},
   "outputs": [],
   "source": []
  }
 ],
 "metadata": {
  "kernelspec": {
   "display_name": "Python 3",
   "language": "python",
   "name": "python3"
  },
  "language_info": {
   "codemirror_mode": {
    "name": "ipython",
    "version": 3
   },
   "file_extension": ".py",
   "mimetype": "text/x-python",
   "name": "python",
   "nbconvert_exporter": "python",
   "pygments_lexer": "ipython3",
   "version": "3.7.3"
  }
 },
 "nbformat": 4,
 "nbformat_minor": 2
}
