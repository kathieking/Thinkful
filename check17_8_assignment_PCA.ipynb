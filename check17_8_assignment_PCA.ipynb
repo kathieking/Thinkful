{
 "cells": [
  {
   "cell_type": "markdown",
   "metadata": {},
   "source": [
    "#### Assignment\n",
    "\n",
    "In this assignment, you'll continue working with the U.S. Education Dataset from Kaggle. The data gives detailed state level information on the several facets of the state of education on annual basis. To learn more about the data and the column descriptions, you can view the Kaggle link above. You should access the data from the Thinkful database. Below are the credentials you can use to connect to the database:\n",
    "\n",
    "postgres_user = 'dsbc_student'\n",
    "postgres_pw = '7*.8G9QH21'\n",
    "postgres_host = '142.93.121.174'\n",
    "postgres_port = '5432'\n",
    "postgres_db = 'useducation'\n",
    "\n",
    "Don't forget to apply the most suitable missing value filling techniques you applied in the previous checkpoints to the data. You should provide your answers to the following questions after you handled the missing values.\n",
    "\n",
    "To complete this assignment, submit a link to a Jupyter notebook containing your solutions to the following tasks:\n",
    "\n",
    "Say, we want to understand the relationship between the expenditures of the governments and the students' overall success in the math and reading.\n",
    "\n",
    "1. Create a new score variable from the weighted averages of all score variables in the datasets. Notice that the number of students in the 4th grade isn't the same as the number of students in the 8th grade. So, you should appropriately weigh the scores!.\n",
    "2. What are the correlations between this newly created score variable and the expenditure types? Which 1 of the expenditure types is more correlated than the others?\n",
    "3. Now, apply PCA to the 4 expenditure types. How much of the total variance is explained by the 1st component?\n",
    "4. What is the correlation between the overall score variable and the 1st principal component?\n",
    "5. If you were to choose the best variables for your model, would you prefer using the 1st principal component instead of the expenditure variables? Why?\n",
    "\n",
    "Submit your work below, and plan on discussing with your mentor. You can also take a look at this example solution.\n"
   ]
  },
  {
   "cell_type": "code",
   "execution_count": 1,
   "metadata": {},
   "outputs": [],
   "source": [
    "import pandas as pd\n",
    "import numpy as np\n",
    "import matplotlib.pyplot as plt\n",
    "import seaborn as sns\n",
    "import math\n",
    "from matplotlib.mlab import PCA as mlabPCA\n",
    "from sklearn.preprocessing import StandardScaler\n",
    "from sklearn.decomposition import PCA\n",
    "from sqlalchemy import create_engine\n",
    "import warnings\n",
    "\n",
    "warnings.filterwarnings('ignore')\n",
    "sns.set_style(\"whitegrid\")\n",
    "\n",
    "postgres_user = 'dsbc_student'\n",
    "postgres_pw = '7*.8G9QH21'\n",
    "postgres_host = '142.93.121.174'\n",
    "postgres_port = '5432'\n",
    "postgres_db = 'useducation'\n",
    "\n",
    "engine = create_engine('postgresql://{}:{}@{}:{}/{}'.format(\n",
    "    postgres_user, postgres_pw, postgres_host, postgres_port, postgres_db))\n",
    "\n",
    "education_df = pd.read_sql_query('select * from useducation',con=engine)\n",
    "\n",
    "\n",
    "engine.dispose()\n",
    "\n"
   ]
  },
  {
   "cell_type": "code",
   "execution_count": 2,
   "metadata": {},
   "outputs": [
    {
     "data": {
      "text/plain": [
       "PRIMARY_KEY                       0\n",
       "STATE                             0\n",
       "YEAR                              0\n",
       "ENROLL                          263\n",
       "TOTAL_REVENUE                   212\n",
       "FEDERAL_REVENUE                 212\n",
       "STATE_REVENUE                   212\n",
       "LOCAL_REVENUE                   212\n",
       "TOTAL_EXPENDITURE               212\n",
       "INSTRUCTION_EXPENDITURE         212\n",
       "SUPPORT_SERVICES_EXPENDITURE    212\n",
       "OTHER_EXPENDITURE               263\n",
       "CAPITAL_OUTLAY_EXPENDITURE      212\n",
       "GRADES_PK_G                     173\n",
       "GRADES_KG_G                     132\n",
       "GRADES_4_G                      131\n",
       "GRADES_8_G                      131\n",
       "GRADES_12_G                     131\n",
       "GRADES_1_8_G                    131\n",
       "GRADES_9_12_G                   131\n",
       "GRADES_ALL_G                    173\n",
       "AVG_MATH_4_SCORE                956\n",
       "AVG_MATH_8_SCORE                960\n",
       "AVG_READING_4_SCORE             959\n",
       "AVG_READING_8_SCORE             994\n",
       "dtype: int64"
      ]
     },
     "execution_count": 2,
     "metadata": {},
     "output_type": "execute_result"
    }
   ],
   "source": [
    "education_df.isnull().sum()"
   ]
  },
  {
   "cell_type": "code",
   "execution_count": 3,
   "metadata": {},
   "outputs": [
    {
     "name": "stdout",
     "output_type": "stream",
     "text": [
      "<class 'pandas.core.frame.DataFrame'>\n",
      "RangeIndex: 1492 entries, 0 to 1491\n",
      "Data columns (total 25 columns):\n",
      "PRIMARY_KEY                     1492 non-null object\n",
      "STATE                           1492 non-null object\n",
      "YEAR                            1492 non-null int64\n",
      "ENROLL                          1229 non-null float64\n",
      "TOTAL_REVENUE                   1280 non-null float64\n",
      "FEDERAL_REVENUE                 1280 non-null float64\n",
      "STATE_REVENUE                   1280 non-null float64\n",
      "LOCAL_REVENUE                   1280 non-null float64\n",
      "TOTAL_EXPENDITURE               1280 non-null float64\n",
      "INSTRUCTION_EXPENDITURE         1280 non-null float64\n",
      "SUPPORT_SERVICES_EXPENDITURE    1280 non-null float64\n",
      "OTHER_EXPENDITURE               1229 non-null float64\n",
      "CAPITAL_OUTLAY_EXPENDITURE      1280 non-null float64\n",
      "GRADES_PK_G                     1319 non-null float64\n",
      "GRADES_KG_G                     1360 non-null float64\n",
      "GRADES_4_G                      1361 non-null float64\n",
      "GRADES_8_G                      1361 non-null float64\n",
      "GRADES_12_G                     1361 non-null float64\n",
      "GRADES_1_8_G                    1361 non-null float64\n",
      "GRADES_9_12_G                   1361 non-null float64\n",
      "GRADES_ALL_G                    1319 non-null float64\n",
      "AVG_MATH_4_SCORE                536 non-null float64\n",
      "AVG_MATH_8_SCORE                532 non-null float64\n",
      "AVG_READING_4_SCORE             533 non-null float64\n",
      "AVG_READING_8_SCORE             498 non-null float64\n",
      "dtypes: float64(22), int64(1), object(2)\n",
      "memory usage: 291.5+ KB\n"
     ]
    }
   ],
   "source": [
    "education_df.info()"
   ]
  },
  {
   "cell_type": "markdown",
   "metadata": {},
   "source": [
    "#### question 1\n",
    "Create a new score variable from the weighted averages of all score variables in the datasets. Notice that the number of students in the 4th grade isn't the same as the number of students in the 8th grade. So, you should appropriately weigh the scores!."
   ]
  },
  {
   "cell_type": "markdown",
   "metadata": {},
   "source": [
    "Once NaNs are dropped, all columns have the same number of variables. "
   ]
  },
  {
   "cell_type": "code",
   "execution_count": 4,
   "metadata": {},
   "outputs": [],
   "source": [
    "fill_list = ['ENROLL', 'TOTAL_REVENUE', 'FEDERAL_REVENUE', 'STATE_REVENUE', 'LOCAL_REVENUE', 'TOTAL_EXPENDITURE', 'INSTRUCTION_EXPENDITURE','SUPPORT_SERVICES_EXPENDITURE', 'OTHER_EXPENDITURE', 'CAPITAL_OUTLAY_EXPENDITURE', 'GRADES_PK_G', 'GRADES_KG_G', 'GRADES_4_G', 'GRADES_8_G', 'GRADES_12_G', 'GRADES_1_8_G', 'GRADES_9_12_G', 'GRADES_ALL_G'] "
   ]
  },
  {
   "cell_type": "code",
   "execution_count": 5,
   "metadata": {},
   "outputs": [],
   "source": [
    "states = education_df[\"STATE\"].unique()\n",
    "\n",
    "for state in states:\n",
    "    education_df.loc[education_df[\"STATE\"] == state, fill_list] = education_df.loc[education_df[\"STATE\"] == state, fill_list].interpolate()"
   ]
  },
  {
   "cell_type": "code",
   "execution_count": 6,
   "metadata": {},
   "outputs": [
    {
     "data": {
      "text/plain": [
       "PRIMARY_KEY                       0\n",
       "STATE                             0\n",
       "YEAR                              0\n",
       "ENROLL                          211\n",
       "TOTAL_REVENUE                   161\n",
       "FEDERAL_REVENUE                 161\n",
       "STATE_REVENUE                   161\n",
       "LOCAL_REVENUE                   161\n",
       "TOTAL_EXPENDITURE               161\n",
       "INSTRUCTION_EXPENDITURE         161\n",
       "SUPPORT_SERVICES_EXPENDITURE    161\n",
       "OTHER_EXPENDITURE               211\n",
       "CAPITAL_OUTLAY_EXPENDITURE      161\n",
       "GRADES_PK_G                      49\n",
       "GRADES_KG_G                       7\n",
       "GRADES_4_G                        7\n",
       "GRADES_8_G                        7\n",
       "GRADES_12_G                       7\n",
       "GRADES_1_8_G                      7\n",
       "GRADES_9_12_G                     7\n",
       "GRADES_ALL_G                     49\n",
       "AVG_MATH_4_SCORE                956\n",
       "AVG_MATH_8_SCORE                960\n",
       "AVG_READING_4_SCORE             959\n",
       "AVG_READING_8_SCORE             994\n",
       "dtype: int64"
      ]
     },
     "execution_count": 6,
     "metadata": {},
     "output_type": "execute_result"
    }
   ],
   "source": [
    "education_df.isnull().sum()"
   ]
  },
  {
   "cell_type": "code",
   "execution_count": 7,
   "metadata": {},
   "outputs": [],
   "source": [
    "education_df.dropna(inplace = True)"
   ]
  },
  {
   "cell_type": "code",
   "execution_count": 8,
   "metadata": {},
   "outputs": [
    {
     "name": "stdout",
     "output_type": "stream",
     "text": [
      "<class 'pandas.core.frame.DataFrame'>\n",
      "Int64Index: 466 entries, 209 to 1491\n",
      "Data columns (total 25 columns):\n",
      "PRIMARY_KEY                     466 non-null object\n",
      "STATE                           466 non-null object\n",
      "YEAR                            466 non-null int64\n",
      "ENROLL                          466 non-null float64\n",
      "TOTAL_REVENUE                   466 non-null float64\n",
      "FEDERAL_REVENUE                 466 non-null float64\n",
      "STATE_REVENUE                   466 non-null float64\n",
      "LOCAL_REVENUE                   466 non-null float64\n",
      "TOTAL_EXPENDITURE               466 non-null float64\n",
      "INSTRUCTION_EXPENDITURE         466 non-null float64\n",
      "SUPPORT_SERVICES_EXPENDITURE    466 non-null float64\n",
      "OTHER_EXPENDITURE               466 non-null float64\n",
      "CAPITAL_OUTLAY_EXPENDITURE      466 non-null float64\n",
      "GRADES_PK_G                     466 non-null float64\n",
      "GRADES_KG_G                     466 non-null float64\n",
      "GRADES_4_G                      466 non-null float64\n",
      "GRADES_8_G                      466 non-null float64\n",
      "GRADES_12_G                     466 non-null float64\n",
      "GRADES_1_8_G                    466 non-null float64\n",
      "GRADES_9_12_G                   466 non-null float64\n",
      "GRADES_ALL_G                    466 non-null float64\n",
      "AVG_MATH_4_SCORE                466 non-null float64\n",
      "AVG_MATH_8_SCORE                466 non-null float64\n",
      "AVG_READING_4_SCORE             466 non-null float64\n",
      "AVG_READING_8_SCORE             466 non-null float64\n",
      "dtypes: float64(22), int64(1), object(2)\n",
      "memory usage: 94.7+ KB\n"
     ]
    }
   ],
   "source": [
    "education_df.info()"
   ]
  },
  {
   "cell_type": "code",
   "execution_count": 9,
   "metadata": {},
   "outputs": [],
   "source": [
    "#my attempte at weighted average\n",
    "def wavg(group, avg_name, weight_name):\n",
    "   \n",
    "    d = group[avg_name]\n",
    "    w = group[weight_name]\n",
    "    try:\n",
    "        return (d * w).sum() / w.sum()\n",
    "    except ZeroDivisionError:\n",
    "        return d.mean()"
   ]
  },
  {
   "cell_type": "code",
   "execution_count": 10,
   "metadata": {},
   "outputs": [
    {
     "data": {
      "text/plain": [
       "249.61398266960157"
      ]
     },
     "execution_count": 10,
     "metadata": {},
     "output_type": "execute_result"
    }
   ],
   "source": [
    "scores_m4 = wavg(education_df, 'AVG_MATH_4_SCORE', 'GRADES_4_G')\n",
    "scores_r4 = wavg(education_df, 'AVG_READING_4_SCORE', 'GRADES_4_G')\n",
    "scores_m8 = wavg(education_df, 'AVG_MATH_8_SCORE', 'GRADES_8_G')\n",
    "scores_r8 = wavg(education_df, 'AVG_READING_8_SCORE', 'GRADES_8_G')\n",
    "wavg_scores = (scores_m4 + scores_r4 + scores_m8 + scores_r8)/4\n",
    "wavg_scores"
   ]
  },
  {
   "cell_type": "code",
   "execution_count": 11,
   "metadata": {},
   "outputs": [],
   "source": [
    "education_df['overall_wavgscore']= wavg_scores"
   ]
  },
  {
   "cell_type": "code",
   "execution_count": 12,
   "metadata": {},
   "outputs": [],
   "source": [
    "#sample answer\n",
    "education_df['overall_score'] = (education_df['GRADES_4_G']*((education_df['AVG_MATH_4_SCORE'] + education_df['AVG_READING_4_SCORE'])*0.5) + education_df['GRADES_8_G']\n",
    "                                 * ((education_df['AVG_MATH_8_SCORE'] + education_df['AVG_READING_8_SCORE'])*0.5))/(education_df['GRADES_4_G'] + education_df['GRADES_8_G'])"
   ]
  },
  {
   "cell_type": "code",
   "execution_count": 13,
   "metadata": {},
   "outputs": [
    {
     "data": {
      "text/html": [
       "<div>\n",
       "<style scoped>\n",
       "    .dataframe tbody tr th:only-of-type {\n",
       "        vertical-align: middle;\n",
       "    }\n",
       "\n",
       "    .dataframe tbody tr th {\n",
       "        vertical-align: top;\n",
       "    }\n",
       "\n",
       "    .dataframe thead th {\n",
       "        text-align: right;\n",
       "    }\n",
       "</style>\n",
       "<table border=\"1\" class=\"dataframe\">\n",
       "  <thead>\n",
       "    <tr style=\"text-align: right;\">\n",
       "      <th></th>\n",
       "      <th>PRIMARY_KEY</th>\n",
       "      <th>STATE</th>\n",
       "      <th>YEAR</th>\n",
       "      <th>ENROLL</th>\n",
       "      <th>TOTAL_REVENUE</th>\n",
       "      <th>FEDERAL_REVENUE</th>\n",
       "      <th>STATE_REVENUE</th>\n",
       "      <th>LOCAL_REVENUE</th>\n",
       "      <th>TOTAL_EXPENDITURE</th>\n",
       "      <th>INSTRUCTION_EXPENDITURE</th>\n",
       "      <th>...</th>\n",
       "      <th>GRADES_12_G</th>\n",
       "      <th>GRADES_1_8_G</th>\n",
       "      <th>GRADES_9_12_G</th>\n",
       "      <th>GRADES_ALL_G</th>\n",
       "      <th>AVG_MATH_4_SCORE</th>\n",
       "      <th>AVG_MATH_8_SCORE</th>\n",
       "      <th>AVG_READING_4_SCORE</th>\n",
       "      <th>AVG_READING_8_SCORE</th>\n",
       "      <th>overall_wavgscore</th>\n",
       "      <th>overall_score</th>\n",
       "    </tr>\n",
       "  </thead>\n",
       "  <tbody>\n",
       "    <tr>\n",
       "      <th>209</th>\n",
       "      <td>1996_ALABAMA</td>\n",
       "      <td>ALABAMA</td>\n",
       "      <td>1996</td>\n",
       "      <td>735912.0</td>\n",
       "      <td>3365113.0</td>\n",
       "      <td>334858.0</td>\n",
       "      <td>2138717.0</td>\n",
       "      <td>891538.0</td>\n",
       "      <td>3572283.0</td>\n",
       "      <td>1987018.0</td>\n",
       "      <td>...</td>\n",
       "      <td>42510.0</td>\n",
       "      <td>469370.0</td>\n",
       "      <td>207980.0</td>\n",
       "      <td>686983.0</td>\n",
       "      <td>211.646974</td>\n",
       "      <td>256.594863</td>\n",
       "      <td>210.920767</td>\n",
       "      <td>260.276441</td>\n",
       "      <td>249.613983</td>\n",
       "      <td>235.106342</td>\n",
       "    </tr>\n",
       "    <tr>\n",
       "      <th>211</th>\n",
       "      <td>1996_ARIZONA</td>\n",
       "      <td>ARIZONA</td>\n",
       "      <td>1996</td>\n",
       "      <td>764681.0</td>\n",
       "      <td>4143304.0</td>\n",
       "      <td>378917.0</td>\n",
       "      <td>1798363.0</td>\n",
       "      <td>1966024.0</td>\n",
       "      <td>4391555.0</td>\n",
       "      <td>1860007.0</td>\n",
       "      <td>...</td>\n",
       "      <td>42041.0</td>\n",
       "      <td>511925.0</td>\n",
       "      <td>210289.0</td>\n",
       "      <td>726709.0</td>\n",
       "      <td>217.575940</td>\n",
       "      <td>267.874834</td>\n",
       "      <td>206.529788</td>\n",
       "      <td>263.283638</td>\n",
       "      <td>249.613983</td>\n",
       "      <td>238.321404</td>\n",
       "    </tr>\n",
       "    <tr>\n",
       "      <th>212</th>\n",
       "      <td>1996_ARKANSAS</td>\n",
       "      <td>ARKANSAS</td>\n",
       "      <td>1996</td>\n",
       "      <td>452907.0</td>\n",
       "      <td>2183384.0</td>\n",
       "      <td>192152.0</td>\n",
       "      <td>1296247.0</td>\n",
       "      <td>694985.0</td>\n",
       "      <td>2297381.0</td>\n",
       "      <td>1264275.0</td>\n",
       "      <td>...</td>\n",
       "      <td>27613.0</td>\n",
       "      <td>283883.0</td>\n",
       "      <td>131997.0</td>\n",
       "      <td>417860.0</td>\n",
       "      <td>215.846436</td>\n",
       "      <td>261.652745</td>\n",
       "      <td>208.837716</td>\n",
       "      <td>271.834590</td>\n",
       "      <td>249.613983</td>\n",
       "      <td>240.773675</td>\n",
       "    </tr>\n",
       "    <tr>\n",
       "      <th>213</th>\n",
       "      <td>1996_CALIFORNIA</td>\n",
       "      <td>CALIFORNIA</td>\n",
       "      <td>1996</td>\n",
       "      <td>5460484.0</td>\n",
       "      <td>31282981.0</td>\n",
       "      <td>2603882.0</td>\n",
       "      <td>17061474.0</td>\n",
       "      <td>11617625.0</td>\n",
       "      <td>31561692.0</td>\n",
       "      <td>16880730.0</td>\n",
       "      <td>...</td>\n",
       "      <td>298669.0</td>\n",
       "      <td>3516572.0</td>\n",
       "      <td>1525618.0</td>\n",
       "      <td>5115423.0</td>\n",
       "      <td>209.129083</td>\n",
       "      <td>262.772478</td>\n",
       "      <td>201.912591</td>\n",
       "      <td>269.197451</td>\n",
       "      <td>249.613983</td>\n",
       "      <td>234.719834</td>\n",
       "    </tr>\n",
       "    <tr>\n",
       "      <th>214</th>\n",
       "      <td>1996_COLORADO</td>\n",
       "      <td>COLORADO</td>\n",
       "      <td>1996</td>\n",
       "      <td>655679.0</td>\n",
       "      <td>3891203.0</td>\n",
       "      <td>194998.0</td>\n",
       "      <td>1664676.0</td>\n",
       "      <td>2031529.0</td>\n",
       "      <td>4075165.0</td>\n",
       "      <td>2052264.0</td>\n",
       "      <td>...</td>\n",
       "      <td>37179.0</td>\n",
       "      <td>423510.0</td>\n",
       "      <td>185700.0</td>\n",
       "      <td>621730.0</td>\n",
       "      <td>225.805858</td>\n",
       "      <td>275.608214</td>\n",
       "      <td>221.653243</td>\n",
       "      <td>268.168154</td>\n",
       "      <td>249.613983</td>\n",
       "      <td>247.750273</td>\n",
       "    </tr>\n",
       "  </tbody>\n",
       "</table>\n",
       "<p>5 rows × 27 columns</p>\n",
       "</div>"
      ],
      "text/plain": [
       "         PRIMARY_KEY       STATE  YEAR     ENROLL  TOTAL_REVENUE  \\\n",
       "209     1996_ALABAMA     ALABAMA  1996   735912.0      3365113.0   \n",
       "211     1996_ARIZONA     ARIZONA  1996   764681.0      4143304.0   \n",
       "212    1996_ARKANSAS    ARKANSAS  1996   452907.0      2183384.0   \n",
       "213  1996_CALIFORNIA  CALIFORNIA  1996  5460484.0     31282981.0   \n",
       "214    1996_COLORADO    COLORADO  1996   655679.0      3891203.0   \n",
       "\n",
       "     FEDERAL_REVENUE  STATE_REVENUE  LOCAL_REVENUE  TOTAL_EXPENDITURE  \\\n",
       "209         334858.0      2138717.0       891538.0          3572283.0   \n",
       "211         378917.0      1798363.0      1966024.0          4391555.0   \n",
       "212         192152.0      1296247.0       694985.0          2297381.0   \n",
       "213        2603882.0     17061474.0     11617625.0         31561692.0   \n",
       "214         194998.0      1664676.0      2031529.0          4075165.0   \n",
       "\n",
       "     INSTRUCTION_EXPENDITURE  ...  GRADES_12_G  GRADES_1_8_G  GRADES_9_12_G  \\\n",
       "209                1987018.0  ...      42510.0      469370.0       207980.0   \n",
       "211                1860007.0  ...      42041.0      511925.0       210289.0   \n",
       "212                1264275.0  ...      27613.0      283883.0       131997.0   \n",
       "213               16880730.0  ...     298669.0     3516572.0      1525618.0   \n",
       "214                2052264.0  ...      37179.0      423510.0       185700.0   \n",
       "\n",
       "     GRADES_ALL_G  AVG_MATH_4_SCORE  AVG_MATH_8_SCORE  AVG_READING_4_SCORE  \\\n",
       "209      686983.0        211.646974        256.594863           210.920767   \n",
       "211      726709.0        217.575940        267.874834           206.529788   \n",
       "212      417860.0        215.846436        261.652745           208.837716   \n",
       "213     5115423.0        209.129083        262.772478           201.912591   \n",
       "214      621730.0        225.805858        275.608214           221.653243   \n",
       "\n",
       "     AVG_READING_8_SCORE  overall_wavgscore  overall_score  \n",
       "209           260.276441         249.613983     235.106342  \n",
       "211           263.283638         249.613983     238.321404  \n",
       "212           271.834590         249.613983     240.773675  \n",
       "213           269.197451         249.613983     234.719834  \n",
       "214           268.168154         249.613983     247.750273  \n",
       "\n",
       "[5 rows x 27 columns]"
      ]
     },
     "execution_count": 13,
     "metadata": {},
     "output_type": "execute_result"
    }
   ],
   "source": [
    "education_df.head()"
   ]
  },
  {
   "cell_type": "code",
   "execution_count": null,
   "metadata": {},
   "outputs": [],
   "source": []
  },
  {
   "cell_type": "markdown",
   "metadata": {},
   "source": [
    "#### question 2\n",
    "What are the correlations between this newly created score variable and the expenditure types? Which 1 of the expenditure types is more correlated than the others?"
   ]
  },
  {
   "cell_type": "code",
   "execution_count": null,
   "metadata": {},
   "outputs": [],
   "source": []
  },
  {
   "cell_type": "code",
   "execution_count": 14,
   "metadata": {},
   "outputs": [
    {
     "data": {
      "text/html": [
       "<div>\n",
       "<style scoped>\n",
       "    .dataframe tbody tr th:only-of-type {\n",
       "        vertical-align: middle;\n",
       "    }\n",
       "\n",
       "    .dataframe tbody tr th {\n",
       "        vertical-align: top;\n",
       "    }\n",
       "\n",
       "    .dataframe thead th {\n",
       "        text-align: right;\n",
       "    }\n",
       "</style>\n",
       "<table border=\"1\" class=\"dataframe\">\n",
       "  <thead>\n",
       "    <tr style=\"text-align: right;\">\n",
       "      <th></th>\n",
       "      <th>TOTAL_EXPENDITURE</th>\n",
       "      <th>INSTRUCTION_EXPENDITURE</th>\n",
       "      <th>SUPPORT_SERVICES_EXPENDITURE</th>\n",
       "      <th>OTHER_EXPENDITURE</th>\n",
       "      <th>CAPITAL_OUTLAY_EXPENDITURE</th>\n",
       "      <th>overall_score</th>\n",
       "      <th>overall_wavgscore</th>\n",
       "    </tr>\n",
       "  </thead>\n",
       "  <tbody>\n",
       "    <tr>\n",
       "      <th>TOTAL_EXPENDITURE</th>\n",
       "      <td>1.000000e+00</td>\n",
       "      <td>9.902545e-01</td>\n",
       "      <td>9.929881e-01</td>\n",
       "      <td>9.437020e-01</td>\n",
       "      <td>9.257837e-01</td>\n",
       "      <td>7.415542e-02</td>\n",
       "      <td>2.786699e-16</td>\n",
       "    </tr>\n",
       "    <tr>\n",
       "      <th>INSTRUCTION_EXPENDITURE</th>\n",
       "      <td>9.902545e-01</td>\n",
       "      <td>1.000000e+00</td>\n",
       "      <td>9.743985e-01</td>\n",
       "      <td>9.021733e-01</td>\n",
       "      <td>8.847981e-01</td>\n",
       "      <td>8.738559e-02</td>\n",
       "      <td>-6.079000e-16</td>\n",
       "    </tr>\n",
       "    <tr>\n",
       "      <th>SUPPORT_SERVICES_EXPENDITURE</th>\n",
       "      <td>9.929881e-01</td>\n",
       "      <td>9.743985e-01</td>\n",
       "      <td>1.000000e+00</td>\n",
       "      <td>9.522823e-01</td>\n",
       "      <td>9.112452e-01</td>\n",
       "      <td>7.900244e-02</td>\n",
       "      <td>-5.054334e-16</td>\n",
       "    </tr>\n",
       "    <tr>\n",
       "      <th>OTHER_EXPENDITURE</th>\n",
       "      <td>9.437020e-01</td>\n",
       "      <td>9.021733e-01</td>\n",
       "      <td>9.522823e-01</td>\n",
       "      <td>1.000000e+00</td>\n",
       "      <td>9.181882e-01</td>\n",
       "      <td>1.095916e-02</td>\n",
       "      <td>6.386393e-16</td>\n",
       "    </tr>\n",
       "    <tr>\n",
       "      <th>CAPITAL_OUTLAY_EXPENDITURE</th>\n",
       "      <td>9.257837e-01</td>\n",
       "      <td>8.847981e-01</td>\n",
       "      <td>9.112452e-01</td>\n",
       "      <td>9.181882e-01</td>\n",
       "      <td>1.000000e+00</td>\n",
       "      <td>-5.389407e-03</td>\n",
       "      <td>1.563486e-16</td>\n",
       "    </tr>\n",
       "    <tr>\n",
       "      <th>overall_score</th>\n",
       "      <td>7.415542e-02</td>\n",
       "      <td>8.738559e-02</td>\n",
       "      <td>7.900244e-02</td>\n",
       "      <td>1.095916e-02</td>\n",
       "      <td>-5.389407e-03</td>\n",
       "      <td>1.000000e+00</td>\n",
       "      <td>2.338366e-15</td>\n",
       "    </tr>\n",
       "    <tr>\n",
       "      <th>overall_wavgscore</th>\n",
       "      <td>2.786699e-16</td>\n",
       "      <td>-6.079000e-16</td>\n",
       "      <td>-5.054334e-16</td>\n",
       "      <td>6.386393e-16</td>\n",
       "      <td>1.563486e-16</td>\n",
       "      <td>2.338366e-15</td>\n",
       "      <td>1.000000e+00</td>\n",
       "    </tr>\n",
       "  </tbody>\n",
       "</table>\n",
       "</div>"
      ],
      "text/plain": [
       "                              TOTAL_EXPENDITURE  INSTRUCTION_EXPENDITURE  \\\n",
       "TOTAL_EXPENDITURE                  1.000000e+00             9.902545e-01   \n",
       "INSTRUCTION_EXPENDITURE            9.902545e-01             1.000000e+00   \n",
       "SUPPORT_SERVICES_EXPENDITURE       9.929881e-01             9.743985e-01   \n",
       "OTHER_EXPENDITURE                  9.437020e-01             9.021733e-01   \n",
       "CAPITAL_OUTLAY_EXPENDITURE         9.257837e-01             8.847981e-01   \n",
       "overall_score                      7.415542e-02             8.738559e-02   \n",
       "overall_wavgscore                  2.786699e-16            -6.079000e-16   \n",
       "\n",
       "                              SUPPORT_SERVICES_EXPENDITURE  OTHER_EXPENDITURE  \\\n",
       "TOTAL_EXPENDITURE                             9.929881e-01       9.437020e-01   \n",
       "INSTRUCTION_EXPENDITURE                       9.743985e-01       9.021733e-01   \n",
       "SUPPORT_SERVICES_EXPENDITURE                  1.000000e+00       9.522823e-01   \n",
       "OTHER_EXPENDITURE                             9.522823e-01       1.000000e+00   \n",
       "CAPITAL_OUTLAY_EXPENDITURE                    9.112452e-01       9.181882e-01   \n",
       "overall_score                                 7.900244e-02       1.095916e-02   \n",
       "overall_wavgscore                            -5.054334e-16       6.386393e-16   \n",
       "\n",
       "                              CAPITAL_OUTLAY_EXPENDITURE  overall_score  \\\n",
       "TOTAL_EXPENDITURE                           9.257837e-01   7.415542e-02   \n",
       "INSTRUCTION_EXPENDITURE                     8.847981e-01   8.738559e-02   \n",
       "SUPPORT_SERVICES_EXPENDITURE                9.112452e-01   7.900244e-02   \n",
       "OTHER_EXPENDITURE                           9.181882e-01   1.095916e-02   \n",
       "CAPITAL_OUTLAY_EXPENDITURE                  1.000000e+00  -5.389407e-03   \n",
       "overall_score                              -5.389407e-03   1.000000e+00   \n",
       "overall_wavgscore                           1.563486e-16   2.338366e-15   \n",
       "\n",
       "                              overall_wavgscore  \n",
       "TOTAL_EXPENDITURE                  2.786699e-16  \n",
       "INSTRUCTION_EXPENDITURE           -6.079000e-16  \n",
       "SUPPORT_SERVICES_EXPENDITURE      -5.054334e-16  \n",
       "OTHER_EXPENDITURE                  6.386393e-16  \n",
       "CAPITAL_OUTLAY_EXPENDITURE         1.563486e-16  \n",
       "overall_score                      2.338366e-15  \n",
       "overall_wavgscore                  1.000000e+00  "
      ]
     },
     "execution_count": 14,
     "metadata": {},
     "output_type": "execute_result"
    }
   ],
   "source": [
    "education_df[['TOTAL_EXPENDITURE', 'INSTRUCTION_EXPENDITURE', 'SUPPORT_SERVICES_EXPENDITURE',\n",
    "             'OTHER_EXPENDITURE', 'CAPITAL_OUTLAY_EXPENDITURE', 'overall_score', 'overall_wavgscore']].corr()"
   ]
  },
  {
   "cell_type": "code",
   "execution_count": 16,
   "metadata": {},
   "outputs": [
    {
     "data": {
      "image/png": "[encoded data removed]",
      "text/plain": [
       "<Figure size 1296x360 with 2 Axes>"
      ]
     },
     "metadata": {
      "needs_background": "light"
     },
     "output_type": "display_data"
    }
   ],
   "source": [
    "corrmat_student = education_df[['TOTAL_EXPENDITURE', 'INSTRUCTION_EXPENDITURE', 'SUPPORT_SERVICES_EXPENDITURE',\n",
    "             'OTHER_EXPENDITURE', 'CAPITAL_OUTLAY_EXPENDITURE', 'overall_score', 'overall_wavgscore']].corr()\n",
    "\n",
    "\n",
    "plt.figure(figsize=(18,5))\n",
    "\n",
    "plt.subplot(1,2,1)\n",
    "# draw the heatmap using seaborn.\n",
    "sns.heatmap(corrmat_student, square=True, annot=True, linewidths=.5)\n",
    "plt.yticks(rotation='horizontal')\n",
    "plt.title(\"correlation matrix (student performance and expenditure)\")\n",
    "\n",
    "plt.show()"
   ]
  },
  {
   "cell_type": "markdown",
   "metadata": {},
   "source": [
    "The most correlated expenditure type with overall_score is the instruction_expenditure at 0.087 (very weak). "
   ]
  },
  {
   "cell_type": "code",
   "execution_count": null,
   "metadata": {},
   "outputs": [],
   "source": []
  },
  {
   "cell_type": "markdown",
   "metadata": {},
   "source": [
    "#### question 3\n",
    "Now, apply PCA to the 4 expenditure types. How much of the total variance is explained by the 1st component?"
   ]
  },
  {
   "cell_type": "code",
   "execution_count": 21,
   "metadata": {},
   "outputs": [
    {
     "name": "stdout",
     "output_type": "stream",
     "text": [
      "The percentage of total variance in the dataset explained by each component from Sklearn PCA.\n",
      " [0.9430175]\n"
     ]
    }
   ],
   "source": [
    "from sklearn.decomposition import PCA\n",
    "from sklearn.preprocessing import StandardScaler\n",
    "\n",
    "X = education_df[[\"INSTRUCTION_EXPENDITURE\", \"SUPPORT_SERVICES_EXPENDITURE\",\n",
    "                  \"OTHER_EXPENDITURE\", \"CAPITAL_OUTLAY_EXPENDITURE\"]]\n",
    "\n",
    "X = StandardScaler().fit_transform(X)\n",
    "\n",
    "sklearn_pca = PCA(n_components=1)\n",
    "education_df[\"pca_1\"] = sklearn_pca.fit_transform(X)\n",
    "\n",
    "print(\n",
    "    'The percentage of total variance in the dataset explained by each',\n",
    "    'component from Sklearn PCA.\\n',\n",
    "    sklearn_pca.explained_variance_ratio_\n",
    ")"
   ]
  },
  {
   "cell_type": "code",
   "execution_count": 25,
   "metadata": {},
   "outputs": [
    {
     "name": "stdout",
     "output_type": "stream",
     "text": [
      "Covariance Matrix:\n",
      " [[1.00215054 0.97649399 0.90411344 0.88670093]\n",
      " [0.97649399 1.00215054 0.95433021 0.91320483]\n",
      " [0.90411344 0.95433021 1.00215054 0.92016275]\n",
      " [0.88670093 0.91320483 0.92016275 1.00215054]]\n"
     ]
    }
   ],
   "source": [
    "education_df = education_df.dropna()\n",
    "X = education_df[[\"INSTRUCTION_EXPENDITURE\", \"SUPPORT_SERVICES_EXPENDITURE\",\n",
    "                  \"OTHER_EXPENDITURE\", \"CAPITAL_OUTLAY_EXPENDITURE\"]]\n",
    "\n",
    "# Normalize the data so that all variables have a mean of 0 and standard deviation\n",
    "# of 1.\n",
    "X = StandardScaler().fit_transform(X)\n",
    "\n",
    "# The NumPy covariance function assumes that variables are represented by rows,\n",
    "# not columns, so we transpose X.\n",
    "Xt = X.T\n",
    "Cx = np.cov(Xt)\n",
    "print('Covariance Matrix:\\n', Cx)\n"
   ]
  },
  {
   "cell_type": "code",
   "execution_count": 26,
   "metadata": {},
   "outputs": [
    {
     "name": "stdout",
     "output_type": "stream",
     "text": [
      "Eigenvector 1: \n",
      "[-0.49872077 -0.508884   -0.50012988 -0.49212272]\n",
      "Eigenvalue 1: 3.7801819695172623\n",
      "----------------------------------------\n",
      "Eigenvector 2: \n",
      "[-0.51731724  0.79350501 -0.31927696  0.02819378]\n",
      "Eigenvalue 2: 0.01399530841987182\n",
      "----------------------------------------\n",
      "Eigenvector 3: \n",
      "[-0.5998946  -0.31891698  0.24059869  0.69320322]\n",
      "Eigenvalue 3: 0.13404482102994622\n",
      "----------------------------------------\n",
      "Eigenvector 4: \n",
      "[ 0.35183367 -0.09838106 -0.76814361  0.52582282]\n",
      "Eigenvalue 4: 0.08038005157055561\n",
      "----------------------------------------\n",
      "The percentage of total variance in the dataset explained by each component calculated by hand.\n",
      " [0.9430175  0.00349132 0.03343929 0.02005189]\n"
     ]
    }
   ],
   "source": [
    "# Calculating eigenvalues and eigenvectors.\n",
    "eig_val_cov, eig_vec_cov = np.linalg.eig(Cx)\n",
    "\n",
    "# Inspecting the eigenvalues and eigenvectors.\n",
    "for i in range(len(eig_val_cov)):\n",
    "    eigvec_cov = eig_vec_cov[:, i].T\n",
    "    print('Eigenvector {}: \\n{}'.format(i + 1, eigvec_cov))\n",
    "    print('Eigenvalue {}: {}'.format(i + 1, eig_val_cov[i]))\n",
    "    print(40 * '-')\n",
    "\n",
    "print(\n",
    "    'The percentage of total variance in the dataset explained by each',\n",
    "    'component calculated by hand.\\n',\n",
    "    eig_val_cov / sum(eig_val_cov)\n",
    ")"
   ]
  },
  {
   "cell_type": "code",
   "execution_count": 27,
   "metadata": {},
   "outputs": [
    {
     "data": {
      "image/png": "[encoded data removed]",
      "text/plain": [
       "<Figure size 432x288 with 1 Axes>"
      ]
     },
     "metadata": {
      "needs_background": "light"
     },
     "output_type": "display_data"
    },
    {
     "name": "stdout",
     "output_type": "stream",
     "text": [
      "[3.78018197 0.01399531 0.13404482 0.08038005]\n"
     ]
    }
   ],
   "source": [
    "plt.plot(eig_val_cov)\n",
    "plt.show()\n",
    "\n",
    "print(eig_val_cov)"
   ]
  },
  {
   "cell_type": "code",
   "execution_count": 29,
   "metadata": {},
   "outputs": [
    {
     "name": "stdout",
     "output_type": "stream",
     "text": [
      "The percentage of total variance in the dataset explained by each component from Sklearn PCA.\n",
      " [0.9430175  0.03343929 0.02005189 0.00349132]\n"
     ]
    },
    {
     "data": {
      "image/png": "[encoded data removed]",
      "text/plain": [
       "<Figure size 432x288 with 1 Axes>"
      ]
     },
     "metadata": {
      "needs_background": "light"
     },
     "output_type": "display_data"
    }
   ],
   "source": [
    "sklearn_pca = PCA(n_components=4)\n",
    "Y_sklearn = sklearn_pca.fit_transform(X)\n",
    "\n",
    "P = eig_vec_cov[:, 0]\n",
    "\n",
    "# Transform X into Y.\n",
    "Y = P.T.dot(Xt)\n",
    "\n",
    "print(\n",
    "    'The percentage of total variance in the dataset explained by each',\n",
    "    'component from Sklearn PCA.\\n',\n",
    "    sklearn_pca.explained_variance_ratio_\n",
    ")\n",
    "\n",
    "# Compare the sklearn solution to ours – a perfect match.\n",
    "plt.plot(Y_sklearn[:, 0], Y, 'o')\n",
    "plt.title('Comparing solutions')\n",
    "plt.ylabel('Sklearn Component 1')\n",
    "plt.xlabel('By-hand Component 1')\n",
    "plt.show()"
   ]
  },
  {
   "cell_type": "code",
   "execution_count": 31,
   "metadata": {},
   "outputs": [
    {
     "name": "stdout",
     "output_type": "stream",
     "text": [
      "The percentage of total variance in the dataset explained by each component from Sklearn PCA.\n",
      " [0.9430175]\n"
     ]
    }
   ],
   "source": [
    "X = education_df[['INSTRUCTION_EXPENDITURE', 'SUPPORT_SERVICES_EXPENDITURE',\n",
    "             'OTHER_EXPENDITURE', 'CAPITAL_OUTLAY_EXPENDITURE']]\n",
    "\n",
    "X = StandardScaler().fit_transform(X)\n",
    "\n",
    "sklearn_pca = PCA(n_components=1)\n",
    "education_df['pca_1'] = sklearn_pca.fit_transform(X)\n",
    "\n",
    "print(\n",
    "    'The percentage of total variance in the dataset explained by each',\n",
    "    'component from Sklearn PCA.\\n',\n",
    "    sklearn_pca.explained_variance_ratio_\n",
    ")\n",
    "\n"
   ]
  },
  {
   "cell_type": "markdown",
   "metadata": {},
   "source": [
    "94% of total variance is explained by the first component. "
   ]
  },
  {
   "cell_type": "markdown",
   "metadata": {},
   "source": [
    "#### question 4\n",
    "What is the correlation between the overall score variable and the 1st principal component?"
   ]
  },
  {
   "cell_type": "code",
   "execution_count": 33,
   "metadata": {},
   "outputs": [
    {
     "data": {
      "text/html": [
       "<div>\n",
       "<style scoped>\n",
       "    .dataframe tbody tr th:only-of-type {\n",
       "        vertical-align: middle;\n",
       "    }\n",
       "\n",
       "    .dataframe tbody tr th {\n",
       "        vertical-align: top;\n",
       "    }\n",
       "\n",
       "    .dataframe thead th {\n",
       "        text-align: right;\n",
       "    }\n",
       "</style>\n",
       "<table border=\"1\" class=\"dataframe\">\n",
       "  <thead>\n",
       "    <tr style=\"text-align: right;\">\n",
       "      <th></th>\n",
       "      <th>TOTAL_EXPENDITURE</th>\n",
       "      <th>INSTRUCTION_EXPENDITURE</th>\n",
       "      <th>SUPPORT_SERVICES_EXPENDITURE</th>\n",
       "      <th>OTHER_EXPENDITURE</th>\n",
       "      <th>CAPITAL_OUTLAY_EXPENDITURE</th>\n",
       "      <th>overall_score</th>\n",
       "      <th>pca_1</th>\n",
       "    </tr>\n",
       "  </thead>\n",
       "  <tbody>\n",
       "    <tr>\n",
       "      <th>TOTAL_EXPENDITURE</th>\n",
       "      <td>1.000000</td>\n",
       "      <td>0.990255</td>\n",
       "      <td>0.992988</td>\n",
       "      <td>0.943702</td>\n",
       "      <td>0.925784</td>\n",
       "      <td>0.074155</td>\n",
       "      <td>0.992054</td>\n",
       "    </tr>\n",
       "    <tr>\n",
       "      <th>INSTRUCTION_EXPENDITURE</th>\n",
       "      <td>0.990255</td>\n",
       "      <td>1.000000</td>\n",
       "      <td>0.974399</td>\n",
       "      <td>0.902173</td>\n",
       "      <td>0.884798</td>\n",
       "      <td>0.087386</td>\n",
       "      <td>0.968606</td>\n",
       "    </tr>\n",
       "    <tr>\n",
       "      <th>SUPPORT_SERVICES_EXPENDITURE</th>\n",
       "      <td>0.992988</td>\n",
       "      <td>0.974399</td>\n",
       "      <td>1.000000</td>\n",
       "      <td>0.952282</td>\n",
       "      <td>0.911245</td>\n",
       "      <td>0.079002</td>\n",
       "      <td>0.988345</td>\n",
       "    </tr>\n",
       "    <tr>\n",
       "      <th>OTHER_EXPENDITURE</th>\n",
       "      <td>0.943702</td>\n",
       "      <td>0.902173</td>\n",
       "      <td>0.952282</td>\n",
       "      <td>1.000000</td>\n",
       "      <td>0.918188</td>\n",
       "      <td>0.010959</td>\n",
       "      <td>0.971343</td>\n",
       "    </tr>\n",
       "    <tr>\n",
       "      <th>CAPITAL_OUTLAY_EXPENDITURE</th>\n",
       "      <td>0.925784</td>\n",
       "      <td>0.884798</td>\n",
       "      <td>0.911245</td>\n",
       "      <td>0.918188</td>\n",
       "      <td>1.000000</td>\n",
       "      <td>-0.005389</td>\n",
       "      <td>0.955792</td>\n",
       "    </tr>\n",
       "    <tr>\n",
       "      <th>overall_score</th>\n",
       "      <td>0.074155</td>\n",
       "      <td>0.087386</td>\n",
       "      <td>0.079002</td>\n",
       "      <td>0.010959</td>\n",
       "      <td>-0.005389</td>\n",
       "      <td>1.000000</td>\n",
       "      <td>0.044596</td>\n",
       "    </tr>\n",
       "    <tr>\n",
       "      <th>pca_1</th>\n",
       "      <td>0.992054</td>\n",
       "      <td>0.968606</td>\n",
       "      <td>0.988345</td>\n",
       "      <td>0.971343</td>\n",
       "      <td>0.955792</td>\n",
       "      <td>0.044596</td>\n",
       "      <td>1.000000</td>\n",
       "    </tr>\n",
       "  </tbody>\n",
       "</table>\n",
       "</div>"
      ],
      "text/plain": [
       "                              TOTAL_EXPENDITURE  INSTRUCTION_EXPENDITURE  \\\n",
       "TOTAL_EXPENDITURE                      1.000000                 0.990255   \n",
       "INSTRUCTION_EXPENDITURE                0.990255                 1.000000   \n",
       "SUPPORT_SERVICES_EXPENDITURE           0.992988                 0.974399   \n",
       "OTHER_EXPENDITURE                      0.943702                 0.902173   \n",
       "CAPITAL_OUTLAY_EXPENDITURE             0.925784                 0.884798   \n",
       "overall_score                          0.074155                 0.087386   \n",
       "pca_1                                  0.992054                 0.968606   \n",
       "\n",
       "                              SUPPORT_SERVICES_EXPENDITURE  OTHER_EXPENDITURE  \\\n",
       "TOTAL_EXPENDITURE                                 0.992988           0.943702   \n",
       "INSTRUCTION_EXPENDITURE                           0.974399           0.902173   \n",
       "SUPPORT_SERVICES_EXPENDITURE                      1.000000           0.952282   \n",
       "OTHER_EXPENDITURE                                 0.952282           1.000000   \n",
       "CAPITAL_OUTLAY_EXPENDITURE                        0.911245           0.918188   \n",
       "overall_score                                     0.079002           0.010959   \n",
       "pca_1                                             0.988345           0.971343   \n",
       "\n",
       "                              CAPITAL_OUTLAY_EXPENDITURE  overall_score  \\\n",
       "TOTAL_EXPENDITURE                               0.925784       0.074155   \n",
       "INSTRUCTION_EXPENDITURE                         0.884798       0.087386   \n",
       "SUPPORT_SERVICES_EXPENDITURE                    0.911245       0.079002   \n",
       "OTHER_EXPENDITURE                               0.918188       0.010959   \n",
       "CAPITAL_OUTLAY_EXPENDITURE                      1.000000      -0.005389   \n",
       "overall_score                                  -0.005389       1.000000   \n",
       "pca_1                                           0.955792       0.044596   \n",
       "\n",
       "                                 pca_1  \n",
       "TOTAL_EXPENDITURE             0.992054  \n",
       "INSTRUCTION_EXPENDITURE       0.968606  \n",
       "SUPPORT_SERVICES_EXPENDITURE  0.988345  \n",
       "OTHER_EXPENDITURE             0.971343  \n",
       "CAPITAL_OUTLAY_EXPENDITURE    0.955792  \n",
       "overall_score                 0.044596  \n",
       "pca_1                         1.000000  "
      ]
     },
     "execution_count": 33,
     "metadata": {},
     "output_type": "execute_result"
    }
   ],
   "source": [
    "education_df[['TOTAL_EXPENDITURE', 'INSTRUCTION_EXPENDITURE', 'SUPPORT_SERVICES_EXPENDITURE',\n",
    "             'OTHER_EXPENDITURE', 'CAPITAL_OUTLAY_EXPENDITURE', 'overall_score', 'pca_1']].corr()"
   ]
  },
  {
   "cell_type": "code",
   "execution_count": 34,
   "metadata": {},
   "outputs": [
    {
     "data": {
      "image/png": "[encoded data removed]",
      "text/plain": [
       "<Figure size 1296x360 with 2 Axes>"
      ]
     },
     "metadata": {
      "needs_background": "light"
     },
     "output_type": "display_data"
    }
   ],
   "source": [
    "corrmat_student = education_df[['TOTAL_EXPENDITURE', 'INSTRUCTION_EXPENDITURE', 'SUPPORT_SERVICES_EXPENDITURE',\n",
    "             'OTHER_EXPENDITURE', 'CAPITAL_OUTLAY_EXPENDITURE', 'overall_score', 'pca_1']].corr()\n",
    "\n",
    "\n",
    "plt.figure(figsize=(18,5))\n",
    "\n",
    "plt.subplot(1,2,1)\n",
    "# draw the heatmap using seaborn.\n",
    "sns.heatmap(corrmat_student, square=True, annot=True, linewidths=.5)\n",
    "plt.yticks(rotation='horizontal')\n",
    "plt.title(\"correlation matrix (student performance and expenditure)\")\n",
    "\n",
    "plt.show()"
   ]
  },
  {
   "cell_type": "markdown",
   "metadata": {},
   "source": [
    "pca_1 (0.45) is lower than instruction_expenditure (0.87)and support_services_expenditure (0.74). "
   ]
  },
  {
   "cell_type": "code",
   "execution_count": null,
   "metadata": {},
   "outputs": [],
   "source": []
  },
  {
   "cell_type": "markdown",
   "metadata": {},
   "source": [
    "#### question 5\n",
    "If you were to choose the best variables for your model, would you prefer using the 1st principal component instead of the expenditure variables? Why?"
   ]
  },
  {
   "cell_type": "markdown",
   "metadata": {},
   "source": [
    "Note: My model seems to differ slightly from the sample.\n",
    "No. I would choose the instruction_expenditure component over the 1st principal component as it has the highest correlation with overall score. "
   ]
  },
  {
   "cell_type": "code",
   "execution_count": null,
   "metadata": {},
   "outputs": [],
   "source": []
  },
  {
   "cell_type": "code",
   "execution_count": null,
   "metadata": {},
   "outputs": [],
   "source": []
  },
  {
   "cell_type": "code",
   "execution_count": null,
   "metadata": {},
   "outputs": [],
   "source": []
  }
 ],
 "metadata": {
  "kernelspec": {
   "display_name": "Python 3",
   "language": "python",
   "name": "python3"
  },
  "language_info": {
   "codemirror_mode": {
    "name": "ipython",
    "version": 3
   },
   "file_extension": ".py",
   "mimetype": "text/x-python",
   "name": "python",
   "nbconvert_exporter": "python",
   "pygments_lexer": "ipython3",
   "version": "3.7.3"
  }
 },
 "nbformat": 4,
 "nbformat_minor": 2
}
