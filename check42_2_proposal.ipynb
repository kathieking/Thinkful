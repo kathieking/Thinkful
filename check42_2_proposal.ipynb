{
 "cells": [
  {
   "cell_type": "markdown",
   "metadata": {},
   "source": [
    "# Proposal for Final Capstone\n",
    "for Kathlee King"
   ]
  },
  {
   "cell_type": "markdown",
   "metadata": {},
   "source": [
    "## What is the problem you are attempting to solve?\n",
    "\n",
    "Cardiovascular disease is the number one cause of death in the United States and worldwide. That a link exists between diet/nutrition and cardiac disease has been long established. **Understanding** exactly what that link is has been incompletely understood and continues to evolve over time. **The goal of this capstone is to attempt to better understand the link between diet/nutrition and cardiac disease by exploring the relationship between various diet components and nutrients -- both macro- and micronutrients.**"
   ]
  },
  {
   "cell_type": "markdown",
   "metadata": {},
   "source": [
    "## How is your solution valuable?\n",
    "\n",
    "Medical science continues to search for both prevention methods and treatment methods to tackle the morbidity and mortality presented by cardiac disease. This Capstone Project, although limited in size of data, can offer additional insights into the relationship between diet/nutrition and cardiac disease. Much like a pilot study, the results of this study may offer researchers an insight into a specific nutrient or dietary behavior that warrents further study on a larger scale. "
   ]
  },
  {
   "cell_type": "markdown",
   "metadata": {},
   "source": [
    "## What is your data source and how will you access it?\n",
    "\n",
    "The data source proposed for this Capstone is the National Health and Nutrition Examination Survey, also known as NHANES. \n",
    "https://www.cdc.gov/nchs/nhanes/index.htm\n",
    "\n",
    "NHANES represents a program of data collection and studies conducted by the National Center for Health Statistics (NCHS), part of the Centers for Disease Control and Prevention (CDC). The program, initially began in the early 1960s, has grown into a continuous program of surveys (since 1999) focusing on health and nutrition measurements -- from dietary behaviors to laboratory testing. The unique value of this data source is two-fold:\n",
    "    1. The survey is national in scope and seeks to sample a representitive population of the United States.\n",
    "    2. The collection of data extends back in time for some 50 years. This \"look back\" allows scientists to observe the changes not only in disease incidence, but the specific changes in dietary habits and nutrition intake of the respondants. \n",
    "The unique nature of this data allows scientists to explore the changing nature of diet/nutrition and its impact on the incidence of cardiac disease. \n"
   ]
  },
  {
   "cell_type": "markdown",
   "metadata": {},
   "source": [
    "## What techniques from the course do you anticipate using?\n",
    "\n",
    "**Initial steps:** converting data to CSV files, merging data frames, cleaning (filling missing values, outliers), and exploratory data analysis with visualization and summary statistics. \n",
    "\n",
    "**Unsupervised learning:** clustering to find possible relationships among variables. Will use several clustering methods including K-means, MiniBatch, Mean-shift, Spectral Clustering, and Affinity Propagation as able. Parameter tuning can be used to choose k level. Will use contingency table, Rand Index, Adjusted Rand Index, and silhouette score to evaluate clusters. Plan to use a clustered variable as a feature in supervised learning.\n",
    "\n",
    "**Supervised learning:** Plan to continue EDA, feature engineering, and PCA to select variables for features in supervised model. Currently planning tree-based algrorithms to focus on feature importance, likely random forrest. This is a classification problem, so will use classification model. Plan to use cross-validation to evaluate and use feature importance to determine which features are most influential in the incidence of cardiac disease. \n",
    "\n",
    "Using my elective subject, biostatistics, I plan to evaluate the differences between the responders who are identified as with cardiac disease and the components of their diet/nutrition and those without cardiac disease and their diet/nutrition components. "
   ]
  },
  {
   "cell_type": "markdown",
   "metadata": {},
   "source": [
    "## What do you anticipate to be the biggest challenge you’ll face?\n",
    "\n",
    "The sheer size of the data is a challenge. The survey program is divided into five major categories: Demographic, Dietary, Examination, Laboratory, and Questionnaire Data. Each of these five major catgories has multiple sub-categories. There are 5,000+ respondants every year since 1999. \n",
    "\n",
    "The subcategories each contain multiple files of individual variables/features. There are literally thousands of possible features available. These variables must be paired down to a managable level prior to reading into Python.\n",
    "\n",
    "In addition to the quantity of data available, \n",
    "the structure of the data presents challenges. The data are only available in the SAS platform/format. In order to work with the data in Python, the SAS Universal Viewer must be installed locally. Once converted to a CSV format, the multiple files must be read into Python and merged together before and work can be done. \n"
   ]
  },
  {
   "cell_type": "code",
   "execution_count": null,
   "metadata": {},
   "outputs": [],
   "source": []
  }
 ],
 "metadata": {
  "kernelspec": {
   "display_name": "Python 3",
   "language": "python",
   "name": "python3"
  },
  "language_info": {
   "codemirror_mode": {
    "name": "ipython",
    "version": 3
   },
   "file_extension": ".py",
   "mimetype": "text/x-python",
   "name": "python",
   "nbconvert_exporter": "python",
   "pygments_lexer": "ipython3",
   "version": "3.7.3"
  }
 },
 "nbformat": 4,
 "nbformat_minor": 2
}
