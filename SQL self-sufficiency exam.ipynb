{
 "cells": [
  {
   "cell_type": "markdown",
   "metadata": {},
   "source": [
    "# SLQ Self-sufficiency exam"
   ]
  },
  {
   "cell_type": "markdown",
   "metadata": {},
   "source": [
    "Instructions:\n",
    "1. submit a single text file that contains the queries you generated for each prompt. You can indicate which question each query is for by using a code comment like what you see below.\n",
    "\n",
    "2. evaluated using 2 criteria:\n",
    "\n",
    "First, the grader will look to see that you have created the correct query. For each of the prompts below, there is a single, correct answer. \n",
    "\n",
    "Second, the grader will look at how you've styled your queries. They'll gauge whether you followed the recommended style guidelines for this program. In particular, they'll look at whether you capitalized SQL keywords, used lowercase letters for table and field names, and used multiple lines to make your queries more readable.\n",
    "\n",
    "\n",
    "    1. Put each column name in a select clause on its own line, with one level of indentation from the preceding line.\n",
    "    2. Follow the same indentation logic for FROM, WHERE, and ORDER BY blocks, giving each element its own line.\n",
    "    3. Similarly, each clause gets its own line.\n",
    "    4. Use all caps for clauses, function names, and the like.\n",
    "    5. Use the actual case of the column/table name when referring to column and table names.\n",
    "    6. Be consistent in your own use of casing, but recognize that SQL is not case sensitive, and it doesn't actually care about tabs and newlines.\n"
   ]
  },
  {
   "cell_type": "markdown",
   "metadata": {},
   "source": [
    "# The scenario\n",
    "\n",
    "You are a data analyst for your state’s department of education. You're given a database containing 2 tables: *naep* and *finance*. NAEP is the National Assessment of Educational Progress for states. The naep table contains each state’s average NAEP scores in math and reading for students in grades 4 and 8 for various years between 1992 and 2017. The finance table contains each state’s total K-12 education revenue and expenditures for the years 1992 through 2016.\n",
    "\n",
    "You are tasked with assessing the quality of this data. You must also find useful ways to analyze it."
   ]
  },
  {
   "cell_type": "markdown",
   "metadata": {},
   "source": [
    "### 1. Write a query that allows you to inspect the schema of the naep table."
   ]
  },
  {
   "cell_type": "markdown",
   "metadata": {},
   "source": [
    "--1\n",
    "SELECT *\n",
    "FROM\n",
    "\tinformation_schema.columns\n",
    "WHERE\n",
    "\ttable_schema = 'public'\n",
    "\tAND table_name = 'naep';"
   ]
  },
  {
   "cell_type": "markdown",
   "metadata": {},
   "source": [
    "### 2. Write a query that returns the first 50 records of the naep table."
   ]
  },
  {
   "cell_type": "markdown",
   "metadata": {},
   "source": [
    "--2\n",
    "SELECT*\n",
    "FROM\n",
    "\tpublic.naep\n",
    "LIMIT\n",
    "\t50"
   ]
  },
  {
   "cell_type": "markdown",
   "metadata": {},
   "source": [
    "### 3. Write a query that returns summary statistics for avg_math_4_score by state. Make sure to sort the results alphabetically by state name."
   ]
  },
  {
   "cell_type": "markdown",
   "metadata": {},
   "source": [
    "--3\n",
    "SELECT\n",
    "\tstate,\n",
    "\tCOUNT(avg_math_4_score),\n",
    "\tAVG(avg_math_4_score) as average,\n",
    "\tMIN(avg_math_4_score) as minimum,\n",
    "\tMAX(avg_math_4_score) as maximum\n",
    "FROM\n",
    "\tpublic.naep\n",
    "GROUP BY state\n",
    "ORDER BY\n",
    "\tstate;"
   ]
  },
  {
   "cell_type": "markdown",
   "metadata": {},
   "source": [
    "### 4. Write a query that alters the previous query so that it returns only the summary statistics for avg_math_4_score by state with differences in max and min values that are greater than 30."
   ]
  },
  {
   "cell_type": "markdown",
   "metadata": {},
   "source": [
    "--4\n",
    "SELECT\n",
    "\tstate, \n",
    "\tCOUNT(avg_math_4_score),\n",
    "\tAVG(avg_math_4_score) as average,\n",
    "\tMIN(avg_math_4_score) as minimum,\n",
    "\tMAX(avg_math_4_score) as maximum\n",
    "FROM\n",
    "\tpublic.naep\n",
    "GROUP BY state\n",
    "HAVING \n",
    "\tMAX(avg_math_4_score) - MIN(avg_math_4_score) > 30\n",
    "ORDER BY\n",
    "\tstate;\n"
   ]
  },
  {
   "cell_type": "markdown",
   "metadata": {},
   "source": [
    "### 5. Write a query that returns a field called bottom_10_states that lists the states in the bottom 10 for avg_math_4_score in the year 2000."
   ]
  },
  {
   "cell_type": "markdown",
   "metadata": {},
   "source": [
    "--5\n",
    "SELECT\n",
    "\tstate, \n",
    "\tavg_math_4_score as bottom_10,\n",
    "\tyear\n",
    "FROM\n",
    "\tpublic.naep\n",
    "WHERE\n",
    "\tyear = 2000 and\n",
    "\tavg_math_4_score IS NOT NULL\n",
    "GROUP BY \n",
    "\tavg_math_4_score, \n",
    "\tstate,\n",
    "\tyear\n",
    "ORDER BY\n",
    "\tavg_math_4_score DESC \n",
    "LIMIT 10;"
   ]
  },
  {
   "cell_type": "markdown",
   "metadata": {},
   "source": [
    "### 6. Write a query that calculates the average avg_math_4_score rounded to the nearest 2 decimal places over all states in the year 2000."
   ]
  },
  {
   "cell_type": "markdown",
   "metadata": {},
   "source": [
    "--6 \n",
    "SELECT\n",
    "\tROUND(AVG(avg_math_4_score),2),\n",
    "\tyear\n",
    "FROM\n",
    "\tpublic.naep\n",
    "WHERE\n",
    "\tyear = 2000\n",
    "GROUP BY\n",
    "\tyear; "
   ]
  },
  {
   "cell_type": "markdown",
   "metadata": {},
   "source": [
    "### 7. Write a query that returns a field called below_average_states_y2000 that lists all states with an avg_math_4_score less than the average over all states in the year 2000."
   ]
  },
  {
   "cell_type": "markdown",
   "metadata": {},
   "source": [
    "SELECT\n",
    "\tstate, \n",
    "\tavg_math_4_score as below_average_states_y2000,\n",
    "\tyear\n",
    "FROM\n",
    "\tpublic.naep\n",
    "WHERE\n",
    "\tyear = 2000 and\t\n",
    "\tavg_math_4_score < (SELECT AVG(avg_math_4_score) \n",
    "\t\t\t\t\t\t   FROM public.naep)\n",
    "GROUP BY\t\n",
    "\tstate,\n",
    "\tyear,\n",
    "\tavg_math_4_score\n",
    "ORDER BY\n",
    "\tavg_math_4_score,\n",
    "\tstate,\n",
    "\tyear; \n"
   ]
  },
  {
   "cell_type": "markdown",
   "metadata": {},
   "source": [
    "### 8. Write a query that returns a field called scores_missing_y2000 that lists any states with missing values in the avg_math_4_score column of the naep data table for the year 2000. "
   ]
  },
  {
   "cell_type": "markdown",
   "metadata": {},
   "source": [
    "--8\n",
    "SELECT\n",
    "\tstate as scores_missing_y2000, \n",
    "\tavg_math_4_score, \n",
    "\tyear\n",
    "FROM\n",
    "\tpublic.naep\n",
    "WHERE\n",
    "\tyear = 2000 and\t\n",
    "\tavg_math_4_score is null\n",
    "GROUP BY\t\n",
    "\tstate,\n",
    "\tyear,\n",
    "\tavg_math_4_score\n",
    "ORDER BY\n",
    "\tstate,\n",
    "\tavg_math_4_score,\n",
    "\tyear; "
   ]
  },
  {
   "cell_type": "markdown",
   "metadata": {},
   "source": [
    "### 9. Write a query that returns for the year 2000 the state, avg_math_4_score, and total_expenditure from the naep table left outer joined with the finance table, using id as the key and ordered by total_expenditure greatest to least. Be sure to round avg_math_4_score to the nearest 2 decimal places, and then filter out NULL avg_math_4_scores in order to see any correlation more clearly."
   ]
  },
  {
   "cell_type": "markdown",
   "metadata": {},
   "source": [
    "--9 \n",
    "SELECT\n",
    "\tnaep.id,\n",
    "\tnaep.state, \n",
    "\tROUND(naep.avg_math_4_score, 2) as avg_math_4_score,\n",
    "\tnaep.year,\n",
    "\tfinance.id,\n",
    "\tfinance.total_expenditure\n",
    "FROM\n",
    "\tpublic.naep\n",
    "LEFT JOIN \n",
    "\tpublic.finance ON\n",
    "\tfinance.id = naep.id\n",
    "WHERE\n",
    "\tnaep.year = 2000 and\t\n",
    "\tavg_math_4_score IS NOT NULL \n",
    "GROUP BY\t\n",
    "\tnaep.id,\n",
    "\tfinance.id,\n",
    "\tnaep.year,\n",
    "\tnaep.state,\n",
    "\tfinance.total_expenditure,\n",
    "\tnaep.avg_math_4_score\n",
    "ORDER BY\n",
    "\ttotal_expenditure,\n",
    "\tstate,\n",
    "\tavg_math_4_score,\n",
    "\tyear; "
   ]
  },
  {
   "cell_type": "code",
   "execution_count": null,
   "metadata": {},
   "outputs": [],
   "source": []
  },
  {
   "cell_type": "code",
   "execution_count": null,
   "metadata": {},
   "outputs": [],
   "source": []
  },
  {
   "cell_type": "code",
   "execution_count": null,
   "metadata": {},
   "outputs": [],
   "source": []
  }
 ],
 "metadata": {
  "kernelspec": {
   "display_name": "Python 3",
   "language": "python",
   "name": "python3"
  },
  "language_info": {
   "codemirror_mode": {
    "name": "ipython",
    "version": 3
   },
   "file_extension": ".py",
   "mimetype": "text/x-python",
   "name": "python",
   "nbconvert_exporter": "python",
   "pygments_lexer": "ipython3",
   "version": "3.7.3"
  }
 },
 "nbformat": 4,
 "nbformat_minor": 2
}
