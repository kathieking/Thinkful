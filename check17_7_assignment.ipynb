{
 "cells": [
  {
   "cell_type": "markdown",
   "metadata": {},
   "source": [
    "##### Assignment\n",
    "\n",
    "In this assignment, you'll continue working with the Students Performance in Exams dataset from Kaggle. You should access the data from the Thinkful database. Here's the credentials you can use to connect to the database:\n",
    "\n",
    "postgres_user = 'dsbc_student'\n",
    "postgres_pw = '7*.8G9QH21'\n",
    "postgres_host = '142.93.121.174'\n",
    "postgres_port = '5432'\n",
    "postgres_db = 'studentsperformance'\n",
    "\n",
    "To complete this assignment, submit a link to a Jupyter notebook containing your solutions to the following tasks:\n",
    "\n",
    "1. Are the exam score variables normally distributed? If not, apply a Box-Cox transformation. Does anything change?\n",
    "2. Say we want to use a single variable for the exam scores as our target. For this purpose, create a new variable by taking a weighted average of the exam scores. Check whether this new variable is normally distributed. If it's not normally distributed, apply a Box-Cox transformation and check whether or not the transformed variable is normally distributed.\n",
    "3. Which variables seem related to the target variable (the newly created variable in the previous question)? If our goal is to explain the determinants of success in exams, which variables in our dataset might be useful?\n",
    "\n",
    "Submit your work below, and plan on discussing with your mentor. You can also take a look at these example solutions."
   ]
  },
  {
   "cell_type": "code",
   "execution_count": 1,
   "metadata": {},
   "outputs": [],
   "source": [
    "import matplotlib.pyplot as plt\n",
    "import seaborn as sns\n",
    "import numpy as np\n",
    "import pandas as pd\n",
    "import seaborn as sns\n",
    "import scipy.stats as stats\n",
    "from scipy.stats.mstats import winsorize\n",
    "from scipy.stats import jarque_bera\n",
    "from scipy.stats import normaltest\n",
    "from scipy.stats import boxcox\n",
    "from sqlalchemy import create_engine\n",
    "from sklearn.preprocessing import normalize\n",
    "from sklearn.preprocessing import scale\n",
    "import warnings\n",
    "\n",
    "warnings.filterwarnings('ignore')\n",
    "sns.set(style=\"whitegrid\")\n",
    "\n",
    "postgres_user = 'dsbc_student'\n",
    "postgres_pw = '7*.8G9QH21'\n",
    "postgres_host = '142.93.121.174'\n",
    "postgres_port = '5432'\n",
    "postgres_db = 'studentsperformance'\n",
    "\n",
    "engine = create_engine('postgresql://{}:{}@{}:{}/{}'.format(\n",
    "    postgres_user, postgres_pw, postgres_host, postgres_port, postgres_db))\n",
    "\n",
    "studentsperformance_df = pd.read_sql_query('select * from studentsperformance',con=engine)\n",
    "\n",
    "\n",
    "engine.dispose()\n"
   ]
  },
  {
   "cell_type": "code",
   "execution_count": 2,
   "metadata": {},
   "outputs": [
    {
     "data": {
      "text/html": [
       "<div>\n",
       "<style scoped>\n",
       "    .dataframe tbody tr th:only-of-type {\n",
       "        vertical-align: middle;\n",
       "    }\n",
       "\n",
       "    .dataframe tbody tr th {\n",
       "        vertical-align: top;\n",
       "    }\n",
       "\n",
       "    .dataframe thead th {\n",
       "        text-align: right;\n",
       "    }\n",
       "</style>\n",
       "<table border=\"1\" class=\"dataframe\">\n",
       "  <thead>\n",
       "    <tr style=\"text-align: right;\">\n",
       "      <th></th>\n",
       "      <th>gender</th>\n",
       "      <th>race/ethnicity</th>\n",
       "      <th>parental level of education</th>\n",
       "      <th>lunch</th>\n",
       "      <th>test preparation course</th>\n",
       "      <th>math score</th>\n",
       "      <th>reading score</th>\n",
       "      <th>writing score</th>\n",
       "    </tr>\n",
       "  </thead>\n",
       "  <tbody>\n",
       "    <tr>\n",
       "      <th>0</th>\n",
       "      <td>female</td>\n",
       "      <td>group B</td>\n",
       "      <td>bachelor's degree</td>\n",
       "      <td>standard</td>\n",
       "      <td>none</td>\n",
       "      <td>72</td>\n",
       "      <td>72</td>\n",
       "      <td>74</td>\n",
       "    </tr>\n",
       "    <tr>\n",
       "      <th>1</th>\n",
       "      <td>female</td>\n",
       "      <td>group C</td>\n",
       "      <td>some college</td>\n",
       "      <td>standard</td>\n",
       "      <td>completed</td>\n",
       "      <td>69</td>\n",
       "      <td>90</td>\n",
       "      <td>88</td>\n",
       "    </tr>\n",
       "    <tr>\n",
       "      <th>2</th>\n",
       "      <td>female</td>\n",
       "      <td>group B</td>\n",
       "      <td>master's degree</td>\n",
       "      <td>standard</td>\n",
       "      <td>none</td>\n",
       "      <td>90</td>\n",
       "      <td>95</td>\n",
       "      <td>93</td>\n",
       "    </tr>\n",
       "    <tr>\n",
       "      <th>3</th>\n",
       "      <td>male</td>\n",
       "      <td>group A</td>\n",
       "      <td>associate's degree</td>\n",
       "      <td>free/reduced</td>\n",
       "      <td>none</td>\n",
       "      <td>47</td>\n",
       "      <td>57</td>\n",
       "      <td>44</td>\n",
       "    </tr>\n",
       "    <tr>\n",
       "      <th>4</th>\n",
       "      <td>male</td>\n",
       "      <td>group C</td>\n",
       "      <td>some college</td>\n",
       "      <td>standard</td>\n",
       "      <td>none</td>\n",
       "      <td>76</td>\n",
       "      <td>78</td>\n",
       "      <td>75</td>\n",
       "    </tr>\n",
       "  </tbody>\n",
       "</table>\n",
       "</div>"
      ],
      "text/plain": [
       "   gender race/ethnicity parental level of education         lunch  \\\n",
       "0  female        group B           bachelor's degree      standard   \n",
       "1  female        group C                some college      standard   \n",
       "2  female        group B             master's degree      standard   \n",
       "3    male        group A          associate's degree  free/reduced   \n",
       "4    male        group C                some college      standard   \n",
       "\n",
       "  test preparation course  math score  reading score  writing score  \n",
       "0                    none          72             72             74  \n",
       "1               completed          69             90             88  \n",
       "2                    none          90             95             93  \n",
       "3                    none          47             57             44  \n",
       "4                    none          76             78             75  "
      ]
     },
     "execution_count": 2,
     "metadata": {},
     "output_type": "execute_result"
    }
   ],
   "source": [
    "studentsperformance_df.head()"
   ]
  },
  {
   "cell_type": "code",
   "execution_count": 3,
   "metadata": {},
   "outputs": [
    {
     "data": {
      "text/plain": [
       "gender                         0\n",
       "race/ethnicity                 0\n",
       "parental level of education    0\n",
       "lunch                          0\n",
       "test preparation course        0\n",
       "math score                     0\n",
       "reading score                  0\n",
       "writing score                  0\n",
       "dtype: int64"
      ]
     },
     "execution_count": 3,
     "metadata": {},
     "output_type": "execute_result"
    }
   ],
   "source": [
    "studentsperformance_df.isnull().sum()"
   ]
  },
  {
   "cell_type": "markdown",
   "metadata": {},
   "source": [
    "##### question 1\n",
    "Are the exam score variables normally distributed? If not, apply a Box-Cox transformation. Does anything change?"
   ]
  },
  {
   "cell_type": "code",
   "execution_count": 4,
   "metadata": {},
   "outputs": [
    {
     "data": {
      "image/png": "[encoded data removed]",
      "text/plain": [
       "<Figure size 1296x1080 with 3 Axes>"
      ]
     },
     "metadata": {
      "needs_background": "light"
     },
     "output_type": "display_data"
    }
   ],
   "source": [
    "plt.figure(figsize=(18,15))\n",
    "\n",
    "# histograms of the original data\n",
    "plt.subplot(1, 3, 1)\n",
    "plt.hist(studentsperformance_df['math score'])\n",
    "plt.title('histogram of math scores')\n",
    "\n",
    "plt.subplot(1, 3, 2)\n",
    "plt.hist(studentsperformance_df['writing score'])\n",
    "plt.title('histogram of writing scores')\n",
    "\n",
    "plt.subplot(1, 3, 3)\n",
    "plt.hist(studentsperformance_df['reading score'])\n",
    "plt.title('histogram of reading scores')\n",
    "\n",
    "plt.show()"
   ]
  },
  {
   "cell_type": "code",
   "execution_count": 5,
   "metadata": {},
   "outputs": [
    {
     "name": "stdout",
     "output_type": "stream",
     "text": [
      "Jarque-Bera test statistics is 1233.4799726707836 and p value is 0.0\n",
      "Normality test statistics is 259.4703560154713 and p value is 4.536574867826489e-57\n",
      "Jarque-Bera test statistics is 141.6378240717818 and p value is 0.0\n",
      "Normality test statistics is 97.39700939472482 and p value is 7.087745794883206e-22\n",
      "Jarque-Bera test statistics is 88.0083349548674 and p value is 0.0\n",
      "Normality test statistics is 70.4238348783534 and p value is 5.101038001506264e-16\n"
     ]
    }
   ],
   "source": [
    "jb_stats = jarque_bera(np.sqrt(studentsperformance_df['math score']))\n",
    "norm_stats = normaltest(np.sqrt(studentsperformance_df['math score']))\n",
    "\n",
    "print('Jarque-Bera test statistics is {0} and p value is {1}'.format(jb_stats[0], jb_stats[1]))\n",
    "print('Normality test statistics is {0} and p value is {1}'.format(norm_stats[0], norm_stats[1]))\n",
    "\n",
    "jb_stats = jarque_bera(np.sqrt(studentsperformance_df['writing score']))\n",
    "norm_stats = normaltest(np.sqrt(studentsperformance_df['writing score']))\n",
    "\n",
    "print('Jarque-Bera test statistics is {0} and p value is {1}'.format(jb_stats[0], jb_stats[1]))\n",
    "print('Normality test statistics is {0} and p value is {1}'.format(norm_stats[0], norm_stats[1]))\n",
    "\n",
    "jb_stats = jarque_bera(np.sqrt(studentsperformance_df['reading score']))\n",
    "norm_stats = normaltest(np.sqrt(studentsperformance_df['reading score']))\n",
    "\n",
    "print('Jarque-Bera test statistics is {0} and p value is {1}'.format(jb_stats[0], jb_stats[1]))\n",
    "print('Normality test statistics is {0} and p value is {1}'.format(norm_stats[0], norm_stats[1]))"
   ]
  },
  {
   "cell_type": "markdown",
   "metadata": {},
   "source": [
    "p-value of 0.0 indicates data are not normally distributed"
   ]
  },
  {
   "cell_type": "code",
   "execution_count": null,
   "metadata": {},
   "outputs": [],
   "source": [
    "type(reading_scores_boxcox)"
   ]
  },
  {
   "cell_type": "code",
   "execution_count": null,
   "metadata": {},
   "outputs": [],
   "source": [
    "reading_scores_boxcox[0]"
   ]
  },
  {
   "cell_type": "code",
   "execution_count": 6,
   "metadata": {},
   "outputs": [
    {
     "data": {
      "image/png": "[encoded data removed]",
      "text/plain": [
       "<Figure size 1296x360 with 3 Axes>"
      ]
     },
     "metadata": {
      "needs_background": "light"
     },
     "output_type": "display_data"
    }
   ],
   "source": [
    "from scipy.stats import boxcox\n",
    "#error due to data that was not positive, cannot run boxcox, excluding math score of 0\n",
    "# the ,_ after variable name indicates that we are only interested in the first element of the tuple,\n",
    "# with the ,_ there is no need to index [0] when the variable is used in later code\n",
    "math_scores_boxcox,_ = boxcox(studentsperformance_df[studentsperformance_df['math score'] > 0]['math score'])\n",
    "writing_scores_boxcox,_ = boxcox(studentsperformance_df['writing score'])\n",
    "reading_scores_boxcox,_ = boxcox(studentsperformance_df['reading score'])\n",
    "\n",
    "plt.figure(figsize=(18,5))\n",
    "\n",
    "# histograms of the box-cox transformed data\n",
    "plt.subplot(1, 3, 1)\n",
    "plt.hist(math_scores_boxcox)\n",
    "plt.title('histogram of math score (box-cox transformed)')\n",
    "\n",
    "plt.subplot(1, 3, 2)\n",
    "plt.hist(writing_scores_boxcox)\n",
    "plt.title('histogram of writing score (box-cox transformed)')\n",
    "\n",
    "plt.subplot(1, 3, 3)\n",
    "plt.hist(reading_scores_boxcox)\n",
    "plt.title('histogram of reading score (box-cox transformed)')\n",
    "\n",
    "plt.show()"
   ]
  },
  {
   "cell_type": "code",
   "execution_count": 8,
   "metadata": {},
   "outputs": [
    {
     "name": "stdout",
     "output_type": "stream",
     "text": [
      "Jarque-Bera test statistics is 1233.4799726707836 and p value is 0.0\n",
      "Normality test statistics is 259.4703560154713 and p value is 4.536574867826489e-57\n",
      "Jarque-Bera test statistics is 141.6378240717818 and p value is 0.0\n",
      "Normality test statistics is 97.39700939472482 and p value is 7.087745794883206e-22\n",
      "Jarque-Bera test statistics is 88.0083349548674 and p value is 0.0\n",
      "Normality test statistics is 70.4238348783534 and p value is 5.101038001506264e-16\n",
      "Jarque-Bera test statistics is 1.720098104874378 and p value is 0.4231413256953709\n",
      "Normality test statistics is 1.8323073377495822 and p value is 0.40005482895717037\n",
      "Jarque-Bera test statistics is 4.746478090040098 and p value is 0.09317842784055597\n",
      "Normality test statistics is 6.267311355043339 and p value is 0.04355827085023795\n",
      "Jarque-Bera test statistics is 4.119778575331906 and p value is 0.1274680814024559\n",
      "Normality test statistics is 5.282274611852865 and p value is 0.07128015609575467\n"
     ]
    }
   ],
   "source": [
    "jb_stats = jarque_bera(np.sqrt(studentsperformance_df['math score']))\n",
    "norm_stats = normaltest(np.sqrt(studentsperformance_df['math score']))\n",
    "\n",
    "print('Jarque-Bera test statistics is {0} and p value is {1}'.format(jb_stats[0], jb_stats[1]))\n",
    "print('Normality test statistics is {0} and p value is {1}'.format(norm_stats[0], norm_stats[1]))\n",
    "\n",
    "jb_stats = jarque_bera(np.sqrt(studentsperformance_df['writing score']))\n",
    "norm_stats = normaltest(np.sqrt(studentsperformance_df['writing score']))\n",
    "\n",
    "print('Jarque-Bera test statistics is {0} and p value is {1}'.format(jb_stats[0], jb_stats[1]))\n",
    "print('Normality test statistics is {0} and p value is {1}'.format(norm_stats[0], norm_stats[1]))\n",
    "\n",
    "jb_stats = jarque_bera(np.sqrt(studentsperformance_df['reading score']))\n",
    "norm_stats = normaltest(np.sqrt(studentsperformance_df['reading score']))\n",
    "\n",
    "print('Jarque-Bera test statistics is {0} and p value is {1}'.format(jb_stats[0], jb_stats[1]))\n",
    "print('Normality test statistics is {0} and p value is {1}'.format(norm_stats[0], norm_stats[1]))\n",
    "\n",
    "jb_stats = jarque_bera(math_scores_boxcox)\n",
    "norm_stats = normaltest(math_scores_boxcox)\n",
    "\n",
    "print('Jarque-Bera test statistics is {0} and p value is {1}'.format(jb_stats[0], jb_stats[1]))\n",
    "print('Normality test statistics is {0} and p value is {1}'.format(norm_stats[0], norm_stats[1]))\n",
    "\n",
    "jb_stats = jarque_bera(writing_scores_boxcox)\n",
    "norm_stats = normaltest(writing_scores_boxcox)\n",
    "\n",
    "print('Jarque-Bera test statistics is {0} and p value is {1}'.format(jb_stats[0], jb_stats[1]))\n",
    "print('Normality test statistics is {0} and p value is {1}'.format(norm_stats[0], norm_stats[1]))\n",
    "\n",
    "jb_stats = jarque_bera(reading_scores_boxcox)\n",
    "norm_stats = normaltest(reading_scores_boxcox)\n",
    "\n",
    "print('Jarque-Bera test statistics is {0} and p value is {1}'.format(jb_stats[0], jb_stats[1]))\n",
    "print('Normality test statistics is {0} and p value is {1}'.format(norm_stats[0], norm_stats[1]))"
   ]
  },
  {
   "cell_type": "code",
   "execution_count": null,
   "metadata": {},
   "outputs": [],
   "source": []
  },
  {
   "cell_type": "markdown",
   "metadata": {},
   "source": [
    "##### question2\n",
    "Say we want to use a single variable for the exam scores as our target. For this purpose, create a new variable by taking a weighted average of the exam scores. Check whether this new variable is normally distributed. If it's not normally distributed, apply a Box-Cox transformation and check whether or not the transformed variable is normally distributed."
   ]
  },
  {
   "cell_type": "markdown",
   "metadata": {},
   "source": [
    "example given is not \"weighted\" average, but will use in order to be able to follow example"
   ]
  },
  {
   "cell_type": "code",
   "execution_count": 14,
   "metadata": {},
   "outputs": [
    {
     "data": {
      "image/png": "[encoded data removed]",
      "text/plain": [
       "<Figure size 432x288 with 1 Axes>"
      ]
     },
     "metadata": {
      "needs_background": "light"
     },
     "output_type": "display_data"
    }
   ],
   "source": [
    "wt_score = (studentsperformance_df['math score'] + studentsperformance_df['reading score'] + studentsperformance_df['writing score'])/3\n",
    "\n",
    "plt.hist(wt_score)\n",
    "plt.title('Histogram of weighted exam score')\n",
    "plt.show()"
   ]
  },
  {
   "cell_type": "code",
   "execution_count": 15,
   "metadata": {},
   "outputs": [
    {
     "name": "stdout",
     "output_type": "stream",
     "text": [
      "Jarque-Bera test statistics is 15.453387913085168 and p value is 0.00044089934264401887\n",
      "Normality test statistics is 15.186721327231322 and p value is 0.0005037851534494478\n"
     ]
    }
   ],
   "source": [
    "jb_stats = jarque_bera(wt_score)\n",
    "norm_stats = normaltest(wt_score)\n",
    "\n",
    "print(\"Jarque-Bera test statistics is {0} and p value is {1}\".format(jb_stats[0], jb_stats[1]))\n",
    "print(\"Normality test statistics is {0} and p value is {1}\".format(norm_stats[0], norm_stats[1]))"
   ]
  },
  {
   "cell_type": "code",
   "execution_count": 16,
   "metadata": {},
   "outputs": [
    {
     "data": {
      "image/png": "[encoded data removed]",
      "text/plain": [
       "<Figure size 432x288 with 1 Axes>"
      ]
     },
     "metadata": {
      "needs_background": "light"
     },
     "output_type": "display_data"
    }
   ],
   "source": [
    "wt_score_boxcox,_ = boxcox(wt_score)\n",
    "\n",
    "plt.hist(wt_score_boxcox)\n",
    "plt.title('Histogram of weighted exam score (boxcoxed)')\n",
    "plt.show()"
   ]
  },
  {
   "cell_type": "code",
   "execution_count": 17,
   "metadata": {},
   "outputs": [
    {
     "name": "stdout",
     "output_type": "stream",
     "text": [
      "Jarque-Bera test statistics is 2.4353987431906026 and p value is 0.29591016374203183\n",
      "Normality test statistics is 2.779857245981238 and p value is 0.2490930835165177\n"
     ]
    }
   ],
   "source": [
    "jb_stats = jarque_bera(wt_score_boxcox)\n",
    "norm_stats = normaltest(wt_score_boxcox)\n",
    "\n",
    "print(\"Jarque-Bera test statistics is {0} and p value is {1}\".format(jb_stats[0], jb_stats[1]))\n",
    "print(\"Normality test statistics is {0} and p value is {1}\".format(norm_stats[0], norm_stats[1]))"
   ]
  },
  {
   "cell_type": "markdown",
   "metadata": {},
   "source": []
  },
  {
   "cell_type": "markdown",
   "metadata": {},
   "source": [
    "##### question 3\n",
    "Which variables seem related to the target variable (the newly created variable in the previous question)? If our goal is to explain the determinants of success in exams, which variables in our dataset might be useful?"
   ]
  },
  {
   "cell_type": "code",
   "execution_count": 18,
   "metadata": {},
   "outputs": [],
   "source": [
    "studentsperformance_df['wt_score_boxcox'] = wt_score_boxcox"
   ]
  },
  {
   "cell_type": "code",
   "execution_count": 29,
   "metadata": {},
   "outputs": [
    {
     "data": {
      "image/png": "[encoded data removed]",
      "text/plain": [
       "<Figure size 1296x720 with 5 Axes>"
      ]
     },
     "metadata": {
      "needs_background": "light"
     },
     "output_type": "display_data"
    }
   ],
   "source": [
    "plt.figure(figsize=(18,10))\n",
    "\n",
    "plt.subplot(2,3,1)\n",
    "plt.bar(studentsperformance_df.groupby('race/ethnicity')['wt_score_boxcox'].mean().index, \n",
    "        studentsperformance_df.groupby('race/ethnicity')['wt_score_boxcox'].mean())\n",
    "plt.title('Average test score by race/ethnicity')\n",
    "\n",
    "plt.subplot(2,3,2)\n",
    "plt.bar(studentsperformance_df.groupby('gender')['wt_score_boxcox'].mean().index, \n",
    "       studentsperformance_df.groupby('gender')['wt_score_boxcox'].mean())\n",
    "plt.title('Average test score by gender')\n",
    "\n",
    "plt.subplot(2,3,3)\n",
    "plt.bar(studentsperformance_df.groupby('parental level of education')['wt_score_boxcox'].mean().index,\n",
    "       studentsperformance_df.groupby('parental level of education')['wt_score_boxcox'].mean())\n",
    "plt.xticks(rotation='vertical')\n",
    "plt.title('Average test score by parental level of education')\n",
    "\n",
    "plt.subplot(2,3,4)\n",
    "plt.bar(studentsperformance_df.groupby('lunch')['wt_score_boxcox'].mean().index,\n",
    "       studentsperformance_df.groupby('lunch')['wt_score_boxcox'].mean())\n",
    "plt.title('Average test score by lunch')\n",
    "\n",
    "plt.subplot(2,3,5)\n",
    "plt.bar(studentsperformance_df.groupby('test preparation course')['wt_score_boxcox'].mean().index,\n",
    "       studentsperformance_df.groupby('test preparation course')['wt_score_boxcox'].mean())\n",
    "plt.title('Average test score by test preparation course')\n",
    "\n",
    "plt.tight_layout()\n",
    "plt.show()"
   ]
  },
  {
   "cell_type": "markdown",
   "metadata": {},
   "source": [
    "1. As seen with the individual test scores, there does appear to be a significant difference in test scores based on race/ethnicity, with group E performing the best and group A performing the worst. \n",
    "2. In individual testing, females performed better in reading & writing while males performed better in math. In the combined average, females are outperforming males.\n",
    "3. There is a clear effect of the parental level of education on the test performance. The higher the parental education level, the better the test results. \n",
    "4. There is a clear effect on standard vs free/reduced lunch on test performance. Those in the standard lunch group perform better than those in the free/reduced lunch group. A possible explanation for this may be due to the correlation between parenteral education level and test performance. It is widely known that there is a correlation between education level and income. It seems reasonable to assume that in general, those with higher eduction levels likely are in the standard lunch group and those with lower education levels are in the free/standard lunch group. Since the lunch is the same in each group, this difference in test performance in likely due to an unmeasured socio-economic factor. \n",
    "5. Those students in the test prep group clearly outperformed those who did not take part in the course.  "
   ]
  },
  {
   "cell_type": "code",
   "execution_count": 20,
   "metadata": {},
   "outputs": [
    {
     "data": {
      "text/html": [
       "<div>\n",
       "<style scoped>\n",
       "    .dataframe tbody tr th:only-of-type {\n",
       "        vertical-align: middle;\n",
       "    }\n",
       "\n",
       "    .dataframe tbody tr th {\n",
       "        vertical-align: top;\n",
       "    }\n",
       "\n",
       "    .dataframe thead th {\n",
       "        text-align: right;\n",
       "    }\n",
       "</style>\n",
       "<table border=\"1\" class=\"dataframe\">\n",
       "  <thead>\n",
       "    <tr style=\"text-align: right;\">\n",
       "      <th></th>\n",
       "      <th>math score</th>\n",
       "      <th>reading score</th>\n",
       "      <th>writing score</th>\n",
       "      <th>wt_score_boxcox</th>\n",
       "    </tr>\n",
       "  </thead>\n",
       "  <tbody>\n",
       "    <tr>\n",
       "      <th>math score</th>\n",
       "      <td>1.000000</td>\n",
       "      <td>0.817580</td>\n",
       "      <td>0.802642</td>\n",
       "      <td>0.916145</td>\n",
       "    </tr>\n",
       "    <tr>\n",
       "      <th>reading score</th>\n",
       "      <td>0.817580</td>\n",
       "      <td>1.000000</td>\n",
       "      <td>0.954598</td>\n",
       "      <td>0.968836</td>\n",
       "    </tr>\n",
       "    <tr>\n",
       "      <th>writing score</th>\n",
       "      <td>0.802642</td>\n",
       "      <td>0.954598</td>\n",
       "      <td>1.000000</td>\n",
       "      <td>0.963205</td>\n",
       "    </tr>\n",
       "    <tr>\n",
       "      <th>wt_score_boxcox</th>\n",
       "      <td>0.916145</td>\n",
       "      <td>0.968836</td>\n",
       "      <td>0.963205</td>\n",
       "      <td>1.000000</td>\n",
       "    </tr>\n",
       "  </tbody>\n",
       "</table>\n",
       "</div>"
      ],
      "text/plain": [
       "                 math score  reading score  writing score  wt_score_boxcox\n",
       "math score         1.000000       0.817580       0.802642         0.916145\n",
       "reading score      0.817580       1.000000       0.954598         0.968836\n",
       "writing score      0.802642       0.954598       1.000000         0.963205\n",
       "wt_score_boxcox    0.916145       0.968836       0.963205         1.000000"
      ]
     },
     "execution_count": 20,
     "metadata": {},
     "output_type": "execute_result"
    }
   ],
   "source": [
    "studentsperformance_df.corr()"
   ]
  },
  {
   "cell_type": "code",
   "execution_count": 30,
   "metadata": {},
   "outputs": [
    {
     "data": {
      "image/png": "[encoded data removed]",
      "text/plain": [
       "<Figure size 1296x360 with 2 Axes>"
      ]
     },
     "metadata": {
      "needs_background": "light"
     },
     "output_type": "display_data"
    }
   ],
   "source": [
    "corrmat_student = studentsperformance_df.corr()\n",
    "\n",
    "\n",
    "plt.figure(figsize=(18,5))\n",
    "\n",
    "plt.subplot(1,2,1)\n",
    "# draw the heatmap using seaborn.\n",
    "sns.heatmap(corrmat_student, square=True, annot=True, linewidths=.5)\n",
    "plt.yticks(rotation='horizontal')\n",
    "plt.title(\"correlation matrix (student performance)\")\n",
    "\n",
    "plt.show()"
   ]
  },
  {
   "cell_type": "code",
   "execution_count": null,
   "metadata": {},
   "outputs": [],
   "source": []
  }
 ],
 "metadata": {
  "kernelspec": {
   "display_name": "Python 3",
   "language": "python",
   "name": "python3"
  },
  "language_info": {
   "codemirror_mode": {
    "name": "ipython",
    "version": 3
   },
   "file_extension": ".py",
   "mimetype": "text/x-python",
   "name": "python",
   "nbconvert_exporter": "python",
   "pygments_lexer": "ipython3",
   "version": "3.7.3"
  }
 },
 "nbformat": 4,
 "nbformat_minor": 2
}
