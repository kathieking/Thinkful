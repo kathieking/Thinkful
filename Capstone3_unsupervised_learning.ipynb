{
 "cells": [
  {
   "cell_type": "markdown",
   "metadata": {
    "slideshow": {
     "slide_type": "slide"
    }
   },
   "source": [
    "# Capstone 3: Unsupervised learning"
   ]
  },
  {
   "cell_type": "markdown",
   "metadata": {
    "slideshow": {
     "slide_type": "notes"
    }
   },
   "source": [
    "## instructions\n",
    " \n",
    "For your third capstone, you’ll complete an unsupervised learning project. You can choose your own research question or choose from one below.\n",
    "\n",
    "How do you achieve the following using clustering techniques?\n",
    "\n",
    "    1. Determine classifiation of pulsar (one of two). \n",
    "\n",
    "Next steps:\n",
    "\n",
    "    1. Find a dataset of interest. \n",
    "\n",
    "    2. Explore the data. You should understand how it was gathered, what's in it, and what the variables look like.\n",
    "\n",
    "    3. Try several different approaches and really work to tune a variety of models before choosing what you consider to be the best performer.\n",
    "\n",
    "Things to keep in mind: \n",
    "    -how do clustering and modeling compare? \n",
    "    -What are the advantages of each? \n",
    "    -Why would you want to use one over the other?\n",
    "\n",
    "This will ultimately include the following deliverables:\n",
    "\n",
    "    A Jupyter notebook that tells a compelling story about your data (to be submitted at the end of this checkpoint).\n",
    "    A 15 to 30 minute presentation of your findings. You'll need to produce a deck and present it to the Thinkful community.\n",
    "\n",
    "Conduct the analysis in Jupyter. Provide a complete research report using the framework introduced in the previous module. The report should include compelling visualizations and actionable insights, telling the story to your intended audience. Walk through the analysis using clean, reproducible code. Include plenty of notes and comments to guide others through your thinking.\n",
    "\n",
    "Rather than create a deck in a presentation tool like PowerPoint or Google Slides, we will use Jupyter’s built-in slide deck capabilities. This cuts down on the time-consuming and error-prone process of copying-and-pasting into an external program. The presentation is also fully reproducible.\n",
    "\n",
    "On the day of your presentation, an evaluator from the Thinkful educator team will introduce you, and then you'll give your presentation. Afterward, the evaluator will ask you follow up questions and will grade your performance on your presentation. Members of the audience will also be encouraged to ask follow up questions.\n",
    "\n",
    "Be prepared to talk about:\n",
    "\n",
    "    Your end-user and the value your project provides to them.\n",
    "    Quantifiable results based on the research you’ve conducted.\n",
    "    The visuals you chose and what they represent for your research.\n",
    "    Next steps you'd take to expand on your work.\n",
    "    A specified research question your model addresses.\n",
    "    How you chose your model specification and what alternatives you compared it to.\n",
    "    The practical uses of your model for an audience of interest.\n",
    "    Any weak points or shortcomings of your model."
   ]
  },
  {
   "cell_type": "markdown",
   "metadata": {
    "slideshow": {
     "slide_type": "slide"
    }
   },
   "source": [
    "## data source\n",
    "\n",
    "https://data.world/uci/htru2/workspace/file?filename=HTRU_2.csv\n"
   ]
  },
  {
   "cell_type": "markdown",
   "metadata": {
    "slideshow": {
     "slide_type": "subslide"
    }
   },
   "source": [
    "Pulsars are a rare type of Neutron star that produce radio emission detectable here on Earth. As pulsars rotate, their emission beam sweeps across the sky, and when this crosses our line of sight, produces a detectable pattern of broadband radio emission. Thus pulsar search involves looking for periodic radio signals with large radio telescopes."
   ]
  },
  {
   "cell_type": "markdown",
   "metadata": {
    "slideshow": {
     "slide_type": "subslide"
    }
   },
   "source": [
    "Each pulsar produces a slightly different emission pattern, which varies slightly with each rotation. Thus a potential signal detection known as a 'candidate', is averaged over many rotations of the pulsar, as determined by the length of an observation. In the absence of additional info, each candidate could potentially describe a real pulsar. However in practice almost all detections are caused by radio frequency interference (RFI) and noise, making legitimate signals hard to find."
   ]
  },
  {
   "cell_type": "markdown",
   "metadata": {
    "slideshow": {
     "slide_type": "subslide"
    }
   },
   "source": [
    "HTRU2 is a data set which describes a sample of pulsar candidates collected during the High Time Resolution Universe Survey (South). The data set here contains 16,259 spurious examples caused by RFI/noise, and 1,639 real pulsar examples. Candidates are stored in separate rows. Each row lists the 8 continuous variables first, and the class label is the final entry. The class labels used are 0 (negative) and 1 (positive)."
   ]
  },
  {
   "cell_type": "markdown",
   "metadata": {
    "slideshow": {
     "slide_type": "slide"
    }
   },
   "source": [
    "## data set\n",
    "Attribute Information:  \n",
    "**column_a:** Mean of the integrated profile;    \n",
    "**column_b:** Standard deviation of the integrated profile;    \n",
    "**column_c:** Excess kurtosis of the integrated profile;    \n",
    "**column_d:** Skewness of the integrated profile;    \n",
    "**column_e:** Mean of the DM-SNR curve;    \n",
    "**column_f:** Standard deviation of the DM-SNR curve;    \n",
    "**column_g:** Excess kurtosis of the DM-SNR curve;   \n",
    "**column_h:** Skewness of the DM-SNR curve;   \n",
    "**column_i:** Class  "
   ]
  },
  {
   "cell_type": "markdown",
   "metadata": {
    "slideshow": {
     "slide_type": "subslide"
    }
   },
   "source": [
    "HTRU 2 Summary:    \n",
    "**17,898 total** examples;   \n",
    "**1,639 positive** examples;    \n",
    "**16,259 negative** examples"
   ]
  },
  {
   "cell_type": "markdown",
   "metadata": {
    "slideshow": {
     "slide_type": "slide"
    }
   },
   "source": [
    "## import, clean, examine data"
   ]
  },
  {
   "cell_type": "code",
   "execution_count": 1,
   "metadata": {
    "slideshow": {
     "slide_type": "skip"
    }
   },
   "outputs": [],
   "source": [
    "import numpy as np\n",
    "import pandas as pd\n",
    "import scipy\n",
    "import matplotlib.pyplot as plt\n",
    "import seaborn as sns\n",
    "from sklearn.cluster import KMeans, MiniBatchKMeans\n",
    "from sklearn.preprocessing import normalize\n",
    "from sklearn.decomposition import PCA\n",
    "from sklearn.model_selection import train_test_split\n",
    "from sklearn.cluster import MeanShift, estimate_bandwidth\n",
    "from sklearn.cluster import SpectralClustering\n",
    "from sklearn.cluster import AffinityPropagation\n",
    "from sklearn import metrics\n",
    "from itertools import cycle\n",
    "\n",
    "%matplotlib inline"
   ]
  },
  {
   "cell_type": "code",
   "execution_count": 2,
   "metadata": {
    "slideshow": {
     "slide_type": "skip"
    }
   },
   "outputs": [],
   "source": [
    "df = pd.read_csv(r'C:\\Users\\katec\\Thinkful\\data_collections\\htru_2.csv')   "
   ]
  },
  {
   "cell_type": "code",
   "execution_count": 3,
   "metadata": {
    "slideshow": {
     "slide_type": "skip"
    }
   },
   "outputs": [],
   "source": [
    "pd.set_option('display.max_columns', 500)"
   ]
  },
  {
   "cell_type": "code",
   "execution_count": 4,
   "metadata": {
    "scrolled": false,
    "slideshow": {
     "slide_type": "skip"
    }
   },
   "outputs": [
    {
     "data": {
      "text/html": [
       "<div>\n",
       "<style scoped>\n",
       "    .dataframe tbody tr th:only-of-type {\n",
       "        vertical-align: middle;\n",
       "    }\n",
       "\n",
       "    .dataframe tbody tr th {\n",
       "        vertical-align: top;\n",
       "    }\n",
       "\n",
       "    .dataframe thead th {\n",
       "        text-align: right;\n",
       "    }\n",
       "</style>\n",
       "<table border=\"1\" class=\"dataframe\">\n",
       "  <thead>\n",
       "    <tr style=\"text-align: right;\">\n",
       "      <th></th>\n",
       "      <th>column_a</th>\n",
       "      <th>column_b</th>\n",
       "      <th>column_c</th>\n",
       "      <th>column_d</th>\n",
       "      <th>column_e</th>\n",
       "      <th>column_f</th>\n",
       "      <th>column_g</th>\n",
       "      <th>column_h</th>\n",
       "      <th>column_i</th>\n",
       "    </tr>\n",
       "  </thead>\n",
       "  <tbody>\n",
       "    <tr>\n",
       "      <th>0</th>\n",
       "      <td>140.562500</td>\n",
       "      <td>55.683782</td>\n",
       "      <td>-0.234571</td>\n",
       "      <td>-0.699648</td>\n",
       "      <td>3.199833</td>\n",
       "      <td>19.110426</td>\n",
       "      <td>7.975532</td>\n",
       "      <td>74.242225</td>\n",
       "      <td>False</td>\n",
       "    </tr>\n",
       "    <tr>\n",
       "      <th>1</th>\n",
       "      <td>102.507812</td>\n",
       "      <td>58.882430</td>\n",
       "      <td>0.465318</td>\n",
       "      <td>-0.515088</td>\n",
       "      <td>1.677258</td>\n",
       "      <td>14.860146</td>\n",
       "      <td>10.576487</td>\n",
       "      <td>127.393580</td>\n",
       "      <td>False</td>\n",
       "    </tr>\n",
       "    <tr>\n",
       "      <th>2</th>\n",
       "      <td>103.015625</td>\n",
       "      <td>39.341649</td>\n",
       "      <td>0.323328</td>\n",
       "      <td>1.051164</td>\n",
       "      <td>3.121237</td>\n",
       "      <td>21.744669</td>\n",
       "      <td>7.735822</td>\n",
       "      <td>63.171909</td>\n",
       "      <td>False</td>\n",
       "    </tr>\n",
       "    <tr>\n",
       "      <th>3</th>\n",
       "      <td>136.750000</td>\n",
       "      <td>57.178449</td>\n",
       "      <td>-0.068415</td>\n",
       "      <td>-0.636238</td>\n",
       "      <td>3.642977</td>\n",
       "      <td>20.959280</td>\n",
       "      <td>6.896499</td>\n",
       "      <td>53.593661</td>\n",
       "      <td>False</td>\n",
       "    </tr>\n",
       "    <tr>\n",
       "      <th>4</th>\n",
       "      <td>88.726562</td>\n",
       "      <td>40.672225</td>\n",
       "      <td>0.600866</td>\n",
       "      <td>1.123492</td>\n",
       "      <td>1.178930</td>\n",
       "      <td>11.468720</td>\n",
       "      <td>14.269573</td>\n",
       "      <td>252.567306</td>\n",
       "      <td>False</td>\n",
       "    </tr>\n",
       "  </tbody>\n",
       "</table>\n",
       "</div>"
      ],
      "text/plain": [
       "     column_a   column_b  column_c  column_d  column_e   column_f   column_g  \\\n",
       "0  140.562500  55.683782 -0.234571 -0.699648  3.199833  19.110426   7.975532   \n",
       "1  102.507812  58.882430  0.465318 -0.515088  1.677258  14.860146  10.576487   \n",
       "2  103.015625  39.341649  0.323328  1.051164  3.121237  21.744669   7.735822   \n",
       "3  136.750000  57.178449 -0.068415 -0.636238  3.642977  20.959280   6.896499   \n",
       "4   88.726562  40.672225  0.600866  1.123492  1.178930  11.468720  14.269573   \n",
       "\n",
       "     column_h  column_i  \n",
       "0   74.242225     False  \n",
       "1  127.393580     False  \n",
       "2   63.171909     False  \n",
       "3   53.593661     False  \n",
       "4  252.567306     False  "
      ]
     },
     "execution_count": 4,
     "metadata": {},
     "output_type": "execute_result"
    }
   ],
   "source": [
    "df.head()"
   ]
  },
  {
   "cell_type": "code",
   "execution_count": 5,
   "metadata": {
    "slideshow": {
     "slide_type": "slide"
    }
   },
   "outputs": [
    {
     "name": "stdout",
     "output_type": "stream",
     "text": [
      "<class 'pandas.core.frame.DataFrame'>\n",
      "RangeIndex: 17898 entries, 0 to 17897\n",
      "Data columns (total 9 columns):\n",
      "column_a    17898 non-null float64\n",
      "column_b    17898 non-null float64\n",
      "column_c    17898 non-null float64\n",
      "column_d    17898 non-null float64\n",
      "column_e    17898 non-null float64\n",
      "column_f    17898 non-null float64\n",
      "column_g    17898 non-null float64\n",
      "column_h    17898 non-null float64\n",
      "column_i    17898 non-null bool\n",
      "dtypes: bool(1), float64(8)\n",
      "memory usage: 1.1 MB\n"
     ]
    }
   ],
   "source": [
    "df.info()"
   ]
  },
  {
   "cell_type": "code",
   "execution_count": 6,
   "metadata": {
    "slideshow": {
     "slide_type": "skip"
    }
   },
   "outputs": [],
   "source": [
    "df['column_i'] = df['column_i'].astype(int)"
   ]
  },
  {
   "cell_type": "code",
   "execution_count": 7,
   "metadata": {
    "slideshow": {
     "slide_type": "skip"
    }
   },
   "outputs": [
    {
     "data": {
      "text/plain": [
       "column_a    0\n",
       "column_b    0\n",
       "column_c    0\n",
       "column_d    0\n",
       "column_e    0\n",
       "column_f    0\n",
       "column_g    0\n",
       "column_h    0\n",
       "column_i    0\n",
       "dtype: int64"
      ]
     },
     "execution_count": 7,
     "metadata": {},
     "output_type": "execute_result"
    }
   ],
   "source": [
    "df.isnull().sum()"
   ]
  },
  {
   "cell_type": "code",
   "execution_count": 8,
   "metadata": {
    "slideshow": {
     "slide_type": "skip"
    }
   },
   "outputs": [
    {
     "name": "stdout",
     "output_type": "stream",
     "text": [
      "<class 'pandas.core.frame.DataFrame'>\n",
      "RangeIndex: 17898 entries, 0 to 17897\n",
      "Data columns (total 9 columns):\n",
      "column_a    17898 non-null float64\n",
      "column_b    17898 non-null float64\n",
      "column_c    17898 non-null float64\n",
      "column_d    17898 non-null float64\n",
      "column_e    17898 non-null float64\n",
      "column_f    17898 non-null float64\n",
      "column_g    17898 non-null float64\n",
      "column_h    17898 non-null float64\n",
      "column_i    17898 non-null int32\n",
      "dtypes: float64(8), int32(1)\n",
      "memory usage: 1.2 MB\n"
     ]
    }
   ],
   "source": [
    "df.info()"
   ]
  },
  {
   "cell_type": "code",
   "execution_count": 9,
   "metadata": {
    "slideshow": {
     "slide_type": "slide"
    }
   },
   "outputs": [
    {
     "data": {
      "text/html": [
       "<div>\n",
       "<style scoped>\n",
       "    .dataframe tbody tr th:only-of-type {\n",
       "        vertical-align: middle;\n",
       "    }\n",
       "\n",
       "    .dataframe tbody tr th {\n",
       "        vertical-align: top;\n",
       "    }\n",
       "\n",
       "    .dataframe thead th {\n",
       "        text-align: right;\n",
       "    }\n",
       "</style>\n",
       "<table border=\"1\" class=\"dataframe\">\n",
       "  <thead>\n",
       "    <tr style=\"text-align: right;\">\n",
       "      <th></th>\n",
       "      <th>column_a</th>\n",
       "      <th>column_b</th>\n",
       "      <th>column_c</th>\n",
       "      <th>column_d</th>\n",
       "      <th>column_e</th>\n",
       "      <th>column_f</th>\n",
       "      <th>column_g</th>\n",
       "      <th>column_h</th>\n",
       "      <th>column_i</th>\n",
       "    </tr>\n",
       "  </thead>\n",
       "  <tbody>\n",
       "    <tr>\n",
       "      <th>count</th>\n",
       "      <td>17898.000000</td>\n",
       "      <td>17898.000000</td>\n",
       "      <td>17898.000000</td>\n",
       "      <td>17898.000000</td>\n",
       "      <td>17898.000000</td>\n",
       "      <td>17898.000000</td>\n",
       "      <td>17898.000000</td>\n",
       "      <td>17898.000000</td>\n",
       "      <td>17898.000000</td>\n",
       "    </tr>\n",
       "    <tr>\n",
       "      <th>mean</th>\n",
       "      <td>111.079968</td>\n",
       "      <td>46.549532</td>\n",
       "      <td>0.477857</td>\n",
       "      <td>1.770279</td>\n",
       "      <td>12.614400</td>\n",
       "      <td>26.326515</td>\n",
       "      <td>8.303556</td>\n",
       "      <td>104.857709</td>\n",
       "      <td>0.091574</td>\n",
       "    </tr>\n",
       "    <tr>\n",
       "      <th>std</th>\n",
       "      <td>25.652935</td>\n",
       "      <td>6.843189</td>\n",
       "      <td>1.064040</td>\n",
       "      <td>6.167913</td>\n",
       "      <td>29.472897</td>\n",
       "      <td>19.470572</td>\n",
       "      <td>4.506092</td>\n",
       "      <td>106.514540</td>\n",
       "      <td>0.288432</td>\n",
       "    </tr>\n",
       "    <tr>\n",
       "      <th>min</th>\n",
       "      <td>5.812500</td>\n",
       "      <td>24.772042</td>\n",
       "      <td>-1.876011</td>\n",
       "      <td>-1.791886</td>\n",
       "      <td>0.213211</td>\n",
       "      <td>7.370432</td>\n",
       "      <td>-3.139270</td>\n",
       "      <td>-1.976976</td>\n",
       "      <td>0.000000</td>\n",
       "    </tr>\n",
       "    <tr>\n",
       "      <th>25%</th>\n",
       "      <td>100.929688</td>\n",
       "      <td>42.376018</td>\n",
       "      <td>0.027098</td>\n",
       "      <td>-0.188572</td>\n",
       "      <td>1.923077</td>\n",
       "      <td>14.437332</td>\n",
       "      <td>5.781506</td>\n",
       "      <td>34.960504</td>\n",
       "      <td>0.000000</td>\n",
       "    </tr>\n",
       "    <tr>\n",
       "      <th>50%</th>\n",
       "      <td>115.078125</td>\n",
       "      <td>46.947479</td>\n",
       "      <td>0.223240</td>\n",
       "      <td>0.198710</td>\n",
       "      <td>2.801839</td>\n",
       "      <td>18.461316</td>\n",
       "      <td>8.433515</td>\n",
       "      <td>83.064556</td>\n",
       "      <td>0.000000</td>\n",
       "    </tr>\n",
       "    <tr>\n",
       "      <th>75%</th>\n",
       "      <td>127.085938</td>\n",
       "      <td>51.023202</td>\n",
       "      <td>0.473325</td>\n",
       "      <td>0.927783</td>\n",
       "      <td>5.464256</td>\n",
       "      <td>28.428104</td>\n",
       "      <td>10.702959</td>\n",
       "      <td>139.309331</td>\n",
       "      <td>0.000000</td>\n",
       "    </tr>\n",
       "    <tr>\n",
       "      <th>max</th>\n",
       "      <td>192.617188</td>\n",
       "      <td>98.778911</td>\n",
       "      <td>8.069522</td>\n",
       "      <td>68.101622</td>\n",
       "      <td>223.392140</td>\n",
       "      <td>110.642211</td>\n",
       "      <td>34.539844</td>\n",
       "      <td>1191.000837</td>\n",
       "      <td>1.000000</td>\n",
       "    </tr>\n",
       "  </tbody>\n",
       "</table>\n",
       "</div>"
      ],
      "text/plain": [
       "           column_a      column_b      column_c      column_d      column_e  \\\n",
       "count  17898.000000  17898.000000  17898.000000  17898.000000  17898.000000   \n",
       "mean     111.079968     46.549532      0.477857      1.770279     12.614400   \n",
       "std       25.652935      6.843189      1.064040      6.167913     29.472897   \n",
       "min        5.812500     24.772042     -1.876011     -1.791886      0.213211   \n",
       "25%      100.929688     42.376018      0.027098     -0.188572      1.923077   \n",
       "50%      115.078125     46.947479      0.223240      0.198710      2.801839   \n",
       "75%      127.085938     51.023202      0.473325      0.927783      5.464256   \n",
       "max      192.617188     98.778911      8.069522     68.101622    223.392140   \n",
       "\n",
       "           column_f      column_g      column_h      column_i  \n",
       "count  17898.000000  17898.000000  17898.000000  17898.000000  \n",
       "mean      26.326515      8.303556    104.857709      0.091574  \n",
       "std       19.470572      4.506092    106.514540      0.288432  \n",
       "min        7.370432     -3.139270     -1.976976      0.000000  \n",
       "25%       14.437332      5.781506     34.960504      0.000000  \n",
       "50%       18.461316      8.433515     83.064556      0.000000  \n",
       "75%       28.428104     10.702959    139.309331      0.000000  \n",
       "max      110.642211     34.539844   1191.000837      1.000000  "
      ]
     },
     "execution_count": 9,
     "metadata": {},
     "output_type": "execute_result"
    }
   ],
   "source": [
    "df.describe()"
   ]
  },
  {
   "cell_type": "code",
   "execution_count": 10,
   "metadata": {
    "slideshow": {
     "slide_type": "slide"
    }
   },
   "outputs": [
    {
     "data": {
      "image/png": "[encoded data removed]",
      "text/plain": [
       "<Figure size 1440x720 with 9 Axes>"
      ]
     },
     "metadata": {
      "needs_background": "light"
     },
     "output_type": "display_data"
    }
   ],
   "source": [
    "df.hist(grid=False, alpha=0.5, figsize=(20, 10))\n",
    "plt.tight_layout()"
   ]
  },
  {
   "cell_type": "markdown",
   "metadata": {
    "slideshow": {
     "slide_type": "slide"
    }
   },
   "source": [
    "## k-means cluster"
   ]
  },
  {
   "cell_type": "code",
   "execution_count": 11,
   "metadata": {
    "slideshow": {
     "slide_type": "slide"
    }
   },
   "outputs": [],
   "source": [
    "# Define the features and the outcome.\n",
    "X = df.iloc[:, :8]\n",
    "y = df.iloc[:, 8]"
   ]
  },
  {
   "cell_type": "code",
   "execution_count": 12,
   "metadata": {
    "slideshow": {
     "slide_type": "slide"
    }
   },
   "outputs": [
    {
     "data": {
      "text/plain": [
       "0    16259\n",
       "1     1639\n",
       "Name: column_i, dtype: int64"
      ]
     },
     "execution_count": 12,
     "metadata": {},
     "output_type": "execute_result"
    }
   ],
   "source": [
    "#target counts\n",
    "df['column_i'].value_counts()"
   ]
  },
  {
   "cell_type": "code",
   "execution_count": 13,
   "metadata": {
    "slideshow": {
     "slide_type": "slide"
    }
   },
   "outputs": [
    {
     "data": {
      "text/plain": [
       "0    90.842552\n",
       "1     9.157448\n",
       "Name: column_i, dtype: float64"
      ]
     },
     "execution_count": 13,
     "metadata": {},
     "output_type": "execute_result"
    }
   ],
   "source": [
    "df['column_i'].value_counts(normalize=True) * 100"
   ]
  },
  {
   "cell_type": "markdown",
   "metadata": {
    "slideshow": {
     "slide_type": "slide"
    }
   },
   "source": [
    "### normalize data"
   ]
  },
  {
   "cell_type": "code",
   "execution_count": 14,
   "metadata": {
    "slideshow": {
     "slide_type": "slide"
    }
   },
   "outputs": [],
   "source": [
    "#normalize data\n",
    "from sklearn.preprocessing import StandardScaler\n",
    "scaler = StandardScaler()\n",
    "X_std = scaler.fit_transform(X)"
   ]
  },
  {
   "cell_type": "markdown",
   "metadata": {
    "slideshow": {
     "slide_type": "slide"
    }
   },
   "source": [
    "### divide into training and test sets"
   ]
  },
  {
   "cell_type": "code",
   "execution_count": 15,
   "metadata": {
    "slideshow": {
     "slide_type": "skip"
    }
   },
   "outputs": [],
   "source": [
    "X_train, X_test, y_train, y_test = train_test_split(\n",
    "    X_std,\n",
    "    y,\n",
    "    test_size=0.9,\n",
    "    random_state=42)"
   ]
  },
  {
   "cell_type": "code",
   "execution_count": 16,
   "metadata": {
    "slideshow": {
     "slide_type": "slide"
    }
   },
   "outputs": [],
   "source": [
    "# Reduce data to two components for plotting\n",
    "X_pca = PCA(2).fit_transform(X_train)\n",
    "\n",
    "# Calculate predicted values.\n",
    "y_pred_pca = KMeans(n_clusters=2, random_state=42).fit_predict(X_pca)\n"
   ]
  },
  {
   "cell_type": "code",
   "execution_count": 17,
   "metadata": {
    "slideshow": {
     "slide_type": "subslide"
    }
   },
   "outputs": [
    {
     "data": {
      "image/png": "[encoded data removed]",
      "text/plain": [
       "<Figure size 432x288 with 1 Axes>"
      ]
     },
     "metadata": {
      "needs_background": "light"
     },
     "output_type": "display_data"
    },
    {
     "name": "stdout",
     "output_type": "stream",
     "text": [
      "Comparing k-means clusters against the data:\n",
      "column_i     0    1\n",
      "row_0              \n",
      "0            6  112\n",
      "1         1614   57\n"
     ]
    }
   ],
   "source": [
    "# Plot the solution.\n",
    "plt.scatter(X_pca[:, 0], X_pca[:, 1], c=y_pred_pca)\n",
    "plt.show()\n",
    "\n",
    "# Check the solution against the data.\n",
    "print('Comparing k-means clusters against the data:')\n",
    "print(pd.crosstab(y_pred_pca, y_train))"
   ]
  },
  {
   "cell_type": "markdown",
   "metadata": {
    "slideshow": {
     "slide_type": "slide"
    }
   },
   "source": [
    "### fit kmeans"
   ]
  },
  {
   "cell_type": "code",
   "execution_count": 18,
   "metadata": {
    "slideshow": {
     "slide_type": "slide"
    }
   },
   "outputs": [
    {
     "data": {
      "image/png": "[encoded data removed]",
      "text/plain": [
       "<Figure size 432x288 with 1 Axes>"
      ]
     },
     "metadata": {
      "needs_background": "light"
     },
     "output_type": "display_data"
    }
   ],
   "source": [
    "# using 2 clusters\n",
    "kmeans = KMeans(n_clusters=2, init='k-means++', random_state=42)\n",
    "pred_y = kmeans.fit_predict(X_train)\n",
    "plt.scatter(X_train[:,0], X_train[:,1])\n",
    "plt.scatter(kmeans.cluster_centers_[:, 0], \n",
    "            kmeans.cluster_centers_[:, 1], s=300, c='red')\n",
    "plt.show()"
   ]
  },
  {
   "cell_type": "code",
   "execution_count": 19,
   "metadata": {
    "slideshow": {
     "slide_type": "notes"
    }
   },
   "outputs": [
    {
     "data": {
      "text/plain": [
       "array([[ 0.17096835,  0.1031284 , -0.22183606, -0.21418967, -0.15101402,\n",
       "        -0.13848262,  0.11890269,  0.09412094],\n",
       "       [-2.75246188, -1.53089021,  3.42676085,  3.27894234,  1.98290899,\n",
       "         2.02971362, -1.55775043, -0.95747055]])"
      ]
     },
     "execution_count": 19,
     "metadata": {},
     "output_type": "execute_result"
    }
   ],
   "source": [
    "kmeans.cluster_centers_"
   ]
  },
  {
   "cell_type": "code",
   "execution_count": 20,
   "metadata": {
    "slideshow": {
     "slide_type": "notes"
    }
   },
   "outputs": [
    {
     "name": "stdout",
     "output_type": "stream",
     "text": [
      "[0 0 0 ... 0 0 0]\n"
     ]
    }
   ],
   "source": [
    "print(kmeans.labels_)"
   ]
  },
  {
   "cell_type": "code",
   "execution_count": 21,
   "metadata": {
    "slideshow": {
     "slide_type": "slide"
    }
   },
   "outputs": [
    {
     "name": "stdout",
     "output_type": "stream",
     "text": [
      "column_i     0    1\n",
      "row_0              \n",
      "0         1613   57\n",
      "1            7  112\n"
     ]
    }
   ],
   "source": [
    "print(pd.crosstab(pred_y, y_train))"
   ]
  },
  {
   "cell_type": "code",
   "execution_count": 22,
   "metadata": {
    "slideshow": {
     "slide_type": "slide"
    }
   },
   "outputs": [
    {
     "name": "stdout",
     "output_type": "stream",
     "text": [
      "0.645321137216534\n"
     ]
    }
   ],
   "source": [
    "# Calculate silhouette_score\n",
    "from sklearn.metrics import silhouette_score\n",
    "silhoueette_kmeans = silhouette_score(X_train, kmeans.labels_)\n",
    "\n",
    "print(silhoueette_kmeans)"
   ]
  },
  {
   "cell_type": "code",
   "execution_count": 23,
   "metadata": {
    "slideshow": {
     "slide_type": "slide"
    }
   },
   "outputs": [
    {
     "data": {
      "image/png": "[encoded data removed]",
      "text/plain": [
       "<Figure size 432x288 with 1 Axes>"
      ]
     },
     "metadata": {
      "needs_background": "light"
     },
     "output_type": "display_data"
    }
   ],
   "source": [
    "Sum_of_squared_distances = []\n",
    "K = range(1,15)\n",
    "for k in K:\n",
    "    km = KMeans(n_clusters=k)\n",
    "    km = km.fit(X_train)\n",
    "    Sum_of_squared_distances.append(km.inertia_)\n",
    "    \n",
    "plt.plot(K, Sum_of_squared_distances, 'bx-')\n",
    "plt.xlabel('k')\n",
    "plt.ylabel('Sum_of_squared_distances')\n",
    "plt.title('Elbow Method For Optimal k')\n",
    "plt.show()   "
   ]
  },
  {
   "cell_type": "code",
   "execution_count": 24,
   "metadata": {
    "slideshow": {
     "slide_type": "slide"
    }
   },
   "outputs": [
    {
     "data": {
      "image/png": "[encoded data removed]",
      "text/plain": [
       "<Figure size 432x288 with 1 Axes>"
      ]
     },
     "metadata": {
      "needs_background": "light"
     },
     "output_type": "display_data"
    }
   ],
   "source": [
    "#using 6 clusters\n",
    "kmeans6 = KMeans(n_clusters=6, init='k-means++', random_state=42)\n",
    "pred_y = kmeans6.fit_predict(X_train)\n",
    "plt.scatter(X_train[:,0], X_train[:,1])\n",
    "plt.scatter(kmeans6.cluster_centers_[:, 0], \n",
    "            kmeans6.cluster_centers_[:, 1], s=300, c='red')\n",
    "plt.show()"
   ]
  },
  {
   "cell_type": "code",
   "execution_count": 25,
   "metadata": {
    "slideshow": {
     "slide_type": "slide"
    }
   },
   "outputs": [
    {
     "name": "stdout",
     "output_type": "stream",
     "text": [
      "column_i    0   1\n",
      "row_0            \n",
      "0           1  97\n",
      "1         638  12\n",
      "2          96  24\n",
      "3         452   3\n",
      "4         371  32\n",
      "5          62   1\n"
     ]
    }
   ],
   "source": [
    "print(pd.crosstab(pred_y, y_train))"
   ]
  },
  {
   "cell_type": "code",
   "execution_count": 26,
   "metadata": {
    "slideshow": {
     "slide_type": "slide"
    }
   },
   "outputs": [
    {
     "name": "stdout",
     "output_type": "stream",
     "text": [
      "0.2797401701682287\n"
     ]
    }
   ],
   "source": [
    "# Calculate silhouette_score\n",
    "\n",
    "silhouette_kmeans6 = silhouette_score(X_train, kmeans6.labels_)\n",
    "print(silhouette_kmeans6)"
   ]
  },
  {
   "cell_type": "markdown",
   "metadata": {
    "slideshow": {
     "slide_type": "notes"
    }
   },
   "source": [
    "If the Silhouette index value is high, the object is well-matched to its own cluster and poorly matched to neighbouring clusters.\n",
    "\n",
    "    -value close to 1, sample is well-clustered and already assigned to a very appropriate cluster;\n",
    "    -value is about to 0, sample could be assign to another cluster closest to it;  sample lies equally far away from both the clusters; indicates overlapping clusters;\n",
    "    -value is close to –1, sample is misclassified and is merely placed somewhere in between the clusters."
   ]
  },
  {
   "cell_type": "markdown",
   "metadata": {
    "slideshow": {
     "slide_type": "slide"
    }
   },
   "source": [
    "#### evaluation\n",
    "Based on the silhouette_score, the algorithm with n_clusters = 2 clearly performs better than the n_clusters = 6 algorithm. "
   ]
  },
  {
   "cell_type": "markdown",
   "metadata": {
    "slideshow": {
     "slide_type": "slide"
    }
   },
   "source": [
    "### mini batch kmeans"
   ]
  },
  {
   "cell_type": "markdown",
   "metadata": {
    "slideshow": {
     "slide_type": "slide"
    }
   },
   "source": [
    "#### mini batch kmeans with 'random' centroids"
   ]
  },
  {
   "cell_type": "code",
   "execution_count": 27,
   "metadata": {
    "slideshow": {
     "slide_type": "slide"
    }
   },
   "outputs": [
    {
     "name": "stdout",
     "output_type": "stream",
     "text": [
      "Comparing k-means and minibatch_random k-means solutions:\n",
      "col_0   0    1    2    3    4   5\n",
      "row_0                            \n",
      "0      98  392  120    0  325   0\n",
      "1       0  258    0  455   78  63\n"
     ]
    }
   ],
   "source": [
    "#initiate random centroids\n",
    "# Each batch will be made up of 200 data points.\n",
    "minibatch_random = MiniBatchKMeans(\n",
    "    init='random',\n",
    "    n_clusters=2,\n",
    "    batch_size=200,\n",
    "    random_state=42)\n",
    "minibatch_random.fit(X_train)\n",
    "\n",
    "# Predict new MiniBatch cluster memberships.\n",
    "predict_mini_random = minibatch_random.predict(X_train)\n",
    "\n",
    "# Check the MiniBatch model against our earlier one.\n",
    "print('Comparing k-means and minibatch_random k-means solutions:')\n",
    "print(pd.crosstab(predict_mini_random, pred_y))"
   ]
  },
  {
   "cell_type": "code",
   "execution_count": 28,
   "metadata": {
    "slideshow": {
     "slide_type": "notes"
    }
   },
   "outputs": [
    {
     "data": {
      "text/plain": [
       "array([[-0.25384475, -0.14480191,  0.23206146,  0.18831938,  0.23799148,\n",
       "         0.4118844 , -0.55018072, -0.51052777],\n",
       "       [ 0.34580821,  0.28553127, -0.29680309, -0.26047803, -0.36341499,\n",
       "        -0.63624587,  0.91891192,  0.934513  ]])"
      ]
     },
     "execution_count": 28,
     "metadata": {},
     "output_type": "execute_result"
    }
   ],
   "source": [
    "#finding the centroid\n",
    "minibatch_random.cluster_centers_"
   ]
  },
  {
   "cell_type": "code",
   "execution_count": 29,
   "metadata": {
    "slideshow": {
     "slide_type": "slide"
    }
   },
   "outputs": [
    {
     "name": "stdout",
     "output_type": "stream",
     "text": [
      "0.194556763821857\n"
     ]
    }
   ],
   "source": [
    "# Calculate silhouette_score\n",
    "silhoueette_minibatch_random = silhouette_score(X_train, minibatch_random.labels_)\n",
    "print(silhoueette_minibatch_random)"
   ]
  },
  {
   "cell_type": "code",
   "execution_count": 30,
   "metadata": {
    "slideshow": {
     "slide_type": "slide"
    }
   },
   "outputs": [
    {
     "data": {
      "image/png": "[encoded data removed]",
      "text/plain": [
       "<Figure size 432x288 with 1 Axes>"
      ]
     },
     "metadata": {
      "needs_background": "light"
     },
     "output_type": "display_data"
    }
   ],
   "source": [
    "# plot the 2 clusters (X_train)\n",
    "\n",
    "plt.scatter(\n",
    "    X_train[predict_mini_random == 0,0], X_train[predict_mini_random == 0, 1],\n",
    "    s=50, c='orange',\n",
    "    marker='o', edgecolor='black',\n",
    "    label='cluster 1')\n",
    "\n",
    "plt.scatter(\n",
    "    X_train[predict_mini_random == 1, 0], X_train[predict_mini_random == 1, 1],\n",
    "    s=50, c='lightblue',\n",
    "    marker='v', edgecolor='black',\n",
    "    label='cluster 2')\n",
    "\n",
    "\n",
    "# plot the centroids\n",
    "plt.scatter(\n",
    "    minibatch_random.cluster_centers_[:, 0], minibatch_random.cluster_centers_[:, 1],\n",
    "    s=250, marker='*',\n",
    "    c='red', edgecolor='black',\n",
    "    label='centroids')\n",
    "\n",
    "plt.legend(scatterpoints=1)\n",
    "plt.grid()\n",
    "plt.show()"
   ]
  },
  {
   "cell_type": "markdown",
   "metadata": {
    "slideshow": {
     "slide_type": "slide"
    }
   },
   "source": [
    "#### mini batch kmeans with 'k-means++' centroids"
   ]
  },
  {
   "cell_type": "code",
   "execution_count": 31,
   "metadata": {
    "scrolled": true,
    "slideshow": {
     "slide_type": "slide"
    }
   },
   "outputs": [
    {
     "name": "stdout",
     "output_type": "stream",
     "text": [
      "Comparing k-means and minibatch_kmeans solutions:\n",
      "col_0   0    1   2    3    4   5\n",
      "row_0                           \n",
      "0       0  650  98  455  396  63\n",
      "1      98    0  22    0    7   0\n"
     ]
    }
   ],
   "source": [
    "#choosing centroid mean\n",
    "minibatch_kmeans = MiniBatchKMeans(\n",
    "    init='k-means++',\n",
    "    n_clusters=2,\n",
    "    batch_size=200,\n",
    "    random_state=42)\n",
    "X_train_mini = minibatch_kmeans.fit(X_train)\n",
    "\n",
    "# Predict new MiniBatch cluster memberships.\n",
    "predict_mini = minibatch_kmeans.predict(X_train)\n",
    "\n",
    "# Check the MiniBatch model against our earlier one.\n",
    "print('Comparing k-means and minibatch_kmeans solutions:')\n",
    "print(pd.crosstab(predict_mini, pred_y))"
   ]
  },
  {
   "cell_type": "code",
   "execution_count": 32,
   "metadata": {
    "slideshow": {
     "slide_type": "notes"
    }
   },
   "outputs": [
    {
     "data": {
      "text/plain": [
       "array([[ 0.16811496,  0.10259877, -0.22882962, -0.22117777, -0.16083287,\n",
       "        -0.14625193,  0.12233748,  0.09227433],\n",
       "       [-2.66961058, -1.33128211,  3.2027072 ,  2.87143733,  1.88202561,\n",
       "         1.96793122, -1.53641871, -0.95303873]])"
      ]
     },
     "execution_count": 32,
     "metadata": {},
     "output_type": "execute_result"
    }
   ],
   "source": [
    "#finding the centroid\n",
    "minibatch_kmeans.cluster_centers_"
   ]
  },
  {
   "cell_type": "code",
   "execution_count": 33,
   "metadata": {
    "slideshow": {
     "slide_type": "slide"
    }
   },
   "outputs": [
    {
     "name": "stdout",
     "output_type": "stream",
     "text": [
      "col_0    0    1\n",
      "row_0          \n",
      "0      808  854\n",
      "1      127    0\n"
     ]
    }
   ],
   "source": [
    "print(pd.crosstab(predict_mini, predict_mini_random))"
   ]
  },
  {
   "cell_type": "code",
   "execution_count": 34,
   "metadata": {
    "slideshow": {
     "slide_type": "slide"
    }
   },
   "outputs": [
    {
     "name": "stdout",
     "output_type": "stream",
     "text": [
      "0.6374071313117781\n"
     ]
    }
   ],
   "source": [
    "# Calculate silhouette_score\n",
    "silhoueette_minibatch_kmeans = silhouette_score(X_train, minibatch_kmeans.labels_)\n",
    "print(silhoueette_minibatch_kmeans)"
   ]
  },
  {
   "cell_type": "code",
   "execution_count": 35,
   "metadata": {
    "slideshow": {
     "slide_type": "slide"
    }
   },
   "outputs": [
    {
     "data": {
      "image/png": "[encoded data removed]",
      "text/plain": [
       "<Figure size 432x288 with 1 Axes>"
      ]
     },
     "metadata": {
      "needs_background": "light"
     },
     "output_type": "display_data"
    }
   ],
   "source": [
    "# plot the 2 clusters (X_train)\n",
    "\n",
    "\n",
    "plt.scatter(\n",
    "    X_train[:,0], X_train[:, 1],\n",
    "    s=50, c='orange',\n",
    "    marker='o', edgecolor='black',\n",
    "    label='cluster 1')\n",
    "\n",
    "plt.scatter(\n",
    "    X_train[:, 1], X_train[:, 0],\n",
    "    s=50, c='lightblue',\n",
    "    marker='v', edgecolor='black',\n",
    "    label='cluster 2')\n",
    "\n",
    "# plot the centroids\n",
    "plt.scatter(\n",
    "    minibatch_kmeans.cluster_centers_[:, 0], minibatch_kmeans.cluster_centers_[:, 1],\n",
    "    s=250, marker='*',\n",
    "    c='red', edgecolor='black',\n",
    "    label='centroids')\n",
    "\n",
    "plt.legend(scatterpoints=1)\n",
    "plt.grid()\n",
    "plt.show()"
   ]
  },
  {
   "cell_type": "markdown",
   "metadata": {
    "slideshow": {
     "slide_type": "slide"
    }
   },
   "source": [
    "#### evaluation\n",
    "The MiniBatchKMeans initialized with 'k-means++' clearly outperforms the 'random' initiation. The Silhouette_score for the MiniBatchKMeans ('k-means++') algorithm are comparable to that of the KMeans (n-cluster=2) algorithm. "
   ]
  },
  {
   "cell_type": "markdown",
   "metadata": {
    "slideshow": {
     "slide_type": "slide"
    }
   },
   "source": [
    "### mean shift"
   ]
  },
  {
   "cell_type": "code",
   "execution_count": 36,
   "metadata": {
    "slideshow": {
     "slide_type": "slide"
    }
   },
   "outputs": [
    {
     "name": "stdout",
     "output_type": "stream",
     "text": [
      "Number of estimated clusters: 13\n"
     ]
    }
   ],
   "source": [
    "from sklearn.cluster import MeanShift, estimate_bandwidth\n",
    "\n",
    "# set the bandwidth automatically; function derives a bandwidth\n",
    "# number based on an inspection of the distances among points \n",
    "# in the data.\n",
    "bandwidth = estimate_bandwidth(X_train, quantile=0.2, n_samples=500)\n",
    "\n",
    "# Declare and fit the model.\n",
    "ms = MeanShift(bandwidth=bandwidth, bin_seeding=True)\n",
    "ms.fit(X_train)\n",
    "\n",
    "# Extract cluster assignments for each data point.\n",
    "labels = ms.labels_\n",
    "\n",
    "# Coordinates of the cluster centers.\n",
    "cluster_centers = ms.cluster_centers_\n",
    "\n",
    "# Count our clusters.\n",
    "n_clusters_ = len(np.unique(labels))\n",
    "\n",
    "print(\"Number of estimated clusters: {}\".format(n_clusters_))"
   ]
  },
  {
   "cell_type": "code",
   "execution_count": 37,
   "metadata": {
    "slideshow": {
     "slide_type": "slide"
    }
   },
   "outputs": [
    {
     "data": {
      "image/png": "[encoded data removed]",
      "text/plain": [
       "<Figure size 432x288 with 1 Axes>"
      ]
     },
     "metadata": {
      "needs_background": "light"
     },
     "output_type": "display_data"
    },
    {
     "name": "stdout",
     "output_type": "stream",
     "text": [
      "Comparing the assigned categories to the ones in the data:\n",
      "col_0       0   1   2   3   4   5   6   7   8   9   10  11  12\n",
      "column_i                                                      \n",
      "0         1502   1   0  24   0  25   4  29  15  12   2   5   1\n",
      "1           42  66  29  19  10   2   0   1   0   0   0   0   0\n"
     ]
    }
   ],
   "source": [
    "plt.scatter(X_train[:, 0], X_train[:, 1], c=labels)\n",
    "\n",
    "# plot the centroids\n",
    "plt.scatter(\n",
    "    ms.cluster_centers_[:, 0], ms.cluster_centers_[:, 1],\n",
    "    s=250, marker='*',\n",
    "    c='red', edgecolor='black',\n",
    "    label='centroids')\n",
    "\n",
    "\n",
    "plt.show()\n",
    "\n",
    "print('Comparing the assigned categories to the ones in the data:')\n",
    "print(pd.crosstab(y_train,labels))"
   ]
  },
  {
   "cell_type": "code",
   "execution_count": 38,
   "metadata": {
    "slideshow": {
     "slide_type": "slide"
    }
   },
   "outputs": [
    {
     "name": "stdout",
     "output_type": "stream",
     "text": [
      "0.408356158542891\n"
     ]
    }
   ],
   "source": [
    "# Calculate silhouette_score\n",
    "silhoueette_mean_shift = silhouette_score(X_train, ms.labels_)\n",
    "print(silhoueette_mean_shift)"
   ]
  },
  {
   "cell_type": "markdown",
   "metadata": {
    "slideshow": {
     "slide_type": "slide"
    }
   },
   "source": [
    "#### evaluation\n",
    "The MeanShift algorithm shows improved performance over the KMeans(6 cluster) and the Minibatch(random initiation), but falls short of the perfomance of the KMeans(2 cluster) and the Minibatch(k-means++ initiation) algorithms. "
   ]
  },
  {
   "cell_type": "markdown",
   "metadata": {
    "slideshow": {
     "slide_type": "slide"
    }
   },
   "source": [
    "### spectral clustering"
   ]
  },
  {
   "cell_type": "code",
   "execution_count": 39,
   "metadata": {
    "slideshow": {
     "slide_type": "slide"
    }
   },
   "outputs": [
    {
     "data": {
      "image/png": "[encoded data removed]",
      "text/plain": [
       "<Figure size 432x288 with 1 Axes>"
      ]
     },
     "metadata": {
      "needs_background": "light"
     },
     "output_type": "display_data"
    },
    {
     "name": "stdout",
     "output_type": "stream",
     "text": [
      "Comparing the assigned categories to the ones in the data:\n",
      "col_0        0  1\n",
      "column_i         \n",
      "0         1615  5\n",
      "1          169  0\n"
     ]
    }
   ],
   "source": [
    "from sklearn.cluster import SpectralClustering\n",
    "\n",
    "# known clusters= 2\n",
    "n_clusters=2\n",
    "\n",
    "# Declare and fit the model.\n",
    "sc = SpectralClustering(n_clusters=n_clusters)\n",
    "sc.fit(X_train)\n",
    "\n",
    "#Predicted clusters.\n",
    "sc_predict=sc.fit_predict(X_train)\n",
    "\n",
    "#Graph results.\n",
    "plt.scatter(X_train[:, 0], X_train[:, 1], c=sc_predict)\n",
    "plt.show()\n",
    "\n",
    "print('Comparing the assigned categories to the ones in the data:')\n",
    "print(pd.crosstab(y_train,sc_predict))"
   ]
  },
  {
   "cell_type": "code",
   "execution_count": 40,
   "metadata": {
    "slideshow": {
     "slide_type": "slide"
    }
   },
   "outputs": [
    {
     "name": "stdout",
     "output_type": "stream",
     "text": [
      "0.5985769053974651\n"
     ]
    }
   ],
   "source": [
    "# Calculate silhouette_score\n",
    "silhoueette_spectral_cluster = silhouette_score(X_train, sc.labels_)\n",
    "print(silhoueette_spectral_cluster)"
   ]
  },
  {
   "cell_type": "markdown",
   "metadata": {
    "slideshow": {
     "slide_type": "slide"
    }
   },
   "source": [
    "#### evaluation\n",
    "The SpectralClustering algorithm shows improved performance over the KMeans(6 cluster), the Minibatch(random initiation), and the MeanShift algorithms, but falls short of the perfomance of the KMeans(2 cluster) and the Minibatch(k-means++ initiation) algorithms. "
   ]
  },
  {
   "cell_type": "markdown",
   "metadata": {
    "slideshow": {
     "slide_type": "slide"
    }
   },
   "source": [
    "### affinity propagation"
   ]
  },
  {
   "cell_type": "code",
   "execution_count": 41,
   "metadata": {
    "slideshow": {
     "slide_type": "slide"
    }
   },
   "outputs": [
    {
     "name": "stdout",
     "output_type": "stream",
     "text": [
      "Done\n",
      "Estimated number of clusters: 93\n"
     ]
    }
   ],
   "source": [
    "from sklearn.cluster import AffinityPropagation\n",
    "from sklearn import metrics\n",
    "\n",
    "# did not provide arguments to the model\n",
    "af = AffinityPropagation().fit(X_train)\n",
    "print('Done')\n",
    "\n",
    "# Pull the number of clusters and cluster assignments for each data point.\n",
    "cluster_centers_indices = af.cluster_centers_indices_\n",
    "n_clusters_ = len(cluster_centers_indices)\n",
    "af_labels = af.labels_\n",
    "\n",
    "print('Estimated number of clusters: {}'.format(n_clusters_))\n"
   ]
  },
  {
   "cell_type": "code",
   "execution_count": 42,
   "metadata": {
    "slideshow": {
     "slide_type": "slide"
    }
   },
   "outputs": [
    {
     "data": {
      "image/png": "[encoded data removed]",
      "text/plain": [
       "<Figure size 432x288 with 1 Axes>"
      ]
     },
     "metadata": {
      "needs_background": "light"
     },
     "output_type": "display_data"
    }
   ],
   "source": [
    "from itertools import cycle\n",
    "\n",
    "plt.figure(1)\n",
    "plt.clf()\n",
    "\n",
    "# Cycle through each cluster and graph them with a center point for the\n",
    "# exemplar and lines from the exemplar to each data point in the cluster.\n",
    "colors = cycle('bgrcmykbgrcmykbgrcmykbgrcmyk')\n",
    "for k, col in zip(range(n_clusters_), colors):\n",
    "    class_members = af_labels == k\n",
    "    cluster_center = X_train[cluster_centers_indices[k]]\n",
    "    plt.plot(X_train[class_members, 0], X_train[class_members, 1], col + '.')\n",
    "    plt.plot(cluster_center[0],\n",
    "             cluster_center[1],\n",
    "             'o',\n",
    "             markerfacecolor=col,\n",
    "             markeredgecolor='k')\n",
    "    for x in X_train[class_members]:\n",
    "        plt.plot([cluster_center[0], x[0]], [cluster_center[1], x[1]], col)\n",
    "\n",
    "plt.title('Estimated number of clusters: {}'.format(n_clusters_))\n",
    "plt.show()"
   ]
  },
  {
   "cell_type": "code",
   "execution_count": 43,
   "metadata": {
    "slideshow": {
     "slide_type": "slide"
    }
   },
   "outputs": [
    {
     "name": "stdout",
     "output_type": "stream",
     "text": [
      "0.1991367762506421\n"
     ]
    }
   ],
   "source": [
    "# Calculate silhouette_score\n",
    "silhoueette_affinity_prop = silhouette_score(X_train, af.labels_)\n",
    "print(silhouette_score(X_train, af.labels_))"
   ]
  },
  {
   "cell_type": "markdown",
   "metadata": {
    "slideshow": {
     "slide_type": "slide"
    }
   },
   "source": [
    "#### evaluation\n",
    "The AffinityPropagation algorithm is one of the worst performing alogirithms, performing on slightly better than the lowest performing Minibatch(random initiation) algorithm. All other algorithms performed better. "
   ]
  },
  {
   "cell_type": "markdown",
   "metadata": {
    "slideshow": {
     "slide_type": "slide"
    }
   },
   "source": [
    "## evaluation of algorithms"
   ]
  },
  {
   "cell_type": "code",
   "execution_count": 44,
   "metadata": {
    "slideshow": {
     "slide_type": "slide"
    }
   },
   "outputs": [
    {
     "name": "stdout",
     "output_type": "stream",
     "text": [
      "Silhouette_scores as follows:\n",
      "KMeans, 2 clusters:  0.645321137216534\n",
      "KMeans, 6 clusters:  0.2797401701682287\n",
      "Minibatch, random initiation:  0.194556763821857\n",
      "Minibatch, k-means++ initiation:  0.6374071313117781\n",
      "MeanShift:  0.408356158542891\n",
      "SpectralClustering:  0.5985769053974651\n",
      "AffinityPropagation:  0.1991367762506421\n"
     ]
    }
   ],
   "source": [
    "#silhouette_score\n",
    "print('Silhouette_scores as follows:')\n",
    "print('KMeans, 2 clusters: ', silhoueette_kmeans)\n",
    "print('KMeans, 6 clusters: ', silhouette_kmeans6)\n",
    "print('Minibatch, random initiation: ', silhoueette_minibatch_random)\n",
    "print('Minibatch, k-means++ initiation: ', silhoueette_minibatch_kmeans)\n",
    "print('MeanShift: ', silhoueette_mean_shift)\n",
    "print('SpectralClustering: ', silhoueette_spectral_cluster)\n",
    "print('AffinityPropagation: ', silhoueette_affinity_prop)"
   ]
  },
  {
   "cell_type": "code",
   "execution_count": 45,
   "metadata": {
    "slideshow": {
     "slide_type": "notes"
    }
   },
   "outputs": [],
   "source": [
    "# Make sure the number of rows divides evenly into four samples.\n",
    "rows = df.shape[0] - df.shape[0] % 4\n",
    "df = df.iloc[:rows, :]\n",
    "\n",
    "X = df.iloc[:, :8]\n",
    "y = df.iloc[:, 8]\n",
    "\n",
    "scaler = StandardScaler()\n",
    "X_std = scaler.fit_transform(X)\n",
    "\n",
    "# Data frame to store features and predicted cluster memberships.\n",
    "ypred = pd.DataFrame()\n",
    "\n",
    "# Create the two-feature PCA for graphing purposes.\n",
    "pca = PCA(n_components=2)\n",
    "X_pca = pca.fit_transform(X_std)"
   ]
  },
  {
   "cell_type": "code",
   "execution_count": 46,
   "metadata": {
    "slideshow": {
     "slide_type": "notes"
    }
   },
   "outputs": [],
   "source": [
    "# Split the data into four equally-sized samples. First break in half:\n",
    "X_half1, X_half2, X_pcahalf1, X_pcahalf2 = train_test_split(\n",
    "    X_std,\n",
    "    X_pca,\n",
    "    test_size=0.5,\n",
    "    random_state=42)\n",
    "\n",
    "# Then halve the halves.\n",
    "X1, X2, X_pca1, X_pca2 = train_test_split(\n",
    "    X_half1,\n",
    "    X_pcahalf1,\n",
    "    test_size=0.5,\n",
    "    random_state=42)\n",
    "X3, X4, X_pca3, X_pca4 = train_test_split(\n",
    "    X_half2,\n",
    "    X_pcahalf2,\n",
    "    test_size=0.5,\n",
    "    random_state=42)\n",
    "\n",
    "# Pass a list of tuples and a counter that increments each time \n",
    "# through the loop. The tuples are the data to be used by k-means,\n",
    "# and the PCA-derived features for graphing. Use k-means to fit a\n",
    "# model to the data, then store the predicted values and the two-feature\n",
    "# PCA solution in the data frame.\n",
    "for counter, data in enumerate([\n",
    "    (X1, X_pca1),\n",
    "    (X2, X_pca2),\n",
    "    (X3, X_pca3),\n",
    "    (X4, X_pca4)]):\n",
    "    \n",
    "    # Put the features into ypred.\n",
    "    ypred['pca_f1' + '_sample' + str(counter)] = data[1][:, 0]\n",
    "    ypred['pca_f2' + '_sample' + str(counter)] = data[1][:, 1]\n",
    "    \n",
    "    nclust = 2 \n",
    "# Generate cluster predictions and store them for clusters 2 \n",
    "    pred = KMeans(n_clusters=nclust, init='k-means++', random_state=42).fit_predict(data[0])\n",
    "    ypred['clust' + str(nclust) + '_sample' + str(counter)] = pred"
   ]
  },
  {
   "cell_type": "code",
   "execution_count": 47,
   "metadata": {
    "slideshow": {
     "slide_type": "notes"
    }
   },
   "outputs": [
    {
     "data": {
      "text/html": [
       "<div>\n",
       "<style scoped>\n",
       "    .dataframe tbody tr th:only-of-type {\n",
       "        vertical-align: middle;\n",
       "    }\n",
       "\n",
       "    .dataframe tbody tr th {\n",
       "        vertical-align: top;\n",
       "    }\n",
       "\n",
       "    .dataframe thead th {\n",
       "        text-align: right;\n",
       "    }\n",
       "</style>\n",
       "<table border=\"1\" class=\"dataframe\">\n",
       "  <thead>\n",
       "    <tr style=\"text-align: right;\">\n",
       "      <th></th>\n",
       "      <th>pca_f1_sample0</th>\n",
       "      <th>pca_f2_sample0</th>\n",
       "      <th>clust2_sample0</th>\n",
       "      <th>pca_f1_sample1</th>\n",
       "      <th>pca_f2_sample1</th>\n",
       "      <th>clust2_sample1</th>\n",
       "      <th>pca_f1_sample2</th>\n",
       "      <th>pca_f2_sample2</th>\n",
       "      <th>clust2_sample2</th>\n",
       "      <th>pca_f1_sample3</th>\n",
       "      <th>pca_f2_sample3</th>\n",
       "      <th>clust2_sample3</th>\n",
       "    </tr>\n",
       "  </thead>\n",
       "  <tbody>\n",
       "    <tr>\n",
       "      <th>0</th>\n",
       "      <td>-0.588303</td>\n",
       "      <td>0.270394</td>\n",
       "      <td>0</td>\n",
       "      <td>0.001121</td>\n",
       "      <td>0.408778</td>\n",
       "      <td>0</td>\n",
       "      <td>3.165809</td>\n",
       "      <td>-3.314720</td>\n",
       "      <td>1</td>\n",
       "      <td>1.758840</td>\n",
       "      <td>0.516259</td>\n",
       "      <td>0</td>\n",
       "    </tr>\n",
       "    <tr>\n",
       "      <th>1</th>\n",
       "      <td>-1.128355</td>\n",
       "      <td>-0.710362</td>\n",
       "      <td>0</td>\n",
       "      <td>-0.650756</td>\n",
       "      <td>0.956585</td>\n",
       "      <td>0</td>\n",
       "      <td>0.459520</td>\n",
       "      <td>-2.639234</td>\n",
       "      <td>0</td>\n",
       "      <td>-0.661268</td>\n",
       "      <td>-0.114247</td>\n",
       "      <td>0</td>\n",
       "    </tr>\n",
       "    <tr>\n",
       "      <th>2</th>\n",
       "      <td>-0.381449</td>\n",
       "      <td>0.766446</td>\n",
       "      <td>0</td>\n",
       "      <td>-0.818574</td>\n",
       "      <td>-0.897137</td>\n",
       "      <td>0</td>\n",
       "      <td>-4.623472</td>\n",
       "      <td>3.477752</td>\n",
       "      <td>0</td>\n",
       "      <td>-0.067448</td>\n",
       "      <td>0.582022</td>\n",
       "      <td>0</td>\n",
       "    </tr>\n",
       "    <tr>\n",
       "      <th>3</th>\n",
       "      <td>-0.434124</td>\n",
       "      <td>-0.072929</td>\n",
       "      <td>0</td>\n",
       "      <td>-1.283544</td>\n",
       "      <td>0.739116</td>\n",
       "      <td>0</td>\n",
       "      <td>2.737269</td>\n",
       "      <td>-3.349925</td>\n",
       "      <td>1</td>\n",
       "      <td>5.908476</td>\n",
       "      <td>1.933604</td>\n",
       "      <td>1</td>\n",
       "    </tr>\n",
       "    <tr>\n",
       "      <th>4</th>\n",
       "      <td>0.152861</td>\n",
       "      <td>-0.023546</td>\n",
       "      <td>0</td>\n",
       "      <td>-1.769431</td>\n",
       "      <td>-0.360816</td>\n",
       "      <td>0</td>\n",
       "      <td>-1.130472</td>\n",
       "      <td>-0.973593</td>\n",
       "      <td>0</td>\n",
       "      <td>1.159226</td>\n",
       "      <td>-2.589655</td>\n",
       "      <td>0</td>\n",
       "    </tr>\n",
       "  </tbody>\n",
       "</table>\n",
       "</div>"
      ],
      "text/plain": [
       "   pca_f1_sample0  pca_f2_sample0  clust2_sample0  pca_f1_sample1  \\\n",
       "0       -0.588303        0.270394               0        0.001121   \n",
       "1       -1.128355       -0.710362               0       -0.650756   \n",
       "2       -0.381449        0.766446               0       -0.818574   \n",
       "3       -0.434124       -0.072929               0       -1.283544   \n",
       "4        0.152861       -0.023546               0       -1.769431   \n",
       "\n",
       "   pca_f2_sample1  clust2_sample1  pca_f1_sample2  pca_f2_sample2  \\\n",
       "0        0.408778               0        3.165809       -3.314720   \n",
       "1        0.956585               0        0.459520       -2.639234   \n",
       "2       -0.897137               0       -4.623472        3.477752   \n",
       "3        0.739116               0        2.737269       -3.349925   \n",
       "4       -0.360816               0       -1.130472       -0.973593   \n",
       "\n",
       "   clust2_sample2  pca_f1_sample3  pca_f2_sample3  clust2_sample3  \n",
       "0               1        1.758840        0.516259               0  \n",
       "1               0       -0.661268       -0.114247               0  \n",
       "2               0       -0.067448        0.582022               0  \n",
       "3               1        5.908476        1.933604               1  \n",
       "4               0        1.159226       -2.589655               0  "
      ]
     },
     "execution_count": 47,
     "metadata": {},
     "output_type": "execute_result"
    }
   ],
   "source": [
    "ypred.head()"
   ]
  },
  {
   "cell_type": "code",
   "execution_count": 48,
   "metadata": {
    "slideshow": {
     "slide_type": "slide"
    }
   },
   "outputs": [
    {
     "data": {
      "image/png": "[encoded data removed]",
      "text/plain": [
       "<Figure size 432x288 with 4 Axes>"
      ]
     },
     "metadata": {
      "needs_background": "light"
     },
     "output_type": "display_data"
    },
    {
     "name": "stdout",
     "output_type": "stream",
     "text": [
      "\n",
      "\n"
     ]
    }
   ],
   "source": [
    "cluster = 2\n",
    "\n",
    "#Make a grid of subplots.\n",
    "f, axarr = plt.subplots(2, 2)\n",
    "    \n",
    "#Make a plot for each sample.\n",
    "for i in range(4):\n",
    "    \n",
    "    # PCA-created features\n",
    "    x_sub = ypred['pca_f1_sample{}'.format(i)]\n",
    "    y_sub = ypred['pca_f2_sample{}'.format(i)]\n",
    "        \n",
    "    # Cluster assignments.\n",
    "    c = ypred['clust{}_sample{}'.format(cluster, i)]\n",
    "        \n",
    "    # Assign the subplot to its place on the grid.\n",
    "    rows = int(np.floor(i / 2))\n",
    "    cols = i % 2\n",
    "    axarr[rows, cols].scatter(x_sub, y_sub, c=c)\n",
    "    axarr[rows, cols].set_title('sample {}'.format(i))\n",
    "    \n",
    "    \n",
    "# Space out the plots so that the headings don't overlap axis values.\n",
    "plt.suptitle('{} Clusters'.format(cluster), fontsize=20)\n",
    "plt.tight_layout()\n",
    "plt.show()\n",
    "print('\\n')"
   ]
  },
  {
   "cell_type": "code",
   "execution_count": 49,
   "metadata": {
    "slideshow": {
     "slide_type": "slide"
    }
   },
   "outputs": [
    {
     "data": {
      "text/html": [
       "<div>\n",
       "<style scoped>\n",
       "    .dataframe tbody tr th:only-of-type {\n",
       "        vertical-align: middle;\n",
       "    }\n",
       "\n",
       "    .dataframe tbody tr th {\n",
       "        vertical-align: top;\n",
       "    }\n",
       "\n",
       "    .dataframe thead th {\n",
       "        text-align: right;\n",
       "    }\n",
       "</style>\n",
       "<table border=\"1\" class=\"dataframe\">\n",
       "  <thead>\n",
       "    <tr style=\"text-align: right;\">\n",
       "      <th>col_0</th>\n",
       "      <th>0</th>\n",
       "      <th>1</th>\n",
       "    </tr>\n",
       "    <tr>\n",
       "      <th>column_i</th>\n",
       "      <th></th>\n",
       "      <th></th>\n",
       "    </tr>\n",
       "  </thead>\n",
       "  <tbody>\n",
       "    <tr>\n",
       "      <th>0</th>\n",
       "      <td>15482</td>\n",
       "      <td>775</td>\n",
       "    </tr>\n",
       "    <tr>\n",
       "      <th>1</th>\n",
       "      <td>358</td>\n",
       "      <td>1281</td>\n",
       "    </tr>\n",
       "  </tbody>\n",
       "</table>\n",
       "</div>"
      ],
      "text/plain": [
       "col_0         0     1\n",
       "column_i             \n",
       "0         15482   775\n",
       "1           358  1281"
      ]
     },
     "execution_count": 49,
     "metadata": {},
     "output_type": "execute_result"
    }
   ],
   "source": [
    "# Get predicted clusters.\n",
    "full_pred = KMeans(n_clusters=2, random_state=42).fit_predict(X_std)\n",
    "\n",
    "pd.crosstab(y, full_pred) "
   ]
  },
  {
   "cell_type": "markdown",
   "metadata": {
    "slideshow": {
     "slide_type": "slide"
    }
   },
   "source": [
    "## modeling with knn"
   ]
  },
  {
   "cell_type": "code",
   "execution_count": 50,
   "metadata": {
    "slideshow": {
     "slide_type": "skip"
    }
   },
   "outputs": [],
   "source": [
    "from sklearn.neighbors import KNeighborsClassifier\n",
    "from math import sqrt\n",
    "from sklearn.metrics import mean_squared_error"
   ]
  },
  {
   "cell_type": "code",
   "execution_count": 51,
   "metadata": {
    "slideshow": {
     "slide_type": "slide"
    }
   },
   "outputs": [
    {
     "data": {
      "image/png": "[encoded data removed]",
      "text/plain": [
       "<Figure size 432x288 with 1 Axes>"
      ]
     },
     "metadata": {
      "needs_background": "light"
     },
     "output_type": "display_data"
    }
   ],
   "source": [
    "from matplotlib.colors import ListedColormap\n",
    "\n",
    "X = df.iloc[:, :8]\n",
    "y = df.iloc[:, 8]\n",
    "\n",
    "n_neighbors = 6\n",
    "\n",
    "X = X.iloc[:,:2].values\n",
    "y = y\n",
    "h = 4.0\n",
    "\n",
    "\n",
    "cmap_light = ListedColormap(['#FFAAAA', '#AAFFAA', '#00AAFF'])\n",
    "cmap_bold = ListedColormap(['#FF0000', '#00FF00', '#00AAFF'])\n",
    "\n",
    "clf = KNeighborsClassifier(n_neighbors, weights='uniform')\n",
    "clf.fit(X, y)\n",
    "\n",
    "x_min, x_max = X[:, 0].min() - 1,  X[:, 0].max() + 1\n",
    "y_min, y_max = X[:, 1].min() - 1,  X[:, 1].max() + 1\n",
    "xx, yy = np.meshgrid(np.arange(x_min, x_max, h),\n",
    "                     np.arange(y_min, y_max, h))\n",
    "\n",
    "Z = clf.predict(np.c_[xx.ravel(), yy.ravel()])\n",
    "\n",
    "Z = Z.reshape(xx.shape)\n",
    "plt.figure()\n",
    "plt.pcolormesh(xx, yy, Z, cmap=cmap_light)\n",
    "\n",
    "plt.scatter(X[:, 0], X[:, 1], c=y, cmap=cmap_bold)\n",
    "plt.xlim(xx.min(), xx.max())\n",
    "plt.ylim(yy.min(), yy.max())\n",
    "plt.title('Mesh visualization')\n",
    "plt.show()"
   ]
  },
  {
   "cell_type": "code",
   "execution_count": 52,
   "metadata": {
    "slideshow": {
     "slide_type": "notes"
    }
   },
   "outputs": [],
   "source": [
    "# Define the features and the outcome.\n",
    "X = df.iloc[:, :8]\n",
    "y = df.iloc[:, 8]\n",
    "\n",
    "#normalize data\n",
    "from sklearn.preprocessing import StandardScaler\n",
    "scaler = StandardScaler()\n",
    "X_std = scaler.fit_transform(X)\n",
    "\n",
    "X_train, X_test, y_train, y_test = train_test_split(\n",
    "    X_std,\n",
    "    y,\n",
    "    test_size=0.9,\n",
    "    random_state=42)"
   ]
  },
  {
   "cell_type": "code",
   "execution_count": 53,
   "metadata": {
    "slideshow": {
     "slide_type": "notes"
    }
   },
   "outputs": [
    {
     "name": "stdout",
     "output_type": "stream",
     "text": [
      "RMSE value for k=  1 is: 0.17985045145497347\n",
      "RMSE value for k=  2 is: 0.16109453646931432\n",
      "RMSE value for k=  3 is: 0.15500587291128723\n",
      "RMSE value for k=  4 is: 0.15560551102236928\n",
      "RMSE value for k=  5 is: 0.1552060096930452\n",
      "RMSE value for k=  6 is: 0.1569957601830869\n",
      "RMSE value for k=  7 is: 0.15400128764965743\n",
      "RMSE value for k=  8 is: 0.15580487755003117\n",
      "RMSE value for k=  9 is: 0.15500587291128723\n",
      "RMSE value for k=  10 is: 0.15758782674752478\n",
      "RMSE value for k=  11 is: 0.15620284723421415\n",
      "RMSE value for k=  12 is: 0.15837380582153718\n",
      "RMSE value for k=  13 is: 0.1569957601830869\n",
      "RMSE value for k=  14 is: 0.15856969186526623\n",
      "RMSE value for k=  15 is: 0.15778468856912387\n",
      "RMSE value for k=  16 is: 0.1599341765639168\n",
      "RMSE value for k=  17 is: 0.15876533622328587\n",
      "RMSE value for k=  18 is: 0.16167159337312723\n",
      "RMSE value for k=  19 is: 0.1595455145639735\n",
      "RMSE value for k=  20 is: 0.16109453646931432\n"
     ]
    }
   ],
   "source": [
    "rmse_val = [] #to store rmse values for different k\n",
    "for K in range(20):\n",
    "    K = K+1\n",
    "    model = KNeighborsClassifier(n_neighbors = K)\n",
    "\n",
    "    model.fit(X_train, y_train)  #fit the model\n",
    "    pred=model.predict(X_test) #make prediction on test set\n",
    "    error = sqrt(mean_squared_error(y_test, pred)) #calculate rmse\n",
    "    rmse_val.append(error) #store rmse values\n",
    "    print('RMSE value for k= ' , K , 'is:', error)"
   ]
  },
  {
   "cell_type": "code",
   "execution_count": 54,
   "metadata": {
    "slideshow": {
     "slide_type": "slide"
    }
   },
   "outputs": [
    {
     "data": {
      "text/plain": [
       "<matplotlib.axes._subplots.AxesSubplot at 0x17be0c7a6a0>"
      ]
     },
     "execution_count": 54,
     "metadata": {},
     "output_type": "execute_result"
    },
    {
     "data": {
      "image/png": "[encoded data removed]",
      "text/plain": [
       "<Figure size 432x288 with 1 Axes>"
      ]
     },
     "metadata": {
      "needs_background": "light"
     },
     "output_type": "display_data"
    }
   ],
   "source": [
    "#plotting the rmse values against k values\n",
    "curve = pd.DataFrame(rmse_val) #elbow curve \n",
    "curve.plot()"
   ]
  },
  {
   "cell_type": "code",
   "execution_count": 55,
   "metadata": {
    "slideshow": {
     "slide_type": "slide"
    }
   },
   "outputs": [
    {
     "data": {
      "text/plain": [
       "KNeighborsClassifier(algorithm='auto', leaf_size=30, metric='minkowski',\n",
       "           metric_params=None, n_jobs=None, n_neighbors=6, p=2,\n",
       "           weights='uniform')"
      ]
     },
     "execution_count": 55,
     "metadata": {},
     "output_type": "execute_result"
    }
   ],
   "source": [
    "neighbors = KNeighborsClassifier(n_neighbors=6)\n",
    "\n",
    "neighbors.fit(X_train, y_train)"
   ]
  },
  {
   "cell_type": "code",
   "execution_count": 56,
   "metadata": {
    "slideshow": {
     "slide_type": "slide"
    }
   },
   "outputs": [
    {
     "name": "stdout",
     "output_type": "stream",
     "text": [
      "knn_train_accuracy:  0.9815539407490218\n",
      "knn_test_accuracy:  0.9753523312845347\n"
     ]
    }
   ],
   "source": [
    "knn_train_accuracy = neighbors.score(X_train, y_train) \n",
    "knn_test_accuracy = neighbors.score(X_test, y_test) \n",
    "\n",
    "print('knn_train_accuracy: ' , knn_train_accuracy)\n",
    "print('knn_test_accuracy: ' , knn_test_accuracy)"
   ]
  },
  {
   "cell_type": "code",
   "execution_count": 57,
   "metadata": {
    "slideshow": {
     "slide_type": "slide"
    }
   },
   "outputs": [
    {
     "name": "stdout",
     "output_type": "stream",
     "text": [
      "[0.97039106 0.96955307 0.97597094 0.97373568 0.97288988]\n",
      "cv_scores mean:0.972508127731128\n"
     ]
    }
   ],
   "source": [
    "from sklearn.model_selection import cross_val_score\n",
    "\n",
    "#train model with cv of 5 \n",
    "cv_scores = cross_val_score(neighbors, X, y, cv=5)#print each cv score (accuracy) and average them\n",
    "print(cv_scores)\n",
    "print('cv_scores mean:{}'.format(np.mean(cv_scores)))"
   ]
  },
  {
   "cell_type": "markdown",
   "metadata": {
    "slideshow": {
     "slide_type": "slide"
    }
   },
   "source": [
    "### tuning with gird search"
   ]
  },
  {
   "cell_type": "code",
   "execution_count": 58,
   "metadata": {
    "slideshow": {
     "slide_type": "slide"
    }
   },
   "outputs": [
    {
     "name": "stdout",
     "output_type": "stream",
     "text": [
      "Parameters currently in use:\n",
      "\n",
      "{'algorithm': 'auto',\n",
      " 'leaf_size': 30,\n",
      " 'metric': 'minkowski',\n",
      " 'metric_params': None,\n",
      " 'n_jobs': None,\n",
      " 'n_neighbors': 6,\n",
      " 'p': 2,\n",
      " 'weights': 'uniform'}\n"
     ]
    }
   ],
   "source": [
    "from pprint import pprint\n",
    "# Look at parameters used by our current forest\n",
    "print('Parameters currently in use:\\n')\n",
    "pprint(neighbors.get_params())"
   ]
  },
  {
   "cell_type": "code",
   "execution_count": 59,
   "metadata": {
    "slideshow": {
     "slide_type": "notes"
    }
   },
   "outputs": [
    {
     "data": {
      "text/plain": [
       "GridSearchCV(cv=5, error_score='raise-deprecating',\n",
       "       estimator=KNeighborsClassifier(algorithm='auto', leaf_size=30, metric='minkowski',\n",
       "           metric_params=None, n_jobs=None, n_neighbors=5, p=2,\n",
       "           weights='uniform'),\n",
       "       fit_params=None, iid='warn', n_jobs=None,\n",
       "       param_grid={'n_neighbors': [1, 2, 3, 4, 5, 6, 7, 8, 9], 'weights': ['uniform', 'distance'], 'metric': ['minkowski', 'euclidean', 'manhattan']},\n",
       "       pre_dispatch='2*n_jobs', refit=True, return_train_score='warn',\n",
       "       scoring=None, verbose=0)"
      ]
     },
     "execution_count": 59,
     "metadata": {},
     "output_type": "execute_result"
    }
   ],
   "source": [
    "from sklearn.model_selection import GridSearchCV\n",
    "#create new a knn model\n",
    "knn2 = KNeighborsClassifier()\n",
    "#create a dictionary of all values we want to test for n_neighbors\n",
    "param_grid = {'n_neighbors': [1, 2, 3, 4, 5, 6, 7, 8, 9],\n",
    "              'weights': ['uniform', 'distance'],\n",
    "              'metric': ['minkowski', 'euclidean', 'manhattan']}\n",
    "\n",
    "#use gridsearch to test values \n",
    "knn_gscv = GridSearchCV(knn2, param_grid, cv = 5)\n",
    "#fit model to data\n",
    "knn_gscv.fit(X, y)"
   ]
  },
  {
   "cell_type": "code",
   "execution_count": 60,
   "metadata": {
    "slideshow": {
     "slide_type": "slide"
    }
   },
   "outputs": [
    {
     "name": "stdout",
     "output_type": "stream",
     "text": [
      "Best Hyper Parameters:\n",
      " {'metric': 'manhattan', 'n_neighbors': 5, 'weights': 'distance'}\n"
     ]
    }
   ],
   "source": [
    "print(\"Best Hyper Parameters:\\n\",knn_gscv.best_params_)\n"
   ]
  },
  {
   "cell_type": "code",
   "execution_count": 61,
   "metadata": {
    "slideshow": {
     "slide_type": "slide"
    }
   },
   "outputs": [
    {
     "name": "stdout",
     "output_type": "stream",
     "text": [
      "Accuracy: 0.09126466753585398\n",
      "Confusion Metrix:\n",
      " [[    0     0]\n",
      " [14637  1470]]\n"
     ]
    }
   ],
   "source": [
    "#Prediction\n",
    "prediction=knn_gscv.predict(X_test)\n",
    "#importing the metrics module\n",
    "from sklearn import metrics\n",
    "#evaluation(Accuracy)\n",
    "print(\"Accuracy:\",metrics.accuracy_score(prediction,y_test))\n",
    "#evaluation(Confusion Metrix)\n",
    "print(\"Confusion Metrix:\\n\",metrics.confusion_matrix(prediction,y_test))"
   ]
  },
  {
   "cell_type": "code",
   "execution_count": 62,
   "metadata": {
    "slideshow": {
     "slide_type": "slide"
    }
   },
   "outputs": [
    {
     "data": {
      "text/plain": [
       "0.9741841752346894"
      ]
     },
     "execution_count": 62,
     "metadata": {},
     "output_type": "execute_result"
    }
   ],
   "source": [
    "#check mean score for the top performing value of n_neighbors\n",
    "knn_gscv.best_score_"
   ]
  },
  {
   "cell_type": "code",
   "execution_count": 63,
   "metadata": {
    "slideshow": {
     "slide_type": "notes"
    }
   },
   "outputs": [
    {
     "data": {
      "text/plain": [
       "KNeighborsClassifier(algorithm='auto', leaf_size=30, metric='manhattan',\n",
       "           metric_params=None, n_jobs=None, n_neighbors=5, p=2,\n",
       "           weights='distance')"
      ]
     },
     "execution_count": 63,
     "metadata": {},
     "output_type": "execute_result"
    }
   ],
   "source": [
    "gscv_fit = KNeighborsClassifier(n_neighbors=5, metric='manhattan', weights='distance')\n",
    "\n",
    "gscv_fit.fit(X_train, y_train)"
   ]
  },
  {
   "cell_type": "code",
   "execution_count": 64,
   "metadata": {
    "slideshow": {
     "slide_type": "slide"
    }
   },
   "outputs": [
    {
     "name": "stdout",
     "output_type": "stream",
     "text": [
      "gscv_fit_train_accuracy:  1.0\n",
      "gscv_fit_test_accuracy:  0.9756006705159248\n"
     ]
    }
   ],
   "source": [
    "gscv_fit_train_accuracy = gscv_fit.score(X_train, y_train) \n",
    "gscv_fit_test_accuracy = gscv_fit.score(X_test, y_test) \n",
    "\n",
    "print('gscv_fit_train_accuracy: ' , gscv_fit_train_accuracy)\n",
    "print('gscv_fit_test_accuracy: ' , gscv_fit_test_accuracy)"
   ]
  },
  {
   "cell_type": "code",
   "execution_count": 65,
   "metadata": {
    "slideshow": {
     "slide_type": "slide"
    }
   },
   "outputs": [
    {
     "name": "stdout",
     "output_type": "stream",
     "text": [
      "[0.97150838 0.97430168 0.97625035 0.97373568 0.97512577]\n",
      "gscv_cv_scores mean:0.9741843708137872\n"
     ]
    }
   ],
   "source": [
    "from sklearn.model_selection import cross_val_score\n",
    "\n",
    "#train model with cv of 5 \n",
    "gscv_cv_scores = cross_val_score(gscv_fit, X, y, cv=5)\n",
    "#print each cv score (accuracy) and average them\n",
    "print(gscv_cv_scores)\n",
    "print('gscv_cv_scores mean:{}'.format(np.mean(gscv_cv_scores)))"
   ]
  },
  {
   "cell_type": "markdown",
   "metadata": {
    "slideshow": {
     "slide_type": "slide"
    }
   },
   "source": [
    "### tune with randomized search"
   ]
  },
  {
   "cell_type": "code",
   "execution_count": 66,
   "metadata": {
    "slideshow": {
     "slide_type": "notes"
    }
   },
   "outputs": [
    {
     "name": "stdout",
     "output_type": "stream",
     "text": [
      "{'metric': ['minkowski', 'euclidean', 'manhattan'],\n",
      " 'n_neighbors': [1, 2, 3, 4, 5, 6, 7, 8, 9],\n",
      " 'weights': ['uniform', 'distance']}\n"
     ]
    }
   ],
   "source": [
    "from sklearn.model_selection import RandomizedSearchCV\n",
    "\n",
    "random_grid = {'n_neighbors': [1, 2, 3, 4, 5, 6, 7, 8, 9],\n",
    "              'weights': ['uniform', 'distance'],\n",
    "              'metric': ['minkowski', 'euclidean', 'manhattan']}\n",
    "\n",
    "pprint(random_grid)"
   ]
  },
  {
   "cell_type": "code",
   "execution_count": 67,
   "metadata": {
    "slideshow": {
     "slide_type": "notes"
    }
   },
   "outputs": [
    {
     "data": {
      "text/plain": [
       "RandomizedSearchCV(cv=5, error_score='raise-deprecating',\n",
       "          estimator=KNeighborsClassifier(algorithm='auto', leaf_size=30, metric='minkowski',\n",
       "           metric_params=None, n_jobs=None, n_neighbors=5, p=2,\n",
       "           weights='uniform'),\n",
       "          fit_params=None, iid='warn', n_iter=10, n_jobs=None,\n",
       "          param_distributions={'n_neighbors': [1, 2, 3, 4, 5, 6, 7, 8, 9], 'weights': ['uniform', 'distance'], 'metric': ['minkowski', 'euclidean', 'manhattan']},\n",
       "          pre_dispatch='2*n_jobs', random_state=None, refit=True,\n",
       "          return_train_score='warn', scoring=None, verbose=0)"
      ]
     },
     "execution_count": 67,
     "metadata": {},
     "output_type": "execute_result"
    }
   ],
   "source": [
    "# Use the random grid to search for best hyperparameters\n",
    "# First create the base model to tune\n",
    "knn = KNeighborsClassifier()\n",
    "\n",
    "knn_random = RandomizedSearchCV(knn, random_grid, cv = 5)\n",
    "# Fit the random search model\n",
    "knn_random.fit(X_train, y_train)"
   ]
  },
  {
   "cell_type": "code",
   "execution_count": 68,
   "metadata": {
    "slideshow": {
     "slide_type": "slide"
    }
   },
   "outputs": [
    {
     "data": {
      "text/plain": [
       "{'weights': 'distance', 'n_neighbors': 7, 'metric': 'manhattan'}"
      ]
     },
     "execution_count": 68,
     "metadata": {},
     "output_type": "execute_result"
    }
   ],
   "source": [
    "knn_random.best_params_"
   ]
  },
  {
   "cell_type": "code",
   "execution_count": 69,
   "metadata": {
    "slideshow": {
     "slide_type": "slide"
    }
   },
   "outputs": [
    {
     "data": {
      "text/plain": [
       "0.9782001117942984"
      ]
     },
     "execution_count": 69,
     "metadata": {},
     "output_type": "execute_result"
    }
   ],
   "source": [
    "#check mean score for the top performing value of n_neighbors\n",
    "knn_random.best_score_"
   ]
  },
  {
   "cell_type": "code",
   "execution_count": 70,
   "metadata": {
    "slideshow": {
     "slide_type": "notes"
    }
   },
   "outputs": [
    {
     "data": {
      "text/plain": [
       "KNeighborsClassifier(algorithm='auto', leaf_size=30, metric='minkowski',\n",
       "           metric_params=None, n_jobs=None, n_neighbors=8, p=2,\n",
       "           weights='distance')"
      ]
     },
     "execution_count": 70,
     "metadata": {},
     "output_type": "execute_result"
    }
   ],
   "source": [
    "knn_random_fit = KNeighborsClassifier(n_neighbors=8, metric='minkowski', weights='distance')\n",
    "\n",
    "knn_random_fit.fit(X_train, y_train)"
   ]
  },
  {
   "cell_type": "code",
   "execution_count": 71,
   "metadata": {
    "slideshow": {
     "slide_type": "slide"
    }
   },
   "outputs": [
    {
     "name": "stdout",
     "output_type": "stream",
     "text": [
      "knn_random_fit_train_accuracy:  1.0\n",
      "knn_random_fit_test_accuracy:  0.9761594337865525\n"
     ]
    }
   ],
   "source": [
    "knn_random_fit_train_accuracy = knn_random_fit.score(X_train, y_train) \n",
    "knn_random_fit_test_accuracy = knn_random_fit.score(X_test, y_test) \n",
    "\n",
    "print('knn_random_fit_train_accuracy: ' , knn_random_fit_train_accuracy)\n",
    "print('knn_random_fit_test_accuracy: ' , knn_random_fit_test_accuracy)"
   ]
  },
  {
   "cell_type": "code",
   "execution_count": 72,
   "metadata": {
    "slideshow": {
     "slide_type": "slide"
    }
   },
   "outputs": [
    {
     "name": "stdout",
     "output_type": "stream",
     "text": [
      "[0.97067039 0.97011173 0.97345627 0.97261805 0.97344885]\n",
      "knn_random_cv_scores mean:0.9720610598899807\n"
     ]
    }
   ],
   "source": [
    "#train model with cv of 5 \n",
    "knn_random_cv_scores = cross_val_score(knn_random_fit, X, y, cv=5)\n",
    "#print each cv score (accuracy) and average them\n",
    "print(knn_random_cv_scores)\n",
    "print('knn_random_cv_scores mean:{}'.format(np.mean(knn_random_cv_scores)))"
   ]
  },
  {
   "cell_type": "code",
   "execution_count": 73,
   "metadata": {
    "slideshow": {
     "slide_type": "slide"
    }
   },
   "outputs": [
    {
     "name": "stdout",
     "output_type": "stream",
     "text": [
      "Model Performance\n",
      "Average Error: 0.0246 degrees.\n",
      "Accuracy = -inf%.\n",
      "Model Performance\n",
      "Average Error: 0.0244 degrees.\n",
      "Accuracy = -inf%.\n",
      "Model Performance\n",
      "Average Error: 0.0238 degrees.\n",
      "Accuracy = -inf%.\n",
      "Improvement of nan%.\n"
     ]
    },
    {
     "name": "stderr",
     "output_type": "stream",
     "text": [
      "C:\\Users\\katec\\Anaconda3\\lib\\site-packages\\ipykernel_launcher.py:22: RuntimeWarning: invalid value encountered in double_scalars\n"
     ]
    }
   ],
   "source": [
    "def evaluate(model, X_test, y_test):\n",
    "    predictions = model.predict(X_test)\n",
    "    errors = abs(predictions - y_test)\n",
    "    mape = 100 * np.mean(errors / y_test)\n",
    "    accuracy = 100 - mape\n",
    "    print('Model Performance')\n",
    "    print('Average Error: {:0.4f} degrees.'.format(np.mean(errors)))\n",
    "    print('Accuracy = {:0.2f}%.'.format(accuracy))\n",
    "    \n",
    "    return accuracy\n",
    "\n",
    "base_model = KNeighborsClassifier(n_neighbors=6)\n",
    "base_model.fit(X_train, y_train)\n",
    "base_accuracy = evaluate(base_model, X_test, y_test)\n",
    "\n",
    "best_gscv = gscv_fit\n",
    "gscv_accuracy = evaluate(best_gscv, X_test, y_test)\n",
    "\n",
    "best_random = knn_random_fit\n",
    "random_accuracy = evaluate(best_random, X_test, y_test)\n",
    "\n",
    "print('Improvement of {:0.2f}%.'.format( 100 * (random_accuracy - base_accuracy) / base_accuracy))"
   ]
  },
  {
   "cell_type": "code",
   "execution_count": 74,
   "metadata": {
    "slideshow": {
     "slide_type": "slide"
    }
   },
   "outputs": [
    {
     "data": {
      "image/png": "[encoded data removed]",
      "text/plain": [
       "<Figure size 432x288 with 1 Axes>"
      ]
     },
     "metadata": {
      "needs_background": "light"
     },
     "output_type": "display_data"
    }
   ],
   "source": [
    "#plot knn model with 'best paramenters'\n",
    "X = df.iloc[:, :8]\n",
    "y = df.iloc[:, 8]\n",
    "\n",
    "n_neighbors = 5\n",
    "\n",
    "X = X.iloc[:, :2].values\n",
    "y = y\n",
    "#h = 0.02\n",
    "\n",
    "cmap_light = ListedColormap(['#FFAAAA', '#AAFFAA', '#00AAFF'])\n",
    "cmap_bold = ListedColormap(['#FF0000', '#00FF00', '#00AAFF'])\n",
    "\n",
    "clf = KNeighborsClassifier(n_neighbors, weights='distance', metric= 'manhattan')\n",
    "clf.fit(X, y)\n",
    "\n",
    "x_min, x_max = X[:, 0].min() - 1,  X[:, 0].max() + 1\n",
    "y_min, y_max = X[:, 1].min() - 1,  X[:, 1].max() + 1\n",
    "xx, yy = np.meshgrid(np.arange(x_min, x_max, h),\n",
    "                     np.arange(y_min, y_max, h))\n",
    "\n",
    "Z = clf.predict(np.c_[xx.ravel(), yy.ravel()])\n",
    "\n",
    "Z = Z.reshape(xx.shape)\n",
    "plt.figure()\n",
    "plt.pcolormesh(xx, yy, Z, cmap=cmap_light)\n",
    "\n",
    "plt.scatter(X[:, 0], X[:, 1], c=y, cmap=cmap_bold)\n",
    "plt.xlim(xx.min(), xx.max())\n",
    "plt.ylim(yy.min(), yy.max())\n",
    "plt.title('Mesh visualization of best parameters')\n",
    "plt.show()"
   ]
  },
  {
   "cell_type": "markdown",
   "metadata": {
    "slideshow": {
     "slide_type": "slide"
    }
   },
   "source": [
    "## data story"
   ]
  },
  {
   "cell_type": "code",
   "execution_count": 75,
   "metadata": {
    "slideshow": {
     "slide_type": "notes"
    }
   },
   "outputs": [
    {
     "data": {
      "text/html": [
       "<div>\n",
       "<style scoped>\n",
       "    .dataframe tbody tr th:only-of-type {\n",
       "        vertical-align: middle;\n",
       "    }\n",
       "\n",
       "    .dataframe tbody tr th {\n",
       "        vertical-align: top;\n",
       "    }\n",
       "\n",
       "    .dataframe thead tr th {\n",
       "        text-align: left;\n",
       "    }\n",
       "\n",
       "    .dataframe thead tr:last-of-type th {\n",
       "        text-align: right;\n",
       "    }\n",
       "</style>\n",
       "<table border=\"1\" class=\"dataframe\">\n",
       "  <thead>\n",
       "    <tr>\n",
       "      <th></th>\n",
       "      <th colspan=\"8\" halign=\"left\">column_a</th>\n",
       "      <th colspan=\"8\" halign=\"left\">column_b</th>\n",
       "      <th colspan=\"8\" halign=\"left\">column_c</th>\n",
       "      <th colspan=\"8\" halign=\"left\">column_d</th>\n",
       "      <th colspan=\"8\" halign=\"left\">column_e</th>\n",
       "      <th colspan=\"8\" halign=\"left\">column_f</th>\n",
       "      <th colspan=\"8\" halign=\"left\">column_g</th>\n",
       "      <th colspan=\"8\" halign=\"left\">column_h</th>\n",
       "    </tr>\n",
       "    <tr>\n",
       "      <th></th>\n",
       "      <th>count</th>\n",
       "      <th>mean</th>\n",
       "      <th>std</th>\n",
       "      <th>min</th>\n",
       "      <th>25%</th>\n",
       "      <th>50%</th>\n",
       "      <th>75%</th>\n",
       "      <th>max</th>\n",
       "      <th>count</th>\n",
       "      <th>mean</th>\n",
       "      <th>std</th>\n",
       "      <th>min</th>\n",
       "      <th>25%</th>\n",
       "      <th>50%</th>\n",
       "      <th>75%</th>\n",
       "      <th>max</th>\n",
       "      <th>count</th>\n",
       "      <th>mean</th>\n",
       "      <th>std</th>\n",
       "      <th>min</th>\n",
       "      <th>25%</th>\n",
       "      <th>50%</th>\n",
       "      <th>75%</th>\n",
       "      <th>max</th>\n",
       "      <th>count</th>\n",
       "      <th>mean</th>\n",
       "      <th>std</th>\n",
       "      <th>min</th>\n",
       "      <th>25%</th>\n",
       "      <th>50%</th>\n",
       "      <th>75%</th>\n",
       "      <th>max</th>\n",
       "      <th>count</th>\n",
       "      <th>mean</th>\n",
       "      <th>std</th>\n",
       "      <th>min</th>\n",
       "      <th>25%</th>\n",
       "      <th>50%</th>\n",
       "      <th>75%</th>\n",
       "      <th>max</th>\n",
       "      <th>count</th>\n",
       "      <th>mean</th>\n",
       "      <th>std</th>\n",
       "      <th>min</th>\n",
       "      <th>25%</th>\n",
       "      <th>50%</th>\n",
       "      <th>75%</th>\n",
       "      <th>max</th>\n",
       "      <th>count</th>\n",
       "      <th>mean</th>\n",
       "      <th>std</th>\n",
       "      <th>min</th>\n",
       "      <th>25%</th>\n",
       "      <th>50%</th>\n",
       "      <th>75%</th>\n",
       "      <th>max</th>\n",
       "      <th>count</th>\n",
       "      <th>mean</th>\n",
       "      <th>std</th>\n",
       "      <th>min</th>\n",
       "      <th>25%</th>\n",
       "      <th>50%</th>\n",
       "      <th>75%</th>\n",
       "      <th>max</th>\n",
       "    </tr>\n",
       "    <tr>\n",
       "      <th>column_i</th>\n",
       "      <th></th>\n",
       "      <th></th>\n",
       "      <th></th>\n",
       "      <th></th>\n",
       "      <th></th>\n",
       "      <th></th>\n",
       "      <th></th>\n",
       "      <th></th>\n",
       "      <th></th>\n",
       "      <th></th>\n",
       "      <th></th>\n",
       "      <th></th>\n",
       "      <th></th>\n",
       "      <th></th>\n",
       "      <th></th>\n",
       "      <th></th>\n",
       "      <th></th>\n",
       "      <th></th>\n",
       "      <th></th>\n",
       "      <th></th>\n",
       "      <th></th>\n",
       "      <th></th>\n",
       "      <th></th>\n",
       "      <th></th>\n",
       "      <th></th>\n",
       "      <th></th>\n",
       "      <th></th>\n",
       "      <th></th>\n",
       "      <th></th>\n",
       "      <th></th>\n",
       "      <th></th>\n",
       "      <th></th>\n",
       "      <th></th>\n",
       "      <th></th>\n",
       "      <th></th>\n",
       "      <th></th>\n",
       "      <th></th>\n",
       "      <th></th>\n",
       "      <th></th>\n",
       "      <th></th>\n",
       "      <th></th>\n",
       "      <th></th>\n",
       "      <th></th>\n",
       "      <th></th>\n",
       "      <th></th>\n",
       "      <th></th>\n",
       "      <th></th>\n",
       "      <th></th>\n",
       "      <th></th>\n",
       "      <th></th>\n",
       "      <th></th>\n",
       "      <th></th>\n",
       "      <th></th>\n",
       "      <th></th>\n",
       "      <th></th>\n",
       "      <th></th>\n",
       "      <th></th>\n",
       "      <th></th>\n",
       "      <th></th>\n",
       "      <th></th>\n",
       "      <th></th>\n",
       "      <th></th>\n",
       "      <th></th>\n",
       "      <th></th>\n",
       "    </tr>\n",
       "  </thead>\n",
       "  <tbody>\n",
       "    <tr>\n",
       "      <th>0</th>\n",
       "      <td>16257.0</td>\n",
       "      <td>116.566513</td>\n",
       "      <td>17.470768</td>\n",
       "      <td>17.210938</td>\n",
       "      <td>105.257812</td>\n",
       "      <td>117.265625</td>\n",
       "      <td>128.289062</td>\n",
       "      <td>192.617188</td>\n",
       "      <td>16257.0</td>\n",
       "      <td>47.336971</td>\n",
       "      <td>6.175733</td>\n",
       "      <td>28.698714</td>\n",
       "      <td>43.383825</td>\n",
       "      <td>47.484634</td>\n",
       "      <td>51.315050</td>\n",
       "      <td>98.778911</td>\n",
       "      <td>16257.0</td>\n",
       "      <td>0.210367</td>\n",
       "      <td>0.334495</td>\n",
       "      <td>-1.876011</td>\n",
       "      <td>0.008648</td>\n",
       "      <td>0.186605</td>\n",
       "      <td>0.392854</td>\n",
       "      <td>4.785786</td>\n",
       "      <td>16257.0</td>\n",
       "      <td>0.380887</td>\n",
       "      <td>1.027847</td>\n",
       "      <td>-1.791886</td>\n",
       "      <td>-0.222009</td>\n",
       "      <td>0.124358</td>\n",
       "      <td>0.663490</td>\n",
       "      <td>24.872429</td>\n",
       "      <td>16257.0</td>\n",
       "      <td>8.852646</td>\n",
       "      <td>24.372246</td>\n",
       "      <td>0.213211</td>\n",
       "      <td>1.857023</td>\n",
       "      <td>2.635452</td>\n",
       "      <td>4.226589</td>\n",
       "      <td>223.392140</td>\n",
       "      <td>16257.0</td>\n",
       "      <td>23.286045</td>\n",
       "      <td>16.649099</td>\n",
       "      <td>7.370432</td>\n",
       "      <td>14.138799</td>\n",
       "      <td>17.618420</td>\n",
       "      <td>24.513579</td>\n",
       "      <td>110.642211</td>\n",
       "      <td>16257.0</td>\n",
       "      <td>8.863247</td>\n",
       "      <td>4.238083</td>\n",
       "      <td>-3.13927</td>\n",
       "      <td>6.615413</td>\n",
       "      <td>8.760010</td>\n",
       "      <td>10.935336</td>\n",
       "      <td>34.539844</td>\n",
       "      <td>16257.0</td>\n",
       "      <td>113.625976</td>\n",
       "      <td>106.724745</td>\n",
       "      <td>-1.976976</td>\n",
       "      <td>47.595199</td>\n",
       "      <td>90.674592</td>\n",
       "      <td>145.838781</td>\n",
       "      <td>1191.000837</td>\n",
       "    </tr>\n",
       "    <tr>\n",
       "      <th>1</th>\n",
       "      <td>1639.0</td>\n",
       "      <td>56.690608</td>\n",
       "      <td>30.007707</td>\n",
       "      <td>5.812500</td>\n",
       "      <td>31.777344</td>\n",
       "      <td>54.296875</td>\n",
       "      <td>79.277344</td>\n",
       "      <td>139.257812</td>\n",
       "      <td>1639.0</td>\n",
       "      <td>38.710598</td>\n",
       "      <td>8.033614</td>\n",
       "      <td>24.772042</td>\n",
       "      <td>32.284803</td>\n",
       "      <td>37.341297</td>\n",
       "      <td>43.759278</td>\n",
       "      <td>83.796909</td>\n",
       "      <td>1639.0</td>\n",
       "      <td>3.130655</td>\n",
       "      <td>1.872861</td>\n",
       "      <td>-0.094888</td>\n",
       "      <td>1.556038</td>\n",
       "      <td>2.961258</td>\n",
       "      <td>4.586930</td>\n",
       "      <td>8.069522</td>\n",
       "      <td>1639.0</td>\n",
       "      <td>15.553576</td>\n",
       "      <td>13.997200</td>\n",
       "      <td>-1.139069</td>\n",
       "      <td>3.805492</td>\n",
       "      <td>11.609644</td>\n",
       "      <td>24.881853</td>\n",
       "      <td>68.101622</td>\n",
       "      <td>1639.0</td>\n",
       "      <td>49.825995</td>\n",
       "      <td>45.287932</td>\n",
       "      <td>0.486622</td>\n",
       "      <td>12.759615</td>\n",
       "      <td>33.494983</td>\n",
       "      <td>78.313545</td>\n",
       "      <td>199.577759</td>\n",
       "      <td>1639.0</td>\n",
       "      <td>56.468963</td>\n",
       "      <td>19.731080</td>\n",
       "      <td>7.658623</td>\n",
       "      <td>43.333643</td>\n",
       "      <td>59.367088</td>\n",
       "      <td>70.985965</td>\n",
       "      <td>109.655345</td>\n",
       "      <td>1639.0</td>\n",
       "      <td>2.757069</td>\n",
       "      <td>3.105945</td>\n",
       "      <td>-1.86232</td>\n",
       "      <td>0.756451</td>\n",
       "      <td>1.918327</td>\n",
       "      <td>3.709978</td>\n",
       "      <td>30.883882</td>\n",
       "      <td>1639.0</td>\n",
       "      <td>17.931728</td>\n",
       "      <td>50.896263</td>\n",
       "      <td>-1.874683</td>\n",
       "      <td>-0.228294</td>\n",
       "      <td>2.585145</td>\n",
       "      <td>13.469687</td>\n",
       "      <td>1017.383180</td>\n",
       "    </tr>\n",
       "  </tbody>\n",
       "</table>\n",
       "</div>"
      ],
      "text/plain": [
       "         column_a                                                            \\\n",
       "            count        mean        std        min         25%         50%   \n",
       "column_i                                                                      \n",
       "0         16257.0  116.566513  17.470768  17.210938  105.257812  117.265625   \n",
       "1          1639.0   56.690608  30.007707   5.812500   31.777344   54.296875   \n",
       "\n",
       "                                 column_b                                  \\\n",
       "                 75%         max    count       mean       std        min   \n",
       "column_i                                                                    \n",
       "0         128.289062  192.617188  16257.0  47.336971  6.175733  28.698714   \n",
       "1          79.277344  139.257812   1639.0  38.710598  8.033614  24.772042   \n",
       "\n",
       "                                                     column_c            \\\n",
       "                25%        50%        75%        max    count      mean   \n",
       "column_i                                                                  \n",
       "0         43.383825  47.484634  51.315050  98.778911  16257.0  0.210367   \n",
       "1         32.284803  37.341297  43.759278  83.796909   1639.0  3.130655   \n",
       "\n",
       "                                                                     column_d  \\\n",
       "               std       min       25%       50%       75%       max    count   \n",
       "column_i                                                                        \n",
       "0         0.334495 -1.876011  0.008648  0.186605  0.392854  4.785786  16257.0   \n",
       "1         1.872861 -0.094888  1.556038  2.961258  4.586930  8.069522   1639.0   \n",
       "\n",
       "                                                                          \\\n",
       "               mean        std       min       25%        50%        75%   \n",
       "column_i                                                                   \n",
       "0          0.380887   1.027847 -1.791886 -0.222009   0.124358   0.663490   \n",
       "1         15.553576  13.997200 -1.139069  3.805492  11.609644  24.881853   \n",
       "\n",
       "                    column_e                                             \\\n",
       "                max    count       mean        std       min        25%   \n",
       "column_i                                                                  \n",
       "0         24.872429  16257.0   8.852646  24.372246  0.213211   1.857023   \n",
       "1         68.101622   1639.0  49.825995  45.287932  0.486622  12.759615   \n",
       "\n",
       "                                           column_f                        \\\n",
       "                50%        75%         max    count       mean        std   \n",
       "column_i                                                                    \n",
       "0          2.635452   4.226589  223.392140  16257.0  23.286045  16.649099   \n",
       "1         33.494983  78.313545  199.577759   1639.0  56.468963  19.731080   \n",
       "\n",
       "                                                                column_g  \\\n",
       "               min        25%        50%        75%         max    count   \n",
       "column_i                                                                   \n",
       "0         7.370432  14.138799  17.618420  24.513579  110.642211  16257.0   \n",
       "1         7.658623  43.333643  59.367088  70.985965  109.655345   1639.0   \n",
       "\n",
       "                                                                      \\\n",
       "              mean       std      min       25%       50%        75%   \n",
       "column_i                                                               \n",
       "0         8.863247  4.238083 -3.13927  6.615413  8.760010  10.935336   \n",
       "1         2.757069  3.105945 -1.86232  0.756451  1.918327   3.709978   \n",
       "\n",
       "                    column_h                                               \\\n",
       "                max    count        mean         std       min        25%   \n",
       "column_i                                                                    \n",
       "0         34.539844  16257.0  113.625976  106.724745 -1.976976  47.595199   \n",
       "1         30.883882   1639.0   17.931728   50.896263 -1.874683  -0.228294   \n",
       "\n",
       "                                              \n",
       "                50%         75%          max  \n",
       "column_i                                      \n",
       "0         90.674592  145.838781  1191.000837  \n",
       "1          2.585145   13.469687  1017.383180  "
      ]
     },
     "execution_count": 75,
     "metadata": {},
     "output_type": "execute_result"
    }
   ],
   "source": [
    "df.groupby('column_i').describe()"
   ]
  },
  {
   "cell_type": "code",
   "execution_count": 76,
   "metadata": {
    "slideshow": {
     "slide_type": "slide"
    }
   },
   "outputs": [
    {
     "data": {
      "image/png": "[encoded data removed]",
      "text/plain": [
       "<Figure size 1440x720 with 9 Axes>"
      ]
     },
     "metadata": {
      "needs_background": "light"
     },
     "output_type": "display_data"
    },
    {
     "data": {
      "image/png": "[encoded data removed]",
      "text/plain": [
       "<Figure size 1440x720 with 9 Axes>"
      ]
     },
     "metadata": {
      "needs_background": "light"
     },
     "output_type": "display_data"
    }
   ],
   "source": [
    "df.groupby('column_i').hist(grid=False, alpha=0.5, figsize=(20, 10))\n",
    "#plt.subplots_adjust(wspace=1, hspace=1)\n",
    "plt.tight_layout()\n",
    "plt.show()"
   ]
  },
  {
   "cell_type": "markdown",
   "metadata": {
    "slideshow": {
     "slide_type": "notes"
    }
   },
   "source": [
    "#### create 'target' column with names for plotting"
   ]
  },
  {
   "cell_type": "code",
   "execution_count": 77,
   "metadata": {
    "slideshow": {
     "slide_type": "notes"
    }
   },
   "outputs": [],
   "source": [
    "df_plot = df.copy()"
   ]
  },
  {
   "cell_type": "code",
   "execution_count": 78,
   "metadata": {
    "slideshow": {
     "slide_type": "notes"
    }
   },
   "outputs": [],
   "source": [
    "df_plot['target'] = np.where(df_plot['column_i']== 0, 'RFI', 'Pulsar')"
   ]
  },
  {
   "cell_type": "code",
   "execution_count": 79,
   "metadata": {
    "slideshow": {
     "slide_type": "notes"
    }
   },
   "outputs": [],
   "source": [
    "df_plot = df_plot.drop(['column_i'], axis=1)"
   ]
  },
  {
   "cell_type": "code",
   "execution_count": 80,
   "metadata": {
    "slideshow": {
     "slide_type": "notes"
    }
   },
   "outputs": [],
   "source": [
    "#create df where columns are grouped by target\n",
    "# this df creates some problems since it is 'grouped by'\n",
    "df_target = df_plot.groupby('target')"
   ]
  },
  {
   "cell_type": "code",
   "execution_count": 81,
   "metadata": {
    "slideshow": {
     "slide_type": "notes"
    }
   },
   "outputs": [],
   "source": [
    "df_plot.columns = df_plot.columns.str.replace('column_', 'feature_')"
   ]
  },
  {
   "cell_type": "code",
   "execution_count": 82,
   "metadata": {},
   "outputs": [
    {
     "data": {
      "text/html": [
       "<div>\n",
       "<style scoped>\n",
       "    .dataframe tbody tr th:only-of-type {\n",
       "        vertical-align: middle;\n",
       "    }\n",
       "\n",
       "    .dataframe tbody tr th {\n",
       "        vertical-align: top;\n",
       "    }\n",
       "\n",
       "    .dataframe thead tr th {\n",
       "        text-align: left;\n",
       "    }\n",
       "\n",
       "    .dataframe thead tr:last-of-type th {\n",
       "        text-align: right;\n",
       "    }\n",
       "</style>\n",
       "<table border=\"1\" class=\"dataframe\">\n",
       "  <thead>\n",
       "    <tr>\n",
       "      <th></th>\n",
       "      <th colspan=\"8\" halign=\"left\">feature_a</th>\n",
       "      <th colspan=\"8\" halign=\"left\">feature_b</th>\n",
       "      <th colspan=\"8\" halign=\"left\">feature_c</th>\n",
       "      <th colspan=\"8\" halign=\"left\">feature_d</th>\n",
       "      <th colspan=\"8\" halign=\"left\">feature_e</th>\n",
       "      <th colspan=\"8\" halign=\"left\">feature_f</th>\n",
       "      <th colspan=\"8\" halign=\"left\">feature_g</th>\n",
       "      <th colspan=\"8\" halign=\"left\">feature_h</th>\n",
       "    </tr>\n",
       "    <tr>\n",
       "      <th></th>\n",
       "      <th>count</th>\n",
       "      <th>mean</th>\n",
       "      <th>std</th>\n",
       "      <th>min</th>\n",
       "      <th>25%</th>\n",
       "      <th>50%</th>\n",
       "      <th>75%</th>\n",
       "      <th>max</th>\n",
       "      <th>count</th>\n",
       "      <th>mean</th>\n",
       "      <th>std</th>\n",
       "      <th>min</th>\n",
       "      <th>25%</th>\n",
       "      <th>50%</th>\n",
       "      <th>75%</th>\n",
       "      <th>max</th>\n",
       "      <th>count</th>\n",
       "      <th>mean</th>\n",
       "      <th>std</th>\n",
       "      <th>min</th>\n",
       "      <th>25%</th>\n",
       "      <th>50%</th>\n",
       "      <th>75%</th>\n",
       "      <th>max</th>\n",
       "      <th>count</th>\n",
       "      <th>mean</th>\n",
       "      <th>std</th>\n",
       "      <th>min</th>\n",
       "      <th>25%</th>\n",
       "      <th>50%</th>\n",
       "      <th>75%</th>\n",
       "      <th>max</th>\n",
       "      <th>count</th>\n",
       "      <th>mean</th>\n",
       "      <th>std</th>\n",
       "      <th>min</th>\n",
       "      <th>25%</th>\n",
       "      <th>50%</th>\n",
       "      <th>75%</th>\n",
       "      <th>max</th>\n",
       "      <th>count</th>\n",
       "      <th>mean</th>\n",
       "      <th>std</th>\n",
       "      <th>min</th>\n",
       "      <th>25%</th>\n",
       "      <th>50%</th>\n",
       "      <th>75%</th>\n",
       "      <th>max</th>\n",
       "      <th>count</th>\n",
       "      <th>mean</th>\n",
       "      <th>std</th>\n",
       "      <th>min</th>\n",
       "      <th>25%</th>\n",
       "      <th>50%</th>\n",
       "      <th>75%</th>\n",
       "      <th>max</th>\n",
       "      <th>count</th>\n",
       "      <th>mean</th>\n",
       "      <th>std</th>\n",
       "      <th>min</th>\n",
       "      <th>25%</th>\n",
       "      <th>50%</th>\n",
       "      <th>75%</th>\n",
       "      <th>max</th>\n",
       "    </tr>\n",
       "    <tr>\n",
       "      <th>target</th>\n",
       "      <th></th>\n",
       "      <th></th>\n",
       "      <th></th>\n",
       "      <th></th>\n",
       "      <th></th>\n",
       "      <th></th>\n",
       "      <th></th>\n",
       "      <th></th>\n",
       "      <th></th>\n",
       "      <th></th>\n",
       "      <th></th>\n",
       "      <th></th>\n",
       "      <th></th>\n",
       "      <th></th>\n",
       "      <th></th>\n",
       "      <th></th>\n",
       "      <th></th>\n",
       "      <th></th>\n",
       "      <th></th>\n",
       "      <th></th>\n",
       "      <th></th>\n",
       "      <th></th>\n",
       "      <th></th>\n",
       "      <th></th>\n",
       "      <th></th>\n",
       "      <th></th>\n",
       "      <th></th>\n",
       "      <th></th>\n",
       "      <th></th>\n",
       "      <th></th>\n",
       "      <th></th>\n",
       "      <th></th>\n",
       "      <th></th>\n",
       "      <th></th>\n",
       "      <th></th>\n",
       "      <th></th>\n",
       "      <th></th>\n",
       "      <th></th>\n",
       "      <th></th>\n",
       "      <th></th>\n",
       "      <th></th>\n",
       "      <th></th>\n",
       "      <th></th>\n",
       "      <th></th>\n",
       "      <th></th>\n",
       "      <th></th>\n",
       "      <th></th>\n",
       "      <th></th>\n",
       "      <th></th>\n",
       "      <th></th>\n",
       "      <th></th>\n",
       "      <th></th>\n",
       "      <th></th>\n",
       "      <th></th>\n",
       "      <th></th>\n",
       "      <th></th>\n",
       "      <th></th>\n",
       "      <th></th>\n",
       "      <th></th>\n",
       "      <th></th>\n",
       "      <th></th>\n",
       "      <th></th>\n",
       "      <th></th>\n",
       "      <th></th>\n",
       "    </tr>\n",
       "  </thead>\n",
       "  <tbody>\n",
       "    <tr>\n",
       "      <th>Pulsar</th>\n",
       "      <td>1639.0</td>\n",
       "      <td>56.690608</td>\n",
       "      <td>30.007707</td>\n",
       "      <td>5.812500</td>\n",
       "      <td>31.777344</td>\n",
       "      <td>54.296875</td>\n",
       "      <td>79.277344</td>\n",
       "      <td>139.257812</td>\n",
       "      <td>1639.0</td>\n",
       "      <td>38.710598</td>\n",
       "      <td>8.033614</td>\n",
       "      <td>24.772042</td>\n",
       "      <td>32.284803</td>\n",
       "      <td>37.341297</td>\n",
       "      <td>43.759278</td>\n",
       "      <td>83.796909</td>\n",
       "      <td>1639.0</td>\n",
       "      <td>3.130655</td>\n",
       "      <td>1.872861</td>\n",
       "      <td>-0.094888</td>\n",
       "      <td>1.556038</td>\n",
       "      <td>2.961258</td>\n",
       "      <td>4.586930</td>\n",
       "      <td>8.069522</td>\n",
       "      <td>1639.0</td>\n",
       "      <td>15.553576</td>\n",
       "      <td>13.997200</td>\n",
       "      <td>-1.139069</td>\n",
       "      <td>3.805492</td>\n",
       "      <td>11.609644</td>\n",
       "      <td>24.881853</td>\n",
       "      <td>68.101622</td>\n",
       "      <td>1639.0</td>\n",
       "      <td>49.825995</td>\n",
       "      <td>45.287932</td>\n",
       "      <td>0.486622</td>\n",
       "      <td>12.759615</td>\n",
       "      <td>33.494983</td>\n",
       "      <td>78.313545</td>\n",
       "      <td>199.577759</td>\n",
       "      <td>1639.0</td>\n",
       "      <td>56.468963</td>\n",
       "      <td>19.731080</td>\n",
       "      <td>7.658623</td>\n",
       "      <td>43.333643</td>\n",
       "      <td>59.367088</td>\n",
       "      <td>70.985965</td>\n",
       "      <td>109.655345</td>\n",
       "      <td>1639.0</td>\n",
       "      <td>2.757069</td>\n",
       "      <td>3.105945</td>\n",
       "      <td>-1.86232</td>\n",
       "      <td>0.756451</td>\n",
       "      <td>1.918327</td>\n",
       "      <td>3.709978</td>\n",
       "      <td>30.883882</td>\n",
       "      <td>1639.0</td>\n",
       "      <td>17.931728</td>\n",
       "      <td>50.896263</td>\n",
       "      <td>-1.874683</td>\n",
       "      <td>-0.228294</td>\n",
       "      <td>2.585145</td>\n",
       "      <td>13.469687</td>\n",
       "      <td>1017.383180</td>\n",
       "    </tr>\n",
       "    <tr>\n",
       "      <th>RFI</th>\n",
       "      <td>16257.0</td>\n",
       "      <td>116.566513</td>\n",
       "      <td>17.470768</td>\n",
       "      <td>17.210938</td>\n",
       "      <td>105.257812</td>\n",
       "      <td>117.265625</td>\n",
       "      <td>128.289062</td>\n",
       "      <td>192.617188</td>\n",
       "      <td>16257.0</td>\n",
       "      <td>47.336971</td>\n",
       "      <td>6.175733</td>\n",
       "      <td>28.698714</td>\n",
       "      <td>43.383825</td>\n",
       "      <td>47.484634</td>\n",
       "      <td>51.315050</td>\n",
       "      <td>98.778911</td>\n",
       "      <td>16257.0</td>\n",
       "      <td>0.210367</td>\n",
       "      <td>0.334495</td>\n",
       "      <td>-1.876011</td>\n",
       "      <td>0.008648</td>\n",
       "      <td>0.186605</td>\n",
       "      <td>0.392854</td>\n",
       "      <td>4.785786</td>\n",
       "      <td>16257.0</td>\n",
       "      <td>0.380887</td>\n",
       "      <td>1.027847</td>\n",
       "      <td>-1.791886</td>\n",
       "      <td>-0.222009</td>\n",
       "      <td>0.124358</td>\n",
       "      <td>0.663490</td>\n",
       "      <td>24.872429</td>\n",
       "      <td>16257.0</td>\n",
       "      <td>8.852646</td>\n",
       "      <td>24.372246</td>\n",
       "      <td>0.213211</td>\n",
       "      <td>1.857023</td>\n",
       "      <td>2.635452</td>\n",
       "      <td>4.226589</td>\n",
       "      <td>223.392140</td>\n",
       "      <td>16257.0</td>\n",
       "      <td>23.286045</td>\n",
       "      <td>16.649099</td>\n",
       "      <td>7.370432</td>\n",
       "      <td>14.138799</td>\n",
       "      <td>17.618420</td>\n",
       "      <td>24.513579</td>\n",
       "      <td>110.642211</td>\n",
       "      <td>16257.0</td>\n",
       "      <td>8.863247</td>\n",
       "      <td>4.238083</td>\n",
       "      <td>-3.13927</td>\n",
       "      <td>6.615413</td>\n",
       "      <td>8.760010</td>\n",
       "      <td>10.935336</td>\n",
       "      <td>34.539844</td>\n",
       "      <td>16257.0</td>\n",
       "      <td>113.625976</td>\n",
       "      <td>106.724745</td>\n",
       "      <td>-1.976976</td>\n",
       "      <td>47.595199</td>\n",
       "      <td>90.674592</td>\n",
       "      <td>145.838781</td>\n",
       "      <td>1191.000837</td>\n",
       "    </tr>\n",
       "  </tbody>\n",
       "</table>\n",
       "</div>"
      ],
      "text/plain": [
       "       feature_a                                                            \\\n",
       "           count        mean        std        min         25%         50%   \n",
       "target                                                                       \n",
       "Pulsar    1639.0   56.690608  30.007707   5.812500   31.777344   54.296875   \n",
       "RFI      16257.0  116.566513  17.470768  17.210938  105.257812  117.265625   \n",
       "\n",
       "                               feature_b                                  \\\n",
       "               75%         max     count       mean       std        min   \n",
       "target                                                                     \n",
       "Pulsar   79.277344  139.257812    1639.0  38.710598  8.033614  24.772042   \n",
       "RFI     128.289062  192.617188   16257.0  47.336971  6.175733  28.698714   \n",
       "\n",
       "                                                   feature_c            \\\n",
       "              25%        50%        75%        max     count      mean   \n",
       "target                                                                   \n",
       "Pulsar  32.284803  37.341297  43.759278  83.796909    1639.0  3.130655   \n",
       "RFI     43.383825  47.484634  51.315050  98.778911   16257.0  0.210367   \n",
       "\n",
       "                                                                   feature_d  \\\n",
       "             std       min       25%       50%       75%       max     count   \n",
       "target                                                                         \n",
       "Pulsar  1.872861 -0.094888  1.556038  2.961258  4.586930  8.069522    1639.0   \n",
       "RFI     0.334495 -1.876011  0.008648  0.186605  0.392854  4.785786   16257.0   \n",
       "\n",
       "                                                                        \\\n",
       "             mean        std       min       25%        50%        75%   \n",
       "target                                                                   \n",
       "Pulsar  15.553576  13.997200 -1.139069  3.805492  11.609644  24.881853   \n",
       "RFI      0.380887   1.027847 -1.791886 -0.222009   0.124358   0.663490   \n",
       "\n",
       "                  feature_e                                             \\\n",
       "              max     count       mean        std       min        25%   \n",
       "target                                                                   \n",
       "Pulsar  68.101622    1639.0  49.825995  45.287932  0.486622  12.759615   \n",
       "RFI     24.872429   16257.0   8.852646  24.372246  0.213211   1.857023   \n",
       "\n",
       "                                         feature_f                        \\\n",
       "              50%        75%         max     count       mean        std   \n",
       "target                                                                     \n",
       "Pulsar  33.494983  78.313545  199.577759    1639.0  56.468963  19.731080   \n",
       "RFI      2.635452   4.226589  223.392140   16257.0  23.286045  16.649099   \n",
       "\n",
       "                                                              feature_g  \\\n",
       "             min        25%        50%        75%         max     count   \n",
       "target                                                                    \n",
       "Pulsar  7.658623  43.333643  59.367088  70.985965  109.655345    1639.0   \n",
       "RFI     7.370432  14.138799  17.618420  24.513579  110.642211   16257.0   \n",
       "\n",
       "                                                                               \\\n",
       "            mean       std      min       25%       50%        75%        max   \n",
       "target                                                                          \n",
       "Pulsar  2.757069  3.105945 -1.86232  0.756451  1.918327   3.709978  30.883882   \n",
       "RFI     8.863247  4.238083 -3.13927  6.615413  8.760010  10.935336  34.539844   \n",
       "\n",
       "       feature_h                                                          \\\n",
       "           count        mean         std       min        25%        50%   \n",
       "target                                                                     \n",
       "Pulsar    1639.0   17.931728   50.896263 -1.874683  -0.228294   2.585145   \n",
       "RFI      16257.0  113.625976  106.724745 -1.976976  47.595199  90.674592   \n",
       "\n",
       "                                 \n",
       "               75%          max  \n",
       "target                           \n",
       "Pulsar   13.469687  1017.383180  \n",
       "RFI     145.838781  1191.000837  "
      ]
     },
     "execution_count": 82,
     "metadata": {},
     "output_type": "execute_result"
    }
   ],
   "source": [
    "df_plot.groupby('target').describe()"
   ]
  },
  {
   "cell_type": "code",
   "execution_count": 84,
   "metadata": {
    "slideshow": {
     "slide_type": "slide"
    }
   },
   "outputs": [
    {
     "data": {
      "text/plain": [
       "<matplotlib.axes._subplots.AxesSubplot at 0x17bda7a59b0>"
      ]
     },
     "execution_count": 84,
     "metadata": {},
     "output_type": "execute_result"
    },
    {
     "data": {
      "image/png": "[encoded data removed]",
      "text/plain": [
       "<Figure size 1080x504 with 1 Axes>"
      ]
     },
     "metadata": {
      "needs_background": "light"
     },
     "output_type": "display_data"
    }
   ],
   "source": [
    "# plot data\n",
    "fig, ax = plt.subplots(figsize=(15,7))\n",
    "plt.style.use('ggplot')\n",
    "df_plot.groupby(['target']).mean().plot(ax=ax, kind='bar')\n"
   ]
  },
  {
   "cell_type": "code",
   "execution_count": 85,
   "metadata": {
    "slideshow": {
     "slide_type": "slide"
    }
   },
   "outputs": [
    {
     "data": {
      "text/plain": [
       "Text(0.5, 1.0, 'features by target')"
      ]
     },
     "execution_count": 85,
     "metadata": {},
     "output_type": "execute_result"
    },
    {
     "data": {
      "image/png": "[encoded data removed]",
      "text/plain": [
       "<Figure size 432x288 with 1 Axes>"
      ]
     },
     "metadata": {},
     "output_type": "display_data"
    },
    {
     "data": {
      "image/png": "[encoded data removed]",
      "text/plain": [
       "<Figure size 432x288 with 1 Axes>"
      ]
     },
     "metadata": {},
     "output_type": "display_data"
    }
   ],
   "source": [
    "df_target.plot()\n",
    "plt.legend(loc='center right', bbox_to_anchor=(1.3, 0.5))\n",
    "plt.title('features by target')"
   ]
  },
  {
   "cell_type": "markdown",
   "metadata": {
    "slideshow": {
     "slide_type": "slide"
    }
   },
   "source": [
    "### observations on the data\n",
    "\n",
    "The Pulsar cluster demonstrates visible differences from the radio frequency interference (RFI) cluster. Specifically, features 'a' and 'h' are significantly higher in the RFI cluster than in the Pulsar cluster. When observed on the line graph above, the 'a' and 'h' features completely obscure the other features on the RFI plot. \n",
    "\n",
    "Conversely, the features 'e' and 'f' are much higher in the Pulsar cluster than the RFI cluster. Lastly, features 'c' and 'd', while low in the Pulsar cluster, barely register in the RFI cluster. \n",
    "\n",
    "While it's difficult to know exactly how each feature contributes to the accuracy of the clustering algorithm, it appears that the differences between features 'a' and 'h' could be sufficient to distinguish the target cluster (Pulsar) from the non-target cluster (RFI). "
   ]
  },
  {
   "cell_type": "markdown",
   "metadata": {
    "slideshow": {
     "slide_type": "slide"
    }
   },
   "source": [
    "## clustering algorithms "
   ]
  },
  {
   "cell_type": "markdown",
   "metadata": {
    "slideshow": {
     "slide_type": "slide"
    }
   },
   "source": [
    "### What are the advantages of each?\n",
    "\n",
    "**K-means:**\n",
    "    + simple to implement\n",
    "    + scales to large data sets\n",
    "    + speed\n",
    "    + generalizes to clusters of different shapes/sizes\n",
    "    - choosing k manually\n",
    "    - dependent on initial values; may not be consistent\n",
    "    - clustering outliers\n",
    "    \n",
    "**Mean-Shift:**\n",
    "    + does not require selection of number of clusters\n",
    "    + more versatile than k-means\n",
    "    + works where many clusters are suspected\n",
    "    + clusters can be different sizes\n",
    "    - selection of bandwidth\n",
    "    - slow (runtime increased with square of size of input)\n",
    "    \n",
    "**Spectral clustering:**\n",
    "    + can identify clusters with non-flat geometry\n",
    "    - provide number of clusters\n",
    "    - slow; works best with smaller k\n",
    "    \n",
    "**Affinity propagation:**\n",
    "    + clusters can be uneven in size \n",
    "    + use non-flat geometry\n",
    "    + chooses number of clusters based on data\n",
    "    - slow, memory intensive"
   ]
  },
  {
   "cell_type": "markdown",
   "metadata": {
    "slideshow": {
     "slide_type": "slide"
    }
   },
   "source": [
    "### How do clustering and modeling compare? \n",
    "The main difference between the clustering algorithms and clustering model is the difference between \"unsupervised\" and \"supervised\" learning. \n",
    "\n",
    "Unsupervised learning is the process of looking at data for structures *within the data* without them being tied down to a specific outcome. Supervised learning, on the other hand, IS tied to a specific outcome. The first is looking for insights into the data where the second is looking for insights into the outcome. \n",
    "\n",
    "I specifically chose data that was labeled in order to compare the two and help enhance my understanding of unsupervised learning. "
   ]
  },
  {
   "cell_type": "markdown",
   "metadata": {
    "slideshow": {
     "slide_type": "slide"
    }
   },
   "source": [
    "### Why would you want to use one over the other?\n",
    "Obviously the choice between algorithms vs models would be made on the type of data available and the purpose of the data exploration, as explained above. "
   ]
  },
  {
   "cell_type": "markdown",
   "metadata": {
    "slideshow": {
     "slide_type": "slide"
    }
   },
   "source": [
    "### Any weak points or shortcomings of your model.\n",
    "As this is an unsupervised learning Capstone, it is appropriate to discuss the weak points/shortcomings of the clustering algorithms rather than the knn-model. \n",
    "\n",
    "Based on the silhouette scores, the k-means algorithm with 2-clusters specified is the best performing algorithm, followed very closely by the minibatch algorithm with kmeans++ initiation. The main weakness of these two algorithms is the need to identify the number of clusters for the algorithm to identify. Although there is a process to help determine the number of clusters based on the error/inertia of the algorithm (sum of squared distances), the silhouette score does not improve with the selection of a k with lower error scores. For this data in particular, the algorithms perfom much worse than the knn-model. "
   ]
  },
  {
   "cell_type": "code",
   "execution_count": null,
   "metadata": {},
   "outputs": [],
   "source": [
    "pip install RISE"
   ]
  },
  {
   "cell_type": "code",
   "execution_count": null,
   "metadata": {},
   "outputs": [],
   "source": [
    "jupyter-nbextension install rise --py --sys-prefix"
   ]
  },
  {
   "cell_type": "code",
   "execution_count": null,
   "metadata": {},
   "outputs": [],
   "source": []
  }
 ],
 "metadata": {
  "celltoolbar": "Slideshow",
  "kernelspec": {
   "display_name": "Python 3",
   "language": "python",
   "name": "python3"
  },
  "language_info": {
   "codemirror_mode": {
    "name": "ipython",
    "version": 3
   },
   "file_extension": ".py",
   "mimetype": "text/x-python",
   "name": "python",
   "nbconvert_exporter": "python",
   "pygments_lexer": "ipython3",
   "version": "3.7.3"
  }
 },
 "nbformat": 4,
 "nbformat_minor": 2
}
