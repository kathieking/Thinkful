{
 "cells": [
  {
   "cell_type": "markdown",
   "metadata": {},
   "source": [
    "#### Assignments\n",
    "\n",
    "To help you find your bearings with regard to t-tests, calculate the t-values for the following numbers:\n",
    "\n",
    "1. 𝑦1¯=5, 𝑦2¯=8, 𝑠1=1, 𝑠2=3, 𝑁1=200, 𝑁2=500\n",
    "\n",
    "2. 𝑦1¯=1090, 𝑦2¯=999, 𝑠1=400, 𝑠2=30, 𝑁1=900, 𝑁2=100\n",
    "\n",
    "3. 𝑦1¯=45, 𝑦2¯=40, 𝑠1=45, 𝑠2=40, 𝑁1=2000, 𝑁2=2000"
   ]
  },
  {
   "cell_type": "code",
   "execution_count": 1,
   "metadata": {},
   "outputs": [],
   "source": [
    "import numpy as np\n",
    "import pandas as pd\n",
    "import matplotlib.pyplot as plt\n",
    "import seaborn as sns\n",
    "import scipy.stats as stats"
   ]
  },
  {
   "cell_type": "code",
   "execution_count": 20,
   "metadata": {},
   "outputs": [],
   "source": [
    "#sample 1\n",
    "y1 = 5\n",
    "y2 = 8\n",
    "std1 = 1\n",
    "std2 = 3\n",
    "n1 = 200\n",
    "n2 = 500"
   ]
  },
  {
   "cell_type": "code",
   "execution_count": 23,
   "metadata": {},
   "outputs": [
    {
     "name": "stdout",
     "output_type": "stream",
     "text": [
      "0.07071067811865475 0.13416407864998736\n"
     ]
    }
   ],
   "source": [
    "#calculate standard error\n",
    "\n",
    "se1 = std1/np.sqrt(n1)\n",
    "se2 = std2/np.sqrt(n2)\n",
    "print(se1, se2)"
   ]
  },
  {
   "cell_type": "code",
   "execution_count": 24,
   "metadata": {},
   "outputs": [
    {
     "data": {
      "text/plain": [
       "0.151657508881031"
      ]
     },
     "execution_count": 24,
     "metadata": {},
     "output_type": "execute_result"
    }
   ],
   "source": [
    "# standard error on the difference between the samples\n",
    "sed = np.sqrt(se1**2.0 + se2**2.0)\n",
    "sed"
   ]
  },
  {
   "cell_type": "code",
   "execution_count": 25,
   "metadata": {},
   "outputs": [
    {
     "data": {
      "text/plain": [
       "-19.781414201873613"
      ]
     },
     "execution_count": 25,
     "metadata": {},
     "output_type": "execute_result"
    }
   ],
   "source": [
    "# calculate the t statistic sample 1\n",
    "# 𝑦1¯=5, 𝑦2¯=8, 𝑠1=1, 𝑠2=3, 𝑁1=200, 𝑁2=500\n",
    "t_stat1 = (y1 - y2)/ sed\n",
    "t_stat1"
   ]
  },
  {
   "cell_type": "code",
   "execution_count": null,
   "metadata": {},
   "outputs": [],
   "source": []
  },
  {
   "cell_type": "code",
   "execution_count": 26,
   "metadata": {},
   "outputs": [],
   "source": [
    "#sample 2\n",
    "y1 = 1090\n",
    "y2 = 999\n",
    "std1 = 400\n",
    "std2 = 30\n",
    "n1 = 900\n",
    "n2 = 100"
   ]
  },
  {
   "cell_type": "code",
   "execution_count": 27,
   "metadata": {},
   "outputs": [
    {
     "name": "stdout",
     "output_type": "stream",
     "text": [
      "13.333333333333334 3.0\n"
     ]
    }
   ],
   "source": [
    "#calculate standard error\n",
    "\n",
    "se1 = std1/np.sqrt(n1)\n",
    "se2 = std2/np.sqrt(n2)\n",
    "print(se1, se2)"
   ]
  },
  {
   "cell_type": "code",
   "execution_count": 28,
   "metadata": {},
   "outputs": [
    {
     "data": {
      "text/plain": [
       "13.666666666666668"
      ]
     },
     "execution_count": 28,
     "metadata": {},
     "output_type": "execute_result"
    }
   ],
   "source": [
    "# standard error on the difference between the samples\n",
    "sed = np.sqrt(se1**2.0 + se2**2.0)\n",
    "sed"
   ]
  },
  {
   "cell_type": "code",
   "execution_count": 29,
   "metadata": {},
   "outputs": [
    {
     "data": {
      "text/plain": [
       "6.658536585365853"
      ]
     },
     "execution_count": 29,
     "metadata": {},
     "output_type": "execute_result"
    }
   ],
   "source": [
    "# calculate the t statistic sample 2\n",
    "# 𝑦1¯=1090, 𝑦2¯=999, 𝑠1=400, 𝑠2=30, 𝑁1=900, 𝑁2=100\n",
    "t_stat2 = (y1 - y2)/ sed\n",
    "t_stat2"
   ]
  },
  {
   "cell_type": "code",
   "execution_count": null,
   "metadata": {},
   "outputs": [],
   "source": []
  },
  {
   "cell_type": "code",
   "execution_count": 30,
   "metadata": {},
   "outputs": [],
   "source": [
    "#sample 3\n",
    "y1 = 45\n",
    "y2 = 40\n",
    "std1 = 45\n",
    "std2 = 40\n",
    "n1 = 2000\n",
    "n2 = 2000"
   ]
  },
  {
   "cell_type": "code",
   "execution_count": 31,
   "metadata": {},
   "outputs": [
    {
     "name": "stdout",
     "output_type": "stream",
     "text": [
      "1.0062305898749053 0.8944271909999159\n"
     ]
    }
   ],
   "source": [
    "#calculate standard error\n",
    "\n",
    "se1 = std1/np.sqrt(n1)\n",
    "se2 = std2/np.sqrt(n2)\n",
    "print(se1, se2)"
   ]
  },
  {
   "cell_type": "code",
   "execution_count": 32,
   "metadata": {},
   "outputs": [
    {
     "data": {
      "text/plain": [
       "1.346291201783626"
      ]
     },
     "execution_count": 32,
     "metadata": {},
     "output_type": "execute_result"
    }
   ],
   "source": [
    "# standard error on the difference between the samples\n",
    "sed = np.sqrt(se1**2.0 + se2**2.0)\n",
    "sed"
   ]
  },
  {
   "cell_type": "code",
   "execution_count": 33,
   "metadata": {},
   "outputs": [
    {
     "data": {
      "text/plain": [
       "3.7139067635410377"
      ]
     },
     "execution_count": 33,
     "metadata": {},
     "output_type": "execute_result"
    }
   ],
   "source": [
    "# calculate the t statistic sample 3\n",
    "# 𝑦1¯=45, 𝑦2¯=40, 𝑠1=45, 𝑠2=40, 𝑁1=2000, 𝑁2=2000\n",
    "t_stat2 = (y1 - y2)/ sed\n",
    "t_stat2"
   ]
  },
  {
   "cell_type": "code",
   "execution_count": null,
   "metadata": {},
   "outputs": [],
   "source": []
  }
 ],
 "metadata": {
  "kernelspec": {
   "display_name": "Python 3",
   "language": "python",
   "name": "python3"
  },
  "language_info": {
   "codemirror_mode": {
    "name": "ipython",
    "version": 3
   },
   "file_extension": ".py",
   "mimetype": "text/x-python",
   "name": "python",
   "nbconvert_exporter": "python",
   "pygments_lexer": "ipython3",
   "version": "3.7.3"
  }
 },
 "nbformat": 4,
 "nbformat_minor": 2
}
