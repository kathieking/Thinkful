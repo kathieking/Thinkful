{
 "cells": [
  {
   "cell_type": "markdown",
   "metadata": {},
   "source": [
    "### Checkpoint 12_6: challenge\n",
    "Determine the five most common journals and the total articles for each. \n",
    "Next, calculate the mean, median, and standard deviation of the open-access cost per article for each journal. \n",
    "bonus round, identify the open access prices paid by subject area"
   ]
  },
  {
   "cell_type": "markdown",
   "metadata": {},
   "source": [
    "data source: https://tf-assets-prod.s3.amazonaws.com/tf-curric/data-science/WELLCOME/WELLCOME_APCspend2013_forThinkful.csv"
   ]
  },
  {
   "cell_type": "markdown",
   "metadata": {},
   "source": [
    "Note: datafile was downloaded to my PC and then 'saved as: CSV/UTF-8(Comma deliminated)(* .csv)'. This 'copy' of the download was then read into Jupyter notebook as below; thus, original file remains unmodified. "
   ]
  },
  {
   "cell_type": "code",
   "execution_count": 1,
   "metadata": {},
   "outputs": [],
   "source": [
    "import numpy as np\n",
    "import pandas as pd\n",
    "import matplotlib.pyplot as plt\n",
    "import seaborn as sns\n",
    "%matplotlib inline"
   ]
  },
  {
   "cell_type": "code",
   "execution_count": 2,
   "metadata": {},
   "outputs": [],
   "source": [
    "df = pd.read_csv(r'C:\\Users\\katec\\Thinkful\\data_collections\\WELLCOME_APCspend2013_forThinkful.csv')"
   ]
  },
  {
   "cell_type": "code",
   "execution_count": null,
   "metadata": {},
   "outputs": [],
   "source": [
    "df.head()"
   ]
  },
  {
   "cell_type": "markdown",
   "metadata": {},
   "source": [
    "Noted multiple issues with 'PMID/PMCID' column, including: value for both 'PMID' and 'PMCID' listed in same cell; some values contain both alpha and numeric, some contain only alpha (no numeric), additional spaces. This would need to be addressed if this column was to be used for challenge. \n",
    "Also noted issues with the 'Publisher' column. \n",
    "The columns needed for this challenge are 'Journal title', 'Article title', and 'COST (£) charged to Wellcome (inc VAT when charged)'."
   ]
  },
  {
   "cell_type": "markdown",
   "metadata": {},
   "source": [
    "Issues for data cleaning from initial review:\n",
    "1. Find Nan, evaluate whether or not they can be filled in using existing data or should be dropped.\n",
    "\n",
    "2. Change name of 'Cost...' to shorter, more managable name.\n",
    "\n",
    "3. Remove £ (Alt156) from 'Cost' column. \n",
    "\n",
    "4. Noted journal name may appear several differen ways: 'PLOS ONE', 'Plos One', 'PLoS ONE', 'PLos One', etc. 'J...', \n",
    "'Journal...', etc. Will need to make names uniform. \n",
    "\n",
    "5. Check min/max of cost, noted examples of unlikely values. \n",
    "\n",
    "6. Convert 'Cost' column to numeric from null object. \n"
   ]
  },
  {
   "cell_type": "code",
   "execution_count": null,
   "metadata": {},
   "outputs": [],
   "source": [
    "df.info()"
   ]
  },
  {
   "cell_type": "code",
   "execution_count": 3,
   "metadata": {},
   "outputs": [
    {
     "data": {
      "text/plain": [
       "['PMID/PMCID',\n",
       " 'Publisher',\n",
       " 'Journal title',\n",
       " 'Article title',\n",
       " 'COST (£) charged to Wellcome (inc VAT when charged)']"
      ]
     },
     "execution_count": 3,
     "metadata": {},
     "output_type": "execute_result"
    }
   ],
   "source": [
    "list(df.columns)"
   ]
  },
  {
   "cell_type": "markdown",
   "metadata": {},
   "source": [
    "##### change column name to a shorter, more managable name"
   ]
  },
  {
   "cell_type": "code",
   "execution_count": 4,
   "metadata": {},
   "outputs": [],
   "source": [
    "#must remember 'inplace'\n",
    "df.rename({'COST (£) charged to Wellcome (inc VAT when charged': 'Cost'}, inplace=True, axis = 1)"
   ]
  },
  {
   "cell_type": "code",
   "execution_count": null,
   "metadata": {},
   "outputs": [],
   "source": [
    "#also works\n",
    "#df.rename(columns={'COST (£) charged to Wellcome (inc VAT when charged)':'Cost'}, inplace=True)"
   ]
  },
  {
   "cell_type": "code",
   "execution_count": null,
   "metadata": {},
   "outputs": [],
   "source": [
    "df.head()"
   ]
  },
  {
   "cell_type": "code",
   "execution_count": 5,
   "metadata": {},
   "outputs": [],
   "source": [
    "#use this to change column names; fix all names at one time\n",
    "df.columns = ['PMID/PMCID',\n",
    " 'Publisher',\n",
    " 'Journal_title',\n",
    " 'Article_title',\n",
    " 'Cost']"
   ]
  },
  {
   "cell_type": "code",
   "execution_count": null,
   "metadata": {},
   "outputs": [],
   "source": [
    "df.info()"
   ]
  },
  {
   "cell_type": "markdown",
   "metadata": {},
   "source": [
    "##### remove pound sterling symbol and convert 'Cost' to numeric"
   ]
  },
  {
   "cell_type": "code",
   "execution_count": 6,
   "metadata": {},
   "outputs": [],
   "source": [
    "#need to use .str to replace!\n",
    "#emails.str.replace('.com', '')\n",
    "                   \n",
    "df['Cost'] = df['Cost'].str.replace('£', '').str.replace('$','')"
   ]
  },
  {
   "cell_type": "code",
   "execution_count": null,
   "metadata": {},
   "outputs": [],
   "source": [
    "df.head()"
   ]
  },
  {
   "cell_type": "code",
   "execution_count": null,
   "metadata": {},
   "outputs": [],
   "source": [
    "#returns EOL error\n",
    "#df['Cost'] = df['Cost'].replace({'£'': ''}, regex=True)"
   ]
  },
  {
   "cell_type": "code",
   "execution_count": null,
   "metadata": {},
   "outputs": [],
   "source": [
    "#this method changes to float, but removes all the values\n",
    "#for column in ['Cost']:\n",
    "#    df[column] = pd.to_numeric(df[column], errors = 'coerce', downcast = 'float')"
   ]
  },
  {
   "cell_type": "code",
   "execution_count": null,
   "metadata": {},
   "outputs": [],
   "source": [
    "#df['Cost'] = df['Cost'].apply(lambda x: x.replace('£','')).apply(lambda x: x.replace('$','')).astype(float)"
   ]
  },
  {
   "cell_type": "code",
   "execution_count": 7,
   "metadata": {},
   "outputs": [],
   "source": [
    "#use this method to change null object to float\n",
    "df['Cost'] = df['Cost'].apply(lambda x: float(x))"
   ]
  },
  {
   "cell_type": "code",
   "execution_count": 8,
   "metadata": {},
   "outputs": [
    {
     "data": {
      "text/html": [
       "<div>\n",
       "<style scoped>\n",
       "    .dataframe tbody tr th:only-of-type {\n",
       "        vertical-align: middle;\n",
       "    }\n",
       "\n",
       "    .dataframe tbody tr th {\n",
       "        vertical-align: top;\n",
       "    }\n",
       "\n",
       "    .dataframe thead th {\n",
       "        text-align: right;\n",
       "    }\n",
       "</style>\n",
       "<table border=\"1\" class=\"dataframe\">\n",
       "  <thead>\n",
       "    <tr style=\"text-align: right;\">\n",
       "      <th></th>\n",
       "      <th>PMID/PMCID</th>\n",
       "      <th>Publisher</th>\n",
       "      <th>Journal_title</th>\n",
       "      <th>Article_title</th>\n",
       "      <th>Cost</th>\n",
       "    </tr>\n",
       "  </thead>\n",
       "  <tbody>\n",
       "    <tr>\n",
       "      <th>0</th>\n",
       "      <td>NaN</td>\n",
       "      <td>CUP</td>\n",
       "      <td>Psychological Medicine</td>\n",
       "      <td>Reduced parahippocampal cortical thickness in ...</td>\n",
       "      <td>0.00</td>\n",
       "    </tr>\n",
       "    <tr>\n",
       "      <th>1</th>\n",
       "      <td>PMC3679557</td>\n",
       "      <td>ACS</td>\n",
       "      <td>Biomacromolecules</td>\n",
       "      <td>Structural characterization of a Model Gram-ne...</td>\n",
       "      <td>2381.04</td>\n",
       "    </tr>\n",
       "    <tr>\n",
       "      <th>2</th>\n",
       "      <td>23043264  PMC3506128</td>\n",
       "      <td>ACS</td>\n",
       "      <td>J Med Chem</td>\n",
       "      <td>Fumaroylamino-4,5-epoxymorphinans and related ...</td>\n",
       "      <td>642.56</td>\n",
       "    </tr>\n",
       "    <tr>\n",
       "      <th>3</th>\n",
       "      <td>23438330 PMC3646402</td>\n",
       "      <td>ACS</td>\n",
       "      <td>J Med Chem</td>\n",
       "      <td>Orvinols with mixed kappa/mu opioid receptor a...</td>\n",
       "      <td>669.64</td>\n",
       "    </tr>\n",
       "    <tr>\n",
       "      <th>4</th>\n",
       "      <td>23438216 PMC3601604</td>\n",
       "      <td>ACS</td>\n",
       "      <td>J Org Chem</td>\n",
       "      <td>Regioselective opening of myo-inositol orthoes...</td>\n",
       "      <td>685.88</td>\n",
       "    </tr>\n",
       "  </tbody>\n",
       "</table>\n",
       "</div>"
      ],
      "text/plain": [
       "              PMID/PMCID Publisher           Journal_title  \\\n",
       "0                    NaN       CUP  Psychological Medicine   \n",
       "1             PMC3679557       ACS       Biomacromolecules   \n",
       "2  23043264  PMC3506128        ACS              J Med Chem   \n",
       "3    23438330 PMC3646402       ACS              J Med Chem   \n",
       "4   23438216 PMC3601604        ACS              J Org Chem   \n",
       "\n",
       "                                       Article_title     Cost  \n",
       "0  Reduced parahippocampal cortical thickness in ...     0.00  \n",
       "1  Structural characterization of a Model Gram-ne...  2381.04  \n",
       "2  Fumaroylamino-4,5-epoxymorphinans and related ...   642.56  \n",
       "3  Orvinols with mixed kappa/mu opioid receptor a...   669.64  \n",
       "4  Regioselective opening of myo-inositol orthoes...   685.88  "
      ]
     },
     "execution_count": 8,
     "metadata": {},
     "output_type": "execute_result"
    }
   ],
   "source": [
    "df.head()"
   ]
  },
  {
   "cell_type": "code",
   "execution_count": 9,
   "metadata": {},
   "outputs": [
    {
     "name": "stdout",
     "output_type": "stream",
     "text": [
      "<class 'pandas.core.frame.DataFrame'>\n",
      "RangeIndex: 2127 entries, 0 to 2126\n",
      "Data columns (total 5 columns):\n",
      "PMID/PMCID       1928 non-null object\n",
      "Publisher        2127 non-null object\n",
      "Journal_title    2126 non-null object\n",
      "Article_title    2127 non-null object\n",
      "Cost             2127 non-null float64\n",
      "dtypes: float64(1), object(4)\n",
      "memory usage: 83.2+ KB\n"
     ]
    }
   ],
   "source": [
    "df.info()"
   ]
  },
  {
   "cell_type": "code",
   "execution_count": 10,
   "metadata": {},
   "outputs": [
    {
     "data": {
      "text/html": [
       "<div>\n",
       "<style scoped>\n",
       "    .dataframe tbody tr th:only-of-type {\n",
       "        vertical-align: middle;\n",
       "    }\n",
       "\n",
       "    .dataframe tbody tr th {\n",
       "        vertical-align: top;\n",
       "    }\n",
       "\n",
       "    .dataframe thead th {\n",
       "        text-align: right;\n",
       "    }\n",
       "</style>\n",
       "<table border=\"1\" class=\"dataframe\">\n",
       "  <thead>\n",
       "    <tr style=\"text-align: right;\">\n",
       "      <th></th>\n",
       "      <th>Cost</th>\n",
       "    </tr>\n",
       "  </thead>\n",
       "  <tbody>\n",
       "    <tr>\n",
       "      <th>count</th>\n",
       "      <td>2127.000000</td>\n",
       "    </tr>\n",
       "    <tr>\n",
       "      <th>mean</th>\n",
       "      <td>24067.339972</td>\n",
       "    </tr>\n",
       "    <tr>\n",
       "      <th>std</th>\n",
       "      <td>146860.665559</td>\n",
       "    </tr>\n",
       "    <tr>\n",
       "      <th>min</th>\n",
       "      <td>0.000000</td>\n",
       "    </tr>\n",
       "    <tr>\n",
       "      <th>25%</th>\n",
       "      <td>1280.000000</td>\n",
       "    </tr>\n",
       "    <tr>\n",
       "      <th>50%</th>\n",
       "      <td>1884.010000</td>\n",
       "    </tr>\n",
       "    <tr>\n",
       "      <th>75%</th>\n",
       "      <td>2321.305000</td>\n",
       "    </tr>\n",
       "    <tr>\n",
       "      <th>max</th>\n",
       "      <td>999999.000000</td>\n",
       "    </tr>\n",
       "  </tbody>\n",
       "</table>\n",
       "</div>"
      ],
      "text/plain": [
       "                Cost\n",
       "count    2127.000000\n",
       "mean    24067.339972\n",
       "std    146860.665559\n",
       "min         0.000000\n",
       "25%      1280.000000\n",
       "50%      1884.010000\n",
       "75%      2321.305000\n",
       "max    999999.000000"
      ]
     },
     "execution_count": 10,
     "metadata": {},
     "output_type": "execute_result"
    }
   ],
   "source": [
    "df.describe()"
   ]
  },
  {
   "cell_type": "code",
   "execution_count": null,
   "metadata": {},
   "outputs": [],
   "source": [
    "#boxplot\n"
   ]
  },
  {
   "cell_type": "markdown",
   "metadata": {},
   "source": [
    "A mean of £24,067 seems unlikely (and unreasonable) for \"The cost...which the institution is claiming from the Wellcome Trust grant (to cover the OA publishing fee).\" \n",
    "Noted a max cost of £999,999, which is clearly invalid. Search out & impute these values as possible. Will replace with the mean of 'Cost' values without values > £9,999.99."
   ]
  },
  {
   "cell_type": "code",
   "execution_count": 11,
   "metadata": {},
   "outputs": [
    {
     "name": "stdout",
     "output_type": "stream",
     "text": [
      "                                            PMID/PMCID  \\\n",
      "149                                         PMC3234811   \n",
      "227                                            3708772   \n",
      "277                                        PMC3668259    \n",
      "358                                         PMC3219211   \n",
      "404                                         PMC3533396   \n",
      "410                                                NaN   \n",
      "491                                  PMCID: PMC3464430   \n",
      "560                                         PMC3632754   \n",
      "630    Epub ahead of print April 2013 - print in press   \n",
      "660                           PMID:23291342 PMC3581773   \n",
      "669                                         PMC3594749   \n",
      "670                                  PMCID: PMC3679449   \n",
      "811                                                NaN   \n",
      "815                                                NaN   \n",
      "825                                                NaN   \n",
      "829                              23200744  PMC3552157    \n",
      "873                                     PMC3644713\\n\\n   \n",
      "945                                     PMID: 22547635   \n",
      "986                                                NaN   \n",
      "996                                        PMC3785137    \n",
      "1036                    PMID: 23703681 (May 2013 Epub)   \n",
      "1046                                        PMC3709478   \n",
      "1065                                 PMCID: PMC3615658   \n",
      "1138                                        PMC3510758   \n",
      "1208  Epub ahead of print pub Jan 2013, print in press   \n",
      "1256                               23981980 PMC3809720   \n",
      "1309                                           2294692   \n",
      "1367                            PMCID:    PMC3531293\\n   \n",
      "1386                                        PMC3527207   \n",
      "1387                                               NaN   \n",
      "1470                                           3547931   \n",
      "1560                                           3726600   \n",
      "1561                                          23285297   \n",
      "1562                                       PMC3720940    \n",
      "1563                                 PMCID: PMC3748079   \n",
      "1564                            PMCID:\\n    PMC3579793   \n",
      "1565                            PMCID:\\n    PMC3732248   \n",
      "1566                          PMCID:\\n    PMC3767740\\n   \n",
      "1597                                 PMCID: PMC3749955   \n",
      "1598                          PMCID:\\n    PMC3764210\\n   \n",
      "1612                                      PMC3777952\\n   \n",
      "1614                                       PMC 3712914   \n",
      "1616                                       PMC 3460945   \n",
      "1664                                (PMCID:PMC3757918)   \n",
      "1675                                 Not yet available   \n",
      "1835                                  PMCID:PMC3268392   \n",
      "1939                                               NaN   \n",
      "1947                                               NaN   \n",
      "1961                                        PMC3557719   \n",
      "1987                                    PMC3664409\\n\\n   \n",
      "\n",
      "                                              Publisher  \\\n",
      "149                                               ASBMB   \n",
      "227                                     BioMed Central    \n",
      "277                                                 BMC   \n",
      "358                          Cambridge University Press   \n",
      "404                               Company of Biologists   \n",
      "410                                                 CUP   \n",
      "491                                            Elsevier   \n",
      "560                                            Elsevier   \n",
      "630                                            Elsevier   \n",
      "660                                            Elsevier   \n",
      "669                                            Elsevier   \n",
      "670                                            Elsevier   \n",
      "811                                            Elsevier   \n",
      "815                                            Elsevier   \n",
      "825                                            Elsevier   \n",
      "829                                            Elsevier   \n",
      "873                                           Frontiers   \n",
      "945                                   John Wiley & Sons   \n",
      "986                                           MacMillan   \n",
      "996                               MIT PRESS OPEN ACCESS   \n",
      "1036                                             Nature   \n",
      "1046                                             Nature   \n",
      "1065                            Nature Publishing Group   \n",
      "1138                                                OUP   \n",
      "1208                            Oxford University Press   \n",
      "1256                            Oxford University Press   \n",
      "1309                                               PNAS   \n",
      "1367                          Public Library of Science   \n",
      "1386                          Public Library of Science   \n",
      "1387                          Public Library of Science   \n",
      "1470                          Public Library of Science   \n",
      "1560                          Public Library of Science   \n",
      "1561                          Public Library of Science   \n",
      "1562                          Public Library of Science   \n",
      "1563                          Public Library of Science   \n",
      "1564                          Public Library of Science   \n",
      "1565                          Public Library of Science   \n",
      "1566                          Public Library of Science   \n",
      "1597                          Public Library of Science   \n",
      "1598                          Public Library of Science   \n",
      "1612                          Public Library of Science   \n",
      "1614                          Public Library of Science   \n",
      "1616                          Public Library of Science   \n",
      "1664                                               Sage   \n",
      "1675                                    Sage Publishing   \n",
      "1835  The American Society for Biochemistry and Mole...   \n",
      "1939                                              Wiley   \n",
      "1947                                              Wiley   \n",
      "1961                                              Wiley   \n",
      "1987                                              Wiley   \n",
      "\n",
      "                                       Journal_title  \\\n",
      "149                  Journal of Biological Chemistry   \n",
      "227                                    BMC Genomics.   \n",
      "277                                           Trials   \n",
      "358             Expert Reviews in Molecular Medicine   \n",
      "404                          Journal of Cell Science   \n",
      "410   Journal of the International African Institute   \n",
      "491                                             Cell   \n",
      "560                       Experimental Cell Research   \n",
      "630                   Journal of paediatric Urology    \n",
      "660               Molecluar & Cellular Endocrinology   \n",
      "669                                   Molecular Cell   \n",
      "670                                   Molecular Cell   \n",
      "811                          Trends in Neurosciences   \n",
      "815                           Trends in Parasitology   \n",
      "825                          Veterinary Parasitology   \n",
      "829                                  Vision Research   \n",
      "873                           Frontiers in Cognition   \n",
      "945                            Journal of Physiology   \n",
      "986                                              NaN   \n",
      "996            The Journal of Cognitive Neuroscience   \n",
      "1036                            Genetics in Medicine   \n",
      "1046                           Nature Communications   \n",
      "1065                                    EMBO Reports   \n",
      "1138                        Human Molecular Genetics   \n",
      "1208                                 Cerebral Cortex   \n",
      "1256                         Oxford University Press   \n",
      "1309                                            PNAS   \n",
      "1367                      PLoS Computational Biology   \n",
      "1386                                   PLoS Genetics   \n",
      "1387                                   PLoS Genetics   \n",
      "1470                                        PLoS One   \n",
      "1560                                        PLoS One   \n",
      "1561                                        PLOS ONE   \n",
      "1562                                        PLoS One   \n",
      "1563                                        PLoS ONE   \n",
      "1564                                        PLoS ONE   \n",
      "1565                                        PLOS ONE   \n",
      "1566                                        PLoS ONE   \n",
      "1597                                  PLoS Pathogens   \n",
      "1598                                  PLoS Pathogens   \n",
      "1612                                         PLosONE   \n",
      "1614                            Pmedicine-D-12-03130   \n",
      "1616                                  PONE-D12-17947   \n",
      "1664                   History of the Human Sciences   \n",
      "1675                            Qualitative Research   \n",
      "1835                        Jnl Biological Chemistry   \n",
      "1939                     HBM JNL Human Brain Mapping   \n",
      "1947                                     Hippocampus   \n",
      "1961                       Journal of Neurochemistry   \n",
      "1987                              Movement Disorders   \n",
      "\n",
      "                                          Article_title      Cost  \n",
      "149   Picomolar nitric oxide signals from central ne...  999999.0  \n",
      "227   Phenotypic, genomic, and transcriptional chara...  999999.0  \n",
      "277   Community resource centres to improve the heal...  999999.0  \n",
      "358   Pharmacological targets in the ubiquitin syste...  999999.0  \n",
      "404   PKA isoforms coordinate mRNA fate during nutri...  999999.0  \n",
      "410         Pharmacy, money and public health in Dakar.  999999.0  \n",
      "491   piRNAs can trigger a multigenerational epigene...  999999.0  \n",
      "560   Perturbation of invadolysin disrupts cell migr...  999999.0  \n",
      "630   Persistent unexplained congenital clitoromegal...  999999.0  \n",
      "660   Periconceptional changes in maternal exposure ...  999999.0  \n",
      "669   Bax Exists in a Dynamic Equilibrium between th...  999999.0  \n",
      "670   Kinetochores coordinate pericentromeric cohesi...  999999.0  \n",
      "811   Cytoplasmic dynein heavy chain: the servant of...  999999.0  \n",
      "815   Infection and treatment immunizations for succ...  999999.0  \n",
      "825   Persistence of the efficacy of copper oxide wi...  999999.0  \n",
      "829   Perceptual learning of second order cues for l...  999999.0  \n",
      "873   Persistence of internal representations of alt...  999999.0  \n",
      "945   Plasticity of spatial hearing: behavioural eff...  999999.0  \n",
      "986   Fungal Disease in Britain and the United State...   13200.0  \n",
      "996   Perceptual Integration for Qualitatively Diffe...  999999.0  \n",
      "1036  Population-based estimates of the prevalence o...  999999.0  \n",
      "1046  Picornavirus uncoating intermediate captured i...  999999.0  \n",
      "1065  Physiological release of endogenous tau is sti...  999999.0  \n",
      "1138  Genome Wide Meta-analysis points to CTC1 and Z...  999999.0  \n",
      "1208  Pharmacological dissociation of novelty respon...  999999.0  \n",
      "1256  Physical activity levels across adult life and...  999999.0  \n",
      "1309  Shaping accoustic fields as a toolset for micr...  999999.0  \n",
      "1367  Phylodynamic inference and model assessment wi...  999999.0  \n",
      "1386  Population genomics of the Wolbachia endosymbi...  999999.0  \n",
      "1387  PNUTS/PP1 regulates RNAPII-mediated gene expre...  999999.0  \n",
      "1470  Reducing stock-outs of life saving Malaria Com...  192645.0  \n",
      "1560  Plasmodium falciparum vary Gene Expression Hom...  999999.0  \n",
      "1561  Pharmacological inhibition of caspase-2 protec...  999999.0  \n",
      "1562  Population-based CD4 counts in a rural area in...  999999.0  \n",
      "1563  Plant SILAC: stable-isotope labelling with ami...  999999.0  \n",
      "1564  Phagocytosis Is the Main CR3-Mediated Function...  999999.0  \n",
      "1565  Pneumocystis jirovecii pneumonia in tropical a...  999999.0  \n",
      "1566  Phenotypic alteration of neutrophils in the bl...  999999.0  \n",
      "1597  Determinants of GPI-PLC localisation to the fl...  999999.0  \n",
      "1598  The CLIP-domain serine protease homolog SPCLIP...  999999.0  \n",
      "1612  Retinal Nerve Fibre Layer Thickness and Contra...  999999.0  \n",
      "1614  Global Burden of Sickle cell Anaemia in childr...  999999.0  \n",
      "1616  Persistence of Hyperinvasive Meningococcal Str...  999999.0  \n",
      "1664  How autism became autism: the radical transfor...  999999.0  \n",
      "1675  Picturing commuting: photovoice and seeking we...  999999.0  \n",
      "1835  Photoaffinity labelling of high affinity nicot...  999999.0  \n",
      "1939  Phase informed model for motion and susceptibi...  999999.0  \n",
      "1947  Pituitary adenylate cyclase-activating polypep...  999999.0  \n",
      "1961  Pituitary adenylate cyclase-activating peptide...  999999.0  \n",
      "1987  Limb amputations in fixed dystonia: a form of ...  201024.0  \n"
     ]
    }
   ],
   "source": [
    "df_cost = df.loc[df['Cost'] > 9999.99]\n",
    "print(df_cost)"
   ]
  },
  {
   "cell_type": "code",
   "execution_count": 12,
   "metadata": {},
   "outputs": [
    {
     "data": {
      "text/plain": [
       "(50, 5)"
      ]
     },
     "execution_count": 12,
     "metadata": {},
     "output_type": "execute_result"
    }
   ],
   "source": [
    "df_cost.shape"
   ]
  },
  {
   "cell_type": "code",
   "execution_count": 13,
   "metadata": {},
   "outputs": [
    {
     "name": "stdout",
     "output_type": "stream",
     "text": [
      "<class 'pandas.core.frame.DataFrame'>\n",
      "Int64Index: 50 entries, 149 to 1987\n",
      "Data columns (total 5 columns):\n",
      "PMID/PMCID       42 non-null object\n",
      "Publisher        50 non-null object\n",
      "Journal_title    49 non-null object\n",
      "Article_title    50 non-null object\n",
      "Cost             50 non-null float64\n",
      "dtypes: float64(1), object(4)\n",
      "memory usage: 2.3+ KB\n"
     ]
    }
   ],
   "source": [
    "df_cost.info()"
   ]
  },
  {
   "cell_type": "code",
   "execution_count": 14,
   "metadata": {},
   "outputs": [
    {
     "name": "stdout",
     "output_type": "stream",
     "text": [
      "Cost    1822.055908\n",
      "dtype: float64\n"
     ]
    }
   ],
   "source": [
    "#find mean of 'Cost' without invalid values above\n",
    "df_truecost = df.loc[df['Cost'] < 9999.99].mean()\n",
    "print(df_truecost)"
   ]
  },
  {
   "cell_type": "code",
   "execution_count": 15,
   "metadata": {},
   "outputs": [
    {
     "data": {
      "text/plain": [
       "pandas.core.series.Series"
      ]
     },
     "execution_count": 15,
     "metadata": {},
     "output_type": "execute_result"
    }
   ],
   "source": [
    "#find & replace invalid values\n",
    "invalid_cost = df['Cost'] > 9999\n",
    "type(invalid_cost)"
   ]
  },
  {
   "cell_type": "code",
   "execution_count": 18,
   "metadata": {},
   "outputs": [
    {
     "name": "stdout",
     "output_type": "stream",
     "text": [
      "0       False\n",
      "1       False\n",
      "2       False\n",
      "3       False\n",
      "4       False\n",
      "5       False\n",
      "6       False\n",
      "7       False\n",
      "8       False\n",
      "9       False\n",
      "10      False\n",
      "11      False\n",
      "12      False\n",
      "13      False\n",
      "14      False\n",
      "15      False\n",
      "16      False\n",
      "17      False\n",
      "18      False\n",
      "19      False\n",
      "20      False\n",
      "21      False\n",
      "22      False\n",
      "23      False\n",
      "24      False\n",
      "25      False\n",
      "26      False\n",
      "27      False\n",
      "28      False\n",
      "29      False\n",
      "        ...  \n",
      "2097    False\n",
      "2098    False\n",
      "2099    False\n",
      "2100    False\n",
      "2101    False\n",
      "2102    False\n",
      "2103    False\n",
      "2104    False\n",
      "2105    False\n",
      "2106    False\n",
      "2107    False\n",
      "2108    False\n",
      "2109    False\n",
      "2110    False\n",
      "2111    False\n",
      "2112    False\n",
      "2113    False\n",
      "2114    False\n",
      "2115    False\n",
      "2116    False\n",
      "2117    False\n",
      "2118    False\n",
      "2119    False\n",
      "2120    False\n",
      "2121    False\n",
      "2122    False\n",
      "2123    False\n",
      "2124    False\n",
      "2125    False\n",
      "2126    False\n",
      "Name: Cost, Length: 2127, dtype: bool\n"
     ]
    }
   ],
   "source": [
    "print(invalid_cost)"
   ]
  },
  {
   "cell_type": "code",
   "execution_count": 16,
   "metadata": {},
   "outputs": [],
   "source": [
    "df['Cost'] = df['Cost'].replace([invalid_cost], 1822.06, inplace=True)"
   ]
  },
  {
   "cell_type": "code",
   "execution_count": 17,
   "metadata": {},
   "outputs": [
    {
     "name": "stdout",
     "output_type": "stream",
     "text": [
      "      PMID/PMCID        Publisher                    Journal_title  \\\n",
      "149   PMC3234811            ASBMB  Journal of Biological Chemistry   \n",
      "227      3708772  BioMed Central                     BMC Genomics.   \n",
      "277  PMC3668259               BMC                           Trials   \n",
      "\n",
      "                                         Article_title  Cost  \n",
      "149  Picomolar nitric oxide signals from central ne...  None  \n",
      "227  Phenotypic, genomic, and transcriptional chara...  None  \n",
      "277  Community resource centres to improve the heal...  None  \n"
     ]
    }
   ],
   "source": [
    "print(df.loc[[149, 227, 277]])"
   ]
  },
  {
   "cell_type": "code",
   "execution_count": 20,
   "metadata": {},
   "outputs": [
    {
     "data": {
      "text/html": [
       "<div>\n",
       "<style scoped>\n",
       "    .dataframe tbody tr th:only-of-type {\n",
       "        vertical-align: middle;\n",
       "    }\n",
       "\n",
       "    .dataframe tbody tr th {\n",
       "        vertical-align: top;\n",
       "    }\n",
       "\n",
       "    .dataframe thead th {\n",
       "        text-align: right;\n",
       "    }\n",
       "</style>\n",
       "<table border=\"1\" class=\"dataframe\">\n",
       "  <thead>\n",
       "    <tr style=\"text-align: right;\">\n",
       "      <th></th>\n",
       "      <th>PMID/PMCID</th>\n",
       "      <th>Publisher</th>\n",
       "      <th>Journal_title</th>\n",
       "      <th>Article_title</th>\n",
       "      <th>Cost</th>\n",
       "    </tr>\n",
       "  </thead>\n",
       "  <tbody>\n",
       "    <tr>\n",
       "      <th>0</th>\n",
       "      <td>NaN</td>\n",
       "      <td>CUP</td>\n",
       "      <td>Psychological Medicine</td>\n",
       "      <td>Reduced parahippocampal cortical thickness in ...</td>\n",
       "      <td>None</td>\n",
       "    </tr>\n",
       "    <tr>\n",
       "      <th>1</th>\n",
       "      <td>PMC3679557</td>\n",
       "      <td>ACS</td>\n",
       "      <td>Biomacromolecules</td>\n",
       "      <td>Structural characterization of a Model Gram-ne...</td>\n",
       "      <td>None</td>\n",
       "    </tr>\n",
       "    <tr>\n",
       "      <th>2</th>\n",
       "      <td>23043264  PMC3506128</td>\n",
       "      <td>ACS</td>\n",
       "      <td>J Med Chem</td>\n",
       "      <td>Fumaroylamino-4,5-epoxymorphinans and related ...</td>\n",
       "      <td>None</td>\n",
       "    </tr>\n",
       "    <tr>\n",
       "      <th>3</th>\n",
       "      <td>23438330 PMC3646402</td>\n",
       "      <td>ACS</td>\n",
       "      <td>J Med Chem</td>\n",
       "      <td>Orvinols with mixed kappa/mu opioid receptor a...</td>\n",
       "      <td>None</td>\n",
       "    </tr>\n",
       "    <tr>\n",
       "      <th>4</th>\n",
       "      <td>23438216 PMC3601604</td>\n",
       "      <td>ACS</td>\n",
       "      <td>J Org Chem</td>\n",
       "      <td>Regioselective opening of myo-inositol orthoes...</td>\n",
       "      <td>None</td>\n",
       "    </tr>\n",
       "  </tbody>\n",
       "</table>\n",
       "</div>"
      ],
      "text/plain": [
       "              PMID/PMCID Publisher           Journal_title  \\\n",
       "0                    NaN       CUP  Psychological Medicine   \n",
       "1             PMC3679557       ACS       Biomacromolecules   \n",
       "2  23043264  PMC3506128        ACS              J Med Chem   \n",
       "3    23438330 PMC3646402       ACS              J Med Chem   \n",
       "4   23438216 PMC3601604        ACS              J Org Chem   \n",
       "\n",
       "                                       Article_title  Cost  \n",
       "0  Reduced parahippocampal cortical thickness in ...  None  \n",
       "1  Structural characterization of a Model Gram-ne...  None  \n",
       "2  Fumaroylamino-4,5-epoxymorphinans and related ...  None  \n",
       "3  Orvinols with mixed kappa/mu opioid receptor a...  None  \n",
       "4  Regioselective opening of myo-inositol orthoes...  None  "
      ]
     },
     "execution_count": 20,
     "metadata": {},
     "output_type": "execute_result"
    }
   ],
   "source": [
    "df.head()"
   ]
  },
  {
   "cell_type": "code",
   "execution_count": null,
   "metadata": {},
   "outputs": [],
   "source": []
  },
  {
   "cell_type": "code",
   "execution_count": null,
   "metadata": {},
   "outputs": [],
   "source": []
  },
  {
   "cell_type": "code",
   "execution_count": null,
   "metadata": {},
   "outputs": [],
   "source": []
  },
  {
   "cell_type": "code",
   "execution_count": null,
   "metadata": {},
   "outputs": [],
   "source": []
  },
  {
   "cell_type": "code",
   "execution_count": null,
   "metadata": {},
   "outputs": [],
   "source": [
    "df['Cost'].value_counts()"
   ]
  },
  {
   "cell_type": "code",
   "execution_count": null,
   "metadata": {},
   "outputs": [],
   "source": [
    "df.info()"
   ]
  },
  {
   "cell_type": "code",
   "execution_count": null,
   "metadata": {},
   "outputs": [],
   "source": [
    "df['Journal title'].unique()"
   ]
  },
  {
   "cell_type": "code",
   "execution_count": null,
   "metadata": {},
   "outputs": [],
   "source": [
    "df['Journal_title'].value_counts()"
   ]
  },
  {
   "cell_type": "code",
   "execution_count": null,
   "metadata": {},
   "outputs": [],
   "source": [
    " df.apply(lambda x: sum(x.isnull()),axis=0) "
   ]
  },
  {
   "cell_type": "code",
   "execution_count": null,
   "metadata": {},
   "outputs": [],
   "source": []
  },
  {
   "cell_type": "code",
   "execution_count": null,
   "metadata": {},
   "outputs": [],
   "source": []
  },
  {
   "cell_type": "code",
   "execution_count": null,
   "metadata": {},
   "outputs": [],
   "source": []
  },
  {
   "cell_type": "code",
   "execution_count": null,
   "metadata": {},
   "outputs": [],
   "source": []
  },
  {
   "cell_type": "code",
   "execution_count": null,
   "metadata": {},
   "outputs": [],
   "source": []
  },
  {
   "cell_type": "code",
   "execution_count": null,
   "metadata": {},
   "outputs": [],
   "source": [
    "re.findall"
   ]
  },
  {
   "cell_type": "code",
   "execution_count": null,
   "metadata": {},
   "outputs": [],
   "source": [
    "def measure_id (row):\n",
    "   if row['Measure Name'] == 'READM_30_COPD_HRRP' :\n",
    "      return 'COPD'\n",
    "   if row['Measure Name'] == 'READM_30_HF_HRRP' :\n",
    "      return 'HF'\n",
    "   if row['Measure Name'] == 'READM_30_PN_HRRP' :\n",
    "      return 'PN'\n",
    "   if row['Measure Name'] == 'READM_30_AMI_HRRP' :\n",
    "      return 'AMI'\n",
    "   if row['Measure Name'] == 'READM_30_HIP_KNEE_HRRP' :\n",
    "      return 'HIP_KNEE'\n",
    "   if row['Measure Name'] == 'READM_30_CABG_HRRP' :\n",
    "      return 'CABG'"
   ]
  },
  {
   "cell_type": "code",
   "execution_count": null,
   "metadata": {},
   "outputs": [],
   "source": [
    "df.apply (lambda row: measure_id(row), axis=1)"
   ]
  },
  {
   "cell_type": "code",
   "execution_count": null,
   "metadata": {},
   "outputs": [],
   "source": [
    "df['measure'] = df.apply (lambda row: measure_id(row), axis=1)"
   ]
  },
  {
   "cell_type": "code",
   "execution_count": null,
   "metadata": {},
   "outputs": [],
   "source": [
    "df_with_nans = df.applymap(lambda elem: float('NaN') if elem == \"Not Available\" else elem)"
   ]
  },
  {
   "cell_type": "code",
   "execution_count": null,
   "metadata": {},
   "outputs": [],
   "source": [
    "df_readmin = df_with_nans.dropna(subset=df_with_nans.columns.drop('Footnote')).copy()"
   ]
  },
  {
   "cell_type": "code",
   "execution_count": null,
   "metadata": {},
   "outputs": [],
   "source": [
    "for column in ['Number of Discharges', 'Excess Readmission Ratio', 'Predicted Readmission Rate', 'Expected Readmission Rate', 'Number of Readmissions']:\n",
    "    df_readmin[column] = pd.to_numeric(df_readmin[column], errors = 'coerce', downcast = 'float')"
   ]
  },
  {
   "cell_type": "code",
   "execution_count": null,
   "metadata": {},
   "outputs": [],
   "source": [
    "df_readmin.groupby('Measure Name')['Excess Readmission Ratio'].describe()"
   ]
  }
 ],
 "metadata": {
  "kernelspec": {
   "display_name": "Python 3",
   "language": "python",
   "name": "python3"
  },
  "language_info": {
   "codemirror_mode": {
    "name": "ipython",
    "version": 3
   },
   "file_extension": ".py",
   "mimetype": "text/x-python",
   "name": "python",
   "nbconvert_exporter": "python",
   "pygments_lexer": "ipython3",
   "version": "3.7.3"
  }
 },
 "nbformat": 4,
 "nbformat_minor": 2
}
