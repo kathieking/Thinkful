{
 "cells": [
  {
   "cell_type": "markdown",
   "metadata": {},
   "source": [
    "# Thinking Like a Data Scientist\n",
    "\n",
    "Why use dependent groups? Come up with a few scenarios where getting repeated measures from the same people would be beneficial. Summarize them in your notebook and discuss with your mentor.\n"
   ]
  },
  {
   "cell_type": "markdown",
   "metadata": {},
   "source": [
    "One of the best examples of using dependent groups is the Framingham Heart Study. The study, which was commissioned by Congress, began in 1948 with 5209 participant from Framingham, MA. It was originally intented to last 20 year with a focus on the epidemiology of hypertension or arteriosclerotic cardiovascular disease. Sixty plus years later, the study is now on its fouth generation of participants and has yielded much of the now-common knowledge concering heart disease. \n",
    "\n",
    "Other examples using dependent groups include: \n",
    "    -  longitudinal studies for medicine, epidemiology, psychology, or other behavioral sciences.\n",
    "    - crossover studies where the a different treatment is measure on each group, and after a specified time period, the treaments are switched from their original group to the other groupd in the study. This could be done in the medical or behavioral sciences as mentioned above. Examples may include testing new pharmaceuticals or education methods. \n",
    "    This type of study design could also be in a business setting where different marketing approaches are tested on two groups. \n",
    "    - order effects - testing the ability of a participant to perform a task multiple times to determine if there is a change in performance; can be used to test the impact of the sequence of tasks or educational materials. \n",
    "    \n",
    "Uses/benefits of dependent groups include:\n",
    "    - limited number of participants\n",
    "    - effeciency; less \"training\" of both researchers and participants may allow experiments to be conducted more quickly."
   ]
  }
 ],
 "metadata": {
  "kernelspec": {
   "display_name": "Python 3",
   "language": "python",
   "name": "python3"
  },
  "language_info": {
   "codemirror_mode": {
    "name": "ipython",
    "version": 3
   },
   "file_extension": ".py",
   "mimetype": "text/x-python",
   "name": "python",
   "nbconvert_exporter": "python",
   "pygments_lexer": "ipython3",
   "version": "3.7.3"
  }
 },
 "nbformat": 4,
 "nbformat_minor": 2
}
