{
 "cells": [
  {
   "cell_type": "markdown",
   "metadata": {},
   "source": [
    "## DRILL: Question Design\n",
    "\n",
    "For each of the following, indicate the best question type to use and why.\n",
    "\n",
    "    Age - could be write-in (actual age) or multiple choice (choose form one of several age ranges)\n",
    "    Gender - multiple choice, choose one\n",
    "    Income - write-in (actual age) or multiple choice (choose from one of several income ranges)\n",
    "    Opinions about dish soap - multiple choice, either one or multile choices, or write-in\n",
    "    Brand of dish soap used - write-in, multiple choice (either one or multiple choices), or ranking\n",
    "    Preference for dish soap brand (Cleany, Sudsy, DeGreaser, Pinesoft) - multiple choice (choose one) or ranking\n",
    "    Positive vs negative feelings about dish soap - rating scale, multiple choice (choose one), or write-in"
   ]
  },
  {
   "cell_type": "markdown",
   "metadata": {},
   "source": [
    "# DRILL: Fix the flaw\n",
    "\n",
    "Here is a link to a Mainstream Media Accountability Survey\n",
    "https://action.donaldjtrump.com/mainstream-media-accountability-survey/\n",
    "sent to the public by the Trump Administration in February 2017. Read over the survey and select five questions you believe can be improved. Describe the flaw you see and write an improved version of the question. For example, if the original question is: \"Americans are not fully aware just how much waste there is in the federal government.\" Yes No No Opinion\n",
    "\n",
    "The flaw is that this is a loaded question that presupposes the respondent agrees that there is waste in the federal government. To ask this question in a less-biased way, it would need to be converted to two questions:\n",
    "\n",
    "    Select the option that describes your opinion of how the federal government handles money:\n",
    "        Wastefully\n",
    "        Efficiently\n",
    "        No Opinion\n",
    "\n",
    "IF they selected a, then:\n",
    "\n",
    "    Describe American public opinion about government waste.\n",
    "        0 (Unaware) 1 2 (Somewhat Aware) 3 4 (Fully Aware)\n",
    "\n",
    "For each revised question, your version should attempt to get an unbiased picture of the respondent's opinion on the issue. Share your reasoning with your mentor."
   ]
  },
  {
   "cell_type": "markdown",
   "metadata": {},
   "source": [
    "1. Do you believe that the media purposely tries to divide Republicans in order to help elect Democrats?\n",
    "\n",
    "    Yes\n",
    "    No\n",
    "    No opinion\n",
    "    Other, please specify:"
   ]
  },
  {
   "cell_type": "markdown",
   "metadata": {},
   "source": [
    "Flaw: assumes media is \"help(ing) to elect Democrats.\n",
    "\n",
    "Less biased: Do you believe that the media purposely acts in a manner to help elect one party over another?\n",
    "\n",
    "Follow-up: Do you believe the media purposely tries to divide members of one political party to aid another?"
   ]
  },
  {
   "cell_type": "markdown",
   "metadata": {},
   "source": [
    "2. Do you believe the media fails to report on Democrats’ scandals?\n",
    "\n",
    "    Yes\n",
    "    No\n",
    "    No opinion\n",
    "    Other, please specify:"
   ]
  },
  {
   "cell_type": "markdown",
   "metadata": {},
   "source": [
    "Flaw: assumes the media does not report on Democrats' scandals.\n",
    "\n",
    "Less biased: Do you believe the media give preferential coverage to one political party over the other?\n",
    "\n",
    "another version: Do you believe the media reports the scandals of each political party equally?"
   ]
  },
  {
   "cell_type": "markdown",
   "metadata": {},
   "source": [
    "3. Do you feel that the media is too eager to slur conservatives with baseless accusations of racism and sexism?\n",
    "\n",
    "    Yes\n",
    "    No\n",
    "    No opinion\n",
    "    Other, please specify:"
   ]
  },
  {
   "cell_type": "markdown",
   "metadata": {},
   "source": [
    "Flaw: assumes accusations of racism and sexism are baseless; assumes the reports of these behaviors is done to slur the Republicans.\n",
    "\n",
    "Less Biased: Do you feel that media reports of racism and sexism by political parties are accurate?\n",
    "\n",
    "Follow-up: what do you believe the purpose of these reports are?"
   ]
  },
  {
   "cell_type": "markdown",
   "metadata": {},
   "source": [
    "4. Do you believe that the media unfairly reported on President Trump’s executive order granting Americans the freedom to buy health care across state lines?\n",
    "\n",
    "    Yes\n",
    "    No\n",
    "    No opinion\n",
    "    Other, please specify:"
   ]
  },
  {
   "cell_type": "markdown",
   "metadata": {},
   "source": [
    "Flaw: assumes that the purpose of the executive order in question was giving Americans \"freedom\" to buy healthcare across state lines rather than an attempt to circumvent the state regulations of each state placed on the healthcare providers; what some call \"regulations\" others call \"consumer protections\"; also, a fundamental concept of American government is \"states' rights\",  which refers to the the political powers of each state vs the federal government\n",
    "\n",
    "Less Biased: Do you believe the government should be able to place regulations or consumer protections on the providers of health care insurance?\n",
    "\n",
    "Follow-up: If yes, which government agency should have the authority to place these regulations (or consumer protections)? Federal, state, other\n",
    "\n",
    "Follow-up: what is your opinion of the press coverage of President Trump's executive order promoting Healthcare choice and competition across the US?"
   ]
  },
  {
   "cell_type": "markdown",
   "metadata": {},
   "source": [
    "5. Do you agree with the President’s decision to break with tradition by giving lesser known reporters and bloggers the chance to ask the press secretary questions?\n",
    "\n",
    "    Yes\n",
    "    No\n",
    "    No opinion\n",
    "    Other, please specify:"
   ]
  },
  {
   "cell_type": "markdown",
   "metadata": {},
   "source": [
    "Flaw: question assumes that tradition alone dictates the issue of White House press credentials\n",
    "\n",
    "Less Biased: What requirements should be met in order for a reporter to be given White House press credentials? circulation/audience size, national, local, etc. \n",
    "\n",
    "Do you think non-traditional reports/bloggers should be given WH press credentials?"
   ]
  }
 ],
 "metadata": {
  "kernelspec": {
   "display_name": "Python 3",
   "language": "python",
   "name": "python3"
  },
  "language_info": {
   "codemirror_mode": {
    "name": "ipython",
    "version": 3
   },
   "file_extension": ".py",
   "mimetype": "text/x-python",
   "name": "python",
   "nbconvert_exporter": "python",
   "pygments_lexer": "ipython3",
   "version": "3.7.3"
  }
 },
 "nbformat": 4,
 "nbformat_minor": 2
}
