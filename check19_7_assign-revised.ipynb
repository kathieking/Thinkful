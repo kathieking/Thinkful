{
 "cells": [
  {
   "cell_type": "markdown",
   "metadata": {},
   "source": [
    "### Assignment\n",
    "\n",
    "In this assignment, you'll continue working with the house prices data. To complete this assignment, submit a link to a Jupyter notebook containing your solutions to the following tasks:\n",
    "\n",
    "    Load the houseprices data from Thinkful's database.\n",
    "    Reimplement your model from the previous checkpoint.\n",
    "    Try OLS, Lasso, Ridge, and ElasticNet regression using the same model specification. This time, you need to do k-fold cross-validation to choose the best hyperparameter values for your models. Scikit-learn has RidgeCV, LassoCV, and ElasticNetCV that you can utilize to do this. Which model is the best? Why?\n",
    "\n",
    "This is not a graded checkpoint, but you should discuss your solution with your mentor. After you've submitted your work, take a moment to compare your solution to this example solution.\n"
   ]
  },
  {
   "cell_type": "markdown",
   "metadata": {},
   "source": [
    "#### Load the houseprices data from Thinkful's database"
   ]
  },
  {
   "cell_type": "code",
   "execution_count": 1,
   "metadata": {},
   "outputs": [
    {
     "data": {
      "text/html": [
       "<div>\n",
       "<style scoped>\n",
       "    .dataframe tbody tr th:only-of-type {\n",
       "        vertical-align: middle;\n",
       "    }\n",
       "\n",
       "    .dataframe tbody tr th {\n",
       "        vertical-align: top;\n",
       "    }\n",
       "\n",
       "    .dataframe thead th {\n",
       "        text-align: right;\n",
       "    }\n",
       "</style>\n",
       "<table border=\"1\" class=\"dataframe\">\n",
       "  <thead>\n",
       "    <tr style=\"text-align: right;\">\n",
       "      <th></th>\n",
       "      <th>id</th>\n",
       "      <th>mssubclass</th>\n",
       "      <th>mszoning</th>\n",
       "      <th>lotfrontage</th>\n",
       "      <th>lotarea</th>\n",
       "      <th>street</th>\n",
       "      <th>alley</th>\n",
       "      <th>lotshape</th>\n",
       "      <th>landcontour</th>\n",
       "      <th>utilities</th>\n",
       "      <th>...</th>\n",
       "      <th>poolarea</th>\n",
       "      <th>poolqc</th>\n",
       "      <th>fence</th>\n",
       "      <th>miscfeature</th>\n",
       "      <th>miscval</th>\n",
       "      <th>mosold</th>\n",
       "      <th>yrsold</th>\n",
       "      <th>saletype</th>\n",
       "      <th>salecondition</th>\n",
       "      <th>saleprice</th>\n",
       "    </tr>\n",
       "  </thead>\n",
       "  <tbody>\n",
       "    <tr>\n",
       "      <th>0</th>\n",
       "      <td>1</td>\n",
       "      <td>60</td>\n",
       "      <td>RL</td>\n",
       "      <td>65.000</td>\n",
       "      <td>8450</td>\n",
       "      <td>Pave</td>\n",
       "      <td>None</td>\n",
       "      <td>Reg</td>\n",
       "      <td>Lvl</td>\n",
       "      <td>AllPub</td>\n",
       "      <td>...</td>\n",
       "      <td>0</td>\n",
       "      <td>None</td>\n",
       "      <td>None</td>\n",
       "      <td>None</td>\n",
       "      <td>0</td>\n",
       "      <td>2</td>\n",
       "      <td>2008</td>\n",
       "      <td>WD</td>\n",
       "      <td>Normal</td>\n",
       "      <td>208500</td>\n",
       "    </tr>\n",
       "    <tr>\n",
       "      <th>1</th>\n",
       "      <td>2</td>\n",
       "      <td>20</td>\n",
       "      <td>RL</td>\n",
       "      <td>80.000</td>\n",
       "      <td>9600</td>\n",
       "      <td>Pave</td>\n",
       "      <td>None</td>\n",
       "      <td>Reg</td>\n",
       "      <td>Lvl</td>\n",
       "      <td>AllPub</td>\n",
       "      <td>...</td>\n",
       "      <td>0</td>\n",
       "      <td>None</td>\n",
       "      <td>None</td>\n",
       "      <td>None</td>\n",
       "      <td>0</td>\n",
       "      <td>5</td>\n",
       "      <td>2007</td>\n",
       "      <td>WD</td>\n",
       "      <td>Normal</td>\n",
       "      <td>181500</td>\n",
       "    </tr>\n",
       "    <tr>\n",
       "      <th>2</th>\n",
       "      <td>3</td>\n",
       "      <td>60</td>\n",
       "      <td>RL</td>\n",
       "      <td>68.000</td>\n",
       "      <td>11250</td>\n",
       "      <td>Pave</td>\n",
       "      <td>None</td>\n",
       "      <td>IR1</td>\n",
       "      <td>Lvl</td>\n",
       "      <td>AllPub</td>\n",
       "      <td>...</td>\n",
       "      <td>0</td>\n",
       "      <td>None</td>\n",
       "      <td>None</td>\n",
       "      <td>None</td>\n",
       "      <td>0</td>\n",
       "      <td>9</td>\n",
       "      <td>2008</td>\n",
       "      <td>WD</td>\n",
       "      <td>Normal</td>\n",
       "      <td>223500</td>\n",
       "    </tr>\n",
       "    <tr>\n",
       "      <th>3</th>\n",
       "      <td>4</td>\n",
       "      <td>70</td>\n",
       "      <td>RL</td>\n",
       "      <td>60.000</td>\n",
       "      <td>9550</td>\n",
       "      <td>Pave</td>\n",
       "      <td>None</td>\n",
       "      <td>IR1</td>\n",
       "      <td>Lvl</td>\n",
       "      <td>AllPub</td>\n",
       "      <td>...</td>\n",
       "      <td>0</td>\n",
       "      <td>None</td>\n",
       "      <td>None</td>\n",
       "      <td>None</td>\n",
       "      <td>0</td>\n",
       "      <td>2</td>\n",
       "      <td>2006</td>\n",
       "      <td>WD</td>\n",
       "      <td>Abnorml</td>\n",
       "      <td>140000</td>\n",
       "    </tr>\n",
       "    <tr>\n",
       "      <th>4</th>\n",
       "      <td>5</td>\n",
       "      <td>60</td>\n",
       "      <td>RL</td>\n",
       "      <td>84.000</td>\n",
       "      <td>14260</td>\n",
       "      <td>Pave</td>\n",
       "      <td>None</td>\n",
       "      <td>IR1</td>\n",
       "      <td>Lvl</td>\n",
       "      <td>AllPub</td>\n",
       "      <td>...</td>\n",
       "      <td>0</td>\n",
       "      <td>None</td>\n",
       "      <td>None</td>\n",
       "      <td>None</td>\n",
       "      <td>0</td>\n",
       "      <td>12</td>\n",
       "      <td>2008</td>\n",
       "      <td>WD</td>\n",
       "      <td>Normal</td>\n",
       "      <td>250000</td>\n",
       "    </tr>\n",
       "  </tbody>\n",
       "</table>\n",
       "<p>5 rows × 81 columns</p>\n",
       "</div>"
      ],
      "text/plain": [
       "   id  mssubclass mszoning  lotfrontage  lotarea street alley lotshape  \\\n",
       "0   1          60       RL       65.000     8450   Pave  None      Reg   \n",
       "1   2          20       RL       80.000     9600   Pave  None      Reg   \n",
       "2   3          60       RL       68.000    11250   Pave  None      IR1   \n",
       "3   4          70       RL       60.000     9550   Pave  None      IR1   \n",
       "4   5          60       RL       84.000    14260   Pave  None      IR1   \n",
       "\n",
       "  landcontour utilities  ... poolarea poolqc fence miscfeature miscval mosold  \\\n",
       "0         Lvl    AllPub  ...        0   None  None        None       0      2   \n",
       "1         Lvl    AllPub  ...        0   None  None        None       0      5   \n",
       "2         Lvl    AllPub  ...        0   None  None        None       0      9   \n",
       "3         Lvl    AllPub  ...        0   None  None        None       0      2   \n",
       "4         Lvl    AllPub  ...        0   None  None        None       0     12   \n",
       "\n",
       "  yrsold  saletype  salecondition  saleprice  \n",
       "0   2008        WD         Normal     208500  \n",
       "1   2007        WD         Normal     181500  \n",
       "2   2008        WD         Normal     223500  \n",
       "3   2006        WD        Abnorml     140000  \n",
       "4   2008        WD         Normal     250000  \n",
       "\n",
       "[5 rows x 81 columns]"
      ]
     },
     "execution_count": 1,
     "metadata": {},
     "output_type": "execute_result"
    }
   ],
   "source": [
    "import matplotlib.pyplot as plt\n",
    "import numpy as np\n",
    "import pandas as pd\n",
    "from sklearn.linear_model import LinearRegression\n",
    "from sklearn.model_selection import train_test_split, cross_val_score\n",
    "from sklearn.metrics import mean_absolute_error\n",
    "import statsmodels.api as sm\n",
    "from statsmodels.tools.eval_measures import mse, rmse\n",
    "from sqlalchemy import create_engine\n",
    "from sklearn.linear_model import LinearRegression, LassoCV, RidgeCV, ElasticNetCV\n",
    "\n",
    "# Display preferences.\n",
    "%matplotlib inline\n",
    "pd.options.display.float_format = '{:.3f}'.format\n",
    "\n",
    "import warnings\n",
    "warnings.filterwarnings(action=\"ignore\")\n",
    "\n",
    "postgres_user = 'dsbc_student'\n",
    "postgres_pw = '7*.8G9QH21'\n",
    "postgres_host = '142.93.121.174'\n",
    "postgres_port = '5432'\n",
    "postgres_db = 'houseprices'\n",
    "\n",
    "engine = create_engine('postgresql://{}:{}@{}:{}/{}'.format(\n",
    "    postgres_user, postgres_pw, postgres_host, postgres_port, postgres_db))\n",
    "houseprices_df = pd.read_sql_query('select * from houseprices',con=engine)\n",
    "\n",
    "# no need for an open connection, as we're only doing a single query\n",
    "engine.dispose()\n",
    "\n",
    "houseprices_df.head()"
   ]
  },
  {
   "cell_type": "markdown",
   "metadata": {},
   "source": [
    "#### Reimplement your model from the previous checkpoint."
   ]
  },
  {
   "cell_type": "code",
   "execution_count": 2,
   "metadata": {},
   "outputs": [],
   "source": [
    "kitchenqual_ohc_df = pd.get_dummies(houseprices_df.kitchenqual, prefix = 'kitchenqual',drop_first=True)\n",
    "houseprices_df = pd.concat([houseprices_df, kitchenqual_ohc_df], axis=1)\n",
    "\n",
    "fullbath_ohc_df = pd.get_dummies(houseprices_df.fullbath, prefix = 'fullbath', drop_first=True)\n",
    "houseprices_df = pd.concat([houseprices_df, fullbath_ohc_df], axis=1)"
   ]
  },
  {
   "cell_type": "code",
   "execution_count": 3,
   "metadata": {},
   "outputs": [
    {
     "name": "stdout",
     "output_type": "stream",
     "text": [
      "<class 'pandas.core.frame.DataFrame'>\n",
      "RangeIndex: 1460 entries, 0 to 1459\n",
      "Data columns (total 87 columns):\n",
      "id                1460 non-null int64\n",
      "mssubclass        1460 non-null int64\n",
      "mszoning          1460 non-null object\n",
      "lotfrontage       1201 non-null float64\n",
      "lotarea           1460 non-null int64\n",
      "street            1460 non-null object\n",
      "alley             91 non-null object\n",
      "lotshape          1460 non-null object\n",
      "landcontour       1460 non-null object\n",
      "utilities         1460 non-null object\n",
      "lotconfig         1460 non-null object\n",
      "landslope         1460 non-null object\n",
      "neighborhood      1460 non-null object\n",
      "condition1        1460 non-null object\n",
      "condition2        1460 non-null object\n",
      "bldgtype          1460 non-null object\n",
      "housestyle        1460 non-null object\n",
      "overallqual       1460 non-null int64\n",
      "overallcond       1460 non-null int64\n",
      "yearbuilt         1460 non-null int64\n",
      "yearremodadd      1460 non-null int64\n",
      "roofstyle         1460 non-null object\n",
      "roofmatl          1460 non-null object\n",
      "exterior1st       1460 non-null object\n",
      "exterior2nd       1460 non-null object\n",
      "masvnrtype        1452 non-null object\n",
      "masvnrarea        1452 non-null float64\n",
      "exterqual         1460 non-null object\n",
      "extercond         1460 non-null object\n",
      "foundation        1460 non-null object\n",
      "bsmtqual          1423 non-null object\n",
      "bsmtcond          1423 non-null object\n",
      "bsmtexposure      1422 non-null object\n",
      "bsmtfintype1      1423 non-null object\n",
      "bsmtfinsf1        1460 non-null int64\n",
      "bsmtfintype2      1422 non-null object\n",
      "bsmtfinsf2        1460 non-null int64\n",
      "bsmtunfsf         1460 non-null int64\n",
      "totalbsmtsf       1460 non-null int64\n",
      "heating           1460 non-null object\n",
      "heatingqc         1460 non-null object\n",
      "centralair        1460 non-null object\n",
      "electrical        1459 non-null object\n",
      "firstflrsf        1460 non-null int64\n",
      "secondflrsf       1460 non-null int64\n",
      "lowqualfinsf      1460 non-null int64\n",
      "grlivarea         1460 non-null int64\n",
      "bsmtfullbath      1460 non-null int64\n",
      "bsmthalfbath      1460 non-null int64\n",
      "fullbath          1460 non-null int64\n",
      "halfbath          1460 non-null int64\n",
      "bedroomabvgr      1460 non-null int64\n",
      "kitchenabvgr      1460 non-null int64\n",
      "kitchenqual       1460 non-null object\n",
      "totrmsabvgrd      1460 non-null int64\n",
      "functional        1460 non-null object\n",
      "fireplaces        1460 non-null int64\n",
      "fireplacequ       770 non-null object\n",
      "garagetype        1379 non-null object\n",
      "garageyrblt       1379 non-null float64\n",
      "garagefinish      1379 non-null object\n",
      "garagecars        1460 non-null int64\n",
      "garagearea        1460 non-null int64\n",
      "garagequal        1379 non-null object\n",
      "garagecond        1379 non-null object\n",
      "paveddrive        1460 non-null object\n",
      "wooddecksf        1460 non-null int64\n",
      "openporchsf       1460 non-null int64\n",
      "enclosedporch     1460 non-null int64\n",
      "threessnporch     1460 non-null int64\n",
      "screenporch       1460 non-null int64\n",
      "poolarea          1460 non-null int64\n",
      "poolqc            7 non-null object\n",
      "fence             281 non-null object\n",
      "miscfeature       54 non-null object\n",
      "miscval           1460 non-null int64\n",
      "mosold            1460 non-null int64\n",
      "yrsold            1460 non-null int64\n",
      "saletype          1460 non-null object\n",
      "salecondition     1460 non-null object\n",
      "saleprice         1460 non-null int64\n",
      "kitchenqual_Fa    1460 non-null uint8\n",
      "kitchenqual_Gd    1460 non-null uint8\n",
      "kitchenqual_TA    1460 non-null uint8\n",
      "fullbath_1        1460 non-null uint8\n",
      "fullbath_2        1460 non-null uint8\n",
      "fullbath_3        1460 non-null uint8\n",
      "dtypes: float64(3), int64(35), object(43), uint8(6)\n",
      "memory usage: 932.5+ KB\n"
     ]
    }
   ],
   "source": [
    "houseprices_df.info()"
   ]
  },
  {
   "cell_type": "markdown",
   "metadata": {},
   "source": [
    "#### Split your data into train and test sets"
   ]
  },
  {
   "cell_type": "code",
   "execution_count": 4,
   "metadata": {},
   "outputs": [],
   "source": [
    "#M4\n",
    "Y = houseprices_df['saleprice']\n",
    "\n",
    "X = houseprices_df[['overallqual', 'grlivarea', 'garagecars',\n",
    "                    'totalbsmtsf', 'yearbuilt', 'fullbath_1',\n",
    "                    'kitchenqual_TA', 'yearremodadd', 'fullbath_2',\n",
    "                    'kitchenqual_Gd', 'kitchenqual_Fa']]\n",
    "\n",
    "alphas = [np.power(10.0,p) for p in np.arange(-10,40,1)]"
   ]
  },
  {
   "cell_type": "code",
   "execution_count": 5,
   "metadata": {},
   "outputs": [
    {
     "name": "stdout",
     "output_type": "stream",
     "text": [
      "The number of observations in training set is 1168\n",
      "The number of observations in test set is 292\n"
     ]
    }
   ],
   "source": [
    "X_train, X_test, y_train, y_test = train_test_split(X, Y, test_size = 0.2, random_state = 465)\n",
    "\n",
    "print('The number of observations in training set is {}'.format(X_train.shape[0]))\n",
    "print('The number of observations in test set is {}'.format(X_test.shape[0]))"
   ]
  },
  {
   "cell_type": "markdown",
   "metadata": {},
   "source": [
    "#### Try OLS, Lasso, Ridge, and ElasticNet regression using the same model specification. \n",
    "This time, you need to do k-fold cross-validation to choose the best hyperparameter values for your models. Scikit-learn has **RidgeCV, LassoCV, and ElasticNetCV** that you can utilize to do this. \n",
    "\n",
    "Which model is the best? Why?"
   ]
  },
  {
   "cell_type": "code",
   "execution_count": 6,
   "metadata": {},
   "outputs": [
    {
     "name": "stdout",
     "output_type": "stream",
     "text": [
      "R-squared of the model in the training set is: 0.7952791638781295\n",
      "-----Test set statistics-----\n",
      "R-squared of the model in the test set is: 0.8207507273524226\n",
      "Mean absolute error of the prediction is: 22952.208191210604\n",
      "Mean squared error of the prediction is: 1203426572.9449835\n",
      "Root mean squared error of the prediction is: 34690.43921522158\n",
      "Mean absolute percentage error of the prediction is: 13.641610774304322\n"
     ]
    }
   ],
   "source": [
    "# We fit an OLS model using sklearn (per checkpoint ex & sample)\n",
    "lrm = LinearRegression()\n",
    "lrm.fit(X_train, y_train)\n",
    "\n",
    "\n",
    "# We are making predictions here\n",
    "y_preds_train = lrm.predict(X_train)\n",
    "y_preds_test = lrm.predict(X_test)\n",
    "\n",
    "print('R-squared of the model in the training set is: {}'.format(lrm.score(X_train, y_train)))\n",
    "print('-----Test set statistics-----')\n",
    "print('R-squared of the model in the test set is: {}'.format(lrm.score(X_test, y_test)))\n",
    "print('Mean absolute error of the prediction is: {}'.format(mean_absolute_error(y_test, y_preds_test)))\n",
    "print('Mean squared error of the prediction is: {}'.format(mse(y_test, y_preds_test)))\n",
    "print('Root mean squared error of the prediction is: {}'.format(rmse(y_test, y_preds_test)))\n",
    "print('Mean absolute percentage error of the prediction is: {}'.format(np.mean(np.abs((y_test - y_preds_test) / y_test)) * 100))"
   ]
  },
  {
   "cell_type": "code",
   "execution_count": null,
   "metadata": {},
   "outputs": [],
   "source": []
  },
  {
   "cell_type": "markdown",
   "metadata": {},
   "source": [
    "#### LassoCV model"
   ]
  },
  {
   "cell_type": "code",
   "execution_count": 8,
   "metadata": {},
   "outputs": [
    {
     "name": "stdout",
     "output_type": "stream",
     "text": [
      "Best alpha value is: 1.0\n",
      "R-squared of the model on the training set is: 0.7952790981593701\n",
      "-----Test set statistics-----\n",
      "R-squared of the model on the test set is: 0.8207254916459628\n",
      "Mean absolute error of the prediction is: 22953.359552827376\n",
      "Mean squared error of the prediction is: 1203595998.0103812\n",
      "Root mean squared error of the prediction is: 34692.881085467394\n",
      "Mean absolute percentage error of the prediction is: 13.642754318267764\n"
     ]
    }
   ],
   "source": [
    "from sklearn.linear_model import LassoCV\n",
    "\n",
    "lasso_cv = LassoCV(alphas=alphas, cv=5) \n",
    "lasso_cv.fit(X_train, y_train)\n",
    "\n",
    "# We are making predictions here\n",
    "y_preds_train = lasso_cv.predict(X_train)\n",
    "y_preds_test = lasso_cv.predict(X_test)\n",
    "\n",
    "print('Best alpha value is: {}'.format(lasso_cv.alpha_))\n",
    "print('R-squared of the model on the training set is: {}'.format(lasso_cv.score(X_train, y_train)))\n",
    "print('-----Test set statistics-----')\n",
    "print('R-squared of the model on the test set is: {}'.format(lasso_cv.score(X_test, y_test)))\n",
    "print('Mean absolute error of the prediction is: {}'.format(mean_absolute_error(y_test, y_preds_test)))\n",
    "print('Mean squared error of the prediction is: {}'.format(mse(y_test, y_preds_test)))\n",
    "print('Root mean squared error of the prediction is: {}'.format(rmse(y_test, y_preds_test)))\n",
    "print('Mean absolute percentage error of the prediction is: {}'.format(np.mean(np.abs((y_test - y_preds_test) / y_test)) * 100))"
   ]
  },
  {
   "cell_type": "code",
   "execution_count": null,
   "metadata": {},
   "outputs": [],
   "source": []
  },
  {
   "cell_type": "markdown",
   "metadata": {},
   "source": [
    "#### RidgeCV model"
   ]
  },
  {
   "cell_type": "code",
   "execution_count": 9,
   "metadata": {},
   "outputs": [
    {
     "name": "stdout",
     "output_type": "stream",
     "text": [
      "Best alpha value is: 1.0\n",
      "R-squared of the model on the training set is: 0.7952090212505015\n",
      "-----Test set statistics-----\n",
      "R-squared of the model on the test set is: 0.8198134308279984\n",
      "Mean absolute error of the prediction is: 22998.93780891314\n",
      "Mean squared error of the prediction is: 1209719304.4443116\n",
      "Root mean squared error of the prediction is: 34781.019312899836\n",
      "Mean absolute percentage error of the prediction is: 13.683211777367857\n"
     ]
    }
   ],
   "source": [
    "from sklearn.linear_model import RidgeCV\n",
    "\n",
    "# Fitting a ridge regression model. Alpha is the regularization\n",
    "# parameter (usually called lambda). As alpha gets larger, parameter\n",
    "# shrinkage grows more pronounced.\n",
    "ridge_cv = RidgeCV(alphas=alphas, cv=5)\n",
    "ridge_cv.fit(X_train, y_train)\n",
    "\n",
    "# We are making predictions here\n",
    "y_preds_train = ridge_cv.predict(X_train)\n",
    "y_preds_test = ridge_cv.predict(X_test)\n",
    "\n",
    "print('Best alpha value is: {}'.format(ridge_cv.alpha_))\n",
    "print('R-squared of the model on the training set is: {}'.format(ridge_cv.score(X_train, y_train)))\n",
    "print('-----Test set statistics-----')\n",
    "print('R-squared of the model on the test set is: {}'.format(ridge_cv.score(X_test, y_test)))\n",
    "print('Mean absolute error of the prediction is: {}'.format(mean_absolute_error(y_test, y_preds_test)))\n",
    "print('Mean squared error of the prediction is: {}'.format(mse(y_test, y_preds_test)))\n",
    "print('Root mean squared error of the prediction is: {}'.format(rmse(y_test, y_preds_test)))\n",
    "print('Mean absolute percentage error of the prediction is: {}'.format(np.mean(np.abs((y_test - y_preds_test) / y_test)) * 100))"
   ]
  },
  {
   "cell_type": "code",
   "execution_count": null,
   "metadata": {},
   "outputs": [],
   "source": []
  },
  {
   "cell_type": "markdown",
   "metadata": {},
   "source": [
    "#### ElasticNetCV model"
   ]
  },
  {
   "cell_type": "code",
   "execution_count": 12,
   "metadata": {
    "scrolled": true
   },
   "outputs": [
    {
     "name": "stdout",
     "output_type": "stream",
     "text": [
      "Best alpha value is: 0.001\n",
      "R-squared of the model on the training set is: 0.7952537565862527\n",
      "-----Test set statistics-----\n",
      "R-squared of the model on the test set is: 0.8201999615125373\n",
      "Mean absolute error of the prediction is: 22980.106983842867\n",
      "Mean squared error of the prediction is: 1207124251.8108363\n",
      "Root mean squared error of the prediction is: 34743.69369843737\n",
      "Mean absolute percentage error of the prediction is: 13.666495825608916\n"
     ]
    }
   ],
   "source": [
    "from sklearn.linear_model import ElasticNetCV\n",
    "\n",
    "elastic_cv = ElasticNetCV(alphas=alphas, cv=5) \n",
    "elastic_cv.fit(X_train, y_train)\n",
    "\n",
    "# predictions \n",
    "y_preds_train = elastic_cv.predict(X_train)\n",
    "y_preds_test = elastic_cv.predict(X_test)\n",
    "\n",
    "print('Best alpha value is: {}'.format(elastic_cv.alpha_))\n",
    "print('R-squared of the model on the training set is: {}'.format(elastic_cv.score(X_train, y_train)))\n",
    "print('-----Test set statistics-----')\n",
    "print('R-squared of the model on the test set is: {}'.format(elastic_cv.score(X_test, y_test)))\n",
    "print('Mean absolute error of the prediction is: {}'.format(mean_absolute_error(y_test, y_preds_test)))\n",
    "print('Mean squared error of the prediction is: {}'.format(mse(y_test, y_preds_test)))\n",
    "print('Root mean squared error of the prediction is: {}'.format(rmse(y_test, y_preds_test)))\n",
    "print('Mean absolute percentage error of the prediction is: {}'.format(np.mean(np.abs((y_test - y_preds_test) / y_test)) * 100))"
   ]
  },
  {
   "cell_type": "code",
   "execution_count": null,
   "metadata": {},
   "outputs": [],
   "source": []
  },
  {
   "cell_type": "markdown",
   "metadata": {},
   "source": [
    "#### Which model is the best? Why?"
   ]
  },
  {
   "cell_type": "markdown",
   "metadata": {},
   "source": [
    "**M4_train R-sq:** \n",
    "linear:  0.7952791638781295 #best\n",
    "LassoCV: 0.7952790981593701\n",
    "RidgeCV: 0.7952090212505015\n",
    "ElasticNetCV: 0.7952537565862527\n",
    "\n",
    "\n",
    "**M4_test R-sq:**\n",
    "linear R-sq: 0.8207507273524226 #best\n",
    "LassoCV: 0.8207254916459628\n",
    "RidgeCV: 0.8198134308279984\n",
    "ElasticNetCV: 0.8201999615125373\n",
    "\n",
    "**MAE:** \n",
    "linear: 22952.208191210604 #best\n",
    "LassoCV: 22953.359552827376\n",
    "RidgeCV: 22998.93780891314\n",
    "ElasticNetCV: 22980.106983842867\n",
    "\n",
    "**MSE:** \n",
    "linear: 1203426572.9449835 #best\n",
    "LassoCV: 1203595998.0103812\n",
    "RidgeCV: 1209719304.4443116\n",
    "ElasticNetCV:  1207124251.8108363\n",
    "\n",
    "**RMSE:** \n",
    "linear: 34690.43921522158 #best\n",
    "LassoCV: 34692.881085467394\n",
    "RidgeCV: 34781.019312899836\n",
    "ElasticNetCV: 34743.69369843737\n",
    "\n",
    "**MAPE:** \n",
    "linear: 13.641610774304322 #best\n",
    "LassoCV: 13.642754318267764\n",
    "RidgeCV: 13.683211777367857\n",
    "ElasticNetCV: 13.666495825608916\n"
   ]
  },
  {
   "cell_type": "markdown",
   "metadata": {},
   "source": [
    "The OLS model performs the best, with the highest R-sq, Adj R-sq, and the lowest MAE, MSE, RMSE, and MAPE values. "
   ]
  }
 ],
 "metadata": {
  "kernelspec": {
   "display_name": "Python 3",
   "language": "python",
   "name": "python3"
  },
  "language_info": {
   "codemirror_mode": {
    "name": "ipython",
    "version": 3
   },
   "file_extension": ".py",
   "mimetype": "text/x-python",
   "name": "python",
   "nbconvert_exporter": "python",
   "pygments_lexer": "ipython3",
   "version": "3.7.3"
  }
 },
 "nbformat": 4,
 "nbformat_minor": 2
}
